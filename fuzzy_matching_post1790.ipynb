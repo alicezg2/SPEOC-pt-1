{
 "cells": [
  {
   "cell_type": "markdown",
   "metadata": {},
   "source": [
    "<h3> Data Cleaning </h3>"
   ]
  },
  {
   "cell_type": "code",
   "execution_count": 3,
   "metadata": {},
   "outputs": [],
   "source": [
    "import numpy as np\n",
    "import pandas as pd\n",
    "import rapidfuzz\n",
    "from rapidfuzz import process"
   ]
  },
  {
   "cell_type": "code",
   "execution_count": 4,
   "metadata": {},
   "outputs": [],
   "source": [
    "#importing cleaned delegate names\n",
    "delegates = pd.read_csv(\"Data/Delegates/cleaned/constitutional_convention_delegates_cleaned.csv\").drop('Unnamed: 0', axis = 1)\n",
    "state_delegates = pd.read_csv(\"Data/Delegates/cleaned/State_Delegates_cleaned.csv\").drop('Unnamed: 0', axis = 1)"
   ]
  },
  {
   "cell_type": "markdown",
   "metadata": {},
   "source": [
    "# Algorithm for Name Matching"
   ]
  },
  {
   "cell_type": "markdown",
   "metadata": {},
   "source": [
    "1. Run fuzzy match with score threshold of 80\n",
    "2. Get unique set of names for each pair, get rid of ???\n",
    "    1. If one word for either, remove match\n",
    "    2. Else run word comparison - if there are min(n, m) matches (above 90) then keep match else discard\n",
    "3. Go through manually"
   ]
  },
  {
   "cell_type": "code",
   "execution_count": 5,
   "metadata": {},
   "outputs": [],
   "source": [
    "def fuzzy_merge(lst1, lst2, threshold=85, limit = 100):\n",
    "    \"\"\"\n",
    "    :param df_1: the left list to join\n",
    "    :param df_2: the right list to join\n",
    "    :param threshold: how close the matches should be to return a match, based on Levenshtein distance\n",
    "    :param limit: the amount of matches that will get returned, these are sorted high to low\n",
    "    :return: dataframe with boths keys and matches\n",
    "    \"\"\"\n",
    "    \n",
    "    delegates = pd.Series([x for x in lst1.unique() if not pd.isnull(x)])\n",
    "    possible = [x for x in lst2.unique().tolist() if not pd.isnull(x)]\n",
    "    \n",
    "    #get matches\n",
    "    #process.extract uses a combination of all four fuzzywuzzy scores\n",
    "    matches = delegates.apply(lambda x: process.extract(x, possible, limit=limit))\n",
    "    \n",
    "    match_df = pd.DataFrame(columns = ['Delegates', 'Loan Matches'])\n",
    "    \n",
    "    for delegate, matchset in zip(delegates, matches):\n",
    "        matchset_thres = [name for name in matchset if name[1] >= threshold]\n",
    "        if len(matchset_thres) == 0:\n",
    "            add_df = pd.DataFrame(data = {'Delegates': [delegate], 'Loan Matches': [\"\"], 'Scores': [0]})\n",
    "            match_df = pd.concat([match_df, add_df])\n",
    "        else:\n",
    "            delegate_lst = [delegate] * len(matchset_thres)\n",
    "            add_df = pd.DataFrame(data = {'Delegates': delegate_lst, \n",
    "                                          'Loan Matches': [x[0] for x in matchset_thres],\n",
    "                                          'Scores': [x[1] for x in matchset_thres]})\n",
    "            match_df = pd.concat([match_df, add_df])\n",
    "\n",
    "    return match_df"
   ]
  },
  {
   "cell_type": "code",
   "execution_count": 6,
   "metadata": {},
   "outputs": [],
   "source": [
    "#function for performing the second step of the match\n",
    "def matchFunction(lst1, lst2, score = 90):\n",
    "    #check if our matches are actually min 2 words each\n",
    "    #make sure our match is because the individual are similar, not because the phrase or one word in the phrase is similar\n",
    "    #lst1 = list(pd.Series(lst1).unique())\n",
    "    #lst2 = list(pd.Series(lst2).unique())\n",
    "    threshold = min(len(lst1), len(lst2))\n",
    "    matches = 0\n",
    "    nomatch = []\n",
    "    i = 0\n",
    "    for wd1 in lst1:\n",
    "        #modifying which words we compare - dont want to compare first in lst1 with last in lst2\n",
    "        for wd2 in lst2:\n",
    "            if wd1 not in nomatch and process.extract(wd1, [wd2])[0][1] > score:\n",
    "                matches+=1\n",
    "                nomatch.append(wd1)\n",
    "        i+=1\n",
    "    return matches >= threshold"
   ]
  },
  {
   "cell_type": "markdown",
   "metadata": {},
   "source": [
    "## Matching CT Data"
   ]
  },
  {
   "cell_type": "markdown",
   "metadata": {},
   "source": [
    "### Matching on Constitutional Convention"
   ]
  },
  {
   "cell_type": "code",
   "execution_count": 7,
   "metadata": {},
   "outputs": [],
   "source": [
    "def produceMatches(delegates, debt, delegate_names, debt_names):\n",
    "    initial = True\n",
    "    join_df = pd.DataFrame()\n",
    "    for del_name in delegate_names:\n",
    "        for debt_name in debt_names:\n",
    "            if initial:\n",
    "                join_df = fuzzy_merge(delegates[del_name], debt[debt_name])\n",
    "                initial = False\n",
    "            else:\n",
    "                add_df = fuzzy_merge(delegates[del_name], debt[debt_name])\n",
    "                join_df = pd.concat([join_df, add_df])\n",
    "    join_df = join_df.drop_duplicates().reset_index(drop = True)\n",
    "    join_df = join_df[join_df['Scores'].apply(lambda x: x != 0)]\n",
    "    join_df = join_df[join_df['Loan Matches'].apply(lambda x: not pd.isnull(x))]    \n",
    "    \n",
    "    join_df_p2 = join_df[join_df['Loan Matches'].apply(lambda x: len(list(set(x.replace(\"??\", \"\").strip().split(\" \"))))>=2)]\n",
    "    join_df_p2_final = join_df_p2[[matchFunction(x.split(\" \"), y.split(\" \")) for x, y in zip(join_df_p2['Delegates'], join_df_p2['Loan Matches'])]]\n",
    "    #select only the highest scoring loan match name pairing \n",
    "    join_df_p2_final.sort_values(by = 'Scores', ascending = False, inplace = True)\n",
    "    join_df_p2_final_ind = join_df_p2_final[['Delegates','Loan Matches']].drop_duplicates().index\n",
    "    join_df_p2_final = join_df_p2_final.loc[join_df_p2_final_ind]\n",
    "    \n",
    "    return join_df_p2_final"
   ]
  },
  {
   "cell_type": "code",
   "execution_count": 8,
   "metadata": {},
   "outputs": [],
   "source": [
    "#prepare loan dataset\n",
    "CT_ASD = pd.read_excel(\"Data/Post1790/CT/CT_post1790_ASD_ledger.xlsx\", header = 13, usecols = 'H, I, X, Y, AN, AO')\n",
    "CT_ASD['full name 1'] = CT_ASD['First Name'] + \" \" + CT_ASD['Last Name']\n",
    "CT_ASD['full name 2'] = CT_ASD['First Name.1'] + \" \" + CT_ASD['Last Name.1']\n",
    "CT_ASD['full name 3'] = CT_ASD['First Name.2'] + \" \" + CT_ASD['Last Name.2']\n",
    "CT_ASD['full name'] = [y if pd.isnull(x) else x for x, y in zip(CT_ASD['full name 1'], CT_ASD['full name 2'])]\n",
    "CT_ASD['full name'] = [y if pd.isnull(x) else x for x, y in zip(CT_ASD['full name'], CT_ASD['full name 3'])]"
   ]
  },
  {
   "cell_type": "code",
   "execution_count": 9,
   "metadata": {},
   "outputs": [
    {
     "data": {
      "text/html": [
       "<div>\n",
       "<style scoped>\n",
       "    .dataframe tbody tr th:only-of-type {\n",
       "        vertical-align: middle;\n",
       "    }\n",
       "\n",
       "    .dataframe tbody tr th {\n",
       "        vertical-align: top;\n",
       "    }\n",
       "\n",
       "    .dataframe thead th {\n",
       "        text-align: right;\n",
       "    }\n",
       "</style>\n",
       "<table border=\"1\" class=\"dataframe\">\n",
       "  <thead>\n",
       "    <tr style=\"text-align: right;\">\n",
       "      <th></th>\n",
       "      <th>First Name</th>\n",
       "      <th>Last Name</th>\n",
       "      <th>First Name.1</th>\n",
       "      <th>Last Name.1</th>\n",
       "      <th>First Name.2</th>\n",
       "      <th>Last Name.2</th>\n",
       "      <th>full name 1</th>\n",
       "      <th>full name 2</th>\n",
       "      <th>full name 3</th>\n",
       "      <th>full name</th>\n",
       "    </tr>\n",
       "  </thead>\n",
       "  <tbody>\n",
       "    <tr>\n",
       "      <td>0</td>\n",
       "      <td>Hezekiah</td>\n",
       "      <td>Merrill</td>\n",
       "      <td>Hezekiah</td>\n",
       "      <td>Merrill</td>\n",
       "      <td>Hezekiah</td>\n",
       "      <td>Merrill</td>\n",
       "      <td>Hezekiah Merrill</td>\n",
       "      <td>Hezekiah Merrill</td>\n",
       "      <td>Hezekiah Merrill</td>\n",
       "      <td>Hezekiah Merrill</td>\n",
       "    </tr>\n",
       "    <tr>\n",
       "      <td>1</td>\n",
       "      <td>Hezekiah</td>\n",
       "      <td>Merrill</td>\n",
       "      <td>Hezekiah</td>\n",
       "      <td>Merrill</td>\n",
       "      <td>Hezekiah</td>\n",
       "      <td>Merrill</td>\n",
       "      <td>Hezekiah Merrill</td>\n",
       "      <td>Hezekiah Merrill</td>\n",
       "      <td>Hezekiah Merrill</td>\n",
       "      <td>Hezekiah Merrill</td>\n",
       "    </tr>\n",
       "    <tr>\n",
       "      <td>2</td>\n",
       "      <td>Hezekiah</td>\n",
       "      <td>Merrill</td>\n",
       "      <td>Hezekiah</td>\n",
       "      <td>Merrill</td>\n",
       "      <td>Hezekiah</td>\n",
       "      <td>Merrill</td>\n",
       "      <td>Hezekiah Merrill</td>\n",
       "      <td>Hezekiah Merrill</td>\n",
       "      <td>Hezekiah Merrill</td>\n",
       "      <td>Hezekiah Merrill</td>\n",
       "    </tr>\n",
       "    <tr>\n",
       "      <td>3</td>\n",
       "      <td>Hezekiah</td>\n",
       "      <td>Merrill</td>\n",
       "      <td>Hezekiah</td>\n",
       "      <td>Merrill</td>\n",
       "      <td>Hezekiah</td>\n",
       "      <td>Merrill</td>\n",
       "      <td>Hezekiah Merrill</td>\n",
       "      <td>Hezekiah Merrill</td>\n",
       "      <td>Hezekiah Merrill</td>\n",
       "      <td>Hezekiah Merrill</td>\n",
       "    </tr>\n",
       "    <tr>\n",
       "      <td>4</td>\n",
       "      <td>Hezekiah</td>\n",
       "      <td>Merrill</td>\n",
       "      <td>Hezekiah</td>\n",
       "      <td>Merrill</td>\n",
       "      <td>Hezekiah</td>\n",
       "      <td>Merrill</td>\n",
       "      <td>Hezekiah Merrill</td>\n",
       "      <td>Hezekiah Merrill</td>\n",
       "      <td>Hezekiah Merrill</td>\n",
       "      <td>Hezekiah Merrill</td>\n",
       "    </tr>\n",
       "    <tr>\n",
       "      <td>...</td>\n",
       "      <td>...</td>\n",
       "      <td>...</td>\n",
       "      <td>...</td>\n",
       "      <td>...</td>\n",
       "      <td>...</td>\n",
       "      <td>...</td>\n",
       "      <td>...</td>\n",
       "      <td>...</td>\n",
       "      <td>...</td>\n",
       "      <td>...</td>\n",
       "    </tr>\n",
       "    <tr>\n",
       "      <td>946</td>\n",
       "      <td>NaN</td>\n",
       "      <td>NaN</td>\n",
       "      <td>Zachariah</td>\n",
       "      <td>Huntington</td>\n",
       "      <td>NaN</td>\n",
       "      <td>NaN</td>\n",
       "      <td>NaN</td>\n",
       "      <td>Zachariah Huntington</td>\n",
       "      <td>NaN</td>\n",
       "      <td>Zachariah Huntington</td>\n",
       "    </tr>\n",
       "    <tr>\n",
       "      <td>947</td>\n",
       "      <td>Elisha</td>\n",
       "      <td>Merrow</td>\n",
       "      <td>Elisha</td>\n",
       "      <td>Merrow</td>\n",
       "      <td>Elisha</td>\n",
       "      <td>Merrow</td>\n",
       "      <td>Elisha Merrow</td>\n",
       "      <td>Elisha Merrow</td>\n",
       "      <td>Elisha Merrow</td>\n",
       "      <td>Elisha Merrow</td>\n",
       "    </tr>\n",
       "    <tr>\n",
       "      <td>948</td>\n",
       "      <td>Henry</td>\n",
       "      <td>Champion II</td>\n",
       "      <td>Henry</td>\n",
       "      <td>Champion II</td>\n",
       "      <td>Henry</td>\n",
       "      <td>Champion II</td>\n",
       "      <td>Henry Champion II</td>\n",
       "      <td>Henry Champion II</td>\n",
       "      <td>Henry Champion II</td>\n",
       "      <td>Henry Champion II</td>\n",
       "    </tr>\n",
       "    <tr>\n",
       "      <td>949</td>\n",
       "      <td>NaN</td>\n",
       "      <td>NaN</td>\n",
       "      <td>NaN</td>\n",
       "      <td>NaN</td>\n",
       "      <td>NaN</td>\n",
       "      <td>NaN</td>\n",
       "      <td>NaN</td>\n",
       "      <td>NaN</td>\n",
       "      <td>NaN</td>\n",
       "      <td>NaN</td>\n",
       "    </tr>\n",
       "    <tr>\n",
       "      <td>950</td>\n",
       "      <td>NaN</td>\n",
       "      <td>NaN</td>\n",
       "      <td>NaN</td>\n",
       "      <td>NaN</td>\n",
       "      <td>NaN</td>\n",
       "      <td>NaN</td>\n",
       "      <td>NaN</td>\n",
       "      <td>NaN</td>\n",
       "      <td>NaN</td>\n",
       "      <td>NaN</td>\n",
       "    </tr>\n",
       "  </tbody>\n",
       "</table>\n",
       "<p>951 rows × 10 columns</p>\n",
       "</div>"
      ],
      "text/plain": [
       "    First Name    Last Name First Name.1  Last Name.1 First Name.2  \\\n",
       "0     Hezekiah      Merrill     Hezekiah      Merrill     Hezekiah   \n",
       "1     Hezekiah      Merrill     Hezekiah      Merrill     Hezekiah   \n",
       "2     Hezekiah      Merrill     Hezekiah      Merrill     Hezekiah   \n",
       "3     Hezekiah      Merrill     Hezekiah      Merrill     Hezekiah   \n",
       "4     Hezekiah      Merrill     Hezekiah      Merrill     Hezekiah   \n",
       "..         ...          ...          ...          ...          ...   \n",
       "946        NaN          NaN    Zachariah   Huntington          NaN   \n",
       "947     Elisha       Merrow       Elisha       Merrow       Elisha   \n",
       "948      Henry  Champion II        Henry  Champion II        Henry   \n",
       "949        NaN          NaN          NaN          NaN          NaN   \n",
       "950        NaN          NaN          NaN          NaN          NaN   \n",
       "\n",
       "     Last Name.2        full name 1           full name 2        full name 3  \\\n",
       "0        Merrill   Hezekiah Merrill      Hezekiah Merrill   Hezekiah Merrill   \n",
       "1        Merrill   Hezekiah Merrill      Hezekiah Merrill   Hezekiah Merrill   \n",
       "2        Merrill   Hezekiah Merrill      Hezekiah Merrill   Hezekiah Merrill   \n",
       "3        Merrill   Hezekiah Merrill      Hezekiah Merrill   Hezekiah Merrill   \n",
       "4        Merrill   Hezekiah Merrill      Hezekiah Merrill   Hezekiah Merrill   \n",
       "..           ...                ...                   ...                ...   \n",
       "946          NaN                NaN  Zachariah Huntington                NaN   \n",
       "947       Merrow      Elisha Merrow         Elisha Merrow      Elisha Merrow   \n",
       "948  Champion II  Henry Champion II     Henry Champion II  Henry Champion II   \n",
       "949          NaN                NaN                   NaN                NaN   \n",
       "950          NaN                NaN                   NaN                NaN   \n",
       "\n",
       "                full name  \n",
       "0        Hezekiah Merrill  \n",
       "1        Hezekiah Merrill  \n",
       "2        Hezekiah Merrill  \n",
       "3        Hezekiah Merrill  \n",
       "4        Hezekiah Merrill  \n",
       "..                    ...  \n",
       "946  Zachariah Huntington  \n",
       "947         Elisha Merrow  \n",
       "948     Henry Champion II  \n",
       "949                   NaN  \n",
       "950                   NaN  \n",
       "\n",
       "[951 rows x 10 columns]"
      ]
     },
     "execution_count": 9,
     "metadata": {},
     "output_type": "execute_result"
    }
   ],
   "source": [
    "CT_ASD"
   ]
  },
  {
   "cell_type": "code",
   "execution_count": 7,
   "metadata": {
    "collapsed": true,
    "jupyter": {
     "outputs_hidden": true
    }
   },
   "outputs": [
    {
     "name": "stderr",
     "output_type": "stream",
     "text": [
      "/opt/anaconda3/lib/python3.7/site-packages/ipykernel_launcher.py:29: FutureWarning: Sorting because non-concatenation axis is not aligned. A future version\n",
      "of pandas will change to not sort by default.\n",
      "\n",
      "To accept the future behavior, pass 'sort=False'.\n",
      "\n",
      "To retain the current behavior and silence the warning, pass 'sort=True'.\n",
      "\n",
      "/opt/anaconda3/lib/python3.7/site-packages/ipykernel_launcher.py:19: SettingWithCopyWarning: \n",
      "A value is trying to be set on a copy of a slice from a DataFrame\n",
      "\n",
      "See the caveats in the documentation: http://pandas.pydata.org/pandas-docs/stable/user_guide/indexing.html#returning-a-view-versus-a-copy\n"
     ]
    }
   ],
   "source": [
    "#name matching for constitutional convention and state convention to debt list\n",
    "CT_ASD_const = produceMatches(delegates, CT_ASD, delegate_names = ['full name 1', 'full name 2'], debt_names = ['full name'])\n",
    "CT_ASD_state = produceMatches(state_delegates, CT_ASD, delegate_names = ['full name 1'], debt_names = ['full name'])"
   ]
  },
  {
   "cell_type": "code",
   "execution_count": null,
   "metadata": {},
   "outputs": [],
   "source": [
    "#separate a string that contains two names into a list of two names\n",
    "def parseNames(x):\n",
    "    #replace words that don't have meaning\n",
    "    x = x.replace(\"and Co\", \"\").replace(\"and co\", \"\").replace(\"and Others\" ,\"\")\n",
    "    x = x.replace(\"and others\", \"\").replace(\"and Son\", \"\").replace(\"and Sons\", \"\")\n",
    "    x = x.replace(\"and Brothers\", \"\").strip()\n",
    "    #string preprocessing\n",
    "    namelst = x.split(\" and \")\n",
    "    namelst = [x.strip() for x in namelst if x.strip() != \"\"]\n",
    "    if len(namelst) > 1:\n",
    "        wd1len = len(namelst[0].split(\" \"))\n",
    "        wd2len = len(namelst[1].split(\" \"))\n",
    "        #add last name\n",
    "        if wd1len == 1 and wd2len != 1:\n",
    "            namelst[0] = namelst[0] + \" \" + namelst[1].split(\" \")[-1]\n",
    "    return namelst"
   ]
  },
  {
   "cell_type": "code",
   "execution_count": 8,
   "metadata": {},
   "outputs": [],
   "source": [
    "#prepare loan dataset\n",
    "CT_CD = pd.read_excel(\"Data/Post1790/CT/CT_post1790_CD_ledger.xlsx\", header = 13, usecols = 'H, I, X, Y, AN, AO')\n",
    "CT_CD['full name 1'] = CT_CD['First Name'] + \" \" + CT_CD['Last Name']\n",
    "CT_CD['full name 2'] = CT_CD['First Name.1'] + \" \" + CT_CD['Last Name.1']\n",
    "CT_CD['full name 3'] = CT_CD['First Name.2'] + \" \" + CT_CD['Last Name.2']\n",
    "CT_CD['full name'] = [y if pd.isnull(x) else x for x, y in zip(CT_CD['full name 1'], CT_CD['full name 2'])]\n",
    "CT_CD['full name'] = [y if pd.isnull(x) else x for x, y in zip(CT_CD['full name'], CT_CD['full name 3'])]"
   ]
  },
  {
   "cell_type": "code",
   "execution_count": 9,
   "metadata": {
    "collapsed": true,
    "jupyter": {
     "outputs_hidden": true
    }
   },
   "outputs": [
    {
     "name": "stderr",
     "output_type": "stream",
     "text": [
      "/opt/anaconda3/lib/python3.7/site-packages/ipykernel_launcher.py:29: FutureWarning: Sorting because non-concatenation axis is not aligned. A future version\n",
      "of pandas will change to not sort by default.\n",
      "\n",
      "To accept the future behavior, pass 'sort=False'.\n",
      "\n",
      "To retain the current behavior and silence the warning, pass 'sort=True'.\n",
      "\n",
      "/opt/anaconda3/lib/python3.7/site-packages/ipykernel_launcher.py:23: FutureWarning: Sorting because non-concatenation axis is not aligned. A future version\n",
      "of pandas will change to not sort by default.\n",
      "\n",
      "To accept the future behavior, pass 'sort=False'.\n",
      "\n",
      "To retain the current behavior and silence the warning, pass 'sort=True'.\n",
      "\n",
      "/opt/anaconda3/lib/python3.7/site-packages/ipykernel_launcher.py:19: SettingWithCopyWarning: \n",
      "A value is trying to be set on a copy of a slice from a DataFrame\n",
      "\n",
      "See the caveats in the documentation: http://pandas.pydata.org/pandas-docs/stable/user_guide/indexing.html#returning-a-view-versus-a-copy\n"
     ]
    }
   ],
   "source": [
    "#name matching for constitutional convention and state convention to debt list\n",
    "CT_CD_const = produceMatches(delegates, CT_CD, delegate_names = ['full name 1', 'full name 2'], debt_names = ['full name'])\n",
    "CT_CD_state = produceMatches(state_delegates, CT_CD, delegate_names = ['full name 1'], debt_names = ['full name'])"
   ]
  },
  {
   "cell_type": "code",
   "execution_count": 10,
   "metadata": {},
   "outputs": [],
   "source": [
    "#master dataset\n",
    "cumulative_matching_const = pd.concat([CT_ASD_const, CT_CD_const]).drop_duplicates()\n",
    "cumulative_matching_state = pd.concat([CT_ASD_state, CT_CD_state]).drop_duplicates()"
   ]
  },
  {
   "cell_type": "markdown",
   "metadata": {},
   "source": [
    "# Georgia Loan Office Certificates"
   ]
  },
  {
   "cell_type": "code",
   "execution_count": 11,
   "metadata": {},
   "outputs": [],
   "source": [
    "#prepare pierce certificates\n",
    "GA = pd.read_excel(\"Data/Post1790/GA/T694_GA_Loan_Office_CD.xlsx\", header = 9, usecols = 'Q, R')\n",
    "\n",
    "#create full name\n",
    "GA['full name 1'] = GA['First Name'] + \" \" + GA['Last Name']"
   ]
  },
  {
   "cell_type": "code",
   "execution_count": 12,
   "metadata": {},
   "outputs": [
    {
     "name": "stderr",
     "output_type": "stream",
     "text": [
      "/opt/anaconda3/lib/python3.7/site-packages/ipykernel_launcher.py:29: FutureWarning: Sorting because non-concatenation axis is not aligned. A future version\n",
      "of pandas will change to not sort by default.\n",
      "\n",
      "To accept the future behavior, pass 'sort=False'.\n",
      "\n",
      "To retain the current behavior and silence the warning, pass 'sort=True'.\n",
      "\n",
      "/opt/anaconda3/lib/python3.7/site-packages/ipykernel_launcher.py:23: FutureWarning: Sorting because non-concatenation axis is not aligned. A future version\n",
      "of pandas will change to not sort by default.\n",
      "\n",
      "To accept the future behavior, pass 'sort=False'.\n",
      "\n",
      "To retain the current behavior and silence the warning, pass 'sort=True'.\n",
      "\n",
      "/opt/anaconda3/lib/python3.7/site-packages/ipykernel_launcher.py:19: SettingWithCopyWarning: \n",
      "A value is trying to be set on a copy of a slice from a DataFrame\n",
      "\n",
      "See the caveats in the documentation: http://pandas.pydata.org/pandas-docs/stable/user_guide/indexing.html#returning-a-view-versus-a-copy\n"
     ]
    }
   ],
   "source": [
    "#name matching for constitutional convention and state convention to debt list\n",
    "GA_const = produceMatches(delegates, GA, delegate_names = ['full name 1', 'full name 2'], debt_names = ['full name 1'])\n",
    "GA_state = produceMatches(state_delegates, GA, delegate_names = ['full name 1'], debt_names = ['full name 1'])"
   ]
  },
  {
   "cell_type": "code",
   "execution_count": 13,
   "metadata": {},
   "outputs": [],
   "source": [
    "cumulative_matching_const = pd.concat([cumulative_matching_const, GA_const]).drop_duplicates()"
   ]
  },
  {
   "cell_type": "code",
   "execution_count": 14,
   "metadata": {},
   "outputs": [],
   "source": [
    "cumulative_matching_state = pd.concat([cumulative_matching_state, GA_state]).drop_duplicates()"
   ]
  },
  {
   "cell_type": "markdown",
   "metadata": {},
   "source": [
    "# Maryland Debt Certificates"
   ]
  },
  {
   "cell_type": "code",
   "execution_count": 15,
   "metadata": {},
   "outputs": [],
   "source": [
    "#prepare loan dataset\n",
    "MD_ASD = pd.read_excel(\"Data/Post1790/MD/MD_post1790_ASD.xlsx\", header = 10, usecols = 'G, H, U, V, AI, AJ')\n",
    "MD_ASD = MD_ASD.rename(columns={'Unnamed: 34': 'First Name.2', 'Unnamed: 35':'Last Name.2'})\n",
    "MD_ASD.drop(0, inplace = True)\n",
    "MD_ASD['full name 1'] = MD_ASD['First Name'] + \" \" + MD_ASD['Last Name']\n",
    "MD_ASD['full name 2'] = MD_ASD['First Name.1'] + \" \" + MD_ASD['Last Name.1']\n",
    "MD_ASD['full name 3'] = MD_ASD['First Name.2'] + \" \" + MD_ASD['Last Name.2']\n",
    "MD_ASD['full name'] = [y if pd.isnull(x) else x for x, y in zip(MD_ASD['full name 1'], MD_ASD['full name 2'])]\n",
    "MD_ASD['full name'] = [y if pd.isnull(x) else x for x, y in zip(MD_ASD['full name'], MD_ASD['full name 3'])]"
   ]
  },
  {
   "cell_type": "code",
   "execution_count": 16,
   "metadata": {
    "collapsed": true,
    "jupyter": {
     "outputs_hidden": true
    }
   },
   "outputs": [
    {
     "name": "stderr",
     "output_type": "stream",
     "text": [
      "/opt/anaconda3/lib/python3.7/site-packages/ipykernel_launcher.py:29: FutureWarning: Sorting because non-concatenation axis is not aligned. A future version\n",
      "of pandas will change to not sort by default.\n",
      "\n",
      "To accept the future behavior, pass 'sort=False'.\n",
      "\n",
      "To retain the current behavior and silence the warning, pass 'sort=True'.\n",
      "\n",
      "/opt/anaconda3/lib/python3.7/site-packages/ipykernel_launcher.py:23: FutureWarning: Sorting because non-concatenation axis is not aligned. A future version\n",
      "of pandas will change to not sort by default.\n",
      "\n",
      "To accept the future behavior, pass 'sort=False'.\n",
      "\n",
      "To retain the current behavior and silence the warning, pass 'sort=True'.\n",
      "\n",
      "/opt/anaconda3/lib/python3.7/site-packages/ipykernel_launcher.py:19: SettingWithCopyWarning: \n",
      "A value is trying to be set on a copy of a slice from a DataFrame\n",
      "\n",
      "See the caveats in the documentation: http://pandas.pydata.org/pandas-docs/stable/user_guide/indexing.html#returning-a-view-versus-a-copy\n"
     ]
    }
   ],
   "source": [
    "#name matching for constitutional convention and state convention to debt list\n",
    "MD_ASD_const = produceMatches(delegates, MD_ASD, delegate_names = ['full name 1', 'full name 2'], debt_names = ['full name'])\n",
    "MD_ASD_state = produceMatches(state_delegates, MD_ASD, delegate_names = ['full name 1'], debt_names = ['full name'])"
   ]
  },
  {
   "cell_type": "code",
   "execution_count": 17,
   "metadata": {},
   "outputs": [],
   "source": [
    "#prepare loan dataset\n",
    "MD_CD = pd.read_excel(\"Data/Post1790/MD/MD_post1790_CD.xlsx\", header = 10, usecols = 'G, H, U, V, AI, AJ')\n",
    "MD_CD = MD_CD.rename(columns={'Unnamed: 34': 'First Name.2', 'Unnamed: 35':'Last Name.2'})\n",
    "MD_CD.drop(0, inplace = True)\n",
    "MD_CD['full name 1'] = MD_CD['First Name'] + \" \" + MD_CD['Last Name']\n",
    "MD_CD['full name 2'] = MD_CD['First Name.1'] + \" \" + MD_CD['Last Name.1']\n",
    "MD_CD['full name 3'] = MD_CD['First Name.2'].apply(lambda x: str(x)) + \" \" + MD_CD['Last Name.2'].apply(lambda x: str(x))\n",
    "MD_CD['full name'] = [y if pd.isnull(x) else x for x, y in zip(MD_CD['full name 1'], MD_CD['full name 2'])]\n",
    "MD_CD['full name'] = [y if pd.isnull(x) else x for x, y in zip(MD_CD['full name'], MD_CD['full name 3'])]"
   ]
  },
  {
   "cell_type": "code",
   "execution_count": 18,
   "metadata": {
    "collapsed": true,
    "jupyter": {
     "outputs_hidden": true
    }
   },
   "outputs": [
    {
     "name": "stderr",
     "output_type": "stream",
     "text": [
      "/opt/anaconda3/lib/python3.7/site-packages/ipykernel_launcher.py:29: FutureWarning: Sorting because non-concatenation axis is not aligned. A future version\n",
      "of pandas will change to not sort by default.\n",
      "\n",
      "To accept the future behavior, pass 'sort=False'.\n",
      "\n",
      "To retain the current behavior and silence the warning, pass 'sort=True'.\n",
      "\n",
      "/opt/anaconda3/lib/python3.7/site-packages/ipykernel_launcher.py:23: FutureWarning: Sorting because non-concatenation axis is not aligned. A future version\n",
      "of pandas will change to not sort by default.\n",
      "\n",
      "To accept the future behavior, pass 'sort=False'.\n",
      "\n",
      "To retain the current behavior and silence the warning, pass 'sort=True'.\n",
      "\n",
      "/opt/anaconda3/lib/python3.7/site-packages/ipykernel_launcher.py:19: SettingWithCopyWarning: \n",
      "A value is trying to be set on a copy of a slice from a DataFrame\n",
      "\n",
      "See the caveats in the documentation: http://pandas.pydata.org/pandas-docs/stable/user_guide/indexing.html#returning-a-view-versus-a-copy\n"
     ]
    }
   ],
   "source": [
    "#name matching for constitutional convention and state convention to debt list\n",
    "MD_CD_const = produceMatches(delegates, MD_CD, delegate_names = ['full name 1', 'full name 2'], debt_names = ['full name'])\n",
    "MD_CD_state = produceMatches(state_delegates, MD_CD, delegate_names = ['full name 1'], debt_names = ['full name'])"
   ]
  },
  {
   "cell_type": "code",
   "execution_count": 19,
   "metadata": {},
   "outputs": [],
   "source": [
    "cumulative_matching_const = pd.concat([cumulative_matching_const,MD_ASD_const, MD_CD_const]).drop_duplicates()"
   ]
  },
  {
   "cell_type": "code",
   "execution_count": 20,
   "metadata": {},
   "outputs": [],
   "source": [
    "cumulative_matching_state = pd.concat([cumulative_matching_state, MD_ASD_state,MD_CD_state]).drop_duplicates()"
   ]
  },
  {
   "cell_type": "markdown",
   "metadata": {},
   "source": [
    "# North Carolina"
   ]
  },
  {
   "cell_type": "code",
   "execution_count": 21,
   "metadata": {},
   "outputs": [],
   "source": [
    "#Read in file\n",
    "NC_ASD = pd.read_excel(\"Data/Post1790/NC/T695_R3_NC_ASD.xlsx\", header = 9, usecols = 'H, I')\n",
    "\n",
    "#create full name\n",
    "NC_ASD['full name 1'] = NC_ASD['First Name'] + \" \" + NC_ASD['Last Name']"
   ]
  },
  {
   "cell_type": "code",
   "execution_count": 22,
   "metadata": {
    "collapsed": true,
    "jupyter": {
     "outputs_hidden": true
    }
   },
   "outputs": [
    {
     "name": "stderr",
     "output_type": "stream",
     "text": [
      "/opt/anaconda3/lib/python3.7/site-packages/ipykernel_launcher.py:29: FutureWarning: Sorting because non-concatenation axis is not aligned. A future version\n",
      "of pandas will change to not sort by default.\n",
      "\n",
      "To accept the future behavior, pass 'sort=False'.\n",
      "\n",
      "To retain the current behavior and silence the warning, pass 'sort=True'.\n",
      "\n",
      "/opt/anaconda3/lib/python3.7/site-packages/ipykernel_launcher.py:23: FutureWarning: Sorting because non-concatenation axis is not aligned. A future version\n",
      "of pandas will change to not sort by default.\n",
      "\n",
      "To accept the future behavior, pass 'sort=False'.\n",
      "\n",
      "To retain the current behavior and silence the warning, pass 'sort=True'.\n",
      "\n",
      "/opt/anaconda3/lib/python3.7/site-packages/ipykernel_launcher.py:19: SettingWithCopyWarning: \n",
      "A value is trying to be set on a copy of a slice from a DataFrame\n",
      "\n",
      "See the caveats in the documentation: http://pandas.pydata.org/pandas-docs/stable/user_guide/indexing.html#returning-a-view-versus-a-copy\n"
     ]
    }
   ],
   "source": [
    "#name matching for constitutional convention and state convention to debt list\n",
    "NC_ASD_const = produceMatches(delegates, NC_ASD, delegate_names = ['full name 1', 'full name 2'], debt_names = ['full name 1'])\n",
    "NC_ASD_state = produceMatches(state_delegates, NC_ASD, delegate_names = ['full name 1'], debt_names = ['full name 1'])"
   ]
  },
  {
   "cell_type": "code",
   "execution_count": 23,
   "metadata": {},
   "outputs": [],
   "source": [
    "#Read in file\n",
    "NC_CD = pd.read_excel(\"Data/Post1790/NC/T695_R4_NC_CD.xlsx\", header = 10, usecols = 'J, K')\n",
    "\n",
    "#create full name\n",
    "NC_CD['full name 1'] = NC_CD['First Name'] + \" \" + NC_CD['Last Name']"
   ]
  },
  {
   "cell_type": "code",
   "execution_count": 24,
   "metadata": {
    "collapsed": true,
    "jupyter": {
     "outputs_hidden": true
    }
   },
   "outputs": [
    {
     "name": "stderr",
     "output_type": "stream",
     "text": [
      "/opt/anaconda3/lib/python3.7/site-packages/ipykernel_launcher.py:29: FutureWarning: Sorting because non-concatenation axis is not aligned. A future version\n",
      "of pandas will change to not sort by default.\n",
      "\n",
      "To accept the future behavior, pass 'sort=False'.\n",
      "\n",
      "To retain the current behavior and silence the warning, pass 'sort=True'.\n",
      "\n",
      "/opt/anaconda3/lib/python3.7/site-packages/ipykernel_launcher.py:23: FutureWarning: Sorting because non-concatenation axis is not aligned. A future version\n",
      "of pandas will change to not sort by default.\n",
      "\n",
      "To accept the future behavior, pass 'sort=False'.\n",
      "\n",
      "To retain the current behavior and silence the warning, pass 'sort=True'.\n",
      "\n",
      "/opt/anaconda3/lib/python3.7/site-packages/ipykernel_launcher.py:19: SettingWithCopyWarning: \n",
      "A value is trying to be set on a copy of a slice from a DataFrame\n",
      "\n",
      "See the caveats in the documentation: http://pandas.pydata.org/pandas-docs/stable/user_guide/indexing.html#returning-a-view-versus-a-copy\n"
     ]
    }
   ],
   "source": [
    "#name matching for constitutional convention and state convention to debt list\n",
    "NC_CD_const = produceMatches(delegates, NC_CD, delegate_names = ['full name 1', 'full name 2'], debt_names = ['full name 1'])\n",
    "NC_CD_state = produceMatches(state_delegates, NC_CD, delegate_names = ['full name 1'], debt_names = ['full name 1'])"
   ]
  },
  {
   "cell_type": "code",
   "execution_count": 25,
   "metadata": {},
   "outputs": [],
   "source": [
    "cumulative_matching_const = pd.concat([cumulative_matching_const, NC_ASD_const, NC_CD_const]).drop_duplicates()"
   ]
  },
  {
   "cell_type": "code",
   "execution_count": 26,
   "metadata": {},
   "outputs": [],
   "source": [
    "cumulative_matching_state = pd.concat([cumulative_matching_state, NC_ASD_state, NC_CD_state]).drop_duplicates()"
   ]
  },
  {
   "cell_type": "markdown",
   "metadata": {},
   "source": [
    "# New Hampshire"
   ]
  },
  {
   "cell_type": "code",
   "execution_count": 27,
   "metadata": {},
   "outputs": [],
   "source": [
    "#Read in file\n",
    "NH_ASD = pd.read_excel(\"Data/Post1790/NH/T652_New_Hampshire_ASD.xlsx\", header = 10, usecols = 'G, H, V, W, AK, AL')\n",
    "\n",
    "#create full name\n",
    "NH_ASD['full name 1'] = NH_ASD['First Name'] + \" \" + NH_ASD['Last Name']\n",
    "NH_ASD['full name 2'] = NH_ASD['First Name.1'] + \" \" + NH_ASD['Last Name.1']\n",
    "NH_ASD['full name 3'] = NH_ASD['First Name.2'] + \" \" + NH_ASD['Last Name.2']\n",
    "NH_ASD['full name'] = [y if pd.isnull(x) else x for x, y in zip(NH_ASD['full name 1'], NH_ASD['full name 2'])]\n",
    "NH_ASD['full name'] = [y if pd.isnull(x) else x for x, y in zip(NH_ASD['full name'], NH_ASD['full name 3'])]"
   ]
  },
  {
   "cell_type": "code",
   "execution_count": 28,
   "metadata": {
    "collapsed": true,
    "jupyter": {
     "outputs_hidden": true
    }
   },
   "outputs": [
    {
     "name": "stderr",
     "output_type": "stream",
     "text": [
      "/opt/anaconda3/lib/python3.7/site-packages/ipykernel_launcher.py:29: FutureWarning: Sorting because non-concatenation axis is not aligned. A future version\n",
      "of pandas will change to not sort by default.\n",
      "\n",
      "To accept the future behavior, pass 'sort=False'.\n",
      "\n",
      "To retain the current behavior and silence the warning, pass 'sort=True'.\n",
      "\n",
      "/opt/anaconda3/lib/python3.7/site-packages/ipykernel_launcher.py:23: FutureWarning: Sorting because non-concatenation axis is not aligned. A future version\n",
      "of pandas will change to not sort by default.\n",
      "\n",
      "To accept the future behavior, pass 'sort=False'.\n",
      "\n",
      "To retain the current behavior and silence the warning, pass 'sort=True'.\n",
      "\n",
      "/opt/anaconda3/lib/python3.7/site-packages/ipykernel_launcher.py:19: SettingWithCopyWarning: \n",
      "A value is trying to be set on a copy of a slice from a DataFrame\n",
      "\n",
      "See the caveats in the documentation: http://pandas.pydata.org/pandas-docs/stable/user_guide/indexing.html#returning-a-view-versus-a-copy\n"
     ]
    }
   ],
   "source": [
    "#name matching for constitutional convention and state convention to debt list\n",
    "NH_ASD_const = produceMatches(delegates, NH_ASD, delegate_names = ['full name 1', 'full name 2'], debt_names = ['full name'])\n",
    "NH_ASD_state = produceMatches(state_delegates, NH_ASD, delegate_names = ['full name 1'], debt_names = ['full name'])"
   ]
  },
  {
   "cell_type": "code",
   "execution_count": 29,
   "metadata": {},
   "outputs": [],
   "source": [
    "#Read in file\n",
    "NH_CD = pd.read_excel(\"Data/Post1790/NH/T652_R6_New_Hampshire_CD.xlsx\", header = 10, usecols = 'I, J')\n",
    "\n",
    "#create full name\n",
    "NH_CD['full name 1'] = NH_CD['First Name'] + \" \" + NH_CD['Last Name']"
   ]
  },
  {
   "cell_type": "code",
   "execution_count": 30,
   "metadata": {
    "collapsed": true,
    "jupyter": {
     "outputs_hidden": true
    }
   },
   "outputs": [
    {
     "name": "stderr",
     "output_type": "stream",
     "text": [
      "/opt/anaconda3/lib/python3.7/site-packages/ipykernel_launcher.py:29: FutureWarning: Sorting because non-concatenation axis is not aligned. A future version\n",
      "of pandas will change to not sort by default.\n",
      "\n",
      "To accept the future behavior, pass 'sort=False'.\n",
      "\n",
      "To retain the current behavior and silence the warning, pass 'sort=True'.\n",
      "\n",
      "/opt/anaconda3/lib/python3.7/site-packages/ipykernel_launcher.py:23: FutureWarning: Sorting because non-concatenation axis is not aligned. A future version\n",
      "of pandas will change to not sort by default.\n",
      "\n",
      "To accept the future behavior, pass 'sort=False'.\n",
      "\n",
      "To retain the current behavior and silence the warning, pass 'sort=True'.\n",
      "\n",
      "/opt/anaconda3/lib/python3.7/site-packages/ipykernel_launcher.py:19: SettingWithCopyWarning: \n",
      "A value is trying to be set on a copy of a slice from a DataFrame\n",
      "\n",
      "See the caveats in the documentation: http://pandas.pydata.org/pandas-docs/stable/user_guide/indexing.html#returning-a-view-versus-a-copy\n"
     ]
    }
   ],
   "source": [
    "#name matching for constitutional convention and state convention to debt list\n",
    "NH_CD_const = produceMatches(delegates, NH_CD, delegate_names = ['full name 1', 'full name 2'], debt_names = ['full name 1'])\n",
    "NH_CD_state = produceMatches(state_delegates, NH_CD, delegate_names = ['full name 1'], debt_names = ['full name 1'])"
   ]
  },
  {
   "cell_type": "code",
   "execution_count": 31,
   "metadata": {},
   "outputs": [],
   "source": [
    "cumulative_matching_const = pd.concat([cumulative_matching_const, NH_ASD_const, NH_CD_const]).drop_duplicates()"
   ]
  },
  {
   "cell_type": "code",
   "execution_count": 32,
   "metadata": {},
   "outputs": [],
   "source": [
    "cumulative_matching_state = pd.concat([cumulative_matching_state, NH_ASD_state, NH_CD_state]).drop_duplicates()"
   ]
  },
  {
   "cell_type": "markdown",
   "metadata": {},
   "source": [
    "# New York"
   ]
  },
  {
   "cell_type": "code",
   "execution_count": 41,
   "metadata": {},
   "outputs": [],
   "source": [
    "#Read in file\n",
    "NY_ASD = pd.read_excel(\"Data/Post1790/NY/NY_1790_ASD.xlsx\", header = 10, usecols = 'H, I, X, Y, AM, AN')\n",
    "\n",
    "#create full name\n",
    "NY_ASD['full name 1'] = NY_ASD['First Name'] + \" \" + NY_ASD['Last Name']\n",
    "NY_ASD['full name 2'] = NY_ASD['First Name.1'] + \" \" + NY_ASD['Last Name.1']\n",
    "NY_ASD['full name 3'] = NY_ASD['First Name.2'] + \" \" + NY_ASD['Last Name.2']\n",
    "NY_ASD['full name'] = [y if pd.isnull(x) else x for x, y in zip(NY_ASD['full name 1'], NY_ASD['full name 2'])]\n",
    "NY_ASD['full name'] = [y if pd.isnull(x) else x for x, y in zip(NY_ASD['full name'], NY_ASD['full name 3'])]"
   ]
  },
  {
   "cell_type": "code",
   "execution_count": 42,
   "metadata": {
    "collapsed": true,
    "jupyter": {
     "outputs_hidden": true
    }
   },
   "outputs": [
    {
     "name": "stderr",
     "output_type": "stream",
     "text": [
      "/opt/anaconda3/lib/python3.7/site-packages/ipykernel_launcher.py:29: FutureWarning: Sorting because non-concatenation axis is not aligned. A future version\n",
      "of pandas will change to not sort by default.\n",
      "\n",
      "To accept the future behavior, pass 'sort=False'.\n",
      "\n",
      "To retain the current behavior and silence the warning, pass 'sort=True'.\n",
      "\n",
      "/opt/anaconda3/lib/python3.7/site-packages/ipykernel_launcher.py:23: FutureWarning: Sorting because non-concatenation axis is not aligned. A future version\n",
      "of pandas will change to not sort by default.\n",
      "\n",
      "To accept the future behavior, pass 'sort=False'.\n",
      "\n",
      "To retain the current behavior and silence the warning, pass 'sort=True'.\n",
      "\n",
      "/opt/anaconda3/lib/python3.7/site-packages/ipykernel_launcher.py:19: SettingWithCopyWarning: \n",
      "A value is trying to be set on a copy of a slice from a DataFrame\n",
      "\n",
      "See the caveats in the documentation: http://pandas.pydata.org/pandas-docs/stable/user_guide/indexing.html#returning-a-view-versus-a-copy\n"
     ]
    }
   ],
   "source": [
    "#name matching for constitutional convention and state convention to debt list\n",
    "NY_ASD_const = produceMatches(delegates, NY_ASD, delegate_names = ['full name 1', 'full name 2'], debt_names = ['full name'])\n",
    "NY_ASD_state = produceMatches(state_delegates, NY_ASD, delegate_names= ['full name 1'], debt_names = ['full name'])"
   ]
  },
  {
   "cell_type": "code",
   "execution_count": 43,
   "metadata": {},
   "outputs": [],
   "source": [
    "#Read in file\n",
    "NY_CD = pd.read_excel(\"Data/Post1790/NY/NY_1790_CD.xlsx\", header = 10, usecols = 'H, I, X, Y, AM, AN')\n",
    "\n",
    "#create full name\n",
    "NY_CD['full name 1'] = NY_CD['First Name'] + \" \" + NY_CD['Last Name']\n",
    "NY_CD['full name 2'] = NY_CD['First Name.1'] + \" \" + NY_CD['Last Name.1']\n",
    "NY_CD['full name 3'] = NY_CD['First Name.2'] + \" \" + NY_CD['Last Name.2']\n",
    "NY_CD['full name'] = [y if pd.isnull(x) else x for x, y in zip(NY_CD['full name 1'], NY_CD['full name 2'])]\n",
    "NY_CD['full name'] = [y if pd.isnull(x) else x for x, y in zip(NY_CD['full name'], NY_CD['full name 3'])]"
   ]
  },
  {
   "cell_type": "code",
   "execution_count": 44,
   "metadata": {
    "collapsed": true,
    "jupyter": {
     "outputs_hidden": true
    }
   },
   "outputs": [
    {
     "name": "stderr",
     "output_type": "stream",
     "text": [
      "/opt/anaconda3/lib/python3.7/site-packages/ipykernel_launcher.py:29: FutureWarning: Sorting because non-concatenation axis is not aligned. A future version\n",
      "of pandas will change to not sort by default.\n",
      "\n",
      "To accept the future behavior, pass 'sort=False'.\n",
      "\n",
      "To retain the current behavior and silence the warning, pass 'sort=True'.\n",
      "\n",
      "/opt/anaconda3/lib/python3.7/site-packages/ipykernel_launcher.py:23: FutureWarning: Sorting because non-concatenation axis is not aligned. A future version\n",
      "of pandas will change to not sort by default.\n",
      "\n",
      "To accept the future behavior, pass 'sort=False'.\n",
      "\n",
      "To retain the current behavior and silence the warning, pass 'sort=True'.\n",
      "\n",
      "/opt/anaconda3/lib/python3.7/site-packages/ipykernel_launcher.py:19: SettingWithCopyWarning: \n",
      "A value is trying to be set on a copy of a slice from a DataFrame\n",
      "\n",
      "See the caveats in the documentation: http://pandas.pydata.org/pandas-docs/stable/user_guide/indexing.html#returning-a-view-versus-a-copy\n"
     ]
    }
   ],
   "source": [
    "#name matching for constitutional convention and state convention to debt list\n",
    "NY_CD_const = produceMatches(delegates, NY_CD, delegate_names = ['full name 1', 'full name 2'], debt_names = ['full name'])\n",
    "NY_CD_state = produceMatches(state_delegates, NY_CD, delegate_names= ['full name 1'], debt_names = ['full name'])"
   ]
  },
  {
   "cell_type": "code",
   "execution_count": 45,
   "metadata": {},
   "outputs": [],
   "source": [
    "cumulative_matching_const = pd.concat([cumulative_matching_const, NY_ASD_const, NY_CD_const]).drop_duplicates()"
   ]
  },
  {
   "cell_type": "code",
   "execution_count": 46,
   "metadata": {},
   "outputs": [],
   "source": [
    "cumulative_matching_state = pd.concat([cumulative_matching_state, NY_ASD_state, NY_CD_state]).drop_duplicates()"
   ]
  },
  {
   "cell_type": "markdown",
   "metadata": {},
   "source": [
    "# Pennsylvania"
   ]
  },
  {
   "cell_type": "code",
   "execution_count": 47,
   "metadata": {},
   "outputs": [],
   "source": [
    "#Read in file\n",
    "PA = pd.read_excel(\"Data/Post1790/PA/PA_post1790_CD.xlsx\", header = 11, usecols = 'G, H, U, V, AJ, AK')\n",
    "\n",
    "#create full name\n",
    "PA['full name 1'] = PA['First Name'] + \" \" + PA['Last Name']\n",
    "PA['full name 2'] = PA['First Name.1'] + \" \" + PA['Last Name.1']\n",
    "PA['full name 3'] = PA['First Name.2'] + \" \" + PA['Last Name.2']\n",
    "PA['full name'] = [y if pd.isnull(x) else x for x, y in zip(PA['full name 1'], PA['full name 2'])]\n",
    "PA['full name'] = [y if pd.isnull(x) else x for x, y in zip(PA['full name'], PA['full name 3'])]"
   ]
  },
  {
   "cell_type": "code",
   "execution_count": 48,
   "metadata": {
    "collapsed": true,
    "jupyter": {
     "outputs_hidden": true
    }
   },
   "outputs": [
    {
     "name": "stderr",
     "output_type": "stream",
     "text": [
      "/opt/anaconda3/lib/python3.7/site-packages/ipykernel_launcher.py:29: FutureWarning: Sorting because non-concatenation axis is not aligned. A future version\n",
      "of pandas will change to not sort by default.\n",
      "\n",
      "To accept the future behavior, pass 'sort=False'.\n",
      "\n",
      "To retain the current behavior and silence the warning, pass 'sort=True'.\n",
      "\n",
      "/opt/anaconda3/lib/python3.7/site-packages/ipykernel_launcher.py:23: FutureWarning: Sorting because non-concatenation axis is not aligned. A future version\n",
      "of pandas will change to not sort by default.\n",
      "\n",
      "To accept the future behavior, pass 'sort=False'.\n",
      "\n",
      "To retain the current behavior and silence the warning, pass 'sort=True'.\n",
      "\n",
      "/opt/anaconda3/lib/python3.7/site-packages/ipykernel_launcher.py:19: SettingWithCopyWarning: \n",
      "A value is trying to be set on a copy of a slice from a DataFrame\n",
      "\n",
      "See the caveats in the documentation: http://pandas.pydata.org/pandas-docs/stable/user_guide/indexing.html#returning-a-view-versus-a-copy\n"
     ]
    }
   ],
   "source": [
    "#name matching for constitutional convention and state convention to debt list\n",
    "PA_const = produceMatches(delegates, PA, delegate_names = ['full name 1', 'full name 2'], debt_names = ['full name'])\n",
    "PA_state = produceMatches(state_delegates, PA, delegate_names = ['full name 1'], debt_names = ['full name'])"
   ]
  },
  {
   "cell_type": "code",
   "execution_count": 49,
   "metadata": {},
   "outputs": [],
   "source": [
    "cumulative_matching_const = pd.concat([cumulative_matching_const, PA_const]).drop_duplicates()"
   ]
  },
  {
   "cell_type": "code",
   "execution_count": 50,
   "metadata": {},
   "outputs": [],
   "source": [
    "cumulative_matching_state = pd.concat([cumulative_matching_state, PA_state]).drop_duplicates()"
   ]
  },
  {
   "cell_type": "markdown",
   "metadata": {},
   "source": [
    "# Rhode Island"
   ]
  },
  {
   "cell_type": "code",
   "execution_count": 51,
   "metadata": {},
   "outputs": [],
   "source": [
    "#Read in file\n",
    "RI_ASD = pd.read_excel(\"Data/Post1790/RI/T653_Rhode_Island_ASD.xlsx\", header = 10, usecols = 'H, I, X, Y, AN, AO')\n",
    "\n",
    "#create full name\n",
    "RI_ASD['full name 1'] = RI_ASD['First Name'] + \" \" + RI_ASD['Last Name']\n",
    "RI_ASD['full name 2'] = RI_ASD['First Name.1'] + \" \" + RI_ASD['Last Name.1']\n",
    "RI_ASD['full name 3'] = RI_ASD['First Name.2'] + \" \" + RI_ASD['Last Name.2']\n",
    "RI_ASD['full name'] = [y if pd.isnull(x) else x for x, y in zip(RI_ASD['full name 1'], RI_ASD['full name 2'])]\n",
    "RI_ASD['full name'] = [y if pd.isnull(x) else x for x, y in zip(RI_ASD['full name'], RI_ASD['full name 3'])]"
   ]
  },
  {
   "cell_type": "code",
   "execution_count": 52,
   "metadata": {
    "collapsed": true,
    "jupyter": {
     "outputs_hidden": true
    }
   },
   "outputs": [
    {
     "name": "stderr",
     "output_type": "stream",
     "text": [
      "/opt/anaconda3/lib/python3.7/site-packages/ipykernel_launcher.py:29: FutureWarning: Sorting because non-concatenation axis is not aligned. A future version\n",
      "of pandas will change to not sort by default.\n",
      "\n",
      "To accept the future behavior, pass 'sort=False'.\n",
      "\n",
      "To retain the current behavior and silence the warning, pass 'sort=True'.\n",
      "\n",
      "/opt/anaconda3/lib/python3.7/site-packages/ipykernel_launcher.py:23: FutureWarning: Sorting because non-concatenation axis is not aligned. A future version\n",
      "of pandas will change to not sort by default.\n",
      "\n",
      "To accept the future behavior, pass 'sort=False'.\n",
      "\n",
      "To retain the current behavior and silence the warning, pass 'sort=True'.\n",
      "\n",
      "/opt/anaconda3/lib/python3.7/site-packages/ipykernel_launcher.py:19: SettingWithCopyWarning: \n",
      "A value is trying to be set on a copy of a slice from a DataFrame\n",
      "\n",
      "See the caveats in the documentation: http://pandas.pydata.org/pandas-docs/stable/user_guide/indexing.html#returning-a-view-versus-a-copy\n"
     ]
    }
   ],
   "source": [
    "#name matching for constitutional convention and state convention to debt list\n",
    "RI_ASD_const = produceMatches(delegates, RI_ASD, delegate_names = ['full name 1', 'full name 2'], debt_names = ['full name'])\n",
    "RI_ASD_state = produceMatches(state_delegates, RI_ASD, delegate_names = ['full name 1'], debt_names = ['full name'])"
   ]
  },
  {
   "cell_type": "code",
   "execution_count": 53,
   "metadata": {},
   "outputs": [],
   "source": [
    "#Read in file\n",
    "RI_CD = pd.read_excel(\"Data/Post1790/RI/T653_Rhode_Island_CD.xlsx\", header = 10, usecols = 'G, H, U, V, AI, AJ')\n",
    "\n",
    "#create full name\n",
    "RI_CD['full name 1'] = RI_CD['First Name'] + \" \" + RI_CD['Last Name']\n",
    "RI_CD['full name 2'] = RI_CD['First Name.1'] + \" \" + RI_CD['Last Name.1']\n",
    "RI_CD['full name 3'] = RI_CD['First Name.2'] + \" \" + RI_CD['Last Name.2']\n",
    "RI_CD['full name'] = [y if pd.isnull(x) else x for x, y in zip(RI_CD['full name 1'], RI_CD['full name 2'])]\n",
    "RI_CD['full name'] = [y if pd.isnull(x) else x for x, y in zip(RI_CD['full name'], RI_CD['full name 3'])]"
   ]
  },
  {
   "cell_type": "code",
   "execution_count": 54,
   "metadata": {
    "collapsed": true,
    "jupyter": {
     "outputs_hidden": true
    }
   },
   "outputs": [
    {
     "name": "stderr",
     "output_type": "stream",
     "text": [
      "/opt/anaconda3/lib/python3.7/site-packages/ipykernel_launcher.py:29: FutureWarning: Sorting because non-concatenation axis is not aligned. A future version\n",
      "of pandas will change to not sort by default.\n",
      "\n",
      "To accept the future behavior, pass 'sort=False'.\n",
      "\n",
      "To retain the current behavior and silence the warning, pass 'sort=True'.\n",
      "\n",
      "/opt/anaconda3/lib/python3.7/site-packages/ipykernel_launcher.py:23: FutureWarning: Sorting because non-concatenation axis is not aligned. A future version\n",
      "of pandas will change to not sort by default.\n",
      "\n",
      "To accept the future behavior, pass 'sort=False'.\n",
      "\n",
      "To retain the current behavior and silence the warning, pass 'sort=True'.\n",
      "\n",
      "/opt/anaconda3/lib/python3.7/site-packages/ipykernel_launcher.py:19: SettingWithCopyWarning: \n",
      "A value is trying to be set on a copy of a slice from a DataFrame\n",
      "\n",
      "See the caveats in the documentation: http://pandas.pydata.org/pandas-docs/stable/user_guide/indexing.html#returning-a-view-versus-a-copy\n"
     ]
    }
   ],
   "source": [
    "#name matching for constitutional convention and state convention to debt list\n",
    "RI_CD_const = produceMatches(delegates, RI_CD, delegate_names = ['full name 1', 'full name 2'], debt_names = ['full name'])\n",
    "RI_CD_state = produceMatches(state_delegates, RI_CD, delegate_names = ['full name 1'], debt_names = ['full name'])"
   ]
  },
  {
   "cell_type": "code",
   "execution_count": 55,
   "metadata": {},
   "outputs": [],
   "source": [
    "cumulative_matching_const = pd.concat([cumulative_matching_const, RI_ASD_const, RI_CD_const]).drop_duplicates()"
   ]
  },
  {
   "cell_type": "code",
   "execution_count": 56,
   "metadata": {},
   "outputs": [],
   "source": [
    "cumulative_matching_state = pd.concat([cumulative_matching_state, RI_ASD_state, RI_CD_state]).drop_duplicates()"
   ]
  },
  {
   "cell_type": "markdown",
   "metadata": {},
   "source": [
    "# South Carolina"
   ]
  },
  {
   "cell_type": "code",
   "execution_count": 67,
   "metadata": {},
   "outputs": [],
   "source": [
    "#Read in file\n",
    "SC_ASD = pd.read_excel(\"Data/Post1790/SC/Post_1790_South_Carolina_ASD_transfers_removed.xlsx\", header = 11, usecols = 'D, E')\n",
    "#create full name\n",
    "SC_ASD['full name 1'] = SC_ASD['First Name'] + \" \" + SC_ASD['Last Name']"
   ]
  },
  {
   "cell_type": "code",
   "execution_count": 68,
   "metadata": {
    "collapsed": true,
    "jupyter": {
     "outputs_hidden": true
    }
   },
   "outputs": [
    {
     "name": "stderr",
     "output_type": "stream",
     "text": [
      "/opt/anaconda3/lib/python3.7/site-packages/ipykernel_launcher.py:29: FutureWarning: Sorting because non-concatenation axis is not aligned. A future version\n",
      "of pandas will change to not sort by default.\n",
      "\n",
      "To accept the future behavior, pass 'sort=False'.\n",
      "\n",
      "To retain the current behavior and silence the warning, pass 'sort=True'.\n",
      "\n",
      "/opt/anaconda3/lib/python3.7/site-packages/ipykernel_launcher.py:23: FutureWarning: Sorting because non-concatenation axis is not aligned. A future version\n",
      "of pandas will change to not sort by default.\n",
      "\n",
      "To accept the future behavior, pass 'sort=False'.\n",
      "\n",
      "To retain the current behavior and silence the warning, pass 'sort=True'.\n",
      "\n",
      "/opt/anaconda3/lib/python3.7/site-packages/ipykernel_launcher.py:19: SettingWithCopyWarning: \n",
      "A value is trying to be set on a copy of a slice from a DataFrame\n",
      "\n",
      "See the caveats in the documentation: http://pandas.pydata.org/pandas-docs/stable/user_guide/indexing.html#returning-a-view-versus-a-copy\n"
     ]
    }
   ],
   "source": [
    "#name matching for constitutional convention and state convention to debt list\n",
    "SC_ASD_const = produceMatches(delegates, SC_ASD, delegate_names = ['full name 1', 'full name 2'], debt_names = ['full name 1'])\n",
    "SC_ASD_state = produceMatches(state_delegates, SC_ASD, delegate_names = ['full name 1'], debt_names = ['full name 1'])"
   ]
  },
  {
   "cell_type": "code",
   "execution_count": 69,
   "metadata": {},
   "outputs": [],
   "source": [
    "#Read in file\n",
    "SC_CD = pd.read_excel(\"Data/Post1790/SC/Post_1790_South_Carolina_CD.xlsx\", header = 11, usecols = 'D, E, S, T, AH, AI')\n",
    "\n",
    "#create full name\n",
    "SC_CD['full name 1'] = SC_CD['First Name'] + \" \" + SC_CD['Last Name']\n",
    "SC_CD['full name 2'] = SC_CD['First Name.1'] + \" \" + SC_CD['Last Name.1']\n",
    "SC_CD['full name 3'] = SC_CD['First Name.2'] + \" \" + SC_CD['Last Name.2']\n",
    "SC_CD['full name'] = [y if pd.isnull(x) else x for x, y in zip(SC_CD['full name 1'], SC_CD['full name 2'])]\n",
    "SC_CD['full name'] = [y if pd.isnull(x) else x for x, y in zip(SC_CD['full name'], SC_CD['full name 3'])]"
   ]
  },
  {
   "cell_type": "code",
   "execution_count": 71,
   "metadata": {
    "collapsed": true,
    "jupyter": {
     "outputs_hidden": true
    }
   },
   "outputs": [
    {
     "name": "stderr",
     "output_type": "stream",
     "text": [
      "/opt/anaconda3/lib/python3.7/site-packages/ipykernel_launcher.py:29: FutureWarning: Sorting because non-concatenation axis is not aligned. A future version\n",
      "of pandas will change to not sort by default.\n",
      "\n",
      "To accept the future behavior, pass 'sort=False'.\n",
      "\n",
      "To retain the current behavior and silence the warning, pass 'sort=True'.\n",
      "\n",
      "/opt/anaconda3/lib/python3.7/site-packages/ipykernel_launcher.py:23: FutureWarning: Sorting because non-concatenation axis is not aligned. A future version\n",
      "of pandas will change to not sort by default.\n",
      "\n",
      "To accept the future behavior, pass 'sort=False'.\n",
      "\n",
      "To retain the current behavior and silence the warning, pass 'sort=True'.\n",
      "\n",
      "/opt/anaconda3/lib/python3.7/site-packages/ipykernel_launcher.py:19: SettingWithCopyWarning: \n",
      "A value is trying to be set on a copy of a slice from a DataFrame\n",
      "\n",
      "See the caveats in the documentation: http://pandas.pydata.org/pandas-docs/stable/user_guide/indexing.html#returning-a-view-versus-a-copy\n"
     ]
    }
   ],
   "source": [
    "#name matching for constitutional convention and state convention to debt list\n",
    "SC_CD_const = produceMatches(delegates, SC_CD, delegate_names = ['full name 1', 'full name 2'], debt_names = ['full name'])\n",
    "SC_CD_state = produceMatches(state_delegates, SC_CD, delegate_names = ['full name 1'], debt_names = ['full name'])"
   ]
  },
  {
   "cell_type": "code",
   "execution_count": 72,
   "metadata": {},
   "outputs": [],
   "source": [
    "cumulative_matching_const = pd.concat([cumulative_matching_const, SC_CD_const, SC_ASD_const]).drop_duplicates()"
   ]
  },
  {
   "cell_type": "code",
   "execution_count": 73,
   "metadata": {},
   "outputs": [],
   "source": [
    "cumulative_matching_state = pd.concat([cumulative_matching_state, SC_CD_state, SC_ASD_state]).drop_duplicates()"
   ]
  },
  {
   "cell_type": "markdown",
   "metadata": {},
   "source": [
    "# Virginia"
   ]
  },
  {
   "cell_type": "code",
   "execution_count": 74,
   "metadata": {},
   "outputs": [],
   "source": [
    "#Read in file\n",
    "VA_ASD = pd.read_excel(\"Data/Post1790/VA/VA_ASD.xlsx\", header = 10, usecols = 'D, E, U, V, AL, AM')\n",
    "VA_ASD.rename(columns = {'Unnamed: 3':'First Name.0', 'Unnamed: 4':'Last Name.0'}, inplace = True)\n",
    "VA_ASD.drop(0, inplace = True)\n",
    "#create full name\n",
    "VA_ASD['full name 1'] = VA_ASD['First Name.0'] + \" \" + VA_ASD['Last Name.0']\n",
    "VA_ASD['full name 2'] = VA_ASD['First Name'] + \" \" + VA_ASD['Last Name']\n",
    "VA_ASD['full name 3'] = VA_ASD['First Name.1'] + \" \" + VA_ASD['Last Name.1']\n",
    "VA_ASD['full name'] = [y if pd.isnull(x) else x for x, y in zip(VA_ASD['full name 1'], VA_ASD['full name 2'])]\n",
    "VA_ASD['full name'] = [y if pd.isnull(x) else x for x, y in zip(VA_ASD['full name'], VA_ASD['full name 3'])]"
   ]
  },
  {
   "cell_type": "code",
   "execution_count": 75,
   "metadata": {
    "collapsed": true,
    "jupyter": {
     "outputs_hidden": true
    }
   },
   "outputs": [
    {
     "name": "stderr",
     "output_type": "stream",
     "text": [
      "/opt/anaconda3/lib/python3.7/site-packages/ipykernel_launcher.py:29: FutureWarning: Sorting because non-concatenation axis is not aligned. A future version\n",
      "of pandas will change to not sort by default.\n",
      "\n",
      "To accept the future behavior, pass 'sort=False'.\n",
      "\n",
      "To retain the current behavior and silence the warning, pass 'sort=True'.\n",
      "\n",
      "/opt/anaconda3/lib/python3.7/site-packages/ipykernel_launcher.py:23: FutureWarning: Sorting because non-concatenation axis is not aligned. A future version\n",
      "of pandas will change to not sort by default.\n",
      "\n",
      "To accept the future behavior, pass 'sort=False'.\n",
      "\n",
      "To retain the current behavior and silence the warning, pass 'sort=True'.\n",
      "\n",
      "/opt/anaconda3/lib/python3.7/site-packages/ipykernel_launcher.py:19: SettingWithCopyWarning: \n",
      "A value is trying to be set on a copy of a slice from a DataFrame\n",
      "\n",
      "See the caveats in the documentation: http://pandas.pydata.org/pandas-docs/stable/user_guide/indexing.html#returning-a-view-versus-a-copy\n"
     ]
    }
   ],
   "source": [
    "#name matching for constitutional convention and state convention to debt list\n",
    "VA_ASD_const = produceMatches(delegates, VA_ASD, delegate_names = ['full name 1', 'full name 2'], debt_names = ['full name'])\n",
    "VA_ASD_state = produceMatches(state_delegates, VA_ASD, delegate_names = ['full name 1'], debt_names = ['full name'])"
   ]
  },
  {
   "cell_type": "code",
   "execution_count": 76,
   "metadata": {},
   "outputs": [],
   "source": [
    "#Read in file\n",
    "VA_CD = pd.read_excel(\"Data/Post1790/VA/VA_CD.xlsx\", header = 11, usecols = 'H, I, U, V, AH, AI')\n",
    "VA_CD.rename(columns = {'Unnamed: 7':'First Name.0', 'Unnamed: 8':'Last Name.0'}, inplace = True)\n",
    "VA_CD.drop(0, inplace = True)\n",
    "#create full name\n",
    "VA_CD['full name 1'] = VA_CD['First Name.0'] + \" \" + VA_CD['Last Name.0']\n",
    "VA_CD['full name 2'] = VA_CD['First Name'] + \" \" + VA_CD['Last Name']\n",
    "VA_CD['full name 3'] = VA_CD['First Name.1'] + \" \" + VA_CD['Last Name.1']\n",
    "VA_CD['full name'] = [y if pd.isnull(x) else x for x, y in zip(VA_CD['full name 1'], VA_CD['full name 2'])]\n",
    "VA_CD['full name'] = [y if pd.isnull(x) else x for x, y in zip(VA_CD['full name'], VA_CD['full name 3'])]"
   ]
  },
  {
   "cell_type": "code",
   "execution_count": 77,
   "metadata": {
    "collapsed": true,
    "jupyter": {
     "outputs_hidden": true
    }
   },
   "outputs": [
    {
     "name": "stderr",
     "output_type": "stream",
     "text": [
      "/opt/anaconda3/lib/python3.7/site-packages/ipykernel_launcher.py:29: FutureWarning: Sorting because non-concatenation axis is not aligned. A future version\n",
      "of pandas will change to not sort by default.\n",
      "\n",
      "To accept the future behavior, pass 'sort=False'.\n",
      "\n",
      "To retain the current behavior and silence the warning, pass 'sort=True'.\n",
      "\n",
      "/opt/anaconda3/lib/python3.7/site-packages/ipykernel_launcher.py:23: FutureWarning: Sorting because non-concatenation axis is not aligned. A future version\n",
      "of pandas will change to not sort by default.\n",
      "\n",
      "To accept the future behavior, pass 'sort=False'.\n",
      "\n",
      "To retain the current behavior and silence the warning, pass 'sort=True'.\n",
      "\n",
      "/opt/anaconda3/lib/python3.7/site-packages/ipykernel_launcher.py:19: SettingWithCopyWarning: \n",
      "A value is trying to be set on a copy of a slice from a DataFrame\n",
      "\n",
      "See the caveats in the documentation: http://pandas.pydata.org/pandas-docs/stable/user_guide/indexing.html#returning-a-view-versus-a-copy\n"
     ]
    }
   ],
   "source": [
    "#name matching for constitutional convention and state convention to debt list\n",
    "VA_CD_const = produceMatches(delegates, VA_CD, delegate_names = ['full name 1', 'full name 2'], debt_names = ['full name'])\n",
    "VA_CD_state = produceMatches(state_delegates, VA_CD, delegate_names = ['full name 1'], debt_names = ['full name'])"
   ]
  },
  {
   "cell_type": "code",
   "execution_count": 78,
   "metadata": {},
   "outputs": [],
   "source": [
    "cumulative_matching_const = pd.concat([cumulative_matching_const, VA_ASD_const, VA_CD_const]).drop_duplicates()"
   ]
  },
  {
   "cell_type": "code",
   "execution_count": 79,
   "metadata": {},
   "outputs": [],
   "source": [
    "cumulative_matching_state = pd.concat([cumulative_matching_state, VA_ASD_state, VA_CD_state]).drop_duplicates()"
   ]
  },
  {
   "cell_type": "markdown",
   "metadata": {},
   "source": [
    "# Final Steps"
   ]
  },
  {
   "cell_type": "code",
   "execution_count": 80,
   "metadata": {},
   "outputs": [],
   "source": [
    "cum_matching = pd.concat([cumulative_matching_const, cumulative_matching_state]).drop_duplicates()"
   ]
  },
  {
   "cell_type": "code",
   "execution_count": 81,
   "metadata": {},
   "outputs": [],
   "source": [
    "cum_matching.drop(cum_matching[[x and y<88 for x, y in zip(cum_matching['Loan Matches'].duplicated(), cum_matching['Scores'])]].index, inplace = True)"
   ]
  },
  {
   "cell_type": "code",
   "execution_count": 82,
   "metadata": {},
   "outputs": [],
   "source": [
    "cum_matching = cum_matching[cum_matching['Scores'] > 85]"
   ]
  },
  {
   "cell_type": "code",
   "execution_count": 83,
   "metadata": {},
   "outputs": [],
   "source": [
    "cum_matching = cum_matching.sort_values(['Delegates', 'Loan Matches', 'Scores'])"
   ]
  },
  {
   "cell_type": "code",
   "execution_count": 84,
   "metadata": {},
   "outputs": [],
   "source": [
    "rem_index = list()"
   ]
  },
  {
   "cell_type": "code",
   "execution_count": 85,
   "metadata": {},
   "outputs": [],
   "source": [
    "rem_index.extend(cum_matching[[x.lower() == 'john thomas' and y < 90 for x, y in zip(cum_matching['Delegates'], cum_matching['Scores'])]].index)"
   ]
  },
  {
   "cell_type": "code",
   "execution_count": 86,
   "metadata": {},
   "outputs": [],
   "source": [
    "rem_index.extend(cum_matching[[x.lower() == 'william williams' and y < 90 for x, y in zip(cum_matching['Delegates'], cum_matching['Scores'])]].index)"
   ]
  },
  {
   "cell_type": "code",
   "execution_count": 87,
   "metadata": {},
   "outputs": [],
   "source": [
    "cum_matching.drop(rem_index, inplace = True)"
   ]
  },
  {
   "cell_type": "code",
   "execution_count": 88,
   "metadata": {},
   "outputs": [],
   "source": [
    "cum_matching.to_csv('Data/final_matching_post1790.csv')"
   ]
  }
 ],
 "metadata": {
  "kernelspec": {
   "display_name": "Python 3",
   "language": "python",
   "name": "python3"
  },
  "language_info": {
   "codemirror_mode": {
    "name": "ipython",
    "version": 3
   },
   "file_extension": ".py",
   "mimetype": "text/x-python",
   "name": "python",
   "nbconvert_exporter": "python",
   "pygments_lexer": "ipython3",
   "version": "3.7.4"
  }
 },
 "nbformat": 4,
 "nbformat_minor": 4
}
