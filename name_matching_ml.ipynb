{
 "cells": [
  {
   "cell_type": "code",
   "execution_count": 32,
   "metadata": {},
   "outputs": [],
   "source": [
    "import pandas as pd\n",
    "import numpy as np\n",
    "from whoswho import who\n",
    "from rapidfuzz import process"
   ]
  },
  {
   "cell_type": "code",
   "execution_count": 33,
   "metadata": {},
   "outputs": [],
   "source": [
    "def stringToList(x):\n",
    "    return x.strip('][\\\"\\'').split(', ') if not pd.isnull(x) else x"
   ]
  },
  {
   "cell_type": "code",
   "execution_count": 34,
   "metadata": {},
   "outputs": [],
   "source": [
    "matching = pd.read_csv(\"Data/final_matching.csv\", index_col = 0)\n",
    "matching_post1790 = pd.read_csv(\"Data/final_matching_post1790.csv\", index_col = 0)"
   ]
  },
  {
   "cell_type": "code",
   "execution_count": 35,
   "metadata": {},
   "outputs": [],
   "source": [
    "all_matches_post1790 = pd.read_csv('Data/total_matching_post1790.csv', index_col = 0)"
   ]
  },
  {
   "cell_type": "code",
   "execution_count": 36,
   "metadata": {},
   "outputs": [],
   "source": [
    "matching_merged = pd.concat([matching, matching_post1790]).drop_duplicates()\n",
    "matching_merged = matching_merged[matching_merged['Scores'] != 100][['Delegates', 'Loan Matches']]\n",
    "matching_merged.columns = ['Original Name', 'Matches']\n",
    "all_matches_post1790.columns = ['Original Name', 'Matches']\n",
    "final_matching = pd.concat([matching_merged, all_matches_post1790], axis = 0)\n",
    "final_matching.reset_index(drop = True, inplace = True)"
   ]
  },
  {
   "cell_type": "code",
   "execution_count": 37,
   "metadata": {},
   "outputs": [],
   "source": [
    "final_matching.to_csv('ML_Proj/matching.csv')"
   ]
  }
 ],
 "metadata": {
  "kernelspec": {
   "display_name": "Python 3",
   "language": "python",
   "name": "python3"
  },
  "language_info": {
   "codemirror_mode": {
    "name": "ipython",
    "version": 3
   },
   "file_extension": ".py",
   "mimetype": "text/x-python",
   "name": "python",
   "nbconvert_exporter": "python",
   "pygments_lexer": "ipython3",
   "version": "3.7.4"
  }
 },
 "nbformat": 4,
 "nbformat_minor": 4
}
