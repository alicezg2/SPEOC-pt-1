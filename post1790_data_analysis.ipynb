{
 "cells": [
  {
   "cell_type": "code",
   "execution_count": 117,
   "metadata": {},
   "outputs": [],
   "source": [
    "import pandas as pd\n",
    "import numpy as np\n",
    "from itertools import chain"
   ]
  },
  {
   "cell_type": "code",
   "execution_count": 95,
   "metadata": {},
   "outputs": [],
   "source": [
    "df = pd.read_csv('prepost_matched_debt_files.csv', index_col = 0)"
   ]
  },
  {
   "cell_type": "code",
   "execution_count": 96,
   "metadata": {},
   "outputs": [],
   "source": [
    "def stringToList(x):\n",
    "    return x.strip('][\\\"\\'').split(', ') if not pd.isnull(x) else x"
   ]
  },
  {
   "cell_type": "code",
   "execution_count": 97,
   "metadata": {},
   "outputs": [],
   "source": [
    "df['full name'] = df['full name'].apply(lambda x: stringToList(x))\n",
    "df['Same State Loan Office'] = df['Same State Loan Office'].apply(lambda x: \n",
    "                                                                  stringToList(x))\n",
    "df['Different State Loan Office'] = df['Different State Loan Office'].apply(lambda x: \n",
    "                                                                            stringToList(x))\n",
    "df['Same State Liquidated Debt'] = df['Same State Liquidated Debt'].apply(lambda x: \n",
    "                                                                          stringToList(x))\n",
    "df['Different State Liquidated Debt'] = df['Different State Liquidated Debt'].apply(lambda x: \n",
    "                                                                                    stringToList(x))\n",
    "df['Pierce Certificates'] = df['Pierce Certificates'].apply(lambda x: \n",
    "                                                            stringToList(x))"
   ]
  },
  {
   "cell_type": "markdown",
   "metadata": {},
   "source": [
    "# How many unique individuals were issued 6 percent stocks and deferred 6 percent stocks in 1790 and after?"
   ]
  },
  {
   "cell_type": "code",
   "execution_count": 98,
   "metadata": {},
   "outputs": [
    {
     "data": {
      "text/plain": [
       "state\n",
       "CT    747\n",
       "GA     54\n",
       "MD    356\n",
       "NC     54\n",
       "NH    169\n",
       "NJ    566\n",
       "NY    882\n",
       "PA    839\n",
       "RI    502\n",
       "SC    274\n",
       "VA    509\n",
       "Name: full name, dtype: int64"
      ]
     },
     "execution_count": 98,
     "metadata": {},
     "output_type": "execute_result"
    }
   ],
   "source": [
    "df.groupby('state')['full name'].count()"
   ]
  },
  {
   "cell_type": "markdown",
   "metadata": {},
   "source": [
    "# How many of these individuals\n",
    "- were original purchasers of loan office certicates of the same state as the 6 percent stock?\n",
    "- were original purchasers of loan office certicates issued from another state?\n",
    "- were original recipients of liquidated debt certicates issued by the same-state loan office? other state loan offices?\n",
    "- were original recipients of the Pierce Certicates?"
   ]
  },
  {
   "cell_type": "markdown",
   "metadata": {},
   "source": [
    "### How many individuals were original purchasers of loan office certicates of the same state as the 6 percent stock?"
   ]
  },
  {
   "cell_type": "code",
   "execution_count": 99,
   "metadata": {},
   "outputs": [
    {
     "data": {
      "text/plain": [
       "CT    327\n",
       "PA    307\n",
       "MD    102\n",
       "VA     82\n",
       "NH     63\n",
       "NY     56\n",
       "NJ     24\n",
       "RI     15\n",
       "SC     14\n",
       "GA      2\n",
       "Name: state, dtype: int64"
      ]
     },
     "execution_count": 99,
     "metadata": {},
     "output_type": "execute_result"
    }
   ],
   "source": [
    "df[df['Same State Loan Office'].apply(lambda x: \n",
    "                                      type(x) == list)]['state'].value_counts()"
   ]
  },
  {
   "cell_type": "markdown",
   "metadata": {},
   "source": [
    "### How many individuals were original purchasers of loan office certicates of a different state as the 6 percent stock?"
   ]
  },
  {
   "cell_type": "code",
   "execution_count": 100,
   "metadata": {},
   "outputs": [
    {
     "data": {
      "text/plain": [
       "PA    128\n",
       "CT    115\n",
       "VA    103\n",
       "MD     59\n",
       "NY     44\n",
       "NH     42\n",
       "NJ     30\n",
       "SC     18\n",
       "RI     16\n",
       "GA      2\n",
       "NC      1\n",
       "Name: state, dtype: int64"
      ]
     },
     "execution_count": 100,
     "metadata": {},
     "output_type": "execute_result"
    }
   ],
   "source": [
    "df[df['Different State Loan Office'].apply(lambda x: \n",
    "                                           type(x) == list)]['state'].value_counts()"
   ]
  },
  {
   "cell_type": "markdown",
   "metadata": {},
   "source": [
    "##### Aside: How many individuals were original purchasers of loan office certicates of a different and same state as the 6 percent stock?"
   ]
  },
  {
   "cell_type": "code",
   "execution_count": 101,
   "metadata": {},
   "outputs": [
    {
     "data": {
      "text/plain": [
       "PA    84\n",
       "CT    67\n",
       "VA    39\n",
       "MD    21\n",
       "NJ    16\n",
       "NH    14\n",
       "NY    14\n",
       "SC    10\n",
       "RI     8\n",
       "GA     2\n",
       "Name: state, dtype: int64"
      ]
     },
     "execution_count": 101,
     "metadata": {},
     "output_type": "execute_result"
    }
   ],
   "source": [
    "df[[type(ss) == list and type(ds) == list for \n",
    "    ss, ds in zip(df['Same State Loan Office'], \n",
    "                  df['Different State Loan Office'])]]['state'].value_counts()"
   ]
  },
  {
   "cell_type": "markdown",
   "metadata": {},
   "source": [
    "### How many individuals were original recipients of liquidated debt certificates issued by the same state loan office?"
   ]
  },
  {
   "cell_type": "code",
   "execution_count": 102,
   "metadata": {},
   "outputs": [
    {
     "data": {
      "text/plain": [
       "PA    213\n",
       "CT    107\n",
       "NY     51\n",
       "NH     29\n",
       "VA     14\n",
       "NJ      9\n",
       "SC      7\n",
       "RI      6\n",
       "MD      3\n",
       "GA      1\n",
       "Name: state, dtype: int64"
      ]
     },
     "execution_count": 102,
     "metadata": {},
     "output_type": "execute_result"
    }
   ],
   "source": [
    "df[df['Same State Liquidated Debt'].apply(lambda x: \n",
    "                                          type(x) == list)]['state'].value_counts()"
   ]
  },
  {
   "cell_type": "markdown",
   "metadata": {},
   "source": [
    "### How many individuals were original recipients of liquidated debt certificates issued by another state loan office?"
   ]
  },
  {
   "cell_type": "code",
   "execution_count": 103,
   "metadata": {},
   "outputs": [
    {
     "data": {
      "text/plain": [
       "CT    185\n",
       "PA    131\n",
       "NY     74\n",
       "NH     59\n",
       "VA     59\n",
       "MD     41\n",
       "NJ     34\n",
       "RI     21\n",
       "SC     15\n",
       "GA      1\n",
       "Name: state, dtype: int64"
      ]
     },
     "execution_count": 103,
     "metadata": {},
     "output_type": "execute_result"
    }
   ],
   "source": [
    "df[df['Different State Liquidated Debt'].apply(lambda x: \n",
    "                                               type(x) == list)]['state'].value_counts()"
   ]
  },
  {
   "cell_type": "markdown",
   "metadata": {},
   "source": [
    "##### Aside: How many individuals were original purchasers of liquidated debt certificates from the same and another loan office?"
   ]
  },
  {
   "cell_type": "code",
   "execution_count": 104,
   "metadata": {},
   "outputs": [
    {
     "data": {
      "text/plain": [
       "CT    107\n",
       "PA     65\n",
       "NY     48\n",
       "NH     29\n",
       "VA     13\n",
       "NJ      8\n",
       "RI      6\n",
       "SC      5\n",
       "MD      3\n",
       "GA      1\n",
       "Name: state, dtype: int64"
      ]
     },
     "execution_count": 104,
     "metadata": {},
     "output_type": "execute_result"
    }
   ],
   "source": [
    "df[[type(ss) == list and type(ds) == list for \n",
    "    ss, ds in zip(df['Same State Liquidated Debt'], \n",
    "                  df['Different State Liquidated Debt'])]]['state'].value_counts()"
   ]
  },
  {
   "cell_type": "markdown",
   "metadata": {},
   "source": [
    "### How many individuals were original recipients of the Pierce Certicates, corresponding to the same state?"
   ]
  },
  {
   "cell_type": "code",
   "execution_count": 105,
   "metadata": {},
   "outputs": [
    {
     "data": {
      "text/plain": [
       "CT    182\n",
       "PA    166\n",
       "VA    146\n",
       "MD     82\n",
       "NY     55\n",
       "NH     35\n",
       "NJ     23\n",
       "SC     16\n",
       "RI     15\n",
       "NC      2\n",
       "GA      1\n",
       "Name: state, dtype: int64"
      ]
     },
     "execution_count": 105,
     "metadata": {},
     "output_type": "execute_result"
    }
   ],
   "source": [
    "df[df['Pierce Certificates'].apply(lambda x: \n",
    "                                   type(x) == list)]['state'].value_counts()"
   ]
  },
  {
   "cell_type": "markdown",
   "metadata": {},
   "source": [
    "### For how many individuals do the face values of their pre-1790 certificates equal the sum of the face values of the 6 percent and deferred 6 percent stocks that they received?"
   ]
  },
  {
   "cell_type": "markdown",
   "metadata": {},
   "source": [
    "##### Number of people with non-zero assets and equal values"
   ]
  },
  {
   "cell_type": "code",
   "execution_count": 106,
   "metadata": {},
   "outputs": [
    {
     "data": {
      "text/plain": [
       "14"
      ]
     },
     "execution_count": 106,
     "metadata": {},
     "output_type": "execute_result"
    }
   ],
   "source": [
    "df[[tt == dt and tt != 0 \n",
    "    for tt, dt in zip(df['Total'], df['Debt Total'])]].shape[0]"
   ]
  },
  {
   "cell_type": "markdown",
   "metadata": {},
   "source": [
    "##### State Distribution"
   ]
  },
  {
   "cell_type": "code",
   "execution_count": 107,
   "metadata": {},
   "outputs": [
    {
     "data": {
      "text/plain": [
       "PA    4\n",
       "MD    3\n",
       "CT    3\n",
       "VA    2\n",
       "NH    2\n",
       "Name: state, dtype: int64"
      ]
     },
     "execution_count": 107,
     "metadata": {},
     "output_type": "execute_result"
    }
   ],
   "source": [
    "df[[tt == dt and tt != 0 \n",
    "    for tt, dt in zip(df['Total'], df['Debt Total'])]]['state'].value_counts()"
   ]
  },
  {
   "cell_type": "markdown",
   "metadata": {},
   "source": [
    "##### Number of people with zero assets and equal values\n",
    "Most of these occur when someone has 3% but no 6% certificates"
   ]
  },
  {
   "cell_type": "code",
   "execution_count": 108,
   "metadata": {},
   "outputs": [
    {
     "data": {
      "text/plain": [
       "1299"
      ]
     },
     "execution_count": 108,
     "metadata": {},
     "output_type": "execute_result"
    }
   ],
   "source": [
    "df[[tt == dt and tt == 0 \n",
    "    for tt, dt in zip(df['Total'], df['Debt Total'])]].shape[0]"
   ]
  },
  {
   "cell_type": "markdown",
   "metadata": {},
   "source": [
    "##### State Distribution"
   ]
  },
  {
   "cell_type": "code",
   "execution_count": 109,
   "metadata": {},
   "outputs": [
    {
     "data": {
      "text/plain": [
       "NY    688\n",
       "NJ    525\n",
       "VA     26\n",
       "CT     23\n",
       "RI     17\n",
       "PA      9\n",
       "MD      8\n",
       "SC      3\n",
       "Name: state, dtype: int64"
      ]
     },
     "execution_count": 109,
     "metadata": {},
     "output_type": "execute_result"
    }
   ],
   "source": [
    "df[[tt == dt and tt == 0 \n",
    "    for tt, dt in zip(df['Total'], df['Debt Total'])]]['state'].value_counts()"
   ]
  },
  {
   "cell_type": "markdown",
   "metadata": {},
   "source": [
    "### Who, and how many people redeemed certificates with Hamilton and were not original owners/purchasers"
   ]
  },
  {
   "cell_type": "code",
   "execution_count": 110,
   "metadata": {},
   "outputs": [
    {
     "name": "stdout",
     "output_type": "stream",
     "text": [
      "3249\n"
     ]
    }
   ],
   "source": [
    "print(df[df['tot_pre1790_certs'] == 0]['state'].shape[0])"
   ]
  },
  {
   "cell_type": "markdown",
   "metadata": {},
   "source": [
    "##### state distribution"
   ]
  },
  {
   "cell_type": "code",
   "execution_count": 111,
   "metadata": {},
   "outputs": [
    {
     "data": {
      "text/plain": [
       "NY    757\n",
       "NJ    520\n",
       "RI    473\n",
       "PA    357\n",
       "VA    286\n",
       "CT    269\n",
       "SC    249\n",
       "MD    180\n",
       "NH     55\n",
       "GA     52\n",
       "NC     51\n",
       "Name: state, dtype: int64"
      ]
     },
     "execution_count": 111,
     "metadata": {},
     "output_type": "execute_result"
    }
   ],
   "source": [
    "df[df['tot_pre1790_certs'] == 0]['state'].value_counts()"
   ]
  },
  {
   "cell_type": "code",
   "execution_count": 138,
   "metadata": {},
   "outputs": [],
   "source": [
    "namelsts = df[df['tot_pre1790_certs'] == 0]['full name'].apply(lambda x: pd.Series(x)).values\n",
    "names = [x for x in list(chain.from_iterable(namelsts)) if not pd.isnull(x)]"
   ]
  },
  {
   "cell_type": "code",
   "execution_count": 188,
   "metadata": {},
   "outputs": [],
   "source": [
    "name_state_asset = pd.DataFrame({}, columns = ['Full Name', 'Total', 'state'])"
   ]
  },
  {
   "cell_type": "code",
   "execution_count": 189,
   "metadata": {},
   "outputs": [],
   "source": [
    "name_df = df[df['tot_pre1790_certs'] == 0]['full name'].apply(lambda x: pd.Series(x))\n",
    "for name in names:\n",
    "    ind1 = name_df[name_df[0] == name].index.tolist()\n",
    "    ind2 = name_df[name_df[1] == name].index.tolist()\n",
    "    ind3 = name_df[name_df[2] == name].index.tolist()\n",
    "    ind1.extend(ind2)\n",
    "    ind1.extend(ind3)\n",
    "    ind1 = list(set(ind1))\n",
    "    tot_assets = df.loc[ind1, 'Total'].sum()\n",
    "    state = df.loc[ind1, 'state'].values[0]\n",
    "    add_df = pd.DataFrame()\n",
    "    add_df['Full Name'] = [name]\n",
    "    add_df['Total'] = [tot_assets]\n",
    "    add_df['state'] = [state]\n",
    "    name_state_asset = pd.concat([name_state_asset, add_df])"
   ]
  },
  {
   "cell_type": "code",
   "execution_count": 199,
   "metadata": {},
   "outputs": [],
   "source": [
    "cd_names = pd.DataFrame(name_state_asset.groupby(['Full Name', 'state'])['Total'].sum()).reset_index()"
   ]
  },
  {
   "cell_type": "code",
   "execution_count": 201,
   "metadata": {},
   "outputs": [],
   "source": [
    "cd_names.to_csv(\"speculator_names.csv\")"
   ]
  }
 ],
 "metadata": {
  "kernelspec": {
   "display_name": "Python 3",
   "language": "python",
   "name": "python3"
  },
  "language_info": {
   "codemirror_mode": {
    "name": "ipython",
    "version": 3
   },
   "file_extension": ".py",
   "mimetype": "text/x-python",
   "name": "python",
   "nbconvert_exporter": "python",
   "pygments_lexer": "ipython3",
   "version": "3.7.4"
  }
 },
 "nbformat": 4,
 "nbformat_minor": 4
}
