{
 "cells": [
  {
   "cell_type": "code",
   "execution_count": 1,
   "metadata": {},
   "outputs": [],
   "source": [
    "import pandas as pd\n",
    "import numpy as np\n",
    "from itertools import chain"
   ]
  },
  {
   "cell_type": "code",
   "execution_count": 49,
   "metadata": {},
   "outputs": [],
   "source": [
    "df = pd.read_csv('prepost_matched_debt_files.csv', index_col = 0)"
   ]
  },
  {
   "cell_type": "code",
   "execution_count": 50,
   "metadata": {},
   "outputs": [],
   "source": [
    "def stringToList(x):\n",
    "    lst = x.strip('][\\\"\\'').split(', ') if not pd.isnull(x) else x\n",
    "    return [x.strip('\\\"\\' ') for x in lst ] if not pd.isnull(x) else x"
   ]
  },
  {
   "cell_type": "code",
   "execution_count": 51,
   "metadata": {},
   "outputs": [],
   "source": [
    "df['full name'] = df['full name'].apply(lambda x: stringToList(x))\n",
    "df['Same State Loan Office'] = df['Same State Loan Office'].apply(lambda x: \n",
    "                                                                  stringToList(x))\n",
    "df['Different State Loan Office'] = df['Different State Loan Office'].apply(lambda x: \n",
    "                                                                            stringToList(x))\n",
    "df['Same State Liquidated Debt'] = df['Same State Liquidated Debt'].apply(lambda x: \n",
    "                                                                          stringToList(x))\n",
    "df['Different State Liquidated Debt'] = df['Different State Liquidated Debt'].apply(lambda x: \n",
    "                                                                                    stringToList(x))\n",
    "df['Pierce Certificates'] = df['Pierce Certificates'].apply(lambda x: \n",
    "                                                            stringToList(x))"
   ]
  },
  {
   "cell_type": "markdown",
   "metadata": {},
   "source": [
    "# How many unique individuals were issued 6 percent stocks and deferred 6 percent stocks in 1790 and after?"
   ]
  },
  {
   "cell_type": "code",
   "execution_count": 52,
   "metadata": {},
   "outputs": [
    {
     "data": {
      "text/plain": [
       "state\n",
       "CT    752\n",
       "GA     53\n",
       "MD    369\n",
       "NC     54\n",
       "NH    169\n",
       "NJ    567\n",
       "NY    868\n",
       "PA    858\n",
       "RI    507\n",
       "SC    270\n",
       "VA    515\n",
       "Name: full name, dtype: int64"
      ]
     },
     "execution_count": 52,
     "metadata": {},
     "output_type": "execute_result"
    }
   ],
   "source": [
    "df.groupby('state')['full name'].count()"
   ]
  },
  {
   "cell_type": "markdown",
   "metadata": {},
   "source": [
    "# How many unique groups of individuals\n",
    "- were original purchasers of loan office certicates of the same state as the 6 percent stock?\n",
    "- were original purchasers of loan office certicates issued from another state?\n",
    "- were original recipients of liquidated debt certicates issued by the same-state loan office? other state loan offices?\n",
    "- were original recipients of the Pierce Certicates?"
   ]
  },
  {
   "cell_type": "markdown",
   "metadata": {},
   "source": [
    "### How many unique groups of individuals were original purchasers of loan office certicates of the same state as the 6 percent stock?"
   ]
  },
  {
   "cell_type": "code",
   "execution_count": 60,
   "metadata": {},
   "outputs": [
    {
     "data": {
      "text/plain": [
       "PA    328\n",
       "CT    325\n",
       "MD    108\n",
       "VA     85\n",
       "NY     66\n",
       "NH     63\n",
       "NJ     26\n",
       "SC     14\n",
       "RI     14\n",
       "GA      2\n",
       "Name: state, dtype: int64"
      ]
     },
     "execution_count": 60,
     "metadata": {},
     "output_type": "execute_result"
    }
   ],
   "source": [
    "df[df['Same State Loan Office'].apply(lambda x: \n",
    "                                      type(x) == list)]['state'].value_counts()"
   ]
  },
  {
   "cell_type": "markdown",
   "metadata": {},
   "source": [
    "### How many unique groups of individuals were original purchasers of loan office certicates of a different state as the 6 percent stock?"
   ]
  },
  {
   "cell_type": "code",
   "execution_count": 61,
   "metadata": {},
   "outputs": [
    {
     "data": {
      "text/plain": [
       "PA    136\n",
       "CT    117\n",
       "VA    106\n",
       "MD     65\n",
       "NY     48\n",
       "NH     42\n",
       "NJ     30\n",
       "SC     18\n",
       "RI     17\n",
       "GA      2\n",
       "NC      1\n",
       "Name: state, dtype: int64"
      ]
     },
     "execution_count": 61,
     "metadata": {},
     "output_type": "execute_result"
    }
   ],
   "source": [
    "df[df['Different State Loan Office'].apply(lambda x: \n",
    "                                           type(x) == list)]['state'].value_counts()"
   ]
  },
  {
   "cell_type": "markdown",
   "metadata": {},
   "source": [
    "##### Aside: How many unique groups of individuals were original purchasers of loan office certicates of a different and same state as the 6 percent stock?"
   ]
  },
  {
   "cell_type": "code",
   "execution_count": 62,
   "metadata": {},
   "outputs": [
    {
     "data": {
      "text/plain": [
       "PA    93\n",
       "CT    65\n",
       "VA    41\n",
       "MD    25\n",
       "NJ    18\n",
       "NY    18\n",
       "NH    14\n",
       "SC    10\n",
       "RI     8\n",
       "GA     2\n",
       "Name: state, dtype: int64"
      ]
     },
     "execution_count": 62,
     "metadata": {},
     "output_type": "execute_result"
    }
   ],
   "source": [
    "df[[type(ss) == list and type(ds) == list for \n",
    "    ss, ds in zip(df['Same State Loan Office'], \n",
    "                  df['Different State Loan Office'])]]['state'].value_counts()"
   ]
  },
  {
   "cell_type": "markdown",
   "metadata": {},
   "source": [
    "### How many unique groups of individuals were original recipients of liquidated debt certificates issued by the same state loan office?"
   ]
  },
  {
   "cell_type": "code",
   "execution_count": 63,
   "metadata": {},
   "outputs": [
    {
     "data": {
      "text/plain": [
       "PA    228\n",
       "CT    111\n",
       "NY     56\n",
       "NH     29\n",
       "VA     15\n",
       "NJ      9\n",
       "SC      7\n",
       "RI      5\n",
       "MD      4\n",
       "GA      1\n",
       "Name: state, dtype: int64"
      ]
     },
     "execution_count": 63,
     "metadata": {},
     "output_type": "execute_result"
    }
   ],
   "source": [
    "df[df['Same State Liquidated Debt'].apply(lambda x: \n",
    "                                          type(x) == list)]['state'].value_counts()"
   ]
  },
  {
   "cell_type": "markdown",
   "metadata": {},
   "source": [
    "### How many unique groups of individuals were original recipients of liquidated debt certificates issued by another state loan office?"
   ]
  },
  {
   "cell_type": "code",
   "execution_count": 64,
   "metadata": {},
   "outputs": [
    {
     "data": {
      "text/plain": [
       "CT    188\n",
       "PA    138\n",
       "NY     78\n",
       "VA     61\n",
       "NH     59\n",
       "MD     42\n",
       "NJ     34\n",
       "RI     21\n",
       "SC     15\n",
       "GA      1\n",
       "Name: state, dtype: int64"
      ]
     },
     "execution_count": 64,
     "metadata": {},
     "output_type": "execute_result"
    }
   ],
   "source": [
    "df[df['Different State Liquidated Debt'].apply(lambda x: \n",
    "                                               type(x) == list)]['state'].value_counts()"
   ]
  },
  {
   "cell_type": "markdown",
   "metadata": {},
   "source": [
    "##### Aside: How many unique groups of individuals were original purchasers of liquidated debt certificates from the same and another loan office?"
   ]
  },
  {
   "cell_type": "code",
   "execution_count": 65,
   "metadata": {},
   "outputs": [
    {
     "data": {
      "text/plain": [
       "CT    110\n",
       "PA     69\n",
       "NY     52\n",
       "NH     29\n",
       "VA     13\n",
       "NJ      8\n",
       "SC      5\n",
       "RI      5\n",
       "MD      4\n",
       "GA      1\n",
       "Name: state, dtype: int64"
      ]
     },
     "execution_count": 65,
     "metadata": {},
     "output_type": "execute_result"
    }
   ],
   "source": [
    "df[[type(ss) == list and type(ds) == list for \n",
    "    ss, ds in zip(df['Same State Liquidated Debt'], \n",
    "                  df['Different State Liquidated Debt'])]]['state'].value_counts()"
   ]
  },
  {
   "cell_type": "markdown",
   "metadata": {},
   "source": [
    "### How many unique groups of individuals were original recipients of the Pierce Certicates, corresponding to the same state?"
   ]
  },
  {
   "cell_type": "code",
   "execution_count": 66,
   "metadata": {},
   "outputs": [
    {
     "data": {
      "text/plain": [
       "CT    182\n",
       "PA    172\n",
       "VA    139\n",
       "MD     85\n",
       "NY     60\n",
       "NH     35\n",
       "NJ     23\n",
       "SC     16\n",
       "RI     15\n",
       "NC      2\n",
       "GA      1\n",
       "Name: state, dtype: int64"
      ]
     },
     "execution_count": 66,
     "metadata": {},
     "output_type": "execute_result"
    }
   ],
   "source": [
    "df[df['Pierce Certificates'].apply(lambda x: \n",
    "                                   type(x) == list)]['state'].value_counts()"
   ]
  },
  {
   "cell_type": "markdown",
   "metadata": {},
   "source": [
    "### For how many unique groups of individuals do the face values of their pre-1790 certificates equal the sum of the face values of the 6 percent and deferred 6 percent stocks that they received?"
   ]
  },
  {
   "cell_type": "markdown",
   "metadata": {},
   "source": [
    "##### Number of people with non-zero assets and that the debt values from pre-1790 and post-1790 are equal"
   ]
  },
  {
   "cell_type": "code",
   "execution_count": 73,
   "metadata": {},
   "outputs": [
    {
     "data": {
      "text/html": [
       "<div>\n",
       "<style scoped>\n",
       "    .dataframe tbody tr th:only-of-type {\n",
       "        vertical-align: middle;\n",
       "    }\n",
       "\n",
       "    .dataframe tbody tr th {\n",
       "        vertical-align: top;\n",
       "    }\n",
       "\n",
       "    .dataframe thead th {\n",
       "        text-align: right;\n",
       "    }\n",
       "</style>\n",
       "<table border=\"1\" class=\"dataframe\">\n",
       "  <thead>\n",
       "    <tr style=\"text-align: right;\">\n",
       "      <th></th>\n",
       "      <th>full name</th>\n",
       "      <th>state</th>\n",
       "      <th>Same State Loan Office</th>\n",
       "      <th>Different State Loan Office</th>\n",
       "      <th>Same State Liquidated Debt</th>\n",
       "      <th>Different State Liquidated Debt</th>\n",
       "      <th>Pierce Certificates</th>\n",
       "      <th>Total</th>\n",
       "      <th>SSLO Total</th>\n",
       "      <th>DSLO Total</th>\n",
       "      <th>SSLD Total</th>\n",
       "      <th>DSLD Total</th>\n",
       "      <th>PC Total</th>\n",
       "      <th>Debt Total</th>\n",
       "      <th>tot_pre1790_certs</th>\n",
       "    </tr>\n",
       "  </thead>\n",
       "  <tbody>\n",
       "    <tr>\n",
       "      <td>60</td>\n",
       "      <td>[Aaron Kelsey]</td>\n",
       "      <td>CT</td>\n",
       "      <td>[Aaron Kelsey]</td>\n",
       "      <td>NaN</td>\n",
       "      <td>NaN</td>\n",
       "      <td>NaN</td>\n",
       "      <td>NaN</td>\n",
       "      <td>95.10</td>\n",
       "      <td>95.10834</td>\n",
       "      <td>0.0</td>\n",
       "      <td>0.000000</td>\n",
       "      <td>0.0</td>\n",
       "      <td>0.0</td>\n",
       "      <td>95.108340</td>\n",
       "      <td>1</td>\n",
       "    </tr>\n",
       "    <tr>\n",
       "      <td>73</td>\n",
       "      <td>[Abel Morse]</td>\n",
       "      <td>CT</td>\n",
       "      <td>[Abel Morse]</td>\n",
       "      <td>NaN</td>\n",
       "      <td>NaN</td>\n",
       "      <td>NaN</td>\n",
       "      <td>NaN</td>\n",
       "      <td>1388.83</td>\n",
       "      <td>1388.86930</td>\n",
       "      <td>0.0</td>\n",
       "      <td>0.000000</td>\n",
       "      <td>0.0</td>\n",
       "      <td>0.0</td>\n",
       "      <td>1388.869300</td>\n",
       "      <td>1</td>\n",
       "    </tr>\n",
       "    <tr>\n",
       "      <td>74</td>\n",
       "      <td>[Abel Patchen]</td>\n",
       "      <td>CT</td>\n",
       "      <td>[Abel Patchen]</td>\n",
       "      <td>NaN</td>\n",
       "      <td>NaN</td>\n",
       "      <td>NaN</td>\n",
       "      <td>NaN</td>\n",
       "      <td>153.96</td>\n",
       "      <td>153.97916</td>\n",
       "      <td>0.0</td>\n",
       "      <td>0.000000</td>\n",
       "      <td>0.0</td>\n",
       "      <td>0.0</td>\n",
       "      <td>153.979160</td>\n",
       "      <td>1</td>\n",
       "    </tr>\n",
       "    <tr>\n",
       "      <td>102</td>\n",
       "      <td>[Abner Corson]</td>\n",
       "      <td>PA</td>\n",
       "      <td>[Abner Corson]</td>\n",
       "      <td>NaN</td>\n",
       "      <td>NaN</td>\n",
       "      <td>NaN</td>\n",
       "      <td>NaN</td>\n",
       "      <td>60.23</td>\n",
       "      <td>60.23889</td>\n",
       "      <td>0.0</td>\n",
       "      <td>0.000000</td>\n",
       "      <td>0.0</td>\n",
       "      <td>0.0</td>\n",
       "      <td>60.238890</td>\n",
       "      <td>1</td>\n",
       "    </tr>\n",
       "    <tr>\n",
       "      <td>112</td>\n",
       "      <td>[Abraham Brinsmade]</td>\n",
       "      <td>CT</td>\n",
       "      <td>[Abraham Brinsmade]</td>\n",
       "      <td>NaN</td>\n",
       "      <td>NaN</td>\n",
       "      <td>NaN</td>\n",
       "      <td>NaN</td>\n",
       "      <td>400.00</td>\n",
       "      <td>400.00000</td>\n",
       "      <td>0.0</td>\n",
       "      <td>0.000000</td>\n",
       "      <td>0.0</td>\n",
       "      <td>0.0</td>\n",
       "      <td>400.000000</td>\n",
       "      <td>1</td>\n",
       "    </tr>\n",
       "    <tr>\n",
       "      <td>...</td>\n",
       "      <td>...</td>\n",
       "      <td>...</td>\n",
       "      <td>...</td>\n",
       "      <td>...</td>\n",
       "      <td>...</td>\n",
       "      <td>...</td>\n",
       "      <td>...</td>\n",
       "      <td>...</td>\n",
       "      <td>...</td>\n",
       "      <td>...</td>\n",
       "      <td>...</td>\n",
       "      <td>...</td>\n",
       "      <td>...</td>\n",
       "      <td>...</td>\n",
       "      <td>...</td>\n",
       "    </tr>\n",
       "    <tr>\n",
       "      <td>4713</td>\n",
       "      <td>[William Dickensheet]</td>\n",
       "      <td>MD</td>\n",
       "      <td>[William Dickensheet]</td>\n",
       "      <td>NaN</td>\n",
       "      <td>NaN</td>\n",
       "      <td>NaN</td>\n",
       "      <td>NaN</td>\n",
       "      <td>50.00</td>\n",
       "      <td>50.00833</td>\n",
       "      <td>0.0</td>\n",
       "      <td>0.000000</td>\n",
       "      <td>0.0</td>\n",
       "      <td>0.0</td>\n",
       "      <td>50.008330</td>\n",
       "      <td>1</td>\n",
       "    </tr>\n",
       "    <tr>\n",
       "      <td>4783</td>\n",
       "      <td>[William House]</td>\n",
       "      <td>MD</td>\n",
       "      <td>[William House]</td>\n",
       "      <td>NaN</td>\n",
       "      <td>NaN</td>\n",
       "      <td>NaN</td>\n",
       "      <td>NaN</td>\n",
       "      <td>25.47</td>\n",
       "      <td>25.48750</td>\n",
       "      <td>0.0</td>\n",
       "      <td>0.000000</td>\n",
       "      <td>0.0</td>\n",
       "      <td>0.0</td>\n",
       "      <td>25.487500</td>\n",
       "      <td>1</td>\n",
       "    </tr>\n",
       "    <tr>\n",
       "      <td>4890</td>\n",
       "      <td>[William Sitgreaves]</td>\n",
       "      <td>PA</td>\n",
       "      <td>NaN</td>\n",
       "      <td>NaN</td>\n",
       "      <td>[William Sitgreaves]</td>\n",
       "      <td>NaN</td>\n",
       "      <td>NaN</td>\n",
       "      <td>1277.57</td>\n",
       "      <td>0.00000</td>\n",
       "      <td>0.0</td>\n",
       "      <td>1277.577778</td>\n",
       "      <td>0.0</td>\n",
       "      <td>0.0</td>\n",
       "      <td>1277.577778</td>\n",
       "      <td>1</td>\n",
       "    </tr>\n",
       "    <tr>\n",
       "      <td>4958</td>\n",
       "      <td>[William Wyvell]</td>\n",
       "      <td>MD</td>\n",
       "      <td>[William Wyvell]</td>\n",
       "      <td>NaN</td>\n",
       "      <td>NaN</td>\n",
       "      <td>NaN</td>\n",
       "      <td>NaN</td>\n",
       "      <td>22.50</td>\n",
       "      <td>22.50000</td>\n",
       "      <td>0.0</td>\n",
       "      <td>0.000000</td>\n",
       "      <td>0.0</td>\n",
       "      <td>0.0</td>\n",
       "      <td>22.500000</td>\n",
       "      <td>1</td>\n",
       "    </tr>\n",
       "    <tr>\n",
       "      <td>4969</td>\n",
       "      <td>[Zachariah Tatum]</td>\n",
       "      <td>VA</td>\n",
       "      <td>NaN</td>\n",
       "      <td>NaN</td>\n",
       "      <td>NaN</td>\n",
       "      <td>NaN</td>\n",
       "      <td>[Zachariah Tatum]</td>\n",
       "      <td>1380.00</td>\n",
       "      <td>0.00000</td>\n",
       "      <td>0.0</td>\n",
       "      <td>0.000000</td>\n",
       "      <td>0.0</td>\n",
       "      <td>1380.0</td>\n",
       "      <td>1380.000000</td>\n",
       "      <td>1</td>\n",
       "    </tr>\n",
       "  </tbody>\n",
       "</table>\n",
       "<p>94 rows × 15 columns</p>\n",
       "</div>"
      ],
      "text/plain": [
       "                  full name state Same State Loan Office  \\\n",
       "60           [Aaron Kelsey]    CT         [Aaron Kelsey]   \n",
       "73             [Abel Morse]    CT           [Abel Morse]   \n",
       "74           [Abel Patchen]    CT         [Abel Patchen]   \n",
       "102          [Abner Corson]    PA         [Abner Corson]   \n",
       "112     [Abraham Brinsmade]    CT    [Abraham Brinsmade]   \n",
       "...                     ...   ...                    ...   \n",
       "4713  [William Dickensheet]    MD  [William Dickensheet]   \n",
       "4783        [William House]    MD        [William House]   \n",
       "4890   [William Sitgreaves]    PA                    NaN   \n",
       "4958       [William Wyvell]    MD       [William Wyvell]   \n",
       "4969      [Zachariah Tatum]    VA                    NaN   \n",
       "\n",
       "     Different State Loan Office Same State Liquidated Debt  \\\n",
       "60                           NaN                        NaN   \n",
       "73                           NaN                        NaN   \n",
       "74                           NaN                        NaN   \n",
       "102                          NaN                        NaN   \n",
       "112                          NaN                        NaN   \n",
       "...                          ...                        ...   \n",
       "4713                         NaN                        NaN   \n",
       "4783                         NaN                        NaN   \n",
       "4890                         NaN       [William Sitgreaves]   \n",
       "4958                         NaN                        NaN   \n",
       "4969                         NaN                        NaN   \n",
       "\n",
       "     Different State Liquidated Debt Pierce Certificates    Total  SSLO Total  \\\n",
       "60                               NaN                 NaN    95.10    95.10834   \n",
       "73                               NaN                 NaN  1388.83  1388.86930   \n",
       "74                               NaN                 NaN   153.96   153.97916   \n",
       "102                              NaN                 NaN    60.23    60.23889   \n",
       "112                              NaN                 NaN   400.00   400.00000   \n",
       "...                              ...                 ...      ...         ...   \n",
       "4713                             NaN                 NaN    50.00    50.00833   \n",
       "4783                             NaN                 NaN    25.47    25.48750   \n",
       "4890                             NaN                 NaN  1277.57     0.00000   \n",
       "4958                             NaN                 NaN    22.50    22.50000   \n",
       "4969                             NaN   [Zachariah Tatum]  1380.00     0.00000   \n",
       "\n",
       "      DSLO Total   SSLD Total  DSLD Total  PC Total   Debt Total  \\\n",
       "60           0.0     0.000000         0.0       0.0    95.108340   \n",
       "73           0.0     0.000000         0.0       0.0  1388.869300   \n",
       "74           0.0     0.000000         0.0       0.0   153.979160   \n",
       "102          0.0     0.000000         0.0       0.0    60.238890   \n",
       "112          0.0     0.000000         0.0       0.0   400.000000   \n",
       "...          ...          ...         ...       ...          ...   \n",
       "4713         0.0     0.000000         0.0       0.0    50.008330   \n",
       "4783         0.0     0.000000         0.0       0.0    25.487500   \n",
       "4890         0.0  1277.577778         0.0       0.0  1277.577778   \n",
       "4958         0.0     0.000000         0.0       0.0    22.500000   \n",
       "4969         0.0     0.000000         0.0    1380.0  1380.000000   \n",
       "\n",
       "      tot_pre1790_certs  \n",
       "60                    1  \n",
       "73                    1  \n",
       "74                    1  \n",
       "102                   1  \n",
       "112                   1  \n",
       "...                 ...  \n",
       "4713                  1  \n",
       "4783                  1  \n",
       "4890                  1  \n",
       "4958                  1  \n",
       "4969                  1  \n",
       "\n",
       "[94 rows x 15 columns]"
      ]
     },
     "execution_count": 73,
     "metadata": {},
     "output_type": "execute_result"
    }
   ],
   "source": [
    "df[[abs(tt-dt)<=1 and tt != 0 \n",
    "    for tt, dt in zip(df['Total'], df['Debt Total'])]]"
   ]
  },
  {
   "cell_type": "code",
   "execution_count": 74,
   "metadata": {},
   "outputs": [
    {
     "data": {
      "text/plain": [
       "1736"
      ]
     },
     "execution_count": 74,
     "metadata": {},
     "output_type": "execute_result"
    }
   ],
   "source": [
    "df[df['tot_pre1790_certs'] != 0].shape[0]"
   ]
  },
  {
   "cell_type": "code",
   "execution_count": 75,
   "metadata": {},
   "outputs": [
    {
     "data": {
      "text/plain": [
       "94"
      ]
     },
     "execution_count": 75,
     "metadata": {},
     "output_type": "execute_result"
    }
   ],
   "source": [
    "df[[abs(tt-dt)<=1 and tt != 0 \n",
    "    for tt, dt in zip(df['Total'], df['Debt Total'])]].shape[0]"
   ]
  },
  {
   "cell_type": "markdown",
   "metadata": {},
   "source": [
    "##### State Distribution"
   ]
  },
  {
   "cell_type": "code",
   "execution_count": 76,
   "metadata": {},
   "outputs": [
    {
     "data": {
      "text/plain": [
       "CT    48\n",
       "MD    18\n",
       "PA    17\n",
       "NH     6\n",
       "VA     5\n",
       "Name: state, dtype: int64"
      ]
     },
     "execution_count": 76,
     "metadata": {},
     "output_type": "execute_result"
    }
   ],
   "source": [
    "df[[abs(tt-dt)<=1 and tt != 0 \n",
    "    for tt, dt in zip(df['Total'], df['Debt Total'])]]['state'].value_counts()"
   ]
  },
  {
   "cell_type": "markdown",
   "metadata": {},
   "source": [
    "##### Number of people with zero assets and equal values\n",
    "Most of these occur when someone has 3% but no 6% certificates"
   ]
  },
  {
   "cell_type": "code",
   "execution_count": 77,
   "metadata": {},
   "outputs": [
    {
     "data": {
      "text/plain": [
       "1283"
      ]
     },
     "execution_count": 77,
     "metadata": {},
     "output_type": "execute_result"
    }
   ],
   "source": [
    "df[[tt == dt and tt == 0 \n",
    "    for tt, dt in zip(df['Total'], df['Debt Total'])]].shape[0]"
   ]
  },
  {
   "cell_type": "markdown",
   "metadata": {},
   "source": [
    "##### State Distribution"
   ]
  },
  {
   "cell_type": "code",
   "execution_count": 78,
   "metadata": {},
   "outputs": [
    {
     "data": {
      "text/plain": [
       "NY    669\n",
       "NJ    526\n",
       "VA     24\n",
       "CT     23\n",
       "RI     19\n",
       "MD     10\n",
       "PA      9\n",
       "SC      3\n",
       "Name: state, dtype: int64"
      ]
     },
     "execution_count": 78,
     "metadata": {},
     "output_type": "execute_result"
    }
   ],
   "source": [
    "df[[tt == dt and tt == 0 \n",
    "    for tt, dt in zip(df['Total'], df['Debt Total'])]]['state'].value_counts()"
   ]
  },
  {
   "cell_type": "markdown",
   "metadata": {},
   "source": [
    "### Who, and how many unique groups of people redeemed certificates with Hamilton and were not original owners/purchasers"
   ]
  },
  {
   "cell_type": "code",
   "execution_count": 79,
   "metadata": {},
   "outputs": [
    {
     "data": {
      "text/plain": [
       "1984"
      ]
     },
     "execution_count": 79,
     "metadata": {},
     "output_type": "execute_result"
    }
   ],
   "source": [
    "df[[tot == 0 and tt != 0 for tot, tt in zip(df['tot_pre1790_certs'], df['Total'])]].shape[0]"
   ]
  },
  {
   "cell_type": "code",
   "execution_count": 80,
   "metadata": {},
   "outputs": [
    {
     "data": {
      "text/html": [
       "<div>\n",
       "<style scoped>\n",
       "    .dataframe tbody tr th:only-of-type {\n",
       "        vertical-align: middle;\n",
       "    }\n",
       "\n",
       "    .dataframe tbody tr th {\n",
       "        vertical-align: top;\n",
       "    }\n",
       "\n",
       "    .dataframe thead th {\n",
       "        text-align: right;\n",
       "    }\n",
       "</style>\n",
       "<table border=\"1\" class=\"dataframe\">\n",
       "  <thead>\n",
       "    <tr style=\"text-align: right;\">\n",
       "      <th></th>\n",
       "      <th>full name</th>\n",
       "      <th>state</th>\n",
       "      <th>Same State Loan Office</th>\n",
       "      <th>Different State Loan Office</th>\n",
       "      <th>Same State Liquidated Debt</th>\n",
       "      <th>Different State Liquidated Debt</th>\n",
       "      <th>Pierce Certificates</th>\n",
       "      <th>Total</th>\n",
       "      <th>SSLO Total</th>\n",
       "      <th>DSLO Total</th>\n",
       "      <th>SSLD Total</th>\n",
       "      <th>DSLD Total</th>\n",
       "      <th>PC Total</th>\n",
       "      <th>Debt Total</th>\n",
       "      <th>tot_pre1790_certs</th>\n",
       "    </tr>\n",
       "  </thead>\n",
       "  <tbody>\n",
       "    <tr>\n",
       "      <td>4</td>\n",
       "      <td>[James O'Hara]</td>\n",
       "      <td>PA</td>\n",
       "      <td>NaN</td>\n",
       "      <td>NaN</td>\n",
       "      <td>NaN</td>\n",
       "      <td>NaN</td>\n",
       "      <td>NaN</td>\n",
       "      <td>33.44</td>\n",
       "      <td>0.0</td>\n",
       "      <td>0.0</td>\n",
       "      <td>0.0</td>\n",
       "      <td>0.0</td>\n",
       "      <td>0.0</td>\n",
       "      <td>0.0</td>\n",
       "      <td>0</td>\n",
       "    </tr>\n",
       "    <tr>\n",
       "      <td>7</td>\n",
       "      <td>[Agness ann]</td>\n",
       "      <td>PA</td>\n",
       "      <td>NaN</td>\n",
       "      <td>NaN</td>\n",
       "      <td>NaN</td>\n",
       "      <td>NaN</td>\n",
       "      <td>NaN</td>\n",
       "      <td>883.63</td>\n",
       "      <td>0.0</td>\n",
       "      <td>0.0</td>\n",
       "      <td>0.0</td>\n",
       "      <td>0.0</td>\n",
       "      <td>0.0</td>\n",
       "      <td>0.0</td>\n",
       "      <td>0</td>\n",
       "    </tr>\n",
       "    <tr>\n",
       "      <td>8</td>\n",
       "      <td>[Anne Maria]</td>\n",
       "      <td>PA</td>\n",
       "      <td>NaN</td>\n",
       "      <td>NaN</td>\n",
       "      <td>NaN</td>\n",
       "      <td>NaN</td>\n",
       "      <td>NaN</td>\n",
       "      <td>255.77</td>\n",
       "      <td>0.0</td>\n",
       "      <td>0.0</td>\n",
       "      <td>0.0</td>\n",
       "      <td>0.0</td>\n",
       "      <td>0.0</td>\n",
       "      <td>0.0</td>\n",
       "      <td>0</td>\n",
       "    </tr>\n",
       "    <tr>\n",
       "      <td>9</td>\n",
       "      <td>[Antoine Rene Charter Mathurin de la Forest]</td>\n",
       "      <td>PA</td>\n",
       "      <td>NaN</td>\n",
       "      <td>NaN</td>\n",
       "      <td>NaN</td>\n",
       "      <td>NaN</td>\n",
       "      <td>NaN</td>\n",
       "      <td>6771.75</td>\n",
       "      <td>0.0</td>\n",
       "      <td>0.0</td>\n",
       "      <td>0.0</td>\n",
       "      <td>0.0</td>\n",
       "      <td>0.0</td>\n",
       "      <td>0.0</td>\n",
       "      <td>0</td>\n",
       "    </tr>\n",
       "    <tr>\n",
       "      <td>10</td>\n",
       "      <td>[Charles Godfreid]</td>\n",
       "      <td>PA</td>\n",
       "      <td>NaN</td>\n",
       "      <td>NaN</td>\n",
       "      <td>NaN</td>\n",
       "      <td>NaN</td>\n",
       "      <td>NaN</td>\n",
       "      <td>3260.83</td>\n",
       "      <td>0.0</td>\n",
       "      <td>0.0</td>\n",
       "      <td>0.0</td>\n",
       "      <td>0.0</td>\n",
       "      <td>0.0</td>\n",
       "      <td>0.0</td>\n",
       "      <td>0</td>\n",
       "    </tr>\n",
       "    <tr>\n",
       "      <td>...</td>\n",
       "      <td>...</td>\n",
       "      <td>...</td>\n",
       "      <td>...</td>\n",
       "      <td>...</td>\n",
       "      <td>...</td>\n",
       "      <td>...</td>\n",
       "      <td>...</td>\n",
       "      <td>...</td>\n",
       "      <td>...</td>\n",
       "      <td>...</td>\n",
       "      <td>...</td>\n",
       "      <td>...</td>\n",
       "      <td>...</td>\n",
       "      <td>...</td>\n",
       "      <td>...</td>\n",
       "    </tr>\n",
       "    <tr>\n",
       "      <td>4975</td>\n",
       "      <td>[Zebulon Waterman]</td>\n",
       "      <td>CT</td>\n",
       "      <td>NaN</td>\n",
       "      <td>NaN</td>\n",
       "      <td>NaN</td>\n",
       "      <td>NaN</td>\n",
       "      <td>NaN</td>\n",
       "      <td>306.61</td>\n",
       "      <td>0.0</td>\n",
       "      <td>0.0</td>\n",
       "      <td>0.0</td>\n",
       "      <td>0.0</td>\n",
       "      <td>0.0</td>\n",
       "      <td>0.0</td>\n",
       "      <td>0</td>\n",
       "    </tr>\n",
       "    <tr>\n",
       "      <td>4977</td>\n",
       "      <td>[Zephaniah Andrews]</td>\n",
       "      <td>RI</td>\n",
       "      <td>NaN</td>\n",
       "      <td>NaN</td>\n",
       "      <td>NaN</td>\n",
       "      <td>NaN</td>\n",
       "      <td>NaN</td>\n",
       "      <td>1728.74</td>\n",
       "      <td>0.0</td>\n",
       "      <td>0.0</td>\n",
       "      <td>0.0</td>\n",
       "      <td>0.0</td>\n",
       "      <td>0.0</td>\n",
       "      <td>0.0</td>\n",
       "      <td>0</td>\n",
       "    </tr>\n",
       "    <tr>\n",
       "      <td>4978</td>\n",
       "      <td>[Zephaniah Brown]</td>\n",
       "      <td>RI</td>\n",
       "      <td>NaN</td>\n",
       "      <td>NaN</td>\n",
       "      <td>NaN</td>\n",
       "      <td>NaN</td>\n",
       "      <td>NaN</td>\n",
       "      <td>2415.08</td>\n",
       "      <td>0.0</td>\n",
       "      <td>0.0</td>\n",
       "      <td>0.0</td>\n",
       "      <td>0.0</td>\n",
       "      <td>0.0</td>\n",
       "      <td>0.0</td>\n",
       "      <td>0</td>\n",
       "    </tr>\n",
       "    <tr>\n",
       "      <td>4979</td>\n",
       "      <td>[Zephaniah Davis]</td>\n",
       "      <td>CT</td>\n",
       "      <td>NaN</td>\n",
       "      <td>NaN</td>\n",
       "      <td>NaN</td>\n",
       "      <td>NaN</td>\n",
       "      <td>NaN</td>\n",
       "      <td>77.20</td>\n",
       "      <td>0.0</td>\n",
       "      <td>0.0</td>\n",
       "      <td>0.0</td>\n",
       "      <td>0.0</td>\n",
       "      <td>0.0</td>\n",
       "      <td>0.0</td>\n",
       "      <td>0</td>\n",
       "    </tr>\n",
       "    <tr>\n",
       "      <td>4981</td>\n",
       "      <td>[Zuriel Waterman]</td>\n",
       "      <td>RI</td>\n",
       "      <td>NaN</td>\n",
       "      <td>NaN</td>\n",
       "      <td>NaN</td>\n",
       "      <td>NaN</td>\n",
       "      <td>NaN</td>\n",
       "      <td>10.95</td>\n",
       "      <td>0.0</td>\n",
       "      <td>0.0</td>\n",
       "      <td>0.0</td>\n",
       "      <td>0.0</td>\n",
       "      <td>0.0</td>\n",
       "      <td>0.0</td>\n",
       "      <td>0</td>\n",
       "    </tr>\n",
       "  </tbody>\n",
       "</table>\n",
       "<p>1984 rows × 15 columns</p>\n",
       "</div>"
      ],
      "text/plain": [
       "                                         full name state  \\\n",
       "4                                   [James O'Hara]    PA   \n",
       "7                                     [Agness ann]    PA   \n",
       "8                                     [Anne Maria]    PA   \n",
       "9     [Antoine Rene Charter Mathurin de la Forest]    PA   \n",
       "10                              [Charles Godfreid]    PA   \n",
       "...                                            ...   ...   \n",
       "4975                            [Zebulon Waterman]    CT   \n",
       "4977                           [Zephaniah Andrews]    RI   \n",
       "4978                             [Zephaniah Brown]    RI   \n",
       "4979                             [Zephaniah Davis]    CT   \n",
       "4981                             [Zuriel Waterman]    RI   \n",
       "\n",
       "     Same State Loan Office Different State Loan Office  \\\n",
       "4                       NaN                         NaN   \n",
       "7                       NaN                         NaN   \n",
       "8                       NaN                         NaN   \n",
       "9                       NaN                         NaN   \n",
       "10                      NaN                         NaN   \n",
       "...                     ...                         ...   \n",
       "4975                    NaN                         NaN   \n",
       "4977                    NaN                         NaN   \n",
       "4978                    NaN                         NaN   \n",
       "4979                    NaN                         NaN   \n",
       "4981                    NaN                         NaN   \n",
       "\n",
       "     Same State Liquidated Debt Different State Liquidated Debt  \\\n",
       "4                           NaN                             NaN   \n",
       "7                           NaN                             NaN   \n",
       "8                           NaN                             NaN   \n",
       "9                           NaN                             NaN   \n",
       "10                          NaN                             NaN   \n",
       "...                         ...                             ...   \n",
       "4975                        NaN                             NaN   \n",
       "4977                        NaN                             NaN   \n",
       "4978                        NaN                             NaN   \n",
       "4979                        NaN                             NaN   \n",
       "4981                        NaN                             NaN   \n",
       "\n",
       "     Pierce Certificates    Total  SSLO Total  DSLO Total  SSLD Total  \\\n",
       "4                    NaN    33.44         0.0         0.0         0.0   \n",
       "7                    NaN   883.63         0.0         0.0         0.0   \n",
       "8                    NaN   255.77         0.0         0.0         0.0   \n",
       "9                    NaN  6771.75         0.0         0.0         0.0   \n",
       "10                   NaN  3260.83         0.0         0.0         0.0   \n",
       "...                  ...      ...         ...         ...         ...   \n",
       "4975                 NaN   306.61         0.0         0.0         0.0   \n",
       "4977                 NaN  1728.74         0.0         0.0         0.0   \n",
       "4978                 NaN  2415.08         0.0         0.0         0.0   \n",
       "4979                 NaN    77.20         0.0         0.0         0.0   \n",
       "4981                 NaN    10.95         0.0         0.0         0.0   \n",
       "\n",
       "      DSLD Total  PC Total  Debt Total  tot_pre1790_certs  \n",
       "4            0.0       0.0         0.0                  0  \n",
       "7            0.0       0.0         0.0                  0  \n",
       "8            0.0       0.0         0.0                  0  \n",
       "9            0.0       0.0         0.0                  0  \n",
       "10           0.0       0.0         0.0                  0  \n",
       "...          ...       ...         ...                ...  \n",
       "4975         0.0       0.0         0.0                  0  \n",
       "4977         0.0       0.0         0.0                  0  \n",
       "4978         0.0       0.0         0.0                  0  \n",
       "4979         0.0       0.0         0.0                  0  \n",
       "4981         0.0       0.0         0.0                  0  \n",
       "\n",
       "[1984 rows x 15 columns]"
      ]
     },
     "execution_count": 80,
     "metadata": {},
     "output_type": "execute_result"
    }
   ],
   "source": [
    "df[[tot == 0 and tt != 0 for tot, tt in zip(df['tot_pre1790_certs'], df['Total'])]]"
   ]
  },
  {
   "cell_type": "markdown",
   "metadata": {},
   "source": [
    "##### state distribution"
   ]
  },
  {
   "cell_type": "code",
   "execution_count": 81,
   "metadata": {},
   "outputs": [
    {
     "data": {
      "text/plain": [
       "RI    459\n",
       "PA    344\n",
       "VA    275\n",
       "CT    246\n",
       "SC    242\n",
       "MD    178\n",
       "NY     83\n",
       "NH     55\n",
       "GA     51\n",
       "NC     51\n",
       "Name: state, dtype: int64"
      ]
     },
     "execution_count": 81,
     "metadata": {},
     "output_type": "execute_result"
    }
   ],
   "source": [
    "df[[tot == 0 and tt != 0 for tot, tt in zip(df['tot_pre1790_certs'], df['Total'])]]['state'].value_counts()"
   ]
  },
  {
   "cell_type": "code",
   "execution_count": 82,
   "metadata": {},
   "outputs": [],
   "source": [
    "namelsts = df[[tot == 0 and tt != 0 for \n",
    "               tot, tt in zip(df['tot_pre1790_certs'], df['Total'])]]['full name'].apply(lambda x: pd.Series(x)).values\n",
    "names = [x for x in list(chain.from_iterable(namelsts)) if not pd.isnull(x)]"
   ]
  },
  {
   "cell_type": "code",
   "execution_count": 83,
   "metadata": {},
   "outputs": [],
   "source": [
    "name_state_asset = pd.DataFrame({}, columns = ['Full Name', 'Total', 'state'])"
   ]
  },
  {
   "cell_type": "code",
   "execution_count": 85,
   "metadata": {},
   "outputs": [],
   "source": [
    "name_df = df[[tot == 0 and tt != 0 for \n",
    "              tot, tt in zip(df['tot_pre1790_certs'], df['Total'])]]['full name'].apply(lambda x: pd.Series(x))\n",
    "name_df\n",
    "for name in names:\n",
    "    ind1 = name_df[name_df[0] == name].index.tolist()\n",
    "    ind2 = name_df[name_df[1] == name].index.tolist()\n",
    "    ind3 = name_df[name_df[2] == name].index.tolist()\n",
    "    ind4 = name_df[name_df[3] == name].index.tolist()\n",
    "    ind5 = name_df[name_df[4] == name].index.tolist()\n",
    "    ind1.extend(ind2)\n",
    "    ind1.extend(ind3)\n",
    "    ind1.extend(ind4)\n",
    "    ind1.extend(ind5)\n",
    "    ind1 = list(set(ind1))\n",
    "    tot_assets = df.loc[ind1, 'Total'].sum()\n",
    "    state = df.loc[ind1, 'state'].values[0]\n",
    "    add_df = pd.DataFrame()\n",
    "    add_df['Full Name'] = [name]\n",
    "    add_df['Total'] = [tot_assets]\n",
    "    add_df['state'] = [state]\n",
    "    name_state_asset = pd.concat([name_state_asset, add_df])"
   ]
  },
  {
   "cell_type": "code",
   "execution_count": 86,
   "metadata": {},
   "outputs": [],
   "source": [
    "cd_names = pd.DataFrame(name_state_asset.groupby(['Full Name', 'state'])['Total'].sum()).reset_index()"
   ]
  },
  {
   "cell_type": "code",
   "execution_count": 88,
   "metadata": {},
   "outputs": [],
   "source": [
    "### How many unique people redeemed certificates with Hamilton and were not original owners/purchasers"
   ]
  },
  {
   "cell_type": "code",
   "execution_count": 89,
   "metadata": {},
   "outputs": [
    {
     "data": {
      "text/plain": [
       "1979"
      ]
     },
     "execution_count": 89,
     "metadata": {},
     "output_type": "execute_result"
    }
   ],
   "source": [
    "len(set(cd_names['Full Name']))"
   ]
  },
  {
   "cell_type": "code",
   "execution_count": 92,
   "metadata": {},
   "outputs": [],
   "source": [
    "cd_names.to_csv(\"speculator_names.csv\")"
   ]
  }
 ],
 "metadata": {
  "kernelspec": {
   "display_name": "Python 3",
   "language": "python",
   "name": "python3"
  },
  "language_info": {
   "codemirror_mode": {
    "name": "ipython",
    "version": 3
   },
   "file_extension": ".py",
   "mimetype": "text/x-python",
   "name": "python",
   "nbconvert_exporter": "python",
   "pygments_lexer": "ipython3",
   "version": "3.7.4"
  }
 },
 "nbformat": 4,
 "nbformat_minor": 4
}
