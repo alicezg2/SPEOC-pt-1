{
 "cells": [
  {
   "cell_type": "code",
   "execution_count": 117,
   "metadata": {},
   "outputs": [],
   "source": [
    "import pandas as pd\n",
    "import numpy as np\n",
    "from itertools import chain"
   ]
  },
  {
   "cell_type": "code",
   "execution_count": 95,
   "metadata": {},
   "outputs": [],
   "source": [
    "df = pd.read_csv('prepost_matched_debt_files.csv', index_col = 0)"
   ]
  },
  {
   "cell_type": "code",
   "execution_count": 96,
   "metadata": {},
   "outputs": [],
   "source": [
    "def stringToList(x):\n",
    "    return x.strip('][\\\"\\'').split(', ') if not pd.isnull(x) else x"
   ]
  },
  {
   "cell_type": "code",
   "execution_count": 97,
   "metadata": {},
   "outputs": [],
   "source": [
    "df['full name'] = df['full name'].apply(lambda x: stringToList(x))\n",
    "df['Same State Loan Office'] = df['Same State Loan Office'].apply(lambda x: \n",
    "                                                                  stringToList(x))\n",
    "df['Different State Loan Office'] = df['Different State Loan Office'].apply(lambda x: \n",
    "                                                                            stringToList(x))\n",
    "df['Same State Liquidated Debt'] = df['Same State Liquidated Debt'].apply(lambda x: \n",
    "                                                                          stringToList(x))\n",
    "df['Different State Liquidated Debt'] = df['Different State Liquidated Debt'].apply(lambda x: \n",
    "                                                                                    stringToList(x))\n",
    "df['Pierce Certificates'] = df['Pierce Certificates'].apply(lambda x: \n",
    "                                                            stringToList(x))"
   ]
  },
  {
   "cell_type": "code",
   "execution_count": 205,
   "metadata": {},
   "outputs": [
    {
     "data": {
      "text/html": [
       "<div>\n",
       "<style scoped>\n",
       "    .dataframe tbody tr th:only-of-type {\n",
       "        vertical-align: middle;\n",
       "    }\n",
       "\n",
       "    .dataframe tbody tr th {\n",
       "        vertical-align: top;\n",
       "    }\n",
       "\n",
       "    .dataframe thead th {\n",
       "        text-align: right;\n",
       "    }\n",
       "</style>\n",
       "<table border=\"1\" class=\"dataframe\">\n",
       "  <thead>\n",
       "    <tr style=\"text-align: right;\">\n",
       "      <th></th>\n",
       "      <th>full name</th>\n",
       "      <th>state</th>\n",
       "      <th>Same State Loan Office</th>\n",
       "      <th>Different State Loan Office</th>\n",
       "      <th>Same State Liquidated Debt</th>\n",
       "      <th>Different State Liquidated Debt</th>\n",
       "      <th>Pierce Certificates</th>\n",
       "      <th>Total</th>\n",
       "      <th>SSLO Total</th>\n",
       "      <th>DSLO Total</th>\n",
       "      <th>SSLD Total</th>\n",
       "      <th>DSLD Total</th>\n",
       "      <th>PC Total</th>\n",
       "      <th>Debt Total</th>\n",
       "      <th>tot_pre1790_certs</th>\n",
       "    </tr>\n",
       "  </thead>\n",
       "  <tbody>\n",
       "    <tr>\n",
       "      <td>0</td>\n",
       "      <td>[Bernard O'Neill]</td>\n",
       "      <td>MD</td>\n",
       "      <td>[Bernard O'Neill]</td>\n",
       "      <td>NaN</td>\n",
       "      <td>NaN</td>\n",
       "      <td>NaN</td>\n",
       "      <td>NaN</td>\n",
       "      <td>230.31</td>\n",
       "      <td>118.85973</td>\n",
       "      <td>0.0000</td>\n",
       "      <td>0.0</td>\n",
       "      <td>0.0</td>\n",
       "      <td>0.0</td>\n",
       "      <td>118.85973</td>\n",
       "      <td>1</td>\n",
       "    </tr>\n",
       "    <tr>\n",
       "      <td>1</td>\n",
       "      <td>[Francis O'Neill]</td>\n",
       "      <td>MD</td>\n",
       "      <td>[Francis O'Neill]</td>\n",
       "      <td>[Francis O Neill]</td>\n",
       "      <td>NaN</td>\n",
       "      <td>NaN</td>\n",
       "      <td>NaN</td>\n",
       "      <td>37.96</td>\n",
       "      <td>17.50000</td>\n",
       "      <td>151.5125</td>\n",
       "      <td>0.0</td>\n",
       "      <td>0.0</td>\n",
       "      <td>0.0</td>\n",
       "      <td>169.01250</td>\n",
       "      <td>2</td>\n",
       "    </tr>\n",
       "    <tr>\n",
       "      <td>2</td>\n",
       "      <td>[Henry O'Neale]</td>\n",
       "      <td>MD</td>\n",
       "      <td>NaN</td>\n",
       "      <td>NaN</td>\n",
       "      <td>NaN</td>\n",
       "      <td>NaN</td>\n",
       "      <td>[Henry O'Neal]</td>\n",
       "      <td>99.77</td>\n",
       "      <td>0.00000</td>\n",
       "      <td>0.0000</td>\n",
       "      <td>0.0</td>\n",
       "      <td>0.0</td>\n",
       "      <td>23.0</td>\n",
       "      <td>23.00000</td>\n",
       "      <td>1</td>\n",
       "    </tr>\n",
       "    <tr>\n",
       "      <td>3</td>\n",
       "      <td>[James O'Hara]</td>\n",
       "      <td>PA</td>\n",
       "      <td>NaN</td>\n",
       "      <td>NaN</td>\n",
       "      <td>NaN</td>\n",
       "      <td>NaN</td>\n",
       "      <td>NaN</td>\n",
       "      <td>33.44</td>\n",
       "      <td>0.00000</td>\n",
       "      <td>0.0000</td>\n",
       "      <td>0.0</td>\n",
       "      <td>0.0</td>\n",
       "      <td>0.0</td>\n",
       "      <td>0.00000</td>\n",
       "      <td>0</td>\n",
       "    </tr>\n",
       "    <tr>\n",
       "      <td>4</td>\n",
       "      <td>[John D'Mercier]</td>\n",
       "      <td>NY</td>\n",
       "      <td>NaN</td>\n",
       "      <td>NaN</td>\n",
       "      <td>NaN</td>\n",
       "      <td>NaN</td>\n",
       "      <td>NaN</td>\n",
       "      <td>0.00</td>\n",
       "      <td>0.00000</td>\n",
       "      <td>0.0000</td>\n",
       "      <td>0.0</td>\n",
       "      <td>0.0</td>\n",
       "      <td>0.0</td>\n",
       "      <td>0.00000</td>\n",
       "      <td>0</td>\n",
       "    </tr>\n",
       "    <tr>\n",
       "      <td>...</td>\n",
       "      <td>...</td>\n",
       "      <td>...</td>\n",
       "      <td>...</td>\n",
       "      <td>...</td>\n",
       "      <td>...</td>\n",
       "      <td>...</td>\n",
       "      <td>...</td>\n",
       "      <td>...</td>\n",
       "      <td>...</td>\n",
       "      <td>...</td>\n",
       "      <td>...</td>\n",
       "      <td>...</td>\n",
       "      <td>...</td>\n",
       "      <td>...</td>\n",
       "      <td>...</td>\n",
       "    </tr>\n",
       "    <tr>\n",
       "      <td>4947</td>\n",
       "      <td>[Zephaniah Andrews]</td>\n",
       "      <td>RI</td>\n",
       "      <td>NaN</td>\n",
       "      <td>NaN</td>\n",
       "      <td>NaN</td>\n",
       "      <td>NaN</td>\n",
       "      <td>NaN</td>\n",
       "      <td>1728.74</td>\n",
       "      <td>0.00000</td>\n",
       "      <td>0.0000</td>\n",
       "      <td>0.0</td>\n",
       "      <td>0.0</td>\n",
       "      <td>0.0</td>\n",
       "      <td>0.00000</td>\n",
       "      <td>0</td>\n",
       "    </tr>\n",
       "    <tr>\n",
       "      <td>4948</td>\n",
       "      <td>[Zephaniah Brown]</td>\n",
       "      <td>RI</td>\n",
       "      <td>NaN</td>\n",
       "      <td>NaN</td>\n",
       "      <td>NaN</td>\n",
       "      <td>NaN</td>\n",
       "      <td>NaN</td>\n",
       "      <td>2415.08</td>\n",
       "      <td>0.00000</td>\n",
       "      <td>0.0000</td>\n",
       "      <td>0.0</td>\n",
       "      <td>0.0</td>\n",
       "      <td>0.0</td>\n",
       "      <td>0.00000</td>\n",
       "      <td>0</td>\n",
       "    </tr>\n",
       "    <tr>\n",
       "      <td>4949</td>\n",
       "      <td>[Zephaniah Davis]</td>\n",
       "      <td>CT</td>\n",
       "      <td>NaN</td>\n",
       "      <td>NaN</td>\n",
       "      <td>NaN</td>\n",
       "      <td>NaN</td>\n",
       "      <td>NaN</td>\n",
       "      <td>77.20</td>\n",
       "      <td>0.00000</td>\n",
       "      <td>0.0000</td>\n",
       "      <td>0.0</td>\n",
       "      <td>0.0</td>\n",
       "      <td>0.0</td>\n",
       "      <td>0.00000</td>\n",
       "      <td>0</td>\n",
       "    </tr>\n",
       "    <tr>\n",
       "      <td>4950</td>\n",
       "      <td>[Zerujah Bearley]</td>\n",
       "      <td>NJ</td>\n",
       "      <td>NaN</td>\n",
       "      <td>NaN</td>\n",
       "      <td>NaN</td>\n",
       "      <td>NaN</td>\n",
       "      <td>NaN</td>\n",
       "      <td>0.00</td>\n",
       "      <td>0.00000</td>\n",
       "      <td>0.0000</td>\n",
       "      <td>0.0</td>\n",
       "      <td>0.0</td>\n",
       "      <td>0.0</td>\n",
       "      <td>0.00000</td>\n",
       "      <td>0</td>\n",
       "    </tr>\n",
       "    <tr>\n",
       "      <td>4951</td>\n",
       "      <td>[Zuriel Waterman]</td>\n",
       "      <td>RI</td>\n",
       "      <td>NaN</td>\n",
       "      <td>NaN</td>\n",
       "      <td>NaN</td>\n",
       "      <td>NaN</td>\n",
       "      <td>NaN</td>\n",
       "      <td>10.95</td>\n",
       "      <td>0.00000</td>\n",
       "      <td>0.0000</td>\n",
       "      <td>0.0</td>\n",
       "      <td>0.0</td>\n",
       "      <td>0.0</td>\n",
       "      <td>0.00000</td>\n",
       "      <td>0</td>\n",
       "    </tr>\n",
       "  </tbody>\n",
       "</table>\n",
       "<p>4952 rows × 15 columns</p>\n",
       "</div>"
      ],
      "text/plain": [
       "                full name state Same State Loan Office  \\\n",
       "0       [Bernard O'Neill]    MD      [Bernard O'Neill]   \n",
       "1       [Francis O'Neill]    MD      [Francis O'Neill]   \n",
       "2         [Henry O'Neale]    MD                    NaN   \n",
       "3          [James O'Hara]    PA                    NaN   \n",
       "4        [John D'Mercier]    NY                    NaN   \n",
       "...                   ...   ...                    ...   \n",
       "4947  [Zephaniah Andrews]    RI                    NaN   \n",
       "4948    [Zephaniah Brown]    RI                    NaN   \n",
       "4949    [Zephaniah Davis]    CT                    NaN   \n",
       "4950    [Zerujah Bearley]    NJ                    NaN   \n",
       "4951    [Zuriel Waterman]    RI                    NaN   \n",
       "\n",
       "     Different State Loan Office Same State Liquidated Debt  \\\n",
       "0                            NaN                        NaN   \n",
       "1              [Francis O Neill]                        NaN   \n",
       "2                            NaN                        NaN   \n",
       "3                            NaN                        NaN   \n",
       "4                            NaN                        NaN   \n",
       "...                          ...                        ...   \n",
       "4947                         NaN                        NaN   \n",
       "4948                         NaN                        NaN   \n",
       "4949                         NaN                        NaN   \n",
       "4950                         NaN                        NaN   \n",
       "4951                         NaN                        NaN   \n",
       "\n",
       "     Different State Liquidated Debt Pierce Certificates    Total  SSLO Total  \\\n",
       "0                                NaN                 NaN   230.31   118.85973   \n",
       "1                                NaN                 NaN    37.96    17.50000   \n",
       "2                                NaN      [Henry O'Neal]    99.77     0.00000   \n",
       "3                                NaN                 NaN    33.44     0.00000   \n",
       "4                                NaN                 NaN     0.00     0.00000   \n",
       "...                              ...                 ...      ...         ...   \n",
       "4947                             NaN                 NaN  1728.74     0.00000   \n",
       "4948                             NaN                 NaN  2415.08     0.00000   \n",
       "4949                             NaN                 NaN    77.20     0.00000   \n",
       "4950                             NaN                 NaN     0.00     0.00000   \n",
       "4951                             NaN                 NaN    10.95     0.00000   \n",
       "\n",
       "      DSLO Total  SSLD Total  DSLD Total  PC Total  Debt Total  \\\n",
       "0         0.0000         0.0         0.0       0.0   118.85973   \n",
       "1       151.5125         0.0         0.0       0.0   169.01250   \n",
       "2         0.0000         0.0         0.0      23.0    23.00000   \n",
       "3         0.0000         0.0         0.0       0.0     0.00000   \n",
       "4         0.0000         0.0         0.0       0.0     0.00000   \n",
       "...          ...         ...         ...       ...         ...   \n",
       "4947      0.0000         0.0         0.0       0.0     0.00000   \n",
       "4948      0.0000         0.0         0.0       0.0     0.00000   \n",
       "4949      0.0000         0.0         0.0       0.0     0.00000   \n",
       "4950      0.0000         0.0         0.0       0.0     0.00000   \n",
       "4951      0.0000         0.0         0.0       0.0     0.00000   \n",
       "\n",
       "      tot_pre1790_certs  \n",
       "0                     1  \n",
       "1                     2  \n",
       "2                     1  \n",
       "3                     0  \n",
       "4                     0  \n",
       "...                 ...  \n",
       "4947                  0  \n",
       "4948                  0  \n",
       "4949                  0  \n",
       "4950                  0  \n",
       "4951                  0  \n",
       "\n",
       "[4952 rows x 15 columns]"
      ]
     },
     "execution_count": 205,
     "metadata": {},
     "output_type": "execute_result"
    }
   ],
   "source": [
    "df"
   ]
  },
  {
   "cell_type": "markdown",
   "metadata": {},
   "source": [
    "# How many unique individuals were issued 6 percent stocks and deferred 6 percent stocks in 1790 and after?"
   ]
  },
  {
   "cell_type": "code",
   "execution_count": 98,
   "metadata": {},
   "outputs": [
    {
     "data": {
      "text/plain": [
       "state\n",
       "CT    747\n",
       "GA     54\n",
       "MD    356\n",
       "NC     54\n",
       "NH    169\n",
       "NJ    566\n",
       "NY    882\n",
       "PA    839\n",
       "RI    502\n",
       "SC    274\n",
       "VA    509\n",
       "Name: full name, dtype: int64"
      ]
     },
     "execution_count": 98,
     "metadata": {},
     "output_type": "execute_result"
    }
   ],
   "source": [
    "df.groupby('state')['full name'].count()"
   ]
  },
  {
   "cell_type": "markdown",
   "metadata": {},
   "source": [
    "# How many of these individuals\n",
    "- were original purchasers of loan office certicates of the same state as the 6 percent stock?\n",
    "- were original purchasers of loan office certicates issued from another state?\n",
    "- were original recipients of liquidated debt certicates issued by the same-state loan office? other state loan offices?\n",
    "- were original recipients of the Pierce Certicates?"
   ]
  },
  {
   "cell_type": "markdown",
   "metadata": {},
   "source": [
    "### How many individuals were original purchasers of loan office certicates of the same state as the 6 percent stock?"
   ]
  },
  {
   "cell_type": "code",
   "execution_count": 99,
   "metadata": {},
   "outputs": [
    {
     "data": {
      "text/plain": [
       "CT    327\n",
       "PA    307\n",
       "MD    102\n",
       "VA     82\n",
       "NH     63\n",
       "NY     56\n",
       "NJ     24\n",
       "RI     15\n",
       "SC     14\n",
       "GA      2\n",
       "Name: state, dtype: int64"
      ]
     },
     "execution_count": 99,
     "metadata": {},
     "output_type": "execute_result"
    }
   ],
   "source": [
    "df[df['Same State Loan Office'].apply(lambda x: \n",
    "                                      type(x) == list)]['state'].value_counts()"
   ]
  },
  {
   "cell_type": "markdown",
   "metadata": {},
   "source": [
    "### How many individuals were original purchasers of loan office certicates of a different state as the 6 percent stock?"
   ]
  },
  {
   "cell_type": "code",
   "execution_count": 100,
   "metadata": {},
   "outputs": [
    {
     "data": {
      "text/plain": [
       "PA    128\n",
       "CT    115\n",
       "VA    103\n",
       "MD     59\n",
       "NY     44\n",
       "NH     42\n",
       "NJ     30\n",
       "SC     18\n",
       "RI     16\n",
       "GA      2\n",
       "NC      1\n",
       "Name: state, dtype: int64"
      ]
     },
     "execution_count": 100,
     "metadata": {},
     "output_type": "execute_result"
    }
   ],
   "source": [
    "df[df['Different State Loan Office'].apply(lambda x: \n",
    "                                           type(x) == list)]['state'].value_counts()"
   ]
  },
  {
   "cell_type": "markdown",
   "metadata": {},
   "source": [
    "##### Aside: How many individuals were original purchasers of loan office certicates of a different and same state as the 6 percent stock?"
   ]
  },
  {
   "cell_type": "code",
   "execution_count": 101,
   "metadata": {},
   "outputs": [
    {
     "data": {
      "text/plain": [
       "PA    84\n",
       "CT    67\n",
       "VA    39\n",
       "MD    21\n",
       "NJ    16\n",
       "NH    14\n",
       "NY    14\n",
       "SC    10\n",
       "RI     8\n",
       "GA     2\n",
       "Name: state, dtype: int64"
      ]
     },
     "execution_count": 101,
     "metadata": {},
     "output_type": "execute_result"
    }
   ],
   "source": [
    "df[[type(ss) == list and type(ds) == list for \n",
    "    ss, ds in zip(df['Same State Loan Office'], \n",
    "                  df['Different State Loan Office'])]]['state'].value_counts()"
   ]
  },
  {
   "cell_type": "markdown",
   "metadata": {},
   "source": [
    "### How many individuals were original recipients of liquidated debt certificates issued by the same state loan office?"
   ]
  },
  {
   "cell_type": "code",
   "execution_count": 102,
   "metadata": {},
   "outputs": [
    {
     "data": {
      "text/plain": [
       "PA    213\n",
       "CT    107\n",
       "NY     51\n",
       "NH     29\n",
       "VA     14\n",
       "NJ      9\n",
       "SC      7\n",
       "RI      6\n",
       "MD      3\n",
       "GA      1\n",
       "Name: state, dtype: int64"
      ]
     },
     "execution_count": 102,
     "metadata": {},
     "output_type": "execute_result"
    }
   ],
   "source": [
    "df[df['Same State Liquidated Debt'].apply(lambda x: \n",
    "                                          type(x) == list)]['state'].value_counts()"
   ]
  },
  {
   "cell_type": "markdown",
   "metadata": {},
   "source": [
    "### How many individuals were original recipients of liquidated debt certificates issued by another state loan office?"
   ]
  },
  {
   "cell_type": "code",
   "execution_count": 103,
   "metadata": {},
   "outputs": [
    {
     "data": {
      "text/plain": [
       "CT    185\n",
       "PA    131\n",
       "NY     74\n",
       "NH     59\n",
       "VA     59\n",
       "MD     41\n",
       "NJ     34\n",
       "RI     21\n",
       "SC     15\n",
       "GA      1\n",
       "Name: state, dtype: int64"
      ]
     },
     "execution_count": 103,
     "metadata": {},
     "output_type": "execute_result"
    }
   ],
   "source": [
    "df[df['Different State Liquidated Debt'].apply(lambda x: \n",
    "                                               type(x) == list)]['state'].value_counts()"
   ]
  },
  {
   "cell_type": "markdown",
   "metadata": {},
   "source": [
    "##### Aside: How many individuals were original purchasers of liquidated debt certificates from the same and another loan office?"
   ]
  },
  {
   "cell_type": "code",
   "execution_count": 104,
   "metadata": {},
   "outputs": [
    {
     "data": {
      "text/plain": [
       "CT    107\n",
       "PA     65\n",
       "NY     48\n",
       "NH     29\n",
       "VA     13\n",
       "NJ      8\n",
       "RI      6\n",
       "SC      5\n",
       "MD      3\n",
       "GA      1\n",
       "Name: state, dtype: int64"
      ]
     },
     "execution_count": 104,
     "metadata": {},
     "output_type": "execute_result"
    }
   ],
   "source": [
    "df[[type(ss) == list and type(ds) == list for \n",
    "    ss, ds in zip(df['Same State Liquidated Debt'], \n",
    "                  df['Different State Liquidated Debt'])]]['state'].value_counts()"
   ]
  },
  {
   "cell_type": "markdown",
   "metadata": {},
   "source": [
    "### How many individuals were original recipients of the Pierce Certicates, corresponding to the same state?"
   ]
  },
  {
   "cell_type": "code",
   "execution_count": 105,
   "metadata": {},
   "outputs": [
    {
     "data": {
      "text/plain": [
       "CT    182\n",
       "PA    166\n",
       "VA    146\n",
       "MD     82\n",
       "NY     55\n",
       "NH     35\n",
       "NJ     23\n",
       "SC     16\n",
       "RI     15\n",
       "NC      2\n",
       "GA      1\n",
       "Name: state, dtype: int64"
      ]
     },
     "execution_count": 105,
     "metadata": {},
     "output_type": "execute_result"
    }
   ],
   "source": [
    "df[df['Pierce Certificates'].apply(lambda x: \n",
    "                                   type(x) == list)]['state'].value_counts()"
   ]
  },
  {
   "cell_type": "markdown",
   "metadata": {},
   "source": [
    "### For how many individuals do the face values of their pre-1790 certificates equal the sum of the face values of the 6 percent and deferred 6 percent stocks that they received?"
   ]
  },
  {
   "cell_type": "markdown",
   "metadata": {},
   "source": [
    "##### Number of people with non-zero assets and that the debt values from pre-1790 and post-1790 are equal"
   ]
  },
  {
   "cell_type": "code",
   "execution_count": 208,
   "metadata": {},
   "outputs": [
    {
     "data": {
      "text/html": [
       "<div>\n",
       "<style scoped>\n",
       "    .dataframe tbody tr th:only-of-type {\n",
       "        vertical-align: middle;\n",
       "    }\n",
       "\n",
       "    .dataframe tbody tr th {\n",
       "        vertical-align: top;\n",
       "    }\n",
       "\n",
       "    .dataframe thead th {\n",
       "        text-align: right;\n",
       "    }\n",
       "</style>\n",
       "<table border=\"1\" class=\"dataframe\">\n",
       "  <thead>\n",
       "    <tr style=\"text-align: right;\">\n",
       "      <th></th>\n",
       "      <th>full name</th>\n",
       "      <th>state</th>\n",
       "      <th>Same State Loan Office</th>\n",
       "      <th>Different State Loan Office</th>\n",
       "      <th>Same State Liquidated Debt</th>\n",
       "      <th>Different State Liquidated Debt</th>\n",
       "      <th>Pierce Certificates</th>\n",
       "      <th>Total</th>\n",
       "      <th>SSLO Total</th>\n",
       "      <th>DSLO Total</th>\n",
       "      <th>SSLD Total</th>\n",
       "      <th>DSLD Total</th>\n",
       "      <th>PC Total</th>\n",
       "      <th>Debt Total</th>\n",
       "      <th>tot_pre1790_certs</th>\n",
       "    </tr>\n",
       "  </thead>\n",
       "  <tbody>\n",
       "    <tr>\n",
       "      <td>16</td>\n",
       "      <td>[Aaron Kelsey]</td>\n",
       "      <td>CT</td>\n",
       "      <td>[Aaron Kelsey]</td>\n",
       "      <td>NaN</td>\n",
       "      <td>NaN</td>\n",
       "      <td>NaN</td>\n",
       "      <td>NaN</td>\n",
       "      <td>95.10</td>\n",
       "      <td>95.10834</td>\n",
       "      <td>0.0</td>\n",
       "      <td>0.000000</td>\n",
       "      <td>0.0</td>\n",
       "      <td>0.0</td>\n",
       "      <td>95.108340</td>\n",
       "      <td>1</td>\n",
       "    </tr>\n",
       "    <tr>\n",
       "      <td>29</td>\n",
       "      <td>[Abel Morse]</td>\n",
       "      <td>CT</td>\n",
       "      <td>[Abel Morse]</td>\n",
       "      <td>NaN</td>\n",
       "      <td>NaN</td>\n",
       "      <td>NaN</td>\n",
       "      <td>NaN</td>\n",
       "      <td>1388.83</td>\n",
       "      <td>1388.86930</td>\n",
       "      <td>0.0</td>\n",
       "      <td>0.000000</td>\n",
       "      <td>0.0</td>\n",
       "      <td>0.0</td>\n",
       "      <td>1388.869300</td>\n",
       "      <td>1</td>\n",
       "    </tr>\n",
       "    <tr>\n",
       "      <td>30</td>\n",
       "      <td>[Abel Patchen]</td>\n",
       "      <td>CT</td>\n",
       "      <td>[Abel Patchen]</td>\n",
       "      <td>NaN</td>\n",
       "      <td>NaN</td>\n",
       "      <td>NaN</td>\n",
       "      <td>NaN</td>\n",
       "      <td>153.96</td>\n",
       "      <td>153.97916</td>\n",
       "      <td>0.0</td>\n",
       "      <td>0.000000</td>\n",
       "      <td>0.0</td>\n",
       "      <td>0.0</td>\n",
       "      <td>153.979160</td>\n",
       "      <td>1</td>\n",
       "    </tr>\n",
       "    <tr>\n",
       "      <td>58</td>\n",
       "      <td>[Abner Corson]</td>\n",
       "      <td>PA</td>\n",
       "      <td>[Abner Corson]</td>\n",
       "      <td>NaN</td>\n",
       "      <td>NaN</td>\n",
       "      <td>NaN</td>\n",
       "      <td>NaN</td>\n",
       "      <td>60.23</td>\n",
       "      <td>60.23889</td>\n",
       "      <td>0.0</td>\n",
       "      <td>0.000000</td>\n",
       "      <td>0.0</td>\n",
       "      <td>0.0</td>\n",
       "      <td>60.238890</td>\n",
       "      <td>1</td>\n",
       "    </tr>\n",
       "    <tr>\n",
       "      <td>67</td>\n",
       "      <td>[Abraham Brinsmade]</td>\n",
       "      <td>CT</td>\n",
       "      <td>[Abraham Brinsmade]</td>\n",
       "      <td>NaN</td>\n",
       "      <td>NaN</td>\n",
       "      <td>NaN</td>\n",
       "      <td>NaN</td>\n",
       "      <td>400.00</td>\n",
       "      <td>400.00000</td>\n",
       "      <td>0.0</td>\n",
       "      <td>0.000000</td>\n",
       "      <td>0.0</td>\n",
       "      <td>0.0</td>\n",
       "      <td>400.000000</td>\n",
       "      <td>1</td>\n",
       "    </tr>\n",
       "    <tr>\n",
       "      <td>...</td>\n",
       "      <td>...</td>\n",
       "      <td>...</td>\n",
       "      <td>...</td>\n",
       "      <td>...</td>\n",
       "      <td>...</td>\n",
       "      <td>...</td>\n",
       "      <td>...</td>\n",
       "      <td>...</td>\n",
       "      <td>...</td>\n",
       "      <td>...</td>\n",
       "      <td>...</td>\n",
       "      <td>...</td>\n",
       "      <td>...</td>\n",
       "      <td>...</td>\n",
       "      <td>...</td>\n",
       "    </tr>\n",
       "    <tr>\n",
       "      <td>4686</td>\n",
       "      <td>[William Dickensheet]</td>\n",
       "      <td>MD</td>\n",
       "      <td>[William Dickensheet]</td>\n",
       "      <td>NaN</td>\n",
       "      <td>NaN</td>\n",
       "      <td>NaN</td>\n",
       "      <td>NaN</td>\n",
       "      <td>50.00</td>\n",
       "      <td>50.00833</td>\n",
       "      <td>0.0</td>\n",
       "      <td>0.000000</td>\n",
       "      <td>0.0</td>\n",
       "      <td>0.0</td>\n",
       "      <td>50.008330</td>\n",
       "      <td>1</td>\n",
       "    </tr>\n",
       "    <tr>\n",
       "      <td>4757</td>\n",
       "      <td>[William House]</td>\n",
       "      <td>MD</td>\n",
       "      <td>[William House]</td>\n",
       "      <td>NaN</td>\n",
       "      <td>NaN</td>\n",
       "      <td>NaN</td>\n",
       "      <td>NaN</td>\n",
       "      <td>25.47</td>\n",
       "      <td>25.48750</td>\n",
       "      <td>0.0</td>\n",
       "      <td>0.000000</td>\n",
       "      <td>0.0</td>\n",
       "      <td>0.0</td>\n",
       "      <td>25.487500</td>\n",
       "      <td>1</td>\n",
       "    </tr>\n",
       "    <tr>\n",
       "      <td>4863</td>\n",
       "      <td>[William Sitgreaves]</td>\n",
       "      <td>PA</td>\n",
       "      <td>NaN</td>\n",
       "      <td>NaN</td>\n",
       "      <td>[William Sitgreaves]</td>\n",
       "      <td>NaN</td>\n",
       "      <td>NaN</td>\n",
       "      <td>1277.57</td>\n",
       "      <td>0.00000</td>\n",
       "      <td>0.0</td>\n",
       "      <td>1277.577778</td>\n",
       "      <td>0.0</td>\n",
       "      <td>0.0</td>\n",
       "      <td>1277.577778</td>\n",
       "      <td>1</td>\n",
       "    </tr>\n",
       "    <tr>\n",
       "      <td>4929</td>\n",
       "      <td>[William Wyvell]</td>\n",
       "      <td>MD</td>\n",
       "      <td>[William Wyvell]</td>\n",
       "      <td>NaN</td>\n",
       "      <td>NaN</td>\n",
       "      <td>NaN</td>\n",
       "      <td>NaN</td>\n",
       "      <td>22.50</td>\n",
       "      <td>22.50000</td>\n",
       "      <td>0.0</td>\n",
       "      <td>0.000000</td>\n",
       "      <td>0.0</td>\n",
       "      <td>0.0</td>\n",
       "      <td>22.500000</td>\n",
       "      <td>1</td>\n",
       "    </tr>\n",
       "    <tr>\n",
       "      <td>4939</td>\n",
       "      <td>[Zachariah Tatum]</td>\n",
       "      <td>VA</td>\n",
       "      <td>NaN</td>\n",
       "      <td>NaN</td>\n",
       "      <td>NaN</td>\n",
       "      <td>NaN</td>\n",
       "      <td>[Zachariah Tatum]</td>\n",
       "      <td>1380.00</td>\n",
       "      <td>0.00000</td>\n",
       "      <td>0.0</td>\n",
       "      <td>0.000000</td>\n",
       "      <td>0.0</td>\n",
       "      <td>1380.0</td>\n",
       "      <td>1380.000000</td>\n",
       "      <td>1</td>\n",
       "    </tr>\n",
       "  </tbody>\n",
       "</table>\n",
       "<p>95 rows × 15 columns</p>\n",
       "</div>"
      ],
      "text/plain": [
       "                  full name state Same State Loan Office  \\\n",
       "16           [Aaron Kelsey]    CT         [Aaron Kelsey]   \n",
       "29             [Abel Morse]    CT           [Abel Morse]   \n",
       "30           [Abel Patchen]    CT         [Abel Patchen]   \n",
       "58           [Abner Corson]    PA         [Abner Corson]   \n",
       "67      [Abraham Brinsmade]    CT    [Abraham Brinsmade]   \n",
       "...                     ...   ...                    ...   \n",
       "4686  [William Dickensheet]    MD  [William Dickensheet]   \n",
       "4757        [William House]    MD        [William House]   \n",
       "4863   [William Sitgreaves]    PA                    NaN   \n",
       "4929       [William Wyvell]    MD       [William Wyvell]   \n",
       "4939      [Zachariah Tatum]    VA                    NaN   \n",
       "\n",
       "     Different State Loan Office Same State Liquidated Debt  \\\n",
       "16                           NaN                        NaN   \n",
       "29                           NaN                        NaN   \n",
       "30                           NaN                        NaN   \n",
       "58                           NaN                        NaN   \n",
       "67                           NaN                        NaN   \n",
       "...                          ...                        ...   \n",
       "4686                         NaN                        NaN   \n",
       "4757                         NaN                        NaN   \n",
       "4863                         NaN       [William Sitgreaves]   \n",
       "4929                         NaN                        NaN   \n",
       "4939                         NaN                        NaN   \n",
       "\n",
       "     Different State Liquidated Debt Pierce Certificates    Total  SSLO Total  \\\n",
       "16                               NaN                 NaN    95.10    95.10834   \n",
       "29                               NaN                 NaN  1388.83  1388.86930   \n",
       "30                               NaN                 NaN   153.96   153.97916   \n",
       "58                               NaN                 NaN    60.23    60.23889   \n",
       "67                               NaN                 NaN   400.00   400.00000   \n",
       "...                              ...                 ...      ...         ...   \n",
       "4686                             NaN                 NaN    50.00    50.00833   \n",
       "4757                             NaN                 NaN    25.47    25.48750   \n",
       "4863                             NaN                 NaN  1277.57     0.00000   \n",
       "4929                             NaN                 NaN    22.50    22.50000   \n",
       "4939                             NaN   [Zachariah Tatum]  1380.00     0.00000   \n",
       "\n",
       "      DSLO Total   SSLD Total  DSLD Total  PC Total   Debt Total  \\\n",
       "16           0.0     0.000000         0.0       0.0    95.108340   \n",
       "29           0.0     0.000000         0.0       0.0  1388.869300   \n",
       "30           0.0     0.000000         0.0       0.0   153.979160   \n",
       "58           0.0     0.000000         0.0       0.0    60.238890   \n",
       "67           0.0     0.000000         0.0       0.0   400.000000   \n",
       "...          ...          ...         ...       ...          ...   \n",
       "4686         0.0     0.000000         0.0       0.0    50.008330   \n",
       "4757         0.0     0.000000         0.0       0.0    25.487500   \n",
       "4863         0.0  1277.577778         0.0       0.0  1277.577778   \n",
       "4929         0.0     0.000000         0.0       0.0    22.500000   \n",
       "4939         0.0     0.000000         0.0    1380.0  1380.000000   \n",
       "\n",
       "      tot_pre1790_certs  \n",
       "16                    1  \n",
       "29                    1  \n",
       "30                    1  \n",
       "58                    1  \n",
       "67                    1  \n",
       "...                 ...  \n",
       "4686                  1  \n",
       "4757                  1  \n",
       "4863                  1  \n",
       "4929                  1  \n",
       "4939                  1  \n",
       "\n",
       "[95 rows x 15 columns]"
      ]
     },
     "execution_count": 208,
     "metadata": {},
     "output_type": "execute_result"
    }
   ],
   "source": [
    "df[[abs(tt-dt)<=1 and tt != 0 \n",
    "    for tt, dt in zip(df['Total'], df['Debt Total'])]]"
   ]
  },
  {
   "cell_type": "code",
   "execution_count": 211,
   "metadata": {},
   "outputs": [
    {
     "data": {
      "text/plain": [
       "1703"
      ]
     },
     "execution_count": 211,
     "metadata": {},
     "output_type": "execute_result"
    }
   ],
   "source": [
    "df[df['tot_pre1790_certs'] != 0].shape[0]"
   ]
  },
  {
   "cell_type": "code",
   "execution_count": 106,
   "metadata": {},
   "outputs": [
    {
     "data": {
      "text/plain": [
       "14"
      ]
     },
     "execution_count": 106,
     "metadata": {},
     "output_type": "execute_result"
    }
   ],
   "source": [
    "df[[tt == dt and tt != 0 \n",
    "    for tt, dt in zip(df['Total'], df['Debt Total'])]].shape[0]"
   ]
  },
  {
   "cell_type": "markdown",
   "metadata": {},
   "source": [
    "##### State Distribution"
   ]
  },
  {
   "cell_type": "code",
   "execution_count": 210,
   "metadata": {},
   "outputs": [
    {
     "data": {
      "text/plain": [
       "CT    50\n",
       "MD    18\n",
       "PA    16\n",
       "NH     6\n",
       "VA     5\n",
       "Name: state, dtype: int64"
      ]
     },
     "execution_count": 210,
     "metadata": {},
     "output_type": "execute_result"
    }
   ],
   "source": [
    "df[[abs(tt-dt)<=1 and tt != 0 \n",
    "    for tt, dt in zip(df['Total'], df['Debt Total'])]]['state'].value_counts()"
   ]
  },
  {
   "cell_type": "markdown",
   "metadata": {},
   "source": [
    "##### Number of people with zero assets and equal values\n",
    "Most of these occur when someone has 3% but no 6% certificates"
   ]
  },
  {
   "cell_type": "code",
   "execution_count": 108,
   "metadata": {},
   "outputs": [
    {
     "data": {
      "text/plain": [
       "1299"
      ]
     },
     "execution_count": 108,
     "metadata": {},
     "output_type": "execute_result"
    }
   ],
   "source": [
    "df[[tt == dt and tt == 0 \n",
    "    for tt, dt in zip(df['Total'], df['Debt Total'])]].shape[0]"
   ]
  },
  {
   "cell_type": "markdown",
   "metadata": {},
   "source": [
    "##### State Distribution"
   ]
  },
  {
   "cell_type": "code",
   "execution_count": 109,
   "metadata": {},
   "outputs": [
    {
     "data": {
      "text/plain": [
       "NY    688\n",
       "NJ    525\n",
       "VA     26\n",
       "CT     23\n",
       "RI     17\n",
       "PA      9\n",
       "MD      8\n",
       "SC      3\n",
       "Name: state, dtype: int64"
      ]
     },
     "execution_count": 109,
     "metadata": {},
     "output_type": "execute_result"
    }
   ],
   "source": [
    "df[[tt == dt and tt == 0 \n",
    "    for tt, dt in zip(df['Total'], df['Debt Total'])]]['state'].value_counts()"
   ]
  },
  {
   "cell_type": "markdown",
   "metadata": {},
   "source": [
    "### Who, and how many people redeemed certificates with Hamilton and were not original owners/purchasers"
   ]
  },
  {
   "cell_type": "code",
   "execution_count": 227,
   "metadata": {},
   "outputs": [
    {
     "data": {
      "text/plain": [
       "1972"
      ]
     },
     "execution_count": 227,
     "metadata": {},
     "output_type": "execute_result"
    }
   ],
   "source": [
    "df[[tot == 0 and tt != 0 for tot, tt in zip(df['tot_pre1790_certs'], df['Total'])]].shape[0]"
   ]
  },
  {
   "cell_type": "code",
   "execution_count": 218,
   "metadata": {},
   "outputs": [
    {
     "data": {
      "text/html": [
       "<div>\n",
       "<style scoped>\n",
       "    .dataframe tbody tr th:only-of-type {\n",
       "        vertical-align: middle;\n",
       "    }\n",
       "\n",
       "    .dataframe tbody tr th {\n",
       "        vertical-align: top;\n",
       "    }\n",
       "\n",
       "    .dataframe thead th {\n",
       "        text-align: right;\n",
       "    }\n",
       "</style>\n",
       "<table border=\"1\" class=\"dataframe\">\n",
       "  <thead>\n",
       "    <tr style=\"text-align: right;\">\n",
       "      <th></th>\n",
       "      <th>full name</th>\n",
       "      <th>state</th>\n",
       "      <th>Same State Loan Office</th>\n",
       "      <th>Different State Loan Office</th>\n",
       "      <th>Same State Liquidated Debt</th>\n",
       "      <th>Different State Liquidated Debt</th>\n",
       "      <th>Pierce Certificates</th>\n",
       "      <th>Total</th>\n",
       "      <th>SSLO Total</th>\n",
       "      <th>DSLO Total</th>\n",
       "      <th>SSLD Total</th>\n",
       "      <th>DSLD Total</th>\n",
       "      <th>PC Total</th>\n",
       "      <th>Debt Total</th>\n",
       "      <th>tot_pre1790_certs</th>\n",
       "    </tr>\n",
       "  </thead>\n",
       "  <tbody>\n",
       "    <tr>\n",
       "      <td>3</td>\n",
       "      <td>[James O'Hara]</td>\n",
       "      <td>PA</td>\n",
       "      <td>NaN</td>\n",
       "      <td>NaN</td>\n",
       "      <td>NaN</td>\n",
       "      <td>NaN</td>\n",
       "      <td>NaN</td>\n",
       "      <td>33.44</td>\n",
       "      <td>0.0</td>\n",
       "      <td>0.0</td>\n",
       "      <td>0.0</td>\n",
       "      <td>0.0</td>\n",
       "      <td>0.0</td>\n",
       "      <td>0.0</td>\n",
       "      <td>0</td>\n",
       "    </tr>\n",
       "    <tr>\n",
       "      <td>6</td>\n",
       "      <td>[A McWhoker]</td>\n",
       "      <td>NY</td>\n",
       "      <td>NaN</td>\n",
       "      <td>NaN</td>\n",
       "      <td>NaN</td>\n",
       "      <td>NaN</td>\n",
       "      <td>NaN</td>\n",
       "      <td>340.70</td>\n",
       "      <td>0.0</td>\n",
       "      <td>0.0</td>\n",
       "      <td>0.0</td>\n",
       "      <td>0.0</td>\n",
       "      <td>0.0</td>\n",
       "      <td>0.0</td>\n",
       "      <td>0</td>\n",
       "    </tr>\n",
       "    <tr>\n",
       "      <td>8</td>\n",
       "      <td>[Aaron Bourn]</td>\n",
       "      <td>RI</td>\n",
       "      <td>NaN</td>\n",
       "      <td>NaN</td>\n",
       "      <td>NaN</td>\n",
       "      <td>NaN</td>\n",
       "      <td>NaN</td>\n",
       "      <td>309.55</td>\n",
       "      <td>0.0</td>\n",
       "      <td>0.0</td>\n",
       "      <td>0.0</td>\n",
       "      <td>0.0</td>\n",
       "      <td>0.0</td>\n",
       "      <td>0.0</td>\n",
       "      <td>0</td>\n",
       "    </tr>\n",
       "    <tr>\n",
       "      <td>10</td>\n",
       "      <td>[Aaron Cadwell II]</td>\n",
       "      <td>CT</td>\n",
       "      <td>NaN</td>\n",
       "      <td>NaN</td>\n",
       "      <td>NaN</td>\n",
       "      <td>NaN</td>\n",
       "      <td>NaN</td>\n",
       "      <td>13.88</td>\n",
       "      <td>0.0</td>\n",
       "      <td>0.0</td>\n",
       "      <td>0.0</td>\n",
       "      <td>0.0</td>\n",
       "      <td>0.0</td>\n",
       "      <td>0.0</td>\n",
       "      <td>0</td>\n",
       "    </tr>\n",
       "    <tr>\n",
       "      <td>11</td>\n",
       "      <td>[Aaron Colvin]</td>\n",
       "      <td>RI</td>\n",
       "      <td>NaN</td>\n",
       "      <td>NaN</td>\n",
       "      <td>NaN</td>\n",
       "      <td>NaN</td>\n",
       "      <td>NaN</td>\n",
       "      <td>79.05</td>\n",
       "      <td>0.0</td>\n",
       "      <td>0.0</td>\n",
       "      <td>0.0</td>\n",
       "      <td>0.0</td>\n",
       "      <td>0.0</td>\n",
       "      <td>0.0</td>\n",
       "      <td>0</td>\n",
       "    </tr>\n",
       "    <tr>\n",
       "      <td>...</td>\n",
       "      <td>...</td>\n",
       "      <td>...</td>\n",
       "      <td>...</td>\n",
       "      <td>...</td>\n",
       "      <td>...</td>\n",
       "      <td>...</td>\n",
       "      <td>...</td>\n",
       "      <td>...</td>\n",
       "      <td>...</td>\n",
       "      <td>...</td>\n",
       "      <td>...</td>\n",
       "      <td>...</td>\n",
       "      <td>...</td>\n",
       "      <td>...</td>\n",
       "      <td>...</td>\n",
       "    </tr>\n",
       "    <tr>\n",
       "      <td>4945</td>\n",
       "      <td>[Zebulon Waterman]</td>\n",
       "      <td>CT</td>\n",
       "      <td>NaN</td>\n",
       "      <td>NaN</td>\n",
       "      <td>NaN</td>\n",
       "      <td>NaN</td>\n",
       "      <td>NaN</td>\n",
       "      <td>306.61</td>\n",
       "      <td>0.0</td>\n",
       "      <td>0.0</td>\n",
       "      <td>0.0</td>\n",
       "      <td>0.0</td>\n",
       "      <td>0.0</td>\n",
       "      <td>0.0</td>\n",
       "      <td>0</td>\n",
       "    </tr>\n",
       "    <tr>\n",
       "      <td>4947</td>\n",
       "      <td>[Zephaniah Andrews]</td>\n",
       "      <td>RI</td>\n",
       "      <td>NaN</td>\n",
       "      <td>NaN</td>\n",
       "      <td>NaN</td>\n",
       "      <td>NaN</td>\n",
       "      <td>NaN</td>\n",
       "      <td>1728.74</td>\n",
       "      <td>0.0</td>\n",
       "      <td>0.0</td>\n",
       "      <td>0.0</td>\n",
       "      <td>0.0</td>\n",
       "      <td>0.0</td>\n",
       "      <td>0.0</td>\n",
       "      <td>0</td>\n",
       "    </tr>\n",
       "    <tr>\n",
       "      <td>4948</td>\n",
       "      <td>[Zephaniah Brown]</td>\n",
       "      <td>RI</td>\n",
       "      <td>NaN</td>\n",
       "      <td>NaN</td>\n",
       "      <td>NaN</td>\n",
       "      <td>NaN</td>\n",
       "      <td>NaN</td>\n",
       "      <td>2415.08</td>\n",
       "      <td>0.0</td>\n",
       "      <td>0.0</td>\n",
       "      <td>0.0</td>\n",
       "      <td>0.0</td>\n",
       "      <td>0.0</td>\n",
       "      <td>0.0</td>\n",
       "      <td>0</td>\n",
       "    </tr>\n",
       "    <tr>\n",
       "      <td>4949</td>\n",
       "      <td>[Zephaniah Davis]</td>\n",
       "      <td>CT</td>\n",
       "      <td>NaN</td>\n",
       "      <td>NaN</td>\n",
       "      <td>NaN</td>\n",
       "      <td>NaN</td>\n",
       "      <td>NaN</td>\n",
       "      <td>77.20</td>\n",
       "      <td>0.0</td>\n",
       "      <td>0.0</td>\n",
       "      <td>0.0</td>\n",
       "      <td>0.0</td>\n",
       "      <td>0.0</td>\n",
       "      <td>0.0</td>\n",
       "      <td>0</td>\n",
       "    </tr>\n",
       "    <tr>\n",
       "      <td>4951</td>\n",
       "      <td>[Zuriel Waterman]</td>\n",
       "      <td>RI</td>\n",
       "      <td>NaN</td>\n",
       "      <td>NaN</td>\n",
       "      <td>NaN</td>\n",
       "      <td>NaN</td>\n",
       "      <td>NaN</td>\n",
       "      <td>10.95</td>\n",
       "      <td>0.0</td>\n",
       "      <td>0.0</td>\n",
       "      <td>0.0</td>\n",
       "      <td>0.0</td>\n",
       "      <td>0.0</td>\n",
       "      <td>0.0</td>\n",
       "      <td>0</td>\n",
       "    </tr>\n",
       "  </tbody>\n",
       "</table>\n",
       "<p>1972 rows × 15 columns</p>\n",
       "</div>"
      ],
      "text/plain": [
       "                full name state Same State Loan Office  \\\n",
       "3          [James O'Hara]    PA                    NaN   \n",
       "6            [A McWhoker]    NY                    NaN   \n",
       "8           [Aaron Bourn]    RI                    NaN   \n",
       "10     [Aaron Cadwell II]    CT                    NaN   \n",
       "11         [Aaron Colvin]    RI                    NaN   \n",
       "...                   ...   ...                    ...   \n",
       "4945   [Zebulon Waterman]    CT                    NaN   \n",
       "4947  [Zephaniah Andrews]    RI                    NaN   \n",
       "4948    [Zephaniah Brown]    RI                    NaN   \n",
       "4949    [Zephaniah Davis]    CT                    NaN   \n",
       "4951    [Zuriel Waterman]    RI                    NaN   \n",
       "\n",
       "     Different State Loan Office Same State Liquidated Debt  \\\n",
       "3                            NaN                        NaN   \n",
       "6                            NaN                        NaN   \n",
       "8                            NaN                        NaN   \n",
       "10                           NaN                        NaN   \n",
       "11                           NaN                        NaN   \n",
       "...                          ...                        ...   \n",
       "4945                         NaN                        NaN   \n",
       "4947                         NaN                        NaN   \n",
       "4948                         NaN                        NaN   \n",
       "4949                         NaN                        NaN   \n",
       "4951                         NaN                        NaN   \n",
       "\n",
       "     Different State Liquidated Debt Pierce Certificates    Total  SSLO Total  \\\n",
       "3                                NaN                 NaN    33.44         0.0   \n",
       "6                                NaN                 NaN   340.70         0.0   \n",
       "8                                NaN                 NaN   309.55         0.0   \n",
       "10                               NaN                 NaN    13.88         0.0   \n",
       "11                               NaN                 NaN    79.05         0.0   \n",
       "...                              ...                 ...      ...         ...   \n",
       "4945                             NaN                 NaN   306.61         0.0   \n",
       "4947                             NaN                 NaN  1728.74         0.0   \n",
       "4948                             NaN                 NaN  2415.08         0.0   \n",
       "4949                             NaN                 NaN    77.20         0.0   \n",
       "4951                             NaN                 NaN    10.95         0.0   \n",
       "\n",
       "      DSLO Total  SSLD Total  DSLD Total  PC Total  Debt Total  \\\n",
       "3            0.0         0.0         0.0       0.0         0.0   \n",
       "6            0.0         0.0         0.0       0.0         0.0   \n",
       "8            0.0         0.0         0.0       0.0         0.0   \n",
       "10           0.0         0.0         0.0       0.0         0.0   \n",
       "11           0.0         0.0         0.0       0.0         0.0   \n",
       "...          ...         ...         ...       ...         ...   \n",
       "4945         0.0         0.0         0.0       0.0         0.0   \n",
       "4947         0.0         0.0         0.0       0.0         0.0   \n",
       "4948         0.0         0.0         0.0       0.0         0.0   \n",
       "4949         0.0         0.0         0.0       0.0         0.0   \n",
       "4951         0.0         0.0         0.0       0.0         0.0   \n",
       "\n",
       "      tot_pre1790_certs  \n",
       "3                     0  \n",
       "6                     0  \n",
       "8                     0  \n",
       "10                    0  \n",
       "11                    0  \n",
       "...                 ...  \n",
       "4945                  0  \n",
       "4947                  0  \n",
       "4948                  0  \n",
       "4949                  0  \n",
       "4951                  0  \n",
       "\n",
       "[1972 rows x 15 columns]"
      ]
     },
     "execution_count": 218,
     "metadata": {},
     "output_type": "execute_result"
    }
   ],
   "source": [
    "df[[tot == 0 and tt != 0 for tot, tt in zip(df['tot_pre1790_certs'], df['Total'])]]"
   ]
  },
  {
   "cell_type": "markdown",
   "metadata": {},
   "source": [
    "##### state distribution"
   ]
  },
  {
   "cell_type": "code",
   "execution_count": 219,
   "metadata": {},
   "outputs": [
    {
     "data": {
      "text/plain": [
       "RI    456\n",
       "PA    348\n",
       "VA    260\n",
       "SC    246\n",
       "CT    246\n",
       "MD    172\n",
       "NY     86\n",
       "NH     55\n",
       "GA     52\n",
       "NC     51\n",
       "Name: state, dtype: int64"
      ]
     },
     "execution_count": 219,
     "metadata": {},
     "output_type": "execute_result"
    }
   ],
   "source": [
    "df[[tot == 0 and tt != 0 for tot, tt in zip(df['tot_pre1790_certs'], df['Total'])]]['state'].value_counts()"
   ]
  },
  {
   "cell_type": "code",
   "execution_count": 220,
   "metadata": {},
   "outputs": [],
   "source": [
    "namelsts = df[[tot == 0 and tt != 0 for \n",
    "               tot, tt in zip(df['tot_pre1790_certs'], df['Total'])]]['full name'].apply(lambda x: pd.Series(x)).values\n",
    "names = [x for x in list(chain.from_iterable(namelsts)) if not pd.isnull(x)]"
   ]
  },
  {
   "cell_type": "code",
   "execution_count": 221,
   "metadata": {},
   "outputs": [],
   "source": [
    "name_state_asset = pd.DataFrame({}, columns = ['Full Name', 'Total', 'state'])"
   ]
  },
  {
   "cell_type": "code",
   "execution_count": 222,
   "metadata": {},
   "outputs": [],
   "source": [
    "name_df = df[[tot == 0 and tt != 0 for \n",
    "              tot, tt in zip(df['tot_pre1790_certs'], df['Total'])]]['full name'].apply(lambda x: pd.Series(x))\n",
    "for name in names:\n",
    "    ind1 = name_df[name_df[0] == name].index.tolist()\n",
    "    ind2 = name_df[name_df[1] == name].index.tolist()\n",
    "    ind3 = name_df[name_df[2] == name].index.tolist()\n",
    "    ind1.extend(ind2)\n",
    "    ind1.extend(ind3)\n",
    "    ind1 = list(set(ind1))\n",
    "    tot_assets = df.loc[ind1, 'Total'].sum()\n",
    "    state = df.loc[ind1, 'state'].values[0]\n",
    "    add_df = pd.DataFrame()\n",
    "    add_df['Full Name'] = [name]\n",
    "    add_df['Total'] = [tot_assets]\n",
    "    add_df['state'] = [state]\n",
    "    name_state_asset = pd.concat([name_state_asset, add_df])"
   ]
  },
  {
   "cell_type": "code",
   "execution_count": 223,
   "metadata": {},
   "outputs": [],
   "source": [
    "cd_names = pd.DataFrame(name_state_asset.groupby(['Full Name', 'state'])['Total'].sum()).reset_index()"
   ]
  },
  {
   "cell_type": "code",
   "execution_count": 224,
   "metadata": {},
   "outputs": [],
   "source": [
    "cd_names.to_csv(\"speculator_names.csv\")"
   ]
  }
 ],
 "metadata": {
  "kernelspec": {
   "display_name": "Python 3",
   "language": "python",
   "name": "python3"
  },
  "language_info": {
   "codemirror_mode": {
    "name": "ipython",
    "version": 3
   },
   "file_extension": ".py",
   "mimetype": "text/x-python",
   "name": "python",
   "nbconvert_exporter": "python",
   "pygments_lexer": "ipython3",
   "version": "3.7.4"
  }
 },
 "nbformat": 4,
 "nbformat_minor": 4
}
