{
 "cells": [
  {
   "cell_type": "code",
   "execution_count": 1,
   "metadata": {},
   "outputs": [],
   "source": [
    "# Nicknames (William vs Will)\n",
    "# Missing spaces or hyphens\n",
    "# Missing titles/honorifics\n",
    "# Initials\n",
    "# Missing Initials"
   ]
  },
  {
   "cell_type": "code",
   "execution_count": null,
   "metadata": {},
   "outputs": [],
   "source": [
    "fread"
   ]
  },
  {
   "cell_type": "code",
   "execution_count": null,
   "metadata": {},
   "outputs": [],
   "source": [
    "#pre-processing\n",
    "prefixsuffix = ['deceased', 'honorable', 'esqr', 'trustees', 'his', 'inlaws', 'and', 'son', 'of']"
   ]
  },
  {
   "cell_type": "code",
   "execution_count": null,
   "metadata": {},
   "outputs": [],
   "source": [
    "namesuffix = ['jr', 'sr', 'jr.', 'sr.', '1d', '1st', '2d', '2nd', '3d', '3rd', '4d', '4th']"
   ]
  },
  {
   "cell_type": "code",
   "execution_count": null,
   "metadata": {},
   "outputs": [],
   "source": [
    "#jaro distance\n",
    "#hamming distance between strings\n",
    "#fuzzy wuzzy extract\n",
    "#damerau levenshetin distance\n",
    "#whos who ratio\n",
    "#score of how common a name is\n",
    "#soundex\n",
    "#number of letters that are different and which letters\n",
    "#whether there were numbers in one that weren't in another\n",
    "#where the differences were located (first, last, in between)\n",
    "#number of words that have discrepancies"
   ]
  },
  {
   "cell_type": "code",
   "execution_count": 8,
   "metadata": {},
   "outputs": [
    {
     "data": {
      "text/plain": [
       "0.9743589743589745"
      ]
     },
     "execution_count": 8,
     "metadata": {},
     "output_type": "execute_result"
    }
   ],
   "source": []
  },
  {
   "cell_type": "code",
   "execution_count": null,
   "metadata": {},
   "outputs": [],
   "source": []
  }
 ],
 "metadata": {
  "kernelspec": {
   "display_name": "Python 3",
   "language": "python",
   "name": "python3"
  },
  "language_info": {
   "codemirror_mode": {
    "name": "ipython",
    "version": 3
   },
   "file_extension": ".py",
   "mimetype": "text/x-python",
   "name": "python",
   "nbconvert_exporter": "python",
   "pygments_lexer": "ipython3",
   "version": "3.7.4"
  }
 },
 "nbformat": 4,
 "nbformat_minor": 4
}
