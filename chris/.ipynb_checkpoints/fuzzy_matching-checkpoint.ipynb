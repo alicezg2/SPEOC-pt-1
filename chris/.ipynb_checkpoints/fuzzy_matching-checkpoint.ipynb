{
 "cells": [
  {
   "cell_type": "markdown",
   "metadata": {},
   "source": [
    "<h3> Data Cleaning </h3>"
   ]
  },
  {
   "cell_type": "code",
   "execution_count": 107,
   "metadata": {},
   "outputs": [],
   "source": [
    "import numpy as np\n",
    "import pandas as pd"
   ]
  },
  {
   "cell_type": "code",
   "execution_count": 108,
   "metadata": {},
   "outputs": [],
   "source": [
    "delegates = pd.read_excel(\"Data/constitutional_convention_1787.xlsx\", header = 2)"
   ]
  },
  {
   "cell_type": "code",
   "execution_count": 109,
   "metadata": {},
   "outputs": [
    {
     "name": "stdout",
     "output_type": "stream",
     "text": [
      "dimensions: (55, 4)\n"
     ]
    },
    {
     "data": {
      "text/html": [
       "<div>\n",
       "<style scoped>\n",
       "    .dataframe tbody tr th:only-of-type {\n",
       "        vertical-align: middle;\n",
       "    }\n",
       "\n",
       "    .dataframe tbody tr th {\n",
       "        vertical-align: top;\n",
       "    }\n",
       "\n",
       "    .dataframe thead th {\n",
       "        text-align: right;\n",
       "    }\n",
       "</style>\n",
       "<table border=\"1\" class=\"dataframe\">\n",
       "  <thead>\n",
       "    <tr style=\"text-align: right;\">\n",
       "      <th></th>\n",
       "      <th>first name</th>\n",
       "      <th>last name</th>\n",
       "      <th>state</th>\n",
       "      <th>sign?</th>\n",
       "    </tr>\n",
       "  </thead>\n",
       "  <tbody>\n",
       "    <tr>\n",
       "      <td>0</td>\n",
       "      <td>William Samuel</td>\n",
       "      <td>Johnson</td>\n",
       "      <td>Connecticut</td>\n",
       "      <td>yes</td>\n",
       "    </tr>\n",
       "    <tr>\n",
       "      <td>1</td>\n",
       "      <td>Roger</td>\n",
       "      <td>Sherman</td>\n",
       "      <td>Connecticut</td>\n",
       "      <td>yes</td>\n",
       "    </tr>\n",
       "    <tr>\n",
       "      <td>2</td>\n",
       "      <td>Oliver</td>\n",
       "      <td>Ellsworth (Elsworth)</td>\n",
       "      <td>Connecticut</td>\n",
       "      <td>no</td>\n",
       "    </tr>\n",
       "    <tr>\n",
       "      <td>3</td>\n",
       "      <td>George</td>\n",
       "      <td>Read</td>\n",
       "      <td>Delaware</td>\n",
       "      <td>yes</td>\n",
       "    </tr>\n",
       "    <tr>\n",
       "      <td>4</td>\n",
       "      <td>Gunning</td>\n",
       "      <td>Bedford Jr.</td>\n",
       "      <td>Delaware</td>\n",
       "      <td>yes</td>\n",
       "    </tr>\n",
       "  </tbody>\n",
       "</table>\n",
       "</div>"
      ],
      "text/plain": [
       "       first name              last name         state sign?\n",
       "0  William Samuel                Johnson   Connecticut   yes\n",
       "1           Roger                Sherman   Connecticut   yes\n",
       "2          Oliver   Ellsworth (Elsworth)   Connecticut    no\n",
       "3          George                   Read      Delaware   yes\n",
       "4         Gunning            Bedford Jr.      Delaware   yes"
      ]
     },
     "execution_count": 109,
     "metadata": {},
     "output_type": "execute_result"
    }
   ],
   "source": [
    "print(\"dimensions:\", delegates.shape)\n",
    "delegates.head()"
   ]
  },
  {
   "cell_type": "code",
   "execution_count": 110,
   "metadata": {},
   "outputs": [
    {
     "name": "stdout",
     "output_type": "stream",
     "text": [
      "list of states: [' Connecticut' ' Delaware' ' Georgia' ' Maryland' ' Massachusetts'\n",
      " ' New Hampshire' ' New Jersey' ' New York' ' North Carolina'\n",
      " ' Pennsylvania' ' South Carolina' ' Virginia']\n",
      "number of states: 12 \n",
      "\n",
      " Pennsylvania      8\n",
      " Virginia          7\n",
      " New Jersey        5\n",
      " Maryland          5\n",
      " North Carolina    5\n",
      " Delaware          5\n",
      " Massachusetts     4\n",
      " South Carolina    4\n",
      " Georgia           4\n",
      " New York          3\n",
      " Connecticut       3\n",
      " New Hampshire     2\n",
      "Name: state, dtype: int64 \n",
      "\n",
      "response types: [' yes' 'no' ' no']\n",
      "num response types: 3 \n",
      "\n",
      "first name length distribution\n",
      "1    47\n",
      "2     7\n",
      "4     1\n",
      "dtype: int64\n",
      "last name length distribution\n",
      "2    47\n",
      "3     7\n",
      "4     1\n",
      "dtype: int64\n"
     ]
    }
   ],
   "source": [
    "#quick exploratory analysis\n",
    "delegates = delegates.rename(columns={\"sign?\":\"sign\", \n",
    "                                      \"first name\":\"first\",\n",
    "                                      \"last name\":\"last\"})\n",
    "\n",
    "states = delegates.state.unique()\n",
    "print(\"list of states:\",states)\n",
    "print(\"number of states:\",len(states),\"\\n\")\n",
    "\n",
    "state_counts = delegates.state.value_counts()\n",
    "print(state_counts, \"\\n\")\n",
    "\n",
    "responses = delegates.sign.unique()\n",
    "print(\"response types:\", responses)\n",
    "print(\"num response types:\",len(responses), \"\\n\")\n",
    "\n",
    "firstnamelen = pd.Series([len(x.split(\" \")) for x in delegates['first']])\n",
    "print(\"first name length distribution\")\n",
    "print(firstnamelen.value_counts())\n",
    "\n",
    "lastnamelen = pd.Series([len(x.split(\" \")) for x in delegates['last']])\n",
    "print(\"last name length distribution\")\n",
    "print(lastnamelen.value_counts())"
   ]
  },
  {
   "cell_type": "code",
   "execution_count": 111,
   "metadata": {},
   "outputs": [
    {
     "name": "stdout",
     "output_type": "stream",
     "text": [
      "number of alt first names: 0\n",
      "number of alt last names: 4\n"
     ]
    }
   ],
   "source": [
    "#might want to separate names with parentheses into last name 1/2\n",
    "sumaltfirst = sum([\"(\" in x for x in delegates['first']])\n",
    "print(\"number of alt first names:\", sumaltfirst)\n",
    "\n",
    "sumaltlast = sum([\"(\" in x for x in delegates['last']])\n",
    "print(\"number of alt last names:\", sumaltlast)"
   ]
  },
  {
   "cell_type": "code",
   "execution_count": 112,
   "metadata": {},
   "outputs": [],
   "source": [
    "#cleaning strings\n",
    "delegates['state'] = [x.strip() for x in delegates.state]\n",
    "delegates['sign'] = [x.strip() for x in delegates.sign]\n",
    "delegates['first'] = [x.strip() for x in delegates['first']]\n",
    "delegates['last'] = [x.strip() for x in delegates['last']]"
   ]
  },
  {
   "cell_type": "code",
   "execution_count": 113,
   "metadata": {},
   "outputs": [
    {
     "data": {
      "text/html": [
       "<div>\n",
       "<style scoped>\n",
       "    .dataframe tbody tr th:only-of-type {\n",
       "        vertical-align: middle;\n",
       "    }\n",
       "\n",
       "    .dataframe tbody tr th {\n",
       "        vertical-align: top;\n",
       "    }\n",
       "\n",
       "    .dataframe thead th {\n",
       "        text-align: right;\n",
       "    }\n",
       "</style>\n",
       "<table border=\"1\" class=\"dataframe\">\n",
       "  <thead>\n",
       "    <tr style=\"text-align: right;\">\n",
       "      <th></th>\n",
       "      <th>first</th>\n",
       "      <th>last</th>\n",
       "      <th>state</th>\n",
       "      <th>sign</th>\n",
       "    </tr>\n",
       "  </thead>\n",
       "  <tbody>\n",
       "    <tr>\n",
       "      <td>0</td>\n",
       "      <td>William Samuel</td>\n",
       "      <td>Johnson</td>\n",
       "      <td>Connecticut</td>\n",
       "      <td>yes</td>\n",
       "    </tr>\n",
       "    <tr>\n",
       "      <td>1</td>\n",
       "      <td>Roger</td>\n",
       "      <td>Sherman</td>\n",
       "      <td>Connecticut</td>\n",
       "      <td>yes</td>\n",
       "    </tr>\n",
       "    <tr>\n",
       "      <td>2</td>\n",
       "      <td>Oliver</td>\n",
       "      <td>Ellsworth (Elsworth)</td>\n",
       "      <td>Connecticut</td>\n",
       "      <td>no</td>\n",
       "    </tr>\n",
       "    <tr>\n",
       "      <td>3</td>\n",
       "      <td>George</td>\n",
       "      <td>Read</td>\n",
       "      <td>Delaware</td>\n",
       "      <td>yes</td>\n",
       "    </tr>\n",
       "    <tr>\n",
       "      <td>4</td>\n",
       "      <td>Gunning</td>\n",
       "      <td>Bedford Jr.</td>\n",
       "      <td>Delaware</td>\n",
       "      <td>yes</td>\n",
       "    </tr>\n",
       "  </tbody>\n",
       "</table>\n",
       "</div>"
      ],
      "text/plain": [
       "            first                  last        state sign\n",
       "0  William Samuel               Johnson  Connecticut  yes\n",
       "1           Roger               Sherman  Connecticut  yes\n",
       "2          Oliver  Ellsworth (Elsworth)  Connecticut   no\n",
       "3          George                  Read     Delaware  yes\n",
       "4         Gunning           Bedford Jr.     Delaware  yes"
      ]
     },
     "execution_count": 113,
     "metadata": {},
     "output_type": "execute_result"
    }
   ],
   "source": [
    "delegates.head()"
   ]
  },
  {
   "cell_type": "code",
   "execution_count": 114,
   "metadata": {},
   "outputs": [
    {
     "name": "stdout",
     "output_type": "stream",
     "text": [
      "response types: ['yes' 'no']\n",
      "num response types: 2 \n",
      "\n"
     ]
    }
   ],
   "source": [
    "responses = delegates.sign.unique()\n",
    "print(\"response types:\", responses)\n",
    "print(\"num response types:\",len(responses), \"\\n\")"
   ]
  },
  {
   "cell_type": "code",
   "execution_count": 115,
   "metadata": {},
   "outputs": [],
   "source": [
    "loans = pd.read_csv(\"loan_office_certificates_9_states_cleaned.csv\").drop('Unnamed: 0', axis = 1)"
   ]
  },
  {
   "cell_type": "code",
   "execution_count": 116,
   "metadata": {},
   "outputs": [
    {
     "data": {
      "text/plain": [
       "Index(['State', 'Year', 'Month', 'Day', 'Title 1', 'First Name 1 ',\n",
       "       'Last Name 1 ', 'Title 2', 'First Name 2', 'Last Name 2', 'Title 3',\n",
       "       'First Name 3', 'Last Name 3', 'Face Value', 'Specie Value ', 'notes',\n",
       "       'original text'],\n",
       "      dtype='object')"
      ]
     },
     "execution_count": 116,
     "metadata": {},
     "output_type": "execute_result"
    }
   ],
   "source": [
    "loans.columns"
   ]
  },
  {
   "cell_type": "code",
   "execution_count": 117,
   "metadata": {},
   "outputs": [
    {
     "data": {
      "text/html": [
       "<div>\n",
       "<style scoped>\n",
       "    .dataframe tbody tr th:only-of-type {\n",
       "        vertical-align: middle;\n",
       "    }\n",
       "\n",
       "    .dataframe tbody tr th {\n",
       "        vertical-align: top;\n",
       "    }\n",
       "\n",
       "    .dataframe thead th {\n",
       "        text-align: right;\n",
       "    }\n",
       "</style>\n",
       "<table border=\"1\" class=\"dataframe\">\n",
       "  <thead>\n",
       "    <tr style=\"text-align: right;\">\n",
       "      <th></th>\n",
       "      <th>State</th>\n",
       "      <th>Year</th>\n",
       "      <th>Month</th>\n",
       "      <th>Day</th>\n",
       "      <th>Title 1</th>\n",
       "      <th>First Name 1</th>\n",
       "      <th>Last Name 1</th>\n",
       "      <th>Title 2</th>\n",
       "      <th>First Name 2</th>\n",
       "      <th>Last Name 2</th>\n",
       "      <th>Title 3</th>\n",
       "      <th>First Name 3</th>\n",
       "      <th>Last Name 3</th>\n",
       "      <th>Face Value</th>\n",
       "      <th>Specie Value</th>\n",
       "      <th>notes</th>\n",
       "      <th>original text</th>\n",
       "    </tr>\n",
       "  </thead>\n",
       "  <tbody>\n",
       "    <tr>\n",
       "      <td>0</td>\n",
       "      <td>1</td>\n",
       "      <td>1778</td>\n",
       "      <td>3</td>\n",
       "      <td>13.0</td>\n",
       "      <td>Col</td>\n",
       "      <td>Joshua</td>\n",
       "      <td>Wentworth</td>\n",
       "      <td>NaN</td>\n",
       "      <td>NaN</td>\n",
       "      <td>NaN</td>\n",
       "      <td>NaN</td>\n",
       "      <td>NaN</td>\n",
       "      <td>NaN</td>\n",
       "      <td>200</td>\n",
       "      <td>108.2778</td>\n",
       "      <td>NaN</td>\n",
       "      <td>NaN</td>\n",
       "    </tr>\n",
       "    <tr>\n",
       "      <td>1</td>\n",
       "      <td>1</td>\n",
       "      <td>1777</td>\n",
       "      <td>9</td>\n",
       "      <td>2.0</td>\n",
       "      <td>NaN</td>\n",
       "      <td>Charles</td>\n",
       "      <td>Treadwell</td>\n",
       "      <td>NaN</td>\n",
       "      <td>NaN</td>\n",
       "      <td>NaN</td>\n",
       "      <td>NaN</td>\n",
       "      <td>NaN</td>\n",
       "      <td>NaN</td>\n",
       "      <td>200</td>\n",
       "      <td>199.3778</td>\n",
       "      <td>NaN</td>\n",
       "      <td>NaN</td>\n",
       "    </tr>\n",
       "    <tr>\n",
       "      <td>2</td>\n",
       "      <td>1</td>\n",
       "      <td>1777</td>\n",
       "      <td>9</td>\n",
       "      <td>10.0</td>\n",
       "      <td>NaN</td>\n",
       "      <td>Stephen</td>\n",
       "      <td>Cleverly</td>\n",
       "      <td>NaN</td>\n",
       "      <td>NaN</td>\n",
       "      <td>NaN</td>\n",
       "      <td>NaN</td>\n",
       "      <td>NaN</td>\n",
       "      <td>NaN</td>\n",
       "      <td>200</td>\n",
       "      <td>194.5111</td>\n",
       "      <td>NaN</td>\n",
       "      <td>NaN</td>\n",
       "    </tr>\n",
       "    <tr>\n",
       "      <td>3</td>\n",
       "      <td>1</td>\n",
       "      <td>1777</td>\n",
       "      <td>9</td>\n",
       "      <td>13.0</td>\n",
       "      <td>NaN</td>\n",
       "      <td>David</td>\n",
       "      <td>Griffith</td>\n",
       "      <td>NaN</td>\n",
       "      <td>NaN</td>\n",
       "      <td>NaN</td>\n",
       "      <td>NaN</td>\n",
       "      <td>NaN</td>\n",
       "      <td>NaN</td>\n",
       "      <td>200</td>\n",
       "      <td>192.7111</td>\n",
       "      <td>NaN</td>\n",
       "      <td>NaN</td>\n",
       "    </tr>\n",
       "    <tr>\n",
       "      <td>4</td>\n",
       "      <td>1</td>\n",
       "      <td>1777</td>\n",
       "      <td>9</td>\n",
       "      <td>15.0</td>\n",
       "      <td>NaN</td>\n",
       "      <td>John</td>\n",
       "      <td>Mansfield</td>\n",
       "      <td>NaN</td>\n",
       "      <td>NaN</td>\n",
       "      <td>NaN</td>\n",
       "      <td>NaN</td>\n",
       "      <td>NaN</td>\n",
       "      <td>NaN</td>\n",
       "      <td>200</td>\n",
       "      <td>191.5222</td>\n",
       "      <td>NaN</td>\n",
       "      <td>NaN</td>\n",
       "    </tr>\n",
       "  </tbody>\n",
       "</table>\n",
       "</div>"
      ],
      "text/plain": [
       "   State  Year  Month   Day Title 1 First Name 1 Last Name 1 Title 2  \\\n",
       "0      1  1778      3  13.0     Col       Joshua   Wentworth     NaN   \n",
       "1      1  1777      9   2.0     NaN      Charles   Treadwell     NaN   \n",
       "2      1  1777      9  10.0     NaN      Stephen    Cleverly     NaN   \n",
       "3      1  1777      9  13.0     NaN        David    Griffith     NaN   \n",
       "4      1  1777      9  15.0     NaN         John   Mansfield     NaN   \n",
       "\n",
       "  First Name 2 Last Name 2 Title 3 First Name 3 Last Name 3  Face Value  \\\n",
       "0          NaN         NaN     NaN          NaN         NaN         200   \n",
       "1          NaN         NaN     NaN          NaN         NaN         200   \n",
       "2          NaN         NaN     NaN          NaN         NaN         200   \n",
       "3          NaN         NaN     NaN          NaN         NaN         200   \n",
       "4          NaN         NaN     NaN          NaN         NaN         200   \n",
       "\n",
       "   Specie Value  notes original text  \n",
       "0       108.2778   NaN           NaN  \n",
       "1       199.3778   NaN           NaN  \n",
       "2       194.5111   NaN           NaN  \n",
       "3       192.7111   NaN           NaN  \n",
       "4       191.5222   NaN           NaN  "
      ]
     },
     "execution_count": 117,
     "metadata": {},
     "output_type": "execute_result"
    }
   ],
   "source": [
    "loans = loans.rename(columns = {\"First Name 1 \":\"First Name 1\",\n",
    "                                \"Last Name 1 \":\"Last Name 1\"})\n",
    "loans.head()"
   ]
  },
  {
   "cell_type": "markdown",
   "metadata": {},
   "source": [
    "<h3> Testing FuzzyWuzzy </h3>"
   ]
  },
  {
   "cell_type": "code",
   "execution_count": 118,
   "metadata": {},
   "outputs": [],
   "source": [
    "import fuzzywuzzy\n",
    "from fuzzywuzzy import fuzz\n",
    "from fuzzywuzzy import process"
   ]
  },
  {
   "cell_type": "code",
   "execution_count": 119,
   "metadata": {},
   "outputs": [],
   "source": [
    "#construct full names for loan files\n",
    "loans['full name 1'] = loans['First Name 1'] + \" \" + loans['Last Name 1']\n",
    "loans['full name 2'] = loans['First Name 2'] + \" \" + loans['Last Name 2']\n",
    "loans['full name 3'] = loans['First Name 3'] + \" \" + loans['Last Name 3']"
   ]
  },
  {
   "cell_type": "code",
   "execution_count": 120,
   "metadata": {},
   "outputs": [],
   "source": [
    "#handle special case\n",
    "delegates.loc[40, 'last'] = 'Fitzsimons (Fitzsimmons)'"
   ]
  },
  {
   "cell_type": "code",
   "execution_count": 121,
   "metadata": {
    "collapsed": true,
    "jupyter": {
     "outputs_hidden": true
    }
   },
   "outputs": [
    {
     "data": {
      "application/javascript": [
       "\n",
       "        if (window._pyforest_update_imports_cell) { window._pyforest_update_imports_cell('import re'); }\n",
       "    "
      ],
      "text/plain": [
       "<IPython.core.display.Javascript object>"
      ]
     },
     "metadata": {},
     "output_type": "display_data"
    },
    {
     "data": {
      "application/javascript": [
       "\n",
       "        if (window._pyforest_update_imports_cell) { window._pyforest_update_imports_cell('import re'); }\n",
       "    "
      ],
      "text/plain": [
       "<IPython.core.display.Javascript object>"
      ]
     },
     "metadata": {},
     "output_type": "display_data"
    },
    {
     "data": {
      "application/javascript": [
       "\n",
       "        if (window._pyforest_update_imports_cell) { window._pyforest_update_imports_cell('import re'); }\n",
       "    "
      ],
      "text/plain": [
       "<IPython.core.display.Javascript object>"
      ]
     },
     "metadata": {},
     "output_type": "display_data"
    },
    {
     "data": {
      "application/javascript": [
       "\n",
       "        if (window._pyforest_update_imports_cell) { window._pyforest_update_imports_cell('import re'); }\n",
       "    "
      ],
      "text/plain": [
       "<IPython.core.display.Javascript object>"
      ]
     },
     "metadata": {},
     "output_type": "display_data"
    },
    {
     "data": {
      "application/javascript": [
       "\n",
       "        if (window._pyforest_update_imports_cell) { window._pyforest_update_imports_cell('import re'); }\n",
       "    "
      ],
      "text/plain": [
       "<IPython.core.display.Javascript object>"
      ]
     },
     "metadata": {},
     "output_type": "display_data"
    },
    {
     "data": {
      "application/javascript": [
       "\n",
       "        if (window._pyforest_update_imports_cell) { window._pyforest_update_imports_cell('import re'); }\n",
       "    "
      ],
      "text/plain": [
       "<IPython.core.display.Javascript object>"
      ]
     },
     "metadata": {},
     "output_type": "display_data"
    },
    {
     "data": {
      "application/javascript": [
       "\n",
       "        if (window._pyforest_update_imports_cell) { window._pyforest_update_imports_cell('import re'); }\n",
       "    "
      ],
      "text/plain": [
       "<IPython.core.display.Javascript object>"
      ]
     },
     "metadata": {},
     "output_type": "display_data"
    },
    {
     "data": {
      "application/javascript": [
       "\n",
       "        if (window._pyforest_update_imports_cell) { window._pyforest_update_imports_cell('import re'); }\n",
       "    "
      ],
      "text/plain": [
       "<IPython.core.display.Javascript object>"
      ]
     },
     "metadata": {},
     "output_type": "display_data"
    },
    {
     "data": {
      "application/javascript": [
       "\n",
       "        if (window._pyforest_update_imports_cell) { window._pyforest_update_imports_cell('import re'); }\n",
       "    "
      ],
      "text/plain": [
       "<IPython.core.display.Javascript object>"
      ]
     },
     "metadata": {},
     "output_type": "display_data"
    },
    {
     "data": {
      "application/javascript": [
       "\n",
       "        if (window._pyforest_update_imports_cell) { window._pyforest_update_imports_cell('import re'); }\n",
       "    "
      ],
      "text/plain": [
       "<IPython.core.display.Javascript object>"
      ]
     },
     "metadata": {},
     "output_type": "display_data"
    },
    {
     "data": {
      "application/javascript": [
       "\n",
       "        if (window._pyforest_update_imports_cell) { window._pyforest_update_imports_cell('import re'); }\n",
       "    "
      ],
      "text/plain": [
       "<IPython.core.display.Javascript object>"
      ]
     },
     "metadata": {},
     "output_type": "display_data"
    },
    {
     "data": {
      "application/javascript": [
       "\n",
       "        if (window._pyforest_update_imports_cell) { window._pyforest_update_imports_cell('import re'); }\n",
       "    "
      ],
      "text/plain": [
       "<IPython.core.display.Javascript object>"
      ]
     },
     "metadata": {},
     "output_type": "display_data"
    },
    {
     "data": {
      "application/javascript": [
       "\n",
       "        if (window._pyforest_update_imports_cell) { window._pyforest_update_imports_cell('import re'); }\n",
       "    "
      ],
      "text/plain": [
       "<IPython.core.display.Javascript object>"
      ]
     },
     "metadata": {},
     "output_type": "display_data"
    },
    {
     "data": {
      "application/javascript": [
       "\n",
       "        if (window._pyforest_update_imports_cell) { window._pyforest_update_imports_cell('import re'); }\n",
       "    "
      ],
      "text/plain": [
       "<IPython.core.display.Javascript object>"
      ]
     },
     "metadata": {},
     "output_type": "display_data"
    },
    {
     "data": {
      "application/javascript": [
       "\n",
       "        if (window._pyforest_update_imports_cell) { window._pyforest_update_imports_cell('import re'); }\n",
       "    "
      ],
      "text/plain": [
       "<IPython.core.display.Javascript object>"
      ]
     },
     "metadata": {},
     "output_type": "display_data"
    },
    {
     "data": {
      "application/javascript": [
       "\n",
       "        if (window._pyforest_update_imports_cell) { window._pyforest_update_imports_cell('import re'); }\n",
       "    "
      ],
      "text/plain": [
       "<IPython.core.display.Javascript object>"
      ]
     },
     "metadata": {},
     "output_type": "display_data"
    },
    {
     "data": {
      "application/javascript": [
       "\n",
       "        if (window._pyforest_update_imports_cell) { window._pyforest_update_imports_cell('import re'); }\n",
       "    "
      ],
      "text/plain": [
       "<IPython.core.display.Javascript object>"
      ]
     },
     "metadata": {},
     "output_type": "display_data"
    },
    {
     "data": {
      "application/javascript": [
       "\n",
       "        if (window._pyforest_update_imports_cell) { window._pyforest_update_imports_cell('import re'); }\n",
       "    "
      ],
      "text/plain": [
       "<IPython.core.display.Javascript object>"
      ]
     },
     "metadata": {},
     "output_type": "display_data"
    },
    {
     "data": {
      "application/javascript": [
       "\n",
       "        if (window._pyforest_update_imports_cell) { window._pyforest_update_imports_cell('import re'); }\n",
       "    "
      ],
      "text/plain": [
       "<IPython.core.display.Javascript object>"
      ]
     },
     "metadata": {},
     "output_type": "display_data"
    },
    {
     "data": {
      "application/javascript": [
       "\n",
       "        if (window._pyforest_update_imports_cell) { window._pyforest_update_imports_cell('import re'); }\n",
       "    "
      ],
      "text/plain": [
       "<IPython.core.display.Javascript object>"
      ]
     },
     "metadata": {},
     "output_type": "display_data"
    },
    {
     "data": {
      "application/javascript": [
       "\n",
       "        if (window._pyforest_update_imports_cell) { window._pyforest_update_imports_cell('import re'); }\n",
       "    "
      ],
      "text/plain": [
       "<IPython.core.display.Javascript object>"
      ]
     },
     "metadata": {},
     "output_type": "display_data"
    },
    {
     "data": {
      "application/javascript": [
       "\n",
       "        if (window._pyforest_update_imports_cell) { window._pyforest_update_imports_cell('import re'); }\n",
       "    "
      ],
      "text/plain": [
       "<IPython.core.display.Javascript object>"
      ]
     },
     "metadata": {},
     "output_type": "display_data"
    },
    {
     "data": {
      "application/javascript": [
       "\n",
       "        if (window._pyforest_update_imports_cell) { window._pyforest_update_imports_cell('import re'); }\n",
       "    "
      ],
      "text/plain": [
       "<IPython.core.display.Javascript object>"
      ]
     },
     "metadata": {},
     "output_type": "display_data"
    },
    {
     "data": {
      "application/javascript": [
       "\n",
       "        if (window._pyforest_update_imports_cell) { window._pyforest_update_imports_cell('import re'); }\n",
       "    "
      ],
      "text/plain": [
       "<IPython.core.display.Javascript object>"
      ]
     },
     "metadata": {},
     "output_type": "display_data"
    },
    {
     "data": {
      "application/javascript": [
       "\n",
       "        if (window._pyforest_update_imports_cell) { window._pyforest_update_imports_cell('import re'); }\n",
       "    "
      ],
      "text/plain": [
       "<IPython.core.display.Javascript object>"
      ]
     },
     "metadata": {},
     "output_type": "display_data"
    },
    {
     "data": {
      "application/javascript": [
       "\n",
       "        if (window._pyforest_update_imports_cell) { window._pyforest_update_imports_cell('import re'); }\n",
       "    "
      ],
      "text/plain": [
       "<IPython.core.display.Javascript object>"
      ]
     },
     "metadata": {},
     "output_type": "display_data"
    },
    {
     "data": {
      "application/javascript": [
       "\n",
       "        if (window._pyforest_update_imports_cell) { window._pyforest_update_imports_cell('import re'); }\n",
       "    "
      ],
      "text/plain": [
       "<IPython.core.display.Javascript object>"
      ]
     },
     "metadata": {},
     "output_type": "display_data"
    },
    {
     "data": {
      "application/javascript": [
       "\n",
       "        if (window._pyforest_update_imports_cell) { window._pyforest_update_imports_cell('import re'); }\n",
       "    "
      ],
      "text/plain": [
       "<IPython.core.display.Javascript object>"
      ]
     },
     "metadata": {},
     "output_type": "display_data"
    },
    {
     "data": {
      "application/javascript": [
       "\n",
       "        if (window._pyforest_update_imports_cell) { window._pyforest_update_imports_cell('import re'); }\n",
       "    "
      ],
      "text/plain": [
       "<IPython.core.display.Javascript object>"
      ]
     },
     "metadata": {},
     "output_type": "display_data"
    },
    {
     "data": {
      "application/javascript": [
       "\n",
       "        if (window._pyforest_update_imports_cell) { window._pyforest_update_imports_cell('import re'); }\n",
       "    "
      ],
      "text/plain": [
       "<IPython.core.display.Javascript object>"
      ]
     },
     "metadata": {},
     "output_type": "display_data"
    },
    {
     "data": {
      "application/javascript": [
       "\n",
       "        if (window._pyforest_update_imports_cell) { window._pyforest_update_imports_cell('import re'); }\n",
       "    "
      ],
      "text/plain": [
       "<IPython.core.display.Javascript object>"
      ]
     },
     "metadata": {},
     "output_type": "display_data"
    },
    {
     "data": {
      "application/javascript": [
       "\n",
       "        if (window._pyforest_update_imports_cell) { window._pyforest_update_imports_cell('import re'); }\n",
       "    "
      ],
      "text/plain": [
       "<IPython.core.display.Javascript object>"
      ]
     },
     "metadata": {},
     "output_type": "display_data"
    },
    {
     "data": {
      "application/javascript": [
       "\n",
       "        if (window._pyforest_update_imports_cell) { window._pyforest_update_imports_cell('import re'); }\n",
       "    "
      ],
      "text/plain": [
       "<IPython.core.display.Javascript object>"
      ]
     },
     "metadata": {},
     "output_type": "display_data"
    },
    {
     "data": {
      "application/javascript": [
       "\n",
       "        if (window._pyforest_update_imports_cell) { window._pyforest_update_imports_cell('import re'); }\n",
       "    "
      ],
      "text/plain": [
       "<IPython.core.display.Javascript object>"
      ]
     },
     "metadata": {},
     "output_type": "display_data"
    },
    {
     "data": {
      "application/javascript": [
       "\n",
       "        if (window._pyforest_update_imports_cell) { window._pyforest_update_imports_cell('import re'); }\n",
       "    "
      ],
      "text/plain": [
       "<IPython.core.display.Javascript object>"
      ]
     },
     "metadata": {},
     "output_type": "display_data"
    },
    {
     "data": {
      "application/javascript": [
       "\n",
       "        if (window._pyforest_update_imports_cell) { window._pyforest_update_imports_cell('import re'); }\n",
       "    "
      ],
      "text/plain": [
       "<IPython.core.display.Javascript object>"
      ]
     },
     "metadata": {},
     "output_type": "display_data"
    },
    {
     "data": {
      "application/javascript": [
       "\n",
       "        if (window._pyforest_update_imports_cell) { window._pyforest_update_imports_cell('import re'); }\n",
       "    "
      ],
      "text/plain": [
       "<IPython.core.display.Javascript object>"
      ]
     },
     "metadata": {},
     "output_type": "display_data"
    },
    {
     "data": {
      "application/javascript": [
       "\n",
       "        if (window._pyforest_update_imports_cell) { window._pyforest_update_imports_cell('import re'); }\n",
       "    "
      ],
      "text/plain": [
       "<IPython.core.display.Javascript object>"
      ]
     },
     "metadata": {},
     "output_type": "display_data"
    },
    {
     "data": {
      "application/javascript": [
       "\n",
       "        if (window._pyforest_update_imports_cell) { window._pyforest_update_imports_cell('import re'); }\n",
       "    "
      ],
      "text/plain": [
       "<IPython.core.display.Javascript object>"
      ]
     },
     "metadata": {},
     "output_type": "display_data"
    },
    {
     "data": {
      "application/javascript": [
       "\n",
       "        if (window._pyforest_update_imports_cell) { window._pyforest_update_imports_cell('import re'); }\n",
       "    "
      ],
      "text/plain": [
       "<IPython.core.display.Javascript object>"
      ]
     },
     "metadata": {},
     "output_type": "display_data"
    },
    {
     "data": {
      "application/javascript": [
       "\n",
       "        if (window._pyforest_update_imports_cell) { window._pyforest_update_imports_cell('import re'); }\n",
       "    "
      ],
      "text/plain": [
       "<IPython.core.display.Javascript object>"
      ]
     },
     "metadata": {},
     "output_type": "display_data"
    },
    {
     "data": {
      "application/javascript": [
       "\n",
       "        if (window._pyforest_update_imports_cell) { window._pyforest_update_imports_cell('import re'); }\n",
       "    "
      ],
      "text/plain": [
       "<IPython.core.display.Javascript object>"
      ]
     },
     "metadata": {},
     "output_type": "display_data"
    },
    {
     "data": {
      "application/javascript": [
       "\n",
       "        if (window._pyforest_update_imports_cell) { window._pyforest_update_imports_cell('import re'); }\n",
       "    "
      ],
      "text/plain": [
       "<IPython.core.display.Javascript object>"
      ]
     },
     "metadata": {},
     "output_type": "display_data"
    },
    {
     "data": {
      "application/javascript": [
       "\n",
       "        if (window._pyforest_update_imports_cell) { window._pyforest_update_imports_cell('import re'); }\n",
       "    "
      ],
      "text/plain": [
       "<IPython.core.display.Javascript object>"
      ]
     },
     "metadata": {},
     "output_type": "display_data"
    },
    {
     "data": {
      "application/javascript": [
       "\n",
       "        if (window._pyforest_update_imports_cell) { window._pyforest_update_imports_cell('import re'); }\n",
       "    "
      ],
      "text/plain": [
       "<IPython.core.display.Javascript object>"
      ]
     },
     "metadata": {},
     "output_type": "display_data"
    },
    {
     "data": {
      "application/javascript": [
       "\n",
       "        if (window._pyforest_update_imports_cell) { window._pyforest_update_imports_cell('import re'); }\n",
       "    "
      ],
      "text/plain": [
       "<IPython.core.display.Javascript object>"
      ]
     },
     "metadata": {},
     "output_type": "display_data"
    },
    {
     "data": {
      "application/javascript": [
       "\n",
       "        if (window._pyforest_update_imports_cell) { window._pyforest_update_imports_cell('import re'); }\n",
       "    "
      ],
      "text/plain": [
       "<IPython.core.display.Javascript object>"
      ]
     },
     "metadata": {},
     "output_type": "display_data"
    },
    {
     "data": {
      "application/javascript": [
       "\n",
       "        if (window._pyforest_update_imports_cell) { window._pyforest_update_imports_cell('import re'); }\n",
       "    "
      ],
      "text/plain": [
       "<IPython.core.display.Javascript object>"
      ]
     },
     "metadata": {},
     "output_type": "display_data"
    },
    {
     "data": {
      "application/javascript": [
       "\n",
       "        if (window._pyforest_update_imports_cell) { window._pyforest_update_imports_cell('import re'); }\n",
       "    "
      ],
      "text/plain": [
       "<IPython.core.display.Javascript object>"
      ]
     },
     "metadata": {},
     "output_type": "display_data"
    },
    {
     "data": {
      "application/javascript": [
       "\n",
       "        if (window._pyforest_update_imports_cell) { window._pyforest_update_imports_cell('import re'); }\n",
       "    "
      ],
      "text/plain": [
       "<IPython.core.display.Javascript object>"
      ]
     },
     "metadata": {},
     "output_type": "display_data"
    },
    {
     "data": {
      "application/javascript": [
       "\n",
       "        if (window._pyforest_update_imports_cell) { window._pyforest_update_imports_cell('import re'); }\n",
       "    "
      ],
      "text/plain": [
       "<IPython.core.display.Javascript object>"
      ]
     },
     "metadata": {},
     "output_type": "display_data"
    },
    {
     "data": {
      "application/javascript": [
       "\n",
       "        if (window._pyforest_update_imports_cell) { window._pyforest_update_imports_cell('import re'); }\n",
       "    "
      ],
      "text/plain": [
       "<IPython.core.display.Javascript object>"
      ]
     },
     "metadata": {},
     "output_type": "display_data"
    },
    {
     "data": {
      "application/javascript": [
       "\n",
       "        if (window._pyforest_update_imports_cell) { window._pyforest_update_imports_cell('import re'); }\n",
       "    "
      ],
      "text/plain": [
       "<IPython.core.display.Javascript object>"
      ]
     },
     "metadata": {},
     "output_type": "display_data"
    },
    {
     "data": {
      "application/javascript": [
       "\n",
       "        if (window._pyforest_update_imports_cell) { window._pyforest_update_imports_cell('import re'); }\n",
       "    "
      ],
      "text/plain": [
       "<IPython.core.display.Javascript object>"
      ]
     },
     "metadata": {},
     "output_type": "display_data"
    },
    {
     "data": {
      "application/javascript": [
       "\n",
       "        if (window._pyforest_update_imports_cell) { window._pyforest_update_imports_cell('import re'); }\n",
       "    "
      ],
      "text/plain": [
       "<IPython.core.display.Javascript object>"
      ]
     },
     "metadata": {},
     "output_type": "display_data"
    }
   ],
   "source": [
    "#construct full names for delegate files\n",
    "delegates['last 2'] = [np.nan if \"(\" not in x else  x[x.find(\"(\")+1:].replace(\")\",\"\")  for x in delegates['last']]\n",
    "delegates['last'] = delegates['last'].apply(lambda x: re.sub(r'\\([^)]*\\)', '', x).strip())\n",
    "delegates['full name 1'] = delegates['first'] + \" \" + delegates['last']\n",
    "delegates['full name 2'] = delegates['first'] + \" \" + delegates['last 2']"
   ]
  },
  {
   "cell_type": "code",
   "execution_count": 122,
   "metadata": {},
   "outputs": [],
   "source": [
    "def fuzzy_merge(lst1, lst2, threshold=80, limit = 100):\n",
    "    \"\"\"\n",
    "    :param df_1: the left list to join\n",
    "    :param df_2: the right list to join\n",
    "    :param threshold: how close the matches should be to return a match, based on Levenshtein distance\n",
    "    :param limit: the amount of matches that will get returned, these are sorted high to low\n",
    "    :return: dataframe with boths keys and matches\n",
    "    \"\"\"\n",
    "    \n",
    "    delegates = pd.Series([x for x in lst1.unique() if not pd.isnull(x)])\n",
    "    possible =  lst2.unique().tolist()\n",
    "    \n",
    "    #get matches\n",
    "    #process.extract uses a combination of all four fuzzywuzzy scores\n",
    "    matches = delegates.apply(lambda x: process.extract(x, possible, limit=limit))\n",
    "    \n",
    "    match_df = pd.DataFrame(columns = ['Delegates', 'Loan Matches'])\n",
    "    \n",
    "    for delegate, matchset in zip(delegates, matches):\n",
    "        matchset_thres = [name for name in matchset if name[1] >= threshold]\n",
    "        if len(matchset_thres) == 0:\n",
    "            add_df = pd.DataFrame(data = {'Delegates': [delegate], 'Loan Matches': [\"\"], 'Scores': [0]})\n",
    "            match_df = pd.concat([match_df, add_df])\n",
    "        else:\n",
    "            delegate_lst = [delegate] * len(matchset_thres)\n",
    "            add_df = pd.DataFrame(data = {'Delegates': delegate_lst, \n",
    "                                          'Loan Matches': [x[0] for x in matchset_thres],\n",
    "                                          'Scores': [x[1] for x in matchset_thres]})\n",
    "            match_df = pd.concat([match_df, add_df])\n",
    "\n",
    "    return match_df"
   ]
  },
  {
   "cell_type": "markdown",
   "metadata": {},
   "source": [
    "## Algorithm for Name Matching"
   ]
  },
  {
   "cell_type": "code",
   "execution_count": 123,
   "metadata": {},
   "outputs": [],
   "source": [
    "# Demonstration on Loan Certificates Dataset"
   ]
  },
  {
   "cell_type": "markdown",
   "metadata": {},
   "source": [
    "## Step 1: Run fuzzy match with score threshold of 80\n",
    "## Step 2: Get unique set of names for each pair, get rid of ???\n",
    "### If one word for either, remove match\n",
    "### else run word comparison - if there are min(n, m) matches (above 90) then keep match else discard\n",
    "## Step 3: Go through manually"
   ]
  },
  {
   "cell_type": "code",
   "execution_count": 124,
   "metadata": {},
   "outputs": [
    {
     "name": "stderr",
     "output_type": "stream",
     "text": [
      "/opt/anaconda3/lib/python3.7/site-packages/ipykernel_launcher.py:29: FutureWarning: Sorting because non-concatenation axis is not aligned. A future version\n",
      "of pandas will change to not sort by default.\n",
      "\n",
      "To accept the future behavior, pass 'sort=False'.\n",
      "\n",
      "To retain the current behavior and silence the warning, pass 'sort=True'.\n",
      "\n",
      "/opt/anaconda3/lib/python3.7/site-packages/ipykernel_launcher.py:23: FutureWarning: Sorting because non-concatenation axis is not aligned. A future version\n",
      "of pandas will change to not sort by default.\n",
      "\n",
      "To accept the future behavior, pass 'sort=False'.\n",
      "\n",
      "To retain the current behavior and silence the warning, pass 'sort=True'.\n",
      "\n"
     ]
    }
   ],
   "source": [
    "#run matching on all combinations of full name columns from loan and delegate datasets\n",
    "#might want to consider lowering the threshold and then running further tests among the matched data\n",
    "fuzzy_name_results_11 = fuzzy_merge(delegates['full name 1'], loans['full name 1'])\n",
    "fuzzy_name_results_21 = fuzzy_merge(delegates['full name 2'], loans['full name 1'])\n",
    "fuzzy_name_results_12 = fuzzy_merge(delegates['full name 1'], loans['full name 2'])\n",
    "fuzzy_name_results_22 = fuzzy_merge(delegates['full name 2'], loans['full name 2'])\n",
    "fuzzy_name_results_13 = fuzzy_merge(delegates['full name 1'], loans['full name 3'])\n",
    "fuzzy_name_results_23 = fuzzy_merge(delegates['full name 2'], loans['full name 3'])"
   ]
  },
  {
   "cell_type": "code",
   "execution_count": 125,
   "metadata": {},
   "outputs": [],
   "source": [
    "#combine two lists\n",
    "fuzzy_name_results_1 = pd.concat([fuzzy_name_results_11, fuzzy_name_results_12, fuzzy_name_results_13]).drop_duplicates().reset_index(drop = True)\n",
    "fuzzy_name_results_2 = pd.concat([fuzzy_name_results_21, fuzzy_name_results_22, fuzzy_name_results_23]).drop_duplicates().reset_index(drop = True)"
   ]
  },
  {
   "cell_type": "code",
   "execution_count": 126,
   "metadata": {},
   "outputs": [],
   "source": [
    "#drop results where there were no matchings\n",
    "fuzzy_name_results_1 = fuzzy_name_results_1[fuzzy_name_results_1['Scores'].apply(lambda x: x != 0)]\n",
    "fuzzy_name_results_2 = fuzzy_name_results_2[fuzzy_name_results_2['Scores'].apply(lambda x: x != 0)]"
   ]
  },
  {
   "cell_type": "code",
   "execution_count": 127,
   "metadata": {},
   "outputs": [],
   "source": [
    "fuzzy_match_results = pd.concat([fuzzy_name_results_1, fuzzy_name_results_2]).reset_index(drop = True)"
   ]
  },
  {
   "cell_type": "code",
   "execution_count": 128,
   "metadata": {},
   "outputs": [],
   "source": [
    "#with pd.option_context('display.max_rows', None, 'display.max_columns', None):  # more options can be specified also\n",
    "    #display(fuzzy_match_results)"
   ]
  },
  {
   "cell_type": "code",
   "execution_count": 129,
   "metadata": {},
   "outputs": [],
   "source": [
    "score_lst = []"
   ]
  },
  {
   "cell_type": "code",
   "execution_count": 256,
   "metadata": {},
   "outputs": [],
   "source": [
    "def matchFunction(lst1, lst2, score = 90):\n",
    "    lst1 = list(set(lst1))\n",
    "    lst2 = list(set(lst2))\n",
    "    threshold = min(len(lst1), len(lst2))\n",
    "    scores = []\n",
    "    matches = 0\n",
    "    for wd1 in lst1:\n",
    "        for wd2 in lst2:\n",
    "            if process.extract(wd1, [wd2])[0][1] > score:\n",
    "                matches+=1\n",
    "                scores.append(fuzz.partial_ratio(wd1, wd2))\n",
    "    score_lst.append(scores)\n",
    "    return matches >= threshold"
   ]
  },
  {
   "cell_type": "code",
   "execution_count": 164,
   "metadata": {},
   "outputs": [],
   "source": [
    "fuzzy_step2_1 = fuzzy_match_results[fuzzy_match_results['Loan Matches'].apply(lambda x: len(list(set(x.replace(\"??\", \"\").strip().split(\" \"))))>=2)]"
   ]
  },
  {
   "cell_type": "code",
   "execution_count": 165,
   "metadata": {},
   "outputs": [],
   "source": [
    "fuzzy_step2_1_update = fuzzy_step2_1[[matchFunction(x.split(\" \"), y.split(\" \")) for x, y in zip(fuzzy_step2_1['Delegates'], fuzzy_step2_1['Loan Matches'])]]"
   ]
  },
  {
   "cell_type": "code",
   "execution_count": 166,
   "metadata": {
    "collapsed": true,
    "jupyter": {
     "outputs_hidden": true
    }
   },
   "outputs": [
    {
     "data": {
      "text/html": [
       "<div>\n",
       "<style scoped>\n",
       "    .dataframe tbody tr th:only-of-type {\n",
       "        vertical-align: middle;\n",
       "    }\n",
       "\n",
       "    .dataframe tbody tr th {\n",
       "        vertical-align: top;\n",
       "    }\n",
       "\n",
       "    .dataframe thead th {\n",
       "        text-align: right;\n",
       "    }\n",
       "</style>\n",
       "<table border=\"1\" class=\"dataframe\">\n",
       "  <thead>\n",
       "    <tr style=\"text-align: right;\">\n",
       "      <th></th>\n",
       "      <th>Delegates</th>\n",
       "      <th>Loan Matches</th>\n",
       "      <th>Scores</th>\n",
       "    </tr>\n",
       "  </thead>\n",
       "  <tbody>\n",
       "    <tr>\n",
       "      <td>0</td>\n",
       "      <td>William Samuel Johnson</td>\n",
       "      <td>William Johnson</td>\n",
       "      <td>95.0</td>\n",
       "    </tr>\n",
       "    <tr>\n",
       "      <td>2</td>\n",
       "      <td>William Samuel Johnson</td>\n",
       "      <td>Samuel Johnson</td>\n",
       "      <td>90.0</td>\n",
       "    </tr>\n",
       "    <tr>\n",
       "      <td>100</td>\n",
       "      <td>Roger Sherman</td>\n",
       "      <td>Roger Sherman</td>\n",
       "      <td>100.0</td>\n",
       "    </tr>\n",
       "    <tr>\n",
       "      <td>101</td>\n",
       "      <td>Oliver Ellsworth</td>\n",
       "      <td>Oliver Ellsworth</td>\n",
       "      <td>100.0</td>\n",
       "    </tr>\n",
       "    <tr>\n",
       "      <td>103</td>\n",
       "      <td>George Read</td>\n",
       "      <td>George Read</td>\n",
       "      <td>100.0</td>\n",
       "    </tr>\n",
       "    <tr>\n",
       "      <td>154</td>\n",
       "      <td>Gunning Bedford Jr.</td>\n",
       "      <td>Gunning Bedford</td>\n",
       "      <td>95.0</td>\n",
       "    </tr>\n",
       "    <tr>\n",
       "      <td>155</td>\n",
       "      <td>John Dickinson</td>\n",
       "      <td>John Dickinson</td>\n",
       "      <td>100.0</td>\n",
       "    </tr>\n",
       "    <tr>\n",
       "      <td>257</td>\n",
       "      <td>Jacob Broom</td>\n",
       "      <td>Jacob Broom</td>\n",
       "      <td>100.0</td>\n",
       "    </tr>\n",
       "    <tr>\n",
       "      <td>414</td>\n",
       "      <td>William L. Pierce</td>\n",
       "      <td>William Pierce</td>\n",
       "      <td>95.0</td>\n",
       "    </tr>\n",
       "    <tr>\n",
       "      <td>556</td>\n",
       "      <td>Luther Martin</td>\n",
       "      <td>Luther Martin</td>\n",
       "      <td>100.0</td>\n",
       "    </tr>\n",
       "    <tr>\n",
       "      <td>561</td>\n",
       "      <td>John F. Mercer</td>\n",
       "      <td>John Mercer</td>\n",
       "      <td>95.0</td>\n",
       "    </tr>\n",
       "    <tr>\n",
       "      <td>676</td>\n",
       "      <td>Elbridge Gerry</td>\n",
       "      <td>Elbridge Gerry</td>\n",
       "      <td>100.0</td>\n",
       "    </tr>\n",
       "    <tr>\n",
       "      <td>677</td>\n",
       "      <td>Caleb Strong</td>\n",
       "      <td>Caleb Strong</td>\n",
       "      <td>100.0</td>\n",
       "    </tr>\n",
       "    <tr>\n",
       "      <td>679</td>\n",
       "      <td>John Langdon</td>\n",
       "      <td>John Langdon</td>\n",
       "      <td>100.0</td>\n",
       "    </tr>\n",
       "    <tr>\n",
       "      <td>776</td>\n",
       "      <td>Nicholas Gilman</td>\n",
       "      <td>Nicholas Gilman</td>\n",
       "      <td>100.0</td>\n",
       "    </tr>\n",
       "    <tr>\n",
       "      <td>777</td>\n",
       "      <td>Nicholas Gilman</td>\n",
       "      <td>Nichols Gilman</td>\n",
       "      <td>97.0</td>\n",
       "    </tr>\n",
       "    <tr>\n",
       "      <td>781</td>\n",
       "      <td>William Livingston</td>\n",
       "      <td>William Livingston</td>\n",
       "      <td>100.0</td>\n",
       "    </tr>\n",
       "    <tr>\n",
       "      <td>881</td>\n",
       "      <td>David Brearly</td>\n",
       "      <td>David Brearley</td>\n",
       "      <td>96.0</td>\n",
       "    </tr>\n",
       "    <tr>\n",
       "      <td>885</td>\n",
       "      <td>William Paterson</td>\n",
       "      <td>William Palterson</td>\n",
       "      <td>97.0</td>\n",
       "    </tr>\n",
       "    <tr>\n",
       "      <td>886</td>\n",
       "      <td>William Paterson</td>\n",
       "      <td>William Patterson</td>\n",
       "      <td>97.0</td>\n",
       "    </tr>\n",
       "    <tr>\n",
       "      <td>953</td>\n",
       "      <td>William C. Houston</td>\n",
       "      <td>William C. Huston</td>\n",
       "      <td>97.0</td>\n",
       "    </tr>\n",
       "    <tr>\n",
       "      <td>1184</td>\n",
       "      <td>William Blount</td>\n",
       "      <td>William Blunt</td>\n",
       "      <td>96.0</td>\n",
       "    </tr>\n",
       "    <tr>\n",
       "      <td>1349</td>\n",
       "      <td>Benjamin Franklin</td>\n",
       "      <td>Benjamin Franklin</td>\n",
       "      <td>100.0</td>\n",
       "    </tr>\n",
       "    <tr>\n",
       "      <td>1354</td>\n",
       "      <td>Thomas Mifflin</td>\n",
       "      <td>Thomas Mifflin</td>\n",
       "      <td>100.0</td>\n",
       "    </tr>\n",
       "    <tr>\n",
       "      <td>1360</td>\n",
       "      <td>Robert Morris</td>\n",
       "      <td>Robert Morris</td>\n",
       "      <td>100.0</td>\n",
       "    </tr>\n",
       "    <tr>\n",
       "      <td>1371</td>\n",
       "      <td>George Clymer</td>\n",
       "      <td>George Clymer</td>\n",
       "      <td>100.0</td>\n",
       "    </tr>\n",
       "    <tr>\n",
       "      <td>1462</td>\n",
       "      <td>James Wilson</td>\n",
       "      <td>James Wilson</td>\n",
       "      <td>100.0</td>\n",
       "    </tr>\n",
       "    <tr>\n",
       "      <td>1463</td>\n",
       "      <td>James Wilson</td>\n",
       "      <td>James Willson</td>\n",
       "      <td>96.0</td>\n",
       "    </tr>\n",
       "    <tr>\n",
       "      <td>1810</td>\n",
       "      <td>George Washington</td>\n",
       "      <td>George Washington</td>\n",
       "      <td>100.0</td>\n",
       "    </tr>\n",
       "    <tr>\n",
       "      <td>1812</td>\n",
       "      <td>George Washington</td>\n",
       "      <td>George Washington Esqr</td>\n",
       "      <td>95.0</td>\n",
       "    </tr>\n",
       "    <tr>\n",
       "      <td>1813</td>\n",
       "      <td>George Washington</td>\n",
       "      <td>George Washington Trustees</td>\n",
       "      <td>90.0</td>\n",
       "    </tr>\n",
       "    <tr>\n",
       "      <td>1900</td>\n",
       "      <td>James McClurg</td>\n",
       "      <td>James McClurg</td>\n",
       "      <td>100.0</td>\n",
       "    </tr>\n",
       "    <tr>\n",
       "      <td>2004</td>\n",
       "      <td>Oliver Elsworth</td>\n",
       "      <td>Oliver Ellsworth</td>\n",
       "      <td>97.0</td>\n",
       "    </tr>\n",
       "    <tr>\n",
       "      <td>2006</td>\n",
       "      <td>David Brearley</td>\n",
       "      <td>David Brearley</td>\n",
       "      <td>100.0</td>\n",
       "    </tr>\n",
       "    <tr>\n",
       "      <td>2016</td>\n",
       "      <td>William Patterson</td>\n",
       "      <td>William Patterson</td>\n",
       "      <td>100.0</td>\n",
       "    </tr>\n",
       "  </tbody>\n",
       "</table>\n",
       "</div>"
      ],
      "text/plain": [
       "                   Delegates                Loan Matches  Scores\n",
       "0     William Samuel Johnson             William Johnson    95.0\n",
       "2     William Samuel Johnson              Samuel Johnson    90.0\n",
       "100            Roger Sherman               Roger Sherman   100.0\n",
       "101         Oliver Ellsworth            Oliver Ellsworth   100.0\n",
       "103              George Read                 George Read   100.0\n",
       "154      Gunning Bedford Jr.             Gunning Bedford    95.0\n",
       "155           John Dickinson              John Dickinson   100.0\n",
       "257              Jacob Broom                 Jacob Broom   100.0\n",
       "414        William L. Pierce              William Pierce    95.0\n",
       "556            Luther Martin               Luther Martin   100.0\n",
       "561           John F. Mercer                 John Mercer    95.0\n",
       "676           Elbridge Gerry              Elbridge Gerry   100.0\n",
       "677             Caleb Strong                Caleb Strong   100.0\n",
       "679             John Langdon                John Langdon   100.0\n",
       "776          Nicholas Gilman             Nicholas Gilman   100.0\n",
       "777          Nicholas Gilman              Nichols Gilman    97.0\n",
       "781       William Livingston          William Livingston   100.0\n",
       "881            David Brearly              David Brearley    96.0\n",
       "885         William Paterson           William Palterson    97.0\n",
       "886         William Paterson           William Patterson    97.0\n",
       "953       William C. Houston           William C. Huston    97.0\n",
       "1184          William Blount               William Blunt    96.0\n",
       "1349       Benjamin Franklin           Benjamin Franklin   100.0\n",
       "1354          Thomas Mifflin              Thomas Mifflin   100.0\n",
       "1360           Robert Morris               Robert Morris   100.0\n",
       "1371           George Clymer               George Clymer   100.0\n",
       "1462            James Wilson                James Wilson   100.0\n",
       "1463            James Wilson               James Willson    96.0\n",
       "1810       George Washington           George Washington   100.0\n",
       "1812       George Washington      George Washington Esqr    95.0\n",
       "1813       George Washington  George Washington Trustees    90.0\n",
       "1900           James McClurg               James McClurg   100.0\n",
       "2004         Oliver Elsworth            Oliver Ellsworth    97.0\n",
       "2006          David Brearley              David Brearley   100.0\n",
       "2016       William Patterson           William Patterson   100.0"
      ]
     },
     "metadata": {},
     "output_type": "display_data"
    }
   ],
   "source": [
    "with pd.option_context('display.max_rows', None, 'display.max_columns', None):  # more options can be specified also\n",
    "    display(fuzzy_step2_1_update)"
   ]
  },
  {
   "cell_type": "markdown",
   "metadata": {},
   "source": [
    "# Pierce Certificates"
   ]
  },
  {
   "cell_type": "code",
   "execution_count": 281,
   "metadata": {},
   "outputs": [
    {
     "name": "stderr",
     "output_type": "stream",
     "text": [
      "/opt/anaconda3/lib/python3.7/site-packages/ipykernel_launcher.py:29: FutureWarning: Sorting because non-concatenation axis is not aligned. A future version\n",
      "of pandas will change to not sort by default.\n",
      "\n",
      "To accept the future behavior, pass 'sort=False'.\n",
      "\n",
      "To retain the current behavior and silence the warning, pass 'sort=True'.\n",
      "\n"
     ]
    },
    {
     "data": {
      "text/html": [
       "<div>\n",
       "<style scoped>\n",
       "    .dataframe tbody tr th:only-of-type {\n",
       "        vertical-align: middle;\n",
       "    }\n",
       "\n",
       "    .dataframe tbody tr th {\n",
       "        vertical-align: top;\n",
       "    }\n",
       "\n",
       "    .dataframe thead th {\n",
       "        text-align: right;\n",
       "    }\n",
       "</style>\n",
       "<table border=\"1\" class=\"dataframe\">\n",
       "  <thead>\n",
       "    <tr style=\"text-align: right;\">\n",
       "      <th></th>\n",
       "      <th>Delegates</th>\n",
       "      <th>Loan Matches</th>\n",
       "      <th>Scores</th>\n",
       "    </tr>\n",
       "  </thead>\n",
       "  <tbody>\n",
       "    <tr>\n",
       "      <td>0</td>\n",
       "      <td>William Samuel Johnson</td>\n",
       "      <td>William Johnson</td>\n",
       "      <td>95.0</td>\n",
       "    </tr>\n",
       "    <tr>\n",
       "      <td>2</td>\n",
       "      <td>William Samuel Johnson</td>\n",
       "      <td>Samuel Johnson</td>\n",
       "      <td>90.0</td>\n",
       "    </tr>\n",
       "    <tr>\n",
       "      <td>103</td>\n",
       "      <td>George Read</td>\n",
       "      <td>George Read</td>\n",
       "      <td>100.0</td>\n",
       "    </tr>\n",
       "    <tr>\n",
       "      <td>272</td>\n",
       "      <td>Richard Bassett</td>\n",
       "      <td>Richard Bassett</td>\n",
       "      <td>100.0</td>\n",
       "    </tr>\n",
       "    <tr>\n",
       "      <td>387</td>\n",
       "      <td>Abraham Baldwin</td>\n",
       "      <td>Abraham Baldwine</td>\n",
       "      <td>97.0</td>\n",
       "    </tr>\n",
       "    <tr>\n",
       "      <td>431</td>\n",
       "      <td>William L. Pierce</td>\n",
       "      <td>William Pierce</td>\n",
       "      <td>95.0</td>\n",
       "    </tr>\n",
       "    <tr>\n",
       "      <td>589</td>\n",
       "      <td>Luther Martin</td>\n",
       "      <td>Martin Luther</td>\n",
       "      <td>95.0</td>\n",
       "    </tr>\n",
       "    <tr>\n",
       "      <td>596</td>\n",
       "      <td>John F. Mercer</td>\n",
       "      <td>John Mercer</td>\n",
       "      <td>95.0</td>\n",
       "    </tr>\n",
       "    <tr>\n",
       "      <td>792</td>\n",
       "      <td>Nicholas Gilman</td>\n",
       "      <td>Nicholas Gilman</td>\n",
       "      <td>100.0</td>\n",
       "    </tr>\n",
       "    <tr>\n",
       "      <td>907</td>\n",
       "      <td>William Paterson</td>\n",
       "      <td>William Paterson</td>\n",
       "      <td>100.0</td>\n",
       "    </tr>\n",
       "    <tr>\n",
       "      <td>908</td>\n",
       "      <td>William Paterson</td>\n",
       "      <td>William Patterson</td>\n",
       "      <td>97.0</td>\n",
       "    </tr>\n",
       "    <tr>\n",
       "      <td>983</td>\n",
       "      <td>Jonathan Dayton</td>\n",
       "      <td>Jonathan Dayton</td>\n",
       "      <td>100.0</td>\n",
       "    </tr>\n",
       "    <tr>\n",
       "      <td>1017</td>\n",
       "      <td>William C. Houston</td>\n",
       "      <td>William Huston</td>\n",
       "      <td>88.0</td>\n",
       "    </tr>\n",
       "    <tr>\n",
       "      <td>1128</td>\n",
       "      <td>John Lansing Jr.</td>\n",
       "      <td>John Lansing</td>\n",
       "      <td>95.0</td>\n",
       "    </tr>\n",
       "    <tr>\n",
       "      <td>1436</td>\n",
       "      <td>William R. Davie</td>\n",
       "      <td>William Davies</td>\n",
       "      <td>87.0</td>\n",
       "    </tr>\n",
       "    <tr>\n",
       "      <td>1450</td>\n",
       "      <td>Alexander Martin</td>\n",
       "      <td>Alexander Martin</td>\n",
       "      <td>100.0</td>\n",
       "    </tr>\n",
       "    <tr>\n",
       "      <td>1480</td>\n",
       "      <td>Robert Morris</td>\n",
       "      <td>Robert Morris</td>\n",
       "      <td>100.0</td>\n",
       "    </tr>\n",
       "    <tr>\n",
       "      <td>1615</td>\n",
       "      <td>James Wilson</td>\n",
       "      <td>James Wilson</td>\n",
       "      <td>100.0</td>\n",
       "    </tr>\n",
       "    <tr>\n",
       "      <td>1616</td>\n",
       "      <td>James Wilson</td>\n",
       "      <td>James Willson</td>\n",
       "      <td>96.0</td>\n",
       "    </tr>\n",
       "    <tr>\n",
       "      <td>1819</td>\n",
       "      <td>Charles Pinckney</td>\n",
       "      <td>Charles C Pinckney</td>\n",
       "      <td>95.0</td>\n",
       "    </tr>\n",
       "    <tr>\n",
       "      <td>1832</td>\n",
       "      <td>John Blair</td>\n",
       "      <td>John Blair</td>\n",
       "      <td>100.0</td>\n",
       "    </tr>\n",
       "    <tr>\n",
       "      <td>1833</td>\n",
       "      <td>John Blair</td>\n",
       "      <td>John Blaire</td>\n",
       "      <td>95.0</td>\n",
       "    </tr>\n",
       "    <tr>\n",
       "      <td>2123</td>\n",
       "      <td>George Mason</td>\n",
       "      <td>George Mason</td>\n",
       "      <td>100.0</td>\n",
       "    </tr>\n",
       "    <tr>\n",
       "      <td>2251</td>\n",
       "      <td>William Patterson</td>\n",
       "      <td>William Patterson</td>\n",
       "      <td>100.0</td>\n",
       "    </tr>\n",
       "    <tr>\n",
       "      <td>2252</td>\n",
       "      <td>William Patterson</td>\n",
       "      <td>William Paterson</td>\n",
       "      <td>97.0</td>\n",
       "    </tr>\n",
       "  </tbody>\n",
       "</table>\n",
       "</div>"
      ],
      "text/plain": [
       "                   Delegates        Loan Matches  Scores\n",
       "0     William Samuel Johnson     William Johnson    95.0\n",
       "2     William Samuel Johnson      Samuel Johnson    90.0\n",
       "103              George Read         George Read   100.0\n",
       "272          Richard Bassett     Richard Bassett   100.0\n",
       "387          Abraham Baldwin    Abraham Baldwine    97.0\n",
       "431        William L. Pierce      William Pierce    95.0\n",
       "589            Luther Martin       Martin Luther    95.0\n",
       "596           John F. Mercer         John Mercer    95.0\n",
       "792          Nicholas Gilman     Nicholas Gilman   100.0\n",
       "907         William Paterson    William Paterson   100.0\n",
       "908         William Paterson   William Patterson    97.0\n",
       "983          Jonathan Dayton     Jonathan Dayton   100.0\n",
       "1017      William C. Houston      William Huston    88.0\n",
       "1128        John Lansing Jr.        John Lansing    95.0\n",
       "1436        William R. Davie      William Davies    87.0\n",
       "1450        Alexander Martin    Alexander Martin   100.0\n",
       "1480           Robert Morris       Robert Morris   100.0\n",
       "1615            James Wilson        James Wilson   100.0\n",
       "1616            James Wilson       James Willson    96.0\n",
       "1819        Charles Pinckney  Charles C Pinckney    95.0\n",
       "1832              John Blair          John Blair   100.0\n",
       "1833              John Blair         John Blaire    95.0\n",
       "2123            George Mason        George Mason   100.0\n",
       "2251       William Patterson   William Patterson   100.0\n",
       "2252       William Patterson    William Paterson    97.0"
      ]
     },
     "metadata": {},
     "output_type": "display_data"
    }
   ],
   "source": [
    "#Read in file\n",
    "pierce = pd.read_excel(\"Data/Pierce_Certs_cleaned_2019.xlsx\")\n",
    "\n",
    "#clean first and last names\n",
    "pierce = pierce[pierce['First'].apply(lambda x: not pd.isnull(x))]\n",
    "pierce_ind = pierce[pierce['Last'].apply(lambda x: type(x) != str)].index\n",
    "#fix issue with types for names\n",
    "pierce.loc[pierce_ind, 'Last'] = ['True'] * len(pierce_ind)\n",
    "#create full name\n",
    "pierce['full name'] = pierce['First'] + \" \" + pierce['Last']\n",
    "\n",
    "#run merghe\n",
    "pierce_name_results_1 = fuzzy_merge(delegates['full name 1'], pierce['full name'])\n",
    "pierce_name_results_2 = fuzzy_merge(delegates['full name 2'], pierce['full name'])\n",
    "\n",
    "#combine two dataframes\n",
    "pierce_name_results = pd.concat([pierce_name_results_1, pierce_name_results_2]).drop_duplicates().reset_index(drop = True)\n",
    "\n",
    "#remove names with only one unique name\n",
    "pierce_name_results_1 = pierce_name_results[pierce_name_results['Loan Matches'].apply(lambda x: len(list(set(x.replace(\"??\", \"\").strip().split(\" \"))))>=2)]\n",
    "#run through step 2 cleaning function\n",
    "pierce_name_results_1_update = pierce_name_results_1[[matchFunction(x.split(\" \"), y.split(\" \"), 90) for x, y in zip(pierce_name_results_1['Delegates'], pierce_name_results_1['Loan Matches'])]]\n",
    "\n",
    "with pd.option_context('display.max_rows', None, 'display.max_columns', None):  # more options can be specified also\n",
    "    display(pierce_name_results_1_update)"
   ]
  },
  {
   "cell_type": "markdown",
   "metadata": {},
   "source": [
    "# Marine Certificates"
   ]
  },
  {
   "cell_type": "code",
   "execution_count": 220,
   "metadata": {
    "collapsed": true,
    "jupyter": {
     "outputs_hidden": true
    }
   },
   "outputs": [
    {
     "name": "stderr",
     "output_type": "stream",
     "text": [
      "/opt/anaconda3/lib/python3.7/site-packages/ipykernel_launcher.py:29: FutureWarning: Sorting because non-concatenation axis is not aligned. A future version\n",
      "of pandas will change to not sort by default.\n",
      "\n",
      "To accept the future behavior, pass 'sort=False'.\n",
      "\n",
      "To retain the current behavior and silence the warning, pass 'sort=True'.\n",
      "\n",
      "/opt/anaconda3/lib/python3.7/site-packages/ipykernel_launcher.py:23: FutureWarning: Sorting because non-concatenation axis is not aligned. A future version\n",
      "of pandas will change to not sort by default.\n",
      "\n",
      "To accept the future behavior, pass 'sort=False'.\n",
      "\n",
      "To retain the current behavior and silence the warning, pass 'sort=True'.\n",
      "\n"
     ]
    },
    {
     "data": {
      "text/html": [
       "<div>\n",
       "<style scoped>\n",
       "    .dataframe tbody tr th:only-of-type {\n",
       "        vertical-align: middle;\n",
       "    }\n",
       "\n",
       "    .dataframe tbody tr th {\n",
       "        vertical-align: top;\n",
       "    }\n",
       "\n",
       "    .dataframe thead th {\n",
       "        text-align: right;\n",
       "    }\n",
       "</style>\n",
       "<table border=\"1\" class=\"dataframe\">\n",
       "  <thead>\n",
       "    <tr style=\"text-align: right;\">\n",
       "      <th></th>\n",
       "      <th>Delegates</th>\n",
       "      <th>Loan Matches</th>\n",
       "      <th>Scores</th>\n",
       "    </tr>\n",
       "  </thead>\n",
       "  <tbody>\n",
       "    <tr>\n",
       "      <td>0</td>\n",
       "      <td>William Samuel Johnson</td>\n",
       "      <td>Samuel Johnson</td>\n",
       "      <td>90.0</td>\n",
       "    </tr>\n",
       "  </tbody>\n",
       "</table>\n",
       "</div>"
      ],
      "text/plain": [
       "                Delegates    Loan Matches  Scores\n",
       "0  William Samuel Johnson  Samuel Johnson    90.0"
      ]
     },
     "metadata": {},
     "output_type": "display_data"
    }
   ],
   "source": [
    "#Read in file\n",
    "marine = pd.read_excel(\"Data/Marine_Liquidated_Debt_Certificates.xlsx\", header = 11)\n",
    "cols = marine.columns = [\"Page\",\"JPEG number\",\"Number\",\"Letter\",\"Date of the Certificate: Month\",\n",
    "                         \"Date of the Certificate: Day\",\"Date of the Certificate: Year\",\"First name\",\"Last name\",\n",
    "                         \"Title\",\"Time when the debt became due: Month\",\"Time when the debt became due: Day\",\n",
    "                         \"Time when the debt became due: Year\",\"Dollars\",\"90th\",\"Total Dollars_1\",\"Total Dollars_2\",\n",
    "                         \"Line Strike Thorugh: Yes?\",\"Line Strike Thorugh: Note\",\"Notes\"]\n",
    "marine.columns = cols\n",
    "\n",
    "marine = marine[marine['First name'].apply(lambda x: not pd.isnull(x))]\n",
    "\n",
    "#create full name\n",
    "marine['full name'] = marine['First name'] + \" \" + marine['Last name']\n",
    "\n",
    "#run merge\n",
    "marine_name_results_1 = fuzzy_merge(delegates['full name 1'], marine['full name'])\n",
    "marine_name_results_2 = fuzzy_merge(delegates['full name 2'], marine['full name'])\n",
    "\n",
    "#combine two dataframes\n",
    "marine_name_results = pd.concat([marine_name_results_1, marine_name_results_2]).drop_duplicates().reset_index(drop = True)\n",
    "\n",
    "#remove names with only one unique name\n",
    "marine_name_results_1 = marine_name_results[marine_name_results['Loan Matches'].apply(lambda x: len(list(set(x.replace(\"??\", \"\").strip().split(\" \"))))>=2)]\n",
    "#run through step 2 cleaning function\n",
    "marine_name_results_1_update = marine_name_results_1[[matchFunction(x.split(\" \"), y.split(\" \")) for x, y in zip(marine_name_results_1['Delegates'], marine_name_results_1['Loan Matches'])]]\n",
    "\n",
    "with pd.option_context('display.max_rows', None, 'display.max_columns', None):  # more options can be specified also\n",
    "    display(marine_name_results_1_update)"
   ]
  },
  {
   "cell_type": "markdown",
   "metadata": {},
   "source": [
    "# Connecticut"
   ]
  },
  {
   "cell_type": "code",
   "execution_count": 259,
   "metadata": {
    "collapsed": true,
    "jupyter": {
     "outputs_hidden": true
    }
   },
   "outputs": [
    {
     "name": "stderr",
     "output_type": "stream",
     "text": [
      "/opt/anaconda3/lib/python3.7/site-packages/ipykernel_launcher.py:29: FutureWarning: Sorting because non-concatenation axis is not aligned. A future version\n",
      "of pandas will change to not sort by default.\n",
      "\n",
      "To accept the future behavior, pass 'sort=False'.\n",
      "\n",
      "To retain the current behavior and silence the warning, pass 'sort=True'.\n",
      "\n",
      "/opt/anaconda3/lib/python3.7/site-packages/ipykernel_launcher.py:23: FutureWarning: Sorting because non-concatenation axis is not aligned. A future version\n",
      "of pandas will change to not sort by default.\n",
      "\n",
      "To accept the future behavior, pass 'sort=False'.\n",
      "\n",
      "To retain the current behavior and silence the warning, pass 'sort=True'.\n",
      "\n"
     ]
    },
    {
     "data": {
      "text/html": [
       "<div>\n",
       "<style scoped>\n",
       "    .dataframe tbody tr th:only-of-type {\n",
       "        vertical-align: middle;\n",
       "    }\n",
       "\n",
       "    .dataframe tbody tr th {\n",
       "        vertical-align: top;\n",
       "    }\n",
       "\n",
       "    .dataframe thead th {\n",
       "        text-align: right;\n",
       "    }\n",
       "</style>\n",
       "<table border=\"1\" class=\"dataframe\">\n",
       "  <thead>\n",
       "    <tr style=\"text-align: right;\">\n",
       "      <th></th>\n",
       "      <th>Delegates</th>\n",
       "      <th>Loan Matches</th>\n",
       "      <th>Scores</th>\n",
       "    </tr>\n",
       "  </thead>\n",
       "  <tbody>\n",
       "  </tbody>\n",
       "</table>\n",
       "</div>"
      ],
      "text/plain": [
       "Empty DataFrame\n",
       "Columns: [Delegates, Loan Matches, Scores]\n",
       "Index: []"
      ]
     },
     "metadata": {},
     "output_type": "display_data"
    }
   ],
   "source": [
    "#Read in file\n",
    "CT = pd.read_excel(\"Data/liquidated_debt_certificates_CT.xlsx\", header = 11)\n",
    "cols = CT.columns = [\"Register Page\",\"JPEG number\",\"Number\",\"Letter\",\"Date of the Certificate: Month\",\n",
    "                     \"Date of the Certificate: Day\",\"Date of the Certificate: Year\",\"First name\",\"Last name\",\n",
    "                     \"Title\",\"First name 2\",\"Last name 2\",\"Title 2\",\"Time when the debt became due: Month\",\n",
    "                     \"Time when the debt became due: Day\", \"Time when the debt became due: Year\",\"Dollars\",\"90th\",\n",
    "                     \"Line Strike Thorugh: Yes?\",\"Line Strike Thorugh: Note\",\"Notes\"]\n",
    "CT.columns = cols\n",
    "\n",
    "CT = CT[CT['First name'].apply(lambda x: not pd.isnull(x))]\n",
    "\n",
    "#create full name\n",
    "CT['full name 1'] = CT['First name'] + \" \" + CT['Last name']\n",
    "CT['full name 2'] = CT['First name 2'] + \" \" + CT['Last name 2']\n",
    "\n",
    "\n",
    "#run merge\n",
    "CT_name_results_1 = fuzzy_merge(delegates['full name 1'], CT['full name 1'])\n",
    "CT_name_results_2 = fuzzy_merge(delegates['full name 2'], CT['full name 1'])\n",
    "CT_name_results_3 = fuzzy_merge(delegates['full name 1'], CT['full name 2'])\n",
    "CT_name_results_4 = fuzzy_merge(delegates['full name 2'], CT['full name 2'])\n",
    "\n",
    "#combine two dataframes\n",
    "CT_name_results = pd.concat([CT_name_results_1, CT_name_results_2, CT_name_results_3, CT_name_results_4]).drop_duplicates().reset_index(drop = True)\n",
    "\n",
    "#remove names with only one unique name\n",
    "CT_name_results = CT_name_results[CT_name_results['Loan Matches'].apply(lambda x: len(list(set(x.replace(\"??\", \"\").strip().split(\" \"))))>=2)]\n",
    "#run through step 2 cleaning function\n",
    "CT_name_results_update = CT_name_results[[matchFunction(x.split(\" \"), y.split(\" \"), 90) for x, y in zip(CT_name_results['Delegates'], CT_name_results['Loan Matches'])]]\n",
    "\n",
    "with pd.option_context('display.max_rows', None, 'display.max_columns', None):  # more options can be specified also\n",
    "    display(CT_name_results_update)"
   ]
  },
  {
   "cell_type": "markdown",
   "metadata": {},
   "source": [
    "# Delaware"
   ]
  },
  {
   "cell_type": "code",
   "execution_count": 263,
   "metadata": {
    "collapsed": true,
    "jupyter": {
     "outputs_hidden": true
    }
   },
   "outputs": [
    {
     "name": "stderr",
     "output_type": "stream",
     "text": [
      "/opt/anaconda3/lib/python3.7/site-packages/ipykernel_launcher.py:29: FutureWarning: Sorting because non-concatenation axis is not aligned. A future version\n",
      "of pandas will change to not sort by default.\n",
      "\n",
      "To accept the future behavior, pass 'sort=False'.\n",
      "\n",
      "To retain the current behavior and silence the warning, pass 'sort=True'.\n",
      "\n",
      "/opt/anaconda3/lib/python3.7/site-packages/ipykernel_launcher.py:23: FutureWarning: Sorting because non-concatenation axis is not aligned. A future version\n",
      "of pandas will change to not sort by default.\n",
      "\n",
      "To accept the future behavior, pass 'sort=False'.\n",
      "\n",
      "To retain the current behavior and silence the warning, pass 'sort=True'.\n",
      "\n"
     ]
    },
    {
     "data": {
      "text/html": [
       "<div>\n",
       "<style scoped>\n",
       "    .dataframe tbody tr th:only-of-type {\n",
       "        vertical-align: middle;\n",
       "    }\n",
       "\n",
       "    .dataframe tbody tr th {\n",
       "        vertical-align: top;\n",
       "    }\n",
       "\n",
       "    .dataframe thead th {\n",
       "        text-align: right;\n",
       "    }\n",
       "</style>\n",
       "<table border=\"1\" class=\"dataframe\">\n",
       "  <thead>\n",
       "    <tr style=\"text-align: right;\">\n",
       "      <th></th>\n",
       "      <th>Delegates</th>\n",
       "      <th>Loan Matches</th>\n",
       "      <th>Scores</th>\n",
       "    </tr>\n",
       "  </thead>\n",
       "  <tbody>\n",
       "    <tr>\n",
       "      <td>35</td>\n",
       "      <td>George Read</td>\n",
       "      <td>George Read</td>\n",
       "      <td>100.0</td>\n",
       "    </tr>\n",
       "    <tr>\n",
       "      <td>53</td>\n",
       "      <td>Jacob Broom</td>\n",
       "      <td>Jacob Broom</td>\n",
       "      <td>100.0</td>\n",
       "    </tr>\n",
       "    <tr>\n",
       "      <td>123</td>\n",
       "      <td>William Paterson</td>\n",
       "      <td>William Paterson</td>\n",
       "      <td>100.0</td>\n",
       "    </tr>\n",
       "    <tr>\n",
       "      <td>124</td>\n",
       "      <td>William Paterson</td>\n",
       "      <td>William Patterson</td>\n",
       "      <td>97.0</td>\n",
       "    </tr>\n",
       "    <tr>\n",
       "      <td>206</td>\n",
       "      <td>William Patterson</td>\n",
       "      <td>William Patterson</td>\n",
       "      <td>100.0</td>\n",
       "    </tr>\n",
       "    <tr>\n",
       "      <td>207</td>\n",
       "      <td>William Patterson</td>\n",
       "      <td>William Paterson</td>\n",
       "      <td>97.0</td>\n",
       "    </tr>\n",
       "  </tbody>\n",
       "</table>\n",
       "</div>"
      ],
      "text/plain": [
       "             Delegates       Loan Matches  Scores\n",
       "35         George Read        George Read   100.0\n",
       "53         Jacob Broom        Jacob Broom   100.0\n",
       "123   William Paterson   William Paterson   100.0\n",
       "124   William Paterson  William Patterson    97.0\n",
       "206  William Patterson  William Patterson   100.0\n",
       "207  William Patterson   William Paterson    97.0"
      ]
     },
     "metadata": {},
     "output_type": "display_data"
    }
   ],
   "source": [
    "#Read in file\n",
    "DE = pd.read_excel(\"Data/liquidated_debt_certificates_DE.xlsx\", header = 11)\n",
    "cols = DE.columns = [\"JPEG number\",\"Number\",\"Letter\",\"Date of the Certificate: Month\",\n",
    "                     \"Date of the Certificate: Day\",\"Date of the Certificate: Year\",\"Title\",\"First name\",\"Last name\",\n",
    "                     \"Time when the debt became due: Month\",\n",
    "                     \"Time when the debt became due: Day\", \"Time when the debt became due: Year\",\"Dollars\",\"90th\",\n",
    "                     \"Line Strike Through\",\"Note\"]\n",
    "DE.columns = cols\n",
    "\n",
    "DE = DE[DE['First name'].apply(lambda x: not pd.isnull(x))]\n",
    "\n",
    "#create full name\n",
    "DE['full name 1'] = DE['First name'] + \" \" + DE['Last name']\n",
    "\n",
    "\n",
    "#run merge\n",
    "DE_name_results_1 = fuzzy_merge(delegates['full name 1'], DE['full name 1'])\n",
    "DE_name_results_2 = fuzzy_merge(delegates['full name 2'], DE['full name 1'])\n",
    "\n",
    "#combine two dataframes\n",
    "DE_name_results = pd.concat([DE_name_results_1, DE_name_results_2]).drop_duplicates().reset_index(drop = True)\n",
    "\n",
    "#remove names with only one unique name\n",
    "DE_name_results = DE_name_results[DE_name_results['Loan Matches'].apply(lambda x: len(list(set(x.replace(\"??\", \"\").strip().split(\" \"))))>=2)]\n",
    "#run through step 2 cleaning function\n",
    "DE_name_results_update = DE_name_results[[matchFunction(x.split(\" \"), y.split(\" \"), 90) for x, y in zip(DE_name_results['Delegates'], DE_name_results['Loan Matches'])]]\n",
    "\n",
    "with pd.option_context('display.max_rows', None, 'display.max_columns', None):  # more options can be specified also\n",
    "    display(DE_name_results_update)"
   ]
  },
  {
   "cell_type": "markdown",
   "metadata": {},
   "source": [
    "# Massachusetts"
   ]
  },
  {
   "cell_type": "code",
   "execution_count": 265,
   "metadata": {
    "collapsed": true,
    "jupyter": {
     "outputs_hidden": true
    }
   },
   "outputs": [
    {
     "name": "stderr",
     "output_type": "stream",
     "text": [
      "/opt/anaconda3/lib/python3.7/site-packages/ipykernel_launcher.py:29: FutureWarning: Sorting because non-concatenation axis is not aligned. A future version\n",
      "of pandas will change to not sort by default.\n",
      "\n",
      "To accept the future behavior, pass 'sort=False'.\n",
      "\n",
      "To retain the current behavior and silence the warning, pass 'sort=True'.\n",
      "\n",
      "/opt/anaconda3/lib/python3.7/site-packages/ipykernel_launcher.py:23: FutureWarning: Sorting because non-concatenation axis is not aligned. A future version\n",
      "of pandas will change to not sort by default.\n",
      "\n",
      "To accept the future behavior, pass 'sort=False'.\n",
      "\n",
      "To retain the current behavior and silence the warning, pass 'sort=True'.\n",
      "\n"
     ]
    },
    {
     "data": {
      "text/html": [
       "<div>\n",
       "<style scoped>\n",
       "    .dataframe tbody tr th:only-of-type {\n",
       "        vertical-align: middle;\n",
       "    }\n",
       "\n",
       "    .dataframe tbody tr th {\n",
       "        vertical-align: top;\n",
       "    }\n",
       "\n",
       "    .dataframe thead th {\n",
       "        text-align: right;\n",
       "    }\n",
       "</style>\n",
       "<table border=\"1\" class=\"dataframe\">\n",
       "  <thead>\n",
       "    <tr style=\"text-align: right;\">\n",
       "      <th></th>\n",
       "      <th>Delegates</th>\n",
       "      <th>Loan Matches</th>\n",
       "      <th>Scores</th>\n",
       "    </tr>\n",
       "  </thead>\n",
       "  <tbody>\n",
       "    <tr>\n",
       "      <td>296</td>\n",
       "      <td>Elbridge Gerry</td>\n",
       "      <td>Eldbridge Gerry</td>\n",
       "      <td>97.0</td>\n",
       "    </tr>\n",
       "    <tr>\n",
       "      <td>299</td>\n",
       "      <td>John Langdon</td>\n",
       "      <td>John Langdon</td>\n",
       "      <td>100.0</td>\n",
       "    </tr>\n",
       "  </tbody>\n",
       "</table>\n",
       "</div>"
      ],
      "text/plain": [
       "          Delegates     Loan Matches  Scores\n",
       "296  Elbridge Gerry  Eldbridge Gerry    97.0\n",
       "299    John Langdon     John Langdon   100.0"
      ]
     },
     "metadata": {},
     "output_type": "display_data"
    }
   ],
   "source": [
    "#Read in file\n",
    "MA = pd.read_excel(\"Data/liquidated_debt_certificates_MA.xlsx\", header = 11)\n",
    "cols = [\"JPEG number\",\"Page\", \"Number\",\"Letter\",\"Date of the Certificate: Month\",\n",
    "                     \"Date of the Certificate: Day\",\"Date of the Certificate: Year\",\"First name\",\"Last name\",\"Title\",\n",
    "                     \"First name 2\",\"Last name 2\", \"Title 2\",\"Time when the debt became due: Month\",\n",
    "                     \"Time when the debt became due: Day\", \"Time when the debt became due: Year\",\"Dollars\",\"90th\",\n",
    "                     \"Line Strike Through\",\"Note\"]\n",
    "MA = MA[MA.columns[0:20]]\n",
    "MA.columns = cols\n",
    "\n",
    "MA = MA[MA['First name'].apply(lambda x: not pd.isnull(x))]\n",
    "\n",
    "#create full name\n",
    "MA['full name 1'] = MA['First name'] + \" \" + MA['Last name']\n",
    "MA['full name 2'] = MA['First name 2'] + \" \" + MA['Last name 2']\n",
    "\n",
    "\n",
    "#run merge\n",
    "MA_name_results_1 = fuzzy_merge(delegates['full name 1'], MA['full name 1'])\n",
    "MA_name_results_2 = fuzzy_merge(delegates['full name 2'], MA['full name 1'])\n",
    "MA_name_results_3 = fuzzy_merge(delegates['full name 1'], MA['full name 2'])\n",
    "MA_name_results_4 = fuzzy_merge(delegates['full name 2'], MA['full name 2'])\n",
    "\n",
    "#combine two dataframes\n",
    "MA_name_results = pd.concat([MA_name_results_1, MA_name_results_2, MA_name_results_3, MA_name_results_4]).drop_duplicates().reset_index(drop = True)\n",
    "\n",
    "#remove names with only one unique name\n",
    "MA_name_results = MA_name_results[MA_name_results['Loan Matches'].apply(lambda x: len(list(set(x.replace(\"??\", \"\").strip().split(\" \"))))>=2)]\n",
    "#run through step 2 cleaning function\n",
    "MA_name_results_update = MA_name_results[[matchFunction(x.split(\" \"), y.split(\" \"), 90) for x, y in zip(MA_name_results['Delegates'], MA_name_results['Loan Matches'])]]\n",
    "\n",
    "with pd.option_context('display.max_rows', None, 'display.max_columns', None):  # more options can be specified also\n",
    "    display(MA_name_results_update)"
   ]
  },
  {
   "cell_type": "markdown",
   "metadata": {},
   "source": [
    "# New Hampshire"
   ]
  },
  {
   "cell_type": "code",
   "execution_count": 267,
   "metadata": {
    "collapsed": true,
    "jupyter": {
     "outputs_hidden": true
    }
   },
   "outputs": [
    {
     "name": "stderr",
     "output_type": "stream",
     "text": [
      "/opt/anaconda3/lib/python3.7/site-packages/ipykernel_launcher.py:29: FutureWarning: Sorting because non-concatenation axis is not aligned. A future version\n",
      "of pandas will change to not sort by default.\n",
      "\n",
      "To accept the future behavior, pass 'sort=False'.\n",
      "\n",
      "To retain the current behavior and silence the warning, pass 'sort=True'.\n",
      "\n",
      "/opt/anaconda3/lib/python3.7/site-packages/ipykernel_launcher.py:23: FutureWarning: Sorting because non-concatenation axis is not aligned. A future version\n",
      "of pandas will change to not sort by default.\n",
      "\n",
      "To accept the future behavior, pass 'sort=False'.\n",
      "\n",
      "To retain the current behavior and silence the warning, pass 'sort=True'.\n",
      "\n"
     ]
    },
    {
     "data": {
      "text/html": [
       "<div>\n",
       "<style scoped>\n",
       "    .dataframe tbody tr th:only-of-type {\n",
       "        vertical-align: middle;\n",
       "    }\n",
       "\n",
       "    .dataframe tbody tr th {\n",
       "        vertical-align: top;\n",
       "    }\n",
       "\n",
       "    .dataframe thead th {\n",
       "        text-align: right;\n",
       "    }\n",
       "</style>\n",
       "<table border=\"1\" class=\"dataframe\">\n",
       "  <thead>\n",
       "    <tr style=\"text-align: right;\">\n",
       "      <th></th>\n",
       "      <th>Delegates</th>\n",
       "      <th>Loan Matches</th>\n",
       "      <th>Scores</th>\n",
       "    </tr>\n",
       "  </thead>\n",
       "  <tbody>\n",
       "    <tr>\n",
       "      <td>54</td>\n",
       "      <td>John Langdon</td>\n",
       "      <td>John Langdon</td>\n",
       "      <td>100.0</td>\n",
       "    </tr>\n",
       "  </tbody>\n",
       "</table>\n",
       "</div>"
      ],
      "text/plain": [
       "       Delegates  Loan Matches  Scores\n",
       "54  John Langdon  John Langdon   100.0"
      ]
     },
     "metadata": {},
     "output_type": "display_data"
    }
   ],
   "source": [
    "#Read in file\n",
    "NH = pd.read_excel(\"Data/liquidated_debt_certificates_NH.xlsx\", header = 11)\n",
    "cols = [\"Page\",\"JPEG number\",\"Number\",\"Letter\",\"Date of the Certificate: Month\",\n",
    "                         \"Date of the Certificate: Day\",\"Date of the Certificate: Year\",\"First name\",\"Last name\",\n",
    "                         \"Title\",\"Time when the debt became due: Month\",\"Time when the debt became due: Day\",\n",
    "                         \"Time when the debt became due: Year\",\"Dollars\",\"90th\",\n",
    "                         \"Line Strike Thorugh: Yes?\",\"Line Strike Thorugh: Note\",\"Notes\"]\n",
    "NH.columns = cols\n",
    "\n",
    "NH = NH[NH['First name'].apply(lambda x: not pd.isnull(x))]\n",
    "\n",
    "#create full name\n",
    "NH['full name 1'] = NH['First name'] + \" \" + NH['Last name']\n",
    "\n",
    "#run merge\n",
    "NH_name_results_1 = fuzzy_merge(delegates['full name 1'], NH['full name 1'])\n",
    "NH_name_results_2 = fuzzy_merge(delegates['full name 2'], NH['full name 1'])\n",
    "\n",
    "#combine two dataframes\n",
    "NH_name_results = pd.concat([NH_name_results_1, NH_name_results_2]).drop_duplicates().reset_index(drop = True)\n",
    "\n",
    "#remove names with only one unique name\n",
    "NH_name_results = NH_name_results[NH_name_results['Loan Matches'].apply(lambda x: len(list(set(x.replace(\"??\", \"\").strip().split(\" \"))))>=2)]\n",
    "#run through step 2 cleaning function\n",
    "NH_name_results_update = NH_name_results[[matchFunction(x.split(\" \"), y.split(\" \"), 90) for x, y in zip(NH_name_results['Delegates'], NH_name_results['Loan Matches'])]]\n",
    "\n",
    "with pd.option_context('display.max_rows', None, 'display.max_columns', None):  # more options can be specified also\n",
    "    display(NH_name_results_update)"
   ]
  },
  {
   "cell_type": "markdown",
   "metadata": {},
   "source": [
    "# New Jersey"
   ]
  },
  {
   "cell_type": "code",
   "execution_count": 278,
   "metadata": {
    "collapsed": true,
    "jupyter": {
     "outputs_hidden": true
    }
   },
   "outputs": [
    {
     "name": "stderr",
     "output_type": "stream",
     "text": [
      "/opt/anaconda3/lib/python3.7/site-packages/ipykernel_launcher.py:29: FutureWarning: Sorting because non-concatenation axis is not aligned. A future version\n",
      "of pandas will change to not sort by default.\n",
      "\n",
      "To accept the future behavior, pass 'sort=False'.\n",
      "\n",
      "To retain the current behavior and silence the warning, pass 'sort=True'.\n",
      "\n",
      "/opt/anaconda3/lib/python3.7/site-packages/ipykernel_launcher.py:23: FutureWarning: Sorting because non-concatenation axis is not aligned. A future version\n",
      "of pandas will change to not sort by default.\n",
      "\n",
      "To accept the future behavior, pass 'sort=False'.\n",
      "\n",
      "To retain the current behavior and silence the warning, pass 'sort=True'.\n",
      "\n"
     ]
    },
    {
     "data": {
      "text/html": [
       "<div>\n",
       "<style scoped>\n",
       "    .dataframe tbody tr th:only-of-type {\n",
       "        vertical-align: middle;\n",
       "    }\n",
       "\n",
       "    .dataframe tbody tr th {\n",
       "        vertical-align: top;\n",
       "    }\n",
       "\n",
       "    .dataframe thead th {\n",
       "        text-align: right;\n",
       "    }\n",
       "</style>\n",
       "<table border=\"1\" class=\"dataframe\">\n",
       "  <thead>\n",
       "    <tr style=\"text-align: right;\">\n",
       "      <th></th>\n",
       "      <th>Delegates</th>\n",
       "      <th>Loan Matches</th>\n",
       "      <th>Scores</th>\n",
       "    </tr>\n",
       "  </thead>\n",
       "  <tbody>\n",
       "    <tr>\n",
       "      <td>107</td>\n",
       "      <td>John Dickinson</td>\n",
       "      <td>John Dickinson</td>\n",
       "      <td>100.0</td>\n",
       "    </tr>\n",
       "    <tr>\n",
       "      <td>407</td>\n",
       "      <td>David Brearly</td>\n",
       "      <td>Honorable David Brearley</td>\n",
       "      <td>86.0</td>\n",
       "    </tr>\n",
       "    <tr>\n",
       "      <td>422</td>\n",
       "      <td>Jonathan Dayton</td>\n",
       "      <td>Jonathan Dayton</td>\n",
       "      <td>100.0</td>\n",
       "    </tr>\n",
       "    <tr>\n",
       "      <td>423</td>\n",
       "      <td>Jonathan Dayton</td>\n",
       "      <td>Jonathan I Dayton</td>\n",
       "      <td>95.0</td>\n",
       "    </tr>\n",
       "    <tr>\n",
       "      <td>586</td>\n",
       "      <td>Robert Morris</td>\n",
       "      <td>Robert Morris</td>\n",
       "      <td>100.0</td>\n",
       "    </tr>\n",
       "    <tr>\n",
       "      <td>602</td>\n",
       "      <td>James Wilson</td>\n",
       "      <td>James Willson</td>\n",
       "      <td>96.0</td>\n",
       "    </tr>\n",
       "    <tr>\n",
       "      <td>725</td>\n",
       "      <td>David Brearley</td>\n",
       "      <td>Honorable David Brearley</td>\n",
       "      <td>90.0</td>\n",
       "    </tr>\n",
       "  </tbody>\n",
       "</table>\n",
       "</div>"
      ],
      "text/plain": [
       "           Delegates              Loan Matches  Scores\n",
       "107   John Dickinson            John Dickinson   100.0\n",
       "407    David Brearly  Honorable David Brearley    86.0\n",
       "422  Jonathan Dayton           Jonathan Dayton   100.0\n",
       "423  Jonathan Dayton         Jonathan I Dayton    95.0\n",
       "586    Robert Morris             Robert Morris   100.0\n",
       "602     James Wilson             James Willson    96.0\n",
       "725   David Brearley  Honorable David Brearley    90.0"
      ]
     },
     "metadata": {},
     "output_type": "display_data"
    }
   ],
   "source": [
    "#Read in file\n",
    "NJ = pd.read_excel(\"Data/liquidated_debt_certificates_NJ.xlsx\", header = 10)\n",
    "cols = [\"JPEG number\",\"Number\",\"Letter\",\"Date of the Certificate: Month\",\n",
    "        \"Date of the Certificate: Day\",\"Date of the Certificate: Year\",\"Title\",\"First name\",\"Last name\",\n",
    "        \"Title 2\",\"First name 2\",\"Last name 2\",\"Time when the debt became due: Month\",\n",
    "        \"Time when the debt became due: Day\", \"Time when the debt became due: Year\",\"Dollars\",\"90th\",\n",
    "        \"Strike Through Number\",\"Note\"]\n",
    "NJ = NJ[NJ.columns[0:19]]\n",
    "NJ.columns = cols\n",
    "\n",
    "NJ = NJ[NJ['First name'].apply(lambda x: not pd.isnull(x))]\n",
    "\n",
    "#create full name\n",
    "NJ['full name 1'] = NJ['First name'] + \" \" + NJ['Last name']\n",
    "NJ['full name 2'] = NJ['First name 2'] + \" \" + NJ['Last name 2']\n",
    "\n",
    "#run merge\n",
    "NJ_name_results_1 = fuzzy_merge(delegates['full name 1'], NJ['full name 1'])\n",
    "NJ_name_results_2 = fuzzy_merge(delegates['full name 2'], NJ['full name 1'])\n",
    "NJ_name_results_3 = fuzzy_merge(delegates['full name 1'], NJ['full name 2'])\n",
    "NJ_name_results_4 = fuzzy_merge(delegates['full name 2'], NJ['full name 2'])\n",
    "\n",
    "#combine two dataframes\n",
    "NJ_name_results = pd.concat([NJ_name_results_1, NJ_name_results_2]).drop_duplicates().reset_index(drop = True)\n",
    "\n",
    "#remove names with only one unique name\n",
    "NJ_name_results = NJ_name_results[NJ_name_results['Loan Matches'].apply(lambda x: len(list(set(x.replace(\"??\", \"\").strip().split(\" \"))))>=2)]\n",
    "#run through step 2 cleaning function\n",
    "NJ_name_results_update = NJ_name_results[[matchFunction(x.split(\" \"), y.split(\" \"), 90) for x, y in zip(NJ_name_results['Delegates'], NJ_name_results['Loan Matches'])]]\n",
    "\n",
    "with pd.option_context('display.max_rows', None, 'display.max_columns', None):  # more options can be specified also\n",
    "    display(NJ_name_results_update)"
   ]
  },
  {
   "cell_type": "markdown",
   "metadata": {},
   "source": [
    "# New York"
   ]
  },
  {
   "cell_type": "code",
   "execution_count": 282,
   "metadata": {},
   "outputs": [
    {
     "name": "stderr",
     "output_type": "stream",
     "text": [
      "/opt/anaconda3/lib/python3.7/site-packages/ipykernel_launcher.py:29: FutureWarning: Sorting because non-concatenation axis is not aligned. A future version\n",
      "of pandas will change to not sort by default.\n",
      "\n",
      "To accept the future behavior, pass 'sort=False'.\n",
      "\n",
      "To retain the current behavior and silence the warning, pass 'sort=True'.\n",
      "\n",
      "/opt/anaconda3/lib/python3.7/site-packages/ipykernel_launcher.py:23: FutureWarning: Sorting because non-concatenation axis is not aligned. A future version\n",
      "of pandas will change to not sort by default.\n",
      "\n",
      "To accept the future behavior, pass 'sort=False'.\n",
      "\n",
      "To retain the current behavior and silence the warning, pass 'sort=True'.\n",
      "\n"
     ]
    },
    {
     "name": "stdout",
     "output_type": "stream",
     "text": [
      "one issue - william few,william mcwilliams\n"
     ]
    },
    {
     "data": {
      "text/html": [
       "<div>\n",
       "<style scoped>\n",
       "    .dataframe tbody tr th:only-of-type {\n",
       "        vertical-align: middle;\n",
       "    }\n",
       "\n",
       "    .dataframe tbody tr th {\n",
       "        vertical-align: top;\n",
       "    }\n",
       "\n",
       "    .dataframe thead th {\n",
       "        text-align: right;\n",
       "    }\n",
       "</style>\n",
       "<table border=\"1\" class=\"dataframe\">\n",
       "  <thead>\n",
       "    <tr style=\"text-align: right;\">\n",
       "      <th></th>\n",
       "      <th>Delegates</th>\n",
       "      <th>Loan Matches</th>\n",
       "      <th>Scores</th>\n",
       "    </tr>\n",
       "  </thead>\n",
       "  <tbody>\n",
       "    <tr>\n",
       "      <td>0</td>\n",
       "      <td>William Samuel Johnson</td>\n",
       "      <td>William Johnson</td>\n",
       "      <td>95.0</td>\n",
       "    </tr>\n",
       "    <tr>\n",
       "      <td>218</td>\n",
       "      <td>William Few</td>\n",
       "      <td>William Mc Williams</td>\n",
       "      <td>86.0</td>\n",
       "    </tr>\n",
       "    <tr>\n",
       "      <td>275</td>\n",
       "      <td>William L. Pierce</td>\n",
       "      <td>William Pierce</td>\n",
       "      <td>95.0</td>\n",
       "    </tr>\n",
       "    <tr>\n",
       "      <td>467</td>\n",
       "      <td>John Langdon</td>\n",
       "      <td>John Langdon</td>\n",
       "      <td>100.0</td>\n",
       "    </tr>\n",
       "    <tr>\n",
       "      <td>501</td>\n",
       "      <td>William Livingston</td>\n",
       "      <td>William Livingston</td>\n",
       "      <td>100.0</td>\n",
       "    </tr>\n",
       "    <tr>\n",
       "      <td>593</td>\n",
       "      <td>John Lansing Jr.</td>\n",
       "      <td>John Lansing</td>\n",
       "      <td>95.0</td>\n",
       "    </tr>\n",
       "    <tr>\n",
       "      <td>744</td>\n",
       "      <td>Alexander Martin</td>\n",
       "      <td>Alexander Martin</td>\n",
       "      <td>100.0</td>\n",
       "    </tr>\n",
       "    <tr>\n",
       "      <td>769</td>\n",
       "      <td>James Wilson</td>\n",
       "      <td>James Willson</td>\n",
       "      <td>96.0</td>\n",
       "    </tr>\n",
       "    <tr>\n",
       "      <td>823</td>\n",
       "      <td>John Blair</td>\n",
       "      <td>John Blair</td>\n",
       "      <td>100.0</td>\n",
       "    </tr>\n",
       "  </tbody>\n",
       "</table>\n",
       "</div>"
      ],
      "text/plain": [
       "                  Delegates         Loan Matches  Scores\n",
       "0    William Samuel Johnson      William Johnson    95.0\n",
       "218             William Few  William Mc Williams    86.0\n",
       "275       William L. Pierce       William Pierce    95.0\n",
       "467            John Langdon         John Langdon   100.0\n",
       "501      William Livingston   William Livingston   100.0\n",
       "593        John Lansing Jr.         John Lansing    95.0\n",
       "744        Alexander Martin     Alexander Martin   100.0\n",
       "769            James Wilson        James Willson    96.0\n",
       "823              John Blair           John Blair   100.0"
      ]
     },
     "metadata": {},
     "output_type": "display_data"
    }
   ],
   "source": [
    "#Read in file\n",
    "NY = pd.read_excel(\"Data/liquidated_debt_certificates_NY.xlsx\", header = 10)\n",
    "cols = [\"Page\", \"JPEG number\",\"Number\",\"Letter\",\"Date of the Certificate: Month\",\n",
    "        \"Date of the Certificate: Day\",\"Date of the Certificate: Year\",\"First name\",\"Last name\",\n",
    "        \"Title\",\"First name 2\",\"Last name 2\",\"Title 2\",\"Time when the debt became due: Month\",\n",
    "        \"Time when the debt became due: Day\", \"Time when the debt became due: Year\",\"Dollars\",\"90th\",\n",
    "        \"Strike Through Yes?\",\"Note\", \"Notes\"]\n",
    "NY = NY[NY.columns[0:21]]\n",
    "NY.columns = cols\n",
    "\n",
    "NY = NY[NY['First name'].apply(lambda x: not pd.isnull(x))]\n",
    "\n",
    "#create full name\n",
    "NY['full name 1'] = NY['First name'] + \" \" + NY['Last name']\n",
    "NY['full name 2'] = NY['First name 2'] + \" \" + NY['Last name 2']\n",
    "\n",
    "#run merge\n",
    "NY_name_results_1 = fuzzy_merge(delegates['full name 1'], NY['full name 1'])\n",
    "NY_name_results_2 = fuzzy_merge(delegates['full name 2'], NY['full name 1'])\n",
    "NY_name_results_3 = fuzzy_merge(delegates['full name 1'], NY['full name 2'])\n",
    "NY_name_results_4 = fuzzy_merge(delegates['full name 2'], NY['full name 2'])\n",
    "\n",
    "#combine two dataframes\n",
    "NY_name_results = pd.concat([NY_name_results_1, NY_name_results_2]).drop_duplicates().reset_index(drop = True)\n",
    "\n",
    "#remove names with only one unique name\n",
    "NY_name_results = NY_name_results[NY_name_results['Loan Matches'].apply(lambda x: len(list(set(x.replace(\"??\", \"\").strip().split(\" \"))))>=2)]\n",
    "#run through step 2 cleaning function\n",
    "NY_name_results_update = NY_name_results[[matchFunction(x.split(\" \"), y.split(\" \"), 90) for x, y in zip(NY_name_results['Delegates'], NY_name_results['Loan Matches'])]]\n",
    "\n",
    "print(\"one issue - william few,william mcwilliams\")\n",
    "\n",
    "with pd.option_context('display.max_rows', None, 'display.max_columns', None):  # more options can be specified also\n",
    "    display(NY_name_results_update)\n"
   ]
  },
  {
   "cell_type": "markdown",
   "metadata": {},
   "source": [
    "# Pennsylvania P1"
   ]
  },
  {
   "cell_type": "code",
   "execution_count": 286,
   "metadata": {},
   "outputs": [
    {
     "data": {
      "text/html": [
       "<div>\n",
       "<style scoped>\n",
       "    .dataframe tbody tr th:only-of-type {\n",
       "        vertical-align: middle;\n",
       "    }\n",
       "\n",
       "    .dataframe tbody tr th {\n",
       "        vertical-align: top;\n",
       "    }\n",
       "\n",
       "    .dataframe thead th {\n",
       "        text-align: right;\n",
       "    }\n",
       "</style>\n",
       "<table border=\"1\" class=\"dataframe\">\n",
       "  <thead>\n",
       "    <tr style=\"text-align: right;\">\n",
       "      <th></th>\n",
       "      <th>Unnamed: 0</th>\n",
       "      <th>Unnamed: 1</th>\n",
       "      <th>Unnamed: 2</th>\n",
       "      <th>Unnamed: 3</th>\n",
       "      <th>Year</th>\n",
       "      <th>Month</th>\n",
       "      <th>Date</th>\n",
       "      <th>Title</th>\n",
       "      <th>First name</th>\n",
       "      <th>Last name</th>\n",
       "      <th>...</th>\n",
       "      <th>Month.1</th>\n",
       "      <th>Date.1</th>\n",
       "      <th>Dollars</th>\n",
       "      <th>90th</th>\n",
       "      <th>10th</th>\n",
       "      <th>Unnamed: 16</th>\n",
       "      <th>Unnamed: 17</th>\n",
       "      <th>Unnamed: 18</th>\n",
       "      <th>Unnamed: 19</th>\n",
       "      <th>Notes</th>\n",
       "    </tr>\n",
       "  </thead>\n",
       "  <tbody>\n",
       "    <tr>\n",
       "      <td>0</td>\n",
       "      <td>1.0</td>\n",
       "      <td>434.0</td>\n",
       "      <td>1.0</td>\n",
       "      <td>H</td>\n",
       "      <td>1785.0</td>\n",
       "      <td>6.0</td>\n",
       "      <td>28.0</td>\n",
       "      <td>NaN</td>\n",
       "      <td>Joseph</td>\n",
       "      <td>Forester</td>\n",
       "      <td>...</td>\n",
       "      <td>3.0</td>\n",
       "      <td>5.0</td>\n",
       "      <td>NaN</td>\n",
       "      <td>NaN</td>\n",
       "      <td>NaN</td>\n",
       "      <td>NaN</td>\n",
       "      <td>15.0</td>\n",
       "      <td>NaN</td>\n",
       "      <td>545</td>\n",
       "      <td>NaN</td>\n",
       "    </tr>\n",
       "    <tr>\n",
       "      <td>1</td>\n",
       "      <td>1.0</td>\n",
       "      <td>434.0</td>\n",
       "      <td>2.0</td>\n",
       "      <td>I</td>\n",
       "      <td>1785.0</td>\n",
       "      <td>6.0</td>\n",
       "      <td>28.0</td>\n",
       "      <td>NaN</td>\n",
       "      <td>Isaac</td>\n",
       "      <td>Justice</td>\n",
       "      <td>...</td>\n",
       "      <td>11.0</td>\n",
       "      <td>21.0</td>\n",
       "      <td>928.0</td>\n",
       "      <td>NaN</td>\n",
       "      <td>NaN</td>\n",
       "      <td>74</td>\n",
       "      <td>12.0</td>\n",
       "      <td>48.0</td>\n",
       "      <td>1850</td>\n",
       "      <td>NaN</td>\n",
       "    </tr>\n",
       "    <tr>\n",
       "      <td>2</td>\n",
       "      <td>1.0</td>\n",
       "      <td>434.0</td>\n",
       "      <td>3.0</td>\n",
       "      <td>L</td>\n",
       "      <td>1785.0</td>\n",
       "      <td>6.0</td>\n",
       "      <td>28.0</td>\n",
       "      <td>NaN</td>\n",
       "      <td>John</td>\n",
       "      <td>Trombo</td>\n",
       "      <td>...</td>\n",
       "      <td>7.0</td>\n",
       "      <td>27.0</td>\n",
       "      <td>NaN</td>\n",
       "      <td>NaN</td>\n",
       "      <td>NaN</td>\n",
       "      <td>NaN</td>\n",
       "      <td>12.0</td>\n",
       "      <td>NaN</td>\n",
       "      <td>1048</td>\n",
       "      <td>NaN</td>\n",
       "    </tr>\n",
       "    <tr>\n",
       "      <td>3</td>\n",
       "      <td>1.0</td>\n",
       "      <td>434.0</td>\n",
       "      <td>4.0</td>\n",
       "      <td>A</td>\n",
       "      <td>1785.0</td>\n",
       "      <td>6.0</td>\n",
       "      <td>28.0</td>\n",
       "      <td>NaN</td>\n",
       "      <td>Samuel</td>\n",
       "      <td>Frye</td>\n",
       "      <td>...</td>\n",
       "      <td>7.0</td>\n",
       "      <td>21.0</td>\n",
       "      <td>NaN</td>\n",
       "      <td>NaN</td>\n",
       "      <td>NaN</td>\n",
       "      <td>NaN</td>\n",
       "      <td>16.0</td>\n",
       "      <td>NaN</td>\n",
       "      <td>SP</td>\n",
       "      <td>NaN</td>\n",
       "    </tr>\n",
       "    <tr>\n",
       "      <td>4</td>\n",
       "      <td>1.0</td>\n",
       "      <td>434.0</td>\n",
       "      <td>5.0</td>\n",
       "      <td>B</td>\n",
       "      <td>1785.0</td>\n",
       "      <td>6.0</td>\n",
       "      <td>29.0</td>\n",
       "      <td>NaN</td>\n",
       "      <td>Vincent</td>\n",
       "      <td>Calvin</td>\n",
       "      <td>...</td>\n",
       "      <td>7.0</td>\n",
       "      <td>22.0</td>\n",
       "      <td>NaN</td>\n",
       "      <td>NaN</td>\n",
       "      <td>NaN</td>\n",
       "      <td>NaN</td>\n",
       "      <td>53.0</td>\n",
       "      <td>30.0</td>\n",
       "      <td>1850</td>\n",
       "      <td>NaN</td>\n",
       "    </tr>\n",
       "    <tr>\n",
       "      <td>...</td>\n",
       "      <td>...</td>\n",
       "      <td>...</td>\n",
       "      <td>...</td>\n",
       "      <td>...</td>\n",
       "      <td>...</td>\n",
       "      <td>...</td>\n",
       "      <td>...</td>\n",
       "      <td>...</td>\n",
       "      <td>...</td>\n",
       "      <td>...</td>\n",
       "      <td>...</td>\n",
       "      <td>...</td>\n",
       "      <td>...</td>\n",
       "      <td>...</td>\n",
       "      <td>...</td>\n",
       "      <td>...</td>\n",
       "      <td>...</td>\n",
       "      <td>...</td>\n",
       "      <td>...</td>\n",
       "      <td>...</td>\n",
       "      <td>...</td>\n",
       "    </tr>\n",
       "    <tr>\n",
       "      <td>953</td>\n",
       "      <td>28.0</td>\n",
       "      <td>449.0</td>\n",
       "      <td>954.0</td>\n",
       "      <td>G</td>\n",
       "      <td>1786.0</td>\n",
       "      <td>8.0</td>\n",
       "      <td>29.0</td>\n",
       "      <td>NaN</td>\n",
       "      <td>Ebenezer</td>\n",
       "      <td>Myers</td>\n",
       "      <td>...</td>\n",
       "      <td>11.0</td>\n",
       "      <td>1.0</td>\n",
       "      <td>NaN</td>\n",
       "      <td>NaN</td>\n",
       "      <td>NaN</td>\n",
       "      <td>NaN</td>\n",
       "      <td>32.0</td>\n",
       "      <td>17.0</td>\n",
       "      <td>1850</td>\n",
       "      <td>NaN</td>\n",
       "    </tr>\n",
       "    <tr>\n",
       "      <td>954</td>\n",
       "      <td>28.0</td>\n",
       "      <td>449.0</td>\n",
       "      <td>955.0</td>\n",
       "      <td>D</td>\n",
       "      <td>1786.0</td>\n",
       "      <td>8.0</td>\n",
       "      <td>29.0</td>\n",
       "      <td>NaN</td>\n",
       "      <td>Fredrick</td>\n",
       "      <td>Dimbole</td>\n",
       "      <td>...</td>\n",
       "      <td>11.0</td>\n",
       "      <td>9.0</td>\n",
       "      <td>NaN</td>\n",
       "      <td>NaN</td>\n",
       "      <td>NaN</td>\n",
       "      <td>NaN</td>\n",
       "      <td>6.0</td>\n",
       "      <td>60.0</td>\n",
       "      <td>NaN</td>\n",
       "      <td>NaN</td>\n",
       "    </tr>\n",
       "    <tr>\n",
       "      <td>955</td>\n",
       "      <td>NaN</td>\n",
       "      <td>NaN</td>\n",
       "      <td>NaN</td>\n",
       "      <td>NaN</td>\n",
       "      <td>NaN</td>\n",
       "      <td>NaN</td>\n",
       "      <td>NaN</td>\n",
       "      <td>NaN</td>\n",
       "      <td>NaN</td>\n",
       "      <td>NaN</td>\n",
       "      <td>...</td>\n",
       "      <td>NaN</td>\n",
       "      <td>NaN</td>\n",
       "      <td>349180.0</td>\n",
       "      <td>87.0</td>\n",
       "      <td>NaN</td>\n",
       "      <td>NaN</td>\n",
       "      <td>130846.0</td>\n",
       "      <td>5.0</td>\n",
       "      <td>NaN</td>\n",
       "      <td>NaN</td>\n",
       "    </tr>\n",
       "    <tr>\n",
       "      <td>956</td>\n",
       "      <td>NaN</td>\n",
       "      <td>NaN</td>\n",
       "      <td>NaN</td>\n",
       "      <td>NaN</td>\n",
       "      <td>NaN</td>\n",
       "      <td>NaN</td>\n",
       "      <td>NaN</td>\n",
       "      <td>NaN</td>\n",
       "      <td>Omitted in Page 16 Wrong charged 7/90th whish ...</td>\n",
       "      <td>NaN</td>\n",
       "      <td>...</td>\n",
       "      <td>NaN</td>\n",
       "      <td>NaN</td>\n",
       "      <td>NaN</td>\n",
       "      <td>NaN</td>\n",
       "      <td>NaN</td>\n",
       "      <td>NaN</td>\n",
       "      <td>NaN</td>\n",
       "      <td>NaN</td>\n",
       "      <td>NaN</td>\n",
       "      <td>NaN</td>\n",
       "    </tr>\n",
       "    <tr>\n",
       "      <td>957</td>\n",
       "      <td>NaN</td>\n",
       "      <td>NaN</td>\n",
       "      <td>NaN</td>\n",
       "      <td>NaN</td>\n",
       "      <td>NaN</td>\n",
       "      <td>NaN</td>\n",
       "      <td>NaN</td>\n",
       "      <td>NaN</td>\n",
       "      <td>Those Certificates marhed SP were paid in the ...</td>\n",
       "      <td>NaN</td>\n",
       "      <td>...</td>\n",
       "      <td>NaN</td>\n",
       "      <td>NaN</td>\n",
       "      <td>NaN</td>\n",
       "      <td>NaN</td>\n",
       "      <td>NaN</td>\n",
       "      <td>NaN</td>\n",
       "      <td>NaN</td>\n",
       "      <td>NaN</td>\n",
       "      <td>NaN</td>\n",
       "      <td>NaN</td>\n",
       "    </tr>\n",
       "  </tbody>\n",
       "</table>\n",
       "<p>958 rows × 21 columns</p>\n",
       "</div>"
      ],
      "text/plain": [
       "     Unnamed: 0  Unnamed: 1  Unnamed: 2 Unnamed: 3    Year  Month  Date Title  \\\n",
       "0           1.0       434.0         1.0          H  1785.0    6.0  28.0   NaN   \n",
       "1           1.0       434.0         2.0          I  1785.0    6.0  28.0   NaN   \n",
       "2           1.0       434.0         3.0          L  1785.0    6.0  28.0   NaN   \n",
       "3           1.0       434.0         4.0          A  1785.0    6.0  28.0   NaN   \n",
       "4           1.0       434.0         5.0          B  1785.0    6.0  29.0   NaN   \n",
       "..          ...         ...         ...        ...     ...    ...   ...   ...   \n",
       "953        28.0       449.0       954.0          G  1786.0    8.0  29.0   NaN   \n",
       "954        28.0       449.0       955.0          D  1786.0    8.0  29.0   NaN   \n",
       "955         NaN         NaN         NaN        NaN     NaN    NaN   NaN   NaN   \n",
       "956         NaN         NaN         NaN        NaN     NaN    NaN   NaN   NaN   \n",
       "957         NaN         NaN         NaN        NaN     NaN    NaN   NaN   NaN   \n",
       "\n",
       "                                            First name Last name  ...  \\\n",
       "0                                               Joseph  Forester  ...   \n",
       "1                                                Isaac   Justice  ...   \n",
       "2                                                 John    Trombo  ...   \n",
       "3                                               Samuel      Frye  ...   \n",
       "4                                              Vincent    Calvin  ...   \n",
       "..                                                 ...       ...  ...   \n",
       "953                                           Ebenezer     Myers  ...   \n",
       "954                                           Fredrick   Dimbole  ...   \n",
       "955                                                NaN       NaN  ...   \n",
       "956  Omitted in Page 16 Wrong charged 7/90th whish ...       NaN  ...   \n",
       "957  Those Certificates marhed SP were paid in the ...       NaN  ...   \n",
       "\n",
       "     Month.1  Date.1   Dollars  90th  10th  Unnamed: 16 Unnamed: 17  \\\n",
       "0        3.0     5.0       NaN   NaN   NaN          NaN        15.0   \n",
       "1       11.0    21.0     928.0   NaN   NaN           74        12.0   \n",
       "2        7.0    27.0       NaN   NaN   NaN          NaN        12.0   \n",
       "3        7.0    21.0       NaN   NaN   NaN          NaN        16.0   \n",
       "4        7.0    22.0       NaN   NaN   NaN          NaN        53.0   \n",
       "..       ...     ...       ...   ...   ...          ...         ...   \n",
       "953     11.0     1.0       NaN   NaN   NaN          NaN        32.0   \n",
       "954     11.0     9.0       NaN   NaN   NaN          NaN         6.0   \n",
       "955      NaN     NaN  349180.0  87.0   NaN          NaN    130846.0   \n",
       "956      NaN     NaN       NaN   NaN   NaN          NaN         NaN   \n",
       "957      NaN     NaN       NaN   NaN   NaN          NaN         NaN   \n",
       "\n",
       "     Unnamed: 18  Unnamed: 19 Notes  \n",
       "0            NaN          545   NaN  \n",
       "1           48.0         1850   NaN  \n",
       "2            NaN         1048   NaN  \n",
       "3            NaN           SP   NaN  \n",
       "4           30.0         1850   NaN  \n",
       "..           ...          ...   ...  \n",
       "953         17.0         1850   NaN  \n",
       "954         60.0          NaN   NaN  \n",
       "955          5.0          NaN   NaN  \n",
       "956          NaN          NaN   NaN  \n",
       "957          NaN          NaN   NaN  \n",
       "\n",
       "[958 rows x 21 columns]"
      ]
     },
     "execution_count": 286,
     "metadata": {},
     "output_type": "execute_result"
    }
   ],
   "source": [
    "PA"
   ]
  },
  {
   "cell_type": "code",
   "execution_count": 294,
   "metadata": {},
   "outputs": [
    {
     "name": "stderr",
     "output_type": "stream",
     "text": [
      "/opt/anaconda3/lib/python3.7/site-packages/ipykernel_launcher.py:29: FutureWarning: Sorting because non-concatenation axis is not aligned. A future version\n",
      "of pandas will change to not sort by default.\n",
      "\n",
      "To accept the future behavior, pass 'sort=False'.\n",
      "\n",
      "To retain the current behavior and silence the warning, pass 'sort=True'.\n",
      "\n",
      "/opt/anaconda3/lib/python3.7/site-packages/ipykernel_launcher.py:23: FutureWarning: Sorting because non-concatenation axis is not aligned. A future version\n",
      "of pandas will change to not sort by default.\n",
      "\n",
      "To accept the future behavior, pass 'sort=False'.\n",
      "\n",
      "To retain the current behavior and silence the warning, pass 'sort=True'.\n",
      "\n"
     ]
    },
    {
     "data": {
      "text/html": [
       "<div>\n",
       "<style scoped>\n",
       "    .dataframe tbody tr th:only-of-type {\n",
       "        vertical-align: middle;\n",
       "    }\n",
       "\n",
       "    .dataframe tbody tr th {\n",
       "        vertical-align: top;\n",
       "    }\n",
       "\n",
       "    .dataframe thead th {\n",
       "        text-align: right;\n",
       "    }\n",
       "</style>\n",
       "<table border=\"1\" class=\"dataframe\">\n",
       "  <thead>\n",
       "    <tr style=\"text-align: right;\">\n",
       "      <th></th>\n",
       "      <th>Delegates</th>\n",
       "      <th>Loan Matches</th>\n",
       "      <th>Scores</th>\n",
       "    </tr>\n",
       "  </thead>\n",
       "  <tbody>\n",
       "    <tr>\n",
       "      <td>76</td>\n",
       "      <td>John Dickinson</td>\n",
       "      <td>John Dickinson</td>\n",
       "      <td>100.0</td>\n",
       "    </tr>\n",
       "    <tr>\n",
       "      <td>106</td>\n",
       "      <td>William Houstoun</td>\n",
       "      <td>William Houston</td>\n",
       "      <td>97.0</td>\n",
       "    </tr>\n",
       "    <tr>\n",
       "      <td>197</td>\n",
       "      <td>William C. Houston</td>\n",
       "      <td>William Houston</td>\n",
       "      <td>95.0</td>\n",
       "    </tr>\n",
       "    <tr>\n",
       "      <td>254</td>\n",
       "      <td>Alexander Martin</td>\n",
       "      <td>Alexander Martin</td>\n",
       "      <td>100.0</td>\n",
       "    </tr>\n",
       "    <tr>\n",
       "      <td>268</td>\n",
       "      <td>James Wilson</td>\n",
       "      <td>James Wilson</td>\n",
       "      <td>100.0</td>\n",
       "    </tr>\n",
       "  </tbody>\n",
       "</table>\n",
       "</div>"
      ],
      "text/plain": [
       "              Delegates      Loan Matches  Scores\n",
       "76       John Dickinson    John Dickinson   100.0\n",
       "106    William Houstoun   William Houston    97.0\n",
       "197  William C. Houston   William Houston    95.0\n",
       "254    Alexander Martin  Alexander Martin   100.0\n",
       "268        James Wilson      James Wilson   100.0"
      ]
     },
     "metadata": {},
     "output_type": "display_data"
    }
   ],
   "source": [
    "#Read in file\n",
    "PA = pd.read_excel(\"Data/liquidated_debt_certificates_PA_story.xlsx\", header = 11)\n",
    "cols = [\"JPEG number\",\"Number\",\"Letter\",\"Date of the Certificate: Year\",\n",
    "        \"Date of the Certificate: Month\",\"Date of the Certificate: Date\",\"Title\",\"First name\",\"Last name\",\"Time when the debt became due: Year\",\n",
    "        \"Time when the debt became due: Month\",\"Time when the debt became due: Day\",\n",
    "        \"Dollars\",\"90th\",\"10th\", \"Exchange\",\"Amount in Specie_1\", \"Amount in Specie_2\",\"Line Strike Thorugh?\",\"Notes\"]\n",
    "PA = PA[PA.columns[1:21]]\n",
    "PA.columns = cols\n",
    "\n",
    "PA = PA[PA['First name'].apply(lambda x: not pd.isnull(x))]\n",
    "\n",
    "#create full name\n",
    "PA['full name 1'] = PA['First name'] + \" \" + PA['Last name']\n",
    "\n",
    "#run merge\n",
    "PA_name_results_1 = fuzzy_merge(delegates['full name 1'], PA['full name 1'])\n",
    "PA_name_results_2 = fuzzy_merge(delegates['full name 2'], PA['full name 1'])\n",
    "\n",
    "#combine two dataframes\n",
    "PA_name_results = pd.concat([PA_name_results_1, PA_name_results_2]).drop_duplicates().reset_index(drop = True)\n",
    "\n",
    "#remove names with only one unique name\n",
    "PA_name_results = PA_name_results[PA_name_results['Loan Matches'].apply(lambda x: len(list(set(x.replace(\"??\", \"\").strip().split(\" \"))))>=2)]\n",
    "#run through step 2 cleaning function\n",
    "PA_name_results_update = PA_name_results[[matchFunction(x.split(\" \"), y.split(\" \")) for x, y in zip(PA_name_results['Delegates'], PA_name_results['Loan Matches'])]]\n",
    "\n",
    "with pd.option_context('display.max_rows', None, 'display.max_columns', None):  # more options can be specified also\n",
    "    display(PA_name_results_update)"
   ]
  },
  {
   "cell_type": "markdown",
   "metadata": {},
   "source": [
    "# Pennsylvania P2"
   ]
  },
  {
   "cell_type": "code",
   "execution_count": 306,
   "metadata": {},
   "outputs": [
    {
     "name": "stderr",
     "output_type": "stream",
     "text": [
      "/opt/anaconda3/lib/python3.7/site-packages/ipykernel_launcher.py:29: FutureWarning: Sorting because non-concatenation axis is not aligned. A future version\n",
      "of pandas will change to not sort by default.\n",
      "\n",
      "To accept the future behavior, pass 'sort=False'.\n",
      "\n",
      "To retain the current behavior and silence the warning, pass 'sort=True'.\n",
      "\n",
      "/opt/anaconda3/lib/python3.7/site-packages/ipykernel_launcher.py:23: FutureWarning: Sorting because non-concatenation axis is not aligned. A future version\n",
      "of pandas will change to not sort by default.\n",
      "\n",
      "To accept the future behavior, pass 'sort=False'.\n",
      "\n",
      "To retain the current behavior and silence the warning, pass 'sort=True'.\n",
      "\n"
     ]
    },
    {
     "data": {
      "text/html": [
       "<div>\n",
       "<style scoped>\n",
       "    .dataframe tbody tr th:only-of-type {\n",
       "        vertical-align: middle;\n",
       "    }\n",
       "\n",
       "    .dataframe tbody tr th {\n",
       "        vertical-align: top;\n",
       "    }\n",
       "\n",
       "    .dataframe thead th {\n",
       "        text-align: right;\n",
       "    }\n",
       "</style>\n",
       "<table border=\"1\" class=\"dataframe\">\n",
       "  <thead>\n",
       "    <tr style=\"text-align: right;\">\n",
       "      <th></th>\n",
       "      <th>Delegates</th>\n",
       "      <th>Loan Matches</th>\n",
       "      <th>Scores</th>\n",
       "    </tr>\n",
       "  </thead>\n",
       "  <tbody>\n",
       "    <tr>\n",
       "      <td>0</td>\n",
       "      <td>William Samuel Johnson</td>\n",
       "      <td>William Johnson</td>\n",
       "      <td>95.0</td>\n",
       "    </tr>\n",
       "    <tr>\n",
       "      <td>134</td>\n",
       "      <td>Gunning Bedford Jr.</td>\n",
       "      <td>Gunning Bedford</td>\n",
       "      <td>95.0</td>\n",
       "    </tr>\n",
       "    <tr>\n",
       "      <td>633</td>\n",
       "      <td>William C. Houston</td>\n",
       "      <td>William Huston</td>\n",
       "      <td>88.0</td>\n",
       "    </tr>\n",
       "    <tr>\n",
       "      <td>691</td>\n",
       "      <td>Alexander Hamilton</td>\n",
       "      <td>Alexander Hamilton</td>\n",
       "      <td>100.0</td>\n",
       "    </tr>\n",
       "    <tr>\n",
       "      <td>842</td>\n",
       "      <td>Alexander Martin</td>\n",
       "      <td>Alexander Martin</td>\n",
       "      <td>100.0</td>\n",
       "    </tr>\n",
       "    <tr>\n",
       "      <td>850</td>\n",
       "      <td>Robert Morris</td>\n",
       "      <td>Robert Morris</td>\n",
       "      <td>100.0</td>\n",
       "    </tr>\n",
       "    <tr>\n",
       "      <td>883</td>\n",
       "      <td>James Wilson</td>\n",
       "      <td>James Wilson</td>\n",
       "      <td>100.0</td>\n",
       "    </tr>\n",
       "    <tr>\n",
       "      <td>884</td>\n",
       "      <td>James Wilson</td>\n",
       "      <td>James Willson</td>\n",
       "      <td>96.0</td>\n",
       "    </tr>\n",
       "    <tr>\n",
       "      <td>886</td>\n",
       "      <td>James Wilson</td>\n",
       "      <td>Jn and James Willson</td>\n",
       "      <td>86.0</td>\n",
       "    </tr>\n",
       "    <tr>\n",
       "      <td>969</td>\n",
       "      <td>John Blair</td>\n",
       "      <td>John Blair</td>\n",
       "      <td>100.0</td>\n",
       "    </tr>\n",
       "    <tr>\n",
       "      <td>1161</td>\n",
       "      <td>Thomas Fitzsimmons</td>\n",
       "      <td>Thomas Fitzsimmon</td>\n",
       "      <td>97.0</td>\n",
       "    </tr>\n",
       "  </tbody>\n",
       "</table>\n",
       "</div>"
      ],
      "text/plain": [
       "                   Delegates          Loan Matches  Scores\n",
       "0     William Samuel Johnson       William Johnson    95.0\n",
       "134      Gunning Bedford Jr.       Gunning Bedford    95.0\n",
       "633       William C. Houston        William Huston    88.0\n",
       "691       Alexander Hamilton    Alexander Hamilton   100.0\n",
       "842         Alexander Martin      Alexander Martin   100.0\n",
       "850            Robert Morris         Robert Morris   100.0\n",
       "883             James Wilson          James Wilson   100.0\n",
       "884             James Wilson         James Willson    96.0\n",
       "886             James Wilson  Jn and James Willson    86.0\n",
       "969               John Blair            John Blair   100.0\n",
       "1161      Thomas Fitzsimmons     Thomas Fitzsimmon    97.0"
      ]
     },
     "metadata": {},
     "output_type": "display_data"
    }
   ],
   "source": [
    "#Read in file\n",
    "PA2 = pd.read_excel(\"Data/liquidated_debt_certificates_PA_stelle.xlsx\", header = 11)\n",
    "cols = [\"JPEG number\",\"Number\",\"Letter\",\"Date of the Certificate: Year\",\n",
    "        \"Date of the Certificate: Month\",\"Date of the Certificate: Date\",\"Title\",\"First name\",\"Last name\",\"Title 2\",\"First name 2\",\"Last name 2\",\n",
    "        \"Time when the debt became due: Year\", \"Time when the debt became due: Month\",\"Time when the debt became due: Day\",\n",
    "        \"Dollars\",\"90th\",\"Line Strike Thorugh?\",\"Notes\"]\n",
    "PA2 = PA2[PA2.columns[1:21]]\n",
    "PA2.columns = cols\n",
    "\n",
    "PA2 = PA2[PA2['First name'].apply(lambda x: not pd.isnull(x))]\n",
    "\n",
    "#create full name\n",
    "PA2['full name 1'] = PA2['First name'] + \" \" + PA2['Last name']\n",
    "PA2['full name 2'] = PA2['First name 2'] + \" \" + PA2['Last name 2']\n",
    "\n",
    "#run merge\n",
    "PA2_name_results_1 = fuzzy_merge(delegates['full name 1'], PA2['full name 1'])\n",
    "PA2_name_results_2 = fuzzy_merge(delegates['full name 2'], PA2['full name 1'])\n",
    "PA2_name_results_3 = fuzzy_merge(delegates['full name 1'], PA2['full name 2'])\n",
    "PA2_name_results_4 = fuzzy_merge(delegates['full name 2'], PA2['full name 2'])\n",
    "\n",
    "\n",
    "#combine two dataframes\n",
    "PA2_name_results = pd.concat([PA2_name_results_1, PA2_name_results_2]).drop_duplicates().reset_index(drop = True)\n",
    "\n",
    "#remove names with only one unique name\n",
    "PA2_name_results = PA2_name_results[PA2_name_results['Loan Matches'].apply(lambda x: len(list(set(x.replace(\"??\", \"\").strip().split(\" \"))))>=2)]\n",
    "#run through step 2 cleaning function\n",
    "PA2_name_results_update = PA2_name_results[[matchFunction(x.split(\" \"), y.split(\" \")) for x, y in zip(PA2_name_results['Delegates'], PA2_name_results['Loan Matches'])]]\n",
    "\n",
    "with pd.option_context('display.max_rows', None, 'display.max_columns', None):  # more options can be specified also\n",
    "    display(PA2_name_results_update)"
   ]
  },
  {
   "cell_type": "markdown",
   "metadata": {},
   "source": [
    "# Rhode Island"
   ]
  },
  {
   "cell_type": "code",
   "execution_count": 305,
   "metadata": {},
   "outputs": [
    {
     "name": "stderr",
     "output_type": "stream",
     "text": [
      "/opt/anaconda3/lib/python3.7/site-packages/ipykernel_launcher.py:29: FutureWarning: Sorting because non-concatenation axis is not aligned. A future version\n",
      "of pandas will change to not sort by default.\n",
      "\n",
      "To accept the future behavior, pass 'sort=False'.\n",
      "\n",
      "To retain the current behavior and silence the warning, pass 'sort=True'.\n",
      "\n",
      "/opt/anaconda3/lib/python3.7/site-packages/ipykernel_launcher.py:23: FutureWarning: Sorting because non-concatenation axis is not aligned. A future version\n",
      "of pandas will change to not sort by default.\n",
      "\n",
      "To accept the future behavior, pass 'sort=False'.\n",
      "\n",
      "To retain the current behavior and silence the warning, pass 'sort=True'.\n",
      "\n"
     ]
    },
    {
     "data": {
      "text/html": [
       "<div>\n",
       "<style scoped>\n",
       "    .dataframe tbody tr th:only-of-type {\n",
       "        vertical-align: middle;\n",
       "    }\n",
       "\n",
       "    .dataframe tbody tr th {\n",
       "        vertical-align: top;\n",
       "    }\n",
       "\n",
       "    .dataframe thead th {\n",
       "        text-align: right;\n",
       "    }\n",
       "</style>\n",
       "<table border=\"1\" class=\"dataframe\">\n",
       "  <thead>\n",
       "    <tr style=\"text-align: right;\">\n",
       "      <th></th>\n",
       "      <th>Delegates</th>\n",
       "      <th>Loan Matches</th>\n",
       "      <th>Scores</th>\n",
       "    </tr>\n",
       "  </thead>\n",
       "  <tbody>\n",
       "    <tr>\n",
       "      <td>0</td>\n",
       "      <td>William Samuel Johnson</td>\n",
       "      <td>Samuel Johnson</td>\n",
       "      <td>90.0</td>\n",
       "    </tr>\n",
       "    <tr>\n",
       "      <td>147</td>\n",
       "      <td>Luther Martin</td>\n",
       "      <td>Luther Martin</td>\n",
       "      <td>100.0</td>\n",
       "    </tr>\n",
       "  </tbody>\n",
       "</table>\n",
       "</div>"
      ],
      "text/plain": [
       "                  Delegates    Loan Matches  Scores\n",
       "0    William Samuel Johnson  Samuel Johnson    90.0\n",
       "147           Luther Martin   Luther Martin   100.0"
      ]
     },
     "metadata": {},
     "output_type": "display_data"
    }
   ],
   "source": [
    "#Read in file\n",
    "RI = pd.read_excel(\"Data/liquidated_debt_certificates_RI.xlsx\", header = 12)\n",
    "cols =  [\"Page\", \"JPEG number\",\"Number\",\"Letter\",\"Date of the Certificate: Month\",\n",
    "        \"Date of the Certificate: Day\",\"Date of the Certificate: Year\",\"First name\",\"Last name\",\n",
    "        \"Title\",\"First name 2\",\"Last name 2\",\"Title 2\",\"Time when the debt became due: Month\",\n",
    "        \"Time when the debt became due: Day\", \"Time when the debt became due: Year\",\"Dollars\",\"90th\",\n",
    "        \"8th\"]\n",
    "RI = RI[RI.columns[0:19]]\n",
    "RI.columns = cols\n",
    "\n",
    "RI = RI[RI['First name'].apply(lambda x: not pd.isnull(x))]\n",
    "\n",
    "#create full name\n",
    "RI['full name 1'] = RI['First name'] + \" \" + RI['Last name']\n",
    "RI['full name 2'] = RI['First name 2'] + \" \" + RI['Last name 2']\n",
    "\n",
    "#run merge\n",
    "RI_name_results_1 = fuzzy_merge(delegates['full name 1'], RI['full name 1'])\n",
    "RI_name_results_2 = fuzzy_merge(delegates['full name 2'], RI['full name 1'])\n",
    "RI_name_results_3 = fuzzy_merge(delegates['full name 1'], RI['full name 2'])\n",
    "RI_name_results_4 = fuzzy_merge(delegates['full name 2'], RI['full name 2'])\n",
    "\n",
    "#combine two dataframes\n",
    "RI_name_results = pd.concat([RI_name_results_1, RI_name_results_2, RI_name_results_3, RI_name_results_4]).drop_duplicates().reset_index(drop = True)\n",
    "\n",
    "#remove names with only one unique name\n",
    "RI_name_results = RI_name_results[RI_name_results['Loan Matches'].apply(lambda x: len(list(set(x.replace(\"??\", \"\").strip().split(\" \"))))>=2)]\n",
    "#run through step 2 cleaning function\n",
    "RI_name_results_update = RI_name_results[[matchFunction(x.split(\" \"), y.split(\" \")) for x, y in zip(RI_name_results['Delegates'], RI_name_results['Loan Matches'])]]\n",
    "\n",
    "with pd.option_context('display.max_rows', None, 'display.max_columns', None):  # more options can be specified also\n",
    "    display(RI_name_results_update)"
   ]
  }
 ],
 "metadata": {
  "kernelspec": {
   "display_name": "Python 3",
   "language": "python",
   "name": "python3"
  },
  "language_info": {
   "codemirror_mode": {
    "name": "ipython",
    "version": 3
   },
   "file_extension": ".py",
   "mimetype": "text/x-python",
   "name": "python",
   "nbconvert_exporter": "python",
   "pygments_lexer": "ipython3",
   "version": "3.7.4"
  }
 },
 "nbformat": 4,
 "nbformat_minor": 4
}
