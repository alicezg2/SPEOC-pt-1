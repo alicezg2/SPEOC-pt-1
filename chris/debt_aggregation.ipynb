{
 "cells": [
  {
   "cell_type": "markdown",
   "metadata": {},
   "source": [
    "<h3> Data Cleaning </h3>"
   ]
  },
  {
   "cell_type": "code",
   "execution_count": 281,
   "metadata": {},
   "outputs": [],
   "source": [
    "import numpy as np\n",
    "import pandas as pd\n",
    "import fuzzywuzzy\n",
    "from fuzzywuzzy import fuzz\n",
    "from fuzzywuzzy import process"
   ]
  },
  {
   "cell_type": "code",
   "execution_count": 282,
   "metadata": {},
   "outputs": [],
   "source": [
    "delegates = pd.read_excel(\"Data/constitutional_convention_1787.xlsx\", header = 2)\n",
    "state_delegates = pd.read_excel(\"Data/State Delegates.xlsx\", header = 2)"
   ]
  },
  {
   "cell_type": "code",
   "execution_count": 283,
   "metadata": {},
   "outputs": [],
   "source": [
    "final_matching = pd.read_csv('final_matching.csv').drop(['Unnamed: 0', 'Scores'], axis = 1)"
   ]
  },
  {
   "cell_type": "code",
   "execution_count": 284,
   "metadata": {},
   "outputs": [],
   "source": [
    "spec_names = final_matching[final_matching['Delegates'] != final_matching['Loan Matches']]"
   ]
  },
  {
   "cell_type": "code",
   "execution_count": 285,
   "metadata": {
    "collapsed": true,
    "jupyter": {
     "outputs_hidden": true
    }
   },
   "outputs": [
    {
     "name": "stdout",
     "output_type": "stream",
     "text": [
      "number of alt first names: 0\n",
      "number of alt last names: 4\n"
     ]
    },
    {
     "data": {
      "application/javascript": [
       "\n",
       "        if (window._pyforest_update_imports_cell) { window._pyforest_update_imports_cell('import re'); }\n",
       "    "
      ],
      "text/plain": [
       "<IPython.core.display.Javascript object>"
      ]
     },
     "metadata": {},
     "output_type": "display_data"
    },
    {
     "data": {
      "application/javascript": [
       "\n",
       "        if (window._pyforest_update_imports_cell) { window._pyforest_update_imports_cell('import re'); }\n",
       "    "
      ],
      "text/plain": [
       "<IPython.core.display.Javascript object>"
      ]
     },
     "metadata": {},
     "output_type": "display_data"
    },
    {
     "data": {
      "application/javascript": [
       "\n",
       "        if (window._pyforest_update_imports_cell) { window._pyforest_update_imports_cell('import re'); }\n",
       "    "
      ],
      "text/plain": [
       "<IPython.core.display.Javascript object>"
      ]
     },
     "metadata": {},
     "output_type": "display_data"
    },
    {
     "data": {
      "application/javascript": [
       "\n",
       "        if (window._pyforest_update_imports_cell) { window._pyforest_update_imports_cell('import re'); }\n",
       "    "
      ],
      "text/plain": [
       "<IPython.core.display.Javascript object>"
      ]
     },
     "metadata": {},
     "output_type": "display_data"
    },
    {
     "data": {
      "application/javascript": [
       "\n",
       "        if (window._pyforest_update_imports_cell) { window._pyforest_update_imports_cell('import re'); }\n",
       "    "
      ],
      "text/plain": [
       "<IPython.core.display.Javascript object>"
      ]
     },
     "metadata": {},
     "output_type": "display_data"
    },
    {
     "data": {
      "application/javascript": [
       "\n",
       "        if (window._pyforest_update_imports_cell) { window._pyforest_update_imports_cell('import re'); }\n",
       "    "
      ],
      "text/plain": [
       "<IPython.core.display.Javascript object>"
      ]
     },
     "metadata": {},
     "output_type": "display_data"
    },
    {
     "data": {
      "application/javascript": [
       "\n",
       "        if (window._pyforest_update_imports_cell) { window._pyforest_update_imports_cell('import re'); }\n",
       "    "
      ],
      "text/plain": [
       "<IPython.core.display.Javascript object>"
      ]
     },
     "metadata": {},
     "output_type": "display_data"
    },
    {
     "data": {
      "application/javascript": [
       "\n",
       "        if (window._pyforest_update_imports_cell) { window._pyforest_update_imports_cell('import re'); }\n",
       "    "
      ],
      "text/plain": [
       "<IPython.core.display.Javascript object>"
      ]
     },
     "metadata": {},
     "output_type": "display_data"
    },
    {
     "data": {
      "application/javascript": [
       "\n",
       "        if (window._pyforest_update_imports_cell) { window._pyforest_update_imports_cell('import re'); }\n",
       "    "
      ],
      "text/plain": [
       "<IPython.core.display.Javascript object>"
      ]
     },
     "metadata": {},
     "output_type": "display_data"
    },
    {
     "data": {
      "application/javascript": [
       "\n",
       "        if (window._pyforest_update_imports_cell) { window._pyforest_update_imports_cell('import re'); }\n",
       "    "
      ],
      "text/plain": [
       "<IPython.core.display.Javascript object>"
      ]
     },
     "metadata": {},
     "output_type": "display_data"
    },
    {
     "data": {
      "application/javascript": [
       "\n",
       "        if (window._pyforest_update_imports_cell) { window._pyforest_update_imports_cell('import re'); }\n",
       "    "
      ],
      "text/plain": [
       "<IPython.core.display.Javascript object>"
      ]
     },
     "metadata": {},
     "output_type": "display_data"
    },
    {
     "data": {
      "application/javascript": [
       "\n",
       "        if (window._pyforest_update_imports_cell) { window._pyforest_update_imports_cell('import re'); }\n",
       "    "
      ],
      "text/plain": [
       "<IPython.core.display.Javascript object>"
      ]
     },
     "metadata": {},
     "output_type": "display_data"
    },
    {
     "data": {
      "application/javascript": [
       "\n",
       "        if (window._pyforest_update_imports_cell) { window._pyforest_update_imports_cell('import re'); }\n",
       "    "
      ],
      "text/plain": [
       "<IPython.core.display.Javascript object>"
      ]
     },
     "metadata": {},
     "output_type": "display_data"
    },
    {
     "data": {
      "application/javascript": [
       "\n",
       "        if (window._pyforest_update_imports_cell) { window._pyforest_update_imports_cell('import re'); }\n",
       "    "
      ],
      "text/plain": [
       "<IPython.core.display.Javascript object>"
      ]
     },
     "metadata": {},
     "output_type": "display_data"
    },
    {
     "data": {
      "application/javascript": [
       "\n",
       "        if (window._pyforest_update_imports_cell) { window._pyforest_update_imports_cell('import re'); }\n",
       "    "
      ],
      "text/plain": [
       "<IPython.core.display.Javascript object>"
      ]
     },
     "metadata": {},
     "output_type": "display_data"
    },
    {
     "data": {
      "application/javascript": [
       "\n",
       "        if (window._pyforest_update_imports_cell) { window._pyforest_update_imports_cell('import re'); }\n",
       "    "
      ],
      "text/plain": [
       "<IPython.core.display.Javascript object>"
      ]
     },
     "metadata": {},
     "output_type": "display_data"
    },
    {
     "data": {
      "application/javascript": [
       "\n",
       "        if (window._pyforest_update_imports_cell) { window._pyforest_update_imports_cell('import re'); }\n",
       "    "
      ],
      "text/plain": [
       "<IPython.core.display.Javascript object>"
      ]
     },
     "metadata": {},
     "output_type": "display_data"
    },
    {
     "data": {
      "application/javascript": [
       "\n",
       "        if (window._pyforest_update_imports_cell) { window._pyforest_update_imports_cell('import re'); }\n",
       "    "
      ],
      "text/plain": [
       "<IPython.core.display.Javascript object>"
      ]
     },
     "metadata": {},
     "output_type": "display_data"
    },
    {
     "data": {
      "application/javascript": [
       "\n",
       "        if (window._pyforest_update_imports_cell) { window._pyforest_update_imports_cell('import re'); }\n",
       "    "
      ],
      "text/plain": [
       "<IPython.core.display.Javascript object>"
      ]
     },
     "metadata": {},
     "output_type": "display_data"
    },
    {
     "data": {
      "application/javascript": [
       "\n",
       "        if (window._pyforest_update_imports_cell) { window._pyforest_update_imports_cell('import re'); }\n",
       "    "
      ],
      "text/plain": [
       "<IPython.core.display.Javascript object>"
      ]
     },
     "metadata": {},
     "output_type": "display_data"
    },
    {
     "data": {
      "application/javascript": [
       "\n",
       "        if (window._pyforest_update_imports_cell) { window._pyforest_update_imports_cell('import re'); }\n",
       "    "
      ],
      "text/plain": [
       "<IPython.core.display.Javascript object>"
      ]
     },
     "metadata": {},
     "output_type": "display_data"
    },
    {
     "data": {
      "application/javascript": [
       "\n",
       "        if (window._pyforest_update_imports_cell) { window._pyforest_update_imports_cell('import re'); }\n",
       "    "
      ],
      "text/plain": [
       "<IPython.core.display.Javascript object>"
      ]
     },
     "metadata": {},
     "output_type": "display_data"
    },
    {
     "data": {
      "application/javascript": [
       "\n",
       "        if (window._pyforest_update_imports_cell) { window._pyforest_update_imports_cell('import re'); }\n",
       "    "
      ],
      "text/plain": [
       "<IPython.core.display.Javascript object>"
      ]
     },
     "metadata": {},
     "output_type": "display_data"
    },
    {
     "data": {
      "application/javascript": [
       "\n",
       "        if (window._pyforest_update_imports_cell) { window._pyforest_update_imports_cell('import re'); }\n",
       "    "
      ],
      "text/plain": [
       "<IPython.core.display.Javascript object>"
      ]
     },
     "metadata": {},
     "output_type": "display_data"
    },
    {
     "data": {
      "application/javascript": [
       "\n",
       "        if (window._pyforest_update_imports_cell) { window._pyforest_update_imports_cell('import re'); }\n",
       "    "
      ],
      "text/plain": [
       "<IPython.core.display.Javascript object>"
      ]
     },
     "metadata": {},
     "output_type": "display_data"
    },
    {
     "data": {
      "application/javascript": [
       "\n",
       "        if (window._pyforest_update_imports_cell) { window._pyforest_update_imports_cell('import re'); }\n",
       "    "
      ],
      "text/plain": [
       "<IPython.core.display.Javascript object>"
      ]
     },
     "metadata": {},
     "output_type": "display_data"
    },
    {
     "data": {
      "application/javascript": [
       "\n",
       "        if (window._pyforest_update_imports_cell) { window._pyforest_update_imports_cell('import re'); }\n",
       "    "
      ],
      "text/plain": [
       "<IPython.core.display.Javascript object>"
      ]
     },
     "metadata": {},
     "output_type": "display_data"
    },
    {
     "data": {
      "application/javascript": [
       "\n",
       "        if (window._pyforest_update_imports_cell) { window._pyforest_update_imports_cell('import re'); }\n",
       "    "
      ],
      "text/plain": [
       "<IPython.core.display.Javascript object>"
      ]
     },
     "metadata": {},
     "output_type": "display_data"
    },
    {
     "data": {
      "application/javascript": [
       "\n",
       "        if (window._pyforest_update_imports_cell) { window._pyforest_update_imports_cell('import re'); }\n",
       "    "
      ],
      "text/plain": [
       "<IPython.core.display.Javascript object>"
      ]
     },
     "metadata": {},
     "output_type": "display_data"
    },
    {
     "data": {
      "application/javascript": [
       "\n",
       "        if (window._pyforest_update_imports_cell) { window._pyforest_update_imports_cell('import re'); }\n",
       "    "
      ],
      "text/plain": [
       "<IPython.core.display.Javascript object>"
      ]
     },
     "metadata": {},
     "output_type": "display_data"
    },
    {
     "data": {
      "application/javascript": [
       "\n",
       "        if (window._pyforest_update_imports_cell) { window._pyforest_update_imports_cell('import re'); }\n",
       "    "
      ],
      "text/plain": [
       "<IPython.core.display.Javascript object>"
      ]
     },
     "metadata": {},
     "output_type": "display_data"
    },
    {
     "data": {
      "application/javascript": [
       "\n",
       "        if (window._pyforest_update_imports_cell) { window._pyforest_update_imports_cell('import re'); }\n",
       "    "
      ],
      "text/plain": [
       "<IPython.core.display.Javascript object>"
      ]
     },
     "metadata": {},
     "output_type": "display_data"
    },
    {
     "data": {
      "application/javascript": [
       "\n",
       "        if (window._pyforest_update_imports_cell) { window._pyforest_update_imports_cell('import re'); }\n",
       "    "
      ],
      "text/plain": [
       "<IPython.core.display.Javascript object>"
      ]
     },
     "metadata": {},
     "output_type": "display_data"
    },
    {
     "data": {
      "application/javascript": [
       "\n",
       "        if (window._pyforest_update_imports_cell) { window._pyforest_update_imports_cell('import re'); }\n",
       "    "
      ],
      "text/plain": [
       "<IPython.core.display.Javascript object>"
      ]
     },
     "metadata": {},
     "output_type": "display_data"
    },
    {
     "data": {
      "application/javascript": [
       "\n",
       "        if (window._pyforest_update_imports_cell) { window._pyforest_update_imports_cell('import re'); }\n",
       "    "
      ],
      "text/plain": [
       "<IPython.core.display.Javascript object>"
      ]
     },
     "metadata": {},
     "output_type": "display_data"
    },
    {
     "data": {
      "application/javascript": [
       "\n",
       "        if (window._pyforest_update_imports_cell) { window._pyforest_update_imports_cell('import re'); }\n",
       "    "
      ],
      "text/plain": [
       "<IPython.core.display.Javascript object>"
      ]
     },
     "metadata": {},
     "output_type": "display_data"
    },
    {
     "data": {
      "application/javascript": [
       "\n",
       "        if (window._pyforest_update_imports_cell) { window._pyforest_update_imports_cell('import re'); }\n",
       "    "
      ],
      "text/plain": [
       "<IPython.core.display.Javascript object>"
      ]
     },
     "metadata": {},
     "output_type": "display_data"
    },
    {
     "data": {
      "application/javascript": [
       "\n",
       "        if (window._pyforest_update_imports_cell) { window._pyforest_update_imports_cell('import re'); }\n",
       "    "
      ],
      "text/plain": [
       "<IPython.core.display.Javascript object>"
      ]
     },
     "metadata": {},
     "output_type": "display_data"
    },
    {
     "data": {
      "application/javascript": [
       "\n",
       "        if (window._pyforest_update_imports_cell) { window._pyforest_update_imports_cell('import re'); }\n",
       "    "
      ],
      "text/plain": [
       "<IPython.core.display.Javascript object>"
      ]
     },
     "metadata": {},
     "output_type": "display_data"
    },
    {
     "data": {
      "application/javascript": [
       "\n",
       "        if (window._pyforest_update_imports_cell) { window._pyforest_update_imports_cell('import re'); }\n",
       "    "
      ],
      "text/plain": [
       "<IPython.core.display.Javascript object>"
      ]
     },
     "metadata": {},
     "output_type": "display_data"
    },
    {
     "data": {
      "application/javascript": [
       "\n",
       "        if (window._pyforest_update_imports_cell) { window._pyforest_update_imports_cell('import re'); }\n",
       "    "
      ],
      "text/plain": [
       "<IPython.core.display.Javascript object>"
      ]
     },
     "metadata": {},
     "output_type": "display_data"
    },
    {
     "data": {
      "application/javascript": [
       "\n",
       "        if (window._pyforest_update_imports_cell) { window._pyforest_update_imports_cell('import re'); }\n",
       "    "
      ],
      "text/plain": [
       "<IPython.core.display.Javascript object>"
      ]
     },
     "metadata": {},
     "output_type": "display_data"
    },
    {
     "data": {
      "application/javascript": [
       "\n",
       "        if (window._pyforest_update_imports_cell) { window._pyforest_update_imports_cell('import re'); }\n",
       "    "
      ],
      "text/plain": [
       "<IPython.core.display.Javascript object>"
      ]
     },
     "metadata": {},
     "output_type": "display_data"
    },
    {
     "data": {
      "application/javascript": [
       "\n",
       "        if (window._pyforest_update_imports_cell) { window._pyforest_update_imports_cell('import re'); }\n",
       "    "
      ],
      "text/plain": [
       "<IPython.core.display.Javascript object>"
      ]
     },
     "metadata": {},
     "output_type": "display_data"
    },
    {
     "data": {
      "application/javascript": [
       "\n",
       "        if (window._pyforest_update_imports_cell) { window._pyforest_update_imports_cell('import re'); }\n",
       "    "
      ],
      "text/plain": [
       "<IPython.core.display.Javascript object>"
      ]
     },
     "metadata": {},
     "output_type": "display_data"
    },
    {
     "data": {
      "application/javascript": [
       "\n",
       "        if (window._pyforest_update_imports_cell) { window._pyforest_update_imports_cell('import re'); }\n",
       "    "
      ],
      "text/plain": [
       "<IPython.core.display.Javascript object>"
      ]
     },
     "metadata": {},
     "output_type": "display_data"
    },
    {
     "data": {
      "application/javascript": [
       "\n",
       "        if (window._pyforest_update_imports_cell) { window._pyforest_update_imports_cell('import re'); }\n",
       "    "
      ],
      "text/plain": [
       "<IPython.core.display.Javascript object>"
      ]
     },
     "metadata": {},
     "output_type": "display_data"
    },
    {
     "data": {
      "application/javascript": [
       "\n",
       "        if (window._pyforest_update_imports_cell) { window._pyforest_update_imports_cell('import re'); }\n",
       "    "
      ],
      "text/plain": [
       "<IPython.core.display.Javascript object>"
      ]
     },
     "metadata": {},
     "output_type": "display_data"
    },
    {
     "data": {
      "application/javascript": [
       "\n",
       "        if (window._pyforest_update_imports_cell) { window._pyforest_update_imports_cell('import re'); }\n",
       "    "
      ],
      "text/plain": [
       "<IPython.core.display.Javascript object>"
      ]
     },
     "metadata": {},
     "output_type": "display_data"
    },
    {
     "data": {
      "application/javascript": [
       "\n",
       "        if (window._pyforest_update_imports_cell) { window._pyforest_update_imports_cell('import re'); }\n",
       "    "
      ],
      "text/plain": [
       "<IPython.core.display.Javascript object>"
      ]
     },
     "metadata": {},
     "output_type": "display_data"
    },
    {
     "data": {
      "application/javascript": [
       "\n",
       "        if (window._pyforest_update_imports_cell) { window._pyforest_update_imports_cell('import re'); }\n",
       "    "
      ],
      "text/plain": [
       "<IPython.core.display.Javascript object>"
      ]
     },
     "metadata": {},
     "output_type": "display_data"
    },
    {
     "data": {
      "application/javascript": [
       "\n",
       "        if (window._pyforest_update_imports_cell) { window._pyforest_update_imports_cell('import re'); }\n",
       "    "
      ],
      "text/plain": [
       "<IPython.core.display.Javascript object>"
      ]
     },
     "metadata": {},
     "output_type": "display_data"
    },
    {
     "data": {
      "application/javascript": [
       "\n",
       "        if (window._pyforest_update_imports_cell) { window._pyforest_update_imports_cell('import re'); }\n",
       "    "
      ],
      "text/plain": [
       "<IPython.core.display.Javascript object>"
      ]
     },
     "metadata": {},
     "output_type": "display_data"
    },
    {
     "data": {
      "application/javascript": [
       "\n",
       "        if (window._pyforest_update_imports_cell) { window._pyforest_update_imports_cell('import re'); }\n",
       "    "
      ],
      "text/plain": [
       "<IPython.core.display.Javascript object>"
      ]
     },
     "metadata": {},
     "output_type": "display_data"
    },
    {
     "data": {
      "application/javascript": [
       "\n",
       "        if (window._pyforest_update_imports_cell) { window._pyforest_update_imports_cell('import re'); }\n",
       "    "
      ],
      "text/plain": [
       "<IPython.core.display.Javascript object>"
      ]
     },
     "metadata": {},
     "output_type": "display_data"
    }
   ],
   "source": [
    "#cleaning strings for constitutional convention delegates\n",
    "delegates['state'] = [x.strip() for x in delegates['state']]\n",
    "delegates['sign'] = [x.strip() for x in delegates['sign?']]\n",
    "delegates['first name'] = [x.strip() for x in delegates['first name']]\n",
    "delegates['last name'] = [x.strip() for x in delegates['last name']]\n",
    "\n",
    "#might want to separate names with parentheses into last name 1/2\n",
    "sumaltfirst = sum([\"(\" in x for x in delegates['first name']])\n",
    "print(\"number of alt first names:\", sumaltfirst)\n",
    "\n",
    "sumaltlast = sum([\"(\" in x for x in delegates['last name']])\n",
    "print(\"number of alt last names:\", sumaltlast)\n",
    "\n",
    "#handle special case\n",
    "delegates.loc[40, 'last name 2'] = 'Fitzsimons (Fitzsimmons)'\n",
    "\n",
    "#construct full names for delegate files\n",
    "delegates['last name 2'] = [np.nan if \"(\" not in x else  x[x.find(\"(\")+1:].replace(\")\",\"\")  for x in delegates['last name']]\n",
    "delegates['last name'] = delegates['last name'].apply(lambda x: re.sub(r'\\([^)]*\\)', '', x).strip())\n",
    "delegates['full name 1'] = delegates['first name'] + \" \" + delegates['last name']\n",
    "delegates['full name 2'] = delegates['first name'] + \" \" + delegates['last name 2']"
   ]
  },
  {
   "cell_type": "code",
   "execution_count": 286,
   "metadata": {},
   "outputs": [],
   "source": [
    "#cleaning strings for state convention delegates\n",
    "missing_ind = state_delegates[state_delegates['First Name'].apply(lambda x: type(x) != str)].index\n",
    "state_delegates.loc[missing_ind, 'First Name'] = ['William', 'Ebenezer']\n",
    "\n",
    "state_delegates['full name 1'] = state_delegates['First Name'] + \" \" + state_delegates['Last Name']"
   ]
  },
  {
   "cell_type": "markdown",
   "metadata": {},
   "source": [
    "# Delegate Asset Database"
   ]
  },
  {
   "cell_type": "code",
   "execution_count": 287,
   "metadata": {},
   "outputs": [
    {
     "name": "stderr",
     "output_type": "stream",
     "text": [
      "/opt/anaconda3/lib/python3.7/site-packages/ipykernel_launcher.py:4: FutureWarning: Sorting because non-concatenation axis is not aligned. A future version\n",
      "of pandas will change to not sort by default.\n",
      "\n",
      "To accept the future behavior, pass 'sort=False'.\n",
      "\n",
      "To retain the current behavior and silence the warning, pass 'sort=True'.\n",
      "\n",
      "  after removing the cwd from sys.path.\n"
     ]
    }
   ],
   "source": [
    "delegates_assets = delegates[['full name 1', 'full name 2', 'sign']]\n",
    "state_delegate_assets = state_delegates[['full name 1', 'State', 'Vote']]\n",
    "state_delegate_assets.rename(columns = {\"Vote\":\"sign\", \"State\":\"delegate_state\"}, inplace = True)\n",
    "total_assets = pd.concat([delegates_assets, state_delegate_assets]).reset_index(drop = True)"
   ]
  },
  {
   "cell_type": "code",
   "execution_count": 288,
   "metadata": {},
   "outputs": [],
   "source": [
    "#amending existing cases"
   ]
  },
  {
   "cell_type": "code",
   "execution_count": 289,
   "metadata": {},
   "outputs": [
    {
     "name": "stderr",
     "output_type": "stream",
     "text": [
      "/opt/anaconda3/lib/python3.7/site-packages/ipykernel_launcher.py:4: SettingWithCopyWarning: \n",
      "A value is trying to be set on a copy of a slice from a DataFrame\n",
      "\n",
      "See the caveats in the documentation: http://pandas.pydata.org/pandas-docs/stable/user_guide/indexing.html#returning-a-view-versus-a-copy\n",
      "  after removing the cwd from sys.path.\n"
     ]
    }
   ],
   "source": [
    "add_total_assets = total_assets[total_assets['full name 2'].apply(lambda x: not pd.isnull(x))]\n",
    "new = add_total_assets.loc[[40]]\n",
    "new['full name 2'] = 'Thomas Fitzsimmons'\n",
    "add_total_assets.loc[40, 'full name 2'] = ' Thomas FitzSimons'\n",
    "add_total_assets = pd.concat([add_total_assets, new])"
   ]
  },
  {
   "cell_type": "code",
   "execution_count": 290,
   "metadata": {},
   "outputs": [
    {
     "data": {
      "text/html": [
       "<div>\n",
       "<style scoped>\n",
       "    .dataframe tbody tr th:only-of-type {\n",
       "        vertical-align: middle;\n",
       "    }\n",
       "\n",
       "    .dataframe tbody tr th {\n",
       "        vertical-align: top;\n",
       "    }\n",
       "\n",
       "    .dataframe thead th {\n",
       "        text-align: right;\n",
       "    }\n",
       "</style>\n",
       "<table border=\"1\" class=\"dataframe\">\n",
       "  <thead>\n",
       "    <tr style=\"text-align: right;\">\n",
       "      <th></th>\n",
       "      <th>delegate_state</th>\n",
       "      <th>full name 1</th>\n",
       "      <th>full name 2</th>\n",
       "      <th>sign</th>\n",
       "    </tr>\n",
       "  </thead>\n",
       "  <tbody>\n",
       "    <tr>\n",
       "      <td>873</td>\n",
       "      <td>MA</td>\n",
       "      <td>A. Fisher</td>\n",
       "      <td>A. Fisher</td>\n",
       "      <td>yes</td>\n",
       "    </tr>\n",
       "    <tr>\n",
       "      <td>850</td>\n",
       "      <td>MA</td>\n",
       "      <td>A. Fisk</td>\n",
       "      <td>A. Fisk</td>\n",
       "      <td>no</td>\n",
       "    </tr>\n",
       "    <tr>\n",
       "      <td>790</td>\n",
       "      <td>MA</td>\n",
       "      <td>A. Fuller</td>\n",
       "      <td>A. Fuller</td>\n",
       "      <td>yes</td>\n",
       "    </tr>\n",
       "    <tr>\n",
       "      <td>816</td>\n",
       "      <td>MA</td>\n",
       "      <td>A. Parlin</td>\n",
       "      <td>A. Parlin</td>\n",
       "      <td>no</td>\n",
       "    </tr>\n",
       "    <tr>\n",
       "      <td>177</td>\n",
       "      <td>CT</td>\n",
       "      <td>Aaron Austin</td>\n",
       "      <td>Aaron Austin</td>\n",
       "      <td>yes</td>\n",
       "    </tr>\n",
       "    <tr>\n",
       "      <td>...</td>\n",
       "      <td>...</td>\n",
       "      <td>...</td>\n",
       "      <td>...</td>\n",
       "      <td>...</td>\n",
       "    </tr>\n",
       "    <tr>\n",
       "      <td>1557</td>\n",
       "      <td>NC</td>\n",
       "      <td>Zebedee Wood</td>\n",
       "      <td>Zebedee Wood</td>\n",
       "      <td>no</td>\n",
       "    </tr>\n",
       "    <tr>\n",
       "      <td>157</td>\n",
       "      <td>CT</td>\n",
       "      <td>Zebulon Peck, Jun.</td>\n",
       "      <td>Zebulon Peck, Jun.</td>\n",
       "      <td>yes</td>\n",
       "    </tr>\n",
       "    <tr>\n",
       "      <td>1053</td>\n",
       "      <td>MA</td>\n",
       "      <td>Zenas Noble</td>\n",
       "      <td>Zenas Noble</td>\n",
       "      <td>no</td>\n",
       "    </tr>\n",
       "    <tr>\n",
       "      <td>579</td>\n",
       "      <td>NY</td>\n",
       "      <td>Zephaniah Platt</td>\n",
       "      <td>Zephaniah Platt</td>\n",
       "      <td>yes</td>\n",
       "    </tr>\n",
       "    <tr>\n",
       "      <td>345</td>\n",
       "      <td>MD</td>\n",
       "      <td>Zephaniah Turner</td>\n",
       "      <td>Zephaniah Turner</td>\n",
       "      <td>yes</td>\n",
       "    </tr>\n",
       "  </tbody>\n",
       "</table>\n",
       "<p>1756 rows × 4 columns</p>\n",
       "</div>"
      ],
      "text/plain": [
       "     delegate_state         full name 1         full name 2 sign\n",
       "873              MA           A. Fisher           A. Fisher  yes\n",
       "850              MA             A. Fisk             A. Fisk   no\n",
       "790              MA           A. Fuller           A. Fuller  yes\n",
       "816              MA           A. Parlin           A. Parlin   no\n",
       "177              CT        Aaron Austin        Aaron Austin  yes\n",
       "...             ...                 ...                 ...  ...\n",
       "1557             NC        Zebedee Wood        Zebedee Wood   no\n",
       "157              CT  Zebulon Peck, Jun.  Zebulon Peck, Jun.  yes\n",
       "1053             MA         Zenas Noble         Zenas Noble   no\n",
       "579              NY     Zephaniah Platt     Zephaniah Platt  yes\n",
       "345              MD    Zephaniah Turner    Zephaniah Turner  yes\n",
       "\n",
       "[1756 rows x 4 columns]"
      ]
     },
     "execution_count": 290,
     "metadata": {},
     "output_type": "execute_result"
    }
   ],
   "source": [
    "total_assets['full name 2'] = total_assets['full name 1']\n",
    "total_assets_full = pd.concat([total_assets, add_total_assets])\n",
    "total_assets_full.sort_values('full name 1')"
   ]
  },
  {
   "cell_type": "code",
   "execution_count": 291,
   "metadata": {},
   "outputs": [],
   "source": [
    "merge_1 = pd.merge(total_assets_full.drop('full name 2', axis = 1), \n",
    "                   spec_names, left_on = 'full name 1', \n",
    "                   right_on = 'Delegates').drop('full name 1', axis = 1)\n",
    "merge_2 = pd.merge(total_assets_full.drop('full name 1', axis = 1), \n",
    "                   spec_names, left_on = 'full name 2', \n",
    "                   right_on = 'Delegates').drop('full name 2', axis = 1)\n",
    "merged = pd.concat([merge_1, merge_2]).drop_duplicates()"
   ]
  },
  {
   "cell_type": "code",
   "execution_count": 292,
   "metadata": {},
   "outputs": [],
   "source": [
    "total_assets_full.columns = ['delegate_state', 'delegate name', 'match name', 'sign']\n",
    "merged.columns =  ['delegate_state', 'sign',  'delegate name', 'match name']"
   ]
  },
  {
   "cell_type": "code",
   "execution_count": 293,
   "metadata": {},
   "outputs": [
    {
     "name": "stderr",
     "output_type": "stream",
     "text": [
      "/opt/anaconda3/lib/python3.7/site-packages/ipykernel_launcher.py:1: FutureWarning: Sorting because non-concatenation axis is not aligned. A future version\n",
      "of pandas will change to not sort by default.\n",
      "\n",
      "To accept the future behavior, pass 'sort=False'.\n",
      "\n",
      "To retain the current behavior and silence the warning, pass 'sort=True'.\n",
      "\n",
      "  \"\"\"Entry point for launching an IPython kernel.\n"
     ]
    }
   ],
   "source": [
    "total_assets_final = pd.concat([total_assets_full, merged])"
   ]
  },
  {
   "cell_type": "markdown",
   "metadata": {},
   "source": [
    "# Loans Dataset Matching"
   ]
  },
  {
   "cell_type": "code",
   "execution_count": 294,
   "metadata": {},
   "outputs": [],
   "source": [
    "#prepare loan dataset\n",
    "loans = pd.read_csv(\"loan_office_certificates_9_states_cleaned.csv\").drop('Unnamed: 0', axis = 1)\n",
    "\n",
    "loans = loans.rename(columns = {\"First Name 1 \":\"First Name 1\",\n",
    "                                \"Last Name 1 \":\"Last Name 1\",\n",
    "                                \"Specie Value \":\"Specie Value\"})\n",
    "\n",
    "loans['full name 1'] = loans['First Name 1'] + \" \" + loans['Last Name 1']\n",
    "loans['full name 2'] = loans['First Name 2'] + \" \" + loans['Last Name 2']\n",
    "loans['full name 3'] = loans['First Name 3'] + \" \" + loans['Last Name 3']"
   ]
  },
  {
   "cell_type": "code",
   "execution_count": 295,
   "metadata": {},
   "outputs": [],
   "source": [
    "#specie, face and num"
   ]
  },
  {
   "cell_type": "code",
   "execution_count": 296,
   "metadata": {},
   "outputs": [
    {
     "data": {
      "text/html": [
       "<div>\n",
       "<style scoped>\n",
       "    .dataframe tbody tr th:only-of-type {\n",
       "        vertical-align: middle;\n",
       "    }\n",
       "\n",
       "    .dataframe tbody tr th {\n",
       "        vertical-align: top;\n",
       "    }\n",
       "\n",
       "    .dataframe thead tr th {\n",
       "        text-align: left;\n",
       "    }\n",
       "\n",
       "    .dataframe thead tr:last-of-type th {\n",
       "        text-align: right;\n",
       "    }\n",
       "</style>\n",
       "<table border=\"1\" class=\"dataframe\">\n",
       "  <thead>\n",
       "    <tr>\n",
       "      <th></th>\n",
       "      <th></th>\n",
       "      <th></th>\n",
       "      <th colspan=\"2\" halign=\"left\">Face Value</th>\n",
       "      <th colspan=\"2\" halign=\"left\">Specie Value</th>\n",
       "    </tr>\n",
       "    <tr>\n",
       "      <th></th>\n",
       "      <th></th>\n",
       "      <th></th>\n",
       "      <th>sum</th>\n",
       "      <th>count</th>\n",
       "      <th>sum</th>\n",
       "      <th>count</th>\n",
       "    </tr>\n",
       "    <tr>\n",
       "      <th>delegate name</th>\n",
       "      <th>delegate_state</th>\n",
       "      <th>sign</th>\n",
       "      <th></th>\n",
       "      <th></th>\n",
       "      <th></th>\n",
       "      <th></th>\n",
       "    </tr>\n",
       "  </thead>\n",
       "  <tbody>\n",
       "    <tr>\n",
       "      <td>Aaron Austin</td>\n",
       "      <td>CT</td>\n",
       "      <td>yes</td>\n",
       "      <td>3700</td>\n",
       "      <td>3</td>\n",
       "      <td>180.066670</td>\n",
       "      <td>3</td>\n",
       "    </tr>\n",
       "    <tr>\n",
       "      <td>Aaron Wood</td>\n",
       "      <td>MA</td>\n",
       "      <td>no</td>\n",
       "      <td>600</td>\n",
       "      <td>1</td>\n",
       "      <td>66.725000</td>\n",
       "      <td>1</td>\n",
       "    </tr>\n",
       "    <tr>\n",
       "      <td>Abraham Faw</td>\n",
       "      <td>MD</td>\n",
       "      <td>yes</td>\n",
       "      <td>400</td>\n",
       "      <td>1</td>\n",
       "      <td>35.538890</td>\n",
       "      <td>1</td>\n",
       "    </tr>\n",
       "    <tr>\n",
       "      <td>Abraham Holmes</td>\n",
       "      <td>MA</td>\n",
       "      <td>no</td>\n",
       "      <td>13200</td>\n",
       "      <td>8</td>\n",
       "      <td>527.525000</td>\n",
       "      <td>8</td>\n",
       "    </tr>\n",
       "    <tr>\n",
       "      <td>Abraham Smith</td>\n",
       "      <td>MA</td>\n",
       "      <td>no</td>\n",
       "      <td>300</td>\n",
       "      <td>1</td>\n",
       "      <td>123.491700</td>\n",
       "      <td>1</td>\n",
       "    </tr>\n",
       "    <tr>\n",
       "      <td>...</td>\n",
       "      <td>...</td>\n",
       "      <td>...</td>\n",
       "      <td>...</td>\n",
       "      <td>...</td>\n",
       "      <td>...</td>\n",
       "      <td>...</td>\n",
       "    </tr>\n",
       "    <tr>\n",
       "      <td>William White</td>\n",
       "      <td>VA</td>\n",
       "      <td>no</td>\n",
       "      <td>11400</td>\n",
       "      <td>18</td>\n",
       "      <td>1197.584500</td>\n",
       "      <td>18</td>\n",
       "    </tr>\n",
       "    <tr>\n",
       "      <td>William Williams</td>\n",
       "      <td>CT</td>\n",
       "      <td>yes</td>\n",
       "      <td>20600</td>\n",
       "      <td>46</td>\n",
       "      <td>5493.756885</td>\n",
       "      <td>46</td>\n",
       "    </tr>\n",
       "    <tr>\n",
       "      <td>William Wilson</td>\n",
       "      <td>PA</td>\n",
       "      <td>yes</td>\n",
       "      <td>2800</td>\n",
       "      <td>9</td>\n",
       "      <td>272.002770</td>\n",
       "      <td>9</td>\n",
       "    </tr>\n",
       "    <tr>\n",
       "      <td>William Woodhull</td>\n",
       "      <td>NJ</td>\n",
       "      <td>yes</td>\n",
       "      <td>1000</td>\n",
       "      <td>2</td>\n",
       "      <td>51.069440</td>\n",
       "      <td>2</td>\n",
       "    </tr>\n",
       "    <tr>\n",
       "      <td>Williams John</td>\n",
       "      <td>RI</td>\n",
       "      <td>no</td>\n",
       "      <td>100300</td>\n",
       "      <td>163</td>\n",
       "      <td>9134.590290</td>\n",
       "      <td>163</td>\n",
       "    </tr>\n",
       "  </tbody>\n",
       "</table>\n",
       "<p>414 rows × 4 columns</p>\n",
       "</div>"
      ],
      "text/plain": [
       "                                     Face Value       Specie Value      \n",
       "                                            sum count          sum count\n",
       "delegate name    delegate_state sign                                    \n",
       "Aaron Austin     CT             yes        3700     3   180.066670     3\n",
       "Aaron Wood       MA             no          600     1    66.725000     1\n",
       "Abraham Faw      MD             yes         400     1    35.538890     1\n",
       "Abraham Holmes   MA             no        13200     8   527.525000     8\n",
       "Abraham Smith    MA             no          300     1   123.491700     1\n",
       "...                                         ...   ...          ...   ...\n",
       "William White    VA             no        11400    18  1197.584500    18\n",
       "William Williams CT             yes       20600    46  5493.756885    46\n",
       "William Wilson   PA             yes        2800     9   272.002770     9\n",
       "William Woodhull NJ             yes        1000     2    51.069440     2\n",
       "Williams John    RI             no       100300   163  9134.590290   163\n",
       "\n",
       "[414 rows x 4 columns]"
      ]
     },
     "execution_count": 296,
     "metadata": {},
     "output_type": "execute_result"
    }
   ],
   "source": [
    "loans['index'] = loans.index\n",
    "\n",
    "loan_small_f1 = loans[['State', 'Year', 'Month', 'Day', 'full name 1', 'Face Value','Specie Value', 'notes', 'original text', 'index']]\n",
    "loan_small_f2 = loans[['State', 'Year', 'Month', 'Day', 'full name 2', 'Face Value','Specie Value', 'notes', 'original text', 'index']]\n",
    "loan_small_f3 = loans[['State', 'Year', 'Month', 'Day', 'full name 3', 'Face Value','Specie Value', 'notes', 'original text', 'index']]\n",
    "loan_office_cert_assets = pd.merge(total_assets_final,\n",
    "                                   loan_small_f1[loan_small_f1['full name 1'].apply(lambda x: not pd.isnull(x))],\n",
    "                                   left_on = 'match name', right_on = 'full name 1').drop('full name 1', axis = 1)\n",
    "add_to_assets = pd.merge(total_assets_final,\n",
    "                         loan_small_f2[loan_small_f2['full name 2'].apply(lambda x: not pd.isnull(x))],\n",
    "                         left_on = 'match name', right_on = 'full name 2').drop('full name 2', axis = 1)\n",
    "loan_office_cert_assets = pd.concat([loan_office_cert_assets, add_to_assets])\n",
    "add_to_assets = pd.merge(total_assets_final,\n",
    "                         loan_small_f3[loan_small_f3['full name 3'].apply(lambda x: not pd.isnull(x))],\n",
    "                         left_on = 'match name', right_on = 'full name 3').drop('full name 3', axis = 1)\n",
    "loan_office_cert_assets = pd.concat([loan_office_cert_assets, add_to_assets])\n",
    "loan_office_cert_assets = loan_office_cert_assets.drop_duplicates(['delegate name', 'index'])\n",
    "loan_office_cert_assets['delegate_state'] = loan_office_cert_assets['delegate_state'].apply(lambda x: 'Constitution' if pd.isnull(x) else x)\n",
    "\n",
    "loan_office_cert_assets_agg = loan_office_cert_assets.groupby(['delegate name',  'delegate_state', 'sign'])[['Face Value', 'Specie Value']].agg(['sum','count'])\n",
    "loan_office_cert_assets_agg"
   ]
  },
  {
   "cell_type": "code",
   "execution_count": 323,
   "metadata": {},
   "outputs": [],
   "source": [
    "loan_office_cert_assets_agg.to_csv('Loan_Office_Certificates_Matched.csv')"
   ]
  },
  {
   "cell_type": "markdown",
   "metadata": {},
   "source": [
    "# Pierce Certificates"
   ]
  },
  {
   "cell_type": "code",
   "execution_count": 297,
   "metadata": {},
   "outputs": [],
   "source": [
    "#prepare pierce certificates\n",
    "pierce = pd.read_excel(\"Data/Pierce_Certs_cleaned_2019.xlsx\")\n",
    "\n",
    "#clean first and last names\n",
    "pierce = pierce[pierce['First'].apply(lambda x: not pd.isnull(x))]\n",
    "pierce_ind = pierce[pierce['Last'].apply(lambda x: type(x) != str)].index\n",
    "#fix issue with types for names\n",
    "pierce.loc[pierce_ind, 'Last'] = ['True'] * len(pierce_ind)\n",
    "#create full name\n",
    "pierce['full name 1'] = pierce['First'] + \" \" + pierce['Last']"
   ]
  },
  {
   "cell_type": "code",
   "execution_count": 298,
   "metadata": {},
   "outputs": [
    {
     "data": {
      "text/html": [
       "<div>\n",
       "<style scoped>\n",
       "    .dataframe tbody tr th:only-of-type {\n",
       "        vertical-align: middle;\n",
       "    }\n",
       "\n",
       "    .dataframe tbody tr th {\n",
       "        vertical-align: top;\n",
       "    }\n",
       "\n",
       "    .dataframe thead tr th {\n",
       "        text-align: left;\n",
       "    }\n",
       "\n",
       "    .dataframe thead tr:last-of-type th {\n",
       "        text-align: right;\n",
       "    }\n",
       "</style>\n",
       "<table border=\"1\" class=\"dataframe\">\n",
       "  <thead>\n",
       "    <tr>\n",
       "      <th></th>\n",
       "      <th></th>\n",
       "      <th></th>\n",
       "      <th colspan=\"2\" halign=\"left\">Value</th>\n",
       "    </tr>\n",
       "    <tr>\n",
       "      <th></th>\n",
       "      <th></th>\n",
       "      <th></th>\n",
       "      <th>sum</th>\n",
       "      <th>count</th>\n",
       "    </tr>\n",
       "    <tr>\n",
       "      <th>delegate name</th>\n",
       "      <th>delegate_state</th>\n",
       "      <th>sign</th>\n",
       "      <th></th>\n",
       "      <th></th>\n",
       "    </tr>\n",
       "  </thead>\n",
       "  <tbody>\n",
       "    <tr>\n",
       "      <td>Aaron Hall</td>\n",
       "      <td>NH</td>\n",
       "      <td>yes</td>\n",
       "      <td>67.20</td>\n",
       "      <td>2</td>\n",
       "    </tr>\n",
       "    <tr>\n",
       "      <td>Aaron Wood</td>\n",
       "      <td>MA</td>\n",
       "      <td>no</td>\n",
       "      <td>120.60</td>\n",
       "      <td>2</td>\n",
       "    </tr>\n",
       "    <tr>\n",
       "      <td>Abraham Baldwin</td>\n",
       "      <td>Constitution</td>\n",
       "      <td>yes</td>\n",
       "      <td>3746.75</td>\n",
       "      <td>6</td>\n",
       "    </tr>\n",
       "    <tr>\n",
       "      <td>Abraham Smith</td>\n",
       "      <td>MA</td>\n",
       "      <td>no</td>\n",
       "      <td>290.20</td>\n",
       "      <td>5</td>\n",
       "    </tr>\n",
       "    <tr>\n",
       "      <td>Abraham Stout</td>\n",
       "      <td>PA</td>\n",
       "      <td>yes</td>\n",
       "      <td>2014.50</td>\n",
       "      <td>5</td>\n",
       "    </tr>\n",
       "    <tr>\n",
       "      <td>...</td>\n",
       "      <td>...</td>\n",
       "      <td>...</td>\n",
       "      <td>...</td>\n",
       "      <td>...</td>\n",
       "    </tr>\n",
       "    <tr>\n",
       "      <td>William White</td>\n",
       "      <td>VA</td>\n",
       "      <td>no</td>\n",
       "      <td>4272.54</td>\n",
       "      <td>26</td>\n",
       "    </tr>\n",
       "    <tr>\n",
       "      <td>William Williams</td>\n",
       "      <td>CT</td>\n",
       "      <td>yes</td>\n",
       "      <td>3765.59</td>\n",
       "      <td>45</td>\n",
       "    </tr>\n",
       "    <tr>\n",
       "      <td>William Wilson</td>\n",
       "      <td>PA</td>\n",
       "      <td>yes</td>\n",
       "      <td>334.70</td>\n",
       "      <td>7</td>\n",
       "    </tr>\n",
       "    <tr>\n",
       "      <td>Williams John</td>\n",
       "      <td>RI</td>\n",
       "      <td>no</td>\n",
       "      <td>6812.95</td>\n",
       "      <td>62</td>\n",
       "    </tr>\n",
       "    <tr>\n",
       "      <td>Zachariah Johnston</td>\n",
       "      <td>VA</td>\n",
       "      <td>yes</td>\n",
       "      <td>147.20</td>\n",
       "      <td>1</td>\n",
       "    </tr>\n",
       "  </tbody>\n",
       "</table>\n",
       "<p>443 rows × 2 columns</p>\n",
       "</div>"
      ],
      "text/plain": [
       "                                          Value      \n",
       "                                            sum count\n",
       "delegate name      delegate_state sign               \n",
       "Aaron Hall         NH             yes     67.20     2\n",
       "Aaron Wood         MA             no     120.60     2\n",
       "Abraham Baldwin    Constitution   yes   3746.75     6\n",
       "Abraham Smith      MA             no     290.20     5\n",
       "Abraham Stout      PA             yes   2014.50     5\n",
       "...                                         ...   ...\n",
       "William White      VA             no    4272.54    26\n",
       "William Williams   CT             yes   3765.59    45\n",
       "William Wilson     PA             yes    334.70     7\n",
       "Williams John      RI             no    6812.95    62\n",
       "Zachariah Johnston VA             yes    147.20     1\n",
       "\n",
       "[443 rows x 2 columns]"
      ]
     },
     "execution_count": 298,
     "metadata": {},
     "output_type": "execute_result"
    }
   ],
   "source": [
    "pierce_small_f1 = pierce[['State','full name 1', 'Value', 'CN']]\n",
    "pierce_cert_assets = pd.merge(total_assets_final,\n",
    "                              pierce_small_f1[pierce_small_f1['full name 1'].apply(lambda x: not pd.isnull(x))],\n",
    "                              left_on = 'match name', right_on = 'full name 1').drop('full name 1', axis = 1)\n",
    "pierce_cert_assets = pierce_cert_assets.drop_duplicates(['delegate name', 'CN'])\n",
    "pierce_cert_assets['delegate_state'] = pierce_cert_assets['delegate_state'].apply(lambda x: 'Constitution' if pd.isnull(x) else x)\n",
    "\n",
    "pierce_cert_assets_agg = pierce_cert_assets.groupby(['delegate name',  'delegate_state', 'sign'])[['Value']].agg(['sum','count'])\n",
    "pierce_cert_assets_agg"
   ]
  },
  {
   "cell_type": "code",
   "execution_count": 324,
   "metadata": {},
   "outputs": [],
   "source": [
    "pierce_cert_assets_agg.to_csv('Pierce_Certificates_Matched.csv')"
   ]
  },
  {
   "cell_type": "markdown",
   "metadata": {},
   "source": [
    "# Marine Certificates"
   ]
  },
  {
   "cell_type": "code",
   "execution_count": 299,
   "metadata": {},
   "outputs": [],
   "source": [
    "#Read in file\n",
    "marine = pd.read_excel(\"Data/Marine_Liquidated_Debt_Certificates.xlsx\", header = 11)\n",
    "cols = marine.columns = [\"Page\",\"JPEG number\",\"Number\",\"Letter\",\"Date of the Certificate: Month\",\n",
    "                         \"Date of the Certificate: Day\",\"Date of the Certificate: Year\",\"First name\",\"Last name\",\n",
    "                         \"Title\",\"Time when the debt became due: Month\",\"Time when the debt became due: Day\",\n",
    "                         \"Time when the debt became due: Year\",\"Dollars\",\"90th\",\"Total Dollars_1\",\"Total Dollars_2\",\n",
    "                         \"Line Strike Thorugh: Yes?\",\"Line Strike Thorugh: Note\",\"Notes\"]\n",
    "marine.columns = cols\n",
    "\n",
    "marine = marine[marine['First name'].apply(lambda x: not pd.isnull(x))]\n",
    "\n",
    "#create full name\n",
    "marine['full name 1'] = marine['First name'] + \" \" + marine['Last name']"
   ]
  },
  {
   "cell_type": "code",
   "execution_count": 300,
   "metadata": {},
   "outputs": [
    {
     "data": {
      "text/html": [
       "<div>\n",
       "<style scoped>\n",
       "    .dataframe tbody tr th:only-of-type {\n",
       "        vertical-align: middle;\n",
       "    }\n",
       "\n",
       "    .dataframe tbody tr th {\n",
       "        vertical-align: top;\n",
       "    }\n",
       "\n",
       "    .dataframe thead tr th {\n",
       "        text-align: left;\n",
       "    }\n",
       "\n",
       "    .dataframe thead tr:last-of-type th {\n",
       "        text-align: right;\n",
       "    }\n",
       "</style>\n",
       "<table border=\"1\" class=\"dataframe\">\n",
       "  <thead>\n",
       "    <tr>\n",
       "      <th></th>\n",
       "      <th></th>\n",
       "      <th></th>\n",
       "      <th colspan=\"2\" halign=\"left\">Dollars</th>\n",
       "      <th colspan=\"2\" halign=\"left\">90th</th>\n",
       "    </tr>\n",
       "    <tr>\n",
       "      <th></th>\n",
       "      <th></th>\n",
       "      <th></th>\n",
       "      <th>sum</th>\n",
       "      <th>count</th>\n",
       "      <th>sum</th>\n",
       "      <th>count</th>\n",
       "    </tr>\n",
       "    <tr>\n",
       "      <th>delegate name</th>\n",
       "      <th>delegate_state</th>\n",
       "      <th>sign</th>\n",
       "      <th></th>\n",
       "      <th></th>\n",
       "      <th></th>\n",
       "      <th></th>\n",
       "    </tr>\n",
       "  </thead>\n",
       "  <tbody>\n",
       "    <tr>\n",
       "      <td>Brown John</td>\n",
       "      <td>RI</td>\n",
       "      <td>yes</td>\n",
       "      <td>262.0</td>\n",
       "      <td>1</td>\n",
       "      <td>0.0</td>\n",
       "      <td>0</td>\n",
       "    </tr>\n",
       "    <tr>\n",
       "      <td>David Bell</td>\n",
       "      <td>VA</td>\n",
       "      <td>no</td>\n",
       "      <td>108.0</td>\n",
       "      <td>1</td>\n",
       "      <td>14.0</td>\n",
       "      <td>1</td>\n",
       "    </tr>\n",
       "    <tr>\n",
       "      <td>David Rice</td>\n",
       "      <td>NC</td>\n",
       "      <td>yes</td>\n",
       "      <td>76.0</td>\n",
       "      <td>1</td>\n",
       "      <td>10.0</td>\n",
       "      <td>1</td>\n",
       "    </tr>\n",
       "    <tr>\n",
       "      <td>Davis John</td>\n",
       "      <td>RI</td>\n",
       "      <td>yes</td>\n",
       "      <td>35.0</td>\n",
       "      <td>1</td>\n",
       "      <td>25.0</td>\n",
       "      <td>1</td>\n",
       "    </tr>\n",
       "    <tr>\n",
       "      <td>James Neal</td>\n",
       "      <td>MA</td>\n",
       "      <td>no</td>\n",
       "      <td>42.0</td>\n",
       "      <td>1</td>\n",
       "      <td>24.0</td>\n",
       "      <td>1</td>\n",
       "    </tr>\n",
       "    <tr>\n",
       "      <td>John Brown</td>\n",
       "      <td>NC</td>\n",
       "      <td>no</td>\n",
       "      <td>262.0</td>\n",
       "      <td>1</td>\n",
       "      <td>0.0</td>\n",
       "      <td>0</td>\n",
       "    </tr>\n",
       "    <tr>\n",
       "      <td>John Davis</td>\n",
       "      <td>MA</td>\n",
       "      <td>yes</td>\n",
       "      <td>35.0</td>\n",
       "      <td>1</td>\n",
       "      <td>25.0</td>\n",
       "      <td>1</td>\n",
       "    </tr>\n",
       "    <tr>\n",
       "      <td>John Dunlap</td>\n",
       "      <td>MA</td>\n",
       "      <td>yes</td>\n",
       "      <td>1.0</td>\n",
       "      <td>1</td>\n",
       "      <td>85.0</td>\n",
       "      <td>1</td>\n",
       "    </tr>\n",
       "    <tr>\n",
       "      <td>John Hunter</td>\n",
       "      <td>SC</td>\n",
       "      <td>yes</td>\n",
       "      <td>310.0</td>\n",
       "      <td>1</td>\n",
       "      <td>51.0</td>\n",
       "      <td>1</td>\n",
       "    </tr>\n",
       "    <tr>\n",
       "      <td>John Jones</td>\n",
       "      <td>DE</td>\n",
       "      <td>yes</td>\n",
       "      <td>77.0</td>\n",
       "      <td>2</td>\n",
       "      <td>85.0</td>\n",
       "      <td>2</td>\n",
       "    </tr>\n",
       "    <tr>\n",
       "      <td>John K. Smith</td>\n",
       "      <td>MA</td>\n",
       "      <td>yes</td>\n",
       "      <td>23.0</td>\n",
       "      <td>1</td>\n",
       "      <td>85.0</td>\n",
       "      <td>1</td>\n",
       "    </tr>\n",
       "    <tr>\n",
       "      <td>John Rhea</td>\n",
       "      <td>NC</td>\n",
       "      <td>yes</td>\n",
       "      <td>43.0</td>\n",
       "      <td>1</td>\n",
       "      <td>57.0</td>\n",
       "      <td>1</td>\n",
       "    </tr>\n",
       "    <tr>\n",
       "      <td>John Smith</td>\n",
       "      <td>NY</td>\n",
       "      <td>yes</td>\n",
       "      <td>23.0</td>\n",
       "      <td>1</td>\n",
       "      <td>85.0</td>\n",
       "      <td>1</td>\n",
       "    </tr>\n",
       "    <tr>\n",
       "      <td>John Taylor</td>\n",
       "      <td>MA</td>\n",
       "      <td>no</td>\n",
       "      <td>72.0</td>\n",
       "      <td>1</td>\n",
       "      <td>45.0</td>\n",
       "      <td>1</td>\n",
       "    </tr>\n",
       "    <tr>\n",
       "      <td>John Williams</td>\n",
       "      <td>VA</td>\n",
       "      <td>yes</td>\n",
       "      <td>28.0</td>\n",
       "      <td>2</td>\n",
       "      <td>111.0</td>\n",
       "      <td>2</td>\n",
       "    </tr>\n",
       "    <tr>\n",
       "      <td>Jonathan Smith</td>\n",
       "      <td>MA</td>\n",
       "      <td>no</td>\n",
       "      <td>106.0</td>\n",
       "      <td>2</td>\n",
       "      <td>147.0</td>\n",
       "      <td>2</td>\n",
       "    </tr>\n",
       "    <tr>\n",
       "      <td>Samuel Johnston</td>\n",
       "      <td>NC</td>\n",
       "      <td>yes</td>\n",
       "      <td>52.0</td>\n",
       "      <td>1</td>\n",
       "      <td>45.0</td>\n",
       "      <td>1</td>\n",
       "    </tr>\n",
       "    <tr>\n",
       "      <td>Thomas Jones</td>\n",
       "      <td>MA</td>\n",
       "      <td>yes</td>\n",
       "      <td>95.0</td>\n",
       "      <td>1</td>\n",
       "      <td>62.0</td>\n",
       "      <td>1</td>\n",
       "    </tr>\n",
       "    <tr>\n",
       "      <td>William Hart</td>\n",
       "      <td>CT</td>\n",
       "      <td>yes</td>\n",
       "      <td>45.0</td>\n",
       "      <td>1</td>\n",
       "      <td>65.0</td>\n",
       "      <td>1</td>\n",
       "    </tr>\n",
       "    <tr>\n",
       "      <td>William Jones</td>\n",
       "      <td>MA</td>\n",
       "      <td>no</td>\n",
       "      <td>1871.0</td>\n",
       "      <td>5</td>\n",
       "      <td>132.0</td>\n",
       "      <td>2</td>\n",
       "    </tr>\n",
       "    <tr>\n",
       "      <td>William Morris</td>\n",
       "      <td>MD</td>\n",
       "      <td>yes</td>\n",
       "      <td>471.0</td>\n",
       "      <td>3</td>\n",
       "      <td>4.0</td>\n",
       "      <td>1</td>\n",
       "    </tr>\n",
       "    <tr>\n",
       "      <td>William Samuel Johnson</td>\n",
       "      <td>Constitution</td>\n",
       "      <td>yes</td>\n",
       "      <td>52.0</td>\n",
       "      <td>1</td>\n",
       "      <td>45.0</td>\n",
       "      <td>1</td>\n",
       "    </tr>\n",
       "    <tr>\n",
       "      <td>William Scott</td>\n",
       "      <td>SC</td>\n",
       "      <td>yes</td>\n",
       "      <td>84.0</td>\n",
       "      <td>1</td>\n",
       "      <td>10.0</td>\n",
       "      <td>1</td>\n",
       "    </tr>\n",
       "    <tr>\n",
       "      <td>William Smith</td>\n",
       "      <td>SC</td>\n",
       "      <td>yes</td>\n",
       "      <td>636.0</td>\n",
       "      <td>1</td>\n",
       "      <td>72.0</td>\n",
       "      <td>1</td>\n",
       "    </tr>\n",
       "    <tr>\n",
       "      <td>Williams John</td>\n",
       "      <td>RI</td>\n",
       "      <td>no</td>\n",
       "      <td>28.0</td>\n",
       "      <td>2</td>\n",
       "      <td>111.0</td>\n",
       "      <td>2</td>\n",
       "    </tr>\n",
       "  </tbody>\n",
       "</table>\n",
       "</div>"
      ],
      "text/plain": [
       "                                           Dollars         90th      \n",
       "                                               sum count    sum count\n",
       "delegate name          delegate_state sign                           \n",
       "Brown John             RI             yes    262.0     1    0.0     0\n",
       "David Bell             VA             no     108.0     1   14.0     1\n",
       "David Rice             NC             yes     76.0     1   10.0     1\n",
       "Davis John             RI             yes     35.0     1   25.0     1\n",
       "James Neal             MA             no      42.0     1   24.0     1\n",
       "John Brown             NC             no     262.0     1    0.0     0\n",
       "John Davis             MA             yes     35.0     1   25.0     1\n",
       "John Dunlap            MA             yes      1.0     1   85.0     1\n",
       "John Hunter            SC             yes    310.0     1   51.0     1\n",
       "John Jones             DE             yes     77.0     2   85.0     2\n",
       "John K. Smith          MA             yes     23.0     1   85.0     1\n",
       "John Rhea              NC             yes     43.0     1   57.0     1\n",
       "John Smith             NY             yes     23.0     1   85.0     1\n",
       "John Taylor            MA             no      72.0     1   45.0     1\n",
       "John Williams          VA             yes     28.0     2  111.0     2\n",
       "Jonathan Smith         MA             no     106.0     2  147.0     2\n",
       "Samuel Johnston        NC             yes     52.0     1   45.0     1\n",
       "Thomas Jones           MA             yes     95.0     1   62.0     1\n",
       "William Hart           CT             yes     45.0     1   65.0     1\n",
       "William Jones          MA             no    1871.0     5  132.0     2\n",
       "William Morris         MD             yes    471.0     3    4.0     1\n",
       "William Samuel Johnson Constitution   yes     52.0     1   45.0     1\n",
       "William Scott          SC             yes     84.0     1   10.0     1\n",
       "William Smith          SC             yes    636.0     1   72.0     1\n",
       "Williams John          RI             no      28.0     2  111.0     2"
      ]
     },
     "execution_count": 300,
     "metadata": {},
     "output_type": "execute_result"
    }
   ],
   "source": [
    "marine_small_f1 = marine[['full name 1', 'Number', 'Dollars', '90th']]\n",
    "marine_cert_assets = pd.merge(total_assets_final,\n",
    "                              marine_small_f1[marine_small_f1['full name 1'].apply(lambda x: not pd.isnull(x))],\n",
    "                              left_on = 'match name', right_on = 'full name 1').drop('full name 1', axis = 1)\n",
    "marine_cert_assets = marine_cert_assets.drop_duplicates(['delegate name', 'Number'])\n",
    "marine_cert_assets['delegate_state'] = marine_cert_assets['delegate_state'].apply(lambda x: 'Constitution' if pd.isnull(x) else x)\n",
    "\n",
    "marine_cert_assets_agg = marine_cert_assets.groupby(['delegate name',  'delegate_state', 'sign'])[['Dollars', '90th']].agg(['sum','count'])\n",
    "marine_cert_assets_agg"
   ]
  },
  {
   "cell_type": "code",
   "execution_count": 325,
   "metadata": {},
   "outputs": [],
   "source": [
    "marine_cert_assets_agg.to_csv('Marine_Certificates_Matched.csv')"
   ]
  },
  {
   "cell_type": "markdown",
   "metadata": {},
   "source": [
    "# Connecticut"
   ]
  },
  {
   "cell_type": "code",
   "execution_count": 301,
   "metadata": {},
   "outputs": [],
   "source": [
    "#Read in file\n",
    "CT = pd.read_excel(\"Data/liquidated_debt_certificates_CT.xlsx\", header = 11)\n",
    "cols = CT.columns = [\"Register Page\",\"JPEG number\",\"Number\",\"Letter\",\"Date of the Certificate: Month\",\n",
    "                     \"Date of the Certificate: Day\",\"Date of the Certificate: Year\",\"First name\",\"Last name\",\n",
    "                     \"Title\",\"First name 2\",\"Last name 2\",\"Title 2\",\"Time when the debt became due: Month\",\n",
    "                     \"Time when the debt became due: Day\", \"Time when the debt became due: Year\",\"Dollars\",\"90th\",\n",
    "                     \"Line Strike Thorugh: Yes?\",\"Line Strike Thorugh: Note\",\"Notes\"]\n",
    "CT.columns = cols\n",
    "CT = CT[CT['First name'].apply(lambda x: not pd.isnull(x))]\n",
    "\n",
    "#create full name\n",
    "CT['full name 1'] = CT['First name'] + \" \" + CT['Last name']\n",
    "CT['full name 2'] = CT['First name 2'] + \" \" + CT['Last name 2']"
   ]
  },
  {
   "cell_type": "code",
   "execution_count": 302,
   "metadata": {},
   "outputs": [
    {
     "name": "stderr",
     "output_type": "stream",
     "text": [
      "/opt/anaconda3/lib/python3.7/site-packages/ipykernel_launcher.py:2: SettingWithCopyWarning: \n",
      "A value is trying to be set on a copy of a slice from a DataFrame.\n",
      "Try using .loc[row_indexer,col_indexer] = value instead\n",
      "\n",
      "See the caveats in the documentation: http://pandas.pydata.org/pandas-docs/stable/user_guide/indexing.html#returning-a-view-versus-a-copy\n",
      "  \n"
     ]
    }
   ],
   "source": [
    "CT_short = CT[['full name 1', 'full name 2', 'Number', 'Dollars', '90th']]\n",
    "CT_short['Number'] = CT_short['Number'].apply(lambda x: 'CT_' + str(int(x)))"
   ]
  },
  {
   "cell_type": "markdown",
   "metadata": {},
   "source": [
    "# Delaware"
   ]
  },
  {
   "cell_type": "code",
   "execution_count": 303,
   "metadata": {},
   "outputs": [],
   "source": [
    "#Read in file\n",
    "DE = pd.read_excel(\"Data/liquidated_debt_certificates_DE.xlsx\", header = 11)\n",
    "cols = DE.columns = [\"JPEG number\",\"Number\",\"Letter\",\"Date of the Certificate: Month\",\n",
    "                     \"Date of the Certificate: Day\",\"Date of the Certificate: Year\",\"Title\",\"First name\",\"Last name\",\n",
    "                     \"Time when the debt became due: Month\",\n",
    "                     \"Time when the debt became due: Day\", \"Time when the debt became due: Year\",\"Dollars\",\"90th\",\n",
    "                     \"Line Strike Through\",\"Note\"]\n",
    "DE.columns = cols\n",
    "\n",
    "DE = DE[DE['First name'].apply(lambda x: not pd.isnull(x))]\n",
    "\n",
    "#create full name\n",
    "DE['full name 1'] = DE['First name'] + \" \" + DE['Last name']"
   ]
  },
  {
   "cell_type": "code",
   "execution_count": 304,
   "metadata": {},
   "outputs": [
    {
     "name": "stderr",
     "output_type": "stream",
     "text": [
      "/opt/anaconda3/lib/python3.7/site-packages/ipykernel_launcher.py:2: SettingWithCopyWarning: \n",
      "A value is trying to be set on a copy of a slice from a DataFrame.\n",
      "Try using .loc[row_indexer,col_indexer] = value instead\n",
      "\n",
      "See the caveats in the documentation: http://pandas.pydata.org/pandas-docs/stable/user_guide/indexing.html#returning-a-view-versus-a-copy\n",
      "  \n",
      "/opt/anaconda3/lib/python3.7/site-packages/ipykernel_launcher.py:3: FutureWarning: Sorting because non-concatenation axis is not aligned. A future version\n",
      "of pandas will change to not sort by default.\n",
      "\n",
      "To accept the future behavior, pass 'sort=False'.\n",
      "\n",
      "To retain the current behavior and silence the warning, pass 'sort=True'.\n",
      "\n",
      "  This is separate from the ipykernel package so we can avoid doing imports until\n"
     ]
    }
   ],
   "source": [
    "DE_short = DE[['full name 1', 'Number', 'Dollars', '90th']]\n",
    "DE_short['Number'] = DE_short['Number'].apply(lambda x: 'DE_' + str(int(x)))\n",
    "states_short = pd.concat([DE_short, CT_short])"
   ]
  },
  {
   "cell_type": "markdown",
   "metadata": {},
   "source": [
    "# Massachusetts"
   ]
  },
  {
   "cell_type": "code",
   "execution_count": 305,
   "metadata": {},
   "outputs": [],
   "source": [
    "#Read in file\n",
    "MA = pd.read_excel(\"Data/liquidated_debt_certificates_MA.xlsx\", header = 11)\n",
    "cols = [\"JPEG number\",\"Page\", \"Number\",\"Letter\",\"Date of the Certificate: Month\",\n",
    "                     \"Date of the Certificate: Day\",\"Date of the Certificate: Year\",\"First name\",\"Last name\",\"Title\",\n",
    "                     \"First name 2\",\"Last name 2\", \"Title 2\",\"Time when the debt became due: Month\",\n",
    "                     \"Time when the debt became due: Day\", \"Time when the debt became due: Year\",\"Dollars\",\"90th\",\n",
    "                     \"Line Strike Through\",\"Note\"]\n",
    "MA = MA[MA.columns[0:20]]\n",
    "MA.columns = cols\n",
    "\n",
    "MA = MA[MA['First name'].apply(lambda x: not pd.isnull(x))]\n",
    "\n",
    "#create full name\n",
    "MA['full name 1'] = MA['First name'] + \" \" + MA['Last name']\n",
    "MA['full name 2'] = MA['First name 2'] + \" \" + MA['Last name 2']"
   ]
  },
  {
   "cell_type": "code",
   "execution_count": 306,
   "metadata": {},
   "outputs": [
    {
     "name": "stderr",
     "output_type": "stream",
     "text": [
      "/opt/anaconda3/lib/python3.7/site-packages/ipykernel_launcher.py:2: SettingWithCopyWarning: \n",
      "A value is trying to be set on a copy of a slice from a DataFrame.\n",
      "Try using .loc[row_indexer,col_indexer] = value instead\n",
      "\n",
      "See the caveats in the documentation: http://pandas.pydata.org/pandas-docs/stable/user_guide/indexing.html#returning-a-view-versus-a-copy\n",
      "  \n",
      "/opt/anaconda3/lib/python3.7/site-packages/ipykernel_launcher.py:3: FutureWarning: Sorting because non-concatenation axis is not aligned. A future version\n",
      "of pandas will change to not sort by default.\n",
      "\n",
      "To accept the future behavior, pass 'sort=False'.\n",
      "\n",
      "To retain the current behavior and silence the warning, pass 'sort=True'.\n",
      "\n",
      "  This is separate from the ipykernel package so we can avoid doing imports until\n"
     ]
    }
   ],
   "source": [
    "MA_short = MA[['full name 1', 'full name 2', 'Number', 'Dollars', '90th']]\n",
    "MA_short['Number'] = MA_short['Number'].apply(lambda x: 'MA_' + str(int(x)))\n",
    "states_short = pd.concat([states_short, MA_short])"
   ]
  },
  {
   "cell_type": "markdown",
   "metadata": {},
   "source": [
    "# New Hampshire"
   ]
  },
  {
   "cell_type": "code",
   "execution_count": 307,
   "metadata": {},
   "outputs": [],
   "source": [
    "#Read in file\n",
    "NH = pd.read_excel(\"Data/liquidated_debt_certificates_NH.xlsx\", header = 11)\n",
    "cols = [\"Page\",\"JPEG number\",\"Number\",\"Letter\",\"Date of the Certificate: Month\",\n",
    "                         \"Date of the Certificate: Day\",\"Date of the Certificate: Year\",\"First name\",\"Last name\",\n",
    "                         \"Title\",\"Time when the debt became due: Month\",\"Time when the debt became due: Day\",\n",
    "                         \"Time when the debt became due: Year\",\"Dollars\",\"90th\",\n",
    "                         \"Line Strike Thorugh: Yes?\",\"Line Strike Thorugh: Note\",\"Notes\"]\n",
    "NH.columns = cols\n",
    "\n",
    "NH = NH[NH['First name'].apply(lambda x: not pd.isnull(x))]\n",
    "\n",
    "#create full name\n",
    "NH['full name 1'] = NH['First name'] + \" \" + NH['Last name']"
   ]
  },
  {
   "cell_type": "code",
   "execution_count": 308,
   "metadata": {},
   "outputs": [
    {
     "name": "stderr",
     "output_type": "stream",
     "text": [
      "/opt/anaconda3/lib/python3.7/site-packages/ipykernel_launcher.py:2: SettingWithCopyWarning: \n",
      "A value is trying to be set on a copy of a slice from a DataFrame.\n",
      "Try using .loc[row_indexer,col_indexer] = value instead\n",
      "\n",
      "See the caveats in the documentation: http://pandas.pydata.org/pandas-docs/stable/user_guide/indexing.html#returning-a-view-versus-a-copy\n",
      "  \n",
      "/opt/anaconda3/lib/python3.7/site-packages/ipykernel_launcher.py:3: FutureWarning: Sorting because non-concatenation axis is not aligned. A future version\n",
      "of pandas will change to not sort by default.\n",
      "\n",
      "To accept the future behavior, pass 'sort=False'.\n",
      "\n",
      "To retain the current behavior and silence the warning, pass 'sort=True'.\n",
      "\n",
      "  This is separate from the ipykernel package so we can avoid doing imports until\n"
     ]
    }
   ],
   "source": [
    "NH_short = NH[['full name 1', 'Number', 'Dollars', '90th']]\n",
    "NH_short['Number'] = NH_short['Number'].apply(lambda x: 'NH_' + str(int(x)))\n",
    "states_short = pd.concat([states_short, NH_short])"
   ]
  },
  {
   "cell_type": "markdown",
   "metadata": {},
   "source": [
    "# New Jersey"
   ]
  },
  {
   "cell_type": "code",
   "execution_count": 309,
   "metadata": {},
   "outputs": [],
   "source": [
    "#Read in file\n",
    "NJ = pd.read_excel(\"Data/liquidated_debt_certificates_NJ.xlsx\", header = 10)\n",
    "cols = [\"JPEG number\",\"Number\",\"Letter\",\"Date of the Certificate: Month\",\n",
    "        \"Date of the Certificate: Day\",\"Date of the Certificate: Year\",\"Title\",\"First name\",\"Last name\",\n",
    "        \"Title 2\",\"First name 2\",\"Last name 2\",\"Time when the debt became due: Month\",\n",
    "        \"Time when the debt became due: Day\", \"Time when the debt became due: Year\",\"Dollars\",\"90th\",\n",
    "        \"Strike Through Number\",\"Note\"]\n",
    "NJ = NJ[NJ.columns[0:19]]\n",
    "NJ.columns = cols\n",
    "\n",
    "NJ = NJ[NJ['First name'].apply(lambda x: not pd.isnull(x))]\n",
    "\n",
    "#create full name\n",
    "NJ['full name 1'] = NJ['First name'] + \" \" + NJ['Last name']\n",
    "NJ['full name 2'] = NJ['First name 2'] + \" \" + NJ['Last name 2']"
   ]
  },
  {
   "cell_type": "code",
   "execution_count": 310,
   "metadata": {},
   "outputs": [
    {
     "name": "stderr",
     "output_type": "stream",
     "text": [
      "/opt/anaconda3/lib/python3.7/site-packages/ipykernel_launcher.py:4: FutureWarning: Sorting because non-concatenation axis is not aligned. A future version\n",
      "of pandas will change to not sort by default.\n",
      "\n",
      "To accept the future behavior, pass 'sort=False'.\n",
      "\n",
      "To retain the current behavior and silence the warning, pass 'sort=True'.\n",
      "\n",
      "  after removing the cwd from sys.path.\n"
     ]
    }
   ],
   "source": [
    "NJ_short = NJ[['full name 1', 'full name 2', 'Number', 'Dollars', '90th']]\n",
    "NJ_short = NJ_short[NJ_short['Number'].apply(lambda x: not pd.isnull(x))]\n",
    "NJ_short['Number'] = NJ_short['Number'].apply(lambda x: 'NJ_' + str(int(x)))\n",
    "states_short = pd.concat([states_short, NJ_short])"
   ]
  },
  {
   "cell_type": "markdown",
   "metadata": {},
   "source": [
    "# New York"
   ]
  },
  {
   "cell_type": "code",
   "execution_count": 311,
   "metadata": {},
   "outputs": [],
   "source": [
    "#Read in file\n",
    "NY = pd.read_excel(\"Data/liquidated_debt_certificates_NY.xlsx\", header = 10)\n",
    "cols = [\"Page\", \"JPEG number\",\"Number\",\"Letter\",\"Date of the Certificate: Month\",\n",
    "        \"Date of the Certificate: Day\",\"Date of the Certificate: Year\",\"First name\",\"Last name\",\n",
    "        \"Title\",\"First name 2\",\"Last name 2\",\"Title 2\",\"Time when the debt became due: Month\",\n",
    "        \"Time when the debt became due: Day\", \"Time when the debt became due: Year\",\"Dollars\",\"90th\",\n",
    "        \"Strike Through Yes?\",\"Note\", \"Notes\"]\n",
    "NY = NY[NY.columns[0:21]]\n",
    "NY.columns = cols\n",
    "\n",
    "NY = NY[NY['First name'].apply(lambda x: not pd.isnull(x))]\n",
    "\n",
    "#create full name\n",
    "NY['full name 1'] = NY['First name'] + \" \" + NY['Last name']\n",
    "NY['full name 2'] = NY['First name 2'] + \" \" + NY['Last name 2']"
   ]
  },
  {
   "cell_type": "code",
   "execution_count": 312,
   "metadata": {},
   "outputs": [
    {
     "name": "stderr",
     "output_type": "stream",
     "text": [
      "/opt/anaconda3/lib/python3.7/site-packages/ipykernel_launcher.py:4: FutureWarning: Sorting because non-concatenation axis is not aligned. A future version\n",
      "of pandas will change to not sort by default.\n",
      "\n",
      "To accept the future behavior, pass 'sort=False'.\n",
      "\n",
      "To retain the current behavior and silence the warning, pass 'sort=True'.\n",
      "\n",
      "  after removing the cwd from sys.path.\n"
     ]
    }
   ],
   "source": [
    "NY_short = NY[['full name 1', 'full name 2', 'Number', 'Dollars', '90th']]\n",
    "NY_short = NY_short[NY_short['Number'].apply(lambda x: not pd.isnull(x))]\n",
    "NY_short['Number'] = NY_short['Number'].apply(lambda x: 'NY_' + str(int(x)))\n",
    "states_short = pd.concat([states_short, NY_short])"
   ]
  },
  {
   "cell_type": "markdown",
   "metadata": {},
   "source": [
    "# Pennsylvania P1"
   ]
  },
  {
   "cell_type": "code",
   "execution_count": 313,
   "metadata": {},
   "outputs": [],
   "source": [
    "#Read in file\n",
    "PA = pd.read_excel(\"Data/liquidated_debt_certificates_PA_story.xlsx\", header = 11)\n",
    "cols = [\"JPEG number\",\"Number\",\"Letter\",\"Date of the Certificate: Year\",\n",
    "        \"Date of the Certificate: Month\",\"Date of the Certificate: Date\",\"Title\",\"First name\",\"Last name\",\"Time when the debt became due: Year\",\n",
    "        \"Time when the debt became due: Month\",\"Time when the debt became due: Day\",\n",
    "        \"Dollars\",\"90th\",\"10th\", \"Exchange\",\"Amount in Specie_1\", \"Amount in Specie_2\",\"Line Strike Thorugh?\",\"Notes\"]\n",
    "PA = PA[PA.columns[1:21]]\n",
    "PA.columns = cols\n",
    "\n",
    "PA = PA[PA['First name'].apply(lambda x: not pd.isnull(x))]\n",
    "\n",
    "#create full name\n",
    "PA['full name 1'] = PA['First name'] + \" \" + PA['Last name']"
   ]
  },
  {
   "cell_type": "code",
   "execution_count": 314,
   "metadata": {},
   "outputs": [
    {
     "name": "stderr",
     "output_type": "stream",
     "text": [
      "/opt/anaconda3/lib/python3.7/site-packages/ipykernel_launcher.py:4: FutureWarning: Sorting because non-concatenation axis is not aligned. A future version\n",
      "of pandas will change to not sort by default.\n",
      "\n",
      "To accept the future behavior, pass 'sort=False'.\n",
      "\n",
      "To retain the current behavior and silence the warning, pass 'sort=True'.\n",
      "\n",
      "  after removing the cwd from sys.path.\n"
     ]
    }
   ],
   "source": [
    "PA_short_1 = PA[['full name 1', 'Number', 'Dollars', '90th']]\n",
    "PA_short_1 = PA_short_1[PA_short_1['Number'].apply(lambda x: not pd.isnull(x))]\n",
    "PA_short_1['Number'] = PA_short_1['Number'].apply(lambda x: 'PA_1_' + str(int(x)))\n",
    "states_short = pd.concat([states_short, PA_short_1])"
   ]
  },
  {
   "cell_type": "markdown",
   "metadata": {},
   "source": [
    "# Pennsylvania P2"
   ]
  },
  {
   "cell_type": "code",
   "execution_count": 315,
   "metadata": {},
   "outputs": [],
   "source": [
    "#Read in file\n",
    "PA2 = pd.read_excel(\"Data/liquidated_debt_certificates_PA_stelle.xlsx\", header = 11)\n",
    "cols = [\"JPEG number\",\"Number\",\"Letter\",\"Date of the Certificate: Year\",\n",
    "        \"Date of the Certificate: Month\",\"Date of the Certificate: Date\",\"Title\",\"First name\",\"Last name\",\"Title 2\",\"First name 2\",\"Last name 2\",\n",
    "        \"Time when the debt became due: Year\", \"Time when the debt became due: Month\",\"Time when the debt became due: Day\",\n",
    "        \"Dollars\",\"90th\",\"Line Strike Thorugh?\",\"Notes\"]\n",
    "PA2 = PA2[PA2.columns[1:21]]\n",
    "PA2.columns = cols\n",
    "\n",
    "PA2 = PA2[PA2['First name'].apply(lambda x: not pd.isnull(x))]\n",
    "\n",
    "#create full name\n",
    "PA2['full name 1'] = PA2['First name'] + \" \" + PA2['Last name']\n",
    "PA2['full name 2'] = PA2['First name 2'] + \" \" + PA2['Last name 2']"
   ]
  },
  {
   "cell_type": "code",
   "execution_count": 316,
   "metadata": {},
   "outputs": [
    {
     "name": "stderr",
     "output_type": "stream",
     "text": [
      "/opt/anaconda3/lib/python3.7/site-packages/ipykernel_launcher.py:4: FutureWarning: Sorting because non-concatenation axis is not aligned. A future version\n",
      "of pandas will change to not sort by default.\n",
      "\n",
      "To accept the future behavior, pass 'sort=False'.\n",
      "\n",
      "To retain the current behavior and silence the warning, pass 'sort=True'.\n",
      "\n",
      "  after removing the cwd from sys.path.\n"
     ]
    }
   ],
   "source": [
    "PA_short_2 = PA2[['full name 1', 'full name 2', 'Number', 'Dollars', '90th']]\n",
    "PA_short_2 = PA_short_2[PA_short_2['Number'].apply(lambda x: not pd.isnull(x))]\n",
    "PA_short_2['Number'] = PA_short_2['Number'].apply(lambda x: 'PA_2_' + str(int(x)))\n",
    "states_short = pd.concat([states_short, PA_short_2])"
   ]
  },
  {
   "cell_type": "markdown",
   "metadata": {},
   "source": [
    "# Rhode Island"
   ]
  },
  {
   "cell_type": "code",
   "execution_count": 317,
   "metadata": {},
   "outputs": [],
   "source": [
    "#Read in file\n",
    "RI = pd.read_excel(\"Data/liquidated_debt_certificates_RI.xlsx\", header = 12)\n",
    "cols =  [\"Page\", \"JPEG number\",\"Number\",\"Letter\",\"Date of the Certificate: Month\",\n",
    "        \"Date of the Certificate: Day\",\"Date of the Certificate: Year\",\"First name\",\"Last name\",\n",
    "        \"Title\",\"First name 2\",\"Last name 2\",\"Title 2\",\"Time when the debt became due: Month\",\n",
    "        \"Time when the debt became due: Day\", \"Time when the debt became due: Year\",\"Dollars\",\"90th\",\n",
    "        \"8th\"]\n",
    "RI = RI[RI.columns[0:19]]\n",
    "RI.columns = cols\n",
    "\n",
    "RI = RI[RI['First name'].apply(lambda x: not pd.isnull(x))]\n",
    "\n",
    "#create full name\n",
    "RI['full name 1'] = RI['First name'] + \" \" + RI['Last name']\n",
    "RI['full name 2'] = RI['First name 2'] + \" \" + RI['Last name 2']"
   ]
  },
  {
   "cell_type": "code",
   "execution_count": 318,
   "metadata": {},
   "outputs": [
    {
     "name": "stderr",
     "output_type": "stream",
     "text": [
      "/opt/anaconda3/lib/python3.7/site-packages/ipykernel_launcher.py:4: FutureWarning: Sorting because non-concatenation axis is not aligned. A future version\n",
      "of pandas will change to not sort by default.\n",
      "\n",
      "To accept the future behavior, pass 'sort=False'.\n",
      "\n",
      "To retain the current behavior and silence the warning, pass 'sort=True'.\n",
      "\n",
      "  after removing the cwd from sys.path.\n"
     ]
    }
   ],
   "source": [
    "RI_short = RI[['full name 1', 'full name 2', 'Number', 'Dollars', '90th']]\n",
    "RI_short = RI_short[RI_short['Number'].apply(lambda x: not pd.isnull(x))]\n",
    "RI_short['Number'] = RI_short['Number'].apply(lambda x: 'RI_' + str(int(x)))\n",
    "states_short = pd.concat([states_short, RI_short])"
   ]
  },
  {
   "cell_type": "markdown",
   "metadata": {},
   "source": [
    "# Final Steps"
   ]
  },
  {
   "cell_type": "code",
   "execution_count": 322,
   "metadata": {},
   "outputs": [
    {
     "name": "stderr",
     "output_type": "stream",
     "text": [
      "/opt/anaconda3/lib/python3.7/site-packages/ipykernel_launcher.py:7: FutureWarning: Sorting because non-concatenation axis is not aligned. A future version\n",
      "of pandas will change to not sort by default.\n",
      "\n",
      "To accept the future behavior, pass 'sort=False'.\n",
      "\n",
      "To retain the current behavior and silence the warning, pass 'sort=True'.\n",
      "\n",
      "  import sys\n"
     ]
    },
    {
     "data": {
      "text/html": [
       "<div>\n",
       "<style scoped>\n",
       "    .dataframe tbody tr th:only-of-type {\n",
       "        vertical-align: middle;\n",
       "    }\n",
       "\n",
       "    .dataframe tbody tr th {\n",
       "        vertical-align: top;\n",
       "    }\n",
       "\n",
       "    .dataframe thead tr th {\n",
       "        text-align: left;\n",
       "    }\n",
       "\n",
       "    .dataframe thead tr:last-of-type th {\n",
       "        text-align: right;\n",
       "    }\n",
       "</style>\n",
       "<table border=\"1\" class=\"dataframe\">\n",
       "  <thead>\n",
       "    <tr>\n",
       "      <th></th>\n",
       "      <th></th>\n",
       "      <th></th>\n",
       "      <th colspan=\"2\" halign=\"left\">Dollars</th>\n",
       "      <th colspan=\"2\" halign=\"left\">90th</th>\n",
       "    </tr>\n",
       "    <tr>\n",
       "      <th></th>\n",
       "      <th></th>\n",
       "      <th></th>\n",
       "      <th>sum</th>\n",
       "      <th>count</th>\n",
       "      <th>sum</th>\n",
       "      <th>count</th>\n",
       "    </tr>\n",
       "    <tr>\n",
       "      <th>delegate name</th>\n",
       "      <th>delegate_state</th>\n",
       "      <th>sign</th>\n",
       "      <th></th>\n",
       "      <th></th>\n",
       "      <th></th>\n",
       "      <th></th>\n",
       "    </tr>\n",
       "  </thead>\n",
       "  <tbody>\n",
       "    <tr>\n",
       "      <td>Abraham Smith</td>\n",
       "      <td>MA</td>\n",
       "      <td>no</td>\n",
       "      <td>4.0</td>\n",
       "      <td>1</td>\n",
       "      <td>0</td>\n",
       "      <td>0</td>\n",
       "    </tr>\n",
       "    <tr>\n",
       "      <td>Abraham Stout</td>\n",
       "      <td>PA</td>\n",
       "      <td>yes</td>\n",
       "      <td>14.0</td>\n",
       "      <td>2</td>\n",
       "      <td>136</td>\n",
       "      <td>2</td>\n",
       "    </tr>\n",
       "    <tr>\n",
       "      <td>Albert Baker</td>\n",
       "      <td>NY</td>\n",
       "      <td>no</td>\n",
       "      <td>28.0</td>\n",
       "      <td>1</td>\n",
       "      <td>0</td>\n",
       "      <td>0</td>\n",
       "    </tr>\n",
       "    <tr>\n",
       "      <td>Alexander Hamilton</td>\n",
       "      <td>Constitution</td>\n",
       "      <td>yes</td>\n",
       "      <td>160.0</td>\n",
       "      <td>1</td>\n",
       "      <td>0</td>\n",
       "      <td>0</td>\n",
       "    </tr>\n",
       "    <tr>\n",
       "      <td>Alexander Martin</td>\n",
       "      <td>Constitution</td>\n",
       "      <td>no</td>\n",
       "      <td>124.0</td>\n",
       "      <td>2</td>\n",
       "      <td>110</td>\n",
       "      <td>2</td>\n",
       "    </tr>\n",
       "    <tr>\n",
       "      <td>...</td>\n",
       "      <td>...</td>\n",
       "      <td>...</td>\n",
       "      <td>...</td>\n",
       "      <td>...</td>\n",
       "      <td>...</td>\n",
       "      <td>...</td>\n",
       "    </tr>\n",
       "    <tr>\n",
       "      <td>William White</td>\n",
       "      <td>VA</td>\n",
       "      <td>no</td>\n",
       "      <td>721.0</td>\n",
       "      <td>12</td>\n",
       "      <td>383</td>\n",
       "      <td>10</td>\n",
       "    </tr>\n",
       "    <tr>\n",
       "      <td>William Williams</td>\n",
       "      <td>CT</td>\n",
       "      <td>yes</td>\n",
       "      <td>1227.0</td>\n",
       "      <td>12</td>\n",
       "      <td>354</td>\n",
       "      <td>8</td>\n",
       "    </tr>\n",
       "    <tr>\n",
       "      <td>William Wilson</td>\n",
       "      <td>PA</td>\n",
       "      <td>yes</td>\n",
       "      <td>0.0</td>\n",
       "      <td>0</td>\n",
       "      <td>0</td>\n",
       "      <td>0</td>\n",
       "    </tr>\n",
       "    <tr>\n",
       "      <td>Williams John</td>\n",
       "      <td>RI</td>\n",
       "      <td>no</td>\n",
       "      <td>1400.0</td>\n",
       "      <td>14</td>\n",
       "      <td>436</td>\n",
       "      <td>11</td>\n",
       "    </tr>\n",
       "    <tr>\n",
       "      <td>Zephaniah Platt</td>\n",
       "      <td>NY</td>\n",
       "      <td>yes</td>\n",
       "      <td>284.0</td>\n",
       "      <td>1</td>\n",
       "      <td>26</td>\n",
       "      <td>1</td>\n",
       "    </tr>\n",
       "  </tbody>\n",
       "</table>\n",
       "<p>379 rows × 4 columns</p>\n",
       "</div>"
      ],
      "text/plain": [
       "                                       Dollars       90th      \n",
       "                                           sum count  sum count\n",
       "delegate name      delegate_state sign                         \n",
       "Abraham Smith      MA             no       4.0     1    0     0\n",
       "Abraham Stout      PA             yes     14.0     2  136     2\n",
       "Albert Baker       NY             no      28.0     1    0     0\n",
       "Alexander Hamilton Constitution   yes    160.0     1    0     0\n",
       "Alexander Martin   Constitution   no     124.0     2  110     2\n",
       "...                                        ...   ...  ...   ...\n",
       "William White      VA             no     721.0    12  383    10\n",
       "William Williams   CT             yes   1227.0    12  354     8\n",
       "William Wilson     PA             yes      0.0     0    0     0\n",
       "Williams John      RI             no    1400.0    14  436    11\n",
       "Zephaniah Platt    NY             yes    284.0     1   26     1\n",
       "\n",
       "[379 rows x 4 columns]"
      ]
     },
     "execution_count": 322,
     "metadata": {},
     "output_type": "execute_result"
    }
   ],
   "source": [
    "state_cert_assets = pd.merge(total_assets_final,\n",
    "                                   states_short[states_short['full name 1'].apply(lambda x: not pd.isnull(x))],\n",
    "                                   left_on = 'match name', right_on = 'full name 1').drop('full name 1', axis = 1)\n",
    "add_to_assets = pd.merge(total_assets_final,\n",
    "                         states_short[states_short['full name 2'].apply(lambda x: not pd.isnull(x))],\n",
    "                         left_on = 'match name', right_on = 'full name 2').drop('full name 2', axis = 1)\n",
    "state_cert_assets = pd.concat([state_cert_assets, add_to_assets])\n",
    "state_cert_assets = state_cert_assets.drop_duplicates(['delegate name', 'Number'])\n",
    "state_cert_assets['delegate_state'] = state_cert_assets['delegate_state'].apply(lambda x: 'Constitution' if pd.isnull(x) else x)\n",
    "\n",
    "state_cert_assets_agg = state_cert_assets.groupby(['delegate name',  'delegate_state', 'sign'])[['Dollars', '90th']].agg(['sum','count'])\n",
    "state_cert_assets_agg"
   ]
  },
  {
   "cell_type": "code",
   "execution_count": 326,
   "metadata": {},
   "outputs": [],
   "source": [
    "state_cert_assets_agg.to_csv('State_Certificates_Matched.csv')"
   ]
  }
 ],
 "metadata": {
  "kernelspec": {
   "display_name": "Python 3",
   "language": "python",
   "name": "python3"
  },
  "language_info": {
   "codemirror_mode": {
    "name": "ipython",
    "version": 3
   },
   "file_extension": ".py",
   "mimetype": "text/x-python",
   "name": "python",
   "nbconvert_exporter": "python",
   "pygments_lexer": "ipython3",
   "version": "3.7.4"
  }
 },
 "nbformat": 4,
 "nbformat_minor": 4
}
