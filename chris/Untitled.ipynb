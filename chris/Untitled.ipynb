{
 "cells": [
  {
   "cell_type": "code",
   "execution_count": 2,
   "metadata": {},
   "outputs": [],
   "source": [
    "import numpy as np\n",
    "import pandas as pd"
   ]
  },
  {
   "cell_type": "code",
   "execution_count": 68,
   "metadata": {},
   "outputs": [],
   "source": [
    "fam_ppl = ['john adams', 'benjamin franklin', 'alexander hamilton', 'john jay', 'thomas jefferson', 'james madison', 'george washington']"
   ]
  },
  {
   "cell_type": "code",
   "execution_count": 69,
   "metadata": {},
   "outputs": [],
   "source": [
    "colnames = ['delegate name','First Name','Last Name','delegate_state','sign','Dollars_sum','Dollars_count','90th_sum','90th_count']"
   ]
  },
  {
   "cell_type": "code",
   "execution_count": 70,
   "metadata": {},
   "outputs": [
    {
     "data": {
      "text/html": [
       "<div>\n",
       "<style scoped>\n",
       "    .dataframe tbody tr th:only-of-type {\n",
       "        vertical-align: middle;\n",
       "    }\n",
       "\n",
       "    .dataframe tbody tr th {\n",
       "        vertical-align: top;\n",
       "    }\n",
       "\n",
       "    .dataframe thead th {\n",
       "        text-align: right;\n",
       "    }\n",
       "</style>\n",
       "<table border=\"1\" class=\"dataframe\">\n",
       "  <thead>\n",
       "    <tr style=\"text-align: right;\">\n",
       "      <th></th>\n",
       "      <th>delegate name</th>\n",
       "      <th>First Name</th>\n",
       "      <th>Last Name</th>\n",
       "      <th>delegate_state</th>\n",
       "      <th>sign</th>\n",
       "      <th>Dollars_sum</th>\n",
       "      <th>Dollars_count</th>\n",
       "      <th>90th_sum</th>\n",
       "      <th>90th_count</th>\n",
       "      <th>Total_assets</th>\n",
       "      <th>sign_coded</th>\n",
       "    </tr>\n",
       "  </thead>\n",
       "  <tbody>\n",
       "    <tr>\n",
       "      <td>25</td>\n",
       "      <td>Benjamin Franklin</td>\n",
       "      <td>Benjamin</td>\n",
       "      <td>Franklin</td>\n",
       "      <td>Constitution</td>\n",
       "      <td>yes</td>\n",
       "      <td>8100</td>\n",
       "      <td>27</td>\n",
       "      <td>8100.0</td>\n",
       "      <td>27</td>\n",
       "      <td>8190.000000</td>\n",
       "      <td>1.0</td>\n",
       "    </tr>\n",
       "    <tr>\n",
       "      <td>96</td>\n",
       "      <td>George Washington</td>\n",
       "      <td>George</td>\n",
       "      <td>Washington</td>\n",
       "      <td>Constitution</td>\n",
       "      <td>yes</td>\n",
       "      <td>82000</td>\n",
       "      <td>21</td>\n",
       "      <td>4746.21646</td>\n",
       "      <td>21</td>\n",
       "      <td>82052.735738</td>\n",
       "      <td>1.0</td>\n",
       "    </tr>\n",
       "    <tr>\n",
       "      <td>229</td>\n",
       "      <td>John Jay</td>\n",
       "      <td>John</td>\n",
       "      <td>Jay</td>\n",
       "      <td>NY</td>\n",
       "      <td>yes</td>\n",
       "      <td>8900</td>\n",
       "      <td>15</td>\n",
       "      <td>8719.3542</td>\n",
       "      <td>15</td>\n",
       "      <td>8996.881713</td>\n",
       "      <td>1.0</td>\n",
       "    </tr>\n",
       "  </tbody>\n",
       "</table>\n",
       "</div>"
      ],
      "text/plain": [
       "         delegate name First Name   Last Name delegate_state sign Dollars_sum  \\\n",
       "25   Benjamin Franklin   Benjamin    Franklin   Constitution  yes        8100   \n",
       "96   George Washington     George  Washington   Constitution  yes       82000   \n",
       "229           John Jay       John         Jay             NY  yes        8900   \n",
       "\n",
       "    Dollars_count    90th_sum 90th_count  Total_assets  sign_coded  \n",
       "25             27      8100.0         27   8190.000000         1.0  \n",
       "96             21  4746.21646         21  82052.735738         1.0  \n",
       "229            15   8719.3542         15   8996.881713         1.0  "
      ]
     },
     "execution_count": 70,
     "metadata": {},
     "output_type": "execute_result"
    }
   ],
   "source": [
    "loan_office = pd.read_csv('Producables/Loan_Office_Certificates_Matched.csv')\n",
    "loan_office.drop([0,1], inplace = True)\n",
    "loan_office.columns= ['delegate name','First Name','Last Name','delegate_state','sign','Dollars_sum','Dollars_count','90th_sum','90th_count']\n",
    "loan_office['Total_assets'] = loan_office['Dollars_sum'].apply(lambda x: np.float(x)) + loan_office['90th_sum'].apply(lambda x: np.float(x)/90)\n",
    "loan_office_regression = loan_office\n",
    "loan_office_regression['sign_coded'] = loan_office_regression['sign'].apply(lambda x: np.float(x == \"yes\"))\n",
    "loan_office_regression[loan_office_regression['delegate name'].apply(lambda x: x.lower() in fam_ppl)]"
   ]
  },
  {
   "cell_type": "code",
   "execution_count": 71,
   "metadata": {},
   "outputs": [
    {
     "data": {
      "text/html": [
       "<div>\n",
       "<style scoped>\n",
       "    .dataframe tbody tr th:only-of-type {\n",
       "        vertical-align: middle;\n",
       "    }\n",
       "\n",
       "    .dataframe tbody tr th {\n",
       "        vertical-align: top;\n",
       "    }\n",
       "\n",
       "    .dataframe thead th {\n",
       "        text-align: right;\n",
       "    }\n",
       "</style>\n",
       "<table border=\"1\" class=\"dataframe\">\n",
       "  <thead>\n",
       "    <tr style=\"text-align: right;\">\n",
       "      <th></th>\n",
       "      <th>delegate name</th>\n",
       "      <th>First Name</th>\n",
       "      <th>Last Name</th>\n",
       "      <th>delegate_state</th>\n",
       "      <th>sign</th>\n",
       "      <th>Dollars_sum</th>\n",
       "      <th>Dollars_count</th>\n",
       "      <th>90th_sum</th>\n",
       "      <th>90th_count</th>\n",
       "      <th>Total_assets</th>\n",
       "      <th>sign_coded</th>\n",
       "    </tr>\n",
       "  </thead>\n",
       "  <tbody>\n",
       "    <tr>\n",
       "      <td>357</td>\n",
       "      <td>Robert Morris</td>\n",
       "      <td>Robert</td>\n",
       "      <td>Morris</td>\n",
       "      <td>Constitution</td>\n",
       "      <td>yes</td>\n",
       "      <td>405700</td>\n",
       "      <td>309</td>\n",
       "      <td>67275.16728999997</td>\n",
       "      <td>309</td>\n",
       "      <td>406447.501859</td>\n",
       "      <td>1.0</td>\n",
       "    </tr>\n",
       "    <tr>\n",
       "      <td>269</td>\n",
       "      <td>John Stevens</td>\n",
       "      <td>John</td>\n",
       "      <td>Stevens</td>\n",
       "      <td>NJ</td>\n",
       "      <td>yes</td>\n",
       "      <td>399300</td>\n",
       "      <td>344</td>\n",
       "      <td>27727.495403000015</td>\n",
       "      <td>344</td>\n",
       "      <td>399608.083282</td>\n",
       "      <td>1.0</td>\n",
       "    </tr>\n",
       "    <tr>\n",
       "      <td>163</td>\n",
       "      <td>Jeremiah Wadsworth</td>\n",
       "      <td>Jeremiah</td>\n",
       "      <td>Wadsworth</td>\n",
       "      <td>CT</td>\n",
       "      <td>yes</td>\n",
       "      <td>303300</td>\n",
       "      <td>369</td>\n",
       "      <td>35498.52977999993</td>\n",
       "      <td>369</td>\n",
       "      <td>303694.428109</td>\n",
       "      <td>1.0</td>\n",
       "    </tr>\n",
       "    <tr>\n",
       "      <td>487</td>\n",
       "      <td>William Smith</td>\n",
       "      <td>William</td>\n",
       "      <td>Smith</td>\n",
       "      <td>SC</td>\n",
       "      <td>yes</td>\n",
       "      <td>212200</td>\n",
       "      <td>381</td>\n",
       "      <td>29479.097219999985</td>\n",
       "      <td>381</td>\n",
       "      <td>212527.545525</td>\n",
       "      <td>1.0</td>\n",
       "    </tr>\n",
       "    <tr>\n",
       "      <td>353</td>\n",
       "      <td>Robert Coleman</td>\n",
       "      <td>Robert</td>\n",
       "      <td>Coleman</td>\n",
       "      <td>PA</td>\n",
       "      <td>yes</td>\n",
       "      <td>206200</td>\n",
       "      <td>306</td>\n",
       "      <td>5155.001389999999</td>\n",
       "      <td>306</td>\n",
       "      <td>206257.277793</td>\n",
       "      <td>1.0</td>\n",
       "    </tr>\n",
       "    <tr>\n",
       "      <td>265</td>\n",
       "      <td>John Skinner</td>\n",
       "      <td>John</td>\n",
       "      <td>Skinner</td>\n",
       "      <td>NC</td>\n",
       "      <td>yes</td>\n",
       "      <td>203400</td>\n",
       "      <td>313</td>\n",
       "      <td>5718.859901000001</td>\n",
       "      <td>313</td>\n",
       "      <td>203463.542888</td>\n",
       "      <td>1.0</td>\n",
       "    </tr>\n",
       "    <tr>\n",
       "      <td>199</td>\n",
       "      <td>John Davis</td>\n",
       "      <td>John</td>\n",
       "      <td>Davis</td>\n",
       "      <td>MA</td>\n",
       "      <td>yes</td>\n",
       "      <td>134900</td>\n",
       "      <td>196</td>\n",
       "      <td>5778.647147999995</td>\n",
       "      <td>196</td>\n",
       "      <td>134964.207191</td>\n",
       "      <td>1.0</td>\n",
       "    </tr>\n",
       "    <tr>\n",
       "      <td>69</td>\n",
       "      <td>Davis John</td>\n",
       "      <td>Davis</td>\n",
       "      <td>John</td>\n",
       "      <td>RI</td>\n",
       "      <td>yes</td>\n",
       "      <td>134200</td>\n",
       "      <td>194</td>\n",
       "      <td>5696.338807999995</td>\n",
       "      <td>194</td>\n",
       "      <td>134263.292653</td>\n",
       "      <td>1.0</td>\n",
       "    </tr>\n",
       "    <tr>\n",
       "      <td>202</td>\n",
       "      <td>John Dunlap</td>\n",
       "      <td>John</td>\n",
       "      <td>Dunlap</td>\n",
       "      <td>MA</td>\n",
       "      <td>yes</td>\n",
       "      <td>112100</td>\n",
       "      <td>72</td>\n",
       "      <td>12869.974449000001</td>\n",
       "      <td>72</td>\n",
       "      <td>112242.999716</td>\n",
       "      <td>1.0</td>\n",
       "    </tr>\n",
       "    <tr>\n",
       "      <td>495</td>\n",
       "      <td>Williams John</td>\n",
       "      <td>Williams</td>\n",
       "      <td>John</td>\n",
       "      <td>RI</td>\n",
       "      <td>no</td>\n",
       "      <td>107800</td>\n",
       "      <td>176</td>\n",
       "      <td>9740.07501999999</td>\n",
       "      <td>176</td>\n",
       "      <td>107908.223056</td>\n",
       "      <td>0.0</td>\n",
       "    </tr>\n",
       "  </tbody>\n",
       "</table>\n",
       "</div>"
      ],
      "text/plain": [
       "          delegate name First Name  Last Name delegate_state sign Dollars_sum  \\\n",
       "357       Robert Morris     Robert     Morris   Constitution  yes      405700   \n",
       "269        John Stevens       John    Stevens             NJ  yes      399300   \n",
       "163  Jeremiah Wadsworth   Jeremiah  Wadsworth             CT  yes      303300   \n",
       "487       William Smith    William      Smith             SC  yes      212200   \n",
       "353      Robert Coleman     Robert    Coleman             PA  yes      206200   \n",
       "265        John Skinner       John    Skinner             NC  yes      203400   \n",
       "199          John Davis       John      Davis             MA  yes      134900   \n",
       "69           Davis John      Davis       John             RI  yes      134200   \n",
       "202         John Dunlap       John     Dunlap             MA  yes      112100   \n",
       "495       Williams John   Williams       John             RI   no      107800   \n",
       "\n",
       "    Dollars_count            90th_sum 90th_count   Total_assets  sign_coded  \n",
       "357           309   67275.16728999997        309  406447.501859         1.0  \n",
       "269           344  27727.495403000015        344  399608.083282         1.0  \n",
       "163           369   35498.52977999993        369  303694.428109         1.0  \n",
       "487           381  29479.097219999985        381  212527.545525         1.0  \n",
       "353           306   5155.001389999999        306  206257.277793         1.0  \n",
       "265           313   5718.859901000001        313  203463.542888         1.0  \n",
       "199           196   5778.647147999995        196  134964.207191         1.0  \n",
       "69            194   5696.338807999995        194  134263.292653         1.0  \n",
       "202            72  12869.974449000001         72  112242.999716         1.0  \n",
       "495           176    9740.07501999999        176  107908.223056         0.0  "
      ]
     },
     "execution_count": 71,
     "metadata": {},
     "output_type": "execute_result"
    }
   ],
   "source": [
    "loan_office_regression.sort_values('Total_assets', ascending = False).head(10)"
   ]
  },
  {
   "cell_type": "code",
   "execution_count": 76,
   "metadata": {},
   "outputs": [
    {
     "data": {
      "text/html": [
       "<div>\n",
       "<style scoped>\n",
       "    .dataframe tbody tr th:only-of-type {\n",
       "        vertical-align: middle;\n",
       "    }\n",
       "\n",
       "    .dataframe tbody tr th {\n",
       "        vertical-align: top;\n",
       "    }\n",
       "\n",
       "    .dataframe thead th {\n",
       "        text-align: right;\n",
       "    }\n",
       "</style>\n",
       "<table border=\"1\" class=\"dataframe\">\n",
       "  <thead>\n",
       "    <tr style=\"text-align: right;\">\n",
       "      <th></th>\n",
       "      <th>delegate name</th>\n",
       "      <th>First Name</th>\n",
       "      <th>Last Name</th>\n",
       "      <th>delegate_state</th>\n",
       "      <th>sign</th>\n",
       "      <th>Dollars_sum</th>\n",
       "      <th>Dollars_count</th>\n",
       "      <th>90th_sum</th>\n",
       "      <th>90th_count</th>\n",
       "      <th>Total_assets</th>\n",
       "      <th>sign_coded</th>\n",
       "    </tr>\n",
       "  </thead>\n",
       "  <tbody>\n",
       "    <tr>\n",
       "      <td>5</td>\n",
       "      <td>Alexander Hamilton</td>\n",
       "      <td>Alexander</td>\n",
       "      <td>Hamilton</td>\n",
       "      <td>Constitution</td>\n",
       "      <td>yes</td>\n",
       "      <td>160.0</td>\n",
       "      <td>1</td>\n",
       "      <td>0</td>\n",
       "      <td>0</td>\n",
       "      <td>160.000000</td>\n",
       "      <td>1.0</td>\n",
       "    </tr>\n",
       "    <tr>\n",
       "      <td>225</td>\n",
       "      <td>John Jay</td>\n",
       "      <td>John</td>\n",
       "      <td>Jay</td>\n",
       "      <td>NY</td>\n",
       "      <td>yes</td>\n",
       "      <td>1.0</td>\n",
       "      <td>1</td>\n",
       "      <td>22/8</td>\n",
       "      <td>1</td>\n",
       "      <td>1.030556</td>\n",
       "      <td>1.0</td>\n",
       "    </tr>\n",
       "  </tbody>\n",
       "</table>\n",
       "</div>"
      ],
      "text/plain": [
       "          delegate name First Name Last Name delegate_state sign Dollars_sum  \\\n",
       "5    Alexander Hamilton  Alexander  Hamilton   Constitution  yes       160.0   \n",
       "225            John Jay       John       Jay             NY  yes         1.0   \n",
       "\n",
       "    Dollars_count 90th_sum 90th_count  Total_assets  sign_coded  \n",
       "5               1        0          0    160.000000         1.0  \n",
       "225             1     22/8          1      1.030556         1.0  "
      ]
     },
     "execution_count": 76,
     "metadata": {},
     "output_type": "execute_result"
    }
   ],
   "source": [
    "state = pd.read_csv('Producables/State_Certificates_Matched.csv')\n",
    "state.drop([0,1], inplace = True)\n",
    "state.columns= ['delegate name','First Name','Last Name','delegate_state','sign','Dollars_sum','Dollars_count','90th_sum','90th_count']\n",
    "state['Total_assets'] = state['Dollars_sum'].apply(lambda x: np.float(x)) + state['90th_sum'].apply(lambda x: np.float(x)/90 if x != '22/8' else 2.75/90)\n",
    "state_regression = state\n",
    "state_regression['sign_coded'] = state_regression['sign'].apply(lambda x: np.float(x == \"yes\"))\n",
    "state_regression[state_regression['delegate name'].apply(lambda x: x.lower() in fam_ppl)]"
   ]
  },
  {
   "cell_type": "code",
   "execution_count": 58,
   "metadata": {},
   "outputs": [],
   "source": [
    "loan_office_regression.to_csv(\"temp.csv\")"
   ]
  },
  {
   "cell_type": "code",
   "execution_count": 48,
   "metadata": {},
   "outputs": [],
   "source": [
    "import matplotlib.pyplot as plt\n",
    "import numpy as np\n",
    "from sklearn.linear_model import LogisticRegression\n",
    "from sklearn.metrics import classification_report, confusion_matrix"
   ]
  },
  {
   "cell_type": "code",
   "execution_count": 49,
   "metadata": {},
   "outputs": [],
   "source": [
    "model = LogisticRegression(solver='liblinear', random_state=0)"
   ]
  },
  {
   "cell_type": "code",
   "execution_count": 59,
   "metadata": {},
   "outputs": [
    {
     "data": {
      "text/plain": [
       "LogisticRegression(C=1.0, class_weight=None, dual=False, fit_intercept=True,\n",
       "                   intercept_scaling=1, l1_ratio=None, max_iter=100,\n",
       "                   multi_class='warn', n_jobs=None, penalty='l2',\n",
       "                   random_state=0, solver='liblinear', tol=0.0001, verbose=0,\n",
       "                   warm_start=False)"
      ]
     },
     "execution_count": 59,
     "metadata": {},
     "output_type": "execute_result"
    }
   ],
   "source": [
    "x = np.log(np.array(loan_office_regression['Total_assets'].tolist())).reshape(-1, 1)\n",
    "y = loan_office_regression['sign_coded']\n",
    "model.fit(x, y)"
   ]
  },
  {
   "cell_type": "code",
   "execution_count": 63,
   "metadata": {},
   "outputs": [
    {
     "data": {
      "text/plain": [
       "Text(0, 0.5, 'Vote')"
      ]
     },
     "execution_count": 63,
     "metadata": {},
     "output_type": "execute_result"
    },
    {
     "data": {
      "image/png": "[encoded data removed]",
      "text/plain": [
       "<Figure size 432x288 with 1 Axes>"
      ]
     },
     "metadata": {
      "needs_background": "light"
     },
     "output_type": "display_data"
    }
   ],
   "source": [
    "#matplotlib scatter funcion w/ logistic regression\n",
    "plt.scatter(x,y)\n",
    "plt.xlabel(\"Money\")\n",
    "plt.ylabel(\"Vote\")"
   ]
  },
  {
   "cell_type": "code",
   "execution_count": 61,
   "metadata": {},
   "outputs": [
    {
     "data": {
      "text/plain": [
       "array([0.33052195])"
      ]
     },
     "execution_count": 61,
     "metadata": {},
     "output_type": "execute_result"
    }
   ],
   "source": [
    "model.intercept_"
   ]
  },
  {
   "cell_type": "code",
   "execution_count": 62,
   "metadata": {},
   "outputs": [
    {
     "data": {
      "text/plain": [
       "array([[0.0612712]])"
      ]
     },
     "execution_count": 62,
     "metadata": {},
     "output_type": "execute_result"
    }
   ],
   "source": [
    "model.coef_"
   ]
  }
 ],
 "metadata": {
  "kernelspec": {
   "display_name": "Python 3",
   "language": "python",
   "name": "python3"
  },
  "language_info": {
   "codemirror_mode": {
    "name": "ipython",
    "version": 3
   },
   "file_extension": ".py",
   "mimetype": "text/x-python",
   "name": "python",
   "nbconvert_exporter": "python",
   "pygments_lexer": "ipython3",
   "version": "3.7.4"
  }
 },
 "nbformat": 4,
 "nbformat_minor": 4
}
