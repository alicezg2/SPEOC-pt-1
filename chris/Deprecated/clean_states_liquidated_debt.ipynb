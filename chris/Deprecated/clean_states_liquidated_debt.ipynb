{
 "cells": [
  {
   "cell_type": "markdown",
   "metadata": {},
   "source": [
    "# CLEAN STATE LIQUIDATED DEBT CERTIFICATES"
   ]
  },
  {
   "cell_type": "code",
   "execution_count": 1,
   "metadata": {},
   "outputs": [],
   "source": [
    "import numpy as np\n",
    "import pandas as pd\n",
    "import fuzzywuzzy\n",
    "from fuzzywuzzy import fuzz\n",
    "from fuzzywuzzy import process"
   ]
  },
  {
   "cell_type": "markdown",
   "metadata": {},
   "source": [
    "## Connecticut"
   ]
  },
  {
   "cell_type": "code",
   "execution_count": 35,
   "metadata": {},
   "outputs": [],
   "source": [
    "#literally nothing to clean in CT"
   ]
  },
  {
   "cell_type": "code",
   "execution_count": 9,
   "metadata": {},
   "outputs": [],
   "source": [
    "CT = pd.read_excel(\"Data/Pre1790/liquidated_debt_certificates_CT.xlsx\", header = 11)\n",
    "cols = CT.columns = [\"Register Page\",\"JPEG number\",\"Number\",\"Letter\",\"Date of the Certificate: Month\",\n",
    "                     \"Date of the Certificate: Day\",\"Date of the Certificate: Year\",\"First name\",\"Last name\",\n",
    "                     \"Title\",\"First name 2\",\"Last name 2\",\"Title 2\",\"Time when the debt became due: Month\",\n",
    "                     \"Time when the debt became due: Day\", \"Time when the debt became due: Year\",\"Dollars\",\"90th\",\n",
    "                     \"Line Strike Thorugh: Yes?\",\"Line Strike Thorugh: Note\",\"Notes\"]\n",
    "CT.columns = cols"
   ]
  },
  {
   "cell_type": "code",
   "execution_count": 12,
   "metadata": {},
   "outputs": [],
   "source": [
    "CT = CT[[not pd.isnull(x) or not pd.isnull(y) for x, y in zip(CT['First name'], CT['Last name'])]]"
   ]
  },
  {
   "cell_type": "code",
   "execution_count": 41,
   "metadata": {
    "collapsed": true,
    "jupyter": {
     "outputs_hidden": true
    }
   },
   "outputs": [
    {
     "data": {
      "text/html": [
       "<div>\n",
       "<style scoped>\n",
       "    .dataframe tbody tr th:only-of-type {\n",
       "        vertical-align: middle;\n",
       "    }\n",
       "\n",
       "    .dataframe tbody tr th {\n",
       "        vertical-align: top;\n",
       "    }\n",
       "\n",
       "    .dataframe thead th {\n",
       "        text-align: right;\n",
       "    }\n",
       "</style>\n",
       "<table border=\"1\" class=\"dataframe\">\n",
       "  <thead>\n",
       "    <tr style=\"text-align: right;\">\n",
       "      <th></th>\n",
       "      <th>Register Page</th>\n",
       "      <th>JPEG number</th>\n",
       "      <th>Number</th>\n",
       "      <th>Letter</th>\n",
       "      <th>Date of the Certificate: Month</th>\n",
       "      <th>Date of the Certificate: Day</th>\n",
       "      <th>Date of the Certificate: Year</th>\n",
       "      <th>First name</th>\n",
       "      <th>Last name</th>\n",
       "      <th>Title</th>\n",
       "      <th>...</th>\n",
       "      <th>Last name 2</th>\n",
       "      <th>Title 2</th>\n",
       "      <th>Time when the debt became due: Month</th>\n",
       "      <th>Time when the debt became due: Day</th>\n",
       "      <th>Time when the debt became due: Year</th>\n",
       "      <th>Dollars</th>\n",
       "      <th>90th</th>\n",
       "      <th>Line Strike Thorugh: Yes?</th>\n",
       "      <th>Line Strike Thorugh: Note</th>\n",
       "      <th>Notes</th>\n",
       "    </tr>\n",
       "  </thead>\n",
       "  <tbody>\n",
       "  </tbody>\n",
       "</table>\n",
       "<p>0 rows × 21 columns</p>\n",
       "</div>"
      ],
      "text/plain": [
       "Empty DataFrame\n",
       "Columns: [Register Page, JPEG number, Number, Letter, Date of the Certificate: Month, Date of the Certificate: Day, Date of the Certificate: Year, First name, Last name, Title, First name 2, Last name 2, Title 2, Time when the debt became due: Month, Time when the debt became due: Day, Time when the debt became due: Year, Dollars, 90th, Line Strike Thorugh: Yes?, Line Strike Thorugh: Note, Notes]\n",
       "Index: []\n",
       "\n",
       "[0 rows x 21 columns]"
      ]
     },
     "execution_count": 41,
     "metadata": {},
     "output_type": "execute_result"
    }
   ],
   "source": [
    "CT[CT['First name'].apply(lambda x: not pd.isnull(x) and len(x.split(\" \")) > 2)]"
   ]
  },
  {
   "cell_type": "code",
   "execution_count": 33,
   "metadata": {
    "collapsed": true,
    "jupyter": {
     "outputs_hidden": true
    }
   },
   "outputs": [
    {
     "data": {
      "text/html": [
       "<div>\n",
       "<style scoped>\n",
       "    .dataframe tbody tr th:only-of-type {\n",
       "        vertical-align: middle;\n",
       "    }\n",
       "\n",
       "    .dataframe tbody tr th {\n",
       "        vertical-align: top;\n",
       "    }\n",
       "\n",
       "    .dataframe thead th {\n",
       "        text-align: right;\n",
       "    }\n",
       "</style>\n",
       "<table border=\"1\" class=\"dataframe\">\n",
       "  <thead>\n",
       "    <tr style=\"text-align: right;\">\n",
       "      <th></th>\n",
       "      <th>Register Page</th>\n",
       "      <th>JPEG number</th>\n",
       "      <th>Number</th>\n",
       "      <th>Letter</th>\n",
       "      <th>Date of the Certificate: Month</th>\n",
       "      <th>Date of the Certificate: Day</th>\n",
       "      <th>Date of the Certificate: Year</th>\n",
       "      <th>First name</th>\n",
       "      <th>Last name</th>\n",
       "      <th>Title</th>\n",
       "      <th>...</th>\n",
       "      <th>Last name 2</th>\n",
       "      <th>Title 2</th>\n",
       "      <th>Time when the debt became due: Month</th>\n",
       "      <th>Time when the debt became due: Day</th>\n",
       "      <th>Time when the debt became due: Year</th>\n",
       "      <th>Dollars</th>\n",
       "      <th>90th</th>\n",
       "      <th>Line Strike Thorugh: Yes?</th>\n",
       "      <th>Line Strike Thorugh: Note</th>\n",
       "      <th>Notes</th>\n",
       "    </tr>\n",
       "  </thead>\n",
       "  <tbody>\n",
       "  </tbody>\n",
       "</table>\n",
       "<p>0 rows × 21 columns</p>\n",
       "</div>"
      ],
      "text/plain": [
       "Empty DataFrame\n",
       "Columns: [Register Page, JPEG number, Number, Letter, Date of the Certificate: Month, Date of the Certificate: Day, Date of the Certificate: Year, First name, Last name, Title, First name 2, Last name 2, Title 2, Time when the debt became due: Month, Time when the debt became due: Day, Time when the debt became due: Year, Dollars, 90th, Line Strike Thorugh: Yes?, Line Strike Thorugh: Note, Notes]\n",
       "Index: []\n",
       "\n",
       "[0 rows x 21 columns]"
      ]
     },
     "execution_count": 33,
     "metadata": {},
     "output_type": "execute_result"
    }
   ],
   "source": [
    "CT[CT['Last name 2'].apply(lambda x: not pd.isnull(x) and len(x.split(\" \")) > 1)]"
   ]
  },
  {
   "cell_type": "code",
   "execution_count": 36,
   "metadata": {},
   "outputs": [],
   "source": [
    "CT.to_csv('Data/Pre1790/cleaned/liquidated_debt_certificates_CT_cleaned.csv')"
   ]
  },
  {
   "cell_type": "markdown",
   "metadata": {},
   "source": [
    "## Delaware"
   ]
  },
  {
   "cell_type": "code",
   "execution_count": 141,
   "metadata": {},
   "outputs": [],
   "source": [
    "DE = pd.read_excel(\"Data/Pre1790/liquidated_debt_certificates_DE.xlsx\", header = 11)\n",
    "cols = DE.columns = [\"JPEG number\",\"Number\",\"Letter\",\"Date of the Certificate: Month\",\n",
    "                     \"Date of the Certificate: Day\",\"Date of the Certificate: Year\",\"Title\",\"First name\",\"Last name\",\n",
    "                     \"Time when the debt became due: Month\",\n",
    "                     \"Time when the debt became due: Day\", \"Time when the debt became due: Year\",\"Dollars\",\"90th\",\n",
    "                     \"Line Strike Through\",\"Note\"]\n",
    "DE.columns = cols"
   ]
  },
  {
   "cell_type": "code",
   "execution_count": 142,
   "metadata": {},
   "outputs": [],
   "source": [
    "DE = DE[[not pd.isnull(x) or not pd.isnull(y) for x, y in zip(DE['First name'], DE['Last name'])]]"
   ]
  },
  {
   "cell_type": "code",
   "execution_count": 143,
   "metadata": {},
   "outputs": [],
   "source": [
    "DE['First name 2'] = np.nan\n",
    "DE['Last name 2'] = np.nan\n",
    "DE['Cleaning notes'] = np.nan\n",
    "DE['original text'] = np.nan"
   ]
  },
  {
   "cell_type": "code",
   "execution_count": 144,
   "metadata": {},
   "outputs": [],
   "source": [
    "repl_index = DE[DE['First name'].apply(lambda x: not pd.isnull(x) and ' co' in x.lower())].index\n",
    "DE.loc[repl_index, ['original text']] = DE.loc[repl_index, 'First name']\n",
    "DE.loc[repl_index, ['Cleaning notes']] = 'co'\n",
    "DE.loc[repl_index, ['First name']] = DE.loc[repl_index, 'First name'].apply(lambda x: x.lower().replace('and co', '').strip())\n",
    "DE.loc[repl_index, ['Last name']] = DE.loc[repl_index, 'First name'].apply(lambda x: x.split(\" \")[-1])\n",
    "DE.loc[repl_index, ['First name']] = DE.loc[repl_index, 'First name'].apply(lambda x: x.split(\" \")[0])"
   ]
  },
  {
   "cell_type": "code",
   "execution_count": 145,
   "metadata": {},
   "outputs": [],
   "source": [
    "repl_index = DE[DE['First name'].apply(lambda x: x == 'Trusts of Wilmington Academy')].index\n",
    "DE.loc[repl_index, 'Title'] = 'organization'"
   ]
  },
  {
   "cell_type": "code",
   "execution_count": 146,
   "metadata": {},
   "outputs": [],
   "source": [
    "repl_index = DE[[not pd.isnull(x) and ' and ' in x and not pd.isnull(y) for x, y in zip(DE['First name'], DE['Last name'])]].index\n",
    "DE.loc[repl_index, ['original text']] = DE.loc[repl_index, 'First name'] + \" \" + DE.loc[repl_index, 'Last name']\n",
    "DE.loc[repl_index, ['Last name 2']] = DE.loc[repl_index, 'Last name']\n",
    "DE.loc[repl_index, ['First name 2']] = DE.loc[repl_index, 'First name'].apply(lambda x: x.strip().split(\" \")[-1])\n",
    "DE.loc[repl_index, ['First name']] = DE.loc[repl_index, 'First name'].apply(lambda x: x.strip().split(\" \")[0])"
   ]
  },
  {
   "cell_type": "code",
   "execution_count": 147,
   "metadata": {},
   "outputs": [],
   "source": [
    "repl_index = DE[[not pd.isnull(x) and ' and ' in x and len(x.strip().split(\" \")) <= 3 for x in DE['First name']]].index\n",
    "DE.loc[repl_index, ['original text']] = DE.loc[repl_index, 'First name']\n",
    "DE.loc[repl_index, ['Last name 2']] = DE.loc[repl_index, 'First name'].apply(lambda x: x.strip().split(\" \")[-1])\n",
    "DE.loc[repl_index, ['Last name']] = DE.loc[repl_index, 'First name'].apply(lambda x: x.strip().split(\" \")[0])\n",
    "DE.loc[repl_index, ['First name']] = np.nan"
   ]
  },
  {
   "cell_type": "code",
   "execution_count": 148,
   "metadata": {},
   "outputs": [],
   "source": [
    "repl_index = DE[[not pd.isnull(x) and ' and ' in x for x in DE['First name']]].index\n",
    "DE.loc[repl_index, ['original text']] = DE.loc[repl_index, 'First name']\n",
    "DE.loc[repl_index, ['First name 2']] = DE.loc[repl_index, 'First name'].apply(lambda x: x.strip().split(\" and \")[-1])\n",
    "DE.loc[repl_index, ['First name']] = DE.loc[repl_index, 'First name'].apply(lambda x: x.strip().split(\" and \")[0])\n",
    "DE.loc[repl_index, ['Last name']] = DE.loc[repl_index, 'First name'].apply(lambda x: x.strip().split(\" \")[-1])\n",
    "DE.loc[repl_index, ['First name']] = DE.loc[repl_index, 'First name'].apply(lambda x: \" \".join(x.strip().split(\" \")[:-1]))\n",
    "DE.loc[repl_index, ['Last name 2']] = DE.loc[repl_index, 'First name 2'].apply(lambda x: x.strip().split(\" \")[-1])\n",
    "DE.loc[repl_index, ['First name 2']] = DE.loc[repl_index, 'First name 2'].apply(lambda x: \" \".join(x.strip().split(\" \")[:-1]))"
   ]
  },
  {
   "cell_type": "code",
   "execution_count": 150,
   "metadata": {},
   "outputs": [],
   "source": [
    "DE.to_csv('Data/Pre1790/cleaned/liquidated_debt_certificates_DE_cleaned.csv')"
   ]
  },
  {
   "cell_type": "markdown",
   "metadata": {},
   "source": [
    "## Massachusetts"
   ]
  },
  {
   "cell_type": "code",
   "execution_count": 222,
   "metadata": {},
   "outputs": [],
   "source": [
    "#Read in file\n",
    "MA = pd.read_excel(\"Data/Pre1790/liquidated_debt_certificates_MA.xlsx\", header = 11)\n",
    "cols = [\"JPEG number\",\"Page\", \"Number\",\"Letter\",\"Date of the Certificate: Month\",\n",
    "                     \"Date of the Certificate: Day\",\"Date of the Certificate: Year\",\"First name\",\"Last name\",\"Title\",\n",
    "                     \"First name 2\",\"Last name 2\", \"Title 2\",\"Time when the debt became due: Month\",\n",
    "                     \"Time when the debt became due: Day\", \"Time when the debt became due: Year\",\"Dollars\",\"90th\",\n",
    "                     \"Line Strike Through\",\"Note\"]\n",
    "MA = MA[MA.columns[0:20]]\n",
    "MA.columns = cols"
   ]
  },
  {
   "cell_type": "code",
   "execution_count": 223,
   "metadata": {},
   "outputs": [],
   "source": [
    "MA = MA[[not pd.isnull(x) or not pd.isnull(y) for x, y in zip(MA['First name'], MA['Last name'])]]"
   ]
  },
  {
   "cell_type": "code",
   "execution_count": 224,
   "metadata": {},
   "outputs": [],
   "source": [
    "MA['original text'] = np.nan\n",
    "MA['Cleaning notes'] = np.nan"
   ]
  },
  {
   "cell_type": "code",
   "execution_count": 225,
   "metadata": {},
   "outputs": [],
   "source": [
    "repl_index = MA[MA['First name'].apply(lambda x: not pd.isnull(x) and ('& co' in x.lower() or '& son' in x.lower()))].index\n",
    "MA.loc[repl_index, ['original text']] = MA.loc[repl_index, 'First name']\n",
    "MA.loc[repl_index, ['Cleaning notes']] = MA.loc[repl_index, 'First name'].apply(lambda x: x.strip().split(\" \")[-1].strip())\n",
    "MA.loc[repl_index, ['First name']] = MA.loc[repl_index, 'First name'].apply(lambda x: \" \".join(x.strip().split(\" \")[:-2]))\n",
    "MA.loc[repl_index, ['Last name']] = MA.loc[repl_index, 'First name'].apply(lambda x: x.split(\" \")[-1])\n",
    "MA.loc[repl_index, ['First name']] = MA.loc[repl_index, 'First name'].apply(lambda x: x.split(\" \")[0])\n"
   ]
  },
  {
   "cell_type": "code",
   "execution_count": 226,
   "metadata": {},
   "outputs": [],
   "source": [
    "repl_index = MA[MA['First name'].apply(lambda x: not pd.isnull(x) and 'estate' in x.lower())].index\n",
    "MA.loc[repl_index, ['Cleaning notes']] = ['estate']\n",
    "MA.loc[repl_index, ['original text']] = MA['First name']\n",
    "MA.loc[repl_index, ['First name']] = MA.loc[repl_index, 'First name'].apply(lambda x: x.lower().replace(\"estate\", \"\").replace(\"the\", \"\").replace(\"of\",\"\").strip())\n",
    "MA.loc[repl_index, ['Last name']] = MA.loc[repl_index, 'First name'].apply(lambda x: x.split(\" \")[-1])\n",
    "MA.loc[repl_index, ['First name']] = MA.loc[repl_index, 'First name'].apply(lambda x: \" \".join(x.split(\" \")[:-1]))"
   ]
  },
  {
   "cell_type": "code",
   "execution_count": 227,
   "metadata": {},
   "outputs": [],
   "source": [
    "MA.loc[MA[MA['First name'].apply(lambda x: x == 'capt john')].index, ['Title', 'First name']] = ['capt', 'john']"
   ]
  },
  {
   "cell_type": "code",
   "execution_count": 228,
   "metadata": {},
   "outputs": [],
   "source": [
    "repl_index = MA[MA['First name'].apply(lambda x: not pd.isnull(x) and ' & ' in x.lower())].index\n",
    "MA.loc[repl_index, ['original text']] = MA.loc[repl_index, 'First name']\n",
    "MA.loc[repl_index, ['Last name 2']] = MA.loc[repl_index, 'First name'].apply(lambda x: x.strip().split(\" \")[-1])\n",
    "MA.loc[repl_index, ['Last name']] = MA.loc[repl_index, 'First name'].apply(lambda x: x.strip().split(\" \")[0])\n",
    "MA.loc[repl_index, ['First name']] = np.nan"
   ]
  },
  {
   "cell_type": "code",
   "execution_count": 230,
   "metadata": {},
   "outputs": [],
   "source": [
    "repl_index = MA[MA['First name'].apply(lambda x: x == 'Daniel and John')].index\n",
    "MA.loc[repl_index, ['First name', 'First name 2', 'Last name 2', 'original text']] = ['Daniel', 'John', 'Brewer', 'Daniel and John Brewer']\n",
    "repl_index = MA[MA['First name'].apply(lambda x: x == 'Hermon and Brimmer')].index\n",
    "MA.loc[repl_index, ['First name', 'Last name', 'Last name 2', 'original text']] = [np.nan, 'Hermon', 'Brimmer', 'Hermon and Brimmer']"
   ]
  },
  {
   "cell_type": "code",
   "execution_count": 231,
   "metadata": {},
   "outputs": [],
   "source": [
    "repl_index = MA[MA['Last name'].apply(lambda x: not pd.isnull(x) and '&' in x.lower())].index\n",
    "MA.loc[repl_index, ['original text', 'Last name', 'Cleaning notes']] = ['Benjamin Edes & son', 'Edes', 'son']"
   ]
  },
  {
   "cell_type": "code",
   "execution_count": 233,
   "metadata": {},
   "outputs": [],
   "source": [
    "MA.to_csv('Data/Pre1790/cleaned/liquidated_debt_certificates_MA_cleaned.csv')"
   ]
  },
  {
   "cell_type": "markdown",
   "metadata": {},
   "source": [
    "## New Hampshire"
   ]
  },
  {
   "cell_type": "code",
   "execution_count": 234,
   "metadata": {},
   "outputs": [],
   "source": [
    "#Read in file\n",
    "NH = pd.read_excel(\"Data/Pre1790/liquidated_debt_certificates_NH.xlsx\", header = 11)\n",
    "cols = [\"Page\",\"JPEG number\",\"Number\",\"Letter\",\"Date of the Certificate: Month\",\n",
    "                         \"Date of the Certificate: Day\",\"Date of the Certificate: Year\",\"First name\",\"Last name\",\n",
    "                         \"Title\",\"Time when the debt became due: Month\",\"Time when the debt became due: Day\",\n",
    "                         \"Time when the debt became due: Year\",\"Dollars\",\"90th\",\n",
    "                         \"Line Strike Thorugh: Yes?\",\"Line Strike Thorugh: Note\",\"Notes\"]\n",
    "NH.columns = cols\n",
    "\n",
    "NH = NH[[not pd.isnull(x) or not pd.isnull(y) for x, y in zip(NH['First name'], NH['Last name'])]]\n",
    "\n",
    "NH['original text'] = np.nan\n",
    "NH['Cleaning notes'] = np.nan"
   ]
  },
  {
   "cell_type": "code",
   "execution_count": 247,
   "metadata": {},
   "outputs": [],
   "source": [
    "#new hampshire is ridiculously clean :P"
   ]
  },
  {
   "cell_type": "code",
   "execution_count": 248,
   "metadata": {},
   "outputs": [],
   "source": [
    "NH.to_csv('Data/Pre1790/cleaned/liquidated_debt_certificates_NH_cleaned.csv')"
   ]
  },
  {
   "cell_type": "markdown",
   "metadata": {},
   "source": [
    "## New Jersey"
   ]
  },
  {
   "cell_type": "code",
   "execution_count": 270,
   "metadata": {},
   "outputs": [],
   "source": [
    "#Read in file\n",
    "NJ = pd.read_excel(\"Data/Pre1790/liquidated_debt_certificates_NJ.xlsx\", header = 10)\n",
    "cols = [\"JPEG number\",\"Number\",\"Letter\",\"Date of the Certificate: Month\",\n",
    "        \"Date of the Certificate: Day\",\"Date of the Certificate: Year\",\"Title\",\"First name\",\"Last name\",\n",
    "        \"Title 2\",\"First name 2\",\"Last name 2\",\"Time when the debt became due: Month\",\n",
    "        \"Time when the debt became due: Day\", \"Time when the debt became due: Year\",\"Dollars\",\"90th\",\n",
    "        \"Strike Through Number\",\"Note\"]\n",
    "NJ = NJ[NJ.columns[0:19]]\n",
    "NJ.columns = cols\n",
    "NJ = NJ[[not pd.isnull(x) or not pd.isnull(y) for x, y in zip(NJ['First name'], NJ['Last name'])]]\n",
    "\n",
    "NJ['original text'] = np.nan\n",
    "NJ['Cleaning notes'] = np.nan"
   ]
  },
  {
   "cell_type": "code",
   "execution_count": 271,
   "metadata": {},
   "outputs": [],
   "source": [
    "repl_index = NJ[NJ['First name'].apply(lambda x: not pd.isnull(x) and x == 'Furman & Hunt')].index\n",
    "NJ.loc[repl_index, ['First name', 'Last name', 'Last name 2', 'original text']] = [np.nan, 'Furman', 'Hunt', 'Furman & Hunt']"
   ]
  },
  {
   "cell_type": "code",
   "execution_count": 277,
   "metadata": {},
   "outputs": [],
   "source": [
    "NJ.to_csv('Data/Pre1790/cleaned/liquidated_debt_certificates_NJ_cleaned.csv')"
   ]
  },
  {
   "cell_type": "markdown",
   "metadata": {},
   "source": [
    "## New York"
   ]
  },
  {
   "cell_type": "code",
   "execution_count": 314,
   "metadata": {},
   "outputs": [],
   "source": [
    "#Read in file\n",
    "NY = pd.read_excel(\"Data/Pre1790/liquidated_debt_certificates_NY.xlsx\", header = 11)\n",
    "cols = [\"Page\", \"JPEG number\",\"Number\",\"Letter\",\"Date of the Certificate: Month\",\n",
    "        \"Date of the Certificate: Day\",\"Date of the Certificate: Year\",\"First name\",\"Last name\",\n",
    "        \"Title\",\"First name 2\",\"Last name 2\",\"Title 2\",\"Time when the debt became due: Month\",\n",
    "        \"Time when the debt became due: Day\", \"Time when the debt became due: Year\",\"Dollars\",\"90th\",\n",
    "        \"Strike Through Yes?\",\"Note\", \"Notes\"]\n",
    "NY = NY[NY.columns[0:21]]\n",
    "NY.columns = cols\n",
    "\n",
    "NY = NY[[not pd.isnull(x) or not pd.isnull(y) for x, y in zip(NY['First name'], NY['Last name'])]]\n",
    "\n",
    "NY['First name 3'] = np.nan\n",
    "NY['Last name 3'] = np.nan\n",
    "NY['original text'] = np.nan\n",
    "NY['Cleaning notes'] = np.nan"
   ]
  },
  {
   "cell_type": "code",
   "execution_count": 315,
   "metadata": {},
   "outputs": [],
   "source": [
    "repl_index = NY[NY['First name'].apply(lambda x: not pd.isnull(x) and (' co' in x.lower() or 'others' in x.lower()))].index\n",
    "NY.loc[repl_index, ['original text']] = NY.loc[repl_index, 'First name']\n",
    "NY.loc[repl_index, ['Cleaning notes']] = NY.loc[repl_index, 'First name'].apply(lambda x: x.strip().split(\"&\")[-1].strip())\n",
    "NY.loc[repl_index, ['First name']] =  NY.loc[repl_index, 'First name'].apply(lambda x: x.strip().split(\"&\")[0].strip())\n",
    "NY.loc[repl_index, ['Last name']] =  NY.loc[repl_index, 'First name'].apply(lambda x: x.strip().split(\" \")[-1].strip())\n",
    "NY.loc[repl_index, ['First name']] =  NY.loc[repl_index, 'First name'].apply(lambda x: \" \".join(x.strip().split(\" \")[:-1]).strip())"
   ]
  },
  {
   "cell_type": "code",
   "execution_count": 316,
   "metadata": {},
   "outputs": [],
   "source": [
    "repl_index = NY[NY['First name'].apply(lambda x: not pd.isnull(x) and x == 'Trustees Of & Davids Church')].index\n",
    "NY.loc[repl_index, ['First name', 'original text']] = ['Trustees of Davids Church','Trustees Of & Davids Church']"
   ]
  },
  {
   "cell_type": "code",
   "execution_count": 328,
   "metadata": {},
   "outputs": [],
   "source": [
    "repl_index = NY[NY['First name'].apply(lambda x: not pd.isnull(x) and x == 'Messes Smith & Van Buren')].index\n",
    "NY.loc[repl_index, ['First name', 'Last name', 'Last name 2', 'Last name 3', 'original text']] = [np.nan, 'Messes', 'Smith', 'Van Buren',\n",
    "                                                                                                  'Messes Smith & Van Buren']\n",
    "repl_index = NY[NY['First name'].apply(lambda x: not pd.isnull(x) and x == 'Messes Bogart & Van Beuren')].index\n",
    "NY.loc[repl_index, ['First name', 'Last name', 'Last name 2', 'Last name 3', 'original text']] = [np.nan, 'Messes', 'Bogart', 'Van Beuren',\n",
    "                                                                                                  'Messes Bogart & Van Beuren']\n",
    "repl_index = NY[NY['First name'].apply(lambda x: not pd.isnull(x) and x == 'Messes Williamson & Beckman')].index\n",
    "NY.loc[repl_index, ['First name', 'Last name', 'Last name 2', 'Last name 3', 'original text']] = [np.nan, 'Messes', 'Williamson', 'Beckman',\n",
    "                                                                                                  'Messes Williamson & Beckman']\n",
    "repl_index = NY[NY['First name'].apply(lambda x: not pd.isnull(x) and x == 'Melgret & George Ox')].index\n",
    "NY.loc[repl_index, ['First name', 'Last name', 'First name 2', 'Last name 2', 'original text']] = ['Melgret', 'Ox', 'George', 'Ox',\n",
    "                                                                                                  'Melgret & George Ox']"
   ]
  },
  {
   "cell_type": "code",
   "execution_count": 326,
   "metadata": {},
   "outputs": [],
   "source": [
    "repl_index = NY[NY['First name'].apply(lambda x: not pd.isnull(x) and ' & ' in x.lower())].index\n",
    "NY.loc[repl_index, ['original text']] = NY.loc[repl_index, 'First name']\n",
    "NY.loc[repl_index, ['Last name 2']] = NY.loc[repl_index, 'First name'].apply(lambda x: x.strip().split(\"&\")[-1])\n",
    "NY.loc[repl_index, ['Last name']] = NY.loc[repl_index, 'First name'].apply(lambda x: x.strip().split(\"&\")[0])\n",
    "NY.loc[repl_index, ['First name']] = np.nan"
   ]
  },
  {
   "cell_type": "code",
   "execution_count": 327,
   "metadata": {},
   "outputs": [],
   "source": [
    "NY.to_csv('Data/Pre1790/cleaned/liquidated_debt_certificates_NY_cleaned.csv')"
   ]
  },
  {
   "cell_type": "markdown",
   "metadata": {},
   "source": [
    "## Pennsylvania P1"
   ]
  },
  {
   "cell_type": "code",
   "execution_count": 375,
   "metadata": {},
   "outputs": [],
   "source": [
    "#Read in file\n",
    "PA = pd.read_excel(\"Data/Pre1790/liquidated_debt_certificates_PA_story.xlsx\", header = 11)\n",
    "cols = [\"JPEG number\",\"Number\",\"Letter\",\"Date of the Certificate: Year\",\n",
    "        \"Date of the Certificate: Month\",\"Date of the Certificate: Date\",\"Title\",\"First name\",\"Last name\",\"Time when the debt became due: Year\",\n",
    "        \"Time when the debt became due: Month\",\"Time when the debt became due: Day\",\n",
    "        \"Dollars\",\"90th\",\"10th\", \"Exchange\",\"Amount in Specie_1\", \"Amount in Specie_2\",\"Line Strike Thorugh?\",\"Notes\"]\n",
    "PA = PA[PA.columns[1:21]]\n",
    "PA.columns = cols\n",
    "PA['original text'] = np.nan\n",
    "PA['Cleaning notes'] = np.nan\n",
    "\n",
    "PA = PA[[not pd.isnull(x) or not pd.isnull(y) for x, y in zip(PA['First name'], PA['Last name'])]]"
   ]
  },
  {
   "cell_type": "code",
   "execution_count": 376,
   "metadata": {},
   "outputs": [],
   "source": [
    "PA = PA[PA['Last name'].apply(lambda x: not pd.isnull(x))]"
   ]
  },
  {
   "cell_type": "code",
   "execution_count": 377,
   "metadata": {},
   "outputs": [],
   "source": [
    "PA.to_csv('Data/Pre1790/cleaned/liquidated_debt_certificates_PA_story_cleaned.csv')"
   ]
  },
  {
   "cell_type": "markdown",
   "metadata": {},
   "source": [
    "## Pennsylvania P2"
   ]
  },
  {
   "cell_type": "code",
   "execution_count": 600,
   "metadata": {},
   "outputs": [],
   "source": [
    "#Read in file\n",
    "PA2 = pd.read_excel(\"Data/Pre1790/liquidated_debt_certificates_PA_stelle.xlsx\", header = 11)\n",
    "cols = [\"JPEG number\",\"Number\",\"Letter\",\"Date of the Certificate: Year\",\n",
    "        \"Date of the Certificate: Month\",\"Date of the Certificate: Date\",\"Title\",\"First name\",\"Last name\",\"Title 2\",\"First name 2\",\"Last name 2\",\n",
    "        \"Time when the debt became due: Year\", \"Time when the debt became due: Month\",\"Time when the debt became due: Day\",\n",
    "        \"Dollars\",\"90th\",\"Line Strike Thorugh?\",\"Notes\"]\n",
    "PA2 = PA2[PA2.columns[1:21]]\n",
    "PA2.columns = cols\n",
    "\n",
    "PA2['original text'] = np.nan\n",
    "PA2['Cleaning notes'] = np.nan\n",
    "\n",
    "PA2 = PA2[[not pd.isnull(x) or not pd.isnull(y) for x, y in zip(PA2['First name'], PA2['Last name'])]]"
   ]
  },
  {
   "cell_type": "code",
   "execution_count": 601,
   "metadata": {},
   "outputs": [],
   "source": [
    "repl_index = PA2[PA2['First name'] == 'John Maxwell Nesbitt & Coy'].index\n",
    "PA2.loc[repl_index, 'First name'] = 'John Maxwell Nesbitt & Co'\n",
    "repl_index = PA2[PA2['First name'] == 'Joseph Ball & Coy'].index\n",
    "PA2.loc[repl_index, 'First name'] = 'Joseph Ball & Co'"
   ]
  },
  {
   "cell_type": "code",
   "execution_count": 602,
   "metadata": {},
   "outputs": [],
   "source": [
    "repl_index = PA2[PA2['First name'].apply(lambda x: not pd.isnull(x) and ('& co' in x.lower() or '& son' in x.lower()))].index\n",
    "PA2.loc[repl_index, ['original text']] = PA2.loc[repl_index, 'First name']\n",
    "PA2.loc[repl_index, ['Cleaning notes']] = PA2.loc[repl_index, 'First name'].apply(lambda x: x.strip().split(\"&\")[-1].strip())\n",
    "PA2.loc[repl_index, ['First name']] =  PA2.loc[repl_index, 'First name'].apply(lambda x: x.strip().split(\"&\")[0].strip())\n",
    "PA2.loc[repl_index, ['Last name']] =  PA2.loc[repl_index, 'First name'].apply(lambda x: x.strip().split(\" \")[-1].strip())\n",
    "PA2.loc[repl_index, ['First name']] =  PA2.loc[repl_index, 'First name'].apply(lambda x: \" \".join(x.strip().split(\" \")[:-1]).strip())"
   ]
  },
  {
   "cell_type": "code",
   "execution_count": 603,
   "metadata": {},
   "outputs": [],
   "source": [
    "repl_index = PA2[PA2['First name'].apply(lambda x: not pd.isnull(x) and '&' in x.lower())].index\n",
    "PA2.loc[repl_index, ['original text']] = PA2.loc[repl_index, 'First name']\n",
    "PA2.loc[repl_index, ['Last name 2']] = PA2.loc[repl_index, 'First name'].apply(lambda x: x.strip().split(\"&\")[-1])\n",
    "PA2.loc[repl_index, ['Last name']] = PA2.loc[repl_index, 'First name'].apply(lambda x: x.strip().split(\"&\")[0])\n",
    "PA2.loc[repl_index, ['First name']] = np.nan"
   ]
  },
  {
   "cell_type": "code",
   "execution_count": 604,
   "metadata": {},
   "outputs": [],
   "source": [
    "repl_index = PA2[PA2['First name'].apply(lambda x: not pd.isnull(x) and ' and co' in x.lower())].index\n",
    "PA2.loc[repl_index, ['original text']] = PA2.loc[repl_index, 'First name']\n",
    "PA2.loc[repl_index, ['Cleaning notes']] = PA2.loc[repl_index, 'First name'].apply(lambda x: x.strip().split(\"and\")[-1].strip())\n",
    "PA2.loc[repl_index, ['First name']] =  PA2.loc[repl_index, 'First name'].apply(lambda x: x.strip().split(\"and\")[0].strip())\n",
    "PA2.loc[repl_index, ['Last name']] =  PA2.loc[repl_index, 'First name'].apply(lambda x: x.strip().split(\" \")[-1].strip())\n",
    "PA2.loc[repl_index, ['First name']] =  PA2.loc[repl_index, 'First name'].apply(lambda x: \" \".join(x.strip().split(\" \")[:-1]).strip())"
   ]
  },
  {
   "cell_type": "code",
   "execution_count": 605,
   "metadata": {},
   "outputs": [],
   "source": [
    "repl_index = PA2[[not pd.isnull(x) and ' and ' in x.lower() and not pd.isnull(y) for x,y in zip(PA2['First name'], PA2['Last name'])]].index\n",
    "PA2.loc[repl_index, 'original text'] = PA2.loc[repl_index, 'First name'] + \" \" + PA2.loc[repl_index, 'Last name']\n",
    "PA2.loc[repl_index, ['First name 2']] = PA2.loc[repl_index, 'First name'].apply(lambda x: x.split(\" and \")[-1].strip())\n",
    "PA2.loc[repl_index, ['First name']] = PA2.loc[repl_index, 'First name'].apply(lambda x: \" \".join(x.split(\" and \")[:-1]).strip())\n",
    "PA2.loc[repl_index, ['Last name 2']] = PA2.loc[repl_index, 'Last name']"
   ]
  },
  {
   "cell_type": "code",
   "execution_count": 606,
   "metadata": {},
   "outputs": [],
   "source": [
    "repl_index = PA2[[not pd.isnull(x) and 'and ' in x.lower()  and len(x.split(\" \")) <= 3 for x in PA2['First name']]].index\n",
    "PA2.loc[repl_index, 'original text'] = PA2.loc[repl_index, 'First name']\n",
    "PA2.loc[repl_index, 'Last name 2'] = PA2.loc[repl_index, 'First name'].apply(lambda x: x.split(\" and \")[-1])\n",
    "PA2.loc[repl_index, 'Last name'] = PA2.loc[repl_index, 'First name'].apply(lambda x: x.split(\" and \")[0])\n",
    "PA2.loc[repl_index, 'First name'] = np.nan"
   ]
  },
  {
   "cell_type": "code",
   "execution_count": 607,
   "metadata": {},
   "outputs": [],
   "source": [
    "repl_index = PA2[[not pd.isnull(x) and 'and ' in x.lower() for x in PA2['First name']]].index\n",
    "PA2.loc[repl_index, 'original text'] = PA2.loc[repl_index, 'First name']\n",
    "PA2.loc[repl_index, 'First name 2'] = PA2.loc[repl_index, 'First name'].apply(lambda x: x.split(\" and \")[-1])\n",
    "PA2.loc[repl_index, 'Last name 2'] = PA2.loc[repl_index, 'First name 2'].apply(lambda x: x.split(\" \")[-1])\n",
    "PA2.loc[repl_index, 'First name 2'] = PA2.loc[repl_index, 'First name 2'].apply(lambda x: \" \".join(x.split(\" \")[:-1]).strip())\n",
    "PA2.loc[repl_index, 'First name'] = PA2.loc[repl_index, 'First name'].apply(lambda x: x.split(\" and \")[0])\n",
    "PA2.loc[repl_index, 'Last name'] = PA2.loc[repl_index, 'First name'].apply(lambda x: x.split(\" \")[-1])\n",
    "PA2.loc[repl_index, 'First name'] = PA2.loc[repl_index, 'First name'].apply(lambda x: \" \".join(x.split(\" \")[:-1]).strip())"
   ]
  },
  {
   "cell_type": "code",
   "execution_count": 608,
   "metadata": {},
   "outputs": [],
   "source": [
    "repl_index = PA2[PA2['First name'].apply(lambda x: not pd.isnull(x) and 'estate' in x.lower())].index\n",
    "PA2.loc[repl_index, ['original text']] = PA2.loc[repl_index, 'First name']\n",
    "PA2.loc[repl_index, ['Cleaning notes']] = 'estate'\n",
    "PA2.loc[repl_index, ['First name']] = PA2.loc[repl_index, 'First name'].apply(lambda x: x.lower().replace('estate', '').replace('of', '').strip())\n",
    "PA2.loc[repl_index, ['Last name']] = PA2.loc[repl_index, 'First name'].apply(lambda x: x.split(\" \")[-1].strip())\n",
    "PA2.loc[repl_index, ['First name']] = PA2.loc[repl_index, 'First name'].apply(lambda x: \" \".join(x.split(\" \")[:-1]).strip())"
   ]
  },
  {
   "cell_type": "code",
   "execution_count": 609,
   "metadata": {},
   "outputs": [],
   "source": [
    "repl_index = PA2[PA2['First name'].apply(lambda x: not pd.isnull(x) and 'heir' in x.lower())].index\n",
    "PA2.loc[repl_index, ['original text']] = PA2.loc[repl_index, 'First name']\n",
    "PA2.loc[repl_index, ['Cleaning notes']] = 'heirs'\n",
    "PA2.loc[repl_index, ['First name']] = PA2.loc[repl_index, 'First name'].apply(lambda x: x.lower().replace('heirs', '').replace('of', '').strip())\n",
    "PA2.loc[repl_index, ['Last name']] = PA2.loc[repl_index, 'First name'].apply(lambda x: x.split(\" \")[-1].strip())\n",
    "PA2.loc[repl_index, ['First name']] = PA2.loc[repl_index, 'First name'].apply(lambda x: \" \".join(x.split(\" \")[:-1]).strip())"
   ]
  },
  {
   "cell_type": "code",
   "execution_count": 610,
   "metadata": {},
   "outputs": [],
   "source": [
    "repl_index = PA2[PA2['First name'].apply(lambda x: not pd.isnull(x) and 'esatate' in x.lower())].index\n",
    "PA2.loc[repl_index, ['original text']] = PA2.loc[repl_index, 'First name']\n",
    "PA2.loc[repl_index, ['Cleaning notes']] = 'estate'\n",
    "PA2.loc[repl_index, ['First name']] = PA2.loc[repl_index, 'First name'].apply(lambda x: x.lower().replace('esatate', '').replace('of', '').strip())\n",
    "PA2.loc[repl_index, ['Last name']] = PA2.loc[repl_index, 'First name'].apply(lambda x: x.split(\" \")[-1].strip())\n",
    "PA2.loc[repl_index, ['First name']] = PA2.loc[repl_index, 'First name'].apply(lambda x: \" \".join(x.split(\" \")[:-1]).strip())"
   ]
  },
  {
   "cell_type": "code",
   "execution_count": 611,
   "metadata": {},
   "outputs": [],
   "source": [
    "repl_index = PA2[PA2['First name'].apply(lambda x: not pd.isnull(x) and x.lower() == 'John Finney McClenaghan')].index\n",
    "PA2.loc[repl_index, ['original text', 'First name', 'Last name']] = ['John Finney McClenaghan', 'John Finney', 'McCLenaghan']"
   ]
  },
  {
   "cell_type": "code",
   "execution_count": 613,
   "metadata": {},
   "outputs": [],
   "source": [
    "PA2.to_csv(\"Data/Pre1790/cleaned/liquidated_debt_certificates_PA_stelle_cleaned.csv\")"
   ]
  },
  {
   "cell_type": "markdown",
   "metadata": {},
   "source": [
    "## Rhode Island"
   ]
  },
  {
   "cell_type": "code",
   "execution_count": 651,
   "metadata": {},
   "outputs": [],
   "source": [
    "RI = pd.read_excel(\"Data/Pre1790/liquidated_debt_certificates_RI.xlsx\", header = 12)\n",
    "cols =  [\"Page\", \"JPEG number\",\"Number\",\"Letter\",\"Date of the Certificate: Month\",\n",
    "        \"Date of the Certificate: Day\",\"Date of the Certificate: Year\",\"First name\",\"Last name\",\n",
    "        \"Title\",\"First name 2\",\"Last name 2\",\"Title 2\",\"Time when the debt became due: Month\",\n",
    "        \"Time when the debt became due: Day\", \"Time when the debt became due: Year\",\"Dollars\",\"90th\",\n",
    "        \"8th\"]\n",
    "RI = RI[RI.columns[0:19]]\n",
    "RI.columns = cols\n",
    "\n",
    "\n",
    "RI['original text'] = np.nan\n",
    "RI['Cleaning notes'] = np.nan\n",
    "\n",
    "RI = RI[[not pd.isnull(x) or not pd.isnull(y) for x, y in zip(RI['First name'], RI['Last name'])]]"
   ]
  },
  {
   "cell_type": "code",
   "execution_count": 652,
   "metadata": {},
   "outputs": [],
   "source": [
    "repl_index = RI[RI['First name'].apply(lambda x: ' &' in x)].index\n",
    "RI.loc[repl_index, ['First name']] = RI.loc[repl_index, 'First name'].apply(lambda x: x.replace(\"&\",\"\").strip())"
   ]
  },
  {
   "cell_type": "code",
   "execution_count": 653,
   "metadata": {},
   "outputs": [],
   "source": [
    "repl_index = RI[RI['First name'].apply(lambda x: 'dec' in x.lower())].index\n",
    "RI.loc[repl_index, ['original text']] = RI.loc[repl_index, 'First name']\n",
    "RI.loc[repl_index, ['Cleaning notes']] = 'estate, deceased'\n",
    "RI.loc[repl_index, ['First name']] = RI.loc[repl_index, 'First name'].apply(lambda x: x.lower().replace(\"estate of\", \"\").replace(\"deceasd\", \"\").replace(\"dec\", \"\").replace(\"'\",\"\").strip())\n",
    "RI.loc[repl_index, ['Last name']] = RI.loc[repl_index, 'First name'].apply(lambda x: x.split(\" \")[-1].strip())\n",
    "RI.loc[repl_index, ['First name']] = RI.loc[repl_index, 'First name'].apply(lambda x: \" \".join(x.split(\" \")[:-1]).strip())"
   ]
  },
  {
   "cell_type": "code",
   "execution_count": 654,
   "metadata": {},
   "outputs": [],
   "source": [
    "repl_index = RI[RI['First name'].apply(lambda x: x == 'Estate of Allen Brown')].index\n",
    "RI.loc[repl_index, ['First name', 'Last name', 'original text', 'Cleaning notes']] = ['Allen', 'Brown', 'Estate of Allen Brown', 'estate']\n",
    "repl_index = RI[RI['First name'].apply(lambda x: x == 'Estate of Col.Chris .Greene')].index\n",
    "RI.loc[repl_index, ['First name', 'Last name', 'Title', 'original text', 'Cleaning notes']] = ['Chris', 'Greene', 'Col', 'Estate of Col.Chris .Greene', 'estate']"
   ]
  },
  {
   "cell_type": "code",
   "execution_count": 659,
   "metadata": {},
   "outputs": [],
   "source": [
    "RI.to_csv(\"Data/Pre1790/cleaned/liquidated_debt_certificates_RI_cleaned.csv\")"
   ]
  }
 ],
 "metadata": {
  "kernelspec": {
   "display_name": "Python 3",
   "language": "python",
   "name": "python3"
  },
  "language_info": {
   "codemirror_mode": {
    "name": "ipython",
    "version": 3
   },
   "file_extension": ".py",
   "mimetype": "text/x-python",
   "name": "python",
   "nbconvert_exporter": "python",
   "pygments_lexer": "ipython3",
   "version": "3.7.4"
  }
 },
 "nbformat": 4,
 "nbformat_minor": 4
}
