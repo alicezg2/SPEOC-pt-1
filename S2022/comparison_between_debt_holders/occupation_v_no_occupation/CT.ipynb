{
 "cells": [
  {
   "cell_type": "code",
   "execution_count": 16,
   "id": "5d65f892",
   "metadata": {},
   "outputs": [],
   "source": [
    "import pandas as pd\n",
    "import numpy as np\n",
    "import matplotlib.pyplot as plt\n",
    "from scipy import stats"
   ]
  },
  {
   "cell_type": "code",
   "execution_count": 17,
   "id": "ac1f994e",
   "metadata": {},
   "outputs": [
    {
     "name": "stdout",
     "output_type": "stream",
     "text": [
      "     State Occupation  Dollar  Cents  Dollar.1  Cents.1  Dollar.2  Cents.2\n",
      "0       CT   Merchant  1064.0   75.0     532.0     37.0     508.0     51.0\n",
      "1       CT     Farmer   449.0   96.0     224.0     97.0     232.0     10.0\n",
      "2       RI     Farmer   154.0   20.0      77.0     10.0     192.0      NaN\n",
      "3       CT   Merchant   196.0   75.0      98.0     37.0     172.0     24.0\n",
      "4       CT   Merchant    53.0   58.0      26.0     79.0      67.0      6.0\n",
      "...    ...        ...     ...    ...       ...      ...       ...      ...\n",
      "1002   NaN        NaN     NaN    NaN       NaN      NaN      46.0     30.0\n",
      "1003   NaN        NaN     NaN    NaN       NaN      NaN       NaN      2.0\n",
      "1004    CT        NaN   237.0   87.0     277.0     64.0     166.0     54.0\n",
      "1005    CT    Esquire   196.0   63.0      98.0     31.0     223.0     92.0\n",
      "1006    CT    Esquire   249.0   90.0     124.0     95.0     144.0      0.0\n",
      "\n",
      "[1007 rows x 8 columns]\n"
     ]
    }
   ],
   "source": [
    "state = 'CT'\n",
    "ct_excel = pd.read_excel(r\"C:\\Users\\david\\OneDrive\\Documents\\GitHub\\SPEOC-pt-1\\Data\\Post1790\\CT\\CT_post1790_CD_ledger.xlsx\",\n",
    "                             header=13, usecols='K, L, N, O, AD, AE, AT, AU') \n",
    "print(ct_excel)"
   ]
  },
  {
   "cell_type": "code",
   "execution_count": 18,
   "id": "1501ef7b",
   "metadata": {},
   "outputs": [
    {
     "name": "stdout",
     "output_type": "stream",
     "text": [
      "     Occupation  Dollar  Cents  Dollar.1  Cents.1  Dollar.2  Cents.2\n",
      "0      Merchant  1064.0   75.0     532.0     37.0     508.0     51.0\n",
      "1        Farmer   449.0   96.0     224.0     97.0     232.0     10.0\n",
      "3      Merchant   196.0   75.0      98.0     37.0     172.0     24.0\n",
      "4      Merchant    53.0   58.0      26.0     79.0      67.0      6.0\n",
      "5           NaN   345.0   50.0     172.0     75.0     248.0     76.0\n",
      "...         ...     ...    ...       ...      ...       ...      ...\n",
      "946      Farmer    51.0   36.0      25.0     68.0      36.0     97.0\n",
      "948         NaN    60.0   23.0      30.0     62.0       NaN      NaN\n",
      "1004        NaN   237.0   87.0     277.0     64.0     166.0     54.0\n",
      "1005    Esquire   196.0   63.0      98.0     31.0     223.0     92.0\n",
      "1006    Esquire   249.0   90.0     124.0     95.0     144.0      0.0\n",
      "\n",
      "[885 rows x 7 columns]\n"
     ]
    }
   ],
   "source": [
    "ct_excel = ct_excel[ct_excel['State'].str.contains(state) == True].drop('State', axis=1)\n",
    "print(ct_excel)"
   ]
  },
  {
   "cell_type": "code",
   "execution_count": 19,
   "id": "43c6c7af",
   "metadata": {},
   "outputs": [],
   "source": [
    "def get_debt_no_job(occupations):\n",
    "    no_occ = occupations[occupations['Occupation'].isna()] #query all people listed who have debt but no occupation listed\n",
    "    no_occ_copy = no_occ.copy() #avoid settingcopywarning warning\n",
    "    no_occ_copy[['Cents', 'Cents.1', 'Cents.2']] = no_occ_copy[['Cents', 'Cents.1', 'Cents.2']].div(100) #divide cents column by 100\n",
    "    total = no_occ_copy[['Dollar', 'Dollar.1', 'Dollar.2', 'Cents', 'Cents.1', 'Cents.2']].sum(axis=1) #find total with dollar and cents separate columns    \n",
    "\n",
    "    return total.to_frame(name='totals') #convert to more usable dataframe format"
   ]
  },
  {
   "cell_type": "code",
   "execution_count": 20,
   "id": "be846a98",
   "metadata": {},
   "outputs": [],
   "source": [
    "def get_debt_w_job(occupations):\n",
    "    occ = occupations[occupations['Occupation'].notna()] #query all people listed who have debt with an occupation listed\n",
    "    occ_copy = occ.copy() #avoid settingcopywarning warning\n",
    "    occ_copy[['Cents', 'Cents.1', 'Cents.2']] = occ_copy[['Cents', 'Cents.1', 'Cents.2']].div(100) #divide cents column by 100\n",
    "    total = occ_copy[['Dollar', 'Dollar.1', 'Dollar.2', 'Cents', 'Cents.1', 'Cents.2']].sum(axis=1) #find total with dollar and cents separate columns       \n",
    "    \n",
    "    return total.to_frame(name='totals.2') #convert to more usable dataframe format "
   ]
  },
  {
   "cell_type": "code",
   "execution_count": 21,
   "id": "397945ab",
   "metadata": {},
   "outputs": [
    {
     "data": {
      "image/png": "[encoded data removed]",
      "text/plain": [
       "<Figure size 432x288 with 1 Axes>"
      ]
     },
     "metadata": {
      "needs_background": "light"
     },
     "output_type": "display_data"
    }
   ],
   "source": [
    "def plot(excel):\n",
    "    no_occ = get_debt_no_job(excel)['totals'].reset_index(drop=True) #get dataframe for people with no occupation listed\n",
    "    occ = get_debt_w_job(excel)['totals.2'].reset_index(drop=True) #get dataframe for people with an occupation listed\n",
    "    \n",
    "    NoOccExcel = pd.read_excel('NoOccupation.xlsx')\n",
    "    OccExcel = pd.read_excel('Occupation.xlsx')\n",
    "    \n",
    "    ConcatDfNoOcc = pd.concat([NoOccExcel, no_occ], ignore_index=True, axis=1)\n",
    "    ConcatDfOcc = pd.concat([OccExcel, occ], ignore_index=True, axis=1)\n",
    "    \n",
    "    ConcatDfNoOcc.to_excel('NoOccupation.xlsx', index=False)\n",
    "    ConcatDfOcc.to_excel('Occupation.xlsx', index=False)\n",
    "    \n",
    "    plt.hist(no_occ, color='skyblue', edgecolor='black', range=[0,4000], bins=50, label='Occupation Not Listed', weights=np.ones_like(no_occ) / len(no_occ)) #plot\n",
    "    plt.hist(occ, color='red', edgecolor='black', range=[0,4000], bins=50, alpha=0.5, label='Occupation Listed', weights=np.ones_like(occ) / len(occ)) #plot\n",
    "    title = \"Comparing Debt Holdings of Individuals with Occupation Listed vs Individuals with no Occupation Listed (\" + state + \")\"\n",
    "    plt.title(title) #add title\n",
    "    plt.xlabel(\"Total Debt Held By an Individual in Dollars\") #add x title\n",
    "    plt.ylabel(\"Frequency\") #add y title\n",
    "    plt.legend() #add legend\n",
    "    \n",
    "plot(ct_excel)"
   ]
  },
  {
   "cell_type": "code",
   "execution_count": 22,
   "id": "2bc5c21a",
   "metadata": {
    "scrolled": true
   },
   "outputs": [
    {
     "data": {
      "text/plain": [
       "KstestResult(statistic=0.2611956343680891, pvalue=9.314771176605063e-14)"
      ]
     },
     "execution_count": 22,
     "metadata": {},
     "output_type": "execute_result"
    }
   ],
   "source": [
    "def calculate_ks():\n",
    "    rng = np.random.default_rng() \n",
    "    n1 = len(get_debt_no_job(ct_excel))\n",
    "    n2 = len(get_debt_w_job(ct_excel))\n",
    "    \n",
    "    rvs1 = stats.norm.rvs(size=n1, loc=0., scale=1, random_state=rng)\n",
    "    rvs2 = stats.norm.rvs(size=n2, loc=0.5, scale=1.5, random_state=rng)\n",
    "    return stats.ks_2samp(rvs1, rvs2)\n",
    "    \n",
    "calculate_ks()"
   ]
  }
 ],
 "metadata": {
  "kernelspec": {
   "display_name": "Python 3 (ipykernel)",
   "language": "python",
   "name": "python3"
  },
  "language_info": {
   "codemirror_mode": {
    "name": "ipython",
    "version": 3
   },
   "file_extension": ".py",
   "mimetype": "text/x-python",
   "name": "python",
   "nbconvert_exporter": "python",
   "pygments_lexer": "ipython3",
   "version": "3.7.9"
  }
 },
 "nbformat": 4,
 "nbformat_minor": 5
}
