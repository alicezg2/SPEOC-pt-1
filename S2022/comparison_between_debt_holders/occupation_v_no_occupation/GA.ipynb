{
 "cells": [
  {
   "cell_type": "code",
   "execution_count": 9,
   "id": "6b5d2fda",
   "metadata": {
    "pycharm": {
     "name": "#%%\n"
    }
   },
   "outputs": [],
   "source": [
    "import pandas as pd\n",
    "import numpy as np\n",
    "import matplotlib.pyplot as plt"
   ]
  },
  {
   "cell_type": "code",
   "execution_count": 10,
   "id": "1f6cd2cf",
   "metadata": {
    "pycharm": {
     "name": "#%%\n"
    }
   },
   "outputs": [
    {
     "name": "stdout",
     "output_type": "stream",
     "text": [
      "   Occupation     Total\n",
      "0         NaN       NaN\n",
      "1    Merchant    142.67\n",
      "2         NaN   1905.70\n",
      "3    Merchant    228.90\n",
      "4         NaN   4189.56\n",
      "..        ...       ...\n",
      "62    Mariner    478.64\n",
      "63  Merchants     27.29\n",
      "64        NaN  23985.60\n",
      "65        NaN       NaN\n",
      "66        NaN       NaN\n",
      "\n",
      "[67 rows x 2 columns]\n"
     ]
    }
   ],
   "source": [
    "state = 'GA'\n",
    "ga_excel = pd.read_excel(r\"C:\\Users\\david\\OneDrive\\Documents\\GitHub\\SPEOC-pt-1\\Data\\Post1790\\GA\\T694_GA_Loan_Office_CD.xlsx\",\n",
    "                             header=9, usecols='U, AF') \n",
    "ga_excel = ga_excel.drop(index=[63]).reset_index(drop=True)\n",
    "print(ga_excel)"
   ]
  },
  {
   "cell_type": "code",
   "execution_count": 11,
   "id": "d82bee4b",
   "metadata": {
    "pycharm": {
     "name": "#%%\n"
    }
   },
   "outputs": [],
   "source": [
    "def get_debt_no_job(occupations):\n",
    "    no_occ = occupations[occupations['Occupation'].isna()] #query all people listed who have debt but no occupation listed\n",
    "    total = no_occ['Total']\n",
    "    \n",
    "    print(total)\n",
    "    \n",
    "    return total.to_frame(name='totals') #convert to more usable dataframe format\n",
    "\n",
    "def get_debt_w_job(occupations):\n",
    "    occ = occupations[occupations['Occupation'].notna()] #query all people listed who have debt with an occupation listed\n",
    "    total = occ['Total']\n",
    "    \n",
    "    print(total)\n",
    "    \n",
    "    return total.to_frame(name='totals.2') #convert to more usable dataframe format \n",
    "\n",
    "def plot(excel):\n",
    "    no_occ = get_debt_no_job(excel)['totals'].reset_index(drop=True) #get dataframe for people with no occupation listed\n",
    "    occ = get_debt_w_job(excel)['totals.2'].reset_index(drop=True) #get dataframe for people with an occupation listed\n",
    "    \n",
    "    NoOccExcel = pd.read_excel('NoOccupation.xlsx')\n",
    "    OccExcel = pd.read_excel('Occupation.xlsx')\n",
    "    \n",
    "    ConcatDfNoOcc = pd.concat([NoOccExcel, no_occ], ignore_index=True, axis=1)\n",
    "    ConcatDfOcc = pd.concat([OccExcel, occ], ignore_index=True, axis=1)\n",
    "    \n",
    "    ConcatDfNoOcc.to_excel('NoOccupation.xlsx', index=False)\n",
    "    ConcatDfOcc.to_excel('Occupation.xlsx', index=False)\n",
    "    \n",
    "    plt.hist(no_occ, color='skyblue', edgecolor='black', range=[0,4000], bins=100, label='Occupation Not Listed', weights=np.ones_like(no_occ) / len(no_occ)) #plot\n",
    "    plt.hist(occ, color='red', edgecolor='black', range=[0,4000], bins=50, alpha=0.5, label='Occupation Listed', weights=np.ones_like(occ) / len(occ)) #plot\n",
    "    title = \"Comparing Debt Holdings of Individuals with Occupation Listed vs Individuals with no Occupation Listed (\" + state + \")\"\n",
    "    plt.title(title) #add title\n",
    "    plt.xlabel(\"Total Debt Held By an Individual in Dollars\") #add x title\n",
    "    plt.ylabel(\"Frequency\") #add y title\n",
    "    plt.legend() #add legend"
   ]
  },
  {
   "cell_type": "code",
   "execution_count": 12,
   "id": "167399a4",
   "metadata": {
    "pycharm": {
     "name": "#%%\n"
    }
   },
   "outputs": [
    {
     "name": "stdout",
     "output_type": "stream",
     "text": [
      "0            NaN\n",
      "2      1905.7000\n",
      "4      4189.5600\n",
      "5      2559.2300\n",
      "6       648.3100\n",
      "7       152.3100\n",
      "8       123.1300\n",
      "9       295.8400\n",
      "10      118.3200\n",
      "11      341.2666\n",
      "13      648.3066\n",
      "16      834.0966\n",
      "17      859.1700\n",
      "22     7496.7300\n",
      "23     3381.5366\n",
      "24     2367.3500\n",
      "25     5914.5300\n",
      "27        7.9566\n",
      "28      741.5700\n",
      "29     1746.1266\n",
      "30      568.3300\n",
      "31      193.4866\n",
      "32      285.8400\n",
      "35      295.1500\n",
      "36     3758.2800\n",
      "37      474.0100\n",
      "38     2319.3363\n",
      "39      961.9566\n",
      "41        8.8666\n",
      "42       13.0266\n",
      "43      442.5100\n",
      "45      283.1566\n",
      "47      345.8200\n",
      "48      338.4100\n",
      "49      177.8266\n",
      "50     2515.8066\n",
      "51     3561.8166\n",
      "52     9035.2500\n",
      "53     1677.0400\n",
      "54       68.4300\n",
      "55     1686.6800\n",
      "64    23985.6000\n",
      "65           NaN\n",
      "66           NaN\n",
      "Name: Total, dtype: float64\n",
      "1       142.6700\n",
      "3       228.9000\n",
      "12     2178.1566\n",
      "14      133.4866\n",
      "15      339.4366\n",
      "18      556.1766\n",
      "19      270.5500\n",
      "20    17892.7566\n",
      "21      296.5160\n",
      "26     9607.5266\n",
      "33      354.1000\n",
      "34     2767.8000\n",
      "40      911.5266\n",
      "44      505.3500\n",
      "46      176.2566\n",
      "56       39.1800\n",
      "57      883.7700\n",
      "58      826.7700\n",
      "59      160.0800\n",
      "60      370.9500\n",
      "61      478.6400\n",
      "62      478.6400\n",
      "63       27.2900\n",
      "Name: Total, dtype: float64\n"
     ]
    },
    {
     "data": {
      "image/png": "[encoded data removed]",
      "text/plain": [
       "<Figure size 432x288 with 1 Axes>"
      ]
     },
     "metadata": {
      "needs_background": "light"
     },
     "output_type": "display_data"
    }
   ],
   "source": [
    "plot(ga_excel)"
   ]
  }
 ],
 "metadata": {
  "kernelspec": {
   "display_name": "Python 3 (ipykernel)",
   "language": "python",
   "name": "python3"
  },
  "language_info": {
   "codemirror_mode": {
    "name": "ipython",
    "version": 3
   },
   "file_extension": ".py",
   "mimetype": "text/x-python",
   "name": "python",
   "nbconvert_exporter": "python",
   "pygments_lexer": "ipython3",
   "version": "3.7.9"
  }
 },
 "nbformat": 4,
 "nbformat_minor": 5
}