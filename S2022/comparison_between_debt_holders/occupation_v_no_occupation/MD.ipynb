{
 "cells": [
  {
   "cell_type": "code",
   "execution_count": 19,
   "id": "34dc4338",
   "metadata": {},
   "outputs": [],
   "source": [
    "import pandas as pd\n",
    "import numpy as np\n",
    "import matplotlib.pyplot as plt"
   ]
  },
  {
   "cell_type": "code",
   "execution_count": 20,
   "id": "bb4fa3f8",
   "metadata": {},
   "outputs": [
    {
     "name": "stdout",
     "output_type": "stream",
     "text": [
      "    Occupation  Dollars  Cents  Dollars.1  Cents.1  Dollars.2  Cents.2\n",
      "0    Merchants  26745.0   77.0    13372.0     88.0    50000.0     51.0\n",
      "1          NaN   2049.0   84.0     1024.0     91.0     1470.0     48.0\n",
      "2          NaN   1215.0   45.0      607.0     72.0     1292.0     90.0\n",
      "3          NaN    155.0   13.0       77.0     56.0      150.0     91.0\n",
      "4          NaN    188.0   89.0       94.0     44.0      121.0     12.0\n",
      "..         ...      ...    ...        ...      ...        ...      ...\n",
      "622        NaN      NaN    NaN        NaN      NaN      291.0     20.0\n",
      "623        NaN      NaN    NaN        NaN      NaN     1173.0      NaN\n",
      "624        NaN      NaN    NaN        NaN      NaN       29.0     89.0\n",
      "625        NaN      NaN    NaN        NaN      NaN     2372.0     48.0\n",
      "626        NaN     23.0   42.0       11.0     71.0       18.0     97.0\n",
      "\n",
      "[627 rows x 7 columns]\n"
     ]
    }
   ],
   "source": [
    "state = 'MD'\n",
    "md_excel = pd.read_excel(r\"C:\\Users\\david\\OneDrive\\Documents\\GitHub\\SPEOC-pt-1\\Data\\Post1790\\MD\\MD_post1790_CD.xlsx\",\n",
    "                             header=11, usecols='K, L, M, Z, AA, AN, AO') \n",
    "print(md_excel)"
   ]
  },
  {
   "cell_type": "code",
   "execution_count": 21,
   "id": "751dd7b0",
   "metadata": {},
   "outputs": [],
   "source": [
    "def get_debt_no_job(occupations):\n",
    "    no_occ = occupations[occupations['Occupation'].isna()] #query all people listed who have debt but no occupation listed\n",
    "    no_occ_copy = no_occ.copy() #avoid settingcopywarning warning\n",
    "    no_occ_copy[['Cents', 'Cents.1', 'Cents.2']] = no_occ_copy[['Cents', 'Cents.1', 'Cents.2']].div(100) #divide cents column by 100\n",
    "    total = no_occ_copy[['Dollars', 'Dollars.1', 'Dollars.2', 'Cents', 'Cents.1', 'Cents.2']].sum(axis=1) #find total with dollar and cents separate columns    \n",
    "\n",
    "    return total.to_frame(name='totals') #convert to more usable dataframe format\n",
    "\n",
    "def get_debt_w_job(occupations):\n",
    "    occ = occupations[occupations['Occupation'].notna()] #query all people listed who have debt with an occupation listed\n",
    "    occ_copy = occ.copy() #avoid settingcopywarning warning\n",
    "    occ_copy[['Cents', 'Cents.1', 'Cents.2']] = occ_copy[['Cents', 'Cents.1', 'Cents.2']].div(100) #divide cents column by 100\n",
    "    total = occ_copy[['Dollars', 'Dollars.1', 'Dollars.2', 'Cents', 'Cents.1', 'Cents.2']].sum(axis=1) #find total with dollar and cents separate columns       \n",
    "    \n",
    "    return total.to_frame(name='totals.2') #convert to more usable dataframe format \n",
    "\n",
    "def AddToExcel(excel):\n",
    "    no_occ = get_debt_no_job(excel)['totals'].reset_index(drop=True) #get dataframe for people with no occupation listed\n",
    "    occ = get_debt_w_job(excel)['totals.2'].reset_index(drop=True) #get dataframe for people with an occupation listed\n",
    "    \n",
    "    NoOccExcel = pd.read_excel('NoOccupation.xlsx')\n",
    "    OccExcel = pd.read_excel('Occupation.xlsx')\n",
    "    \n",
    "    ConcatDfNoOcc = pd.concat([NoOccExcel, no_occ], ignore_index=True, axis=1)\n",
    "    ConcatDfOcc = pd.concat([OccExcel, occ], ignore_index=True, axis=1)\n",
    "    \n",
    "    ConcatDfNoOcc.to_excel('NoOccupation.xlsx', index=False)\n",
    "    ConcatDfOcc.to_excel('Occupation.xlsx', index=False)\n"
   ]
  },
  {
   "cell_type": "code",
   "execution_count": 22,
   "id": "ee2a3dee",
   "metadata": {},
   "outputs": [],
   "source": [
    "AddToExcel(md_excel) "
   ]
  }
 ],
 "metadata": {
  "kernelspec": {
   "display_name": "Python 3 (ipykernel)",
   "language": "python",
   "name": "python3"
  },
  "language_info": {
   "codemirror_mode": {
    "name": "ipython",
    "version": 3
   },
   "file_extension": ".py",
   "mimetype": "text/x-python",
   "name": "python",
   "nbconvert_exporter": "python",
   "pygments_lexer": "ipython3",
   "version": "3.7.9"
  }
 },
 "nbformat": 4,
 "nbformat_minor": 5
}
