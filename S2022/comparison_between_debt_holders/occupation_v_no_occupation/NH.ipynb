{
 "cells": [
  {
   "cell_type": "code",
   "execution_count": 20,
   "id": "1c8b0318",
   "metadata": {},
   "outputs": [],
   "source": [
    "import pandas as pd\n",
    "import numpy as np\n",
    "import matplotlib.pyplot as plt"
   ]
  },
  {
   "cell_type": "code",
   "execution_count": 21,
   "id": "a3a133ab",
   "metadata": {},
   "outputs": [
    {
     "name": "stdout",
     "output_type": "stream",
     "text": [
      "    Occupation  Dollars.3  Cents.3\n",
      "0    Physician    2672.00     87.0\n",
      "1        Widow    4079.00     17.0\n",
      "2    Treasurer     224.00     43.0\n",
      "3      Esquire    8661.00     54.0\n",
      "4     Merchant    2063.00     37.0\n",
      "..         ...        ...      ...\n",
      "216     Trader      23.00     90.0\n",
      "217     Trader      72.00     75.0\n",
      "218   Merchant     550.00     87.0\n",
      "219        NaN        NaN      NaN\n",
      "220        NaN  462686.26      NaN\n",
      "\n",
      "[221 rows x 3 columns]\n"
     ]
    }
   ],
   "source": [
    "state = 'NH'\n",
    "nh_excel = pd.read_excel(r\"C:\\Users\\david\\OneDrive\\Documents\\GitHub\\SPEOC-pt-1\\Data\\Post1790\\NH\\T652_R6_New_Hampshire_CD.xlsx\",\n",
    "                             header=10, usecols='M, T, U') \n",
    "print(nh_excel)"
   ]
  },
  {
   "cell_type": "code",
   "execution_count": 22,
   "id": "1c5790a4",
   "metadata": {},
   "outputs": [
    {
     "name": "stdout",
     "output_type": "stream",
     "text": [
      "    Occupation  Dollars.3  Cents.3\n",
      "0    Physician    2672.00     0.87\n",
      "1        Widow    4079.00     0.17\n",
      "2    Treasurer     224.00     0.43\n",
      "3      Esquire    8661.00     0.54\n",
      "4     Merchant    2063.00     0.37\n",
      "..         ...        ...      ...\n",
      "216     Trader      23.00     0.90\n",
      "217     Trader      72.00     0.75\n",
      "218   Merchant     550.00     0.87\n",
      "219        NaN        NaN      NaN\n",
      "220        NaN  462686.26      NaN\n",
      "\n",
      "[221 rows x 3 columns]\n"
     ]
    }
   ],
   "source": [
    "nh_excel['Cents.3'] = nh_excel['Cents.3'].div(100)\n",
    "print(nh_excel)"
   ]
  },
  {
   "cell_type": "code",
   "execution_count": 23,
   "id": "6cafd1cc",
   "metadata": {},
   "outputs": [],
   "source": [
    "def get_debt_no_job(occupations):\n",
    "    no_occ = occupations[occupations['Occupation'].isna()] #query all people listed who have debt but no occupation listed\n",
    "    no_occ_copy = no_occ.copy() #avoid settingcopywarning warning\n",
    "    total = no_occ_copy[['Dollars.3', 'Cents.3']].sum(axis=1) #find total with dollar and cents separate columns    \n",
    "\n",
    "    return total.to_frame(name='totals') #convert to more usable dataframe format\n",
    "\n",
    "def get_debt_w_job(occupations):\n",
    "    occ = occupations[occupations['Occupation'].notna()] #query all people listed who have debt with an occupation listed\n",
    "    occ_copy = occ.copy() #avoid settingcopywarning warning\n",
    "    total = occ_copy[['Dollars.3', 'Cents.3']].sum(axis=1) #find total with dollar and cents separate columns       \n",
    "    \n",
    "    return total.to_frame(name='totals.2') #convert to more usable dataframe format \n",
    "\n",
    "def AddToExcel(excel):\n",
    "    no_occ = get_debt_no_job(excel)['totals'].reset_index(drop=True) #get dataframe for people with no occupation listed\n",
    "    occ = get_debt_w_job(excel)['totals.2'].reset_index(drop=True) #get dataframe for people with an occupation listed\n",
    "    \n",
    "    print(no_occ)\n",
    "    print(occ)\n",
    "    \n",
    "    NoOccExcel = pd.read_excel('NoOccupation.xlsx')\n",
    "    OccExcel = pd.read_excel('Occupation.xlsx')\n",
    "    \n",
    "    ConcatDfNoOcc = pd.concat([NoOccExcel, no_occ], ignore_index=True, axis=1)\n",
    "    ConcatDfOcc = pd.concat([OccExcel, occ], ignore_index=True, axis=1)\n",
    "    \n",
    "    ConcatDfNoOcc.to_excel('NoOccupation.xlsx', index=False)\n",
    "    ConcatDfOcc.to_excel('Occupation.xlsx', index=False)\n"
   ]
  },
  {
   "cell_type": "code",
   "execution_count": 24,
   "id": "e64f2986",
   "metadata": {},
   "outputs": [
    {
     "name": "stdout",
     "output_type": "stream",
     "text": [
      "0    137786.41\n",
      "1      3285.41\n",
      "2       298.32\n",
      "3       151.04\n",
      "4       149.72\n",
      "5        73.80\n",
      "6         0.00\n",
      "7    462686.26\n",
      "Name: totals, dtype: float64\n",
      "0      2672.87\n",
      "1      4079.17\n",
      "2       224.43\n",
      "3      8661.54\n",
      "4      2063.37\n",
      "        ...   \n",
      "208     427.23\n",
      "209      19.10\n",
      "210      23.90\n",
      "211      72.75\n",
      "212     550.87\n",
      "Name: totals.2, Length: 213, dtype: float64\n"
     ]
    }
   ],
   "source": [
    "AddToExcel(nh_excel)"
   ]
  }
 ],
 "metadata": {
  "kernelspec": {
   "display_name": "Python 3 (ipykernel)",
   "language": "python",
   "name": "python3"
  },
  "language_info": {
   "codemirror_mode": {
    "name": "ipython",
    "version": 3
   },
   "file_extension": ".py",
   "mimetype": "text/x-python",
   "name": "python",
   "nbconvert_exporter": "python",
   "pygments_lexer": "ipython3",
   "version": "3.7.9"
  }
 },
 "nbformat": 4,
 "nbformat_minor": 5
}
