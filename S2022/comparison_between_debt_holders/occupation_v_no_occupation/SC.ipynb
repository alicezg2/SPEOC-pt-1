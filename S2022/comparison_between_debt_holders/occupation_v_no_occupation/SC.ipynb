{
 "cells": [
  {
   "cell_type": "code",
   "execution_count": 216,
   "id": "fc53ce14",
   "metadata": {},
   "outputs": [],
   "source": [
    "import pandas as pd\n",
    "import numpy as np\n",
    "import matplotlib.pyplot as plt\n",
    "from openpyxl import load_workbook"
   ]
  },
  {
   "cell_type": "code",
   "execution_count": 217,
   "id": "5c855c09",
   "metadata": {
    "scrolled": false
   },
   "outputs": [
    {
     "name": "stdout",
     "output_type": "stream",
     "text": [
      "    Occupation  Dollars  Cents  Dollars.1  Cents.1  Dollars.2  Cents.2\n",
      "1      Mariner     83.0   0.33       41.0     0.66       80.0     0.43\n",
      "2     Merchant   1017.0   0.76      508.0     0.88      994.0     0.13\n",
      "3     Merchant     33.0   0.34       16.0     0.66       30.0     0.65\n",
      "4     Merchant    386.0   0.32      193.0     0.16      222.0     0.19\n",
      "5    Physician    322.0   0.70      161.0     0.36      246.0     0.69\n",
      "..         ...      ...    ...        ...      ...        ...      ...\n",
      "401        NaN    800.0   0.00        NaN      NaN        NaN      NaN\n",
      "402    Planter    104.0   0.78       52.0     0.39      113.0     0.96\n",
      "421        NaN     84.0   0.13       42.0     0.07       88.0     0.48\n",
      "426        NaN    242.0   0.67      121.0     0.33       79.0     0.52\n",
      "427   Marriner    180.0   0.47       90.0     0.24      207.0     0.93\n",
      "\n",
      "[315 rows x 7 columns]\n"
     ]
    }
   ],
   "source": [
    "state='SC'\n",
    "sc_excel = pd.read_excel(r\"C:\\Users\\david\\OneDrive\\Documents\\GitHub\\SPEOC-pt-1\\Data\\Post1790\\SC\\Post_1790_South_Carolina_CD.xlsx\",\n",
    "                             header=11, usecols='G, H, M, N, AB, AC, AQ, AR') \n",
    "sc_excel[['Cents', 'Cents.1', 'Cents.2']] = sc_excel[['Cents', 'Cents.1', 'Cents.2']].div(100)\n",
    "sc_excel = sc_excel.loc[sc_excel['State'] == state]\n",
    "sc_excel.drop('State', axis=1, inplace=True)\n",
    "print(sc_excel)     "
   ]
  },
  {
   "cell_type": "code",
   "execution_count": 218,
   "id": "9ac027e7",
   "metadata": {},
   "outputs": [],
   "source": [
    "def get_debt_no_job(occupations):\n",
    "    no_occ = occupations[occupations['Occupation'].isna()] #query all people listed who have debt but no occupation listed\n",
    "    no_occ_copy = no_occ.copy() #avoid settingcopywarning warning\n",
    "    total = no_occ_copy[['Dollars', 'Dollars.1', 'Dollars.2', 'Cents', 'Cents.1', 'Cents.2']].sum(axis=1) #find total with dollar and cents separate columns    \n",
    "\n",
    "    return total.to_frame(name='totals') #convert to more usable dataframe format\n",
    "\n",
    "def get_debt_w_job(occupations):\n",
    "    occ = occupations[occupations['Occupation'].notna()] #query all people listed who have debt with an occupation listed\n",
    "    occ_copy = occ.copy() #avoid settingcopywarning warning\n",
    "    total = occ_copy[['Dollars', 'Dollars.1', 'Dollars.2', 'Cents', 'Cents.1', 'Cents.2']].sum(axis=1) #find total with dollar and cents separate columns       \n",
    "    \n",
    "    return total.to_frame(name='totals.2') #convert to more usable dataframe format \n",
    "\n",
    "def plot(excel):\n",
    "    no_occ = get_debt_no_job(sc_excel)['totals'].reset_index(drop=True) #get dataframe for people with no occupation listed       \n",
    "    occ = get_debt_w_job(sc_excel)['totals.2'].reset_index(drop=True) #get dataframe for people with an occupation listed\n",
    "    \n",
    "    print(len(no_occ))\n",
    "    print(len(occ))\n",
    "    \n",
    "    NoOccExcel = pd.read_excel('NoOccupation.xlsx')\n",
    "    OccExcel = pd.read_excel('Occupation.xlsx')\n",
    "    \n",
    "    ConcatDfNoOcc = pd.concat([NoOccExcel, no_occ], ignore_index=True, axis=1)\n",
    "    ConcatDfOcc = pd.concat([OccExcel, occ], ignore_index=True, axis=1)\n",
    "    \n",
    "    ConcatDfNoOcc.to_excel('NoOccupation.xlsx', index=False)\n",
    "    ConcatDfOcc.to_excel('Occupation.xlsx', index=False)\n",
    "    \n",
    "    plt.hist(no_occ, color='skyblue', edgecolor='black', range=[0,4000], bins=50, label='Occupation Not Listed', weights=np.ones_like(no_occ) / len(no_occ)) #plot\n",
    "    plt.hist(occ, color='red', edgecolor='black', range=[0,4000], bins=50, alpha=0.5, label='Occupation Listed', weights=np.ones_like(occ) / len(occ)) #plot\n",
    "    title = \"Comparing Debt Holdings of Individuals with Occupation Listed vs Individuals with no Occupation Listed (\" + state + \")\"\n",
    "    plt.title(title) #add title\n",
    "    plt.xlabel(\"Total Debt Held By an Individual in Dollars\") #add x title\n",
    "    plt.ylabel(\"Frequency\") #add y title\n",
    "    plt.legend() #add legend"
   ]
  },
  {
   "cell_type": "code",
   "execution_count": 219,
   "id": "b7550500",
   "metadata": {
    "scrolled": true
   },
   "outputs": [
    {
     "name": "stdout",
     "output_type": "stream",
     "text": [
      "51\n",
      "264\n"
     ]
    },
    {
     "data": {
      "image/png": "[encoded data removed]",
      "text/plain": [
       "<Figure size 432x288 with 1 Axes>"
      ]
     },
     "metadata": {
      "needs_background": "light"
     },
     "output_type": "display_data"
    }
   ],
   "source": [
    "plot(sc_excel)"
   ]
  },
  {
   "cell_type": "code",
   "execution_count": null,
   "id": "dfc1ee85",
   "metadata": {},
   "outputs": [],
   "source": []
  }
 ],
 "metadata": {
  "kernelspec": {
   "display_name": "Python 3 (ipykernel)",
   "language": "python",
   "name": "python3"
  },
  "language_info": {
   "codemirror_mode": {
    "name": "ipython",
    "version": 3
   },
   "file_extension": ".py",
   "mimetype": "text/x-python",
   "name": "python",
   "nbconvert_exporter": "python",
   "pygments_lexer": "ipython3",
   "version": "3.7.9"
  }
 },
 "nbformat": 4,
 "nbformat_minor": 5
}
