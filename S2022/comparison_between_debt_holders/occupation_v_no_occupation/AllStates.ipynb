{
 "cells": [
  {
   "cell_type": "code",
   "execution_count": 222,
   "id": "e8ec7284",
   "metadata": {
    "pycharm": {
     "name": "#%%\n"
    }
   },
   "outputs": [],
   "source": [
    "#import all necessary libraries\n",
    "import pandas as pd\n",
    "import numpy as np\n",
    "import matplotlib.pyplot as plt"
   ]
  },
  {
   "cell_type": "code",
   "execution_count": 223,
   "id": "81a73ae2",
   "metadata": {
    "pycharm": {
     "name": "#%%\n"
    }
   },
   "outputs": [
    {
     "name": "stdout",
     "output_type": "stream",
     "text": [
      "           0        1        2         3       4          5        6        7  \\\n",
      "0     767.01  3560.17  1102.29  17481.70   70.44  137786.41      NaN  4545.23   \n",
      "1    3857.46   265.54   308.97   2991.66   92.42    3285.41  4749.00  3116.07   \n",
      "2      53.28   169.02    37.90  11986.65  206.51     298.32   190.00   383.60   \n",
      "3    4664.42    42.48   167.50   5077.89  331.32     151.04    96.00   404.45   \n",
      "4     139.61    18.76    13.29  20106.27   28.61     149.72  2490.94  1115.07   \n",
      "..       ...      ...      ...       ...     ...        ...      ...      ...   \n",
      "570      NaN      NaN      NaN       NaN     NaN        NaN      NaN   291.20   \n",
      "571      NaN      NaN      NaN       NaN     NaN        NaN      NaN  1173.00   \n",
      "572      NaN      NaN      NaN       NaN     NaN        NaN      NaN    29.89   \n",
      "573      NaN      NaN      NaN       NaN     NaN        NaN      NaN  2372.48   \n",
      "574      NaN      NaN      NaN       NaN     NaN        NaN      NaN    54.10   \n",
      "\n",
      "           8  \n",
      "0        NaN  \n",
      "1    1905.70  \n",
      "2    4189.56  \n",
      "3    2559.23  \n",
      "4     648.31  \n",
      "..       ...  \n",
      "570      NaN  \n",
      "571      NaN  \n",
      "572      NaN  \n",
      "573      NaN  \n",
      "574      NaN  \n",
      "\n",
      "[575 rows x 9 columns]\n"
     ]
    }
   ],
   "source": [
    "#return data from NoOccupation spreadsheet (people w/ no occupation listed)\n",
    "TotalNoOcc = pd.read_excel('NoOccupation.xlsx')\n",
    "print(TotalNoOcc)"
   ]
  },
  {
   "cell_type": "code",
   "execution_count": 224,
   "id": "358b4742",
   "metadata": {
    "pycharm": {
     "name": "#%%\n"
    }
   },
   "outputs": [
    {
     "name": "stdout",
     "output_type": "stream",
     "text": [
      "           0        1        2         3       4        5         6         7  \\\n",
      "0    2105.63   205.42  1328.00   6219.23  162.51  2672.87    169.00  90119.16   \n",
      "1     907.03  2520.77  1602.42  10107.41   41.10  4079.17   4337.31   3661.57   \n",
      "2     467.36    80.65  2479.99   1057.13  684.07   224.43     72.75    290.37   \n",
      "3     147.43   801.67    61.37   3821.68  128.46  8661.54    414.67    586.86   \n",
      "4     214.55   730.75   244.46   6190.58  428.00  2063.37  29207.09    102.00   \n",
      "..       ...      ...      ...       ...     ...      ...       ...       ...   \n",
      "459   584.08      NaN      NaN       NaN     NaN      NaN       NaN       NaN   \n",
      "460   457.10      NaN      NaN       NaN     NaN      NaN       NaN       NaN   \n",
      "461   114.01      NaN      NaN       NaN     NaN      NaN       NaN       NaN   \n",
      "462   518.86      NaN      NaN       NaN     NaN      NaN       NaN       NaN   \n",
      "463   518.85      NaN      NaN       NaN     NaN      NaN       NaN       NaN   \n",
      "\n",
      "             8  \n",
      "0     142.6700  \n",
      "1     228.9000  \n",
      "2    2178.1566  \n",
      "3     133.4866  \n",
      "4     339.4366  \n",
      "..         ...  \n",
      "459        NaN  \n",
      "460        NaN  \n",
      "461        NaN  \n",
      "462        NaN  \n",
      "463        NaN  \n",
      "\n",
      "[464 rows x 9 columns]\n"
     ]
    }
   ],
   "source": [
    "#return data from Occupation spreadsheet (people with occupation listed)\n",
    "TotalOcc = pd.read_excel('Occupation.xlsx')\n",
    "print(TotalOcc)"
   ]
  },
  {
   "cell_type": "code",
   "execution_count": 225,
   "id": "471ff6c6",
   "metadata": {
    "pycharm": {
     "name": "#%%\n"
    }
   },
   "outputs": [
    {
     "name": "stdout",
     "output_type": "stream",
     "text": [
      "0         767.01\n",
      "1        3857.46\n",
      "2          53.28\n",
      "3        4664.42\n",
      "4         139.61\n",
      "          ...   \n",
      "4637     9035.25\n",
      "4638     1677.04\n",
      "4639       68.43\n",
      "4640     1686.68\n",
      "4641    23985.60\n",
      "Length: 2267, dtype: float64\n"
     ]
    }
   ],
   "source": [
    "#combine columns into one single column\n",
    "TotalNoOcc = pd.concat([TotalNoOcc[0], TotalNoOcc[1], TotalNoOcc[2], TotalNoOcc[3], TotalNoOcc[4], TotalNoOcc[5], TotalNoOcc[6], TotalNoOcc[7], TotalNoOcc[8]], ignore_index=True).dropna() \n",
    "print(TotalNoOcc)"
   ]
  },
  {
   "cell_type": "code",
   "execution_count": 226,
   "id": "e4465bf6",
   "metadata": {
    "pycharm": {
     "name": "#%%\n"
    }
   },
   "outputs": [
    {
     "name": "stdout",
     "output_type": "stream",
     "text": [
      "0       2105.63\n",
      "1        907.03\n",
      "2        467.36\n",
      "3        147.43\n",
      "4        214.55\n",
      "         ...   \n",
      "3730     160.08\n",
      "3731     370.95\n",
      "3732     478.64\n",
      "3733     478.64\n",
      "3734      27.29\n",
      "Length: 2264, dtype: float64\n"
     ]
    }
   ],
   "source": [
    "#combine columns into one single column\n",
    "TotalOcc = pd.concat([TotalOcc[0], TotalOcc[1], TotalOcc[2], TotalOcc[3], TotalOcc[4], TotalOcc[5], TotalOcc[6], TotalOcc[7], TotalOcc[8]], ignore_index=True).dropna()\n",
    "print(TotalOcc)"
   ]
  },
  {
   "cell_type": "code",
   "execution_count": 227,
   "id": "bda991d6",
   "metadata": {
    "scrolled": false,
    "pycharm": {
     "name": "#%%\n"
    }
   },
   "outputs": [
    {
     "data": {
      "text/plain": [
       "<matplotlib.legend.Legend at 0x13624e22b88>"
      ]
     },
     "execution_count": 227,
     "metadata": {},
     "output_type": "execute_result"
    },
    {
     "data": {
      "image/png": "[encoded data removed]",
      "text/plain": [
       "<Figure size 432x288 with 1 Axes>"
      ]
     },
     "metadata": {
      "needs_background": "light"
     },
     "output_type": "display_data"
    }
   ],
   "source": [
    "plt.hist(TotalNoOcc, color='skyblue', edgecolor='black', range=[0,4000], bins=50, label='Occupation Not Listed', weights=np.ones_like(TotalNoOcc) / len(TotalNoOcc)) #plot\n",
    "plt.hist(TotalOcc, color='red', edgecolor='black', range=[0,4000], bins=50, alpha=0.5, label='Occupation Listed', weights=np.ones_like(TotalOcc) / len(TotalOcc)) #plot\n",
    "title = \"Comparing Debt Holdings of Individuals with Occupation Listed vs Individuals with no Occupation Listed (All Applicable States)\"\n",
    "plt.title(title) #add title\n",
    "plt.xlabel(\"Total Debt Held By an Individual in Dollars\") #add x title\n",
    "plt.ylabel(\"Frequency\") #add y title\n",
    "plt.legend() #add legend"
   ]
  }
 ],
 "metadata": {
  "kernelspec": {
   "display_name": "Python 3 (ipykernel)",
   "language": "python",
   "name": "python3"
  },
  "language_info": {
   "codemirror_mode": {
    "name": "ipython",
    "version": 3
   },
   "file_extension": ".py",
   "mimetype": "text/x-python",
   "name": "python",
   "nbconvert_exporter": "python",
   "pygments_lexer": "ipython3",
   "version": "3.7.9"
  }
 },
 "nbformat": 4,
 "nbformat_minor": 5
}