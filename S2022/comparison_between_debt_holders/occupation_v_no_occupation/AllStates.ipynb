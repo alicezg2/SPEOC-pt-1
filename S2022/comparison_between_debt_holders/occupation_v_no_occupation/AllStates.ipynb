{
 "cells": [
  {
   "cell_type": "code",
   "execution_count": 216,
   "id": "e8ec7284",
   "metadata": {},
   "outputs": [],
   "source": [
    "#import all necessary libraries\n",
    "import pandas as pd\n",
    "import numpy as np\n",
    "import matplotlib.pyplot as plt"
   ]
  },
  {
   "cell_type": "code",
   "execution_count": 217,
   "id": "dea09c1c",
   "metadata": {},
   "outputs": [
    {
     "name": "stdout",
     "output_type": "stream",
     "text": [
      "           0        1         2       3        4        5          6        7  \\\n",
      "0    1102.29   767.01  17481.70   70.44      NaN  3560.17  137786.41  4545.23   \n",
      "1     164.00  3857.46   2991.66   92.42  1905.70   265.54    3285.41  3116.07   \n",
      "2     312.95    53.28  11986.65  206.51  4189.56   169.02     298.32   383.60   \n",
      "3     415.92  4664.42   5077.89  331.32  2559.23    42.48     151.04   404.45   \n",
      "4     899.91   139.61  20106.27   28.61   648.31    18.76     149.72  1115.07   \n",
      "..       ...      ...       ...     ...      ...      ...        ...      ...   \n",
      "570      NaN      NaN       NaN     NaN      NaN      NaN        NaN   291.20   \n",
      "571      NaN      NaN       NaN     NaN      NaN      NaN        NaN  1173.00   \n",
      "572      NaN      NaN       NaN     NaN      NaN      NaN        NaN    29.89   \n",
      "573      NaN      NaN       NaN     NaN      NaN      NaN        NaN  2372.48   \n",
      "574      NaN      NaN       NaN     NaN      NaN      NaN        NaN    54.10   \n",
      "\n",
      "           8  \n",
      "0        NaN  \n",
      "1    4749.00  \n",
      "2     190.00  \n",
      "3      96.00  \n",
      "4    2490.94  \n",
      "..       ...  \n",
      "570      NaN  \n",
      "571      NaN  \n",
      "572      NaN  \n",
      "573      NaN  \n",
      "574      NaN  \n",
      "\n",
      "[575 rows x 9 columns]\n"
     ]
    }
   ],
   "source": [
    "#return data from NoOccupation spreadsheet (people w/ no occupation listed)\n",
    "TotalNoOcc = pd.read_excel('NoOccupation.xlsx')\n",
    "print(TotalNoOcc)"
   ]
  },
  {
   "cell_type": "code",
   "execution_count": 218,
   "id": "7d3e6394",
   "metadata": {},
   "outputs": [
    {
     "name": "stdout",
     "output_type": "stream",
     "text": [
      "           0        1         2       3          4        5        6  \\\n",
      "0    1328.00  2105.63   6219.23  162.51   142.6700   205.42  2672.87   \n",
      "1    1602.42   907.03  10107.41   41.10   228.9000  2520.77  4079.17   \n",
      "2    2479.99   423.30   1057.13  684.07  2178.1566    80.65   224.43   \n",
      "3      61.37   467.36   3821.68  128.46   133.4866   801.67  8661.54   \n",
      "4     244.46   147.43   6190.58  428.00   339.4366   730.75  2063.37   \n",
      "..       ...      ...       ...     ...        ...      ...      ...   \n",
      "513   248.22      NaN       NaN     NaN        NaN      NaN      NaN   \n",
      "514   363.61      NaN       NaN     NaN        NaN      NaN      NaN   \n",
      "515   159.93      NaN       NaN     NaN        NaN      NaN      NaN   \n",
      "516    72.36      NaN       NaN     NaN        NaN      NaN      NaN   \n",
      "517   346.09      NaN       NaN     NaN        NaN      NaN      NaN   \n",
      "\n",
      "            7         8  \n",
      "0    90119.16    169.00  \n",
      "1     3661.57   4337.31  \n",
      "2      290.37     72.75  \n",
      "3      586.86    414.67  \n",
      "4      102.00  29207.09  \n",
      "..        ...       ...  \n",
      "513       NaN       NaN  \n",
      "514       NaN       NaN  \n",
      "515       NaN       NaN  \n",
      "516       NaN       NaN  \n",
      "517       NaN       NaN  \n",
      "\n",
      "[518 rows x 9 columns]\n"
     ]
    }
   ],
   "source": [
    "#return data from Occupation spreadsheet (people with occupation listed)\n",
    "TotalOcc = pd.read_excel('Occupation.xlsx')\n",
    "print(TotalOcc)"
   ]
  },
  {
   "cell_type": "code",
   "execution_count": 219,
   "id": "91dc7bb0",
   "metadata": {},
   "outputs": [
    {
     "name": "stdout",
     "output_type": "stream",
     "text": [
      "0       1102.29\n",
      "1        164.00\n",
      "2        312.95\n",
      "3        415.92\n",
      "4        899.91\n",
      "         ...   \n",
      "4659     101.65\n",
      "4660      82.21\n",
      "4661     195.47\n",
      "4662      83.65\n",
      "4663      43.82\n",
      "Length: 2491, dtype: float64\n"
     ]
    }
   ],
   "source": [
    "#combine columns into one single column\n",
    "TotalNoOcc = pd.concat([TotalNoOcc[0], TotalNoOcc[1], TotalNoOcc[2], TotalNoOcc[3], TotalNoOcc[4], TotalNoOcc[5], TotalNoOcc[6], TotalNoOcc[7], TotalNoOcc[8]], ignore_index=True).dropna() \n",
    "print(TotalNoOcc)"
   ]
  },
  {
   "cell_type": "code",
   "execution_count": 220,
   "id": "3601d1e7",
   "metadata": {},
   "outputs": [
    {
     "name": "stdout",
     "output_type": "stream",
     "text": [
      "0        1328.00\n",
      "1        1602.42\n",
      "2        2479.99\n",
      "3          61.37\n",
      "4         244.46\n",
      "          ...   \n",
      "4150      359.82\n",
      "4151      499.98\n",
      "4152      378.48\n",
      "4153    12170.21\n",
      "4154     2231.66\n",
      "Length: 2372, dtype: float64\n"
     ]
    }
   ],
   "source": [
    "#combine columns into one single column\n",
    "TotalOcc = pd.concat([TotalOcc[0], TotalOcc[1], TotalOcc[2], TotalOcc[3], TotalOcc[4], TotalOcc[5], TotalOcc[6], TotalOcc[7], TotalOcc[8]], ignore_index=True).dropna()\n",
    "print(TotalOcc)"
   ]
  },
  {
   "cell_type": "code",
   "execution_count": 221,
   "id": "5130416c",
   "metadata": {},
   "outputs": [
    {
     "data": {
      "text/plain": [
       "<matplotlib.legend.Legend at 0x13624f5dd08>"
      ]
     },
     "execution_count": 221,
     "metadata": {},
     "output_type": "execute_result"
    },
    {
     "data": {
      "image/png": "[encoded data removed]",
      "text/plain": [
       "<Figure size 432x288 with 1 Axes>"
      ]
     },
     "metadata": {
      "needs_background": "light"
     },
     "output_type": "display_data"
    }
   ],
   "source": [
    "plt.hist(TotalNoOcc, color='skyblue', edgecolor='black', range=[0,4000], bins=50, label='Occupation Not Listed', weights=np.ones_like(TotalNoOcc) / len(TotalNoOcc)) #plot\n",
    "plt.hist(TotalOcc, color='red', edgecolor='black', range=[0,4000], bins=50, alpha=0.5, label='Occupation Listed', weights=np.ones_like(TotalOcc) / len(TotalOcc)) #plot\n",
    "title = \"Comparing Debt Holdings of Individuals with Occupation Listed vs Individuals with no Occupation Listed (All Applicable States)\"\n",
    "plt.title(title) #add title\n",
    "plt.xlabel(\"Total Debt Held By an Individual in Dollars\") #add x title\n",
    "plt.ylabel(\"Frequency\") #add y title\n",
    "plt.legend() #add legend"
   ]
  },
  {
   "cell_type": "code",
   "execution_count": null,
   "id": "285decc4",
   "metadata": {},
   "outputs": [],
   "source": []
  }
 ],
 "metadata": {
  "kernelspec": {
   "display_name": "Python 3 (ipykernel)",
   "language": "python",
   "name": "python3"
  },
  "language_info": {
   "codemirror_mode": {
    "name": "ipython",
    "version": 3
   },
   "file_extension": ".py",
   "mimetype": "text/x-python",
   "name": "python",
   "nbconvert_exporter": "python",
   "pygments_lexer": "ipython3",
   "version": "3.7.9"
  }
 },
 "nbformat": 4,
 "nbformat_minor": 5
}
