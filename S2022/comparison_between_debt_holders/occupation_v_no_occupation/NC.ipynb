{
 "cells": [
  {
   "cell_type": "code",
   "execution_count": 26,
   "id": "20b36dc1",
   "metadata": {},
   "outputs": [],
   "source": [
    "import pandas as pd\n",
    "import numpy as np\n",
    "import matplotlib.pyplot as plt"
   ]
  },
  {
   "cell_type": "code",
   "execution_count": 27,
   "id": "a01dfe5a",
   "metadata": {},
   "outputs": [
    {
     "name": "stdout",
     "output_type": "stream",
     "text": [
      "                     Occupation     Total\n",
      "0                           NaN       NaN\n",
      "1                           NaN   4749.00\n",
      "2                           NaN    190.00\n",
      "3                      Merchant    169.00\n",
      "4                           NaN     96.00\n",
      "..                          ...       ...\n",
      "72                     Merchant    378.48\n",
      "73  The State of North Carolina  12170.21\n",
      "74      Asse of John B Ashe Exe   2231.66\n",
      "75                          NaN       NaN\n",
      "76                          NaN       NaN\n",
      "\n",
      "[77 rows x 2 columns]\n"
     ]
    }
   ],
   "source": [
    "state = 'NC'\n",
    "nc_excel = pd.read_excel(r\"C:\\Users\\david\\OneDrive\\Documents\\GitHub\\SPEOC-pt-1\\Data\\Post1790\\NC\\T695_R4_NC_CD.xlsx\",\n",
    "                             header=10, usecols='N, AF') \n",
    "print(nc_excel)"
   ]
  },
  {
   "cell_type": "code",
   "execution_count": 28,
   "id": "86298ab6",
   "metadata": {},
   "outputs": [],
   "source": [
    "def get_debt_no_job(occupations):\n",
    "    no_occ = occupations[occupations['Occupation'].isna()] #query all people listed who have debt but no occupation listed\n",
    "    no_occ_copy = no_occ.copy() #avoid settingcopywarning warning\n",
    "    #total = no_occ_copy[['Dollars.3', 'Cents.3']].sum(axis=1) #find total with dollar and cents separate columns    \n",
    "    total = no_occ_copy\n",
    "    return total #convert to more usable dataframe format\n",
    "\n",
    "def get_debt_w_job(occupations):\n",
    "    occ = occupations[occupations['Occupation'].notna()] #query all people listed who have debt with an occupation listed\n",
    "    occ_copy = occ.copy() #avoid settingcopywarning warning\n",
    "    #total = occ_copy[['Dollars.3', 'Cents.3']].sum(axis=1) #find total with dollar and cents separate columns       \n",
    "    total = occ_copy\n",
    "    return total #convert to more usable dataframe format \n",
    "\n",
    "def AddToExcel(excel):\n",
    "    no_occ = get_debt_no_job(excel)['Total'].reset_index(drop=True) #get dataframe for people with no occupation listed\n",
    "    occ = get_debt_w_job(excel)['Total'].reset_index(drop=True) #get dataframe for people with an occupation listed\n",
    "    \n",
    "    print(no_occ)\n",
    "    print(occ)\n",
    "    \n",
    "    NoOccExcel = pd.read_excel('NoOccupation.xlsx')\n",
    "    OccExcel = pd.read_excel('Occupation.xlsx')\n",
    "    \n",
    "    ConcatDfNoOcc = pd.concat([NoOccExcel, no_occ], ignore_index=True, axis=1)\n",
    "    ConcatDfOcc = pd.concat([OccExcel, occ], ignore_index=True, axis=1)\n",
    "    \n",
    "    ConcatDfNoOcc.to_excel('NoOccupation.xlsx', index=False)\n",
    "    ConcatDfOcc.to_excel('Occupation.xlsx', index=False)\n"
   ]
  },
  {
   "cell_type": "code",
   "execution_count": 29,
   "id": "ceffc4b2",
   "metadata": {},
   "outputs": [
    {
     "name": "stdout",
     "output_type": "stream",
     "text": [
      "0         NaN\n",
      "1     4749.00\n",
      "2      190.00\n",
      "3       96.00\n",
      "4     2490.94\n",
      "       ...   \n",
      "61     195.47\n",
      "62      83.65\n",
      "63      43.82\n",
      "64        NaN\n",
      "65        NaN\n",
      "Name: Total, Length: 66, dtype: float64\n",
      "0       169.00\n",
      "1      4337.31\n",
      "2        72.75\n",
      "3       414.67\n",
      "4     29207.09\n",
      "5        77.73\n",
      "6       359.82\n",
      "7       499.98\n",
      "8       378.48\n",
      "9     12170.21\n",
      "10     2231.66\n",
      "Name: Total, dtype: float64\n"
     ]
    }
   ],
   "source": [
    "AddToExcel(nc_excel)"
   ]
  },
  {
   "cell_type": "code",
   "execution_count": null,
   "id": "31b16428",
   "metadata": {},
   "outputs": [],
   "source": []
  }
 ],
 "metadata": {
  "kernelspec": {
   "display_name": "Python 3 (ipykernel)",
   "language": "python",
   "name": "python3"
  },
  "language_info": {
   "codemirror_mode": {
    "name": "ipython",
    "version": 3
   },
   "file_extension": ".py",
   "mimetype": "text/x-python",
   "name": "python",
   "nbconvert_exporter": "python",
   "pygments_lexer": "ipython3",
   "version": "3.7.9"
  }
 },
 "nbformat": 4,
 "nbformat_minor": 5
}
