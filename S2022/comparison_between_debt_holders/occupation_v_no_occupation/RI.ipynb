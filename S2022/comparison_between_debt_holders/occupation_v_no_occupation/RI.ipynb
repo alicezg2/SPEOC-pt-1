{
 "cells": [
  {
   "cell_type": "code",
   "execution_count": 53,
   "id": "90aa1247",
   "metadata": {},
   "outputs": [],
   "source": [
    "import pandas as pd\n",
    "import numpy as np\n",
    "import matplotlib.pyplot as plt"
   ]
  },
  {
   "cell_type": "code",
   "execution_count": 54,
   "id": "993ed152",
   "metadata": {},
   "outputs": [
    {
     "name": "stdout",
     "output_type": "stream",
     "text": [
      "    Unnamed: 9 Occupation  Dollars  Cents Occupation.1  Dollars.1  Cents.1  \\\n",
      "0           RI        NaN    590.0   86.0          NaN      295.0     43.0   \n",
      "1           RI    Esquire    563.0   88.0      Esquire      281.0     94.0   \n",
      "2           RI    Esquire    864.0   28.0      Esquire      432.0     14.0   \n",
      "3           RI     Farmer   1333.0   33.0       Farmer      666.0     66.0   \n",
      "4           RI    Esquire     29.0   50.0      Esquire       14.0     74.0   \n",
      "..         ...        ...      ...    ...          ...        ...      ...   \n",
      "657        NaN        NaN      NaN    NaN          NaN       18.0     78.0   \n",
      "658        NaN        NaN      NaN    NaN          NaN        NaN      NaN   \n",
      "659        NaN        NaN      NaN    NaN          NaN       22.0     56.0   \n",
      "660        NaN        NaN      NaN    NaN          NaN       17.0      5.0   \n",
      "661        NaN        NaN      NaN    NaN          NaN       10.0     10.0   \n",
      "\n",
      "    Occupation.2  Dollars.2  Cents.2  \n",
      "0            NaN      216.0      NaN  \n",
      "1        Esquire      482.0     18.0  \n",
      "2        Esquire      306.0      NaN  \n",
      "3         Farmer      480.0      NaN  \n",
      "4        Esquire       17.0     13.0  \n",
      "..           ...        ...      ...  \n",
      "657          NaN        NaN      NaN  \n",
      "658          NaN        NaN      NaN  \n",
      "659          NaN        NaN      NaN  \n",
      "660          NaN        NaN      NaN  \n",
      "661          NaN        NaN      NaN  \n",
      "\n",
      "[662 rows x 10 columns]\n"
     ]
    }
   ],
   "source": [
    "state = 'RI'\n",
    "ri_excel = pd.read_excel(r\"C:\\Users\\david\\OneDrive\\Documents\\GitHub\\SPEOC-pt-1\\Data\\Post1790\\RI\\T653_Rhode_Island_CD.xlsx\",\n",
    "                             header=11, usecols='J, K, L, M, Y, Z, AA, AM, AN, AO') \n",
    "print(ri_excel)"
   ]
  },
  {
   "cell_type": "code",
   "execution_count": 55,
   "id": "9e0ddc16",
   "metadata": {},
   "outputs": [
    {
     "name": "stdout",
     "output_type": "stream",
     "text": [
      "                                            Occupation   Dollars  Cents  \\\n",
      "0                                                  NaN     590.0   86.0   \n",
      "1                                              Esquire     563.0   88.0   \n",
      "2                                              Esquire     864.0   28.0   \n",
      "3                                               Farmer    1333.0   33.0   \n",
      "4                                              Esquire      29.0   50.0   \n",
      "..                                                 ...       ...    ...   \n",
      "579   General Treasurer of the state of Rhode Islan...  199740.0   67.0   \n",
      "596                                           Merchant     164.0   96.0   \n",
      "616                                            Esquire      59.0   90.0   \n",
      "617                                             Yeoman      28.0   44.0   \n",
      "632                                           Merchant     142.0   44.0   \n",
      "\n",
      "                                          Occupation.1  Dollars.1  Cents.1  \\\n",
      "0                                                  NaN      295.0     43.0   \n",
      "1                                              Esquire      281.0     94.0   \n",
      "2                                              Esquire      432.0     14.0   \n",
      "3                                               Farmer      666.0     66.0   \n",
      "4                                              Esquire       14.0     74.0   \n",
      "..                                                 ...        ...      ...   \n",
      "579   General Treasurer of the state of Rhode Islan...    99870.0     33.0   \n",
      "596                                           Merchant      165.0     27.0   \n",
      "616                                            Esquire       29.0     95.0   \n",
      "617                                             Yeoman       14.0     22.0   \n",
      "632                                           Merchant       71.0     22.0   \n",
      "\n",
      "                                          Occupation.2  Dollars.2  Cents.2  \n",
      "0                                                  NaN      216.0      NaN  \n",
      "1                                              Esquire      482.0     18.0  \n",
      "2                                              Esquire      306.0      NaN  \n",
      "3                                               Farmer      480.0      NaN  \n",
      "4                                              Esquire       17.0     13.0  \n",
      "..                                                 ...        ...      ...  \n",
      "579   General Treasurer of the state of Rhode Islan...    59922.0     20.0  \n",
      "596                                           Merchant      100.0     22.0  \n",
      "616                                            Esquire       70.0      8.0  \n",
      "617                                             Yeoman       29.0     70.0  \n",
      "632                                           Merchant      132.0     43.0  \n",
      "\n",
      "[452 rows x 9 columns]\n"
     ]
    }
   ],
   "source": [
    "ri_excel = ri_excel.rename(columns={'Unnamed: 9':'State'})\n",
    "ri_excel = ri_excel.loc[ri_excel['State'] == state]\n",
    "ri_excel.drop('State', axis=1, inplace=True)\n",
    "print(ri_excel)"
   ]
  },
  {
   "cell_type": "code",
   "execution_count": 56,
   "id": "1f77a009",
   "metadata": {},
   "outputs": [],
   "source": [
    "def get_debt_no_job(occupations):\n",
    "    no_occ = occupations[occupations['Occupation'].isna()] #query all people listed who have debt but no occupation listed\n",
    "    no_occ_copy = no_occ.copy() #avoid settingcopywarning warning\n",
    "    no_occ_copy[['Cents', 'Cents.1', 'Cents.2']] = no_occ_copy[['Cents', 'Cents.1', 'Cents.2']].div(100) #divide cents column by 100\n",
    "    total = no_occ_copy[['Dollars', 'Dollars.1', 'Dollars.2', 'Cents', 'Cents.1', 'Cents.2']].sum(axis=1) #find total with dollar and cents separate columns    \n",
    "\n",
    "    return total.to_frame(name='totals') #convert to more usable dataframe format\n",
    "\n",
    "def get_debt_w_job(occupations):\n",
    "    occ = occupations[occupations['Occupation'].notna()] #query all people listed who have debt with an occupation listed\n",
    "    occ_copy = occ.copy() #avoid settingcopywarning warning\n",
    "    occ_copy[['Cents', 'Cents.1', 'Cents.2']] = occ_copy[['Cents', 'Cents.1', 'Cents.2']].div(100) #divide cents column by 100\n",
    "    total = occ_copy[['Dollars', 'Dollars.1', 'Dollars.2', 'Cents', 'Cents.1', 'Cents.2']].sum(axis=1) #find total with dollar and cents separate columns       \n",
    "    \n",
    "    return total.to_frame(name='totals.2') #convert to more usable dataframe format \n",
    "\n",
    "def plot(excel):\n",
    "    no_occ = get_debt_no_job(excel)['totals'].reset_index(drop=True) #get dataframe for people with no occupation listed\n",
    "    occ = get_debt_w_job(excel)['totals.2'].reset_index(drop=True) #get dataframe for people with an occupation listed\n",
    "    \n",
    "    print(len(no_occ))\n",
    "    print(len(occ))\n",
    "    \n",
    "    NoOccExcel = pd.read_excel('NoOccupation.xlsx')\n",
    "    OccExcel = pd.read_excel('Occupation.xlsx')\n",
    "    \n",
    "    ConcatDfNoOcc = pd.concat([NoOccExcel, no_occ], ignore_index=True, axis=1)\n",
    "    ConcatDfOcc = pd.concat([OccExcel, occ], ignore_index=True, axis=1)\n",
    "    \n",
    "    ConcatDfNoOcc.to_excel('NoOccupation.xlsx', index=False)\n",
    "    ConcatDfOcc.to_excel('Occupation.xlsx', index=False)\n",
    "    \n",
    "    plt.hist(no_occ, color='skyblue', edgecolor='black', range=[0,4000], bins=50, label='Occupation Not Listed', weights=np.ones_like(no_occ) / len(no_occ)) #plot\n",
    "    plt.hist(occ, color='red', edgecolor='black', range=[0,4000], bins=50, alpha=0.5, label='Occupation Listed', weights=np.ones_like(occ) / len(occ)) #plot\n",
    "    title = \"Comparing Debt Holdings of Individuals with Occupation Listed vs Individuals with no Occupation Listed (\" + state + \")\"\n",
    "    plt.title(title) #add title\n",
    "    plt.xlabel(\"Total Debt Held By an Individual in Dollars\") #add x title\n",
    "    plt.ylabel(\"Frequency\") #add y title\n",
    "    plt.legend() #add legend"
   ]
  },
  {
   "cell_type": "code",
   "execution_count": 57,
   "id": "d96dbd24",
   "metadata": {},
   "outputs": [
    {
     "name": "stdout",
     "output_type": "stream",
     "text": [
      "11\n",
      "441\n"
     ]
    },
    {
     "data": {
      "image/png": "[encoded data removed]",
      "text/plain": [
       "<Figure size 432x288 with 1 Axes>"
      ]
     },
     "metadata": {
      "needs_background": "light"
     },
     "output_type": "display_data"
    }
   ],
   "source": [
    "plot(ri_excel)"
   ]
  },
  {
   "cell_type": "code",
   "execution_count": null,
   "id": "5d92040c",
   "metadata": {},
   "outputs": [],
   "source": []
  }
 ],
 "metadata": {
  "kernelspec": {
   "display_name": "Python 3 (ipykernel)",
   "language": "python",
   "name": "python3"
  },
  "language_info": {
   "codemirror_mode": {
    "name": "ipython",
    "version": 3
   },
   "file_extension": ".py",
   "mimetype": "text/x-python",
   "name": "python",
   "nbconvert_exporter": "python",
   "pygments_lexer": "ipython3",
   "version": "3.7.9"
  }
 },
 "nbformat": 4,
 "nbformat_minor": 5
}
