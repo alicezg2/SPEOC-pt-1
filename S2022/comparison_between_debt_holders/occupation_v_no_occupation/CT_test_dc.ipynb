{
 "cells": [
  {
   "cell_type": "code",
   "execution_count": 42,
   "id": "5d65f892",
   "metadata": {
    "pycharm": {
     "name": "#%%\n"
    }
   },
   "outputs": [],
   "source": [
    "import pandas as pd\n",
    "import numpy as np\n",
    "import seaborn as sns \n",
    "import matplotlib.pyplot as plt\n",
    "from scipy import stats "
   ]
  },
  {
   "cell_type": "code",
   "execution_count": 6,
   "id": "ac1f994e",
   "metadata": {
    "pycharm": {
     "name": "#%%\n"
    }
   },
   "outputs": [],
   "source": [
    "occupations = pd.read_excel(r\"...\\SPEOC-pt-1\\Data\\Post1790\\CT\\CT_post1790_CD_ledger.xlsx\",\n",
    "                             header=13, usecols='L, N, O, AD, AE, AT, AU') #occupations plus continental debt for conneticut"
   ]
  },
  {
   "cell_type": "code",
   "execution_count": 66,
   "id": "43c6c7af",
   "metadata": {
    "pycharm": {
     "name": "#%%\n"
    }
   },
   "outputs": [
    {
     "data": {
      "text/html": [
       "<div>\n",
       "<style scoped>\n",
       "    .dataframe tbody tr th:only-of-type {\n",
       "        vertical-align: middle;\n",
       "    }\n",
       "\n",
       "    .dataframe tbody tr th {\n",
       "        vertical-align: top;\n",
       "    }\n",
       "\n",
       "    .dataframe thead th {\n",
       "        text-align: right;\n",
       "    }\n",
       "</style>\n",
       "<table border=\"1\" class=\"dataframe\">\n",
       "  <thead>\n",
       "    <tr style=\"text-align: right;\">\n",
       "      <th></th>\n",
       "      <th>totals</th>\n",
       "    </tr>\n",
       "  </thead>\n",
       "  <tbody>\n",
       "    <tr>\n",
       "      <th>5</th>\n",
       "      <td>767.01</td>\n",
       "    </tr>\n",
       "    <tr>\n",
       "      <th>15</th>\n",
       "      <td>3857.46</td>\n",
       "    </tr>\n",
       "    <tr>\n",
       "      <th>17</th>\n",
       "      <td>53.28</td>\n",
       "    </tr>\n",
       "    <tr>\n",
       "      <th>18</th>\n",
       "      <td>4664.42</td>\n",
       "    </tr>\n",
       "    <tr>\n",
       "      <th>19</th>\n",
       "      <td>139.61</td>\n",
       "    </tr>\n",
       "    <tr>\n",
       "      <th>...</th>\n",
       "      <td>...</td>\n",
       "    </tr>\n",
       "    <tr>\n",
       "      <th>1000</th>\n",
       "      <td>168.00</td>\n",
       "    </tr>\n",
       "    <tr>\n",
       "      <th>1001</th>\n",
       "      <td>68.66</td>\n",
       "    </tr>\n",
       "    <tr>\n",
       "      <th>1002</th>\n",
       "      <td>46.30</td>\n",
       "    </tr>\n",
       "    <tr>\n",
       "      <th>1003</th>\n",
       "      <td>0.02</td>\n",
       "    </tr>\n",
       "    <tr>\n",
       "      <th>1004</th>\n",
       "      <td>682.05</td>\n",
       "    </tr>\n",
       "  </tbody>\n",
       "</table>\n",
       "<p>512 rows × 1 columns</p>\n",
       "</div>"
      ],
      "text/plain": [
       "       totals\n",
       "5      767.01\n",
       "15    3857.46\n",
       "17      53.28\n",
       "18    4664.42\n",
       "19     139.61\n",
       "...       ...\n",
       "1000   168.00\n",
       "1001    68.66\n",
       "1002    46.30\n",
       "1003     0.02\n",
       "1004   682.05\n",
       "\n",
       "[512 rows x 1 columns]"
      ]
     },
     "execution_count": 66,
     "metadata": {},
     "output_type": "execute_result"
    }
   ],
   "source": [
    "def get_debt_no_job():\n",
    "    no_occ = occupations[occupations['Occupation'].isna()] #query all people listed who have debt but no occupation listed\n",
    "    no_occ_copy = no_occ.copy() #avoid settingcopywarning warning\n",
    "    no_occ_copy[['Cents', 'Cents.1', 'Cents.2']] = no_occ_copy[['Cents', 'Cents.1', 'Cents.2']].div(100) #divide cents column by 100\n",
    "    total = no_occ_copy[['Dollar', 'Dollar.1', 'Dollar.2', 'Cents', 'Cents.1', 'Cents.2']].sum(axis=1) #find total with dollar and cents separate columns    \n",
    "\n",
    "    return total.to_frame(name='totals') #convert to more usable dataframe format\n",
    "    \n",
    "get_debt_no_job()"
   ]
  },
  {
   "cell_type": "code",
   "execution_count": 74,
   "id": "be846a98",
   "metadata": {
    "pycharm": {
     "name": "#%%\n"
    }
   },
   "outputs": [
    {
     "data": {
      "text/html": [
       "<div>\n",
       "<style scoped>\n",
       "    .dataframe tbody tr th:only-of-type {\n",
       "        vertical-align: middle;\n",
       "    }\n",
       "\n",
       "    .dataframe tbody tr th {\n",
       "        vertical-align: top;\n",
       "    }\n",
       "\n",
       "    .dataframe thead th {\n",
       "        text-align: right;\n",
       "    }\n",
       "</style>\n",
       "<table border=\"1\" class=\"dataframe\">\n",
       "  <thead>\n",
       "    <tr style=\"text-align: right;\">\n",
       "      <th></th>\n",
       "      <th>totals.2</th>\n",
       "    </tr>\n",
       "  </thead>\n",
       "  <tbody>\n",
       "    <tr>\n",
       "      <th>0</th>\n",
       "      <td>2105.63</td>\n",
       "    </tr>\n",
       "    <tr>\n",
       "      <th>1</th>\n",
       "      <td>907.03</td>\n",
       "    </tr>\n",
       "    <tr>\n",
       "      <th>2</th>\n",
       "      <td>423.30</td>\n",
       "    </tr>\n",
       "    <tr>\n",
       "      <th>3</th>\n",
       "      <td>467.36</td>\n",
       "    </tr>\n",
       "    <tr>\n",
       "      <th>4</th>\n",
       "      <td>147.43</td>\n",
       "    </tr>\n",
       "    <tr>\n",
       "      <th>...</th>\n",
       "      <td>...</td>\n",
       "    </tr>\n",
       "    <tr>\n",
       "      <th>939</th>\n",
       "      <td>584.08</td>\n",
       "    </tr>\n",
       "    <tr>\n",
       "      <th>944</th>\n",
       "      <td>457.10</td>\n",
       "    </tr>\n",
       "    <tr>\n",
       "      <th>946</th>\n",
       "      <td>114.01</td>\n",
       "    </tr>\n",
       "    <tr>\n",
       "      <th>1005</th>\n",
       "      <td>518.86</td>\n",
       "    </tr>\n",
       "    <tr>\n",
       "      <th>1006</th>\n",
       "      <td>518.85</td>\n",
       "    </tr>\n",
       "  </tbody>\n",
       "</table>\n",
       "<p>495 rows × 1 columns</p>\n",
       "</div>"
      ],
      "text/plain": [
       "      totals.2\n",
       "0      2105.63\n",
       "1       907.03\n",
       "2       423.30\n",
       "3       467.36\n",
       "4       147.43\n",
       "...        ...\n",
       "939     584.08\n",
       "944     457.10\n",
       "946     114.01\n",
       "1005    518.86\n",
       "1006    518.85\n",
       "\n",
       "[495 rows x 1 columns]"
      ]
     },
     "execution_count": 74,
     "metadata": {},
     "output_type": "execute_result"
    }
   ],
   "source": [
    "def get_debt_w_job():\n",
    "    occ = occupations[occupations['Occupation'].notna()] #query all people listed who have debt with an occupation listed\n",
    "    occ_copy = occ.copy() #avoid settingcopywarning warning\n",
    "    occ_copy[['Cents', 'Cents.1', 'Cents.2']] = occ_copy[['Cents', 'Cents.1', 'Cents.2']].div(100) #divide cents column by 100\n",
    "    total = occ_copy[['Dollar', 'Dollar.1', 'Dollar.2', 'Cents', 'Cents.1', 'Cents.2']].sum(axis=1) #find total with dollar and cents separate columns       \n",
    "    \n",
    "    return total.to_frame(name='totals.2') #convert to more usable dataframe format \n",
    "    \n",
    "get_debt_w_job() "
   ]
  },
  {
   "cell_type": "code",
   "execution_count": 122,
   "id": "397945ab",
   "metadata": {
    "pycharm": {
     "name": "#%%\n"
    }
   },
   "outputs": [
    {
     "data": {
      "text/plain": [
       "<matplotlib.legend.Legend at 0x293a5fde248>"
      ]
     },
     "execution_count": 122,
     "metadata": {},
     "output_type": "execute_result"
    },
    {
     "data": {
      "image/png": "[encoded data removed]",
      "text/plain": [
       "<Figure size 432x288 with 1 Axes>"
      ]
     },
     "metadata": {
      "needs_background": "light"
     },
     "output_type": "display_data"
    }
   ],
   "source": [
    "no_occ = get_debt_no_job()['totals'] #get dataframe for people with no occupation listed\n",
    "occ = get_debt_w_job()['totals.2'] #get dataframe for people with an occupation listed\n",
    "plt.hist(no_occ, color='skyblue', edgecolor='black', range=[0,4000], bins=50, label='Occupation Not Listed', density=True) #plot\n",
    "plt.hist(occ, color='red', edgecolor='black', range=[0,4000], bins=50, alpha=0.5, label='Occupation Listed', density=True) #plot\n",
    "plt.title(\"Comparing Debt Holdings of Individuals with Occupation Listed vs Individuals with no Occupation Listed\") #add title\n",
    "plt.xlabel(\"Total Debt Held By an Individual in Dollars\") #add x title\n",
    "plt.ylabel(\"Frequency\") #add y title\n",
    "plt.legend() #add legend"
   ]
  },
  {
   "cell_type": "code",
   "execution_count": 112,
   "id": "2bc5c21a",
   "metadata": {
    "scrolled": true,
    "pycharm": {
     "name": "#%%\n"
    }
   },
   "outputs": [
    {
     "data": {
      "text/plain": [
       "KstestResult(statistic=0.23115135732323233, pvalue=2.699507284376068e-12)"
      ]
     },
     "execution_count": 112,
     "metadata": {},
     "output_type": "execute_result"
    }
   ],
   "source": [
    "def calculate_ks():\n",
    "    rng = np.random.default_rng() \n",
    "    n1 = len(get_debt_no_job())\n",
    "    n2 = len(get_debt_w_job())\n",
    "    \n",
    "    rvs1 = stats.norm.rvs(size=n1, loc=0., scale=1, random_state=rng)\n",
    "    rvs2 = stats.norm.rvs(size=n2, loc=0.5, scale=1.5, random_state=rng)\n",
    "    return stats.ks_2samp(rvs1, rvs2)\n",
    "    \n",
    "calculate_ks()"
   ]
  }
 ],
 "metadata": {
  "kernelspec": {
   "display_name": "Python 3 (ipykernel)",
   "language": "python",
   "name": "python3"
  },
  "language_info": {
   "codemirror_mode": {
    "name": "ipython",
    "version": 3
   },
   "file_extension": ".py",
   "mimetype": "text/x-python",
   "name": "python",
   "nbconvert_exporter": "python",
   "pygments_lexer": "ipython3",
   "version": "3.7.9"
  }
 },
 "nbformat": 4,
 "nbformat_minor": 5
}