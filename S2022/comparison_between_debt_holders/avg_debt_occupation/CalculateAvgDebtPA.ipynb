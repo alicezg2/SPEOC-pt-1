{
 "cells": [
  {
   "cell_type": "code",
   "execution_count": 441,
   "id": "8536e7f0",
   "metadata": {},
   "outputs": [],
   "source": [
    "import pandas as pd\n",
    "import numpy as np\n",
    "import rapidfuzz"
   ]
  },
  {
   "cell_type": "code",
   "execution_count": 466,
   "id": "f4f293a4",
   "metadata": {},
   "outputs": [
    {
     "name": "stdout",
     "output_type": "stream",
     "text": [
      "     State Occupation  Dollars  Cents  Dollars.1  Cents.1  Dollars.2  Cents.2\n",
      "0       PA   Merchant   3212.0   38.0     1606.0     19.0     1400.0     66.0\n",
      "1       PA        NaN   9601.0   24.0     4800.0     62.0     3079.0     84.0\n",
      "2       PA        NaN   1590.0   44.0      795.0     22.0      606.0      NaN\n",
      "3       PA        NaN   6406.0   88.0     3203.0     44.0     2376.0     33.0\n",
      "4       PA        NaN   2825.0   46.0     1412.0     73.0      839.0     70.0\n",
      "...    ...        ...      ...    ...        ...      ...        ...      ...\n",
      "1286   NaN        NaN      NaN    NaN        NaN      NaN        NaN      NaN\n",
      "1287   NaN        NaN      NaN    NaN        NaN      NaN        NaN      NaN\n",
      "1288   NaN        NaN      NaN    NaN        NaN      NaN        NaN      NaN\n",
      "1289   NaN        NaN      NaN    NaN        NaN      NaN        NaN      NaN\n",
      "1290   NaN        NaN      NaN    NaN        NaN      NaN        NaN      NaN\n",
      "\n",
      "[1291 rows x 8 columns]\n"
     ]
    }
   ],
   "source": [
    "state = 'PA'\n",
    "path = r\"C:\\Users\\david\\OneDrive\\Documents\\GitHub\\SPEOC-pt-1\\Data\\Post1790\\PA\\PA_post1790_CD.xlsx\"\n",
    "occs_and_debt = pd.read_excel(path,\n",
    "                             header=11, usecols='J, K, L, M, Z, AA, AO, AP') #occupations plus continental debt for conneticut\n",
    "print(occs_and_debt)"
   ]
  },
  {
   "cell_type": "code",
   "execution_count": 443,
   "id": "b9806d25",
   "metadata": {},
   "outputs": [
    {
     "name": "stdout",
     "output_type": "stream",
     "text": [
      "     Occupation  Dollars  Cents  Dollars.1  Cents.1  Dollars.2  Cents.2\n",
      "0      Merchant   3212.0   38.0     1606.0     19.0     1400.0     66.0\n",
      "1           NaN   9601.0   24.0     4800.0     62.0     3079.0     84.0\n",
      "2           NaN   1590.0   44.0      795.0     22.0      606.0      NaN\n",
      "3           NaN   6406.0   88.0     3203.0     44.0     2376.0     33.0\n",
      "4           NaN   2825.0   46.0     1412.0     73.0      839.0     70.0\n",
      "...         ...      ...    ...        ...      ...        ...      ...\n",
      "1274        NaN      6.0   85.0        3.0     42.0       21.0     13.0\n",
      "1275    Esquire     20.0   25.0       10.0     13.0        NaN      NaN\n",
      "1276        NaN      6.0    7.0        3.0      4.0        NaN      NaN\n",
      "1277        NaN     48.0   23.0       24.0     12.0        NaN      NaN\n",
      "1278        NaN     43.0   60.0       21.0     80.0        NaN      NaN\n",
      "\n",
      "[917 rows x 7 columns]\n"
     ]
    }
   ],
   "source": [
    "occs_and_debt = occs_and_debt[occs_and_debt['State'].str.contains(state) == True].drop('State', axis=1)\n",
    "print(occs_and_debt)"
   ]
  },
  {
   "cell_type": "code",
   "execution_count": 444,
   "id": "30f7759d",
   "metadata": {},
   "outputs": [
    {
     "name": "stdout",
     "output_type": "stream",
     "text": [
      "     Occupation  Dollars  Cents  Dollars.1  Cents.1  Dollars.2  Cents.2\n",
      "0      Merchant   3212.0   38.0     1606.0     19.0     1400.0     66.0\n",
      "6      Merchant   4529.0   96.0     2264.0     98.0     3312.0     47.0\n",
      "9      Merchant    607.0    8.0      303.0     54.0      146.0     51.0\n",
      "14     Merchant   2050.0   74.0     1025.0     37.0      745.0     57.0\n",
      "18       Lawyer   3472.0   90.0     1736.0     45.0      981.0     23.0\n",
      "...         ...      ...    ...        ...      ...        ...      ...\n",
      "1253  Merchants     31.0   12.0       15.0     56.0        NaN      NaN\n",
      "1258      Clerk      6.0   19.0        3.0     10.0        NaN      NaN\n",
      "1271    Esquire   9544.0   97.0     4772.0     48.0     8590.0     46.0\n",
      "1272    Esquire    880.0   75.0      440.0     38.0      753.0     91.0\n",
      "1275    Esquire     20.0   25.0       10.0     13.0        NaN      NaN\n",
      "\n",
      "[372 rows x 7 columns]\n"
     ]
    }
   ],
   "source": [
    "occs_and_debt = occs_and_debt.dropna(subset=['Occupation'])\n",
    "print(occs_and_debt)"
   ]
  },
  {
   "cell_type": "code",
   "execution_count": 445,
   "id": "39a54bb3",
   "metadata": {},
   "outputs": [
    {
     "name": "stdout",
     "output_type": "stream",
     "text": [
      "{'Merchant': 211, 'Broker': 58, ' Esquire': 8, 'Printer': 5, 'Gentleman': 5, 'Esquire': 5, 'Mariner': 4, 'Farmer': 4, 'Widow': 4, 'Co': 4, 'Clerk': 4, 'Taylor': 2, 'Silversmith': 2, 'Yeoman ': 2, 'Druggist': 2, 'Inn Keeper': 2, 'Hatter': 2, 'Esquier': 2, 'Shopkeeper': 2, 'Tanner': 2, 'Marchant': 2, 'Law': 2, 'Black Smith': 1, 'Reverend': 1, 'Goldsmith': 1, ' in trust for the Estate of Robert Dill': 1, 'Book Binder': 1, 'Shop Keeper': 1, 'Estate of  ': 1, 'Attorney at Law': 1, 'Treasurer of the first Presbyterian Church': 1, 'Printer in Trust for Jennet Thompson': 1, 'Cordwainer': 1, 'Guardian to William Chevalier': 1, 'Administor to the Est of J James': 1, 'Property of Mathematics': 1, 'Furrier': 1, 'Guardian to Adam Grier': 1, 'Spinster': 1, 'Merchant Executer to the Estate of John Schweig Hauser deceased': 1, 'Shipwright': 1, 'Ex Philadelphia County': 1, 'Estate John Benezet Deceased': 1, 'Guardian to Maria Benezet': 1, 'for Christopher Mary and Charity Pyrleus': 1, 'Sheriff': 1, 'Conveyancer': 1, 'Physician': 1, 'Post Master': 1, 'Executor to the Estate Mathias Londenberger': 1, 'Pennsylvania': 1, 'Executers of David Grierlate Y Town': 1, 'Ex to the Estate of John Baird Bucks Co': 1, 'Ex of William Honeyman': 1, 'Lawyer': 1, 'Adm to Estate of Job Vernon': 1, 'Ex to the Estate Abraham Hull': 1, 'Trust By David Cloyd': 1, 'Executor to the Estate of Doctor Benjamin Franklin deceased': 1, 'Merchants': 1}\n"
     ]
    }
   ],
   "source": [
    "occurences_dict = occs_and_debt['Occupation'].value_counts().to_dict()\n",
    "print(occurences_dict)"
   ]
  },
  {
   "cell_type": "code",
   "execution_count": 446,
   "id": "12aad37a",
   "metadata": {},
   "outputs": [
    {
     "name": "stdout",
     "output_type": "stream",
     "text": [
      "                                                         Occupation   Dollars  Dollars.1  Dollars.2   Cents  Cents.1  Cents.2\n",
      "0                                                           Esquire   18461.0     9230.0    17231.0   519.0    308.0    268.0\n",
      "1                            in trust for the Estate of Robert Dill    1436.0      718.0      964.0    50.0     25.0     45.0\n",
      "2                                       Adm to Estate of Job Vernon    1865.0      932.0      539.0    44.0     73.0     66.0\n",
      "3                                  Administor to the Est of J James      27.0       13.0       17.0    53.0     77.0     28.0\n",
      "4                                                   Attorney at Law    1223.0      611.0      330.0    62.0      0.0     36.0\n",
      "5                                                       Black Smith     692.0      346.0      186.0    25.0     12.0     90.0\n",
      "6                                                       Book Binder     783.0      391.0      365.0     7.0     54.0     21.0\n",
      "7                                                            Broker   65228.0    32601.0    38374.0  2725.0   2649.0   2501.0\n",
      "8                                                             Clerk    1854.0     1079.0      414.0   158.0    174.0    187.0\n",
      "9                                                                Co    3173.0     1586.0     1199.0   186.0    143.0     87.0\n",
      "10                                                      Conveyancer     108.0       54.0       56.0    40.0     20.0     87.0\n",
      "11                                                       Cordwainer     281.0      140.0      179.0    25.0     62.0     71.0\n",
      "12                                                         Druggist    4922.0     2461.0     1475.0    43.0     21.0     16.0\n",
      "13                                                          Esquier     921.0      460.0      419.0   156.0    128.0     86.0\n",
      "14                                                          Esquire    1050.0      523.0      610.0   224.0    311.0    141.0\n",
      "15                                     Estate John Benezet Deceased     150.0       75.0       40.0     0.0      0.0     50.0\n",
      "16                                                      Estate of      1979.0      989.0      604.0    60.0     80.0     96.0\n",
      "17                                           Ex Philadelphia County    1802.0      901.0     1238.0    96.0     49.0     25.0\n",
      "18                                           Ex of William Honeyman     668.0      334.0      180.0    96.0     48.0     61.0\n",
      "19                                    Ex to the Estate Abraham Hull      47.0       23.0       44.0    91.0     96.0     32.0\n",
      "20                          Ex to the Estate of John Baird Bucks Co     115.0       57.0       42.0    94.0     97.0     30.0\n",
      "21                              Executers of David Grierlate Y Town    5658.0     2829.0     3567.0    36.0     18.0     31.0\n",
      "22                      Executor to the Estate Mathias Londenberger     493.0      246.0      133.0    83.0     92.0     33.0\n",
      "23      Executor to the Estate of Doctor Benjamin Franklin deceased    5400.0     2700.0     1458.0     0.0      0.0      0.0\n",
      "24                                                           Farmer     947.0      472.0      426.0   179.0    240.0    272.0\n",
      "25                                                          Furrier    3107.0     1553.0     1458.0    18.0     59.0     93.0\n",
      "26                                                        Gentleman    8424.0     4210.0     4352.0   317.0    360.0    152.0\n",
      "27                                                        Goldsmith     142.0       71.0       38.0    22.0     11.0     40.0\n",
      "28                                           Guardian to Adam Grier    1605.0      802.0      540.0    80.0     90.0      0.0\n",
      "29                                        Guardian to Maria Benezet    2267.0     1133.0      432.0    50.0     75.0      0.0\n",
      "30                                    Guardian to William Chevalier     666.0      333.0      360.0    66.0     34.0      0.0\n",
      "31                                                           Hatter    2260.0     1130.0     1456.0    94.0     47.0    102.0\n",
      "32                                                       Inn Keeper    1477.0      738.0      457.0    33.0     67.0     58.0\n",
      "33                                                              Law    3941.0     1970.0     3463.0   111.0    106.0    159.0\n",
      "34                                                           Lawyer    3472.0     1736.0      981.0    90.0     45.0     23.0\n",
      "35                                                         Marchant    1132.0      565.0      760.0   125.0    163.0    127.0\n",
      "36                                                          Mariner    3903.0     1951.0     1222.0   155.0    130.0     81.0\n",
      "37                                                         Merchant  604454.0   301857.0   262950.0  9180.0  10116.0   9339.0\n",
      "38  Merchant Executer to the Estate of John Schweig Hauser deceased    5333.0     2666.0     3142.0    33.0     67.0     66.0\n",
      "39                                                        Merchants      31.0       15.0        0.0    12.0     56.0      0.0\n",
      "40                                                     Pennsylvania     856.0      428.0      231.0    56.0     28.0     26.0\n",
      "41                                                        Physician    1769.0      884.0      477.0     1.0     51.0     63.0\n",
      "42                                                      Post Master    7083.0     3541.0     1998.0    53.0     77.0     74.0\n",
      "43                                                          Printer    7421.0     3709.0     4895.0   273.0    288.0    190.0\n",
      "44                             Printer in Trust for Jennet Thompson     294.0      147.0        0.0     1.0      1.0      0.0\n",
      "45                                          Property of Mathematics     461.0      230.0      160.0    11.0     55.0     98.0\n",
      "46                                                         Reverend     224.0      112.0      181.0    12.0      6.0     82.0\n",
      "47                                                          Sheriff      56.0       28.0       15.0    21.0     11.0     17.0\n",
      "48                                                       Shipwright    1241.0      620.0      345.0    76.0     88.0     66.0\n",
      "49                                                      Shop Keeper      41.0       20.0       35.0    47.0     58.0     60.0\n",
      "50                                                       Shopkeeper    4547.0     2273.0     1329.0    48.0     74.0     61.0\n",
      "51                                                      Silversmith    1916.0      957.0      525.0   165.0    184.0     52.0\n",
      "52                                                         Spinster     528.0      264.0      142.0    33.0     17.0     64.0\n",
      "53                                                           Tanner    1191.0      595.0      781.0   125.0    113.0    105.0\n",
      "54                                                           Taylor    2093.0     1046.0      583.0    79.0     90.0     20.0\n",
      "55                       Treasurer of the first Presbyterian Church     714.0      357.0      397.0    81.0     41.0     58.0\n",
      "56                                             Trust By David Cloyd     618.0      309.0      166.0    14.0      7.0     88.0\n",
      "57                                                            Widow    5641.0     2820.0     4465.0   220.0    173.0     80.0\n",
      "58                                                          Yeoman     1135.0      567.0      776.0   106.0    103.0    154.0\n",
      "59                         for Christopher Mary and Charity Pyrleus     846.0      423.0      612.0    23.0     12.0     22.0\n"
     ]
    }
   ],
   "source": [
    "totals = occs_and_debt.groupby('Occupation')[['Dollars', 'Dollars.1', 'Dollars.2', 'Cents', 'Cents.1', 'Cents.2']].apply(sum)\n",
    "totals = totals.reset_index()\n",
    "print(totals.to_string())"
   ]
  },
  {
   "cell_type": "code",
   "execution_count": 447,
   "id": "851fd586",
   "metadata": {},
   "outputs": [
    {
     "name": "stdout",
     "output_type": "stream",
     "text": [
      "{'Broker': 58, 'Printer': 5, 'Gentleman': 5, 'Esquire': 15, 'Mariner': 4, 'Farmer': 4, 'Widow': 4, 'Co': 4, 'Clerk': 4, 'Taylor': 2, 'Silversmith': 2, 'Yeoman ': 2, 'Druggist': 2, 'Inn Keeper': 2, 'Hatter': 2, 'Tanner': 2, 'Marchant': 214, 'Law': 2, 'Black Smith': 1, 'Reverend': 1, 'Goldsmith': 1, ' in trust for the Estate of Robert Dill': 1, 'Book Binder': 1, 'Shop Keeper': 3, 'Estate of  ': 1, 'Attorney at Law': 1, 'Treasurer of the first Presbyterian Church': 1, 'Printer in Trust for Jennet Thompson': 1, 'Cordwainer': 1, 'Guardian to William Chevalier': 1, 'Administor to the Est of J James': 1, 'Property of Mathematics': 1, 'Furrier': 1, 'Guardian to Adam Grier': 1, 'Spinster': 1, 'Merchant Executer to the Estate of John Schweig Hauser deceased': 1, 'Shipwright': 1, 'Ex Philadelphia County': 1, 'Estate John Benezet Deceased': 1, 'Guardian to Maria Benezet': 1, 'for Christopher Mary and Charity Pyrleus': 1, 'Sheriff': 1, 'Conveyancer': 1, 'Physician': 1, 'Post Master': 1, 'Executor to the Estate Mathias Londenberger': 1, 'Pennsylvania': 1, 'Executers of David Grierlate Y Town': 1, 'Ex to the Estate of John Baird Bucks Co': 1, 'Ex of William Honeyman': 1, 'Lawyer': 1, 'Adm to Estate of Job Vernon': 1, 'Ex to the Estate Abraham Hull': 1, 'Trust By David Cloyd': 1, 'Executor to the Estate of Doctor Benjamin Franklin deceased': 1}\n"
     ]
    }
   ],
   "source": [
    "occs_debt_wo_dups = totals.copy()\n",
    "#use fuzzy string matching to remove any similar names like merchant and merchents. does not take into account longer titles.\n",
    "occ_list = occs_debt_wo_dups['Occupation'].tolist()\n",
    "\n",
    "for occ in occ_list:\n",
    "    for occ_2 in occ_list:\n",
    "        if occ != occ_2:\n",
    "            if rapidfuzz.fuzz.ratio(occ, occ_2) >= 80 and occ != occ_2:\n",
    "                #transfer amount in row that will be deleted to other row\n",
    "                row_w_occ_2 = occs_debt_wo_dups.loc[occs_debt_wo_dups['Occupation'] == occ_2] #locate row that contains occupation soon to be deleted\n",
    "                dollars_in_occ_2 = row_w_occ_2[['Dollars', 'Dollars.1', 'Dollars.2']].sum(axis=1).values #get total dollars\n",
    "                cents_in_occ_2 = row_w_occ_2[['Cents', 'Cents.1', 'Cents.2']].sum(axis=1).values #get total cents\n",
    "                dollars_in_occ_2 = dollars_in_occ_2[0] #stored in array. need to retrieve value\n",
    "                cents_in_occ_2 = cents_in_occ_2[0] #stored in array. need to retrieve value  \n",
    "                occs_debt_wo_dups.loc[(occs_debt_wo_dups.Occupation == occ), 'Dollars'] += dollars_in_occ_2 #add dollars to occupation 1\n",
    "                occs_debt_wo_dups.loc[(occs_debt_wo_dups.Occupation == occ), 'Cents'] += cents_in_occ_2 #add cents to occupation 1\n",
    "                 \n",
    "                #remove value from occurences dictionary and add one to other occupation\n",
    "                occurences_dict[occs_debt_wo_dups.loc[(occs_debt_wo_dups.Occupation == occ), 'Occupation'].values[0]] += occurences_dict[occs_debt_wo_dups.loc[(occs_debt_wo_dups.Occupation == occ_2), 'Occupation'].values[0]] \n",
    "                occurences_dict.pop(occ_2)\n",
    "                \n",
    "                #remove row\n",
    "                occs_debt_wo_dups.drop(occs_debt_wo_dups[occs_debt_wo_dups['Occupation'] == occ_2].index, inplace=True) \n",
    "                occ_list.remove(occ_2)\n",
    "\n",
    "occs_debt_wo_dups = occs_debt_wo_dups.reset_index(drop=True) #reset indexes 0-65 \n",
    "\n",
    "#take the first two words of every job if applicable and remove any duplicate titles. handles longer titles \n",
    "two_word_occs = {}\n",
    "#retrieve all two worded occupations\n",
    "for occ in occ_list:\n",
    "    if len(occ.split()) >= 2: #only account for words that are actually more than two words long\n",
    "        occ_two_word = occ.split()[0] + \" \" + occ.split()[1] #get first two words\n",
    "        two_word_occs[occ_list.index(occ)] = occ_two_word #append both words to dict\n",
    "\n",
    "#retrieve any duplicates now \n",
    "flipped = {} \n",
    "for key, value in two_word_occs.items():\n",
    "    flipped.setdefault(value, list()).append(key) #flip keys with values\n",
    "\n",
    "keys_w_dups = [key for key, values in flipped.items() if len(values) > 1] #retrieve keys that have multiple values. store them in a list\n",
    "\n",
    "print(occurences_dict)"
   ]
  },
  {
   "cell_type": "code",
   "execution_count": 448,
   "id": "62d5a43b",
   "metadata": {},
   "outputs": [
    {
     "name": "stdout",
     "output_type": "stream",
     "text": [
      "                                                         Occupation    Dollars  Dollars.1  Dollars.2    Cents  Cents.1  Cents.2\n",
      "0                            in trust for the Estate of Robert Dill     1436.0      718.0      964.0     50.0     25.0     45.0\n",
      "1                                       Adm to Estate of Job Vernon     1865.0      932.0      539.0     44.0     73.0     66.0\n",
      "2                                  Administor to the Est of J James       27.0       13.0       17.0     53.0     77.0     28.0\n",
      "3                                                   Attorney at Law     1223.0      611.0      330.0     62.0      0.0     36.0\n",
      "4                                                       Black Smith      692.0      346.0      186.0     25.0     12.0     90.0\n",
      "5                                                       Book Binder      783.0      391.0      365.0      7.0     54.0     21.0\n",
      "6                                                            Broker    65228.0    32601.0    38374.0   2725.0   2649.0   2501.0\n",
      "7                                                             Clerk     1854.0     1079.0      414.0    158.0    174.0    187.0\n",
      "8                                                                Co     3173.0     1586.0     1199.0    186.0    143.0     87.0\n",
      "9                                                       Conveyancer      108.0       54.0       56.0     40.0     20.0     87.0\n",
      "10                                                       Cordwainer      281.0      140.0      179.0     25.0     62.0     71.0\n",
      "11                                                         Druggist     4922.0     2461.0     1475.0     43.0     21.0     16.0\n",
      "12                                                          Esquire    47772.0      523.0      610.0   1689.0    311.0    141.0\n",
      "13                                     Estate John Benezet Deceased      150.0       75.0       40.0      0.0      0.0     50.0\n",
      "14                                                      Estate of       1979.0      989.0      604.0     60.0     80.0     96.0\n",
      "15                                           Ex Philadelphia County     1802.0      901.0     1238.0     96.0     49.0     25.0\n",
      "16                                           Ex of William Honeyman      668.0      334.0      180.0     96.0     48.0     61.0\n",
      "17                                    Ex to the Estate Abraham Hull       47.0       23.0       44.0     91.0     96.0     32.0\n",
      "18                          Ex to the Estate of John Baird Bucks Co      115.0       57.0       42.0     94.0     97.0     30.0\n",
      "19                              Executers of David Grierlate Y Town     5658.0     2829.0     3567.0     36.0     18.0     31.0\n",
      "20                      Executor to the Estate Mathias Londenberger      493.0      246.0      133.0     83.0     92.0     33.0\n",
      "21      Executor to the Estate of Doctor Benjamin Franklin deceased     5400.0     2700.0     1458.0      0.0      0.0      0.0\n",
      "22                                                           Farmer      947.0      472.0      426.0    179.0    240.0    272.0\n",
      "23                                                          Furrier     3107.0     1553.0     1458.0     18.0     59.0     93.0\n",
      "24                                                        Gentleman     8424.0     4210.0     4352.0    317.0    360.0    152.0\n",
      "25                                                        Goldsmith      142.0       71.0       38.0     22.0     11.0     40.0\n",
      "26                                           Guardian to Adam Grier     1605.0      802.0      540.0     80.0     90.0      0.0\n",
      "27                                        Guardian to Maria Benezet     2267.0     1133.0      432.0     50.0     75.0      0.0\n",
      "28                                    Guardian to William Chevalier      666.0      333.0      360.0     66.0     34.0      0.0\n",
      "29                                                           Hatter     2260.0     1130.0     1456.0     94.0     47.0    102.0\n",
      "30                                                       Inn Keeper     1477.0      738.0      457.0     33.0     67.0     58.0\n",
      "31                                                              Law     3941.0     1970.0     3463.0    111.0    106.0    159.0\n",
      "32                                                           Lawyer     3472.0     1736.0      981.0     90.0     45.0     23.0\n",
      "33                                                         Marchant  1170439.0      565.0      760.0  28828.0    163.0    127.0\n",
      "34                                                          Mariner     3903.0     1951.0     1222.0    155.0    130.0     81.0\n",
      "35  Merchant Executer to the Estate of John Schweig Hauser deceased     5333.0     2666.0     3142.0     33.0     67.0     66.0\n",
      "36                                                     Pennsylvania      856.0      428.0      231.0     56.0     28.0     26.0\n",
      "37                                                        Physician     1769.0      884.0      477.0      1.0     51.0     63.0\n",
      "38                                                      Post Master     7083.0     3541.0     1998.0     53.0     77.0     74.0\n",
      "39                                                          Printer     7421.0     3709.0     4895.0    273.0    288.0    190.0\n",
      "40                             Printer in Trust for Jennet Thompson      294.0      147.0        0.0      1.0      1.0      0.0\n",
      "41                                          Property of Mathematics      461.0      230.0      160.0     11.0     55.0     98.0\n",
      "42                                                         Reverend      224.0      112.0      181.0     12.0      6.0     82.0\n",
      "43                                                          Sheriff       56.0       28.0       15.0     21.0     11.0     17.0\n",
      "44                                                       Shipwright     1241.0      620.0      345.0     76.0     88.0     66.0\n",
      "45                                                      Shop Keeper     8190.0       20.0       35.0    230.0     58.0     60.0\n",
      "46                                                      Silversmith     1916.0      957.0      525.0    165.0    184.0     52.0\n",
      "47                                                         Spinster      528.0      264.0      142.0     33.0     17.0     64.0\n",
      "48                                                           Tanner     1191.0      595.0      781.0    125.0    113.0    105.0\n",
      "49                                                           Taylor     2093.0     1046.0      583.0     79.0     90.0     20.0\n",
      "50                       Treasurer of the first Presbyterian Church      714.0      357.0      397.0     81.0     41.0     58.0\n",
      "51                                             Trust By David Cloyd      618.0      309.0      166.0     14.0      7.0     88.0\n",
      "52                                                            Widow     5641.0     2820.0     4465.0    220.0    173.0     80.0\n",
      "53                                                          Yeoman      1135.0      567.0      776.0    106.0    103.0    154.0\n",
      "54                         for Christopher Mary and Charity Pyrleus      846.0      423.0      612.0     23.0     12.0     22.0\n"
     ]
    }
   ],
   "source": [
    "print(occs_debt_wo_dups.to_string())"
   ]
  },
  {
   "cell_type": "code",
   "execution_count": 449,
   "id": "5d5cb375",
   "metadata": {},
   "outputs": [
    {
     "name": "stdout",
     "output_type": "stream",
     "text": [
      "{'in trust': [0], 'Adm to': [1], 'Administor to': [2], 'Attorney at': [3], 'Black Smith': [4], 'Book Binder': [5], 'Estate John': [13], 'Estate of': [14], 'Ex Philadelphia': [15], 'Ex of': [16], 'Ex to': [17, 18], 'Executers of': [19], 'Executor to': [20, 21], 'Guardian to': [26, 27, 28], 'Inn Keeper': [30], 'Merchant Executer': [35], 'Post Master': [38], 'Printer in': [40], 'Property of': [41], 'Shop Keeper': [45], 'Treasurer of': [50], 'Trust By': [51], 'for Christopher': [54]}\n",
      "\n",
      "\n",
      "\n",
      "['Ex to', 'Executor to', 'Guardian to']\n"
     ]
    }
   ],
   "source": [
    "print(flipped)\n",
    "print(\"\\n\\n\")\n",
    "print(keys_w_dups)"
   ]
  },
  {
   "cell_type": "code",
   "execution_count": 450,
   "id": "80249086",
   "metadata": {},
   "outputs": [
    {
     "name": "stdout",
     "output_type": "stream",
     "text": [
      "{'Broker': 58, 'Printer': 5, 'Gentleman': 5, 'Esquire': 15, 'Mariner': 4, 'Farmer': 4, 'Widow': 4, 'Co': 4, 'Clerk': 4, 'Taylor': 2, 'Silversmith': 2, 'Yeoman ': 2, 'Druggist': 2, 'Inn Keeper': 2, 'Hatter': 2, 'Tanner': 2, 'Marchant': 214, 'Law': 2, 'Black Smith': 1, 'Reverend': 1, 'Goldsmith': 1, ' in trust for the Estate of Robert Dill': 1, 'Book Binder': 1, 'Shop Keeper': 3, 'Estate of  ': 1, 'Attorney at Law': 1, 'Treasurer of the first Presbyterian Church': 1, 'Printer in Trust for Jennet Thompson': 1, 'Cordwainer': 1, 'Guardian to William Chevalier': 1, 'Administor to the Est of J James': 1, 'Property of Mathematics': 1, 'Furrier': 1, 'Guardian to Adam Grier': 1, 'Spinster': 1, 'Merchant Executer to the Estate of John Schweig Hauser deceased': 1, 'Shipwright': 1, 'Ex Philadelphia County': 1, 'Estate John Benezet Deceased': 1, 'Guardian to Maria Benezet': 1, 'for Christopher Mary and Charity Pyrleus': 1, 'Sheriff': 1, 'Conveyancer': 1, 'Physician': 1, 'Post Master': 1, 'Executor to the Estate Mathias Londenberger': 1, 'Pennsylvania': 1, 'Executers of David Grierlate Y Town': 1, 'Ex to the Estate of John Baird Bucks Co': 1, 'Ex of William Honeyman': 1, 'Lawyer': 1, 'Adm to Estate of Job Vernon': 1, 'Ex to the Estate Abraham Hull': 1, 'Trust By David Cloyd': 1, 'Executor to the Estate of Doctor Benjamin Franklin deceased': 1}\n",
      "Ex to the Estate of John Baird Bucks Co\n",
      "Length: 2\n",
      "Last Index: 18 Index: 17\n",
      "[17, 18]\n",
      "\n",
      "\n",
      "\n",
      "Executor to the Estate of Doctor Benjamin Franklin deceased\n",
      "Length: 2\n",
      "Last Index: 21 Index: 20\n",
      "[20, 21]\n",
      "\n",
      "\n",
      "\n",
      "Guardian to William Chevalier\n",
      "Length: 3\n",
      "Last Index: 28 Index: 26\n",
      "[26, 27, 28]\n",
      "\n",
      "\n",
      "\n",
      "Guardian to William Chevalier\n",
      "Length: 2\n",
      "Last Index: 28 Index: 27\n",
      "[27, 28]\n",
      "\n",
      "\n",
      "\n"
     ]
    }
   ],
   "source": [
    "print(occurences_dict)\n",
    "\n",
    "for occ in keys_w_dups:\n",
    "    i = 0\n",
    "    while i < len(flipped[occ]):\n",
    "        index = flipped[occ][i]\n",
    "        if len(flipped[occ]) > 1: #make sure to keep one index in the list. don't want to delete ALL occurences\n",
    "            duplicate_row = occs_debt_wo_dups.loc[[index]] #return row that has index\n",
    "            dollars_in_dup_row = duplicate_row[['Dollars', 'Dollars.1', 'Dollars.2']].sum(axis=1).values #sum all dollars in row                \n",
    "            cents_in_dup_row = duplicate_row[['Cents', 'Cents.1', 'Cents.2']].sum(axis=1).values #return total cents in row\n",
    "            dollars_dup_row = dollars_in_dup_row[0] #stored in array. need to retrieve value\n",
    "            cents_dup_row = cents_in_dup_row[0] #stored in array. need to retrieve value\n",
    "\n",
    "            last_index = flipped[occ][len(flipped[occ]) - 1] #get last value in list. we will add dollars and cents here\n",
    "                        \n",
    "            occs_debt_wo_dups.loc[last_index, 'Dollars'] += dollars_dup_row #add dollars from one occupation to the other\n",
    "            occs_debt_wo_dups.loc[last_index, 'Cents'] += cents_dup_row #add cents from one occupation to the other\n",
    "            \n",
    "            #remove value from occurences dictionary and add one to other occupation\n",
    "            \n",
    "            print(occs_debt_wo_dups.loc[last_index, 'Occupation'])\n",
    "            occurences_dict[occs_debt_wo_dups.loc[last_index, 'Occupation']] += occurences_dict[occs_debt_wo_dups.loc[index, 'Occupation']] \n",
    "            occurences_dict.pop(occs_debt_wo_dups.loc[index, 'Occupation'])\n",
    "            \n",
    "            print(\"Length: \" + str(len(flipped[occ])))\n",
    "            print(\"Last Index: \" + str(last_index) + \" Index: \" + str(index))\n",
    "            print(flipped[occ])\n",
    "            print(\"\\n\\n\")\n",
    "                        \n",
    "            occs_debt_wo_dups.drop(index, inplace=True) #remove duplicate occupation now\n",
    "            flipped[occ].remove(index) #remove from list\n",
    "            \n",
    "        else:\n",
    "            i += 1\n",
    "\n",
    "occs_debt_wo_dups = occs_debt_wo_dups.reset_index(drop=True) #reset indexes 0-..."
   ]
  },
  {
   "cell_type": "code",
   "execution_count": 451,
   "id": "a647d9a0",
   "metadata": {},
   "outputs": [
    {
     "name": "stdout",
     "output_type": "stream",
     "text": [
      "                                                         Occupation    Dollars  Dollars.1  Dollars.2    Cents  Cents.1  Cents.2\n",
      "0                            in trust for the Estate of Robert Dill     1436.0      718.0      964.0     50.0     25.0     45.0\n",
      "1                                       Adm to Estate of Job Vernon     1865.0      932.0      539.0     44.0     73.0     66.0\n",
      "2                                  Administor to the Est of J James       27.0       13.0       17.0     53.0     77.0     28.0\n",
      "3                                                   Attorney at Law     1223.0      611.0      330.0     62.0      0.0     36.0\n",
      "4                                                       Black Smith      692.0      346.0      186.0     25.0     12.0     90.0\n",
      "5                                                       Book Binder      783.0      391.0      365.0      7.0     54.0     21.0\n",
      "6                                                            Broker    65228.0    32601.0    38374.0   2725.0   2649.0   2501.0\n",
      "7                                                             Clerk     1854.0     1079.0      414.0    158.0    174.0    187.0\n",
      "8                                                                Co     3173.0     1586.0     1199.0    186.0    143.0     87.0\n",
      "9                                                       Conveyancer      108.0       54.0       56.0     40.0     20.0     87.0\n",
      "10                                                       Cordwainer      281.0      140.0      179.0     25.0     62.0     71.0\n",
      "11                                                         Druggist     4922.0     2461.0     1475.0     43.0     21.0     16.0\n",
      "12                                                          Esquire    47772.0      523.0      610.0   1689.0    311.0    141.0\n",
      "13                                     Estate John Benezet Deceased      150.0       75.0       40.0      0.0      0.0     50.0\n",
      "14                                                      Estate of       1979.0      989.0      604.0     60.0     80.0     96.0\n",
      "15                                           Ex Philadelphia County     1802.0      901.0     1238.0     96.0     49.0     25.0\n",
      "16                                           Ex of William Honeyman      668.0      334.0      180.0     96.0     48.0     61.0\n",
      "17                          Ex to the Estate of John Baird Bucks Co      229.0       57.0       42.0    313.0     97.0     30.0\n",
      "18                              Executers of David Grierlate Y Town     5658.0     2829.0     3567.0     36.0     18.0     31.0\n",
      "19      Executor to the Estate of Doctor Benjamin Franklin deceased     6272.0     2700.0     1458.0    208.0      0.0      0.0\n",
      "20                                                           Farmer      947.0      472.0      426.0    179.0    240.0    272.0\n",
      "21                                                          Furrier     3107.0     1553.0     1458.0     18.0     59.0     93.0\n",
      "22                                                        Gentleman     8424.0     4210.0     4352.0    317.0    360.0    152.0\n",
      "23                                                        Goldsmith      142.0       71.0       38.0     22.0     11.0     40.0\n",
      "24                                    Guardian to William Chevalier     7445.0      333.0      360.0    361.0     34.0      0.0\n",
      "25                                                           Hatter     2260.0     1130.0     1456.0     94.0     47.0    102.0\n",
      "26                                                       Inn Keeper     1477.0      738.0      457.0     33.0     67.0     58.0\n",
      "27                                                              Law     3941.0     1970.0     3463.0    111.0    106.0    159.0\n",
      "28                                                           Lawyer     3472.0     1736.0      981.0     90.0     45.0     23.0\n",
      "29                                                         Marchant  1170439.0      565.0      760.0  28828.0    163.0    127.0\n",
      "30                                                          Mariner     3903.0     1951.0     1222.0    155.0    130.0     81.0\n",
      "31  Merchant Executer to the Estate of John Schweig Hauser deceased     5333.0     2666.0     3142.0     33.0     67.0     66.0\n",
      "32                                                     Pennsylvania      856.0      428.0      231.0     56.0     28.0     26.0\n",
      "33                                                        Physician     1769.0      884.0      477.0      1.0     51.0     63.0\n",
      "34                                                      Post Master     7083.0     3541.0     1998.0     53.0     77.0     74.0\n",
      "35                                                          Printer     7421.0     3709.0     4895.0    273.0    288.0    190.0\n",
      "36                             Printer in Trust for Jennet Thompson      294.0      147.0        0.0      1.0      1.0      0.0\n",
      "37                                          Property of Mathematics      461.0      230.0      160.0     11.0     55.0     98.0\n",
      "38                                                         Reverend      224.0      112.0      181.0     12.0      6.0     82.0\n",
      "39                                                          Sheriff       56.0       28.0       15.0     21.0     11.0     17.0\n",
      "40                                                       Shipwright     1241.0      620.0      345.0     76.0     88.0     66.0\n",
      "41                                                      Shop Keeper     8190.0       20.0       35.0    230.0     58.0     60.0\n",
      "42                                                      Silversmith     1916.0      957.0      525.0    165.0    184.0     52.0\n",
      "43                                                         Spinster      528.0      264.0      142.0     33.0     17.0     64.0\n",
      "44                                                           Tanner     1191.0      595.0      781.0    125.0    113.0    105.0\n",
      "45                                                           Taylor     2093.0     1046.0      583.0     79.0     90.0     20.0\n",
      "46                       Treasurer of the first Presbyterian Church      714.0      357.0      397.0     81.0     41.0     58.0\n",
      "47                                             Trust By David Cloyd      618.0      309.0      166.0     14.0      7.0     88.0\n",
      "48                                                            Widow     5641.0     2820.0     4465.0    220.0    173.0     80.0\n",
      "49                                                          Yeoman      1135.0      567.0      776.0    106.0    103.0    154.0\n",
      "50                         for Christopher Mary and Charity Pyrleus      846.0      423.0      612.0     23.0     12.0     22.0\n"
     ]
    }
   ],
   "source": [
    "print(occs_debt_wo_dups.to_string())"
   ]
  },
  {
   "cell_type": "code",
   "execution_count": 452,
   "id": "826f9428",
   "metadata": {},
   "outputs": [
    {
     "name": "stdout",
     "output_type": "stream",
     "text": [
      "{'in trust': [0], 'Adm to': [1], 'Administor to': [2], 'Attorney at': [3], 'Black Smith': [4], 'Book Binder': [5], 'Estate John': [13], 'Estate of': [14], 'Ex Philadelphia': [15], 'Ex of': [16], 'Ex to': [18], 'Executers of': [19], 'Executor to': [21], 'Guardian to': [28], 'Inn Keeper': [30], 'Merchant Executer': [35], 'Post Master': [38], 'Printer in': [40], 'Property of': [41], 'Shop Keeper': [45], 'Treasurer of': [50], 'Trust By': [51], 'for Christopher': [54]}\n"
     ]
    }
   ],
   "source": [
    "print(flipped)"
   ]
  },
  {
   "cell_type": "code",
   "execution_count": 453,
   "id": "88765c43",
   "metadata": {},
   "outputs": [
    {
     "name": "stdout",
     "output_type": "stream",
     "text": [
      "{'Broker': 58, 'Printer': 5, 'Gentleman': 5, 'Esquire': 15, 'Mariner': 4, 'Farmer': 4, 'Widow': 4, 'Co': 4, 'Clerk': 4, 'Taylor': 2, 'Silversmith': 2, 'Yeoman ': 2, 'Druggist': 2, 'Inn Keeper': 2, 'Hatter': 2, 'Tanner': 2, 'Marchant': 214, 'Law': 2, 'Black Smith': 1, 'Reverend': 1, 'Goldsmith': 1, ' in trust for the Estate of Robert Dill': 1, 'Book Binder': 1, 'Shop Keeper': 3, 'Estate of  ': 1, 'Attorney at Law': 1, 'Treasurer of the first Presbyterian Church': 1, 'Printer in Trust for Jennet Thompson': 1, 'Cordwainer': 1, 'Guardian to William Chevalier': 3, 'Administor to the Est of J James': 1, 'Property of Mathematics': 1, 'Furrier': 1, 'Spinster': 1, 'Merchant Executer to the Estate of John Schweig Hauser deceased': 1, 'Shipwright': 1, 'Ex Philadelphia County': 1, 'Estate John Benezet Deceased': 1, 'for Christopher Mary and Charity Pyrleus': 1, 'Sheriff': 1, 'Conveyancer': 1, 'Physician': 1, 'Post Master': 1, 'Pennsylvania': 1, 'Executers of David Grierlate Y Town': 1, 'Ex to the Estate of John Baird Bucks Co': 2, 'Ex of William Honeyman': 1, 'Lawyer': 1, 'Adm to Estate of Job Vernon': 1, 'Trust By David Cloyd': 1, 'Executor to the Estate of Doctor Benjamin Franklin deceased': 2}\n"
     ]
    }
   ],
   "source": [
    "print(occurences_dict)"
   ]
  },
  {
   "cell_type": "code",
   "execution_count": 454,
   "id": "c334e15b",
   "metadata": {},
   "outputs": [],
   "source": [
    "exceptions = []"
   ]
  },
  {
   "cell_type": "code",
   "execution_count": 455,
   "id": "513b3f88",
   "metadata": {},
   "outputs": [],
   "source": [
    "#get the first word from every occupation and store any duplicates in a dictionary\n",
    "occ_list = occs_debt_wo_dups['Occupation'].to_list()\n",
    "occupations = []\n",
    "one_word_occs = {}\n",
    "flipped_one_w = {}\n",
    "\n",
    "for occ in occ_list:\n",
    "    if occ not in exceptions:\n",
    "        first_word = occ.split()[0]\n",
    "        one_word_occs[occ_list.index(occ)] = first_word \n",
    "        \n",
    "#flip dictionary\n",
    "for key, value in one_word_occs.items():\n",
    "    flipped_one_w.setdefault(value, list()).append(key) #flip keys with values"
   ]
  },
  {
   "cell_type": "code",
   "execution_count": 456,
   "id": "42a11b9d",
   "metadata": {},
   "outputs": [
    {
     "name": "stdout",
     "output_type": "stream",
     "text": [
      "in Trust\n",
      "Adm Administor\n",
      "Executers Ex\n",
      "Executers Executor\n",
      "Marchant Merchant\n",
      "{'in': [0, 47], 'Adm': [1, 2], 'Attorney': [3], 'Black': [4], 'Book': [5], 'Broker': [6], 'Clerk': [7], 'Co': [8], 'Conveyancer': [9], 'Cordwainer': [10], 'Druggist': [11], 'Esquire': [12], 'Estate': [13, 14], 'Executers': [18, 15, 16, 17, 19], 'Farmer': [20], 'Furrier': [21], 'Gentleman': [22], 'Goldsmith': [23], 'Guardian': [24], 'Hatter': [25], 'Inn': [26], 'Law': [27], 'Lawyer': [28], 'Marchant': [29, 31], 'Mariner': [30], 'Pennsylvania': [32], 'Physician': [33], 'Post': [34], 'Printer': [35, 36], 'Property': [37], 'Reverend': [38], 'Sheriff': [39], 'Shipwright': [40], 'Shop': [41], 'Silversmith': [42], 'Spinster': [43], 'Tanner': [44], 'Taylor': [45], 'Treasurer': [46], 'Widow': [48], 'Yeoman': [49], 'for': [50]}\n",
      "\n",
      "\n",
      "\n",
      "['in', 'Adm', 'Estate', 'Executers', 'Marchant', 'Printer']\n"
     ]
    }
   ],
   "source": [
    "#use fuzzy string matching \n",
    "flipped_list = list(flipped_one_w) #convert to list. needed in order to iterate through\n",
    "for occ in flipped_list:\n",
    "    for occ_2 in flipped_list:\n",
    "        if occ_2 != occ and rapidfuzz.fuzz.ratio(occ, occ_2) >= 80 or (occ == 'Adm' and occ_2 == 'Administor') or (occ == 'Executers' and occ_2 == 'Ex') or (occ == 'in' and occ_2 == 'Trust'):\n",
    "            print(occ, occ_2)\n",
    "            flipped_one_w[occ].extend(flipped_one_w[occ_2]) #combine lists\n",
    "            flipped_one_w.pop(occ_2) #remove second occurence of the same occupation \n",
    "            flipped_list.remove(occ_2) #remove from list \n",
    "            \n",
    "keys_w_dups = [key for key, values in flipped_one_w.items() if len(values) > 1] #retrieve keys that have multiple values. store them in a list\n",
    "         \n",
    "print(flipped_one_w)\n",
    "print(\"\\n\\n\")\n",
    "print(keys_w_dups)"
   ]
  },
  {
   "cell_type": "code",
   "execution_count": 457,
   "id": "f96b2f18",
   "metadata": {},
   "outputs": [
    {
     "name": "stdout",
     "output_type": "stream",
     "text": [
      "                                                         Occupation    Dollars  Dollars.1  Dollars.2   Cents  Cents.1  Cents.2\n",
      "0                                  Administor to the Est of J James     3363.0       13.0       17.0   178.0     77.0     28.0\n",
      "1                                                   Attorney at Law     1223.0      611.0      330.0    62.0      0.0     36.0\n",
      "2                                                       Black Smith      692.0      346.0      186.0    25.0     12.0     90.0\n",
      "3                                                       Book Binder      783.0      391.0      365.0     7.0     54.0     21.0\n",
      "4                                                            Broker    65228.0    32601.0    38374.0  2725.0   2649.0   2501.0\n",
      "5                                                             Clerk     1854.0     1079.0      414.0   158.0    174.0    187.0\n",
      "6                                                                Co     3173.0     1586.0     1199.0   186.0    143.0     87.0\n",
      "7                                                       Conveyancer      108.0       54.0       56.0    40.0     20.0     87.0\n",
      "8                                                        Cordwainer      281.0      140.0      179.0    25.0     62.0     71.0\n",
      "9                                                          Druggist     4922.0     2461.0     1475.0    43.0     21.0     16.0\n",
      "10                                                          Esquire    47772.0      523.0      610.0  1689.0    311.0    141.0\n",
      "11                                                      Estate of       2244.0      989.0      604.0   185.0     80.0     96.0\n",
      "12      Executor to the Estate of Doctor Benjamin Franklin deceased    23777.0     2700.0     1458.0   708.0      0.0      0.0\n",
      "13                                                           Farmer      947.0      472.0      426.0   179.0    240.0    272.0\n",
      "14                                                          Furrier     3107.0     1553.0     1458.0    18.0     59.0     93.0\n",
      "15                                                        Gentleman     8424.0     4210.0     4352.0   317.0    360.0    152.0\n",
      "16                                                        Goldsmith      142.0       71.0       38.0    22.0     11.0     40.0\n",
      "17                                    Guardian to William Chevalier     7445.0      333.0      360.0   361.0     34.0      0.0\n",
      "18                                                           Hatter     2260.0     1130.0     1456.0    94.0     47.0    102.0\n",
      "19                                                       Inn Keeper     1477.0      738.0      457.0    33.0     67.0     58.0\n",
      "20                                                              Law     3941.0     1970.0     3463.0   111.0    106.0    159.0\n",
      "21                                                           Lawyer     3472.0     1736.0      981.0    90.0     45.0     23.0\n",
      "22                                                          Mariner     3903.0     1951.0     1222.0   155.0    130.0     81.0\n",
      "23  Merchant Executer to the Estate of John Schweig Hauser deceased  1177097.0     2666.0     3142.0   158.0     67.0     66.0\n",
      "24                                                     Pennsylvania      856.0      428.0      231.0    56.0     28.0     26.0\n",
      "25                                                        Physician     1769.0      884.0      477.0     1.0     51.0     63.0\n",
      "26                                                      Post Master     7083.0     3541.0     1998.0    53.0     77.0     74.0\n",
      "27                             Printer in Trust for Jennet Thompson    16319.0      147.0        0.0   126.0      1.0      0.0\n",
      "28                                          Property of Mathematics      461.0      230.0      160.0    11.0     55.0     98.0\n",
      "29                                                         Reverend      224.0      112.0      181.0    12.0      6.0     82.0\n",
      "30                                                          Sheriff       56.0       28.0       15.0    21.0     11.0     17.0\n",
      "31                                                       Shipwright     1241.0      620.0      345.0    76.0     88.0     66.0\n",
      "32                                                      Shop Keeper     8190.0       20.0       35.0   230.0     58.0     60.0\n",
      "33                                                      Silversmith     1916.0      957.0      525.0   165.0    184.0     52.0\n",
      "34                                                         Spinster      528.0      264.0      142.0    33.0     17.0     64.0\n",
      "35                                                           Tanner     1191.0      595.0      781.0   125.0    113.0    105.0\n",
      "36                                                           Taylor     2093.0     1046.0      583.0    79.0     90.0     20.0\n",
      "37                       Treasurer of the first Presbyterian Church      714.0      357.0      397.0    81.0     41.0     58.0\n",
      "38                                             Trust By David Cloyd     3736.0      309.0      166.0   139.0      7.0     88.0\n",
      "39                                                            Widow     5641.0     2820.0     4465.0   220.0    173.0     80.0\n",
      "40                                                          Yeoman      1135.0      567.0      776.0   106.0    103.0    154.0\n",
      "41                         for Christopher Mary and Charity Pyrleus      846.0      423.0      612.0    23.0     12.0     22.0\n"
     ]
    }
   ],
   "source": [
    "#remove duplicates\n",
    "for occ in keys_w_dups:\n",
    "    i = 0\n",
    "    while i < len(flipped_one_w[occ]):\n",
    "        if len(flipped_one_w[occ]) > 1:\n",
    "            \n",
    "            index = flipped_one_w[occ][i]\n",
    "            last_index = flipped_one_w[occ][len(flipped_one_w[occ]) - 1] #get last value in list. we will add dollars and cents here\n",
    "            duplicate_row = occs_debt_wo_dups.loc[[index]] #returns row that has index\n",
    "            dollars_in_dup_row = duplicate_row[['Dollars', 'Dollars.1', 'Dollars.2']].sum(axis=1).values[0]\n",
    "            cents_in_dup_row = duplicate_row[['Cents', 'Cents.1', 'Cents.2']].sum(axis=1).values[0]\n",
    "            \n",
    "            occs_debt_wo_dups.loc[last_index, 'Dollars'] += dollars_in_dup_row\n",
    "            occs_debt_wo_dups.loc[last_index, 'Cents'] += cents_dup_row\n",
    "            \n",
    "            occurences_dict[occs_debt_wo_dups.loc[last_index, 'Occupation']] += occurences_dict[occs_debt_wo_dups.loc[index, 'Occupation']] \n",
    "            occurences_dict.pop(occs_debt_wo_dups.loc[index, 'Occupation'])\n",
    "\n",
    "            occs_debt_wo_dups.drop(index, inplace=True)\n",
    "            flipped_one_w[occ].remove(index)\n",
    "            \n",
    "        else:\n",
    "            i += 1\n",
    "\n",
    "occs_debt_wo_dups = occs_debt_wo_dups.reset_index(drop=True) #reset indexes 0-...\n",
    "\n",
    "print(occs_debt_wo_dups.to_string())"
   ]
  },
  {
   "cell_type": "code",
   "execution_count": 458,
   "id": "dd491759",
   "metadata": {},
   "outputs": [
    {
     "name": "stdout",
     "output_type": "stream",
     "text": [
      "                                                         Occupation    Dollars  Dollars.1  Dollars.2  Cents  Cents.1  Cents.2\n",
      "0                                  Administor to the Est of J James     3363.0       13.0       17.0   1.78     0.77     0.28\n",
      "1                                                   Attorney at Law     1223.0      611.0      330.0   0.62     0.00     0.36\n",
      "2                                                       Black Smith      692.0      346.0      186.0   0.25     0.12     0.90\n",
      "3                                                       Book Binder      783.0      391.0      365.0   0.07     0.54     0.21\n",
      "4                                                            Broker    65228.0    32601.0    38374.0  27.25    26.49    25.01\n",
      "5                                                             Clerk     1854.0     1079.0      414.0   1.58     1.74     1.87\n",
      "6                                                                Co     3173.0     1586.0     1199.0   1.86     1.43     0.87\n",
      "7                                                       Conveyancer      108.0       54.0       56.0   0.40     0.20     0.87\n",
      "8                                                        Cordwainer      281.0      140.0      179.0   0.25     0.62     0.71\n",
      "9                                                          Druggist     4922.0     2461.0     1475.0   0.43     0.21     0.16\n",
      "10                                                          Esquire    47772.0      523.0      610.0  16.89     3.11     1.41\n",
      "11                                                      Estate of       2244.0      989.0      604.0   1.85     0.80     0.96\n",
      "12      Executor to the Estate of Doctor Benjamin Franklin deceased    23777.0     2700.0     1458.0   7.08     0.00     0.00\n",
      "13                                                           Farmer      947.0      472.0      426.0   1.79     2.40     2.72\n",
      "14                                                          Furrier     3107.0     1553.0     1458.0   0.18     0.59     0.93\n",
      "15                                                        Gentleman     8424.0     4210.0     4352.0   3.17     3.60     1.52\n",
      "16                                                        Goldsmith      142.0       71.0       38.0   0.22     0.11     0.40\n",
      "17                                    Guardian to William Chevalier     7445.0      333.0      360.0   3.61     0.34     0.00\n",
      "18                                                           Hatter     2260.0     1130.0     1456.0   0.94     0.47     1.02\n",
      "19                                                       Inn Keeper     1477.0      738.0      457.0   0.33     0.67     0.58\n",
      "20                                                              Law     3941.0     1970.0     3463.0   1.11     1.06     1.59\n",
      "21                                                           Lawyer     3472.0     1736.0      981.0   0.90     0.45     0.23\n",
      "22                                                          Mariner     3903.0     1951.0     1222.0   1.55     1.30     0.81\n",
      "23  Merchant Executer to the Estate of John Schweig Hauser deceased  1177097.0     2666.0     3142.0   1.58     0.67     0.66\n",
      "24                                                     Pennsylvania      856.0      428.0      231.0   0.56     0.28     0.26\n",
      "25                                                        Physician     1769.0      884.0      477.0   0.01     0.51     0.63\n",
      "26                                                      Post Master     7083.0     3541.0     1998.0   0.53     0.77     0.74\n",
      "27                             Printer in Trust for Jennet Thompson    16319.0      147.0        0.0   1.26     0.01     0.00\n",
      "28                                          Property of Mathematics      461.0      230.0      160.0   0.11     0.55     0.98\n",
      "29                                                         Reverend      224.0      112.0      181.0   0.12     0.06     0.82\n",
      "30                                                          Sheriff       56.0       28.0       15.0   0.21     0.11     0.17\n",
      "31                                                       Shipwright     1241.0      620.0      345.0   0.76     0.88     0.66\n",
      "32                                                      Shop Keeper     8190.0       20.0       35.0   2.30     0.58     0.60\n",
      "33                                                      Silversmith     1916.0      957.0      525.0   1.65     1.84     0.52\n",
      "34                                                         Spinster      528.0      264.0      142.0   0.33     0.17     0.64\n",
      "35                                                           Tanner     1191.0      595.0      781.0   1.25     1.13     1.05\n",
      "36                                                           Taylor     2093.0     1046.0      583.0   0.79     0.90     0.20\n",
      "37                       Treasurer of the first Presbyterian Church      714.0      357.0      397.0   0.81     0.41     0.58\n",
      "38                                             Trust By David Cloyd     3736.0      309.0      166.0   1.39     0.07     0.88\n",
      "39                                                            Widow     5641.0     2820.0     4465.0   2.20     1.73     0.80\n",
      "40                                                          Yeoman      1135.0      567.0      776.0   1.06     1.03     1.54\n",
      "41                         for Christopher Mary and Charity Pyrleus      846.0      423.0      612.0   0.23     0.12     0.22\n"
     ]
    }
   ],
   "source": [
    "occs_debt_wo_dups[['Cents', 'Cents.1', 'Cents.2']] = occs_debt_wo_dups[['Cents', 'Cents.1', 'Cents.2']].div(100)\n",
    "print(occs_debt_wo_dups.to_string())"
   ]
  },
  {
   "cell_type": "code",
   "execution_count": 459,
   "id": "dd9876fd",
   "metadata": {},
   "outputs": [
    {
     "name": "stdout",
     "output_type": "stream",
     "text": [
      "                                                         Occupation       Total\n",
      "0                                  Administor to the Est of J James     3395.83\n",
      "1                                                   Attorney at Law     2164.98\n",
      "2                                                       Black Smith     1225.27\n",
      "3                                                       Book Binder     1539.82\n",
      "4                                                            Broker   136281.75\n",
      "5                                                             Clerk     3352.19\n",
      "6                                                                Co     5962.16\n",
      "7                                                       Conveyancer      219.47\n",
      "8                                                        Cordwainer      601.58\n",
      "9                                                          Druggist     8858.80\n",
      "10                                                          Esquire    48926.41\n",
      "11                                                      Estate of       3840.61\n",
      "12      Executor to the Estate of Doctor Benjamin Franklin deceased    27942.08\n",
      "13                                                           Farmer     1851.91\n",
      "14                                                          Furrier     6119.70\n",
      "15                                                        Gentleman    16994.29\n",
      "16                                                        Goldsmith      251.73\n",
      "17                                    Guardian to William Chevalier     8141.95\n",
      "18                                                           Hatter     4848.43\n",
      "19                                                       Inn Keeper     2673.58\n",
      "20                                                              Law     9377.76\n",
      "21                                                           Lawyer     6190.58\n",
      "22                                                          Mariner     7079.66\n",
      "23  Merchant Executer to the Estate of John Schweig Hauser deceased  1182907.91\n",
      "24                                                     Pennsylvania     1516.10\n",
      "25                                                        Physician     3131.15\n",
      "26                                                      Post Master    12624.04\n",
      "27                             Printer in Trust for Jennet Thompson    16467.27\n",
      "28                                          Property of Mathematics      852.64\n",
      "29                                                         Reverend      518.00\n",
      "30                                                          Sheriff       99.49\n",
      "31                                                       Shipwright     2208.30\n",
      "32                                                      Shop Keeper     8248.48\n",
      "33                                                      Silversmith     3402.01\n",
      "34                                                         Spinster      935.14\n",
      "35                                                           Tanner     2570.43\n",
      "36                                                           Taylor     3723.89\n",
      "37                       Treasurer of the first Presbyterian Church     1469.80\n",
      "38                                             Trust By David Cloyd     4213.34\n",
      "39                                                            Widow    12930.73\n",
      "40                                                          Yeoman      2481.63\n",
      "41                         for Christopher Mary and Charity Pyrleus     1881.57\n"
     ]
    }
   ],
   "source": [
    "occs_debt_wo_dups['Total'] = occs_debt_wo_dups[['Dollars', 'Dollars.1', 'Dollars.2', 'Cents', 'Cents.1', 'Cents.2']].sum(axis=1) #add totals to new column\n",
    "print(occs_debt_wo_dups[['Occupation', 'Total']].to_string())"
   ]
  },
  {
   "cell_type": "code",
   "execution_count": 461,
   "id": "8e59e587",
   "metadata": {},
   "outputs": [
    {
     "name": "stdout",
     "output_type": "stream",
     "text": [
      "                                           Occupation  # of People\n",
      "0                    Administor to the Est of J James            2\n",
      "1                                     Attorney at Law            1\n",
      "2                                         Black Smith            1\n",
      "3                                         Book Binder            1\n",
      "4                                              Broker           58\n",
      "5                                               Clerk            4\n",
      "6                                                  Co            4\n",
      "7                                         Conveyancer            1\n",
      "8                                          Cordwainer            1\n",
      "9                                            Druggist            2\n",
      "10                                            Esquire           15\n",
      "11                                        Estate of              2\n",
      "12  Executor to the Estate of Doctor Benjamin Fran...            7\n",
      "13                                             Farmer            4\n",
      "14                                            Furrier            1\n",
      "15                                          Gentleman            5\n",
      "16                                          Goldsmith            1\n",
      "17                      Guardian to William Chevalier            3\n",
      "18                                             Hatter            2\n",
      "19                                         Inn Keeper            2\n",
      "20                                                Law            2\n",
      "21                                             Lawyer            1\n",
      "22                                            Mariner            4\n",
      "23  Merchant Executer to the Estate of John Schwei...          215\n",
      "24                                       Pennsylvania            1\n",
      "25                                          Physician            1\n",
      "26                                        Post Master            1\n",
      "27               Printer in Trust for Jennet Thompson            6\n",
      "28                            Property of Mathematics            1\n",
      "29                                           Reverend            1\n",
      "30                                            Sheriff            1\n",
      "31                                         Shipwright            1\n",
      "32                                        Shop Keeper            3\n",
      "33                                        Silversmith            2\n",
      "34                                           Spinster            1\n",
      "35                                             Tanner            2\n",
      "36                                             Taylor            2\n",
      "37         Treasurer of the first Presbyterian Church            1\n",
      "38                               Trust By David Cloyd            2\n",
      "39                                              Widow            4\n",
      "40                                            Yeoman             2\n",
      "41           for Christopher Mary and Charity Pyrleus            1\n"
     ]
    }
   ],
   "source": [
    "occs_debt_wo_dups['# of People'] = occs_debt_wo_dups['Occupation'].map(occurences_dict) #add occurences to table\n",
    "print(occs_debt_wo_dups[['Occupation', '# of People']])"
   ]
  },
  {
   "cell_type": "code",
   "execution_count": 462,
   "id": "f1408249",
   "metadata": {},
   "outputs": [
    {
     "name": "stdout",
     "output_type": "stream",
     "text": [
      "                                                         Occupation       Total  # of People       Average\n",
      "0                                  Administor to the Est of J James     3395.83            2   1697.915000\n",
      "1                                                   Attorney at Law     2164.98            1   2164.980000\n",
      "2                                                       Black Smith     1225.27            1   1225.270000\n",
      "3                                                       Book Binder     1539.82            1   1539.820000\n",
      "4                                                            Broker   136281.75           58   2349.685345\n",
      "5                                                             Clerk     3352.19            4    838.047500\n",
      "6                                                                Co     5962.16            4   1490.540000\n",
      "7                                                       Conveyancer      219.47            1    219.470000\n",
      "8                                                        Cordwainer      601.58            1    601.580000\n",
      "9                                                          Druggist     8858.80            2   4429.400000\n",
      "10                                                          Esquire    48926.41           15   3261.760667\n",
      "11                                                      Estate of       3840.61            2   1920.305000\n",
      "12      Executor to the Estate of Doctor Benjamin Franklin deceased    27942.08            7   3991.725714\n",
      "13                                                           Farmer     1851.91            4    462.977500\n",
      "14                                                          Furrier     6119.70            1   6119.700000\n",
      "15                                                        Gentleman    16994.29            5   3398.858000\n",
      "16                                                        Goldsmith      251.73            1    251.730000\n",
      "17                                    Guardian to William Chevalier     8141.95            3   2713.983333\n",
      "18                                                           Hatter     4848.43            2   2424.215000\n",
      "19                                                       Inn Keeper     2673.58            2   1336.790000\n",
      "20                                                              Law     9377.76            2   4688.880000\n",
      "21                                                           Lawyer     6190.58            1   6190.580000\n",
      "22                                                          Mariner     7079.66            4   1769.915000\n",
      "23  Merchant Executer to the Estate of John Schweig Hauser deceased  1182907.91          215   5501.897256\n",
      "24                                                     Pennsylvania     1516.10            1   1516.100000\n",
      "25                                                        Physician     3131.15            1   3131.150000\n",
      "26                                                      Post Master    12624.04            1  12624.040000\n",
      "27                             Printer in Trust for Jennet Thompson    16467.27            6   2744.545000\n",
      "28                                          Property of Mathematics      852.64            1    852.640000\n",
      "29                                                         Reverend      518.00            1    518.000000\n",
      "30                                                          Sheriff       99.49            1     99.490000\n",
      "31                                                       Shipwright     2208.30            1   2208.300000\n",
      "32                                                      Shop Keeper     8248.48            3   2749.493333\n",
      "33                                                      Silversmith     3402.01            2   1701.005000\n",
      "34                                                         Spinster      935.14            1    935.140000\n",
      "35                                                           Tanner     2570.43            2   1285.215000\n",
      "36                                                           Taylor     3723.89            2   1861.945000\n",
      "37                       Treasurer of the first Presbyterian Church     1469.80            1   1469.800000\n",
      "38                                             Trust By David Cloyd     4213.34            2   2106.670000\n",
      "39                                                            Widow    12930.73            4   3232.682500\n",
      "40                                                          Yeoman      2481.63            2   1240.815000\n",
      "41                         for Christopher Mary and Charity Pyrleus     1881.57            1   1881.570000\n"
     ]
    }
   ],
   "source": [
    "occs_debt_wo_dups['Average'] = occs_debt_wo_dups['Total'] / occs_debt_wo_dups['# of People'] #calculate average and add to new column\n",
    "print(occs_debt_wo_dups[['Occupation', 'Total', '# of People', 'Average']].to_string())"
   ]
  },
  {
   "cell_type": "code",
   "execution_count": 463,
   "id": "70b97abb",
   "metadata": {},
   "outputs": [
    {
     "name": "stdout",
     "output_type": "stream",
     "text": [
      "                              Occupation    Dollars  Dollars.1  Dollars.2  Cents  Cents.1  Cents.2       Total  # of People       Average\n",
      "0                             Administor     3363.0       13.0       17.0   1.78     0.77     0.28     3395.83            2   1697.915000\n",
      "1                               Attorney     1223.0      611.0      330.0   0.62     0.00     0.36     2164.98            1   2164.980000\n",
      "2                            Black Smith      692.0      346.0      186.0   0.25     0.12     0.90     1225.27            1   1225.270000\n",
      "3                            Book Binder      783.0      391.0      365.0   0.07     0.54     0.21     1539.82            1   1539.820000\n",
      "4                                 Broker    65228.0    32601.0    38374.0  27.25    26.49    25.01   136281.75           58   2349.685345\n",
      "5                                  Clerk     1854.0     1079.0      414.0   1.58     1.74     1.87     3352.19            4    838.047500\n",
      "6                                     Co     3173.0     1586.0     1199.0   1.86     1.43     0.87     5962.16            4   1490.540000\n",
      "7                            Conveyancer      108.0       54.0       56.0   0.40     0.20     0.87      219.47            1    219.470000\n",
      "8                             Cordwainer      281.0      140.0      179.0   0.25     0.62     0.71      601.58            1    601.580000\n",
      "9                               Druggist     4922.0     2461.0     1475.0   0.43     0.21     0.16     8858.80            2   4429.400000\n",
      "10                               Esquire    47772.0      523.0      610.0  16.89     3.11     1.41    48926.41           15   3261.760667\n",
      "11                                Estate     2244.0      989.0      604.0   1.85     0.80     0.96     3840.61            2   1920.305000\n",
      "12                              Executor    23777.0     2700.0     1458.0   7.08     0.00     0.00    27942.08            7   3991.725714\n",
      "13                                Farmer      947.0      472.0      426.0   1.79     2.40     2.72     1851.91            4    462.977500\n",
      "14                               Furrier     3107.0     1553.0     1458.0   0.18     0.59     0.93     6119.70            1   6119.700000\n",
      "15                             Gentleman     8424.0     4210.0     4352.0   3.17     3.60     1.52    16994.29            5   3398.858000\n",
      "16                             Goldsmith      142.0       71.0       38.0   0.22     0.11     0.40      251.73            1    251.730000\n",
      "17                              Guardian     7445.0      333.0      360.0   3.61     0.34     0.00     8141.95            3   2713.983333\n",
      "18                                Hatter     2260.0     1130.0     1456.0   0.94     0.47     1.02     4848.43            2   2424.215000\n",
      "19                                   Inn     1477.0      738.0      457.0   0.33     0.67     0.58     2673.58            2   1336.790000\n",
      "20                                   Law     3941.0     1970.0     3463.0   1.11     1.06     1.59     9377.76            2   4688.880000\n",
      "21                                Lawyer     3472.0     1736.0      981.0   0.90     0.45     0.23     6190.58            1   6190.580000\n",
      "22                               Mariner     3903.0     1951.0     1222.0   1.55     1.30     0.81     7079.66            4   1769.915000\n",
      "23                              Merchant  1177097.0     2666.0     3142.0   1.58     0.67     0.66  1182907.91          215   5501.897256\n",
      "24                          Pennsylvania      856.0      428.0      231.0   0.56     0.28     0.26     1516.10            1   1516.100000\n",
      "25                             Physician     1769.0      884.0      477.0   0.01     0.51     0.63     3131.15            1   3131.150000\n",
      "26                           Post Master     7083.0     3541.0     1998.0   0.53     0.77     0.74    12624.04            1  12624.040000\n",
      "27                               Printer    16319.0      147.0        0.0   1.26     0.01     0.00    16467.27            6   2744.545000\n",
      "28               Property of Mathematics      461.0      230.0      160.0   0.11     0.55     0.98      852.64            1    852.640000\n",
      "29                              Reverend      224.0      112.0      181.0   0.12     0.06     0.82      518.00            1    518.000000\n",
      "30                               Sheriff       56.0       28.0       15.0   0.21     0.11     0.17       99.49            1     99.490000\n",
      "31                            Shipwright     1241.0      620.0      345.0   0.76     0.88     0.66     2208.30            1   2208.300000\n",
      "32                           Shop Keeper     8190.0       20.0       35.0   2.30     0.58     0.60     8248.48            3   2749.493333\n",
      "33                           Silversmith     1916.0      957.0      525.0   1.65     1.84     0.52     3402.01            2   1701.005000\n",
      "34                              Spinster      528.0      264.0      142.0   0.33     0.17     0.64      935.14            1    935.140000\n",
      "35                                Tanner     1191.0      595.0      781.0   1.25     1.13     1.05     2570.43            2   1285.215000\n",
      "36                                Taylor     2093.0     1046.0      583.0   0.79     0.90     0.20     3723.89            2   1861.945000\n",
      "37                             Treasurer      714.0      357.0      397.0   0.81     0.41     0.58     1469.80            1   1469.800000\n",
      "38                                 Trust     3736.0      309.0      166.0   1.39     0.07     0.88     4213.34            2   2106.670000\n",
      "39                                 Widow     5641.0     2820.0     4465.0   2.20     1.73     0.80    12930.73            4   3232.682500\n",
      "40                                Yeoman     1135.0      567.0      776.0   1.06     1.03     1.54     2481.63            2   1240.815000\n",
      "41  Christopher Mary and Charity Pyrleus      846.0      423.0      612.0   0.23     0.12     0.22     1881.57            1   1881.570000\n"
     ]
    }
   ],
   "source": [
    "#convert to one word\n",
    "exceptions = ['Black Smith', 'Book Binder', 'Post Master', 'Property of Mathematics', 'Shop Keeper', 'Inn Keeper']\n",
    "def first_word_only(occ):\n",
    "    if 'for Christopher' in occ:\n",
    "        return 'Christopher Mary and Charity Pyrleus'\n",
    "    if occ not in exceptions:\n",
    "        return occ.split()[0]\n",
    "    else:\n",
    "        return occ\n",
    "    \n",
    "occs_debt_wo_dups['Occupation'] = occs_debt_wo_dups['Occupation'].apply(first_word_only)\n",
    "print(occs_debt_wo_dups.to_string())"
   ]
  },
  {
   "cell_type": "code",
   "execution_count": 464,
   "id": "bbd187e1",
   "metadata": {},
   "outputs": [
    {
     "name": "stdout",
     "output_type": "stream",
     "text": [
      "                              Occupation       Total  # of People       Average  % of Total Debt\n",
      "0                             Administor     3395.83            2   1697.915000            0.216\n",
      "1                               Attorney     2164.98            1   2164.980000            0.138\n",
      "2                            Black Smith     1225.27            1   1225.270000            0.078\n",
      "3                            Book Binder     1539.82            1   1539.820000            0.098\n",
      "4                                 Broker   136281.75           58   2349.685345            8.680\n",
      "5                                  Clerk     3352.19            4    838.047500            0.214\n",
      "6                                     Co     5962.16            4   1490.540000            0.380\n",
      "7                            Conveyancer      219.47            1    219.470000            0.014\n",
      "8                             Cordwainer      601.58            1    601.580000            0.038\n",
      "9                               Druggist     8858.80            2   4429.400000            0.564\n",
      "10                               Esquire    48926.41           15   3261.760667            3.116\n",
      "11                                Estate     3840.61            2   1920.305000            0.245\n",
      "12                              Executor    27942.08            7   3991.725714            1.780\n",
      "13                                Farmer     1851.91            4    462.977500            0.118\n",
      "14                               Furrier     6119.70            1   6119.700000            0.390\n",
      "15                             Gentleman    16994.29            5   3398.858000            1.082\n",
      "16                             Goldsmith      251.73            1    251.730000            0.016\n",
      "17                              Guardian     8141.95            3   2713.983333            0.519\n",
      "18                                Hatter     4848.43            2   2424.215000            0.309\n",
      "19                                   Inn     2673.58            2   1336.790000            0.170\n",
      "20                                   Law     9377.76            2   4688.880000            0.597\n",
      "21                                Lawyer     6190.58            1   6190.580000            0.394\n",
      "22                               Mariner     7079.66            4   1769.915000            0.451\n",
      "23                              Merchant  1182907.91          215   5501.897256           75.343\n",
      "24                          Pennsylvania     1516.10            1   1516.100000            0.097\n",
      "25                             Physician     3131.15            1   3131.150000            0.199\n",
      "26                           Post Master    12624.04            1  12624.040000            0.804\n",
      "27                               Printer    16467.27            6   2744.545000            1.049\n",
      "28               Property of Mathematics      852.64            1    852.640000            0.054\n",
      "29                              Reverend      518.00            1    518.000000            0.033\n",
      "30                               Sheriff       99.49            1     99.490000            0.006\n",
      "31                            Shipwright     2208.30            1   2208.300000            0.141\n",
      "32                           Shop Keeper     8248.48            3   2749.493333            0.525\n",
      "33                           Silversmith     3402.01            2   1701.005000            0.217\n",
      "34                              Spinster      935.14            1    935.140000            0.060\n",
      "35                                Tanner     2570.43            2   1285.215000            0.164\n",
      "36                                Taylor     3723.89            2   1861.945000            0.237\n",
      "37                             Treasurer     1469.80            1   1469.800000            0.094\n",
      "38                                 Trust     4213.34            2   2106.670000            0.268\n",
      "39                                 Widow    12930.73            4   3232.682500            0.824\n",
      "40                                Yeoman     2481.63            2   1240.815000            0.158\n",
      "41  Christopher Mary and Charity Pyrleus     1881.57            1   1881.570000            0.120\n"
     ]
    }
   ],
   "source": [
    "total = occs_debt_wo_dups['Total'].sum()\n",
    "occs_debt_wo_dups['% of Total Debt'] = round((occs_debt_wo_dups['Total'] / total) * 100, 3)\n",
    "print(occs_debt_wo_dups[['Occupation', 'Total', '# of People', 'Average', '% of Total Debt']].to_string())"
   ]
  },
  {
   "cell_type": "code",
   "execution_count": 468,
   "id": "0c2904c2",
   "metadata": {
    "scrolled": false
   },
   "outputs": [
    {
     "name": "stdout",
     "output_type": "stream",
     "text": [
      "                              Occupation       Total  # of People       Average  % of Total Debt\n",
      "0                             Administor     3395.83            2   1697.915000            0.216\n",
      "1                               Attorney     2164.98            1   2164.980000            0.138\n",
      "2                            Black Smith     1225.27            1   1225.270000            0.078\n",
      "3                            Book Binder     1539.82            1   1539.820000            0.098\n",
      "4                                 Broker   136281.75           58   2349.685345            8.680\n",
      "5                                  Clerk     3352.19            4    838.047500            0.214\n",
      "6                                     Co     5962.16            4   1490.540000            0.380\n",
      "7                            Conveyancer      219.47            1    219.470000            0.014\n",
      "8                             Cordwainer      601.58            1    601.580000            0.038\n",
      "9                               Druggist     8858.80            2   4429.400000            0.564\n",
      "10                               Esquire    48926.41           15   3261.760667            3.116\n",
      "11                                Estate     3840.61            2   1920.305000            0.245\n",
      "12                              Executor    27942.08            7   3991.725714            1.780\n",
      "13                                Farmer     1851.91            4    462.977500            0.118\n",
      "14                               Furrier     6119.70            1   6119.700000            0.390\n",
      "15                             Gentleman    16994.29            5   3398.858000            1.082\n",
      "16                             Goldsmith      251.73            1    251.730000            0.016\n",
      "17                              Guardian     8141.95            3   2713.983333            0.519\n",
      "18                                Hatter     4848.43            2   2424.215000            0.309\n",
      "19                                   Inn     2673.58            2   1336.790000            0.170\n",
      "20                                   Law     9377.76            2   4688.880000            0.597\n",
      "21                                Lawyer     6190.58            1   6190.580000            0.394\n",
      "22                               Mariner     7079.66            4   1769.915000            0.451\n",
      "23                              Merchant  1182907.91          215   5501.897256           75.343\n",
      "24                          Pennsylvania     1516.10            1   1516.100000            0.097\n",
      "25                             Physician     3131.15            1   3131.150000            0.199\n",
      "26                           Post Master    12624.04            1  12624.040000            0.804\n",
      "27                               Printer    16467.27            6   2744.545000            1.049\n",
      "28               Property of Mathematics      852.64            1    852.640000            0.054\n",
      "29                              Reverend      518.00            1    518.000000            0.033\n",
      "30                               Sheriff       99.49            1     99.490000            0.006\n",
      "31                            Shipwright     2208.30            1   2208.300000            0.141\n",
      "32                           Shop Keeper     8248.48            3   2749.493333            0.525\n",
      "33                           Silversmith     3402.01            2   1701.005000            0.217\n",
      "34                              Spinster      935.14            1    935.140000            0.060\n",
      "35                                Tanner     2570.43            2   1285.215000            0.164\n",
      "36                                Taylor     3723.89            2   1861.945000            0.237\n",
      "37                             Treasurer     1469.80            1   1469.800000            0.094\n",
      "38                                 Trust     4213.34            2   2106.670000            0.268\n",
      "39                                 Widow    12930.73            4   3232.682500            0.824\n",
      "40                                Yeoman     2481.63            2   1240.815000            0.158\n",
      "41  Christopher Mary and Charity Pyrleus     1881.57            1   1881.570000            0.120\n",
      "42                           None Listed  2117078.05          868   2439.030012              NaN\n"
     ]
    }
   ],
   "source": [
    "#final total debt held by people w/ no job listed\n",
    "occs_and_debt = pd.read_excel(path,\n",
    "                             header=11, usecols='J, K, L, M, Z, AA, AO, AP') #occupations plus continental debt for conneticut\n",
    "no_occ = occs_and_debt[occs_and_debt['Occupation'].isna()]\n",
    "num_of_people = len(no_occ)\n",
    "no_occ = no_occ.reset_index(drop=True)\n",
    "no_occ[['Cents', 'Cents.1', 'Cents.2']] = no_occ[['Cents', 'Cents.1', 'Cents.2']].div(100)\n",
    "total_series = no_occ[['Dollars', 'Dollars.1', 'Dollars.2', 'Cents', 'Cents.1', 'Cents.2']].sum(axis=1)\n",
    "total = total_series.sum()\n",
    "\n",
    "occs_debt_wo_dups = occs_debt_wo_dups.append({'Occupation': 'None Listed', 'Total': total, '# of People': num_of_people, 'Average': total / num_of_people}, ignore_index=True)\n",
    "print(occs_debt_wo_dups[['Occupation', 'Total', '# of People', 'Average', '% of Total Debt']].to_string())"
   ]
  },
  {
   "cell_type": "code",
   "execution_count": 469,
   "id": "96dadf84",
   "metadata": {},
   "outputs": [],
   "source": [
    "occs_debt_wo_dups[['Occupation', 'Total', '# of People', 'Average', '% of Total Debt']].to_excel(\"./FinishedSpreadsheets/occupation_debt_\" + state + \".xlsx\")"
   ]
  }
 ],
 "metadata": {
  "kernelspec": {
   "display_name": "Python 3 (ipykernel)",
   "language": "python",
   "name": "python3"
  },
  "language_info": {
   "codemirror_mode": {
    "name": "ipython",
    "version": 3
   },
   "file_extension": ".py",
   "mimetype": "text/x-python",
   "name": "python",
   "nbconvert_exporter": "python",
   "pygments_lexer": "ipython3",
   "version": "3.7.9"
  }
 },
 "nbformat": 4,
 "nbformat_minor": 5
}
