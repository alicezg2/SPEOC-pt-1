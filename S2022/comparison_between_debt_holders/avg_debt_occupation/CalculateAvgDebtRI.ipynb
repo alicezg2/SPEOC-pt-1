{
 "cells": [
  {
   "cell_type": "code",
   "execution_count": 103,
   "id": "8536e7f0",
   "metadata": {},
   "outputs": [],
   "source": [
    "import pandas as pd\n",
    "import numpy as np\n",
    "import rapidfuzz"
   ]
  },
  {
   "cell_type": "code",
   "execution_count": 104,
   "id": "f4f293a4",
   "metadata": {},
   "outputs": [
    {
     "name": "stdout",
     "output_type": "stream",
     "text": [
      "    Unnamed: 9 Occupation  Cents  Dollars.1  Cents.1  Dollars.2  Cents.2\n",
      "0           RI        NaN   86.0      295.0     43.0      216.0      NaN\n",
      "1           RI    Esquire   88.0      281.0     94.0      482.0     18.0\n",
      "2           RI    Esquire   28.0      432.0     14.0      306.0      NaN\n",
      "3           RI     Farmer   33.0      666.0     66.0      480.0      NaN\n",
      "4           RI    Esquire   50.0       14.0     74.0       17.0     13.0\n",
      "..         ...        ...    ...        ...      ...        ...      ...\n",
      "657        NaN        NaN    NaN       18.0     78.0        NaN      NaN\n",
      "658        NaN        NaN    NaN        NaN      NaN        NaN      NaN\n",
      "659        NaN        NaN    NaN       22.0     56.0        NaN      NaN\n",
      "660        NaN        NaN    NaN       17.0      5.0        NaN      NaN\n",
      "661        NaN        NaN    NaN       10.0     10.0        NaN      NaN\n",
      "\n",
      "[662 rows x 7 columns]\n"
     ]
    }
   ],
   "source": [
    "state = 'RI'\n",
    "path = r\"C:\\Users\\david\\OneDrive\\Documents\\GitHub\\SPEOC-pt-1\\Data\\Post1790\\RI\\T653_Rhode_Island_CD.xlsx\"\n",
    "occs_and_debt = pd.read_excel(path,\n",
    "                             header=11, usecols='J, K, M, Z, AA, AN, AO') #occupations plus continental debt for conneticut\n",
    "print(occs_and_debt)"
   ]
  },
  {
   "cell_type": "code",
   "execution_count": 105,
   "id": "30f7759d",
   "metadata": {
    "scrolled": true
   },
   "outputs": [
    {
     "name": "stdout",
     "output_type": "stream",
     "text": [
      "    Unnamed: 9   Occupation  Cents  Dollars.1  Cents.1  Dollars.2  Cents.2\n",
      "1           RI      Esquire   88.0      281.0     94.0      482.0     18.0\n",
      "2           RI      Esquire   28.0      432.0     14.0      306.0      NaN\n",
      "3           RI       Farmer   33.0      666.0     66.0      480.0      NaN\n",
      "4           RI      Esquire   50.0       14.0     74.0       17.0     13.0\n",
      "5           RI       Yeoman    NaN       56.0      NaN       76.0     46.0\n",
      "..         ...          ...    ...        ...      ...        ...      ...\n",
      "604        NaN  Providence    60.0        NaN      NaN       82.0     62.0\n",
      "608        NaN  Providence    41.0       89.0     20.0       96.0      NaN\n",
      "616         RI      Esquire   90.0       29.0     95.0       70.0      8.0\n",
      "617         RI       Yeoman   44.0       14.0     22.0       29.0     70.0\n",
      "632         RI     Merchant   44.0       71.0     22.0      132.0     43.0\n",
      "\n",
      "[518 rows x 7 columns]\n"
     ]
    }
   ],
   "source": [
    "occs_and_debt = occs_and_debt.rename(columns={'Occupation.1':'Occupation'})\n",
    "occs_and_debt = occs_and_debt.dropna(subset=['Occupation'])\n",
    "print(occs_and_debt)"
   ]
  },
  {
   "cell_type": "code",
   "execution_count": 106,
   "id": "3e6ef376",
   "metadata": {},
   "outputs": [],
   "source": [
    "#exclude non states \n",
    "occs_and_debt = occs_and_debt.rename(columns={'Unnamed: 9':'State'})\n",
    "occs_and_debt = occs_and_debt[occs_and_debt['State'].str.contains(state) == True].drop('State', axis=1)"
   ]
  },
  {
   "cell_type": "code",
   "execution_count": 107,
   "id": "39a54bb3",
   "metadata": {},
   "outputs": [
    {
     "name": "stdout",
     "output_type": "stream",
     "text": [
      "{'Esquire': 129, 'Merchant': 92, 'Yeoman': 78, 'Mariner': 24, 'Widow': 23, 'Gentleman': 10, 'Innholder': 8, 'Physician': 7, 'Trader': 5, 'Taylor': 4, 'Distiller': 3, 'Spinster': 3, 'Mason': 3, 'Blacksmith': 3, 'Auctioneers': 3, 'Cooper': 3, 'Treasurer of the State of Rhode Island Of Newport': 2, 'Shipwright': 2, 'Hatter': 2, 'Reverend': 2, 'Labourer': 2, 'Broker': 2, 'Treasurer of the State of Rhode Island Of Newport Esquire': 1, 'Administratrix to the Estate of Joshua Brown Esquire Deceased': 1, 'Baker': 1, 'Treasurer of Scituate': 1, 'Deacon': 1, 'Tresurer of the Catholic Society at Bristol': 1, 'treasurer of the Town of Providence': 1, 'Traders In Company ': 1, 'Goldsmith': 1, 'Blockmaker': 1, 'in behalf of the Proprietors of Tiverton': 1, 'Merchants': 1, 'Treasurer to the Charitable Baptist Society in Providence': 1, ' Doctor': 1, 'Extors to the Late Nicholas Brown Esq Deceased': 1, 'Glazier': 1, 'Chaise Maker': 1, 'Esquier': 1, 'Treasurer of the Congregational Benevolent Society in Providence': 1, 'Carpenter': 1, 'Cordwainer': 1, 'Treasurer of the Society of Cincinnati in the State of Rhode Island': 1, 'Treasurer of St Johns Ledge No 1 of Tree and accepted Masons Providence': 1, 'Extors to the Late Jn Jenckes Esq Deceased': 1, 'Housewright': 1, 'Farmer': 1, 'Shoemaker': 1, 'Butcher': 1, 'Treasurer Town Foster': 1, 'Treasurer of the Baptist Benevolent Society in Warren': 1, ' General Treasurer of the state of Rhode Island and his suceessors in said office': 1}\n"
     ]
    }
   ],
   "source": [
    "occurences_dict = occs_and_debt['Occupation'].value_counts().to_dict()\n",
    "print(occurences_dict)"
   ]
  },
  {
   "cell_type": "code",
   "execution_count": 108,
   "id": "12aad37a",
   "metadata": {},
   "outputs": [
    {
     "ename": "KeyError",
     "evalue": "\"Columns not found: 'Dollars'\"",
     "output_type": "error",
     "traceback": [
      "\u001b[1;31m---------------------------------------------------------------------------\u001b[0m",
      "\u001b[1;31mKeyError\u001b[0m                                  Traceback (most recent call last)",
      "\u001b[1;32m~\\AppData\\Local\\Temp\\ipykernel_29552\\1270447482.py\u001b[0m in \u001b[0;36m<module>\u001b[1;34m\u001b[0m\n\u001b[1;32m----> 1\u001b[1;33m \u001b[0mtotals\u001b[0m \u001b[1;33m=\u001b[0m \u001b[0moccs_and_debt\u001b[0m\u001b[1;33m.\u001b[0m\u001b[0mgroupby\u001b[0m\u001b[1;33m(\u001b[0m\u001b[1;34m'Occupation'\u001b[0m\u001b[1;33m)\u001b[0m\u001b[1;33m[\u001b[0m\u001b[1;33m[\u001b[0m\u001b[1;34m'Dollars'\u001b[0m\u001b[1;33m,\u001b[0m \u001b[1;34m'Dollars.1'\u001b[0m\u001b[1;33m,\u001b[0m \u001b[1;34m'Dollars.2'\u001b[0m\u001b[1;33m,\u001b[0m \u001b[1;34m'Cents'\u001b[0m\u001b[1;33m,\u001b[0m \u001b[1;34m'Cents.1'\u001b[0m\u001b[1;33m,\u001b[0m \u001b[1;34m'Cents.2'\u001b[0m\u001b[1;33m]\u001b[0m\u001b[1;33m]\u001b[0m\u001b[1;33m.\u001b[0m\u001b[0mapply\u001b[0m\u001b[1;33m(\u001b[0m\u001b[0msum\u001b[0m\u001b[1;33m)\u001b[0m\u001b[1;33m\u001b[0m\u001b[1;33m\u001b[0m\u001b[0m\n\u001b[0m\u001b[0;32m      2\u001b[0m \u001b[0mtotals\u001b[0m \u001b[1;33m=\u001b[0m \u001b[0mtotals\u001b[0m\u001b[1;33m.\u001b[0m\u001b[0mreset_index\u001b[0m\u001b[1;33m(\u001b[0m\u001b[1;33m)\u001b[0m\u001b[1;33m\u001b[0m\u001b[1;33m\u001b[0m\u001b[0m\n\u001b[0;32m      3\u001b[0m \u001b[0mprint\u001b[0m\u001b[1;33m(\u001b[0m\u001b[0mtotals\u001b[0m\u001b[1;33m[\u001b[0m\u001b[1;33m[\u001b[0m\u001b[1;34m'Occupation'\u001b[0m\u001b[1;33m,\u001b[0m \u001b[1;34m'Dollars'\u001b[0m\u001b[1;33m,\u001b[0m \u001b[1;34m'Cents'\u001b[0m\u001b[1;33m,\u001b[0m \u001b[1;34m'Dollars.1'\u001b[0m\u001b[1;33m,\u001b[0m \u001b[1;34m'Cents.1'\u001b[0m\u001b[1;33m]\u001b[0m\u001b[1;33m]\u001b[0m\u001b[1;33m.\u001b[0m\u001b[0mto_string\u001b[0m\u001b[1;33m(\u001b[0m\u001b[1;33m)\u001b[0m\u001b[1;33m)\u001b[0m\u001b[1;33m\u001b[0m\u001b[1;33m\u001b[0m\u001b[0m\n",
      "\u001b[1;32m~\\AppData\\Local\\Packages\\PythonSoftwareFoundation.Python.3.7_qbz5n2kfra8p0\\LocalCache\\local-packages\\Python37\\site-packages\\pandas\\core\\groupby\\generic.py\u001b[0m in \u001b[0;36m__getitem__\u001b[1;34m(self, key)\u001b[0m\n\u001b[0;32m   1536\u001b[0m                 \u001b[0mstacklevel\u001b[0m\u001b[1;33m=\u001b[0m\u001b[1;36m2\u001b[0m\u001b[1;33m,\u001b[0m\u001b[1;33m\u001b[0m\u001b[1;33m\u001b[0m\u001b[0m\n\u001b[0;32m   1537\u001b[0m             )\n\u001b[1;32m-> 1538\u001b[1;33m         \u001b[1;32mreturn\u001b[0m \u001b[0msuper\u001b[0m\u001b[1;33m(\u001b[0m\u001b[1;33m)\u001b[0m\u001b[1;33m.\u001b[0m\u001b[0m__getitem__\u001b[0m\u001b[1;33m(\u001b[0m\u001b[0mkey\u001b[0m\u001b[1;33m)\u001b[0m\u001b[1;33m\u001b[0m\u001b[1;33m\u001b[0m\u001b[0m\n\u001b[0m\u001b[0;32m   1539\u001b[0m \u001b[1;33m\u001b[0m\u001b[0m\n\u001b[0;32m   1540\u001b[0m     \u001b[1;32mdef\u001b[0m \u001b[0m_gotitem\u001b[0m\u001b[1;33m(\u001b[0m\u001b[0mself\u001b[0m\u001b[1;33m,\u001b[0m \u001b[0mkey\u001b[0m\u001b[1;33m,\u001b[0m \u001b[0mndim\u001b[0m\u001b[1;33m:\u001b[0m \u001b[0mint\u001b[0m\u001b[1;33m,\u001b[0m \u001b[0msubset\u001b[0m\u001b[1;33m=\u001b[0m\u001b[1;32mNone\u001b[0m\u001b[1;33m)\u001b[0m\u001b[1;33m:\u001b[0m\u001b[1;33m\u001b[0m\u001b[1;33m\u001b[0m\u001b[0m\n",
      "\u001b[1;32m~\\AppData\\Local\\Packages\\PythonSoftwareFoundation.Python.3.7_qbz5n2kfra8p0\\LocalCache\\local-packages\\Python37\\site-packages\\pandas\\core\\base.py\u001b[0m in \u001b[0;36m__getitem__\u001b[1;34m(self, key)\u001b[0m\n\u001b[0;32m    220\u001b[0m             \u001b[1;32mif\u001b[0m \u001b[0mlen\u001b[0m\u001b[1;33m(\u001b[0m\u001b[0mself\u001b[0m\u001b[1;33m.\u001b[0m\u001b[0mobj\u001b[0m\u001b[1;33m.\u001b[0m\u001b[0mcolumns\u001b[0m\u001b[1;33m.\u001b[0m\u001b[0mintersection\u001b[0m\u001b[1;33m(\u001b[0m\u001b[0mkey\u001b[0m\u001b[1;33m)\u001b[0m\u001b[1;33m)\u001b[0m \u001b[1;33m!=\u001b[0m \u001b[0mlen\u001b[0m\u001b[1;33m(\u001b[0m\u001b[0mkey\u001b[0m\u001b[1;33m)\u001b[0m\u001b[1;33m:\u001b[0m\u001b[1;33m\u001b[0m\u001b[1;33m\u001b[0m\u001b[0m\n\u001b[0;32m    221\u001b[0m                 \u001b[0mbad_keys\u001b[0m \u001b[1;33m=\u001b[0m \u001b[0mlist\u001b[0m\u001b[1;33m(\u001b[0m\u001b[0mset\u001b[0m\u001b[1;33m(\u001b[0m\u001b[0mkey\u001b[0m\u001b[1;33m)\u001b[0m\u001b[1;33m.\u001b[0m\u001b[0mdifference\u001b[0m\u001b[1;33m(\u001b[0m\u001b[0mself\u001b[0m\u001b[1;33m.\u001b[0m\u001b[0mobj\u001b[0m\u001b[1;33m.\u001b[0m\u001b[0mcolumns\u001b[0m\u001b[1;33m)\u001b[0m\u001b[1;33m)\u001b[0m\u001b[1;33m\u001b[0m\u001b[1;33m\u001b[0m\u001b[0m\n\u001b[1;32m--> 222\u001b[1;33m                 \u001b[1;32mraise\u001b[0m \u001b[0mKeyError\u001b[0m\u001b[1;33m(\u001b[0m\u001b[1;34mf\"Columns not found: {str(bad_keys)[1:-1]}\"\u001b[0m\u001b[1;33m)\u001b[0m\u001b[1;33m\u001b[0m\u001b[1;33m\u001b[0m\u001b[0m\n\u001b[0m\u001b[0;32m    223\u001b[0m             \u001b[1;32mreturn\u001b[0m \u001b[0mself\u001b[0m\u001b[1;33m.\u001b[0m\u001b[0m_gotitem\u001b[0m\u001b[1;33m(\u001b[0m\u001b[0mlist\u001b[0m\u001b[1;33m(\u001b[0m\u001b[0mkey\u001b[0m\u001b[1;33m)\u001b[0m\u001b[1;33m,\u001b[0m \u001b[0mndim\u001b[0m\u001b[1;33m=\u001b[0m\u001b[1;36m2\u001b[0m\u001b[1;33m)\u001b[0m\u001b[1;33m\u001b[0m\u001b[1;33m\u001b[0m\u001b[0m\n\u001b[0;32m    224\u001b[0m \u001b[1;33m\u001b[0m\u001b[0m\n",
      "\u001b[1;31mKeyError\u001b[0m: \"Columns not found: 'Dollars'\""
     ]
    }
   ],
   "source": [
    "totals = occs_and_debt.groupby('Occupation')[['Dollars', 'Dollars.1', 'Dollars.2', 'Cents', 'Cents.1', 'Cents.2']].apply(sum)\n",
    "totals = totals.reset_index()\n",
    "print(totals[['Occupation', 'Dollars', 'Cents', 'Dollars.1', 'Cents.1']].to_string())"
   ]
  },
  {
   "cell_type": "code",
   "execution_count": null,
   "id": "851fd586",
   "metadata": {},
   "outputs": [],
   "source": [
    "occs_debt_wo_dups = totals.copy()\n",
    "#use fuzzy string matching to remove any similar names like merchant and merchents. does not take into account longer titles.\n",
    "occ_list = occs_debt_wo_dups['Occupation'].tolist()\n",
    "\n",
    "for occ in occ_list:\n",
    "    for occ_2 in occ_list:\n",
    "        if occ != occ_2:\n",
    "            if rapidfuzz.fuzz.ratio(occ, occ_2) >= 80 and occ != occ_2:\n",
    "                #transfer amount in row that will be deleted to other row\n",
    "                row_w_occ_2 = occs_debt_wo_dups.loc[occs_debt_wo_dups['Occupation'] == occ_2] #locate row that contains occupation soon to be deleted\n",
    "                dollars_in_occ_2 = row_w_occ_2[['Dollars', 'Dollars.1', 'Dollars.2']].sum(axis=1).values #get total dollars\n",
    "                cents_in_occ_2 = row_w_occ_2[['Cents', 'Cents.1', 'Cents.2']].sum(axis=1).values #get total cents\n",
    "                dollars_in_occ_2 = dollars_in_occ_2[0] #stored in array. need to retrieve value\n",
    "                cents_in_occ_2 = cents_in_occ_2[0] #stored in array. need to retrieve value  \n",
    "                occs_debt_wo_dups.loc[(occs_debt_wo_dups.Occupation == occ), 'Dollars'] += dollars_in_occ_2 #add dollars to occupation 1\n",
    "                occs_debt_wo_dups.loc[(occs_debt_wo_dups.Occupation == occ), 'Cents'] += cents_in_occ_2 #add cents to occupation 1\n",
    "                 \n",
    "                #remove value from occurences dictionary and add one to other occupation\n",
    "                occurences_dict[occs_debt_wo_dups.loc[(occs_debt_wo_dups.Occupation == occ), 'Occupation'].values[0]] += occurences_dict[occs_debt_wo_dups.loc[(occs_debt_wo_dups.Occupation == occ_2), 'Occupation'].values[0]] \n",
    "                occurences_dict.pop(occ_2)\n",
    "                \n",
    "                #remove row\n",
    "                occs_debt_wo_dups.drop(occs_debt_wo_dups[occs_debt_wo_dups['Occupation'] == occ_2].index, inplace=True) \n",
    "                occ_list.remove(occ_2)\n",
    "\n",
    "occs_debt_wo_dups = occs_debt_wo_dups.reset_index(drop=True) #reset indexes 0-65 \n",
    "\n",
    "#take the first two words of every job if applicable and remove any duplicate titles. handles longer titles \n",
    "two_word_occs = {}\n",
    "#retrieve all two worded occupations\n",
    "for occ in occ_list:\n",
    "    if len(occ.split()) >= 2: #only account for words that are actually more than two words long\n",
    "        occ_two_word = occ.split()[0] + \" \" + occ.split()[1] #get first two words\n",
    "        two_word_occs[occ_list.index(occ)] = occ_two_word #append both words to dict\n",
    "\n",
    "#retrieve any duplicates now \n",
    "flipped = {} \n",
    "for key, value in two_word_occs.items():\n",
    "    flipped.setdefault(value, list()).append(key) #flip keys with values\n",
    "\n",
    "keys_w_dups = [key for key, values in flipped.items() if len(values) > 1] #retrieve keys that have multiple values. store them in a list\n",
    "\n",
    "print(occurences_dict)"
   ]
  },
  {
   "cell_type": "code",
   "execution_count": null,
   "id": "62d5a43b",
   "metadata": {},
   "outputs": [],
   "source": [
    "print(occs_debt_wo_dups.to_string())"
   ]
  },
  {
   "cell_type": "code",
   "execution_count": null,
   "id": "5d5cb375",
   "metadata": {},
   "outputs": [],
   "source": [
    "print(flipped)\n",
    "print(\"\\n\\n\")\n",
    "print(keys_w_dups)"
   ]
  },
  {
   "cell_type": "code",
   "execution_count": null,
   "id": "80249086",
   "metadata": {},
   "outputs": [],
   "source": [
    "print(occurences_dict)\n",
    "\n",
    "for occ in keys_w_dups:\n",
    "    i = 0\n",
    "    while i < len(flipped[occ]):\n",
    "        index = flipped[occ][i]\n",
    "        if len(flipped[occ]) > 1: #make sure to keep one index in the list. don't want to delete ALL occurences\n",
    "            duplicate_row = occs_debt_wo_dups.loc[[index]] #return row that has index\n",
    "            dollars_in_dup_row = duplicate_row[['Dollars', 'Dollars.1', 'Dollars.2']].sum(axis=1).values #sum all dollars in row                \n",
    "            cents_in_dup_row = duplicate_row[['Cents', 'Cents.1', 'Cents.2']].sum(axis=1).values #return total cents in row\n",
    "            dollars_dup_row = dollars_in_dup_row[0] #stored in array. need to retrieve value\n",
    "            cents_dup_row = cents_in_dup_row[0] #stored in array. need to retrieve value\n",
    "\n",
    "            last_index = flipped[occ][len(flipped[occ]) - 1] #get last value in list. we will add dollars and cents here\n",
    "                        \n",
    "            occs_debt_wo_dups.loc[last_index, 'Dollars'] += dollars_dup_row #add dollars from one occupation to the other\n",
    "            occs_debt_wo_dups.loc[last_index, 'Cents'] += cents_dup_row #add cents from one occupation to the other\n",
    "            \n",
    "            print(occs_debt_wo_dups.loc[last_index, 'Occupation'])\n",
    "            occurences_dict[occs_debt_wo_dups.loc[last_index, 'Occupation']] += occurences_dict[occs_debt_wo_dups.loc[index, 'Occupation']] \n",
    "            occurences_dict.pop(occs_debt_wo_dups.loc[index, 'Occupation'])\n",
    "            \n",
    "            print(\"Length: \" + str(len(flipped[occ])))\n",
    "            print(\"Last Index: \" + str(last_index) + \" Index: \" + str(index))\n",
    "            print(flipped[occ])\n",
    "            print(\"\\n\\n\")\n",
    "                        \n",
    "            occs_debt_wo_dups.drop(index, inplace=True) #remove duplicate occupation now\n",
    "            flipped[occ].remove(index) #remove from list\n",
    "            \n",
    "            #print(occurences_dict)\n",
    "            #print(\"\\n\\n\")\n",
    "        else:\n",
    "            i += 1\n",
    "\n",
    "occs_debt_wo_dups = occs_debt_wo_dups.reset_index(drop=True) #reset indexes 0-..."
   ]
  },
  {
   "cell_type": "code",
   "execution_count": null,
   "id": "a647d9a0",
   "metadata": {
    "scrolled": false
   },
   "outputs": [],
   "source": [
    "print(occs_debt_wo_dups[['Occupation', 'Dollars', 'Cents', 'Dollars.1', 'Cents.1']].to_string())"
   ]
  },
  {
   "cell_type": "code",
   "execution_count": null,
   "id": "826f9428",
   "metadata": {},
   "outputs": [],
   "source": [
    "print(flipped)"
   ]
  },
  {
   "cell_type": "code",
   "execution_count": null,
   "id": "88765c43",
   "metadata": {},
   "outputs": [],
   "source": [
    "print(occurences_dict)"
   ]
  },
  {
   "cell_type": "code",
   "execution_count": null,
   "id": "74c3596b",
   "metadata": {},
   "outputs": [],
   "source": [
    "exceptions = ['General Treasurer of the state of Rhode Island and his suceessors in said office', 'in behalf of the Proprietors of Tiverton']"
   ]
  },
  {
   "cell_type": "code",
   "execution_count": null,
   "id": "513b3f88",
   "metadata": {},
   "outputs": [],
   "source": [
    "#get the first word from every occupation and store any duplicates in a dictionary\n",
    "occ_list = occs_debt_wo_dups['Occupation'].to_list()\n",
    "occupations = []\n",
    "one_word_occs = {}\n",
    "flipped_one_w = {}\n",
    "\n",
    "for occ in occ_list:\n",
    "    if occ not in exceptions:\n",
    "        first_word = occ.split()[0]\n",
    "        one_word_occs[occ_list.index(occ)] = first_word \n",
    "        \n",
    "#flip dictionary\n",
    "for key, value in one_word_occs.items():\n",
    "    flipped_one_w.setdefault(value, list()).append(key) #flip keys with values"
   ]
  },
  {
   "cell_type": "code",
   "execution_count": null,
   "id": "42a11b9d",
   "metadata": {},
   "outputs": [],
   "source": [
    "#use fuzzy string matching \n",
    "flipped_list = list(flipped_one_w) #convert to list. needed in order to iterate through\n",
    "for occ in flipped_list:\n",
    "    for occ_2 in flipped_list:\n",
    "        if occ_2 != occ and rapidfuzz.fuzz.ratio(occ, occ_2) >= 80:\n",
    "            flipped_one_w[occ].extend(flipped_one_w[occ_2]) #combine lists\n",
    "            flipped_one_w.pop(occ_2) #remove second occurence of the same occupation \n",
    "            flipped_list.remove(occ_2) #remove from list \n",
    "            \n",
    "keys_w_dups = [key for key, values in flipped_one_w.items() if len(values) > 1] #retrieve keys that have multiple values. store them in a list\n",
    "         \n",
    "print(flipped_one_w)\n",
    "print(\"\\n\\n\")\n",
    "print(keys_w_dups)"
   ]
  },
  {
   "cell_type": "code",
   "execution_count": null,
   "id": "f96b2f18",
   "metadata": {},
   "outputs": [],
   "source": [
    "#remove duplicates\n",
    "for occ in keys_w_dups:\n",
    "    i = 0\n",
    "    while i < len(flipped_one_w[occ]):\n",
    "        if len(flipped_one_w[occ]) > 1:\n",
    "            \n",
    "            index = flipped_one_w[occ][i]\n",
    "            last_index = flipped_one_w[occ][len(flipped_one_w[occ]) - 1] #get last value in list. we will add dollars and cents here\n",
    "            duplicate_row = occs_debt_wo_dups.loc[[index]] #returns row that has index\n",
    "            dollars_in_dup_row = duplicate_row[['Dollars', 'Dollars.1', 'Dollars.2']].sum(axis=1).values[0]\n",
    "            cents_in_dup_row = duplicate_row[['Cents', 'Cents.1', 'Cents.2']].sum(axis=1).values[0]\n",
    "            \n",
    "            occs_debt_wo_dups.loc[last_index, 'Dollars'] += dollars_in_dup_row\n",
    "            occs_debt_wo_dups.loc[last_index, 'Cents'] += cents_dup_row\n",
    "            \n",
    "            occurences_dict[occs_debt_wo_dups.loc[last_index, 'Occupation']] += occurences_dict[occs_debt_wo_dups.loc[index, 'Occupation']] \n",
    "            occurences_dict.pop(occs_debt_wo_dups.loc[index, 'Occupation'])\n",
    "\n",
    "            occs_debt_wo_dups.drop(index, inplace=True)\n",
    "            flipped_one_w[occ].remove(index)\n",
    "            \n",
    "        else:\n",
    "            i += 1\n",
    "\n",
    "occs_debt_wo_dups = occs_debt_wo_dups.reset_index(drop=True) #reset indexes 0-...\n",
    "\n",
    "print(occs_debt_wo_dups[['Occupation', 'Dollars', 'Cents', 'Dollars.1', 'Cents.1']].to_string())"
   ]
  },
  {
   "cell_type": "code",
   "execution_count": null,
   "id": "dd491759",
   "metadata": {},
   "outputs": [],
   "source": [
    "occs_debt_wo_dups[['Cents', 'Cents.1', 'Cents.2']] = occs_debt_wo_dups[['Cents', 'Cents.1', 'Cents.2']].div(100)\n",
    "print(occs_debt_wo_dups.to_string())"
   ]
  },
  {
   "cell_type": "code",
   "execution_count": null,
   "id": "dd9876fd",
   "metadata": {},
   "outputs": [],
   "source": [
    "occs_debt_wo_dups['Total'] = occs_debt_wo_dups[['Dollars', 'Dollars.1', 'Dollars.2', 'Cents', 'Cents.1', 'Cents.2']].sum(axis=1) #add totals to new column\n",
    "print(occs_debt_wo_dups[['Occupation', 'Dollars', 'Cents', 'Dollars.1', 'Total']].to_string())"
   ]
  },
  {
   "cell_type": "code",
   "execution_count": null,
   "id": "8e59e587",
   "metadata": {},
   "outputs": [],
   "source": [
    "occs_debt_wo_dups['# of People'] = occs_debt_wo_dups['Occupation'].map(occurences_dict) #add occurences to table\n",
    "print(occs_debt_wo_dups[['Occupation', '# of People']])"
   ]
  },
  {
   "cell_type": "code",
   "execution_count": null,
   "id": "f1408249",
   "metadata": {},
   "outputs": [],
   "source": [
    "occs_debt_wo_dups['Average'] = occs_debt_wo_dups['Total'] / occs_debt_wo_dups['# of People'] #calculate average and add to new column\n",
    "print(occs_debt_wo_dups[['Occupation', 'Total', '# of People', 'Average']].to_string())"
   ]
  },
  {
   "cell_type": "code",
   "execution_count": null,
   "id": "70b97abb",
   "metadata": {},
   "outputs": [],
   "source": [
    "#convert to one word\n",
    "exceptions = ['General Treasurer of the state of Rhode Island and his suceessors in said office', 'in behalf of the Proprietors of Tiverton']\n",
    "def first_word_only(occ):\n",
    "    if 'General Treasurer' in occ:\n",
    "        return 'General Treasurer of Rhode Island'\n",
    "    if 'treasurer' in occ:\n",
    "        return 'Treasurer'\n",
    "    if occ not in exceptions:\n",
    "        return occ.split()[0]\n",
    "    else:\n",
    "        return occ\n",
    "    \n",
    "occs_debt_wo_dups['Occupation'] = occs_debt_wo_dups['Occupation'].apply(first_word_only)\n",
    "print(occs_debt_wo_dups[['Occupation', 'Total', '# of People', 'Average']].to_string())"
   ]
  },
  {
   "cell_type": "code",
   "execution_count": null,
   "id": "bbd187e1",
   "metadata": {},
   "outputs": [],
   "source": [
    "total = occs_debt_wo_dups['Total'].sum()\n",
    "occs_debt_wo_dups['% of Total Debt'] = round((occs_debt_wo_dups['Total'] / total) * 100, 3)\n",
    "print(occs_debt_wo_dups[['Occupation', 'Total', '# of People', 'Average', '% of Total Debt']].to_string())"
   ]
  },
  {
   "cell_type": "code",
   "execution_count": null,
   "id": "0c2904c2",
   "metadata": {
    "scrolled": false
   },
   "outputs": [],
   "source": [
    "#final total debt held by people w/ no job listed\n",
    "occs_and_debt = pd.read_excel(path,\n",
    "                             header=11, usecols='J, K, L, M, Z, AA, AN, AO') #occupations plus continental debt for conneticut\n",
    "print(occs_and_debt)\n",
    "no_occ = occs_and_debt[occs_and_debt['Occupation'].isna()]\n",
    "num_of_people = len(no_occ)\n",
    "no_occ = no_occ.reset_index(drop=True)\n",
    "no_occ[['Cents', 'Cents.1', 'Cents.2']] = no_occ[['Cents', 'Cents.1', 'Cents.2']].div(100)\n",
    "total_series = no_occ[['Dollars', 'Dollars.1', 'Dollars.2', 'Cents', 'Cents.1', 'Cents.2']].sum(axis=1)\n",
    "total = total_series.sum()\n",
    "\n",
    "occs_debt_wo_dups = occs_debt_wo_dups.append({'Occupation': 'None Listed', 'Total': total, '# of People': num_of_people, 'Average': total / num_of_people}, ignore_index=True)\n",
    "print(occs_debt_wo_dups[['Occupation', 'Total', '# of People', 'Average', '% of Total Debt']].to_string())"
   ]
  },
  {
   "cell_type": "code",
   "execution_count": null,
   "id": "96dadf84",
   "metadata": {},
   "outputs": [],
   "source": [
    "occs_debt_wo_dups[['Occupation', 'Total', '# of People', 'Average', '% of Total Debt']].to_excel(\"./FinishedSpreadsheets/occupation_debt_\" + state + \".xlsx\")"
   ]
  }
 ],
 "metadata": {
  "kernelspec": {
   "display_name": "Python 3 (ipykernel)",
   "language": "python",
   "name": "python3"
  },
  "language_info": {
   "codemirror_mode": {
    "name": "ipython",
    "version": 3
   },
   "file_extension": ".py",
   "mimetype": "text/x-python",
   "name": "python",
   "nbconvert_exporter": "python",
   "pygments_lexer": "ipython3",
   "version": "3.7.9"
  }
 },
 "nbformat": 4,
 "nbformat_minor": 5
}
