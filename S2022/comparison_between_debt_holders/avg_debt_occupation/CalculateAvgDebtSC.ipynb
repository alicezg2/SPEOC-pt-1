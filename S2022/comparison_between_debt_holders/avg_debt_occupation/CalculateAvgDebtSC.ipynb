{
 "cells": [
  {
   "cell_type": "code",
   "execution_count": 62,
   "id": "8536e7f0",
   "metadata": {},
   "outputs": [],
   "source": [
    "import pandas as pd\n",
    "import numpy as np\n",
    "import rapidfuzz"
   ]
  },
  {
   "cell_type": "code",
   "execution_count": 63,
   "id": "f4f293a4",
   "metadata": {},
   "outputs": [],
   "source": [
    "state='SC'\n",
    "path = r\"C:\\Users\\david\\OneDrive\\Documents\\GitHub\\SPEOC-pt-1\\Data\\Post1790\\SC\\Post_1790_South_Carolina_CD.xlsx\"\n",
    "occs_and_debt = pd.read_excel(path,\n",
    "                             header=11, usecols='G, H, M, N, AB, AC, AQ, AR') #occupations plus continental debt for conneticut"
   ]
  },
  {
   "cell_type": "code",
   "execution_count": 64,
   "id": "30f7759d",
   "metadata": {},
   "outputs": [
    {
     "name": "stdout",
     "output_type": "stream",
     "text": [
      "    State  Occupation  Dollars  Cents  Dollars.1  Cents.1  Dollars.2  Cents.2\n",
      "0      NY    Merchant    690.0   96.0      345.0     48.0      665.0     28.0\n",
      "1      SC     Mariner     83.0   33.0       41.0     66.0       80.0     43.0\n",
      "2      SC    Merchant   1017.0   76.0      508.0     88.0      994.0     13.0\n",
      "3      SC    Merchant     33.0   34.0       16.0     66.0       30.0     65.0\n",
      "4      SC    Merchant    386.0   32.0      193.0     16.0      222.0     19.0\n",
      "..    ...         ...      ...    ...        ...      ...        ...      ...\n",
      "422    RI    Merchant     33.0   33.0       17.0     39.0       31.0     94.0\n",
      "423    NY    Merchant    120.0   25.0       60.0     12.0       97.0     70.0\n",
      "424    MD  Shopkeeper     33.0   33.0       16.0     67.0       31.0     67.0\n",
      "425    MD    Merchant    124.0   33.0       62.0     17.0      118.0     41.0\n",
      "427    SC    Marriner    180.0   47.0       90.0     24.0      207.0     93.0\n",
      "\n",
      "[312 rows x 8 columns]\n"
     ]
    }
   ],
   "source": [
    "occs_and_debt = occs_and_debt.dropna(subset=['Occupation'])\n",
    "print(occs_and_debt)"
   ]
  },
  {
   "cell_type": "code",
   "execution_count": 65,
   "id": "19680eab",
   "metadata": {},
   "outputs": [
    {
     "name": "stdout",
     "output_type": "stream",
     "text": [
      "    Occupation  Dollars  Cents  Dollars.1  Cents.1  Dollars.2  Cents.2\n",
      "1      Mariner     83.0   33.0       41.0     66.0       80.0     43.0\n",
      "2     Merchant   1017.0   76.0      508.0     88.0      994.0     13.0\n",
      "3     Merchant     33.0   34.0       16.0     66.0       30.0     65.0\n",
      "4     Merchant    386.0   32.0      193.0     16.0      222.0     19.0\n",
      "5    Physician    322.0   70.0      161.0     36.0      246.0     69.0\n",
      "..         ...      ...    ...        ...      ...        ...      ...\n",
      "398   Merchant    215.0   21.0      107.0     61.0      207.0     47.0\n",
      "399   Merchant    290.0   99.0      145.0     49.0      279.0      6.0\n",
      "400   Merchant  10508.0   90.0        NaN      NaN        NaN      NaN\n",
      "402    Planter    104.0   78.0       52.0     39.0      113.0     96.0\n",
      "427   Marriner    180.0   47.0       90.0     24.0      207.0     93.0\n",
      "\n",
      "[264 rows x 7 columns]\n"
     ]
    }
   ],
   "source": [
    "#exclude non states \n",
    "occs_and_debt = occs_and_debt.rename(columns={'Unnamed: 11':'State'})\n",
    "occs_and_debt = occs_and_debt[occs_and_debt['State'].str.contains(state) == True].drop('State', axis=1)\n",
    "print(occs_and_debt)"
   ]
  },
  {
   "cell_type": "code",
   "execution_count": 66,
   "id": "39a54bb3",
   "metadata": {},
   "outputs": [
    {
     "name": "stdout",
     "output_type": "stream",
     "text": [
      "{'Merchant': 134, 'Planter': 30, 'Widow': 12, 'Broker': 11, 'Physician': 10, 'Attorney at Law': 8, 'Carpenter': 5, 'Shopkeeper': 4, 'Factor': 3, 'Merchants': 3, 'Executor of Benjamin Tucker': 2, 'Gentleman': 2, 'Sheriff': 2, 'Mariner': 2, 'Blockmaker': 2, 'as treasurer of the State of south carolina': 2, 'Clerk of the Senate': 2, 'Bricklayer': 1, 'Penniston': 1, 'as Guardian to Mary Deborah L. Gowdey': 1, 'Shipwright': 1, 'Executor of Sarah Lampriere': 1, 'Executor of Samuel Bonneau': 1, 'Cabinet Maker': 1, 'Autioneer': 1, 'Administrator to John Harleston Jun': 1, 'Executor of James Peart': 1, 'Printer': 1, 'Assignee of James Simons': 1, 'Executor of William Gibbs': 1, 'Trustee for the Cincinnati of South Carolina': 1, 'Executor Philip Hawkins': 1, 'Vendue Master': 1, 'Executor of William Parker': 1, 'Hair Dresser': 1, 'Executor of Jacob Smiser': 1, 'Executrix of William Savage': 1, 'Comtroller of the Customs': 1, 'Tanner': 1, 'Blacks smith': 1, 'One of Judges of the Courts': 1, 'Planter as Executor Ely Kershaw': 1, 'Executor to Richard Mason': 1, 'Merchant  as Executor to Benjamin Garden': 1, 'Spinster': 1, 'Administrator to Joseph Warley': 1, 'Marriner': 1}\n"
     ]
    }
   ],
   "source": [
    "occurences_dict = occs_and_debt['Occupation'].value_counts().to_dict()\n",
    "print(occurences_dict)"
   ]
  },
  {
   "cell_type": "code",
   "execution_count": 67,
   "id": "12aad37a",
   "metadata": {},
   "outputs": [
    {
     "name": "stdout",
     "output_type": "stream",
     "text": [
      "                                      Occupation  Dollars  Dollars.1  Dollars.2        Cents      Cents.1  Cents.2\n",
      "0            Administrator to John Harleston Jun     33.0       16.0       30.0    33.000000    66.000000     68.0\n",
      "1                 Administrator to Joseph Warley   1671.0      835.0      601.0    44.000000    72.000000     64.0\n",
      "2                       Assignee of James Simons    345.0      172.0      321.0     2.000000    51.000000     84.0\n",
      "3                                Attorney at Law   3688.0     1842.0     2286.0   294.000000   351.000000    365.0\n",
      "4                                      Autioneer     10.0        5.0        0.0    65.000000    32.000000      0.0\n",
      "5                                   Blacks smith   1423.0      711.0      365.0    48.000000    74.000000     55.0\n",
      "6                                     Blockmaker   5263.0     2631.0     2697.0   123.000000   111.000000     60.0\n",
      "7                                     Bricklayer     37.0       18.0       18.0    35.000000    68.000000     75.0\n",
      "8                                         Broker   2330.0     1162.0      929.0   489.000000   547.000000    304.0\n",
      "9                                  Cabinet Maker     74.0       37.0        0.0    46.000000    23.000000      0.0\n",
      "10                                     Carpenter    446.0      221.0       13.0   302.000000   353.000000     37.0\n",
      "11                           Clerk of the Senate   1425.0      712.0      480.0    82.000000    91.000000      0.0\n",
      "12                     Comtroller of the Customs     53.0       26.0       32.0    74.000000    87.000000     24.0\n",
      "13                       Executor Philip Hawkins    239.0      119.0      245.0    10.000000    55.000000     23.0\n",
      "14                   Executor of Benjamin Tucker    834.0      416.0      842.0    86.000000   138.000000    132.0\n",
      "15                      Executor of Jacob Smiser     69.0       34.0       67.0     2.000000    51.000000     64.0\n",
      "16                       Executor of James Peart     12.0        6.0        0.0    11.000000     6.000000      0.0\n",
      "17                    Executor of Samuel Bonneau     23.0       11.0        0.0    72.000000    86.000000      0.0\n",
      "18                   Executor of Sarah Lampriere     68.0       34.0        0.0    26.000000    14.000000      0.0\n",
      "19                     Executor of William Gibbs     66.0       33.0      154.0    66.000000    33.000000     20.0\n",
      "20                    Executor of William Parker    685.0      342.0      810.0    77.000000    88.000000      0.0\n",
      "21                     Executor to Richard Mason   1024.0      512.0      276.0    91.000000    46.000000     65.0\n",
      "22                   Executrix of William Savage     76.0       38.0       75.0    70.000000    35.000000      2.0\n",
      "23                                        Factor   2960.0     1480.0     1564.0   148.000000    75.000000     46.0\n",
      "24                                     Gentleman    474.0      236.0      401.0    43.000000   122.000000    140.0\n",
      "25                                  Hair Dresser     50.0       25.0       39.0     0.000000     0.000000     96.0\n",
      "26                                       Mariner    161.0       80.0      154.0    73.000000    86.000000    124.0\n",
      "27                                      Marriner    180.0       90.0      207.0    47.000000    24.000000     93.0\n",
      "28                                      Merchant  79554.0    31715.0    50316.0  6821.000000  6536.000000   4037.0\n",
      "29      Merchant  as Executor to Benjamin Garden    234.0      117.0      179.0    96.000000    48.000000     14.0\n",
      "30                                     Merchants    167.0       82.0       24.0   155.000000   228.000000     68.0\n",
      "31                   One of Judges of the Courts   2257.0     1128.0     1172.0    18.000000    59.000000     87.0\n",
      "32                                     Penniston    914.0      457.0      995.0    24.000000    12.000000     99.0\n",
      "33                                     Physician   8126.0     4061.0     4407.0   500.000000   451.000000    299.0\n",
      "34                                       Planter  12576.0     6281.0     8807.0  1270.666667  1336.333333   1077.0\n",
      "35               Planter as Executor Ely Kershaw    883.0      441.0      636.0    33.000000    67.000000      0.0\n",
      "36                                       Printer    132.0        0.0        0.0    72.000000     0.000000      0.0\n",
      "37                                       Sheriff   2132.0     1066.0     1217.0   132.666667    66.333333     86.0\n",
      "38                                    Shipwright    153.0       76.0        0.0    54.000000    77.000000      0.0\n",
      "39                                    Shopkeeper    188.0       93.0       38.0   266.000000   233.000000     42.0\n",
      "40                                      Spinster    364.0      182.0      360.0    59.000000    29.000000     84.0\n",
      "41                                        Tanner    377.0      188.0      384.0    49.000000    75.000000     70.0\n",
      "42  Trustee for the Cincinnati of South Carolina   2439.0     1219.0     1139.0     2.000000    51.000000     71.0\n",
      "43                                 Vendue Master    112.0       56.0      109.0    54.000000    27.000000     24.0\n",
      "44                                         Widow   7705.0     2450.0     6492.0   570.000000   534.000000    502.0\n",
      "45         as Guardian to Mary Deborah L. Gowdey     17.0        8.0        0.0    15.000000    58.000000      0.0\n",
      "46   as treasurer of the State of south carolina    261.0      130.0      111.0   114.000000   108.000000     55.0\n"
     ]
    }
   ],
   "source": [
    "totals = occs_and_debt.groupby('Occupation')[['Dollars', 'Dollars.1', 'Dollars.2', 'Cents', 'Cents.1', 'Cents.2']].apply(sum)\n",
    "totals = totals.reset_index()\n",
    "print(totals.to_string())"
   ]
  },
  {
   "cell_type": "code",
   "execution_count": 68,
   "id": "851fd586",
   "metadata": {},
   "outputs": [
    {
     "name": "stdout",
     "output_type": "stream",
     "text": [
      "{'Merchant': 137, 'Planter': 30, 'Widow': 12, 'Broker': 11, 'Physician': 10, 'Attorney at Law': 8, 'Carpenter': 5, 'Shopkeeper': 4, 'Factor': 3, 'Executor of Benjamin Tucker': 2, 'Gentleman': 2, 'Sheriff': 2, 'Mariner': 3, 'Blockmaker': 2, 'as treasurer of the State of south carolina': 2, 'Clerk of the Senate': 2, 'Bricklayer': 1, 'Penniston': 1, 'as Guardian to Mary Deborah L. Gowdey': 1, 'Shipwright': 1, 'Executor of Sarah Lampriere': 1, 'Executor of Samuel Bonneau': 1, 'Cabinet Maker': 1, 'Autioneer': 1, 'Administrator to John Harleston Jun': 1, 'Executor of James Peart': 1, 'Printer': 1, 'Assignee of James Simons': 1, 'Executor of William Gibbs': 1, 'Trustee for the Cincinnati of South Carolina': 1, 'Executor Philip Hawkins': 1, 'Vendue Master': 1, 'Executor of William Parker': 1, 'Hair Dresser': 1, 'Executor of Jacob Smiser': 1, 'Executrix of William Savage': 1, 'Comtroller of the Customs': 1, 'Tanner': 1, 'Blacks smith': 1, 'One of Judges of the Courts': 1, 'Planter as Executor Ely Kershaw': 1, 'Executor to Richard Mason': 1, 'Merchant  as Executor to Benjamin Garden': 1, 'Spinster': 1, 'Administrator to Joseph Warley': 1}\n"
     ]
    }
   ],
   "source": [
    "occs_debt_wo_dups = totals.copy()\n",
    "#use fuzzy string matching to remove any similar names like merchant and merchents. does not take into account longer titles.\n",
    "occ_list = occs_debt_wo_dups['Occupation'].tolist()\n",
    "\n",
    "for occ in occ_list:\n",
    "    for occ_2 in occ_list:\n",
    "        if occ != occ_2:\n",
    "            if rapidfuzz.fuzz.ratio(occ, occ_2) >= 80 and occ != occ_2:\n",
    "                #transfer amount in row that will be deleted to other row\n",
    "                row_w_occ_2 = occs_debt_wo_dups.loc[occs_debt_wo_dups['Occupation'] == occ_2] #locate row that contains occupation soon to be deleted\n",
    "                dollars_in_occ_2 = row_w_occ_2[['Dollars', 'Dollars.1', 'Dollars.2']].sum(axis=1).values #get total dollars\n",
    "                cents_in_occ_2 = row_w_occ_2[['Cents', 'Cents.1', 'Cents.2']].sum(axis=1).values #get total cents\n",
    "                dollars_in_occ_2 = dollars_in_occ_2[0] #stored in array. need to retrieve value\n",
    "                cents_in_occ_2 = cents_in_occ_2[0] #stored in array. need to retrieve value  \n",
    "                occs_debt_wo_dups.loc[(occs_debt_wo_dups.Occupation == occ), 'Dollars'] += dollars_in_occ_2 #add dollars to occupation 1\n",
    "                occs_debt_wo_dups.loc[(occs_debt_wo_dups.Occupation == occ), 'Cents'] += cents_in_occ_2 #add cents to occupation 1\n",
    "                 \n",
    "                #remove value from occurences dictionary and add one to other occupation\n",
    "                occurences_dict[occs_debt_wo_dups.loc[(occs_debt_wo_dups.Occupation == occ), 'Occupation'].values[0]] += occurences_dict[occs_debt_wo_dups.loc[(occs_debt_wo_dups.Occupation == occ_2), 'Occupation'].values[0]] \n",
    "                occurences_dict.pop(occ_2)\n",
    "                \n",
    "                #remove row\n",
    "                occs_debt_wo_dups.drop(occs_debt_wo_dups[occs_debt_wo_dups['Occupation'] == occ_2].index, inplace=True) \n",
    "                occ_list.remove(occ_2)\n",
    "\n",
    "occs_debt_wo_dups = occs_debt_wo_dups.reset_index(drop=True) #reset indexes 0-65 \n",
    "\n",
    "#take the first two words of every job if applicable and remove any duplicate titles. handles longer titles \n",
    "two_word_occs = {}\n",
    "#retrieve all two worded occupations\n",
    "for occ in occ_list:\n",
    "    if len(occ.split()) >= 2: #only account for words that are actually more than two words long\n",
    "        occ_two_word = occ.split()[0] + \" \" + occ.split()[1] #get first two words\n",
    "        two_word_occs[occ_list.index(occ)] = occ_two_word #append both words to dict\n",
    "\n",
    "#retrieve any duplicates now \n",
    "flipped = {} \n",
    "for key, value in two_word_occs.items():\n",
    "    flipped.setdefault(value, list()).append(key) #flip keys with values\n",
    "\n",
    "keys_w_dups = [key for key, values in flipped.items() if len(values) > 1] #retrieve keys that have multiple values. store them in a list\n",
    "\n",
    "print(occurences_dict)"
   ]
  },
  {
   "cell_type": "code",
   "execution_count": 69,
   "id": "62d5a43b",
   "metadata": {},
   "outputs": [
    {
     "name": "stdout",
     "output_type": "stream",
     "text": [
      "                                      Occupation  Dollars  Dollars.1  Dollars.2        Cents      Cents.1  Cents.2\n",
      "0            Administrator to John Harleston Jun     33.0       16.0       30.0    33.000000    66.000000     68.0\n",
      "1                 Administrator to Joseph Warley   1671.0      835.0      601.0    44.000000    72.000000     64.0\n",
      "2                       Assignee of James Simons    345.0      172.0      321.0     2.000000    51.000000     84.0\n",
      "3                                Attorney at Law   3688.0     1842.0     2286.0   294.000000   351.000000    365.0\n",
      "4                                      Autioneer     10.0        5.0        0.0    65.000000    32.000000      0.0\n",
      "5                                   Blacks smith   1423.0      711.0      365.0    48.000000    74.000000     55.0\n",
      "6                                     Blockmaker   5263.0     2631.0     2697.0   123.000000   111.000000     60.0\n",
      "7                                     Bricklayer     37.0       18.0       18.0    35.000000    68.000000     75.0\n",
      "8                                         Broker   2330.0     1162.0      929.0   489.000000   547.000000    304.0\n",
      "9                                  Cabinet Maker     74.0       37.0        0.0    46.000000    23.000000      0.0\n",
      "10                                     Carpenter    446.0      221.0       13.0   302.000000   353.000000     37.0\n",
      "11                           Clerk of the Senate   1425.0      712.0      480.0    82.000000    91.000000      0.0\n",
      "12                     Comtroller of the Customs     53.0       26.0       32.0    74.000000    87.000000     24.0\n",
      "13                       Executor Philip Hawkins    239.0      119.0      245.0    10.000000    55.000000     23.0\n",
      "14                   Executor of Benjamin Tucker    834.0      416.0      842.0    86.000000   138.000000    132.0\n",
      "15                      Executor of Jacob Smiser     69.0       34.0       67.0     2.000000    51.000000     64.0\n",
      "16                       Executor of James Peart     12.0        6.0        0.0    11.000000     6.000000      0.0\n",
      "17                    Executor of Samuel Bonneau     23.0       11.0        0.0    72.000000    86.000000      0.0\n",
      "18                   Executor of Sarah Lampriere     68.0       34.0        0.0    26.000000    14.000000      0.0\n",
      "19                     Executor of William Gibbs     66.0       33.0      154.0    66.000000    33.000000     20.0\n",
      "20                    Executor of William Parker    685.0      342.0      810.0    77.000000    88.000000      0.0\n",
      "21                     Executor to Richard Mason   1024.0      512.0      276.0    91.000000    46.000000     65.0\n",
      "22                   Executrix of William Savage     76.0       38.0       75.0    70.000000    35.000000      2.0\n",
      "23                                        Factor   2960.0     1480.0     1564.0   148.000000    75.000000     46.0\n",
      "24                                     Gentleman    474.0      236.0      401.0    43.000000   122.000000    140.0\n",
      "25                                  Hair Dresser     50.0       25.0       39.0     0.000000     0.000000     96.0\n",
      "26                                       Mariner    638.0       80.0      154.0   237.000000    86.000000    124.0\n",
      "27                                      Merchant  79827.0    31715.0    50316.0  7272.000000  6536.000000   4037.0\n",
      "28      Merchant  as Executor to Benjamin Garden    234.0      117.0      179.0    96.000000    48.000000     14.0\n",
      "29                   One of Judges of the Courts   2257.0     1128.0     1172.0    18.000000    59.000000     87.0\n",
      "30                                     Penniston    914.0      457.0      995.0    24.000000    12.000000     99.0\n",
      "31                                     Physician   8126.0     4061.0     4407.0   500.000000   451.000000    299.0\n",
      "32                                       Planter  12576.0     6281.0     8807.0  1270.666667  1336.333333   1077.0\n",
      "33               Planter as Executor Ely Kershaw    883.0      441.0      636.0    33.000000    67.000000      0.0\n",
      "34                                       Printer    132.0        0.0        0.0    72.000000     0.000000      0.0\n",
      "35                                       Sheriff   2132.0     1066.0     1217.0   132.666667    66.333333     86.0\n",
      "36                                    Shipwright    153.0       76.0        0.0    54.000000    77.000000      0.0\n",
      "37                                    Shopkeeper    188.0       93.0       38.0   266.000000   233.000000     42.0\n",
      "38                                      Spinster    364.0      182.0      360.0    59.000000    29.000000     84.0\n",
      "39                                        Tanner    377.0      188.0      384.0    49.000000    75.000000     70.0\n",
      "40  Trustee for the Cincinnati of South Carolina   2439.0     1219.0     1139.0     2.000000    51.000000     71.0\n",
      "41                                 Vendue Master    112.0       56.0      109.0    54.000000    27.000000     24.0\n",
      "42                                         Widow   7705.0     2450.0     6492.0   570.000000   534.000000    502.0\n",
      "43         as Guardian to Mary Deborah L. Gowdey     17.0        8.0        0.0    15.000000    58.000000      0.0\n",
      "44   as treasurer of the State of south carolina    261.0      130.0      111.0   114.000000   108.000000     55.0\n"
     ]
    }
   ],
   "source": [
    "print(occs_debt_wo_dups.to_string())"
   ]
  },
  {
   "cell_type": "code",
   "execution_count": 70,
   "id": "5d5cb375",
   "metadata": {},
   "outputs": [
    {
     "name": "stdout",
     "output_type": "stream",
     "text": [
      "{'Administrator to': [0, 1], 'Assignee of': [2], 'Attorney at': [3], 'Blacks smith': [5], 'Cabinet Maker': [9], 'Clerk of': [11], 'Comtroller of': [12], 'Executor Philip': [13], 'Executor of': [14, 15, 16, 17, 18, 19, 20], 'Executor to': [21], 'Executrix of': [22], 'Hair Dresser': [25], 'Merchant as': [28], 'One of': [29], 'Planter as': [33], 'Trustee for': [40], 'Vendue Master': [41], 'as Guardian': [43], 'as treasurer': [44]}\n",
      "\n",
      "\n",
      "\n",
      "['Administrator to', 'Executor of']\n"
     ]
    }
   ],
   "source": [
    "print(flipped)\n",
    "print(\"\\n\\n\")\n",
    "print(keys_w_dups)"
   ]
  },
  {
   "cell_type": "code",
   "execution_count": 71,
   "id": "80249086",
   "metadata": {},
   "outputs": [
    {
     "name": "stdout",
     "output_type": "stream",
     "text": [
      "{'Merchant': 137, 'Planter': 30, 'Widow': 12, 'Broker': 11, 'Physician': 10, 'Attorney at Law': 8, 'Carpenter': 5, 'Shopkeeper': 4, 'Factor': 3, 'Executor of Benjamin Tucker': 2, 'Gentleman': 2, 'Sheriff': 2, 'Mariner': 3, 'Blockmaker': 2, 'as treasurer of the State of south carolina': 2, 'Clerk of the Senate': 2, 'Bricklayer': 1, 'Penniston': 1, 'as Guardian to Mary Deborah L. Gowdey': 1, 'Shipwright': 1, 'Executor of Sarah Lampriere': 1, 'Executor of Samuel Bonneau': 1, 'Cabinet Maker': 1, 'Autioneer': 1, 'Administrator to John Harleston Jun': 1, 'Executor of James Peart': 1, 'Printer': 1, 'Assignee of James Simons': 1, 'Executor of William Gibbs': 1, 'Trustee for the Cincinnati of South Carolina': 1, 'Executor Philip Hawkins': 1, 'Vendue Master': 1, 'Executor of William Parker': 1, 'Hair Dresser': 1, 'Executor of Jacob Smiser': 1, 'Executrix of William Savage': 1, 'Comtroller of the Customs': 1, 'Tanner': 1, 'Blacks smith': 1, 'One of Judges of the Courts': 1, 'Planter as Executor Ely Kershaw': 1, 'Executor to Richard Mason': 1, 'Merchant  as Executor to Benjamin Garden': 1, 'Spinster': 1, 'Administrator to Joseph Warley': 1}\n",
      "Administrator to Joseph Warley\n",
      "Length: 2\n",
      "Last Index: 1 Index: 0\n",
      "[0, 1]\n",
      "\n",
      "\n",
      "\n",
      "Executor of William Parker\n",
      "Length: 7\n",
      "Last Index: 20 Index: 14\n",
      "[14, 15, 16, 17, 18, 19, 20]\n",
      "\n",
      "\n",
      "\n",
      "Executor of William Parker\n",
      "Length: 6\n",
      "Last Index: 20 Index: 15\n",
      "[15, 16, 17, 18, 19, 20]\n",
      "\n",
      "\n",
      "\n",
      "Executor of William Parker\n",
      "Length: 5\n",
      "Last Index: 20 Index: 16\n",
      "[16, 17, 18, 19, 20]\n",
      "\n",
      "\n",
      "\n",
      "Executor of William Parker\n",
      "Length: 4\n",
      "Last Index: 20 Index: 17\n",
      "[17, 18, 19, 20]\n",
      "\n",
      "\n",
      "\n",
      "Executor of William Parker\n",
      "Length: 3\n",
      "Last Index: 20 Index: 18\n",
      "[18, 19, 20]\n",
      "\n",
      "\n",
      "\n",
      "Executor of William Parker\n",
      "Length: 2\n",
      "Last Index: 20 Index: 19\n",
      "[19, 20]\n",
      "\n",
      "\n",
      "\n"
     ]
    }
   ],
   "source": [
    "print(occurences_dict)\n",
    "\n",
    "for occ in keys_w_dups:\n",
    "    i = 0\n",
    "    while i < len(flipped[occ]):\n",
    "        index = flipped[occ][i]\n",
    "        if len(flipped[occ]) > 1: #make sure to keep one index in the list. don't want to delete ALL occurences\n",
    "            duplicate_row = occs_debt_wo_dups.loc[[index]] #return row that has index\n",
    "            dollars_in_dup_row = duplicate_row[['Dollars', 'Dollars.1', 'Dollars.2']].sum(axis=1).values #sum all dollars in row                \n",
    "            cents_in_dup_row = duplicate_row[['Cents', 'Cents.1', 'Cents.2']].sum(axis=1).values #return total cents in row\n",
    "            dollars_dup_row = dollars_in_dup_row[0] #stored in array. need to retrieve value\n",
    "            cents_dup_row = cents_in_dup_row[0] #stored in array. need to retrieve value\n",
    "\n",
    "            last_index = flipped[occ][len(flipped[occ]) - 1] #get last value in list. we will add dollars and cents here\n",
    "                        \n",
    "            occs_debt_wo_dups.loc[last_index, 'Dollars'] += dollars_dup_row #add dollars from one occupation to the other\n",
    "            occs_debt_wo_dups.loc[last_index, 'Cents'] += cents_dup_row #add cents from one occupation to the other\n",
    "            \n",
    "            #remove value from occurences dictionary and add one to other occupation\n",
    "            \n",
    "            #print(\"Removed: \" + str(occs_debt_wo_dups.loc[index, 'Occupation']))\n",
    "            #print('Kept: ' + str(occs_debt_wo_dups.loc[last_index, 'Occupation']))\n",
    "            \n",
    "            print(occs_debt_wo_dups.loc[last_index, 'Occupation'])\n",
    "            occurences_dict[occs_debt_wo_dups.loc[last_index, 'Occupation']] += occurences_dict[occs_debt_wo_dups.loc[index, 'Occupation']] \n",
    "            occurences_dict.pop(occs_debt_wo_dups.loc[index, 'Occupation'])\n",
    "            \n",
    "            print(\"Length: \" + str(len(flipped[occ])))\n",
    "            print(\"Last Index: \" + str(last_index) + \" Index: \" + str(index))\n",
    "            print(flipped[occ])\n",
    "            print(\"\\n\\n\")\n",
    "                        \n",
    "            occs_debt_wo_dups.drop(index, inplace=True) #remove duplicate occupation now\n",
    "            flipped[occ].remove(index) #remove from list\n",
    "            \n",
    "            #print(occurences_dict)\n",
    "            #print(\"\\n\\n\")\n",
    "        else:\n",
    "            i += 1\n",
    "\n",
    "occs_debt_wo_dups = occs_debt_wo_dups.reset_index(drop=True) #reset indexes 0-..."
   ]
  },
  {
   "cell_type": "code",
   "execution_count": 72,
   "id": "a647d9a0",
   "metadata": {},
   "outputs": [
    {
     "name": "stdout",
     "output_type": "stream",
     "text": [
      "                                      Occupation  Dollars  Dollars.1  Dollars.2        Cents      Cents.1  Cents.2\n",
      "0                 Administrator to Joseph Warley   1750.0      835.0      601.0   211.000000    72.000000     64.0\n",
      "1                       Assignee of James Simons    345.0      172.0      321.0     2.000000    51.000000     84.0\n",
      "2                                Attorney at Law   3688.0     1842.0     2286.0   294.000000   351.000000    365.0\n",
      "3                                      Autioneer     10.0        5.0        0.0    65.000000    32.000000      0.0\n",
      "4                                   Blacks smith   1423.0      711.0      365.0    48.000000    74.000000     55.0\n",
      "5                                     Blockmaker   5263.0     2631.0     2697.0   123.000000   111.000000     60.0\n",
      "6                                     Bricklayer     37.0       18.0       18.0    35.000000    68.000000     75.0\n",
      "7                                         Broker   2330.0     1162.0      929.0   489.000000   547.000000    304.0\n",
      "8                                  Cabinet Maker     74.0       37.0        0.0    46.000000    23.000000      0.0\n",
      "9                                      Carpenter    446.0      221.0       13.0   302.000000   353.000000     37.0\n",
      "10                           Clerk of the Senate   1425.0      712.0      480.0    82.000000    91.000000      0.0\n",
      "11                     Comtroller of the Customs     53.0       26.0       32.0    74.000000    87.000000     24.0\n",
      "12                       Executor Philip Hawkins    239.0      119.0      245.0    10.000000    55.000000     23.0\n",
      "13                    Executor of William Parker   3354.0      342.0      810.0   884.000000    88.000000      0.0\n",
      "14                     Executor to Richard Mason   1024.0      512.0      276.0    91.000000    46.000000     65.0\n",
      "15                   Executrix of William Savage     76.0       38.0       75.0    70.000000    35.000000      2.0\n",
      "16                                        Factor   2960.0     1480.0     1564.0   148.000000    75.000000     46.0\n",
      "17                                     Gentleman    474.0      236.0      401.0    43.000000   122.000000    140.0\n",
      "18                                  Hair Dresser     50.0       25.0       39.0     0.000000     0.000000     96.0\n",
      "19                                       Mariner    638.0       80.0      154.0   237.000000    86.000000    124.0\n",
      "20                                      Merchant  79827.0    31715.0    50316.0  7272.000000  6536.000000   4037.0\n",
      "21      Merchant  as Executor to Benjamin Garden    234.0      117.0      179.0    96.000000    48.000000     14.0\n",
      "22                   One of Judges of the Courts   2257.0     1128.0     1172.0    18.000000    59.000000     87.0\n",
      "23                                     Penniston    914.0      457.0      995.0    24.000000    12.000000     99.0\n",
      "24                                     Physician   8126.0     4061.0     4407.0   500.000000   451.000000    299.0\n",
      "25                                       Planter  12576.0     6281.0     8807.0  1270.666667  1336.333333   1077.0\n",
      "26               Planter as Executor Ely Kershaw    883.0      441.0      636.0    33.000000    67.000000      0.0\n",
      "27                                       Printer    132.0        0.0        0.0    72.000000     0.000000      0.0\n",
      "28                                       Sheriff   2132.0     1066.0     1217.0   132.666667    66.333333     86.0\n",
      "29                                    Shipwright    153.0       76.0        0.0    54.000000    77.000000      0.0\n",
      "30                                    Shopkeeper    188.0       93.0       38.0   266.000000   233.000000     42.0\n",
      "31                                      Spinster    364.0      182.0      360.0    59.000000    29.000000     84.0\n",
      "32                                        Tanner    377.0      188.0      384.0    49.000000    75.000000     70.0\n",
      "33  Trustee for the Cincinnati of South Carolina   2439.0     1219.0     1139.0     2.000000    51.000000     71.0\n",
      "34                                 Vendue Master    112.0       56.0      109.0    54.000000    27.000000     24.0\n",
      "35                                         Widow   7705.0     2450.0     6492.0   570.000000   534.000000    502.0\n",
      "36         as Guardian to Mary Deborah L. Gowdey     17.0        8.0        0.0    15.000000    58.000000      0.0\n",
      "37   as treasurer of the State of south carolina    261.0      130.0      111.0   114.000000   108.000000     55.0\n"
     ]
    }
   ],
   "source": [
    "print(occs_debt_wo_dups.to_string())"
   ]
  },
  {
   "cell_type": "code",
   "execution_count": 73,
   "id": "826f9428",
   "metadata": {},
   "outputs": [
    {
     "name": "stdout",
     "output_type": "stream",
     "text": [
      "{'Administrator to': [1], 'Assignee of': [2], 'Attorney at': [3], 'Blacks smith': [5], 'Cabinet Maker': [9], 'Clerk of': [11], 'Comtroller of': [12], 'Executor Philip': [13], 'Executor of': [20], 'Executor to': [21], 'Executrix of': [22], 'Hair Dresser': [25], 'Merchant as': [28], 'One of': [29], 'Planter as': [33], 'Trustee for': [40], 'Vendue Master': [41], 'as Guardian': [43], 'as treasurer': [44]}\n"
     ]
    }
   ],
   "source": [
    "print(flipped)"
   ]
  },
  {
   "cell_type": "code",
   "execution_count": 74,
   "id": "88765c43",
   "metadata": {},
   "outputs": [
    {
     "name": "stdout",
     "output_type": "stream",
     "text": [
      "{'Merchant': 137, 'Planter': 30, 'Widow': 12, 'Broker': 11, 'Physician': 10, 'Attorney at Law': 8, 'Carpenter': 5, 'Shopkeeper': 4, 'Factor': 3, 'Gentleman': 2, 'Sheriff': 2, 'Mariner': 3, 'Blockmaker': 2, 'as treasurer of the State of south carolina': 2, 'Clerk of the Senate': 2, 'Bricklayer': 1, 'Penniston': 1, 'as Guardian to Mary Deborah L. Gowdey': 1, 'Shipwright': 1, 'Cabinet Maker': 1, 'Autioneer': 1, 'Printer': 1, 'Assignee of James Simons': 1, 'Trustee for the Cincinnati of South Carolina': 1, 'Executor Philip Hawkins': 1, 'Vendue Master': 1, 'Executor of William Parker': 8, 'Hair Dresser': 1, 'Executrix of William Savage': 1, 'Comtroller of the Customs': 1, 'Tanner': 1, 'Blacks smith': 1, 'One of Judges of the Courts': 1, 'Planter as Executor Ely Kershaw': 1, 'Executor to Richard Mason': 1, 'Merchant  as Executor to Benjamin Garden': 1, 'Spinster': 1, 'Administrator to Joseph Warley': 2}\n"
     ]
    }
   ],
   "source": [
    "print(occurences_dict)"
   ]
  },
  {
   "cell_type": "code",
   "execution_count": 75,
   "id": "74c3596b",
   "metadata": {},
   "outputs": [],
   "source": [
    "exceptions = ['Blacks smith', 'Cabinet Maker', 'Hair Dresser', 'One of Judges of the Courts', 'Vendue Master', \n",
    "              'as Guardian to Mary Deborah L. Gowdey', 'as treasurer of the State of south carolina'] #applicable only to a few states"
   ]
  },
  {
   "cell_type": "code",
   "execution_count": 76,
   "id": "513b3f88",
   "metadata": {},
   "outputs": [],
   "source": [
    "#get the first word from every occupation and store any duplicates in a dictionary\n",
    "occ_list = occs_debt_wo_dups['Occupation'].to_list()\n",
    "occupations = []\n",
    "one_word_occs = {}\n",
    "flipped_one_w = {}\n",
    "\n",
    "for occ in occ_list:\n",
    "    if occ not in exceptions:\n",
    "        first_word = occ.split()[0]\n",
    "        one_word_occs[occ_list.index(occ)] = first_word \n",
    "        \n",
    "#flip dictionary\n",
    "for key, value in one_word_occs.items():\n",
    "    flipped_one_w.setdefault(value, list()).append(key) #flip keys with values"
   ]
  },
  {
   "cell_type": "code",
   "execution_count": 77,
   "id": "42a11b9d",
   "metadata": {},
   "outputs": [
    {
     "name": "stdout",
     "output_type": "stream",
     "text": [
      "{'Administrator': [0], 'Assignee': [1], 'Attorney': [2], 'Autioneer': [3], 'Blockmaker': [5], 'Bricklayer': [6], 'Broker': [7], 'Carpenter': [9], 'Clerk': [10], 'Comtroller': [11], 'Executor': [12, 13, 14, 15], 'Factor': [16], 'Gentleman': [17], 'Mariner': [19], 'Merchant': [20, 21], 'Penniston': [23], 'Physician': [24], 'Planter': [25, 26], 'Printer': [27], 'Sheriff': [28], 'Shipwright': [29], 'Shopkeeper': [30], 'Spinster': [31], 'Tanner': [32], 'Trustee': [33], 'Widow': [35]}\n",
      "\n",
      "\n",
      "\n",
      "['Executor', 'Merchant', 'Planter']\n"
     ]
    }
   ],
   "source": [
    "#use fuzzy string matching \n",
    "flipped_list = list(flipped_one_w) #convert to list. needed in order to iterate through\n",
    "for occ in flipped_list:\n",
    "    for occ_2 in flipped_list:\n",
    "        if occ_2 != occ and rapidfuzz.fuzz.ratio(occ, occ_2) >= 80:\n",
    "            flipped_one_w[occ].extend(flipped_one_w[occ_2]) #combine lists\n",
    "            flipped_one_w.pop(occ_2) #remove second occurence of the same occupation \n",
    "            flipped_list.remove(occ_2) #remove from list \n",
    "            \n",
    "keys_w_dups = [key for key, values in flipped_one_w.items() if len(values) > 1] #retrieve keys that have multiple values. store them in a list\n",
    "         \n",
    "print(flipped_one_w)\n",
    "print(\"\\n\\n\")\n",
    "print(keys_w_dups)"
   ]
  },
  {
   "cell_type": "code",
   "execution_count": 78,
   "id": "f96b2f18",
   "metadata": {},
   "outputs": [
    {
     "name": "stdout",
     "output_type": "stream",
     "text": [
      "                                      Occupation   Dollars  Dollars.1  Dollars.2       Cents     Cents.1  Cents.2\n",
      "0                 Administrator to Joseph Warley    1750.0      835.0      601.0  211.000000   72.000000     64.0\n",
      "1                       Assignee of James Simons     345.0      172.0      321.0    2.000000   51.000000     84.0\n",
      "2                                Attorney at Law    3688.0     1842.0     2286.0  294.000000  351.000000    365.0\n",
      "3                                      Autioneer      10.0        5.0        0.0   65.000000   32.000000      0.0\n",
      "4                                   Blacks smith    1423.0      711.0      365.0   48.000000   74.000000     55.0\n",
      "5                                     Blockmaker    5263.0     2631.0     2697.0  123.000000  111.000000     60.0\n",
      "6                                     Bricklayer      37.0       18.0       18.0   35.000000   68.000000     75.0\n",
      "7                                         Broker    2330.0     1162.0      929.0  489.000000  547.000000    304.0\n",
      "8                                  Cabinet Maker      74.0       37.0        0.0   46.000000   23.000000      0.0\n",
      "9                                      Carpenter     446.0      221.0       13.0  302.000000  353.000000     37.0\n",
      "10                           Clerk of the Senate    1425.0      712.0      480.0   82.000000   91.000000      0.0\n",
      "11                     Comtroller of the Customs      53.0       26.0       32.0   74.000000   87.000000     24.0\n",
      "12                   Executrix of William Savage    6997.0       38.0       75.0  427.000000   35.000000      2.0\n",
      "13                                        Factor    2960.0     1480.0     1564.0  148.000000   75.000000     46.0\n",
      "14                                     Gentleman     474.0      236.0      401.0   43.000000  122.000000    140.0\n",
      "15                                  Hair Dresser      50.0       25.0       39.0    0.000000    0.000000     96.0\n",
      "16                                       Mariner     638.0       80.0      154.0  237.000000   86.000000    124.0\n",
      "17      Merchant  as Executor to Benjamin Garden  162092.0      117.0      179.0  215.000000   48.000000     14.0\n",
      "18                   One of Judges of the Courts    2257.0     1128.0     1172.0   18.000000   59.000000     87.0\n",
      "19                                     Penniston     914.0      457.0      995.0   24.000000   12.000000     99.0\n",
      "20                                     Physician    8126.0     4061.0     4407.0  500.000000  451.000000    299.0\n",
      "21               Planter as Executor Ely Kershaw   28547.0      441.0      636.0  152.000000   67.000000      0.0\n",
      "22                                       Printer     132.0        0.0        0.0   72.000000    0.000000      0.0\n",
      "23                                       Sheriff    2132.0     1066.0     1217.0  132.666667   66.333333     86.0\n",
      "24                                    Shipwright     153.0       76.0        0.0   54.000000   77.000000      0.0\n",
      "25                                    Shopkeeper     188.0       93.0       38.0  266.000000  233.000000     42.0\n",
      "26                                      Spinster     364.0      182.0      360.0   59.000000   29.000000     84.0\n",
      "27                                        Tanner     377.0      188.0      384.0   49.000000   75.000000     70.0\n",
      "28  Trustee for the Cincinnati of South Carolina    2439.0     1219.0     1139.0    2.000000   51.000000     71.0\n",
      "29                                 Vendue Master     112.0       56.0      109.0   54.000000   27.000000     24.0\n",
      "30                                         Widow    7705.0     2450.0     6492.0  570.000000  534.000000    502.0\n",
      "31         as Guardian to Mary Deborah L. Gowdey      17.0        8.0        0.0   15.000000   58.000000      0.0\n",
      "32   as treasurer of the State of south carolina     261.0      130.0      111.0  114.000000  108.000000     55.0\n"
     ]
    }
   ],
   "source": [
    "#remove duplicates\n",
    "for occ in keys_w_dups:\n",
    "    i = 0\n",
    "    while i < len(flipped_one_w[occ]):\n",
    "        if len(flipped_one_w[occ]) > 1:\n",
    "            \n",
    "            index = flipped_one_w[occ][i]\n",
    "            last_index = flipped_one_w[occ][len(flipped_one_w[occ]) - 1] #get last value in list. we will add dollars and cents here\n",
    "            duplicate_row = occs_debt_wo_dups.loc[[index]] #returns row that has index\n",
    "            dollars_in_dup_row = duplicate_row[['Dollars', 'Dollars.1', 'Dollars.2']].sum(axis=1).values[0]\n",
    "            cents_in_dup_row = duplicate_row[['Cents', 'Cents.1', 'Cents.2']].sum(axis=1).values[0]\n",
    "            \n",
    "            occs_debt_wo_dups.loc[last_index, 'Dollars'] += dollars_in_dup_row\n",
    "            occs_debt_wo_dups.loc[last_index, 'Cents'] += cents_dup_row\n",
    "            \n",
    "            occurences_dict[occs_debt_wo_dups.loc[last_index, 'Occupation']] += occurences_dict[occs_debt_wo_dups.loc[index, 'Occupation']] \n",
    "            occurences_dict.pop(occs_debt_wo_dups.loc[index, 'Occupation'])\n",
    "\n",
    "            occs_debt_wo_dups.drop(index, inplace=True)\n",
    "            flipped_one_w[occ].remove(index)\n",
    "            \n",
    "        else:\n",
    "            i += 1\n",
    "\n",
    "occs_debt_wo_dups = occs_debt_wo_dups.reset_index(drop=True) #reset indexes 0-...\n",
    "\n",
    "print(occs_debt_wo_dups.to_string())"
   ]
  },
  {
   "cell_type": "code",
   "execution_count": 79,
   "id": "dd491759",
   "metadata": {},
   "outputs": [
    {
     "name": "stdout",
     "output_type": "stream",
     "text": [
      "                                      Occupation   Dollars  Dollars.1  Dollars.2     Cents   Cents.1  Cents.2\n",
      "0                 Administrator to Joseph Warley    1750.0      835.0      601.0  2.110000  0.720000     0.64\n",
      "1                       Assignee of James Simons     345.0      172.0      321.0  0.020000  0.510000     0.84\n",
      "2                                Attorney at Law    3688.0     1842.0     2286.0  2.940000  3.510000     3.65\n",
      "3                                      Autioneer      10.0        5.0        0.0  0.650000  0.320000     0.00\n",
      "4                                   Blacks smith    1423.0      711.0      365.0  0.480000  0.740000     0.55\n",
      "5                                     Blockmaker    5263.0     2631.0     2697.0  1.230000  1.110000     0.60\n",
      "6                                     Bricklayer      37.0       18.0       18.0  0.350000  0.680000     0.75\n",
      "7                                         Broker    2330.0     1162.0      929.0  4.890000  5.470000     3.04\n",
      "8                                  Cabinet Maker      74.0       37.0        0.0  0.460000  0.230000     0.00\n",
      "9                                      Carpenter     446.0      221.0       13.0  3.020000  3.530000     0.37\n",
      "10                           Clerk of the Senate    1425.0      712.0      480.0  0.820000  0.910000     0.00\n",
      "11                     Comtroller of the Customs      53.0       26.0       32.0  0.740000  0.870000     0.24\n",
      "12                   Executrix of William Savage    6997.0       38.0       75.0  4.270000  0.350000     0.02\n",
      "13                                        Factor    2960.0     1480.0     1564.0  1.480000  0.750000     0.46\n",
      "14                                     Gentleman     474.0      236.0      401.0  0.430000  1.220000     1.40\n",
      "15                                  Hair Dresser      50.0       25.0       39.0  0.000000  0.000000     0.96\n",
      "16                                       Mariner     638.0       80.0      154.0  2.370000  0.860000     1.24\n",
      "17      Merchant  as Executor to Benjamin Garden  162092.0      117.0      179.0  2.150000  0.480000     0.14\n",
      "18                   One of Judges of the Courts    2257.0     1128.0     1172.0  0.180000  0.590000     0.87\n",
      "19                                     Penniston     914.0      457.0      995.0  0.240000  0.120000     0.99\n",
      "20                                     Physician    8126.0     4061.0     4407.0  5.000000  4.510000     2.99\n",
      "21               Planter as Executor Ely Kershaw   28547.0      441.0      636.0  1.520000  0.670000     0.00\n",
      "22                                       Printer     132.0        0.0        0.0  0.720000  0.000000     0.00\n",
      "23                                       Sheriff    2132.0     1066.0     1217.0  1.326667  0.663333     0.86\n",
      "24                                    Shipwright     153.0       76.0        0.0  0.540000  0.770000     0.00\n",
      "25                                    Shopkeeper     188.0       93.0       38.0  2.660000  2.330000     0.42\n",
      "26                                      Spinster     364.0      182.0      360.0  0.590000  0.290000     0.84\n",
      "27                                        Tanner     377.0      188.0      384.0  0.490000  0.750000     0.70\n",
      "28  Trustee for the Cincinnati of South Carolina    2439.0     1219.0     1139.0  0.020000  0.510000     0.71\n",
      "29                                 Vendue Master     112.0       56.0      109.0  0.540000  0.270000     0.24\n",
      "30                                         Widow    7705.0     2450.0     6492.0  5.700000  5.340000     5.02\n",
      "31         as Guardian to Mary Deborah L. Gowdey      17.0        8.0        0.0  0.150000  0.580000     0.00\n",
      "32   as treasurer of the State of south carolina     261.0      130.0      111.0  1.140000  1.080000     0.55\n"
     ]
    }
   ],
   "source": [
    "occs_debt_wo_dups[['Cents', 'Cents.1', 'Cents.2']] = occs_debt_wo_dups[['Cents', 'Cents.1', 'Cents.2']].div(100)\n",
    "print(occs_debt_wo_dups.to_string())"
   ]
  },
  {
   "cell_type": "code",
   "execution_count": 80,
   "id": "dd9876fd",
   "metadata": {},
   "outputs": [
    {
     "name": "stdout",
     "output_type": "stream",
     "text": [
      "                                      Occupation   Dollars  Dollars.1  Dollars.2     Cents   Cents.1  Cents.2      Total\n",
      "0                 Administrator to Joseph Warley    1750.0      835.0      601.0  2.110000  0.720000     0.64    3189.47\n",
      "1                       Assignee of James Simons     345.0      172.0      321.0  0.020000  0.510000     0.84     839.37\n",
      "2                                Attorney at Law    3688.0     1842.0     2286.0  2.940000  3.510000     3.65    7826.10\n",
      "3                                      Autioneer      10.0        5.0        0.0  0.650000  0.320000     0.00      15.97\n",
      "4                                   Blacks smith    1423.0      711.0      365.0  0.480000  0.740000     0.55    2500.77\n",
      "5                                     Blockmaker    5263.0     2631.0     2697.0  1.230000  1.110000     0.60   10593.94\n",
      "6                                     Bricklayer      37.0       18.0       18.0  0.350000  0.680000     0.75      74.78\n",
      "7                                         Broker    2330.0     1162.0      929.0  4.890000  5.470000     3.04    4434.40\n",
      "8                                  Cabinet Maker      74.0       37.0        0.0  0.460000  0.230000     0.00     111.69\n",
      "9                                      Carpenter     446.0      221.0       13.0  3.020000  3.530000     0.37     686.92\n",
      "10                           Clerk of the Senate    1425.0      712.0      480.0  0.820000  0.910000     0.00    2618.73\n",
      "11                     Comtroller of the Customs      53.0       26.0       32.0  0.740000  0.870000     0.24     112.85\n",
      "12                   Executrix of William Savage    6997.0       38.0       75.0  4.270000  0.350000     0.02    7114.64\n",
      "13                                        Factor    2960.0     1480.0     1564.0  1.480000  0.750000     0.46    6006.69\n",
      "14                                     Gentleman     474.0      236.0      401.0  0.430000  1.220000     1.40    1114.05\n",
      "15                                  Hair Dresser      50.0       25.0       39.0  0.000000  0.000000     0.96     114.96\n",
      "16                                       Mariner     638.0       80.0      154.0  2.370000  0.860000     1.24     876.47\n",
      "17      Merchant  as Executor to Benjamin Garden  162092.0      117.0      179.0  2.150000  0.480000     0.14  162390.77\n",
      "18                   One of Judges of the Courts    2257.0     1128.0     1172.0  0.180000  0.590000     0.87    4558.64\n",
      "19                                     Penniston     914.0      457.0      995.0  0.240000  0.120000     0.99    2367.35\n",
      "20                                     Physician    8126.0     4061.0     4407.0  5.000000  4.510000     2.99   16606.50\n",
      "21               Planter as Executor Ely Kershaw   28547.0      441.0      636.0  1.520000  0.670000     0.00   29626.19\n",
      "22                                       Printer     132.0        0.0        0.0  0.720000  0.000000     0.00     132.72\n",
      "23                                       Sheriff    2132.0     1066.0     1217.0  1.326667  0.663333     0.86    4417.85\n",
      "24                                    Shipwright     153.0       76.0        0.0  0.540000  0.770000     0.00     230.31\n",
      "25                                    Shopkeeper     188.0       93.0       38.0  2.660000  2.330000     0.42     324.41\n",
      "26                                      Spinster     364.0      182.0      360.0  0.590000  0.290000     0.84     907.72\n",
      "27                                        Tanner     377.0      188.0      384.0  0.490000  0.750000     0.70     950.94\n",
      "28  Trustee for the Cincinnati of South Carolina    2439.0     1219.0     1139.0  0.020000  0.510000     0.71    4798.24\n",
      "29                                 Vendue Master     112.0       56.0      109.0  0.540000  0.270000     0.24     278.05\n",
      "30                                         Widow    7705.0     2450.0     6492.0  5.700000  5.340000     5.02   16663.06\n",
      "31         as Guardian to Mary Deborah L. Gowdey      17.0        8.0        0.0  0.150000  0.580000     0.00      25.73\n",
      "32   as treasurer of the State of south carolina     261.0      130.0      111.0  1.140000  1.080000     0.55     504.77\n"
     ]
    }
   ],
   "source": [
    "occs_debt_wo_dups['Total'] = occs_debt_wo_dups[['Dollars', 'Dollars.1', 'Dollars.2', 'Cents', 'Cents.1', 'Cents.2']].sum(axis=1) #add totals to new column\n",
    "print(occs_debt_wo_dups.to_string())"
   ]
  },
  {
   "cell_type": "code",
   "execution_count": 81,
   "id": "8e59e587",
   "metadata": {},
   "outputs": [
    {
     "name": "stdout",
     "output_type": "stream",
     "text": [
      "                                      Occupation  # of People\n",
      "0                 Administrator to Joseph Warley            2\n",
      "1                       Assignee of James Simons            1\n",
      "2                                Attorney at Law            8\n",
      "3                                      Autioneer            1\n",
      "4                                   Blacks smith            1\n",
      "5                                     Blockmaker            2\n",
      "6                                     Bricklayer            1\n",
      "7                                         Broker           11\n",
      "8                                  Cabinet Maker            1\n",
      "9                                      Carpenter            5\n",
      "10                           Clerk of the Senate            2\n",
      "11                     Comtroller of the Customs            1\n",
      "12                   Executrix of William Savage           11\n",
      "13                                        Factor            3\n",
      "14                                     Gentleman            2\n",
      "15                                  Hair Dresser            1\n",
      "16                                       Mariner            3\n",
      "17      Merchant  as Executor to Benjamin Garden          138\n",
      "18                   One of Judges of the Courts            1\n",
      "19                                     Penniston            1\n",
      "20                                     Physician           10\n",
      "21               Planter as Executor Ely Kershaw           31\n",
      "22                                       Printer            1\n",
      "23                                       Sheriff            2\n",
      "24                                    Shipwright            1\n",
      "25                                    Shopkeeper            4\n",
      "26                                      Spinster            1\n",
      "27                                        Tanner            1\n",
      "28  Trustee for the Cincinnati of South Carolina            1\n",
      "29                                 Vendue Master            1\n",
      "30                                         Widow           12\n",
      "31         as Guardian to Mary Deborah L. Gowdey            1\n",
      "32   as treasurer of the State of south carolina            2\n"
     ]
    }
   ],
   "source": [
    "occs_debt_wo_dups['# of People'] = occs_debt_wo_dups['Occupation'].map(occurences_dict) #add occurences to table\n",
    "print(occs_debt_wo_dups[['Occupation', '# of People']])"
   ]
  },
  {
   "cell_type": "code",
   "execution_count": 82,
   "id": "f1408249",
   "metadata": {},
   "outputs": [
    {
     "name": "stdout",
     "output_type": "stream",
     "text": [
      "                                      Occupation      Total  # of People      Average\n",
      "0                 Administrator to Joseph Warley    3189.47            2  1594.735000\n",
      "1                       Assignee of James Simons     839.37            1   839.370000\n",
      "2                                Attorney at Law    7826.10            8   978.262500\n",
      "3                                      Autioneer      15.97            1    15.970000\n",
      "4                                   Blacks smith    2500.77            1  2500.770000\n",
      "5                                     Blockmaker   10593.94            2  5296.970000\n",
      "6                                     Bricklayer      74.78            1    74.780000\n",
      "7                                         Broker    4434.40           11   403.127273\n",
      "8                                  Cabinet Maker     111.69            1   111.690000\n",
      "9                                      Carpenter     686.92            5   137.384000\n",
      "10                           Clerk of the Senate    2618.73            2  1309.365000\n",
      "11                     Comtroller of the Customs     112.85            1   112.850000\n",
      "12                   Executrix of William Savage    7114.64           11   646.785455\n",
      "13                                        Factor    6006.69            3  2002.230000\n",
      "14                                     Gentleman    1114.05            2   557.025000\n",
      "15                                  Hair Dresser     114.96            1   114.960000\n",
      "16                                       Mariner     876.47            3   292.156667\n",
      "17      Merchant  as Executor to Benjamin Garden  162390.77          138  1176.744710\n",
      "18                   One of Judges of the Courts    4558.64            1  4558.640000\n",
      "19                                     Penniston    2367.35            1  2367.350000\n",
      "20                                     Physician   16606.50           10  1660.650000\n",
      "21               Planter as Executor Ely Kershaw   29626.19           31   955.683548\n",
      "22                                       Printer     132.72            1   132.720000\n",
      "23                                       Sheriff    4417.85            2  2208.925000\n",
      "24                                    Shipwright     230.31            1   230.310000\n",
      "25                                    Shopkeeper     324.41            4    81.102500\n",
      "26                                      Spinster     907.72            1   907.720000\n",
      "27                                        Tanner     950.94            1   950.940000\n",
      "28  Trustee for the Cincinnati of South Carolina    4798.24            1  4798.240000\n",
      "29                                 Vendue Master     278.05            1   278.050000\n",
      "30                                         Widow   16663.06           12  1388.588333\n",
      "31         as Guardian to Mary Deborah L. Gowdey      25.73            1    25.730000\n",
      "32   as treasurer of the State of south carolina     504.77            2   252.385000\n"
     ]
    }
   ],
   "source": [
    "occs_debt_wo_dups['Average'] = occs_debt_wo_dups['Total'] / occs_debt_wo_dups['# of People'] #calculate average and add to new column\n",
    "print(occs_debt_wo_dups[['Occupation', 'Total', '# of People', 'Average']].to_string())"
   ]
  },
  {
   "cell_type": "code",
   "execution_count": 83,
   "id": "ee0d8893",
   "metadata": {},
   "outputs": [],
   "source": [
    "exceptions = ['Blacks smith', 'Cabinet Maker', 'Hair Dresser', 'One of Judges of the Courts', 'Vendue Master', \n",
    "              'as Guardian to Mary Deborah L. Gowdey', 'as treasurer of the State of south carolina'] #applicable only to a few states"
   ]
  },
  {
   "cell_type": "code",
   "execution_count": 84,
   "id": "70b97abb",
   "metadata": {},
   "outputs": [
    {
     "name": "stdout",
     "output_type": "stream",
     "text": [
      "                     Occupation   Dollars  Dollars.1  Dollars.2     Cents   Cents.1  Cents.2      Total  # of People      Average\n",
      "0                 Administrator    1750.0      835.0      601.0  2.110000  0.720000     0.64    3189.47            2  1594.735000\n",
      "1                      Assignee     345.0      172.0      321.0  0.020000  0.510000     0.84     839.37            1   839.370000\n",
      "2                      Attorney    3688.0     1842.0     2286.0  2.940000  3.510000     3.65    7826.10            8   978.262500\n",
      "3                     Autioneer      10.0        5.0        0.0  0.650000  0.320000     0.00      15.97            1    15.970000\n",
      "4                    Blacksmith    1423.0      711.0      365.0  0.480000  0.740000     0.55    2500.77            1  2500.770000\n",
      "5                    Blockmaker    5263.0     2631.0     2697.0  1.230000  1.110000     0.60   10593.94            2  5296.970000\n",
      "6                    Bricklayer      37.0       18.0       18.0  0.350000  0.680000     0.75      74.78            1    74.780000\n",
      "7                        Broker    2330.0     1162.0      929.0  4.890000  5.470000     3.04    4434.40           11   403.127273\n",
      "8                 Cabinet Maker      74.0       37.0        0.0  0.460000  0.230000     0.00     111.69            1   111.690000\n",
      "9                     Carpenter     446.0      221.0       13.0  3.020000  3.530000     0.37     686.92            5   137.384000\n",
      "10                        Clerk    1425.0      712.0      480.0  0.820000  0.910000     0.00    2618.73            2  1309.365000\n",
      "11                   Comtroller      53.0       26.0       32.0  0.740000  0.870000     0.24     112.85            1   112.850000\n",
      "12                    Executrix    6997.0       38.0       75.0  4.270000  0.350000     0.02    7114.64           11   646.785455\n",
      "13                       Factor    2960.0     1480.0     1564.0  1.480000  0.750000     0.46    6006.69            3  2002.230000\n",
      "14                    Gentleman     474.0      236.0      401.0  0.430000  1.220000     1.40    1114.05            2   557.025000\n",
      "15                 Hair Dresser      50.0       25.0       39.0  0.000000  0.000000     0.96     114.96            1   114.960000\n",
      "16                      Mariner     638.0       80.0      154.0  2.370000  0.860000     1.24     876.47            3   292.156667\n",
      "17                     Merchant  162092.0      117.0      179.0  2.150000  0.480000     0.14  162390.77          138  1176.744710\n",
      "18  One of Judges of the Courts    2257.0     1128.0     1172.0  0.180000  0.590000     0.87    4558.64            1  4558.640000\n",
      "19                    Penniston     914.0      457.0      995.0  0.240000  0.120000     0.99    2367.35            1  2367.350000\n",
      "20                    Physician    8126.0     4061.0     4407.0  5.000000  4.510000     2.99   16606.50           10  1660.650000\n",
      "21                      Planter   28547.0      441.0      636.0  1.520000  0.670000     0.00   29626.19           31   955.683548\n",
      "22                      Printer     132.0        0.0        0.0  0.720000  0.000000     0.00     132.72            1   132.720000\n",
      "23                      Sheriff    2132.0     1066.0     1217.0  1.326667  0.663333     0.86    4417.85            2  2208.925000\n",
      "24                   Shipwright     153.0       76.0        0.0  0.540000  0.770000     0.00     230.31            1   230.310000\n",
      "25                   Shopkeeper     188.0       93.0       38.0  2.660000  2.330000     0.42     324.41            4    81.102500\n",
      "26                     Spinster     364.0      182.0      360.0  0.590000  0.290000     0.84     907.72            1   907.720000\n",
      "27                       Tanner     377.0      188.0      384.0  0.490000  0.750000     0.70     950.94            1   950.940000\n",
      "28                      Trustee    2439.0     1219.0     1139.0  0.020000  0.510000     0.71    4798.24            1  4798.240000\n",
      "29                Vendue Master     112.0       56.0      109.0  0.540000  0.270000     0.24     278.05            1   278.050000\n",
      "30                        Widow    7705.0     2450.0     6492.0  5.700000  5.340000     5.02   16663.06           12  1388.588333\n",
      "31                     Guardian      17.0        8.0        0.0  0.150000  0.580000     0.00      25.73            1    25.730000\n",
      "32              State Treasurer     261.0      130.0      111.0  1.140000  1.080000     0.55     504.77            2   252.385000\n"
     ]
    }
   ],
   "source": [
    "#convert to one word\n",
    "def first_word_only(occ):\n",
    "    if 'as Guardian' in occ:\n",
    "        return 'Guardian'\n",
    "    if 'as treasurer' in occ:\n",
    "        return 'State Treasurer'\n",
    "    if 'Blacks' in occ:\n",
    "        return 'Blacksmith'\n",
    "    if occ not in exceptions:\n",
    "        return occ.split()[0]\n",
    "    else:\n",
    "        return occ\n",
    "    \n",
    "occs_debt_wo_dups['Occupation'] = occs_debt_wo_dups['Occupation'].apply(first_word_only)\n",
    "print(occs_debt_wo_dups.to_string())"
   ]
  },
  {
   "cell_type": "code",
   "execution_count": 85,
   "id": "bbd187e1",
   "metadata": {},
   "outputs": [
    {
     "name": "stdout",
     "output_type": "stream",
     "text": [
      "                     Occupation      Total  # of People      Average  % of Total Debt\n",
      "0                 Administrator    3189.47            2  1594.735000            1.089\n",
      "1                      Assignee     839.37            1   839.370000            0.286\n",
      "2                      Attorney    7826.10            8   978.262500            2.671\n",
      "3                     Autioneer      15.97            1    15.970000            0.005\n",
      "4                    Blacksmith    2500.77            1  2500.770000            0.853\n",
      "5                    Blockmaker   10593.94            2  5296.970000            3.615\n",
      "6                    Bricklayer      74.78            1    74.780000            0.026\n",
      "7                        Broker    4434.40           11   403.127273            1.513\n",
      "8                 Cabinet Maker     111.69            1   111.690000            0.038\n",
      "9                     Carpenter     686.92            5   137.384000            0.234\n",
      "10                        Clerk    2618.73            2  1309.365000            0.894\n",
      "11                   Comtroller     112.85            1   112.850000            0.039\n",
      "12                    Executrix    7114.64           11   646.785455            2.428\n",
      "13                       Factor    6006.69            3  2002.230000            2.050\n",
      "14                    Gentleman    1114.05            2   557.025000            0.380\n",
      "15                 Hair Dresser     114.96            1   114.960000            0.039\n",
      "16                      Mariner     876.47            3   292.156667            0.299\n",
      "17                     Merchant  162390.77          138  1176.744710           55.421\n",
      "18  One of Judges of the Courts    4558.64            1  4558.640000            1.556\n",
      "19                    Penniston    2367.35            1  2367.350000            0.808\n",
      "20                    Physician   16606.50           10  1660.650000            5.667\n",
      "21                      Planter   29626.19           31   955.683548           10.111\n",
      "22                      Printer     132.72            1   132.720000            0.045\n",
      "23                      Sheriff    4417.85            2  2208.925000            1.508\n",
      "24                   Shipwright     230.31            1   230.310000            0.079\n",
      "25                   Shopkeeper     324.41            4    81.102500            0.111\n",
      "26                     Spinster     907.72            1   907.720000            0.310\n",
      "27                       Tanner     950.94            1   950.940000            0.325\n",
      "28                      Trustee    4798.24            1  4798.240000            1.638\n",
      "29                Vendue Master     278.05            1   278.050000            0.095\n",
      "30                        Widow   16663.06           12  1388.588333            5.687\n",
      "31                     Guardian      25.73            1    25.730000            0.009\n",
      "32              State Treasurer     504.77            2   252.385000            0.172\n"
     ]
    }
   ],
   "source": [
    "total = occs_debt_wo_dups['Total'].sum()\n",
    "occs_debt_wo_dups['% of Total Debt'] = round((occs_debt_wo_dups['Total'] / total) * 100, 3)\n",
    "print(occs_debt_wo_dups[['Occupation', 'Total', '# of People', 'Average', '% of Total Debt']].to_string())"
   ]
  },
  {
   "cell_type": "code",
   "execution_count": 86,
   "id": "0c2904c2",
   "metadata": {
    "scrolled": false
   },
   "outputs": [
    {
     "name": "stdout",
     "output_type": "stream",
     "text": [
      "                     Occupation       Total  # of People       Average  % of Total Debt\n",
      "0                 Administrator     3189.47            2   1594.735000            1.089\n",
      "1                      Assignee      839.37            1    839.370000            0.286\n",
      "2                      Attorney     7826.10            8    978.262500            2.671\n",
      "3                     Autioneer       15.97            1     15.970000            0.005\n",
      "4                    Blacksmith     2500.77            1   2500.770000            0.853\n",
      "5                    Blockmaker    10593.94            2   5296.970000            3.615\n",
      "6                    Bricklayer       74.78            1     74.780000            0.026\n",
      "7                        Broker     4434.40           11    403.127273            1.513\n",
      "8                 Cabinet Maker      111.69            1    111.690000            0.038\n",
      "9                     Carpenter      686.92            5    137.384000            0.234\n",
      "10                        Clerk     2618.73            2   1309.365000            0.894\n",
      "11                   Comtroller      112.85            1    112.850000            0.039\n",
      "12                    Executrix     7114.64           11    646.785455            2.428\n",
      "13                       Factor     6006.69            3   2002.230000            2.050\n",
      "14                    Gentleman     1114.05            2    557.025000            0.380\n",
      "15                 Hair Dresser      114.96            1    114.960000            0.039\n",
      "16                      Mariner      876.47            3    292.156667            0.299\n",
      "17                     Merchant   162390.77          138   1176.744710           55.421\n",
      "18  One of Judges of the Courts     4558.64            1   4558.640000            1.556\n",
      "19                    Penniston     2367.35            1   2367.350000            0.808\n",
      "20                    Physician    16606.50           10   1660.650000            5.667\n",
      "21                      Planter    29626.19           31    955.683548           10.111\n",
      "22                      Printer      132.72            1    132.720000            0.045\n",
      "23                      Sheriff     4417.85            2   2208.925000            1.508\n",
      "24                   Shipwright      230.31            1    230.310000            0.079\n",
      "25                   Shopkeeper      324.41            4     81.102500            0.111\n",
      "26                     Spinster      907.72            1    907.720000            0.310\n",
      "27                       Tanner      950.94            1    950.940000            0.325\n",
      "28                      Trustee     4798.24            1   4798.240000            1.638\n",
      "29                Vendue Master      278.05            1    278.050000            0.095\n",
      "30                        Widow    16663.06           12   1388.588333            5.687\n",
      "31                     Guardian       25.73            1     25.730000            0.009\n",
      "32              State Treasurer      504.77            2    252.385000            0.172\n",
      "33                  None Listed  1591553.16          116  13720.285862              NaN\n"
     ]
    }
   ],
   "source": [
    "#final total debt held by people w/ no job listed\n",
    "occs_and_debt = pd.read_excel(path,\n",
    "                             header=11, usecols='G, H, M, N, AB, AC, AQ, AR') #occupations plus continental debt for conneticut\n",
    "no_occ = occs_and_debt[occs_and_debt['Occupation'].isna()]\n",
    "num_of_people = len(no_occ)\n",
    "no_occ = no_occ.reset_index(drop=True)\n",
    "no_occ[['Cents', 'Cents.1', 'Cents.2']] = no_occ[['Cents', 'Cents.1', 'Cents.2']].div(100)\n",
    "total_series = no_occ[['Dollars', 'Dollars.1', 'Dollars.2', 'Cents', 'Cents.1', 'Cents.2']].sum(axis=1)\n",
    "total = total_series.sum()\n",
    "\n",
    "occs_debt_wo_dups = occs_debt_wo_dups.append({'Occupation': 'None Listed', 'Total': total, '# of People': num_of_people, 'Average': total / num_of_people}, ignore_index=True)\n",
    "print(occs_debt_wo_dups[['Occupation', 'Total', '# of People', 'Average', '% of Total Debt']].to_string())"
   ]
  },
  {
   "cell_type": "code",
   "execution_count": 87,
   "id": "96dadf84",
   "metadata": {},
   "outputs": [],
   "source": [
    "occs_debt_wo_dups[['Occupation', 'Total', '# of People', 'Average', '% of Total Debt']].to_excel(\"./FinishedSpreadsheets/occupation_debt_\" + state + \".xlsx\")"
   ]
  },
  {
   "cell_type": "code",
   "execution_count": null,
   "id": "4f6cc72a",
   "metadata": {},
   "outputs": [],
   "source": []
  }
 ],
 "metadata": {
  "kernelspec": {
   "display_name": "Python 3 (ipykernel)",
   "language": "python",
   "name": "python3"
  },
  "language_info": {
   "codemirror_mode": {
    "name": "ipython",
    "version": 3
   },
   "file_extension": ".py",
   "mimetype": "text/x-python",
   "name": "python",
   "nbconvert_exporter": "python",
   "pygments_lexer": "ipython3",
   "version": "3.7.9"
  }
 },
 "nbformat": 4,
 "nbformat_minor": 5
}
