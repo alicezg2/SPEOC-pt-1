{
 "cells": [
  {
   "cell_type": "code",
   "execution_count": 1,
   "id": "8536e7f0",
   "metadata": {},
   "outputs": [],
   "source": [
    "import pandas as pd\n",
    "import numpy as np\n",
    "import rapidfuzz"
   ]
  },
  {
   "cell_type": "code",
   "execution_count": 2,
   "id": "f4f293a4",
   "metadata": {},
   "outputs": [],
   "source": [
    "state='NH'\n",
    "occs_and_debt = pd.read_excel(r'C:\\Users\\david\\OneDrive\\Documents\\GitHub\\SPEOC-pt-1\\Data\\Post1790\\NH\\T652_R6_New_Hampshire_CD.xlsx',\n",
    "                             header=10, usecols='L, M, N, O, P, Q, R, S') #occupations plus continental debt for conneticut"
   ]
  },
  {
   "cell_type": "code",
   "execution_count": 3,
   "id": "30f7759d",
   "metadata": {},
   "outputs": [
    {
     "name": "stdout",
     "output_type": "stream",
     "text": [
      "    Unnamed: 11 Occupation  Dollars  Cents  Dollars.1  Cents.1  Dollars.2  \\\n",
      "0            NH  Physician   1490.0   73.0      745.0     37.0      436.0   \n",
      "1            NH      Widow   2100.0   48.0     1050.0     23.0      928.0   \n",
      "2            NH  Treasurer    149.0   62.0       74.0     81.0        NaN   \n",
      "3            NH    Esquire   4082.0    6.0     2041.0      3.0     2538.0   \n",
      "4            NH   Merchant    968.0   23.0      484.0     12.0      611.0   \n",
      "..          ...        ...      ...    ...        ...      ...        ...   \n",
      "214          NH  Physician    187.0    2.0       93.0     51.0      146.0   \n",
      "215          NH    Esquire     12.0   73.0        6.0     37.0        0.0   \n",
      "216          NH     Trader      9.0   16.0        4.0     58.0       10.0   \n",
      "217          MA     Trader     29.0    2.0       14.0     51.0       29.0   \n",
      "218          MA   Merchant    293.0   93.0      146.0     96.0      109.0   \n",
      "\n",
      "     Cents.2  \n",
      "0       77.0  \n",
      "1       46.0  \n",
      "2        NaN  \n",
      "3       45.0  \n",
      "4        2.0  \n",
      "..       ...  \n",
      "214     70.0  \n",
      "215      0.0  \n",
      "216     16.0  \n",
      "217     22.0  \n",
      "218     98.0  \n",
      "\n",
      "[213 rows x 8 columns]\n"
     ]
    }
   ],
   "source": [
    "occs_and_debt = occs_and_debt.dropna(subset=['Occupation'])\n",
    "print(occs_and_debt)"
   ]
  },
  {
   "cell_type": "code",
   "execution_count": 4,
   "id": "19680eab",
   "metadata": {},
   "outputs": [
    {
     "name": "stdout",
     "output_type": "stream",
     "text": [
      "    Occupation  Dollars  Cents  Dollars.1  Cents.1  Dollars.2  Cents.2\n",
      "0    Physician   1490.0   73.0      745.0     37.0      436.0     77.0\n",
      "1        Widow   2100.0   48.0     1050.0     23.0      928.0     46.0\n",
      "2    Treasurer    149.0   62.0       74.0     81.0        NaN      NaN\n",
      "3      Esquire   4082.0    6.0     2041.0      3.0     2538.0     45.0\n",
      "4     Merchant    968.0   23.0      484.0     12.0      611.0      2.0\n",
      "..         ...      ...    ...        ...      ...        ...      ...\n",
      "212   Merchant    106.0   83.0       53.0     41.0       96.0     27.0\n",
      "213   Merchant     81.0   69.0       40.0     84.0      741.0     54.0\n",
      "214  Physician    187.0    2.0       93.0     51.0      146.0     70.0\n",
      "215    Esquire     12.0   73.0        6.0     37.0        0.0      0.0\n",
      "216     Trader      9.0   16.0        4.0     58.0       10.0     16.0\n",
      "\n",
      "[163 rows x 7 columns]\n"
     ]
    }
   ],
   "source": [
    "#exclude non states \n",
    "occs_and_debt = occs_and_debt.rename(columns={'Unnamed: 11':'State'})\n",
    "occs_and_debt = occs_and_debt[occs_and_debt['State'].str.contains(state) == True].drop('State', axis=1)\n",
    "print(occs_and_debt)"
   ]
  },
  {
   "cell_type": "code",
   "execution_count": 5,
   "id": "39a54bb3",
   "metadata": {},
   "outputs": [
    {
     "name": "stdout",
     "output_type": "stream",
     "text": [
      "{'Esquire': 66, 'Merchant': 25, 'Physician': 18, 'Yeoman': 12, 'Widow': 9, 'Trader': 8, 'Clerk': 7, 'Gentleman': 6, 'Cordwainer': 2, 'Joiner': 2, 'Marniner': 2, 'Treasurer': 1, 'Goldsmith': 1, 'Spinster': 1, 'Baker': 1, 'Blacksmith': 1, 'Painter': 1}\n"
     ]
    }
   ],
   "source": [
    "occurences_dict = occs_and_debt['Occupation'].value_counts().to_dict()\n",
    "print(occurences_dict)"
   ]
  },
  {
   "cell_type": "code",
   "execution_count": 6,
   "id": "12aad37a",
   "metadata": {},
   "outputs": [
    {
     "name": "stdout",
     "output_type": "stream",
     "text": [
      "    Occupation  Dollars  Dollars.1  Dollars.2   Cents  Cents.1  Cents.2\n",
      "0        Baker   2159.0     1079.0      588.0     4.0     52.0     18.0\n",
      "1   Blacksmith     54.0       27.0       14.0    88.0     44.0     81.0\n",
      "2        Clerk   2713.0     1355.0      975.0   260.0    280.0    308.0\n",
      "3   Cordwainer    783.0      391.0      269.0     5.0     52.0    113.0\n",
      "4      Esquire  67440.0    33746.0    36323.0  3289.0   3046.0   2684.0\n",
      "5    Gentleman   3601.0     1799.0     1256.0   206.0    253.0    248.0\n",
      "6    Goldsmith    871.0      435.0      252.0    32.0     66.0      0.0\n",
      "7       Joiner    969.0      484.0      301.0    61.0     81.0    106.0\n",
      "8     Marniner    784.0      391.0      576.0   162.0    192.0    142.0\n",
      "9     Merchant  30061.0    15024.0    21153.0  1374.0   1338.0   1120.0\n",
      "10     Painter     48.0       24.0       37.0    61.0     31.0     44.0\n",
      "11   Physician   7102.0     3547.0     3153.0   943.0    825.0    757.0\n",
      "12    Spinster     89.0       44.0       24.0    13.0     57.0      7.0\n",
      "13      Trader   2804.0     1401.0     1739.0   327.0    264.0    337.0\n",
      "14   Treasurer    149.0       74.0        0.0    62.0     81.0      0.0\n",
      "15       Widow   8786.0     4391.0     3024.0   445.0    423.0    333.0\n",
      "16      Yeoman   3475.0     1735.0     1341.0   594.0    546.0    339.0\n"
     ]
    }
   ],
   "source": [
    "totals = occs_and_debt.groupby('Occupation')[['Dollars', 'Dollars.1', 'Dollars.2', 'Cents', 'Cents.1', 'Cents.2']].apply(sum)\n",
    "totals = totals.reset_index()\n",
    "print(totals.to_string())"
   ]
  },
  {
   "cell_type": "code",
   "execution_count": 7,
   "id": "851fd586",
   "metadata": {},
   "outputs": [
    {
     "name": "stdout",
     "output_type": "stream",
     "text": [
      "{'Esquire': 66, 'Merchant': 25, 'Physician': 18, 'Yeoman': 12, 'Widow': 9, 'Trader': 8, 'Clerk': 7, 'Gentleman': 6, 'Cordwainer': 2, 'Joiner': 2, 'Marniner': 2, 'Treasurer': 1, 'Goldsmith': 1, 'Spinster': 1, 'Baker': 1, 'Blacksmith': 1, 'Painter': 1}\n"
     ]
    }
   ],
   "source": [
    "occs_debt_wo_dups = totals.copy()\n",
    "#use fuzzy string matching to remove any similar names like merchant and merchents. does not take into account longer titles.\n",
    "occ_list = occs_debt_wo_dups['Occupation'].tolist()\n",
    "\n",
    "for occ in occ_list:\n",
    "    for occ_2 in occ_list:\n",
    "        if occ != occ_2:\n",
    "            if rapidfuzz.fuzz.ratio(occ, occ_2) >= 80 and occ != occ_2:\n",
    "                #transfer amount in row that will be deleted to other row\n",
    "                row_w_occ_2 = occs_debt_wo_dups.loc[occs_debt_wo_dups['Occupation'] == occ_2] #locate row that contains occupation soon to be deleted\n",
    "                dollars_in_occ_2 = row_w_occ_2[['Dollar', 'Dollar.1', 'Dollar.2']].sum(axis=1).values #get total dollars\n",
    "                cents_in_occ_2 = row_w_occ_2[['Cents', 'Cents.1', 'Cents.2']].sum(axis=1).values #get total cents\n",
    "                dollars_in_occ_2 = dollars_in_occ_2[0] #stored in array. need to retrieve value\n",
    "                cents_in_occ_2 = cents_in_occ_2[0] #stored in array. need to retrieve value  \n",
    "                occs_debt_wo_dups.loc[(occs_debt_wo_dups.Occupation == occ), 'Dollar'] += dollars_in_occ_2 #add dollars to occupation 1\n",
    "                occs_debt_wo_dups.loc[(occs_debt_wo_dups.Occupation == occ), 'Cents'] += cents_in_occ_2 #add cents to occupation 1\n",
    "                 \n",
    "                #remove value from occurences dictionary and add one to other occupation\n",
    "                occurences_dict[occs_debt_wo_dups.loc[(occs_debt_wo_dups.Occupation == occ), 'Occupation'].values[0]] += occurences_dict[occs_debt_wo_dups.loc[(occs_debt_wo_dups.Occupation == occ_2), 'Occupation'].values[0]] \n",
    "                occurences_dict.pop(occ_2)\n",
    "                \n",
    "                #remove row\n",
    "                occs_debt_wo_dups.drop(occs_debt_wo_dups[occs_debt_wo_dups['Occupation'] == occ_2].index, inplace=True) \n",
    "                occ_list.remove(occ_2)\n",
    "\n",
    "occs_debt_wo_dups = occs_debt_wo_dups.reset_index(drop=True) #reset indexes 0-65 \n",
    "\n",
    "#take the first two words of every job if applicable and remove any duplicate titles. handles longer titles \n",
    "two_word_occs = {}\n",
    "#retrieve all two worded occupations\n",
    "for occ in occ_list:\n",
    "    if len(occ.split()) >= 2: #only account for words that are actually more than two words long\n",
    "        occ_two_word = occ.split()[0] + \" \" + occ.split()[1] #get first two words\n",
    "        two_word_occs[occ_list.index(occ)] = occ_two_word #append both words to dict\n",
    "\n",
    "#retrieve any duplicates now \n",
    "flipped = {} \n",
    "for key, value in two_word_occs.items():\n",
    "    flipped.setdefault(value, list()).append(key) #flip keys with values\n",
    "\n",
    "keys_w_dups = [key for key, values in flipped.items() if len(values) > 1] #retrieve keys that have multiple values. store them in a list\n",
    "\n",
    "print(occurences_dict)"
   ]
  },
  {
   "cell_type": "code",
   "execution_count": 8,
   "id": "62d5a43b",
   "metadata": {},
   "outputs": [
    {
     "name": "stdout",
     "output_type": "stream",
     "text": [
      "    Occupation  Dollars  Dollars.1  Dollars.2   Cents  Cents.1  Cents.2\n",
      "0        Baker   2159.0     1079.0      588.0     4.0     52.0     18.0\n",
      "1   Blacksmith     54.0       27.0       14.0    88.0     44.0     81.0\n",
      "2        Clerk   2713.0     1355.0      975.0   260.0    280.0    308.0\n",
      "3   Cordwainer    783.0      391.0      269.0     5.0     52.0    113.0\n",
      "4      Esquire  67440.0    33746.0    36323.0  3289.0   3046.0   2684.0\n",
      "5    Gentleman   3601.0     1799.0     1256.0   206.0    253.0    248.0\n",
      "6    Goldsmith    871.0      435.0      252.0    32.0     66.0      0.0\n",
      "7       Joiner    969.0      484.0      301.0    61.0     81.0    106.0\n",
      "8     Marniner    784.0      391.0      576.0   162.0    192.0    142.0\n",
      "9     Merchant  30061.0    15024.0    21153.0  1374.0   1338.0   1120.0\n",
      "10     Painter     48.0       24.0       37.0    61.0     31.0     44.0\n",
      "11   Physician   7102.0     3547.0     3153.0   943.0    825.0    757.0\n",
      "12    Spinster     89.0       44.0       24.0    13.0     57.0      7.0\n",
      "13      Trader   2804.0     1401.0     1739.0   327.0    264.0    337.0\n",
      "14   Treasurer    149.0       74.0        0.0    62.0     81.0      0.0\n",
      "15       Widow   8786.0     4391.0     3024.0   445.0    423.0    333.0\n",
      "16      Yeoman   3475.0     1735.0     1341.0   594.0    546.0    339.0\n"
     ]
    }
   ],
   "source": [
    "print(occs_debt_wo_dups.to_string())"
   ]
  },
  {
   "cell_type": "code",
   "execution_count": 9,
   "id": "5d5cb375",
   "metadata": {},
   "outputs": [
    {
     "name": "stdout",
     "output_type": "stream",
     "text": [
      "{}\n",
      "\n",
      "\n",
      "\n",
      "[]\n"
     ]
    }
   ],
   "source": [
    "print(flipped)\n",
    "print(\"\\n\\n\")\n",
    "print(keys_w_dups)"
   ]
  },
  {
   "cell_type": "code",
   "execution_count": 10,
   "id": "80249086",
   "metadata": {},
   "outputs": [
    {
     "name": "stdout",
     "output_type": "stream",
     "text": [
      "{'Esquire': 66, 'Merchant': 25, 'Physician': 18, 'Yeoman': 12, 'Widow': 9, 'Trader': 8, 'Clerk': 7, 'Gentleman': 6, 'Cordwainer': 2, 'Joiner': 2, 'Marniner': 2, 'Treasurer': 1, 'Goldsmith': 1, 'Spinster': 1, 'Baker': 1, 'Blacksmith': 1, 'Painter': 1}\n"
     ]
    }
   ],
   "source": [
    "print(occurences_dict)\n",
    "\n",
    "for occ in keys_w_dups:\n",
    "    i = 0\n",
    "    while i < len(flipped[occ]):\n",
    "        index = flipped[occ][i]\n",
    "        if len(flipped[occ]) > 1: #make sure to keep one index in the list. don't want to delete ALL occurences\n",
    "            duplicate_row = occs_debt_wo_dups.loc[[index]] #return row that has index\n",
    "            dollars_in_dup_row = duplicate_row[['Dollar', 'Dollar.1', 'Dollar.2']].sum(axis=1).values #sum all dollars in row                \n",
    "            cents_in_dup_row = duplicate_row[['Cents', 'Cents.1', 'Cents.2']].sum(axis=1).values #return total cents in row\n",
    "            dollars_dup_row = dollars_in_dup_row[0] #stored in array. need to retrieve value\n",
    "            cents_dup_row = cents_in_dup_row[0] #stored in array. need to retrieve value\n",
    "\n",
    "            last_index = flipped[occ][len(flipped[occ]) - 1] #get last value in list. we will add dollars and cents here\n",
    "                        \n",
    "            occs_debt_wo_dups.loc[last_index, 'Dollar'] += dollars_dup_row #add dollars from one occupation to the other\n",
    "            occs_debt_wo_dups.loc[last_index, 'Cents'] += cents_dup_row #add cents from one occupation to the other\n",
    "            \n",
    "            #remove value from occurences dictionary and add one to other occupation\n",
    "            \n",
    "            #print(\"Removed: \" + str(occs_debt_wo_dups.loc[index, 'Occupation']))\n",
    "            #print('Kept: ' + str(occs_debt_wo_dups.loc[last_index, 'Occupation']))\n",
    "            \n",
    "            print(occs_debt_wo_dups.loc[last_index, 'Occupation'])\n",
    "            occurences_dict[occs_debt_wo_dups.loc[last_index, 'Occupation']] += occurences_dict[occs_debt_wo_dups.loc[index, 'Occupation']] \n",
    "            occurences_dict.pop(occs_debt_wo_dups.loc[index, 'Occupation'])\n",
    "            \n",
    "            print(\"Length: \" + str(len(flipped[occ])))\n",
    "            print(\"Last Index: \" + str(last_index) + \" Index: \" + str(index))\n",
    "            print(flipped[occ])\n",
    "            print(\"\\n\\n\")\n",
    "                        \n",
    "            occs_debt_wo_dups.drop(index, inplace=True) #remove duplicate occupation now\n",
    "            flipped[occ].remove(index) #remove from list\n",
    "            \n",
    "            #print(occurences_dict)\n",
    "            #print(\"\\n\\n\")\n",
    "        else:\n",
    "            i += 1\n",
    "\n",
    "occs_debt_wo_dups = occs_debt_wo_dups.reset_index(drop=True) #reset indexes 0-..."
   ]
  },
  {
   "cell_type": "code",
   "execution_count": 11,
   "id": "a647d9a0",
   "metadata": {},
   "outputs": [
    {
     "name": "stdout",
     "output_type": "stream",
     "text": [
      "    Occupation  Dollars  Dollars.1  Dollars.2   Cents  Cents.1  Cents.2\n",
      "0        Baker   2159.0     1079.0      588.0     4.0     52.0     18.0\n",
      "1   Blacksmith     54.0       27.0       14.0    88.0     44.0     81.0\n",
      "2        Clerk   2713.0     1355.0      975.0   260.0    280.0    308.0\n",
      "3   Cordwainer    783.0      391.0      269.0     5.0     52.0    113.0\n",
      "4      Esquire  67440.0    33746.0    36323.0  3289.0   3046.0   2684.0\n",
      "5    Gentleman   3601.0     1799.0     1256.0   206.0    253.0    248.0\n",
      "6    Goldsmith    871.0      435.0      252.0    32.0     66.0      0.0\n",
      "7       Joiner    969.0      484.0      301.0    61.0     81.0    106.0\n",
      "8     Marniner    784.0      391.0      576.0   162.0    192.0    142.0\n",
      "9     Merchant  30061.0    15024.0    21153.0  1374.0   1338.0   1120.0\n",
      "10     Painter     48.0       24.0       37.0    61.0     31.0     44.0\n",
      "11   Physician   7102.0     3547.0     3153.0   943.0    825.0    757.0\n",
      "12    Spinster     89.0       44.0       24.0    13.0     57.0      7.0\n",
      "13      Trader   2804.0     1401.0     1739.0   327.0    264.0    337.0\n",
      "14   Treasurer    149.0       74.0        0.0    62.0     81.0      0.0\n",
      "15       Widow   8786.0     4391.0     3024.0   445.0    423.0    333.0\n",
      "16      Yeoman   3475.0     1735.0     1341.0   594.0    546.0    339.0\n"
     ]
    }
   ],
   "source": [
    "print(occs_debt_wo_dups.to_string())"
   ]
  },
  {
   "cell_type": "code",
   "execution_count": 12,
   "id": "826f9428",
   "metadata": {},
   "outputs": [
    {
     "name": "stdout",
     "output_type": "stream",
     "text": [
      "{}\n"
     ]
    }
   ],
   "source": [
    "print(flipped)"
   ]
  },
  {
   "cell_type": "code",
   "execution_count": 13,
   "id": "88765c43",
   "metadata": {},
   "outputs": [
    {
     "name": "stdout",
     "output_type": "stream",
     "text": [
      "{'Esquire': 66, 'Merchant': 25, 'Physician': 18, 'Yeoman': 12, 'Widow': 9, 'Trader': 8, 'Clerk': 7, 'Gentleman': 6, 'Cordwainer': 2, 'Joiner': 2, 'Marniner': 2, 'Treasurer': 1, 'Goldsmith': 1, 'Spinster': 1, 'Baker': 1, 'Blacksmith': 1, 'Painter': 1}\n"
     ]
    }
   ],
   "source": [
    "print(occurences_dict)"
   ]
  },
  {
   "cell_type": "code",
   "execution_count": 14,
   "id": "74c3596b",
   "metadata": {},
   "outputs": [],
   "source": [
    "exceptions = [] #applicable only to a few states"
   ]
  },
  {
   "cell_type": "code",
   "execution_count": 15,
   "id": "513b3f88",
   "metadata": {},
   "outputs": [],
   "source": [
    "#get the first word from every occupation and store any duplicates in a dictionary\n",
    "occ_list = occs_debt_wo_dups['Occupation'].to_list()\n",
    "occupations = []\n",
    "one_word_occs = {}\n",
    "flipped_one_w = {}\n",
    "\n",
    "for occ in occ_list:\n",
    "    if occ not in exceptions:\n",
    "        first_word = occ.split()[0]\n",
    "        one_word_occs[occ_list.index(occ)] = first_word \n",
    "        \n",
    "#flip dictionary\n",
    "for key, value in one_word_occs.items():\n",
    "    flipped_one_w.setdefault(value, list()).append(key) #flip keys with values"
   ]
  },
  {
   "cell_type": "code",
   "execution_count": 16,
   "id": "42a11b9d",
   "metadata": {},
   "outputs": [
    {
     "name": "stdout",
     "output_type": "stream",
     "text": [
      "{'Baker': [0], 'Blacksmith': [1], 'Clerk': [2], 'Cordwainer': [3], 'Esquire': [4], 'Gentleman': [5], 'Goldsmith': [6], 'Joiner': [7], 'Marniner': [8], 'Merchant': [9], 'Painter': [10], 'Physician': [11], 'Spinster': [12], 'Trader': [13], 'Treasurer': [14], 'Widow': [15], 'Yeoman': [16]}\n",
      "\n",
      "\n",
      "\n",
      "[]\n"
     ]
    }
   ],
   "source": [
    "#use fuzzy string matching \n",
    "flipped_list = list(flipped_one_w) #convert to list. needed in order to iterate through\n",
    "for occ in flipped_list:\n",
    "    for occ_2 in flipped_list:\n",
    "        if occ_2 != occ and rapidfuzz.fuzz.ratio(occ, occ_2) >= 80:\n",
    "            flipped_one_w[occ].extend(flipped_one_w[occ_2]) #combine lists\n",
    "            flipped_one_w.pop(occ_2) #remove second occurence of the same occupation \n",
    "            flipped_list.remove(occ_2) #remove from list \n",
    "            \n",
    "keys_w_dups = [key for key, values in flipped_one_w.items() if len(values) > 1] #retrieve keys that have multiple values. store them in a list\n",
    "         \n",
    "print(flipped_one_w)\n",
    "print(\"\\n\\n\")\n",
    "print(keys_w_dups)"
   ]
  },
  {
   "cell_type": "code",
   "execution_count": 17,
   "id": "f96b2f18",
   "metadata": {},
   "outputs": [
    {
     "name": "stdout",
     "output_type": "stream",
     "text": [
      "    Occupation  Dollars  Dollars.1  Dollars.2   Cents  Cents.1  Cents.2\n",
      "0        Baker   2159.0     1079.0      588.0     4.0     52.0     18.0\n",
      "1   Blacksmith     54.0       27.0       14.0    88.0     44.0     81.0\n",
      "2        Clerk   2713.0     1355.0      975.0   260.0    280.0    308.0\n",
      "3   Cordwainer    783.0      391.0      269.0     5.0     52.0    113.0\n",
      "4      Esquire  67440.0    33746.0    36323.0  3289.0   3046.0   2684.0\n",
      "5    Gentleman   3601.0     1799.0     1256.0   206.0    253.0    248.0\n",
      "6    Goldsmith    871.0      435.0      252.0    32.0     66.0      0.0\n",
      "7       Joiner    969.0      484.0      301.0    61.0     81.0    106.0\n",
      "8     Marniner    784.0      391.0      576.0   162.0    192.0    142.0\n",
      "9     Merchant  30061.0    15024.0    21153.0  1374.0   1338.0   1120.0\n",
      "10     Painter     48.0       24.0       37.0    61.0     31.0     44.0\n",
      "11   Physician   7102.0     3547.0     3153.0   943.0    825.0    757.0\n",
      "12    Spinster     89.0       44.0       24.0    13.0     57.0      7.0\n",
      "13      Trader   2804.0     1401.0     1739.0   327.0    264.0    337.0\n",
      "14   Treasurer    149.0       74.0        0.0    62.0     81.0      0.0\n",
      "15       Widow   8786.0     4391.0     3024.0   445.0    423.0    333.0\n",
      "16      Yeoman   3475.0     1735.0     1341.0   594.0    546.0    339.0\n"
     ]
    }
   ],
   "source": [
    "#remove duplicates\n",
    "for occ in keys_w_dups:\n",
    "    i = 0\n",
    "    while i < len(flipped_one_w[occ]):\n",
    "        if len(flipped_one_w[occ]) > 1:\n",
    "            \n",
    "            index = flipped_one_w[occ][i]\n",
    "            last_index = flipped_one_w[occ][len(flipped_one_w[occ]) - 1] #get last value in list. we will add dollars and cents here\n",
    "            duplicate_row = occs_debt_wo_dups.loc[[index]] #returns row that has index\n",
    "            dollars_in_dup_row = duplicate_row[['Dollar', 'Dollar.1', 'Dollar.2']].sum(axis=1).values[0]\n",
    "            cents_in_dup_row = duplicate_row[['Cents', 'Cents.1', 'Cents.2']].sum(axis=1).values[0]\n",
    "            \n",
    "            occs_debt_wo_dups.loc[last_index, 'Dollar'] += dollars_in_dup_row\n",
    "            occs_debt_wo_dups.loc[last_index, 'Cents'] += cents_dup_row\n",
    "            \n",
    "            occurences_dict[occs_debt_wo_dups.loc[last_index, 'Occupation']] += occurences_dict[occs_debt_wo_dups.loc[index, 'Occupation']] \n",
    "            occurences_dict.pop(occs_debt_wo_dups.loc[index, 'Occupation'])\n",
    "\n",
    "            occs_debt_wo_dups.drop(index, inplace=True)\n",
    "            flipped_one_w[occ].remove(index)\n",
    "            \n",
    "        else:\n",
    "            i += 1\n",
    "\n",
    "occs_debt_wo_dups = occs_debt_wo_dups.reset_index(drop=True) #reset indexes 0-...\n",
    "\n",
    "print(occs_debt_wo_dups.to_string())"
   ]
  },
  {
   "cell_type": "code",
   "execution_count": 18,
   "id": "dd491759",
   "metadata": {},
   "outputs": [
    {
     "name": "stdout",
     "output_type": "stream",
     "text": [
      "    Occupation  Dollars  Dollars.1  Dollars.2  Cents  Cents.1  Cents.2\n",
      "0        Baker   2159.0     1079.0      588.0   0.04     0.52     0.18\n",
      "1   Blacksmith     54.0       27.0       14.0   0.88     0.44     0.81\n",
      "2        Clerk   2713.0     1355.0      975.0   2.60     2.80     3.08\n",
      "3   Cordwainer    783.0      391.0      269.0   0.05     0.52     1.13\n",
      "4      Esquire  67440.0    33746.0    36323.0  32.89    30.46    26.84\n",
      "5    Gentleman   3601.0     1799.0     1256.0   2.06     2.53     2.48\n",
      "6    Goldsmith    871.0      435.0      252.0   0.32     0.66     0.00\n",
      "7       Joiner    969.0      484.0      301.0   0.61     0.81     1.06\n",
      "8     Marniner    784.0      391.0      576.0   1.62     1.92     1.42\n",
      "9     Merchant  30061.0    15024.0    21153.0  13.74    13.38    11.20\n",
      "10     Painter     48.0       24.0       37.0   0.61     0.31     0.44\n",
      "11   Physician   7102.0     3547.0     3153.0   9.43     8.25     7.57\n",
      "12    Spinster     89.0       44.0       24.0   0.13     0.57     0.07\n",
      "13      Trader   2804.0     1401.0     1739.0   3.27     2.64     3.37\n",
      "14   Treasurer    149.0       74.0        0.0   0.62     0.81     0.00\n",
      "15       Widow   8786.0     4391.0     3024.0   4.45     4.23     3.33\n",
      "16      Yeoman   3475.0     1735.0     1341.0   5.94     5.46     3.39\n"
     ]
    }
   ],
   "source": [
    "occs_debt_wo_dups[['Cents', 'Cents.1', 'Cents.2']] = occs_debt_wo_dups[['Cents', 'Cents.1', 'Cents.2']].div(100)\n",
    "print(occs_debt_wo_dups.to_string())"
   ]
  },
  {
   "cell_type": "code",
   "execution_count": 19,
   "id": "dd9876fd",
   "metadata": {},
   "outputs": [
    {
     "name": "stdout",
     "output_type": "stream",
     "text": [
      "    Occupation  Dollars  Dollars.1  Dollars.2  Cents  Cents.1  Cents.2      Total\n",
      "0        Baker   2159.0     1079.0      588.0   0.04     0.52     0.18    3826.74\n",
      "1   Blacksmith     54.0       27.0       14.0   0.88     0.44     0.81      97.13\n",
      "2        Clerk   2713.0     1355.0      975.0   2.60     2.80     3.08    5051.48\n",
      "3   Cordwainer    783.0      391.0      269.0   0.05     0.52     1.13    1444.70\n",
      "4      Esquire  67440.0    33746.0    36323.0  32.89    30.46    26.84  137599.19\n",
      "5    Gentleman   3601.0     1799.0     1256.0   2.06     2.53     2.48    6663.07\n",
      "6    Goldsmith    871.0      435.0      252.0   0.32     0.66     0.00    1558.98\n",
      "7       Joiner    969.0      484.0      301.0   0.61     0.81     1.06    1756.48\n",
      "8     Marniner    784.0      391.0      576.0   1.62     1.92     1.42    1755.96\n",
      "9     Merchant  30061.0    15024.0    21153.0  13.74    13.38    11.20   66276.32\n",
      "10     Painter     48.0       24.0       37.0   0.61     0.31     0.44     110.36\n",
      "11   Physician   7102.0     3547.0     3153.0   9.43     8.25     7.57   13827.25\n",
      "12    Spinster     89.0       44.0       24.0   0.13     0.57     0.07     157.77\n",
      "13      Trader   2804.0     1401.0     1739.0   3.27     2.64     3.37    5953.28\n",
      "14   Treasurer    149.0       74.0        0.0   0.62     0.81     0.00     224.43\n",
      "15       Widow   8786.0     4391.0     3024.0   4.45     4.23     3.33   16213.01\n",
      "16      Yeoman   3475.0     1735.0     1341.0   5.94     5.46     3.39    6565.79\n"
     ]
    }
   ],
   "source": [
    "occs_debt_wo_dups['Total'] = occs_debt_wo_dups[['Dollars', 'Dollars.1', 'Dollars.2', 'Cents', 'Cents.1', 'Cents.2']].sum(axis=1) #add totals to new column\n",
    "print(occs_debt_wo_dups.to_string())"
   ]
  },
  {
   "cell_type": "code",
   "execution_count": 20,
   "id": "8e59e587",
   "metadata": {},
   "outputs": [
    {
     "name": "stdout",
     "output_type": "stream",
     "text": [
      "    Occupation  # of People\n",
      "0        Baker            1\n",
      "1   Blacksmith            1\n",
      "2        Clerk            7\n",
      "3   Cordwainer            2\n",
      "4      Esquire           66\n",
      "5    Gentleman            6\n",
      "6    Goldsmith            1\n",
      "7       Joiner            2\n",
      "8     Marniner            2\n",
      "9     Merchant           25\n",
      "10     Painter            1\n",
      "11   Physician           18\n",
      "12    Spinster            1\n",
      "13      Trader            8\n",
      "14   Treasurer            1\n",
      "15       Widow            9\n",
      "16      Yeoman           12\n"
     ]
    }
   ],
   "source": [
    "occs_debt_wo_dups['# of People'] = occs_debt_wo_dups['Occupation'].map(occurences_dict) #add occurences to table\n",
    "print(occs_debt_wo_dups[['Occupation', '# of People']])"
   ]
  },
  {
   "cell_type": "code",
   "execution_count": 21,
   "id": "f1408249",
   "metadata": {},
   "outputs": [
    {
     "name": "stdout",
     "output_type": "stream",
     "text": [
      "    Occupation      Total  # of People      Average\n",
      "0        Baker    3826.74            1  3826.740000\n",
      "1   Blacksmith      97.13            1    97.130000\n",
      "2        Clerk    5051.48            7   721.640000\n",
      "3   Cordwainer    1444.70            2   722.350000\n",
      "4      Esquire  137599.19           66  2084.836212\n",
      "5    Gentleman    6663.07            6  1110.511667\n",
      "6    Goldsmith    1558.98            1  1558.980000\n",
      "7       Joiner    1756.48            2   878.240000\n",
      "8     Marniner    1755.96            2   877.980000\n",
      "9     Merchant   66276.32           25  2651.052800\n",
      "10     Painter     110.36            1   110.360000\n",
      "11   Physician   13827.25           18   768.180556\n",
      "12    Spinster     157.77            1   157.770000\n",
      "13      Trader    5953.28            8   744.160000\n",
      "14   Treasurer     224.43            1   224.430000\n",
      "15       Widow   16213.01            9  1801.445556\n",
      "16      Yeoman    6565.79           12   547.149167\n"
     ]
    }
   ],
   "source": [
    "occs_debt_wo_dups['Average'] = occs_debt_wo_dups['Total'] / occs_debt_wo_dups['# of People'] #calculate average and add to new column\n",
    "print(occs_debt_wo_dups[['Occupation', 'Total', '# of People', 'Average']].to_string())"
   ]
  },
  {
   "cell_type": "code",
   "execution_count": 22,
   "id": "70b97abb",
   "metadata": {},
   "outputs": [
    {
     "name": "stdout",
     "output_type": "stream",
     "text": [
      "    Occupation  Dollars  Dollars.1  Dollars.2  Cents  Cents.1  Cents.2      Total  # of People      Average\n",
      "0        Baker   2159.0     1079.0      588.0   0.04     0.52     0.18    3826.74            1  3826.740000\n",
      "1   Blacksmith     54.0       27.0       14.0   0.88     0.44     0.81      97.13            1    97.130000\n",
      "2        Clerk   2713.0     1355.0      975.0   2.60     2.80     3.08    5051.48            7   721.640000\n",
      "3   Cordwainer    783.0      391.0      269.0   0.05     0.52     1.13    1444.70            2   722.350000\n",
      "4      Esquire  67440.0    33746.0    36323.0  32.89    30.46    26.84  137599.19           66  2084.836212\n",
      "5    Gentleman   3601.0     1799.0     1256.0   2.06     2.53     2.48    6663.07            6  1110.511667\n",
      "6    Goldsmith    871.0      435.0      252.0   0.32     0.66     0.00    1558.98            1  1558.980000\n",
      "7       Joiner    969.0      484.0      301.0   0.61     0.81     1.06    1756.48            2   878.240000\n",
      "8     Marniner    784.0      391.0      576.0   1.62     1.92     1.42    1755.96            2   877.980000\n",
      "9     Merchant  30061.0    15024.0    21153.0  13.74    13.38    11.20   66276.32           25  2651.052800\n",
      "10     Painter     48.0       24.0       37.0   0.61     0.31     0.44     110.36            1   110.360000\n",
      "11   Physician   7102.0     3547.0     3153.0   9.43     8.25     7.57   13827.25           18   768.180556\n",
      "12    Spinster     89.0       44.0       24.0   0.13     0.57     0.07     157.77            1   157.770000\n",
      "13      Trader   2804.0     1401.0     1739.0   3.27     2.64     3.37    5953.28            8   744.160000\n",
      "14   Treasurer    149.0       74.0        0.0   0.62     0.81     0.00     224.43            1   224.430000\n",
      "15       Widow   8786.0     4391.0     3024.0   4.45     4.23     3.33   16213.01            9  1801.445556\n",
      "16      Yeoman   3475.0     1735.0     1341.0   5.94     5.46     3.39    6565.79           12   547.149167\n"
     ]
    }
   ],
   "source": [
    "#convert to one word\n",
    "exceptions = ['Society Committee', 'Society Treasurer', 'School Master', 'Inn Keeper', 'Leather Dresser', 'Post Rider', 'School Committee North Parish']\n",
    "def first_word_only(occ):\n",
    "    if 'School Committee' in occ:\n",
    "        return 'School Committee'\n",
    "    if occ not in exceptions:\n",
    "        return occ.split()[0]\n",
    "    else:\n",
    "        return occ\n",
    "    \n",
    "occs_debt_wo_dups['Occupation'] = occs_debt_wo_dups['Occupation'].apply(first_word_only)\n",
    "print(occs_debt_wo_dups.to_string())"
   ]
  },
  {
   "cell_type": "code",
   "execution_count": 23,
   "id": "bbd187e1",
   "metadata": {},
   "outputs": [
    {
     "name": "stdout",
     "output_type": "stream",
     "text": [
      "    Occupation  Dollars  Dollars.1  Dollars.2  Cents  Cents.1  Cents.2      Total  # of People      Average  % of Total Debt\n",
      "0        Baker   2159.0     1079.0      588.0   0.04     0.52     0.18    3826.74            1  3826.740000            1.422\n",
      "1   Blacksmith     54.0       27.0       14.0   0.88     0.44     0.81      97.13            1    97.130000            0.036\n",
      "2        Clerk   2713.0     1355.0      975.0   2.60     2.80     3.08    5051.48            7   721.640000            1.877\n",
      "3   Cordwainer    783.0      391.0      269.0   0.05     0.52     1.13    1444.70            2   722.350000            0.537\n",
      "4      Esquire  67440.0    33746.0    36323.0  32.89    30.46    26.84  137599.19           66  2084.836212           51.137\n",
      "5    Gentleman   3601.0     1799.0     1256.0   2.06     2.53     2.48    6663.07            6  1110.511667            2.476\n",
      "6    Goldsmith    871.0      435.0      252.0   0.32     0.66     0.00    1558.98            1  1558.980000            0.579\n",
      "7       Joiner    969.0      484.0      301.0   0.61     0.81     1.06    1756.48            2   878.240000            0.653\n",
      "8     Marniner    784.0      391.0      576.0   1.62     1.92     1.42    1755.96            2   877.980000            0.653\n",
      "9     Merchant  30061.0    15024.0    21153.0  13.74    13.38    11.20   66276.32           25  2651.052800           24.631\n",
      "10     Painter     48.0       24.0       37.0   0.61     0.31     0.44     110.36            1   110.360000            0.041\n",
      "11   Physician   7102.0     3547.0     3153.0   9.43     8.25     7.57   13827.25           18   768.180556            5.139\n",
      "12    Spinster     89.0       44.0       24.0   0.13     0.57     0.07     157.77            1   157.770000            0.059\n",
      "13      Trader   2804.0     1401.0     1739.0   3.27     2.64     3.37    5953.28            8   744.160000            2.212\n",
      "14   Treasurer    149.0       74.0        0.0   0.62     0.81     0.00     224.43            1   224.430000            0.083\n",
      "15       Widow   8786.0     4391.0     3024.0   4.45     4.23     3.33   16213.01            9  1801.445556            6.025\n",
      "16      Yeoman   3475.0     1735.0     1341.0   5.94     5.46     3.39    6565.79           12   547.149167            2.440\n"
     ]
    }
   ],
   "source": [
    "total = occs_debt_wo_dups['Total'].sum()\n",
    "occs_debt_wo_dups['% of Total Debt'] = round((occs_debt_wo_dups['Total'] / total) * 100, 3)\n",
    "print(occs_debt_wo_dups.to_string())"
   ]
  },
  {
   "cell_type": "code",
   "execution_count": 24,
   "id": "0c2904c2",
   "metadata": {
    "scrolled": false
   },
   "outputs": [
    {
     "name": "stdout",
     "output_type": "stream",
     "text": [
      "     Occupation  Dollars  Dollars.1  Dollars.2  Cents  Cents.1  Cents.2       Total  # of People      Average  % of Total Debt\n",
      "0         Baker   2159.0     1079.0      588.0   0.04     0.52     0.18     3826.74            1  3826.740000            1.422\n",
      "1    Blacksmith     54.0       27.0       14.0   0.88     0.44     0.81       97.13            1    97.130000            0.036\n",
      "2         Clerk   2713.0     1355.0      975.0   2.60     2.80     3.08     5051.48            7   721.640000            1.877\n",
      "3    Cordwainer    783.0      391.0      269.0   0.05     0.52     1.13     1444.70            2   722.350000            0.537\n",
      "4       Esquire  67440.0    33746.0    36323.0  32.89    30.46    26.84   137599.19           66  2084.836212           51.137\n",
      "5     Gentleman   3601.0     1799.0     1256.0   2.06     2.53     2.48     6663.07            6  1110.511667            2.476\n",
      "6     Goldsmith    871.0      435.0      252.0   0.32     0.66     0.00     1558.98            1  1558.980000            0.579\n",
      "7        Joiner    969.0      484.0      301.0   0.61     0.81     1.06     1756.48            2   878.240000            0.653\n",
      "8      Marniner    784.0      391.0      576.0   1.62     1.92     1.42     1755.96            2   877.980000            0.653\n",
      "9      Merchant  30061.0    15024.0    21153.0  13.74    13.38    11.20    66276.32           25  2651.052800           24.631\n",
      "10      Painter     48.0       24.0       37.0   0.61     0.31     0.44      110.36            1   110.360000            0.041\n",
      "11    Physician   7102.0     3547.0     3153.0   9.43     8.25     7.57    13827.25           18   768.180556            5.139\n",
      "12     Spinster     89.0       44.0       24.0   0.13     0.57     0.07      157.77            1   157.770000            0.059\n",
      "13       Trader   2804.0     1401.0     1739.0   3.27     2.64     3.37     5953.28            8   744.160000            2.212\n",
      "14    Treasurer    149.0       74.0        0.0   0.62     0.81     0.00      224.43            1   224.430000            0.083\n",
      "15        Widow   8786.0     4391.0     3024.0   4.45     4.23     3.33    16213.01            9  1801.445556            6.025\n",
      "16       Yeoman   3475.0     1735.0     1341.0   5.94     5.46     3.39     6565.79           12   547.149167            2.440\n",
      "17  None Listed      NaN        NaN        NaN    NaN      NaN      NaN  1359279.08          512  2654.841953              NaN\n"
     ]
    }
   ],
   "source": [
    "#final total debt held by people w/ no job listed\n",
    "occs_and_debt = pd.read_excel(r\"C:\\Users\\david\\OneDrive\\Documents\\GitHub\\SPEOC-pt-1\\Data\\Post1790\\CT\\CT_post1790_CD_ledger.xlsx\",\n",
    "                             header=13, usecols='L, N, O, AD, AE, AT, AU') #occupations plus continental debt for conneticut\n",
    "no_occ = occs_and_debt[occs_and_debt['Occupation'].isna()]\n",
    "num_of_people = len(no_occ)\n",
    "no_occ = no_occ.reset_index(drop=True)\n",
    "no_occ[['Cents', 'Cents.1', 'Cents.2']] = no_occ[['Cents', 'Cents.1', 'Cents.2']].div(100)\n",
    "total_series = no_occ[['Dollar', 'Dollar.1', 'Dollar.2', 'Cents', 'Cents.1', 'Cents.2']].sum(axis=1)\n",
    "total = total_series.sum()\n",
    "\n",
    "occs_debt_wo_dups = occs_debt_wo_dups.append({'Occupation': 'None Listed', 'Total': total, '# of People': num_of_people, 'Average': total / num_of_people}, ignore_index=True)\n",
    "print(occs_debt_wo_dups.to_string())"
   ]
  },
  {
   "cell_type": "code",
   "execution_count": 25,
   "id": "96dadf84",
   "metadata": {},
   "outputs": [],
   "source": [
    "occs_debt_wo_dups[['Occupation', 'Total', '# of People', 'Average', '% of Total Debt']].to_excel(\"./FinishedSpreadsheets/occupation_debt_\" + state + \".xlsx\")"
   ]
  },
  {
   "cell_type": "code",
   "execution_count": null,
   "id": "4f6cc72a",
   "metadata": {},
   "outputs": [],
   "source": []
  }
 ],
 "metadata": {
  "kernelspec": {
   "display_name": "Python 3 (ipykernel)",
   "language": "python",
   "name": "python3"
  },
  "language_info": {
   "codemirror_mode": {
    "name": "ipython",
    "version": 3
   },
   "file_extension": ".py",
   "mimetype": "text/x-python",
   "name": "python",
   "nbconvert_exporter": "python",
   "pygments_lexer": "ipython3",
   "version": "3.7.9"
  }
 },
 "nbformat": 4,
 "nbformat_minor": 5
}
