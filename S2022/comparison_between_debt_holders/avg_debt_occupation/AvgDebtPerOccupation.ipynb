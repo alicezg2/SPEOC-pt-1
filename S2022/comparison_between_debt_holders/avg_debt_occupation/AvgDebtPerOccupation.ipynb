{
 "cells": [
  {
   "cell_type": "code",
   "execution_count": 1571,
   "id": "f83c33f1",
   "metadata": {
    "pycharm": {
     "name": "#%%\n"
    }
   },
   "outputs": [],
   "source": [
    "#Import libraries.\n",
    "import pandas as pd\n",
    "import numpy as np\n",
    "import matplotlib.pyplot as plt\n",
    "import rapidfuzz\n",
    "import difflib\n",
    "from nltk.corpus import stopwords\n",
    "from yake import KeywordExtractor"
   ]
  },
  {
   "cell_type": "code",
   "execution_count": 1572,
   "id": "f31339cf",
   "metadata": {
    "pycharm": {
     "name": "#%%\n"
    }
   },
   "outputs": [
    {
     "name": "stdout",
     "output_type": "stream",
     "text": [
      "['i', 'me', 'my', 'myself', 'we', 'our', 'ours', 'ourselves', 'you', \"you're\", \"you've\", \"you'll\", \"you'd\", 'your', 'yours', 'yourself', 'yourselves', 'he', 'him', 'his', 'himself', 'she', \"she's\", 'her', 'hers', 'herself', 'it', \"it's\", 'its', 'itself', 'they', 'them', 'their', 'theirs', 'themselves', 'what', 'which', 'who', 'whom', 'this', 'that', \"that'll\", 'these', 'those', 'am', 'is', 'are', 'was', 'were', 'be', 'been', 'being', 'have', 'has', 'had', 'having', 'do', 'does', 'did', 'doing', 'a', 'an', 'the', 'and', 'but', 'if', 'or', 'because', 'as', 'until', 'while', 'of', 'at', 'by', 'for', 'with', 'about', 'against', 'between', 'into', 'through', 'during', 'before', 'after', 'above', 'below', 'to', 'from', 'up', 'down', 'in', 'out', 'on', 'off', 'over', 'under', 'again', 'further', 'then', 'once', 'here', 'there', 'when', 'where', 'why', 'how', 'all', 'any', 'both', 'each', 'few', 'more', 'most', 'other', 'some', 'such', 'no', 'nor', 'not', 'only', 'own', 'same', 'so', 'than', 'too', 'very', 's', 't', 'can', 'will', 'just', 'don', \"don't\", 'should', \"should've\", 'now', 'd', 'll', 'm', 'o', 're', 've', 'y', 'ain', 'aren', \"aren't\", 'couldn', \"couldn't\", 'didn', \"didn't\", 'doesn', \"doesn't\", 'hadn', \"hadn't\", 'hasn', \"hasn't\", 'haven', \"haven't\", 'isn', \"isn't\", 'ma', 'mightn', \"mightn't\", 'mustn', \"mustn't\", 'needn', \"needn't\", 'shan', \"shan't\", 'shouldn', \"shouldn't\", 'wasn', \"wasn't\", 'weren', \"weren't\", 'won', \"won't\", 'wouldn', \"wouldn't\"]\n"
     ]
    }
   ],
   "source": [
    "Stops = stopwords.words('english') #Returns all stopwords in the English language. \n",
    "print(Stops)"
   ]
  },
  {
   "cell_type": "markdown",
   "id": "232a048d",
   "metadata": {
    "pycharm": {
     "name": "#%% md\n"
    }
   },
   "source": [
    "# Conneticut"
   ]
  },
  {
   "cell_type": "code",
   "execution_count": 1573,
   "id": "1b5a183c",
   "metadata": {
    "pycharm": {
     "name": "#%%\n"
    }
   },
   "outputs": [
    {
     "name": "stdout",
     "output_type": "stream",
     "text": [
      "     6p_Dollar  6p_Cents  6p_def_Dollar  6p_def_Cents  3p_Dollar  3p_Cents  \\\n",
      "0       1064.0      75.0          532.0          37.0      508.0      51.0   \n",
      "1        449.0      96.0          224.0          97.0      232.0      10.0   \n",
      "2        196.0      75.0           98.0          37.0      172.0      24.0   \n",
      "3         53.0      58.0           26.0          79.0       67.0       6.0   \n",
      "4        121.0      22.0           60.0          61.0       32.0      72.0   \n",
      "..         ...       ...            ...           ...        ...       ...   \n",
      "478       39.0      11.0           19.0          55.0       14.0       7.0   \n",
      "479       13.0      21.0            6.0          61.0        4.0      74.0   \n",
      "480      533.0      34.0          266.0          66.0      446.0      66.0   \n",
      "481      658.0      47.0          329.0          23.0      558.0      50.0   \n",
      "482       12.0      22.0            6.0          11.0       11.0       NaN   \n",
      "\n",
      "           town state occupation             county name_type  6p_total  \n",
      "0      Hartford    CT   Merchant    Hartford County      town   1064.75  \n",
      "1        Bolton    CT     Farmer     Tolland County      town    449.96  \n",
      "2      Hartford    CT   Merchant    Hartford County      town    196.75  \n",
      "3      Hartford    CT   Merchant    Hartford County      town     53.58  \n",
      "4          Lyme    CT     Farmer  New London County      town    121.22  \n",
      "..          ...   ...        ...                ...       ...       ...  \n",
      "478  Middletown    CT     Yeoman   Middlesex County      town     39.11  \n",
      "479  Middletown    CT     Yeoman   Middlesex County      town     13.21  \n",
      "480     Norwich    CT   Merchant  New London County      town    533.34  \n",
      "481     Norwich    CT   Merchant  New London County      town    658.47  \n",
      "482     Ashford    CT     Yeoman     Windham County      town     12.22  \n",
      "\n",
      "[483 rows x 12 columns]\n"
     ]
    }
   ],
   "source": [
    "State = 'CT'\n",
    "AllOccs = pd.read_csv('../../../Data/Post1790/aggregated_CD_noname.csv') #Returns aggregated CSV file. \n",
    "AllOccs.drop(columns=['Unnamed: 0'], inplace=True) #Drop duplicate index column which appears.\n",
    "AllOccsCT = AllOccs[AllOccs['state'] == State] #Separate rows by state\n",
    "AllOccsCT = AllOccsCT.dropna(subset=['occupation']).reset_index(drop=True) #Drop any rows w/o an occupation listed. \n",
    "print(AllOccsCT)"
   ]
  },
  {
   "cell_type": "code",
   "execution_count": 1574,
   "id": "64212276",
   "metadata": {
    "pycharm": {
     "name": "#%%\n"
    }
   },
   "outputs": [
    {
     "name": "stdout",
     "output_type": "stream",
     "text": [
      "                                                           occupation  6p_total\n",
      "0                                   Adminastrator of the Asa Waterman    218.47\n",
      "1                                      Adminastrator to David Fellows      0.00\n",
      "2   Adminastrator to the Estate of Epaphras Bull of Hartford Deceased     61.30\n",
      "3                        Adminastrator to the Estate of Samuel Tilley     94.67\n",
      "4            Adminastrator to the estate of Uriah Loomis Jun Deceased     73.50\n",
      "5                                          Administrator to J McCurdy   3413.72\n",
      "6                         Administrator to the estate of Daniel Unkus     54.05\n",
      "7                Adminstrator to the Estate of Ezekiel Carey Deceased     77.61\n",
      "8                  Adminstrator to the Estate of Ruth Skiffe Deceased     87.74\n",
      "9                                                          Apothecary      7.72\n",
      "10                                                           Attorney   4863.67\n",
      "11                                                    Attorney at Law   6250.93\n",
      "12                                                         Blacksmith    724.71\n",
      "13                                                             Broker    208.55\n",
      "14                                                          Carpenter    175.34\n",
      "15                                           Cashier of Hartford Bank     85.30\n",
      "16                                                           Clothier     53.33\n",
      "17                           Committee of the 1st Ecclestical Society    306.28\n",
      "18                         Committee of the 1st Society of Plainville    220.49\n",
      "19                                                             Cooper    124.76\n",
      "20                                                             Doctor    647.09\n",
      "21                                                            Esquire  13020.09\n",
      "22                           Executor to Ezra Selden of Lyme Deceased   1963.62\n",
      "23                               Executor to Stephen Johnson Deceased      6.02\n",
      "24                                 Executor to Stephen Keyes Deceased    266.67\n",
      "25                               Executor to William Nichols Deceased      4.70\n",
      "26                      Executor to the Estate of Tim Mather Deceased   1573.33\n",
      "27                 Executor to the Estate of Uriah Loomis is Deceased    614.19\n",
      "28                   Executors to the Estate of Jabez Hamlin Deceased    129.72\n",
      "29                                                             Farmer  36715.82\n",
      "30                                                          Gentleman  16624.32\n",
      "31                                                          Goldsmith      6.82\n",
      "32                                            Guardian to Betsey Coit   1020.45\n",
      "33                                                 Guardian to J Neff     58.11\n",
      "34                                           Guardian to Sally Morgan    167.06\n",
      "35                                                             Hatter    242.99\n",
      "36                                                         Inn Keeper    201.53\n",
      "37                                                             Joiner     53.33\n",
      "38                                                    Leather Dresser    666.67\n",
      "39                                                            Mariner   3831.05\n",
      "40                                                           Merchant  63745.92\n",
      "41                                                          Merchents     19.08\n",
      "42                                                             Miller     18.99\n",
      "43                                                            Molster    211.38\n",
      "44                                                          Physician   1303.46\n",
      "45                                                         Post Rider    676.91\n",
      "46                                                            Printer    204.78\n",
      "47                                                        Proprietors    276.90\n",
      "48                                                             Sadler   3524.74\n",
      "49                                                   School Committee    305.49\n",
      "50                                       School Committee 1st Society    426.04\n",
      "51                                      School Committee North Parish    108.79\n",
      "52                                     School Committee North Society    231.33\n",
      "53                                                      School Master   2213.75\n",
      "54                                                   Sherriffs Deputy    512.45\n",
      "55                                                         Shipwright    533.33\n",
      "56                                                          Shoemaker   1345.46\n",
      "57                                                  Society Committee    336.64\n",
      "58                                                  Society Treasurer    303.27\n",
      "59                                                            Soldier     78.48\n",
      "60                                                           Spinster   1731.58\n",
      "61                                                             Tanner    713.06\n",
      "62                                                             Taylor    209.81\n",
      "63                                                             Trader   9192.98\n",
      "64                                                            Traders    261.15\n",
      "65                                                          Treasurer   4523.35\n",
      "66                                  Treasurer 1st Society in Cornwall    175.27\n",
      "67                                          Treasurer Stepney Society    164.31\n",
      "68                                           Treasurer in 1st Society    282.37\n",
      "69                                       Treasurer of Preston Society   1447.26\n",
      "70                                          Treasurer of Yale College   2697.98\n",
      "71              Treasurer to the Society of Cincinnati in Connecticut   5793.34\n",
      "72                                                              Widow   6488.11\n",
      "73                                         Wife of Eliphalet Williams     63.64\n",
      "74                                                             Yeoman     64.54\n"
     ]
    }
   ],
   "source": [
    "OccsTotalsCT = AllOccsCT.groupby('occupation')['6p_total'].apply(sum).reset_index() #Combine duplicate occupations.\n",
    "print(OccsTotalsCT.to_string())"
   ]
  },
  {
   "cell_type": "code",
   "execution_count": 1575,
   "id": "b47301a1",
   "metadata": {
    "pycharm": {
     "name": "#%%\n"
    }
   },
   "outputs": [],
   "source": [
    "#Function that returns the same dataframe, but with all stopwords removed from the occupation titles. \n",
    "def RemoveStopwords(OccsTotals):\n",
    "    OccsTotals['occupation'] = OccsTotals['occupation'].apply(lambda OccName: ' '.join(word.lower() for word in OccName.split() if word not in Stops))\n",
    "    return OccsTotals "
   ]
  },
  {
   "cell_type": "code",
   "execution_count": 1576,
   "id": "621f505b",
   "metadata": {
    "pycharm": {
     "name": "#%%\n"
    }
   },
   "outputs": [
    {
     "name": "stdout",
     "output_type": "stream",
     "text": [
      "                                              occupation  6p_total\n",
      "0                             adminastrator asa waterman    218.47\n",
      "1                            adminastrator david fellows      0.00\n",
      "2   adminastrator estate epaphras bull hartford deceased     61.30\n",
      "3                     adminastrator estate samuel tilley     94.67\n",
      "4         adminastrator estate uriah loomis jun deceased     73.50\n",
      "5                                administrator j mccurdy   3413.72\n",
      "6                      administrator estate daniel unkus     54.05\n",
      "7             adminstrator estate ezekiel carey deceased     77.61\n",
      "8               adminstrator estate ruth skiffe deceased     87.74\n",
      "9                                             apothecary      7.72\n",
      "10                                              attorney   4863.67\n",
      "11                                          attorney law   6250.93\n",
      "12                                            blacksmith    724.71\n",
      "13                                                broker    208.55\n",
      "14                                             carpenter    175.34\n",
      "15                                 cashier hartford bank     85.30\n",
      "16                                              clothier     53.33\n",
      "17                     committee 1st ecclestical society    306.28\n",
      "18                      committee 1st society plainville    220.49\n",
      "19                                                cooper    124.76\n",
      "20                                                doctor    647.09\n",
      "21                                               esquire  13020.09\n",
      "22                    executor ezra selden lyme deceased   1963.62\n",
      "23                     executor stephen johnson deceased      6.02\n",
      "24                       executor stephen keyes deceased    266.67\n",
      "25                     executor william nichols deceased      4.70\n",
      "26                   executor estate tim mather deceased   1573.33\n",
      "27                 executor estate uriah loomis deceased    614.19\n",
      "28                executors estate jabez hamlin deceased    129.72\n",
      "29                                                farmer  36715.82\n",
      "30                                             gentleman  16624.32\n",
      "31                                             goldsmith      6.82\n",
      "32                                  guardian betsey coit   1020.45\n",
      "33                                       guardian j neff     58.11\n",
      "34                                 guardian sally morgan    167.06\n",
      "35                                                hatter    242.99\n",
      "36                                            inn keeper    201.53\n",
      "37                                                joiner     53.33\n",
      "38                                       leather dresser    666.67\n",
      "39                                               mariner   3831.05\n",
      "40                                              merchant  63745.92\n",
      "41                                             merchents     19.08\n",
      "42                                                miller     18.99\n",
      "43                                               molster    211.38\n",
      "44                                             physician   1303.46\n",
      "45                                            post rider    676.91\n",
      "46                                               printer    204.78\n",
      "47                                           proprietors    276.90\n",
      "48                                                sadler   3524.74\n",
      "49                                      school committee    305.49\n",
      "50                          school committee 1st society    426.04\n",
      "51                         school committee north parish    108.79\n",
      "52                        school committee north society    231.33\n",
      "53                                         school master   2213.75\n",
      "54                                      sherriffs deputy    512.45\n",
      "55                                            shipwright    533.33\n",
      "56                                             shoemaker   1345.46\n",
      "57                                     society committee    336.64\n",
      "58                                     society treasurer    303.27\n",
      "59                                               soldier     78.48\n",
      "60                                              spinster   1731.58\n",
      "61                                                tanner    713.06\n",
      "62                                                taylor    209.81\n",
      "63                                                trader   9192.98\n",
      "64                                               traders    261.15\n",
      "65                                             treasurer   4523.35\n",
      "66                        treasurer 1st society cornwall    175.27\n",
      "67                             treasurer stepney society    164.31\n",
      "68                                 treasurer 1st society    282.37\n",
      "69                             treasurer preston society   1447.26\n",
      "70                                treasurer yale college   2697.98\n",
      "71              treasurer society cincinnati connecticut   5793.34\n",
      "72                                                 widow   6488.11\n",
      "73                               wife eliphalet williams     63.64\n",
      "74                                                yeoman     64.54\n"
     ]
    }
   ],
   "source": [
    "OccsTotalsCT = RemoveStopwords(OccsTotalsCT) #Call \n",
    "print(OccsTotalsCT.to_string())"
   ]
  },
  {
   "cell_type": "code",
   "execution_count": 1577,
   "id": "f9e7f7be",
   "metadata": {
    "pycharm": {
     "name": "#%%\n"
    }
   },
   "outputs": [],
   "source": [
    "#This function will help determine how many words we can acceptably cut off from the end. \n",
    "def FindRemoveConst(Occupations):\n",
    "    TempMaxLength = 2\n",
    "    \n",
    "    print('Occupation Before --> Occupation After')\n",
    "    print('--------------------------------------')\n",
    "    print('\\n')\n",
    "    \n",
    "    for Occupation in Occupations:\n",
    "        if (len(Occupation.split()) > TempMaxLength): #If occupation has more than two words, remove last two words.\n",
    "            OccupationAfter = Occupation.rsplit(' ', Remove)[0] \n",
    "        else:\n",
    "            OccupationAfter = Occupation #Else, set them both equal to each other; nothing changes. \n",
    "        \n",
    "        print(Occupation + ' --> ' + OccupationAfter)"
   ]
  },
  {
   "cell_type": "code",
   "execution_count": 1578,
   "id": "f2417b8c",
   "metadata": {
    "pycharm": {
     "name": "#%%\n"
    }
   },
   "outputs": [
    {
     "name": "stdout",
     "output_type": "stream",
     "text": [
      "Occupation Before --> Occupation After\n",
      "--------------------------------------\n",
      "\n",
      "\n",
      "adminastrator asa waterman --> adminastrator asa\n",
      "adminastrator david fellows --> adminastrator david\n",
      "adminastrator estate epaphras bull hartford deceased --> adminastrator estate epaphras bull hartford\n",
      "adminastrator estate samuel tilley --> adminastrator estate samuel\n",
      "adminastrator estate uriah loomis jun deceased --> adminastrator estate uriah loomis jun\n",
      "administrator j mccurdy --> administrator j\n",
      "administrator estate daniel unkus --> administrator estate daniel\n",
      "adminstrator estate ezekiel carey deceased --> adminstrator estate ezekiel carey\n",
      "adminstrator estate ruth skiffe deceased --> adminstrator estate ruth skiffe\n",
      "apothecary --> apothecary\n",
      "attorney --> attorney\n",
      "attorney law --> attorney law\n",
      "blacksmith --> blacksmith\n",
      "broker --> broker\n",
      "carpenter --> carpenter\n",
      "cashier hartford bank --> cashier hartford\n",
      "clothier --> clothier\n",
      "committee 1st ecclestical society --> committee 1st ecclestical\n",
      "committee 1st society plainville --> committee 1st society\n",
      "cooper --> cooper\n",
      "doctor --> doctor\n",
      "esquire --> esquire\n",
      "executor ezra selden lyme deceased --> executor ezra selden lyme\n",
      "executor stephen johnson deceased --> executor stephen johnson\n",
      "executor stephen keyes deceased --> executor stephen keyes\n",
      "executor william nichols deceased --> executor william nichols\n",
      "executor estate tim mather deceased --> executor estate tim mather\n",
      "executor estate uriah loomis deceased --> executor estate uriah loomis\n",
      "executors estate jabez hamlin deceased --> executors estate jabez hamlin\n",
      "farmer --> farmer\n",
      "gentleman --> gentleman\n",
      "goldsmith --> goldsmith\n",
      "guardian betsey coit --> guardian betsey\n",
      "guardian j neff --> guardian j\n",
      "guardian sally morgan --> guardian sally\n",
      "hatter --> hatter\n",
      "inn keeper --> inn keeper\n",
      "joiner --> joiner\n",
      "leather dresser --> leather dresser\n",
      "mariner --> mariner\n",
      "merchant --> merchant\n",
      "merchents --> merchents\n",
      "miller --> miller\n",
      "molster --> molster\n",
      "physician --> physician\n",
      "post rider --> post rider\n",
      "printer --> printer\n",
      "proprietors --> proprietors\n",
      "sadler --> sadler\n",
      "school committee --> school committee\n",
      "school committee 1st society --> school committee 1st\n",
      "school committee north parish --> school committee north\n",
      "school committee north society --> school committee north\n",
      "school master --> school master\n",
      "sherriffs deputy --> sherriffs deputy\n",
      "shipwright --> shipwright\n",
      "shoemaker --> shoemaker\n",
      "society committee --> society committee\n",
      "society treasurer --> society treasurer\n",
      "soldier --> soldier\n",
      "spinster --> spinster\n",
      "tanner --> tanner\n",
      "taylor --> taylor\n",
      "trader --> trader\n",
      "traders --> traders\n",
      "treasurer --> treasurer\n",
      "treasurer 1st society cornwall --> treasurer 1st society\n",
      "treasurer stepney society --> treasurer stepney\n",
      "treasurer 1st society --> treasurer 1st\n",
      "treasurer preston society --> treasurer preston\n",
      "treasurer yale college --> treasurer yale\n",
      "treasurer society cincinnati connecticut --> treasurer society cincinnati\n",
      "widow --> widow\n",
      "wife eliphalet williams --> wife eliphalet\n",
      "yeoman --> yeoman\n"
     ]
    }
   ],
   "source": [
    "FindRemoveConst(OccsTotalsCT['occupation'].tolist())"
   ]
  },
  {
   "cell_type": "code",
   "execution_count": 1579,
   "id": "fbda483f",
   "metadata": {
    "pycharm": {
     "name": "#%%\n"
    }
   },
   "outputs": [],
   "source": [
    "#Declare necessary parameters for KeywordExtractor() function.\n",
    "MaxLength = 2\n",
    "Remove = 2\n",
    "language = 'en' #Set language to English.\n",
    "MaxSize = 1  #Each keyword can only be a max. length of 1.\n",
    "DupThres = 0.5 #Words can not be used repeatedly in keywords. Treat each word separately. \n",
    "KeyExtractor = KeywordExtractor(lan=language, n=MaxSize, dedupLim=DupThres, features=None) #Create KeywordExtractor object."
   ]
  },
  {
   "cell_type": "code",
   "execution_count": 1580,
   "id": "eae4c139",
   "metadata": {
    "pycharm": {
     "name": "#%%\n"
    }
   },
   "outputs": [],
   "source": [
    "#Print what the merged occupations will look like. This will help us find any exceptions. \n",
    "def PrintFutureOccupations(Occupations):    \n",
    "    print('Occupations --> Potential Cleaned Occupations')\n",
    "    print('---------------------------------------------')\n",
    "    print('\\n')\n",
    "        \n",
    "    for Occupation in Occupations:\n",
    "        if (len(Occupation.split()) > MaxLength): #If occupation has more than two words in it, remove last two words. Depends on constant. Might change. \n",
    "            Occupation = Occupation.rsplit(' ', Remove)[0]\n",
    "            \n",
    "        Keywords = KeyExtractor.extract_keywords(Occupation) #Retrieve list of keywords. \n",
    "        \n",
    "        if (len(Keywords) == 0):\n",
    "            Keywords.append((Occupation, ' '))\n",
    "                    \n",
    "        print(Occupation + ' --> ' + str(Keywords[0][0])) #Print current occupation title to hypothetical cleaned occupation title."
   ]
  },
  {
   "cell_type": "code",
   "execution_count": 1581,
   "id": "b5d57c40",
   "metadata": {
    "pycharm": {
     "name": "#%%\n"
    }
   },
   "outputs": [
    {
     "name": "stdout",
     "output_type": "stream",
     "text": [
      "Occupations --> Potential Cleaned Occupations\n",
      "---------------------------------------------\n",
      "\n",
      "\n",
      "adminastrator --> adminastrator\n",
      "adminastrator --> adminastrator\n",
      "adminastrator estate epaphras bull --> adminastrator\n",
      "adminastrator estate --> adminastrator\n",
      "adminastrator estate uriah loomis --> adminastrator\n",
      "administrator --> administrator\n",
      "administrator estate --> administrator\n",
      "adminstrator estate ezekiel --> adminstrator\n",
      "adminstrator estate ruth --> adminstrator\n",
      "apothecary --> apothecary\n",
      "attorney --> attorney\n",
      "attorney law --> attorney\n",
      "blacksmith --> blacksmith\n",
      "broker --> broker\n",
      "carpenter --> carpenter\n",
      "cashier --> cashier\n",
      "clothier --> clothier\n",
      "committee 1st --> committee\n",
      "committee 1st --> committee\n",
      "cooper --> cooper\n",
      "doctor --> doctor\n",
      "esquire --> esquire\n",
      "executor ezra selden --> executor\n",
      "executor stephen --> executor\n",
      "executor stephen --> executor\n",
      "executor william --> executor\n",
      "executor estate tim --> executor\n",
      "executor estate uriah --> executor\n",
      "executors estate jabez --> executors\n",
      "farmer --> farmer\n",
      "gentleman --> gentleman\n",
      "goldsmith --> goldsmith\n",
      "guardian --> guardian\n",
      "guardian --> guardian\n",
      "guardian --> guardian\n",
      "hatter --> hatter\n",
      "inn keeper --> inn\n",
      "joiner --> joiner\n",
      "leather dresser --> leather\n",
      "mariner --> mariner\n",
      "merchant --> merchant\n",
      "merchents --> merchents\n",
      "miller --> miller\n",
      "molster --> molster\n",
      "physician --> physician\n",
      "post rider --> post\n",
      "printer --> printer\n",
      "proprietors --> proprietors\n",
      "sadler --> sadler\n",
      "school committee --> school\n",
      "school committee --> school\n",
      "school committee --> school\n",
      "school committee --> school\n",
      "school master --> school\n",
      "sherriffs deputy --> sherriffs\n",
      "shipwright --> shipwright\n",
      "shoemaker --> shoemaker\n",
      "society committee --> society\n",
      "society treasurer --> society\n",
      "soldier --> soldier\n",
      "spinster --> spinster\n",
      "tanner --> tanner\n",
      "taylor --> taylor\n",
      "trader --> trader\n",
      "traders --> traders\n",
      "treasurer --> treasurer\n",
      "treasurer 1st --> treasurer\n",
      "treasurer --> treasurer\n",
      "treasurer --> treasurer\n",
      "treasurer --> treasurer\n",
      "treasurer --> treasurer\n",
      "treasurer society --> treasurer\n",
      "widow --> widow\n",
      "wife --> wife\n",
      "yeoman --> yeoman\n"
     ]
    }
   ],
   "source": [
    "PrintFutureOccupations(OccsTotalsCT['occupation'].tolist())"
   ]
  },
  {
   "cell_type": "code",
   "execution_count": 1582,
   "id": "d63ccff2",
   "metadata": {
    "pycharm": {
     "name": "#%%\n"
    }
   },
   "outputs": [],
   "source": [
    "ExceptionsCT = {'inn keeper' : 'inn keeper', 'leather dresser' : 'leather dresser', 'post rider' : 'post rider', \n",
    "                'school committee' : 'school committee', 'school master' : 'school master', 'society committee' : 'committee',\n",
    "               'society treasurer' : 'treasurer'}"
   ]
  },
  {
   "cell_type": "code",
   "execution_count": 1583,
   "id": "5133220c",
   "metadata": {
    "pycharm": {
     "name": "#%%\n"
    }
   },
   "outputs": [],
   "source": [
    "#Handle duplicate occupations that are spelled differently. Pass in 'occupation' column as a list. Pass in function which will do a manual check for each state (differs w/ each state). \n",
    "def MergeOccupations(OccsTotals, Exceptions):\n",
    "    Occupations = OccsTotals['occupation'].tolist() #Returns 'occupation' column as a list.    \n",
    "    Index = 0 #Keep track of index. \n",
    "    \n",
    "    for Occupation in Occupations:\n",
    "        if (len(Occupation.split()) > MaxLength): #If occupation has more than two words in it, remove last two words. Depends on constant. Might change. \n",
    "            Occupation = Occupation.rsplit(' ', Remove)[0]\n",
    "            \n",
    "        Keywords = KeyExtractor.extract_keywords(Occupation) #Retrieve list of keywords. \n",
    "        \n",
    "        if (len(Keywords) == 0):\n",
    "            Keywords.append((Occupation, ' '))\n",
    "        \n",
    "        NewOccupation = Keywords[0][0] #Get new occupation from list of keywords. Based on which keyword has the highest rating.\n",
    "                \n",
    "        if (Occupation in Exceptions): #If occupation is an exception, set new occupation. \n",
    "            NewOccupation = Exceptions[Occupation]\n",
    "    \n",
    "        OccsTotals.loc[Index, 'occupation'] = NewOccupation #Replace occupation with new occupation in dataframe.\n",
    "        \n",
    "        Index += 1 #Increment. \n",
    "    \n",
    "    print('After Cleaning')\n",
    "    print('--------------')\n",
    "    print('\\n')\n",
    "    print(OccsTotals.to_string()) #Check\n",
    "    print('\\n')\n",
    "    \n",
    "    OccsTotals = OccsTotals.groupby('occupation')['6p_total'].apply(sum).reset_index() #Combine duplicate occupations, reset index. \n",
    "    \n",
    "    print('After Removing Duplicates and Summing')\n",
    "    print('-------------------------------------')\n",
    "    print('\\n')\n",
    "    print(OccsTotals.to_string()) #Check\n",
    "    print('\\n')\n",
    "    \n",
    "    Occupations = OccsTotals['occupation'].tolist() #Reinstantiate Occupations after changing OccsTotals\n",
    "    i = 0 #Declare new index.\n",
    "    while (i < len(Occupations)): \n",
    "        j = 0 #Declare new index.\n",
    "        while (j < len(Occupations)):                \n",
    "            if (rapidfuzz.fuzz.ratio(Occupations[i], Occupations[j]) > 80) and (Occupations[i] != Occupations[j]) and ((Occupations[j] not in NoMerge) and (Occupations[i] not in NoMerge))  : #Use fuzzy string matching to determine whether two occupations are the same or not.               \n",
    "                Total = float(OccsTotals.loc[j, '6p_total']) #Get total from duplicate occupation.\n",
    "                OccsTotals.loc[i, '6p_total'] += Total #Merge totals together.\n",
    "                OccsTotals.drop(j, inplace=True) #Remove duplicate occupation.\n",
    "                OccsTotals = OccsTotals.reset_index(drop=True) #Reset index.\n",
    "                \n",
    "                print('Removed: ' + Occupations[j] + ' --> ' + Occupations[i])\n",
    "                \n",
    "                Occupations.remove(Occupations[j]) #Remove from list of occupations so loop will not iterate over it again.\n",
    "            else:\n",
    "                j += 1\n",
    "                \n",
    "        i += 1\n",
    "    \n",
    "    print('\\n')\n",
    "    print('After Using Fuzzy String Matching')\n",
    "    print('---------------------------------')\n",
    "    print('\\n')\n",
    "    print(OccsTotals.to_string())\n",
    "    print('\\n')\n",
    "    \n",
    "    return OccsTotals\n",
    "        "
   ]
  },
  {
   "cell_type": "code",
   "execution_count": 1584,
   "id": "dffc9c72",
   "metadata": {
    "scrolled": false,
    "pycharm": {
     "name": "#%%\n"
    }
   },
   "outputs": [
    {
     "name": "stdout",
     "output_type": "stream",
     "text": [
      "After Cleaning\n",
      "--------------\n",
      "\n",
      "\n",
      "          occupation  6p_total\n",
      "0      adminastrator    218.47\n",
      "1      adminastrator      0.00\n",
      "2      adminastrator     61.30\n",
      "3      adminastrator     94.67\n",
      "4      adminastrator     73.50\n",
      "5      administrator   3413.72\n",
      "6      administrator     54.05\n",
      "7       adminstrator     77.61\n",
      "8       adminstrator     87.74\n",
      "9         apothecary      7.72\n",
      "10          attorney   4863.67\n",
      "11          attorney   6250.93\n",
      "12        blacksmith    724.71\n",
      "13            broker    208.55\n",
      "14         carpenter    175.34\n",
      "15           cashier     85.30\n",
      "16          clothier     53.33\n",
      "17         committee    306.28\n",
      "18         committee    220.49\n",
      "19            cooper    124.76\n",
      "20            doctor    647.09\n",
      "21           esquire  13020.09\n",
      "22          executor   1963.62\n",
      "23          executor      6.02\n",
      "24          executor    266.67\n",
      "25          executor      4.70\n",
      "26          executor   1573.33\n",
      "27          executor    614.19\n",
      "28         executors    129.72\n",
      "29            farmer  36715.82\n",
      "30         gentleman  16624.32\n",
      "31         goldsmith      6.82\n",
      "32          guardian   1020.45\n",
      "33          guardian     58.11\n",
      "34          guardian    167.06\n",
      "35            hatter    242.99\n",
      "36        inn keeper    201.53\n",
      "37            joiner     53.33\n",
      "38   leather dresser    666.67\n",
      "39           mariner   3831.05\n",
      "40          merchant  63745.92\n",
      "41         merchents     19.08\n",
      "42            miller     18.99\n",
      "43           molster    211.38\n",
      "44         physician   1303.46\n",
      "45        post rider    676.91\n",
      "46           printer    204.78\n",
      "47       proprietors    276.90\n",
      "48            sadler   3524.74\n",
      "49  school committee    305.49\n",
      "50  school committee    426.04\n",
      "51  school committee    108.79\n",
      "52  school committee    231.33\n",
      "53     school master   2213.75\n",
      "54         sherriffs    512.45\n",
      "55        shipwright    533.33\n",
      "56         shoemaker   1345.46\n",
      "57         committee    336.64\n",
      "58         treasurer    303.27\n",
      "59           soldier     78.48\n",
      "60          spinster   1731.58\n",
      "61            tanner    713.06\n",
      "62            taylor    209.81\n",
      "63            trader   9192.98\n",
      "64           traders    261.15\n",
      "65         treasurer   4523.35\n",
      "66         treasurer    175.27\n",
      "67         treasurer    164.31\n",
      "68         treasurer    282.37\n",
      "69         treasurer   1447.26\n",
      "70         treasurer   2697.98\n",
      "71         treasurer   5793.34\n",
      "72             widow   6488.11\n",
      "73              wife     63.64\n",
      "74            yeoman     64.54\n",
      "\n",
      "\n",
      "After Removing Duplicates and Summing\n",
      "-------------------------------------\n",
      "\n",
      "\n",
      "          occupation  6p_total\n",
      "0      adminastrator    447.94\n",
      "1      administrator   3467.77\n",
      "2       adminstrator    165.35\n",
      "3         apothecary      7.72\n",
      "4           attorney  11114.60\n",
      "5         blacksmith    724.71\n",
      "6             broker    208.55\n",
      "7          carpenter    175.34\n",
      "8            cashier     85.30\n",
      "9           clothier     53.33\n",
      "10         committee    863.41\n",
      "11            cooper    124.76\n",
      "12            doctor    647.09\n",
      "13           esquire  13020.09\n",
      "14          executor   4428.53\n",
      "15         executors    129.72\n",
      "16            farmer  36715.82\n",
      "17         gentleman  16624.32\n",
      "18         goldsmith      6.82\n",
      "19          guardian   1245.62\n",
      "20            hatter    242.99\n",
      "21        inn keeper    201.53\n",
      "22            joiner     53.33\n",
      "23   leather dresser    666.67\n",
      "24           mariner   3831.05\n",
      "25          merchant  63745.92\n",
      "26         merchents     19.08\n",
      "27            miller     18.99\n",
      "28           molster    211.38\n",
      "29         physician   1303.46\n",
      "30        post rider    676.91\n",
      "31           printer    204.78\n",
      "32       proprietors    276.90\n",
      "33            sadler   3524.74\n",
      "34  school committee   1071.65\n",
      "35     school master   2213.75\n",
      "36         sherriffs    512.45\n",
      "37        shipwright    533.33\n",
      "38         shoemaker   1345.46\n",
      "39           soldier     78.48\n",
      "40          spinster   1731.58\n",
      "41            tanner    713.06\n",
      "42            taylor    209.81\n",
      "43            trader   9192.98\n",
      "44           traders    261.15\n",
      "45         treasurer  15387.15\n",
      "46             widow   6488.11\n",
      "47              wife     63.64\n",
      "48            yeoman     64.54\n",
      "\n",
      "\n",
      "Removed: administrator --> adminastrator\n",
      "Removed: adminstrator --> adminastrator\n",
      "Removed: executors --> executor\n",
      "Removed: merchents --> merchant\n",
      "Removed: traders --> trader\n",
      "\n",
      "\n",
      "After Using Fuzzy String Matching\n",
      "---------------------------------\n",
      "\n",
      "\n",
      "          occupation  6p_total\n",
      "0      adminastrator   4081.06\n",
      "1         apothecary      7.72\n",
      "2           attorney  11114.60\n",
      "3         blacksmith    724.71\n",
      "4             broker    208.55\n",
      "5          carpenter    175.34\n",
      "6            cashier     85.30\n",
      "7           clothier     53.33\n",
      "8          committee    863.41\n",
      "9             cooper    124.76\n",
      "10            doctor    647.09\n",
      "11           esquire  13020.09\n",
      "12          executor   4558.25\n",
      "13            farmer  36715.82\n",
      "14         gentleman  16624.32\n",
      "15         goldsmith      6.82\n",
      "16          guardian   1245.62\n",
      "17            hatter    242.99\n",
      "18        inn keeper    201.53\n",
      "19            joiner     53.33\n",
      "20   leather dresser    666.67\n",
      "21           mariner   3831.05\n",
      "22          merchant  63765.00\n",
      "23            miller     18.99\n",
      "24           molster    211.38\n",
      "25         physician   1303.46\n",
      "26        post rider    676.91\n",
      "27           printer    204.78\n",
      "28       proprietors    276.90\n",
      "29            sadler   3524.74\n",
      "30  school committee   1071.65\n",
      "31     school master   2213.75\n",
      "32         sherriffs    512.45\n",
      "33        shipwright    533.33\n",
      "34         shoemaker   1345.46\n",
      "35           soldier     78.48\n",
      "36          spinster   1731.58\n",
      "37            tanner    713.06\n",
      "38            taylor    209.81\n",
      "39            trader   9454.13\n",
      "40         treasurer  15387.15\n",
      "41             widow   6488.11\n",
      "42              wife     63.64\n",
      "43            yeoman     64.54\n",
      "\n",
      "\n"
     ]
    }
   ],
   "source": [
    "OccsTotalsCT = MergeOccupations(OccsTotalsCT, ExceptionsCT)"
   ]
  },
  {
   "cell_type": "code",
   "execution_count": 1585,
   "id": "a1c85dd0",
   "metadata": {
    "pycharm": {
     "name": "#%%\n"
    }
   },
   "outputs": [],
   "source": [
    "def TurnToExcel(DF, State):\n",
    "    DF.to_excel('./FinishedSpreadsheets/Occupations' + State + '.xlsx')"
   ]
  },
  {
   "cell_type": "code",
   "execution_count": 1586,
   "id": "2a8b5bc7",
   "metadata": {
    "pycharm": {
     "name": "#%%\n"
    }
   },
   "outputs": [],
   "source": [
    "TurnToExcel(OccsTotalsCT, State)"
   ]
  },
  {
   "cell_type": "markdown",
   "id": "6471988f",
   "metadata": {
    "pycharm": {
     "name": "#%% md\n"
    }
   },
   "source": [
    "# Georgia"
   ]
  },
  {
   "cell_type": "code",
   "execution_count": 1587,
   "id": "a96bbc32",
   "metadata": {
    "pycharm": {
     "name": "#%%\n"
    }
   },
   "outputs": [
    {
     "name": "stdout",
     "output_type": "stream",
     "text": [
      "   6p_Dollar    6p_Cents  6p_def_Dollar  6p_def_Cents  3p_Dollar  3p_Cents  \\\n",
      "0     4586.0     66.0000         2293.0       33.0000     3026.0     11.00   \n",
      "1        1.0     95.1133            1.0       47.5567        NaN      0.00   \n",
      "2        1.0     90.3000            1.0       45.1000        1.0     93.50   \n",
      "3        1.0    129.6533            1.0       64.8233        1.0    144.96   \n",
      "4        1.0    209.8633            1.0      104.9333        1.0    241.38   \n",
      "5        1.0  10108.9033            1.0     5054.4533        1.0   2729.40   \n",
      "6        1.0    114.7330            1.0       57.3330        1.0    124.45   \n",
      "7       20.0     26.1200           16.0       13.0600        NaN       NaN   \n",
      "8       37.0     18.2000           18.0        9.0900        NaN      0.00   \n",
      "9    10508.0     90.0000            NaN           NaN        NaN       NaN   \n",
      "\n",
      "               town state occupation           county name_type      6p_total  \n",
      "0  State of Georgia    GA  Gentleman              NaN     state   4586.660000  \n",
      "1          Savannah    GA   Merchant   Chatham County      town      1.951133  \n",
      "2          Savannah    GA   Merchant   Chatham County      town      1.903000  \n",
      "3          Savannah    GA  Merchants   Chatham County      town      2.296533  \n",
      "4          Savannah    GA   Merchant   Chatham County      town      3.098633  \n",
      "5           Augusta    GA        Esq  Richmond County      town    102.089033  \n",
      "6          Savannah    GA   Merchant   Chatham County      town      2.147330  \n",
      "7          Savannah    GA   Merchant   Chatham County      town     20.261200  \n",
      "8           Augusta    GA  Merchants  Richmond County      town     37.182000  \n",
      "9          Savannah    GA   Merchant   Chatham County      town  10508.900000  \n"
     ]
    }
   ],
   "source": [
    "State = 'GA'\n",
    "AllOccsGA = AllOccs[AllOccs['state'] == State] #Separate rows by state\n",
    "AllOccsGA = AllOccsGA.dropna(subset=['occupation']).reset_index(drop=True) #Drop any rows w/o an occupation listed. \n",
    "print(AllOccsGA)"
   ]
  },
  {
   "cell_type": "code",
   "execution_count": 1588,
   "id": "853ab773",
   "metadata": {
    "pycharm": {
     "name": "#%%\n"
    }
   },
   "outputs": [
    {
     "name": "stdout",
     "output_type": "stream",
     "text": [
      "  occupation      6p_total\n",
      "0        Esq    102.089033\n",
      "1  Gentleman   4586.660000\n",
      "2   Merchant  10538.261296\n",
      "3  Merchants     39.478533\n"
     ]
    }
   ],
   "source": [
    "OccsTotalsGA = AllOccsGA.groupby('occupation')['6p_total'].apply(sum).reset_index() #Combine duplicate occupations.\n",
    "print(OccsTotalsGA.to_string())"
   ]
  },
  {
   "cell_type": "code",
   "execution_count": 1589,
   "id": "2ea99c0b",
   "metadata": {
    "pycharm": {
     "name": "#%%\n"
    }
   },
   "outputs": [
    {
     "name": "stdout",
     "output_type": "stream",
     "text": [
      "  occupation      6p_total\n",
      "0        esq    102.089033\n",
      "1  gentleman   4586.660000\n",
      "2   merchant  10538.261296\n",
      "3  merchants     39.478533\n"
     ]
    }
   ],
   "source": [
    "OccsTotalsGA = RemoveStopwords(OccsTotalsGA) \n",
    "print(OccsTotalsGA.to_string())"
   ]
  },
  {
   "cell_type": "code",
   "execution_count": 1590,
   "id": "c7250337",
   "metadata": {
    "pycharm": {
     "name": "#%%\n"
    }
   },
   "outputs": [
    {
     "name": "stdout",
     "output_type": "stream",
     "text": [
      "Occupation Before --> Occupation After\n",
      "--------------------------------------\n",
      "\n",
      "\n",
      "esq --> esq\n",
      "gentleman --> gentleman\n",
      "merchant --> merchant\n",
      "merchants --> merchants\n"
     ]
    }
   ],
   "source": [
    "FindRemoveConst(OccsTotalsGA['occupation'].tolist())"
   ]
  },
  {
   "cell_type": "code",
   "execution_count": 1591,
   "id": "bbcaedee",
   "metadata": {
    "pycharm": {
     "name": "#%%\n"
    }
   },
   "outputs": [],
   "source": [
    "ExceptionsGA = {}"
   ]
  },
  {
   "cell_type": "code",
   "execution_count": 1592,
   "id": "2118797a",
   "metadata": {
    "pycharm": {
     "name": "#%%\n"
    }
   },
   "outputs": [
    {
     "name": "stdout",
     "output_type": "stream",
     "text": [
      "After Cleaning\n",
      "--------------\n",
      "\n",
      "\n",
      "  occupation      6p_total\n",
      "0        esq    102.089033\n",
      "1  gentleman   4586.660000\n",
      "2   merchant  10538.261296\n",
      "3  merchants     39.478533\n",
      "\n",
      "\n",
      "After Removing Duplicates and Summing\n",
      "-------------------------------------\n",
      "\n",
      "\n",
      "  occupation      6p_total\n",
      "0        esq    102.089033\n",
      "1  gentleman   4586.660000\n",
      "2   merchant  10538.261296\n",
      "3  merchants     39.478533\n",
      "\n",
      "\n",
      "Removed: merchants --> merchant\n",
      "\n",
      "\n",
      "After Using Fuzzy String Matching\n",
      "---------------------------------\n",
      "\n",
      "\n",
      "  occupation      6p_total\n",
      "0        esq    102.089033\n",
      "1  gentleman   4586.660000\n",
      "2   merchant  10577.739829\n",
      "\n",
      "\n"
     ]
    }
   ],
   "source": [
    "OccsTotalsGA = MergeOccupations(OccsTotalsGA, ExceptionsGA)"
   ]
  },
  {
   "cell_type": "code",
   "execution_count": 1593,
   "id": "4296f136",
   "metadata": {
    "pycharm": {
     "name": "#%%\n"
    }
   },
   "outputs": [],
   "source": [
    "TurnToExcel(OccsTotalsGA, State)"
   ]
  },
  {
   "cell_type": "markdown",
   "id": "5c6f3867",
   "metadata": {
    "pycharm": {
     "name": "#%% md\n"
    }
   },
   "source": [
    "# Maryland"
   ]
  },
  {
   "cell_type": "code",
   "execution_count": 1594,
   "id": "310b01f1",
   "metadata": {
    "scrolled": true,
    "pycharm": {
     "name": "#%%\n"
    }
   },
   "outputs": [
    {
     "name": "stdout",
     "output_type": "stream",
     "text": [
      "    6p_Dollar  6p_Cents  6p_def_Dollar  6p_def_Cents  3p_Dollar  3p_Cents  \\\n",
      "0        17.0   66.5733           13.0       33.2833       14.0      76.4   \n",
      "1     26745.0   77.0000        13372.0       88.0000    50000.0      51.0   \n",
      "2      1243.0   42.0000          621.0       71.0000     1796.0      44.0   \n",
      "3       117.0   90.0000           58.0       94.0000      113.0      53.0   \n",
      "4       141.0    3.0000           70.0       51.0000      375.0      32.0   \n",
      "5        40.0   81.0000           20.0       40.0000       40.0      79.0   \n",
      "6       789.0   24.0000          394.0       61.0000        NaN       NaN   \n",
      "7       812.0   33.0000          406.0       16.0000      999.0      45.0   \n",
      "8       341.0    8.0000          170.0       53.0000      265.0      47.0   \n",
      "9      1122.0   48.0000          561.0       24.0000      761.0      65.0   \n",
      "10     1926.0   70.0000          963.0       35.0000      696.0      98.0   \n",
      "11     3120.0   91.0000         1560.0       45.0000     2499.0      70.0   \n",
      "12       61.0   94.0000           30.0       97.0000        NaN       NaN   \n",
      "13      946.0   41.0000          473.0       20.0000      816.0       4.0   \n",
      "14      114.0   59.0000           57.0       29.0000      113.0       1.0   \n",
      "15     6565.0   31.0000         3282.0       65.0000     1775.0      40.0   \n",
      "16      208.0   81.0000          104.0       40.0000        NaN       NaN   \n",
      "17     2300.0       NaN         1150.0           NaN     5607.0      90.0   \n",
      "18       22.0   50.0000           11.0       24.0000       17.0      62.0   \n",
      "19      504.0   28.0000          252.0       13.0000      554.0       6.0   \n",
      "20      230.0   65.0000          115.0       32.0000      239.0      30.0   \n",
      "21    21854.0   30.0000        10927.0       14.0000    25213.0      72.0   \n",
      "22      272.0   48.0000          136.0       24.0000      278.0      11.0   \n",
      "23      221.0   46.0000          110.0       72.0000      114.0      73.0   \n",
      "24     1503.0   32.0000            NaN           NaN     1119.0      53.0   \n",
      "25     3128.0   30.0000         1564.0       15.0000     1605.0      60.0   \n",
      "26     1085.0   24.0000          542.0       62.0000     1321.0      25.0   \n",
      "27      362.0   91.0000          181.0       43.0000      225.0      10.0   \n",
      "28       82.0   55.0000           41.0       28.0000       22.0      28.0   \n",
      "29       95.0   62.0000           47.0       81.0000       62.0      44.0   \n",
      "30        NaN       NaN            NaN           NaN       66.0      34.0   \n",
      "31      233.0   70.0000          116.0       85.0000      347.0      33.0   \n",
      "32      184.0   89.0000           92.0       44.0000      131.0       7.0   \n",
      "33       44.0   84.0000           22.0       42.0000       43.0      95.0   \n",
      "34      902.0   47.0000          451.0       23.0000      164.0      61.0   \n",
      "35        NaN       NaN            NaN           NaN      934.0      28.0   \n",
      "36        NaN       NaN            NaN           NaN      407.0      85.0   \n",
      "37        NaN       NaN            NaN           NaN     5849.0       6.0   \n",
      "38        NaN       NaN            NaN           NaN      168.0      52.0   \n",
      "39       75.0       NaN           37.0       50.0000       71.0      52.0   \n",
      "40      139.0   42.0000           69.0       71.0000       48.0      96.0   \n",
      "41     2138.0   94.0000         1069.0       47.0000     1418.0      11.0   \n",
      "42      206.0   66.0000            NaN           NaN      145.0      69.0   \n",
      "43        NaN       NaN            NaN           NaN    15000.0       NaN   \n",
      "44      715.0       NaN          357.0       51.0000      135.0      74.0   \n",
      "45        NaN       NaN            NaN           NaN     6973.0      81.0   \n",
      "46      102.0   74.0000           51.0       37.0000       78.0      33.0   \n",
      "47      511.0   78.0000          255.0       89.0000      314.0      45.0   \n",
      "48      214.0   40.0000          107.0       20.0000       63.0      50.0   \n",
      "49       25.0   28.0000           12.0       65.0000       88.0       NaN   \n",
      "50      193.0   57.0000           96.0       78.0000      181.0       NaN   \n",
      "51        NaN       NaN            NaN           NaN     5758.0      26.0   \n",
      "52     1330.0   16.0000            NaN           NaN        NaN       NaN   \n",
      "53       58.0   76.0000           29.0       38.0000       64.0      17.0   \n",
      "54      206.0   67.0000          103.0       33.0000       55.0      80.0   \n",
      "55       33.0   33.0000           16.0       67.0000       31.0      67.0   \n",
      "56      124.0   33.0000           62.0       17.0000      118.0      41.0   \n",
      "\n",
      "                     town state                       occupation  \\\n",
      "0               Baltimore    MD                              Esq   \n",
      "1             George Town    MD                        Merchants   \n",
      "2               Baltimore    MD                         Merchant   \n",
      "3               Baltimore    MD       Executor of Thomas Sollars   \n",
      "4        Baltimore County    MD       Executor of Sabret Sollars   \n",
      "5          Baltimore Town    MD                         Merchant   \n",
      "6               Baltimore    MD                         Merchant   \n",
      "7               Baltimore    MD                         Merchant   \n",
      "8             Bladensburg    MD                         Merchant   \n",
      "9               Annapolis    MD                        Shoemaker   \n",
      "10              Baltimore    MD                         Merchant   \n",
      "11            George Town    MD                         Merchant   \n",
      "12              Baltimore    MD                         Merchant   \n",
      "13       Baltimore County    MD                         Merchant   \n",
      "14              Annapolis    MD                        Shoemaker   \n",
      "15         Baltimore Town    MD                         Merchant   \n",
      "16              Baltimore    MD                         Merchant   \n",
      "17              Annapolis    MD                         Merchant   \n",
      "18              Annapolis    MD    Administrator of John Johnson   \n",
      "19              Annapolis    MD                         Merchant   \n",
      "20              Annapolis    MD                         Merchant   \n",
      "21            George Town    MD                         Merchant   \n",
      "22              Baltimore    MD                         Merchant   \n",
      "23              Baltimore    MD                         Merchant   \n",
      "24              Baltimore    MD                         Merchant   \n",
      "25            George Town    MD                        Merchants   \n",
      "26         Baltimore Town    MD                         Merchant   \n",
      "27       Baltimore County    MD                         Merchant   \n",
      "28              Annapolis    MD                         Merchant   \n",
      "29              Annapolis    MD                         Merchant   \n",
      "30              Annapolis    MD                         Merchant   \n",
      "31              Baltimore    MD                         Merchant   \n",
      "32              Baltimore    MD                         Merchant   \n",
      "33         Harford County    MD           Executor of Moses Ruth   \n",
      "34              Baltimore    MD                         Merchant   \n",
      "35            George Town    MD                         Merchant   \n",
      "36       Baltimore County    MD                         Merchant   \n",
      "37       Baltimore County    MD                         Merchant   \n",
      "38              Baltimore    MD                         Merchant   \n",
      "39  Prince Georges County    MD  Adminstrator of Robert Whitaker   \n",
      "40              Baltimore    MD                         Merchant   \n",
      "41              Baltimore    MD                         Merchant   \n",
      "42              Annapolis    MD                         Merchant   \n",
      "43              Baltimore    MD                         Merchant   \n",
      "44              Baltimore    MD                         Merchant   \n",
      "45              Baltimore    MD                         Merchant   \n",
      "46              Annapolis    MD                         Merchant   \n",
      "47              Baltimore    MD                         Merchant   \n",
      "48              Baltimore    MD                         Merchant   \n",
      "49              Baltimore    MD                         Merchant   \n",
      "50              Annapolis    MD                         Merchant   \n",
      "51              Annapolis    MD                         Merchant   \n",
      "52              Baltimore    MD                         Merchant   \n",
      "53         Baltimore Town    MD                         Merchant   \n",
      "54   Fredrick Co Maryland    MD                Frederick Company   \n",
      "55               Maryland    MD                       Shopkeeper   \n",
      "56               Maryland    MD                         Merchant   \n",
      "\n",
      "                   county name_type      6p_total  \n",
      "0        Baltimore County      town     17.665733  \n",
      "1            Cecil County      town  26745.770000  \n",
      "2        Baltimore County      town   1243.420000  \n",
      "3        Baltimore County      town    117.900000  \n",
      "4        Baltimore County    county    141.030000  \n",
      "5        Baltimore County      town     40.810000  \n",
      "6        Baltimore County      town    789.240000  \n",
      "7        Baltimore County      town    812.330000  \n",
      "8   Prince Georges County      town    341.080000  \n",
      "9     Anne Arundel County      town   1122.480000  \n",
      "10       Baltimore County      town   1926.700000  \n",
      "11           Cecil County      town   3120.910000  \n",
      "12       Baltimore County      town     61.940000  \n",
      "13       Baltimore County    county    946.410000  \n",
      "14    Anne Arundel County      town    114.590000  \n",
      "15       Baltimore County      town   6565.310000  \n",
      "16       Baltimore County      town    208.810000  \n",
      "17    Anne Arundel County      town           NaN  \n",
      "18    Anne Arundel County      town     22.500000  \n",
      "19    Anne Arundel County      town    504.280000  \n",
      "20    Anne Arundel County      town    230.650000  \n",
      "21           Cecil County      town  21854.300000  \n",
      "22       Baltimore County      town    272.480000  \n",
      "23       Baltimore County      town    221.460000  \n",
      "24       Baltimore County      town   1503.320000  \n",
      "25           Cecil County      town   3128.300000  \n",
      "26       Baltimore County      town   1085.240000  \n",
      "27       Baltimore County    county    362.910000  \n",
      "28    Anne Arundel County      town     82.550000  \n",
      "29    Anne Arundel County      town     95.620000  \n",
      "30    Anne Arundel County      town           NaN  \n",
      "31       Baltimore County      town    233.700000  \n",
      "32       Baltimore County      town    184.890000  \n",
      "33         Harford County    county     44.840000  \n",
      "34       Baltimore County      town    902.470000  \n",
      "35           Cecil County      town           NaN  \n",
      "36       Baltimore County    county           NaN  \n",
      "37       Baltimore County    county           NaN  \n",
      "38       Baltimore County      town           NaN  \n",
      "39  Prince Georges County    county           NaN  \n",
      "40       Baltimore County      town    139.420000  \n",
      "41       Baltimore County      town   2138.940000  \n",
      "42    Anne Arundel County      town    206.660000  \n",
      "43       Baltimore County      town           NaN  \n",
      "44       Baltimore County      town           NaN  \n",
      "45       Baltimore County      town           NaN  \n",
      "46    Anne Arundel County      town    102.740000  \n",
      "47       Baltimore County      town    511.780000  \n",
      "48       Baltimore County      town    214.400000  \n",
      "49       Baltimore County      town     25.280000  \n",
      "50    Anne Arundel County      town    193.570000  \n",
      "51    Anne Arundel County      town           NaN  \n",
      "52       Baltimore County      town   1330.160000  \n",
      "53       Baltimore County      town     58.760000  \n",
      "54       Frederick County    county    206.670000  \n",
      "55                    NaN     state     33.330000  \n",
      "56                    NaN     state    124.330000  \n"
     ]
    }
   ],
   "source": [
    "State = 'MD'\n",
    "AllOccsMD = AllOccs[AllOccs['state'] == State] #Separate rows by state\n",
    "AllOccsMD = AllOccsMD.dropna(subset=['occupation']).reset_index(drop=True) #Drop any rows w/o an occupation listed. \n",
    "print(AllOccsMD)"
   ]
  },
  {
   "cell_type": "code",
   "execution_count": 1595,
   "id": "45d5e94e",
   "metadata": {
    "pycharm": {
     "name": "#%%\n"
    }
   },
   "outputs": [
    {
     "name": "stdout",
     "output_type": "stream",
     "text": [
      "                         occupation      6p_total\n",
      "0     Administrator of John Johnson     22.500000\n",
      "1   Adminstrator of Robert Whitaker      0.000000\n",
      "2                               Esq     17.665733\n",
      "3            Executor of Moses Ruth     44.840000\n",
      "4        Executor of Sabret Sollars    141.030000\n",
      "5        Executor of Thomas Sollars    117.900000\n",
      "6                 Frederick Company    206.670000\n",
      "7                          Merchant  48636.870000\n",
      "8                         Merchants  29874.070000\n",
      "9                         Shoemaker   1237.070000\n",
      "10                       Shopkeeper     33.330000\n"
     ]
    }
   ],
   "source": [
    "OccsTotalsMD = AllOccsMD.groupby('occupation')['6p_total'].apply(sum).reset_index() #Combine duplicate occupations.\n",
    "print(OccsTotalsMD.to_string())"
   ]
  },
  {
   "cell_type": "code",
   "execution_count": 1596,
   "id": "5a36cdfa",
   "metadata": {
    "pycharm": {
     "name": "#%%\n"
    }
   },
   "outputs": [
    {
     "name": "stdout",
     "output_type": "stream",
     "text": [
      "                      occupation      6p_total\n",
      "0     administrator john johnson     22.500000\n",
      "1   adminstrator robert whitaker      0.000000\n",
      "2                            esq     17.665733\n",
      "3            executor moses ruth     44.840000\n",
      "4        executor sabret sollars    141.030000\n",
      "5        executor thomas sollars    117.900000\n",
      "6              frederick company    206.670000\n",
      "7                       merchant  48636.870000\n",
      "8                      merchants  29874.070000\n",
      "9                      shoemaker   1237.070000\n",
      "10                    shopkeeper     33.330000\n"
     ]
    }
   ],
   "source": [
    "OccsTotalsMD = RemoveStopwords(OccsTotalsMD) \n",
    "print(OccsTotalsMD.to_string())"
   ]
  },
  {
   "cell_type": "code",
   "execution_count": 1597,
   "id": "074e9cc1",
   "metadata": {
    "pycharm": {
     "name": "#%%\n"
    }
   },
   "outputs": [
    {
     "name": "stdout",
     "output_type": "stream",
     "text": [
      "Occupation Before --> Occupation After\n",
      "--------------------------------------\n",
      "\n",
      "\n",
      "administrator john johnson --> administrator\n",
      "adminstrator robert whitaker --> adminstrator\n",
      "esq --> esq\n",
      "executor moses ruth --> executor\n",
      "executor sabret sollars --> executor\n",
      "executor thomas sollars --> executor\n",
      "frederick company --> frederick company\n",
      "merchant --> merchant\n",
      "merchants --> merchants\n",
      "shoemaker --> shoemaker\n",
      "shopkeeper --> shopkeeper\n"
     ]
    }
   ],
   "source": [
    "FindRemoveConst(OccsTotalsMD['occupation'].tolist())"
   ]
  },
  {
   "cell_type": "code",
   "execution_count": 1598,
   "id": "76676ae4",
   "metadata": {
    "pycharm": {
     "name": "#%%\n"
    }
   },
   "outputs": [
    {
     "name": "stdout",
     "output_type": "stream",
     "text": [
      "Occupations --> Potential Cleaned Occupations\n",
      "---------------------------------------------\n",
      "\n",
      "\n",
      "administrator --> administrator\n",
      "adminstrator --> adminstrator\n",
      "esq --> esq\n",
      "executor --> executor\n",
      "executor --> executor\n",
      "executor --> executor\n",
      "frederick company --> frederick\n",
      "merchant --> merchant\n",
      "merchants --> merchants\n",
      "shoemaker --> shoemaker\n",
      "shopkeeper --> shopkeeper\n"
     ]
    }
   ],
   "source": [
    "PrintFutureOccupations(OccsTotalsMD['occupation'].tolist())"
   ]
  },
  {
   "cell_type": "code",
   "execution_count": 1599,
   "id": "02efc268",
   "metadata": {
    "pycharm": {
     "name": "#%%\n"
    }
   },
   "outputs": [],
   "source": [
    "ExceptionsMD = {'frederick company' : 'company'}"
   ]
  },
  {
   "cell_type": "code",
   "execution_count": 1600,
   "id": "5d307ae3",
   "metadata": {
    "pycharm": {
     "name": "#%%\n"
    }
   },
   "outputs": [
    {
     "name": "stdout",
     "output_type": "stream",
     "text": [
      "After Cleaning\n",
      "--------------\n",
      "\n",
      "\n",
      "       occupation      6p_total\n",
      "0   administrator     22.500000\n",
      "1    adminstrator      0.000000\n",
      "2             esq     17.665733\n",
      "3        executor     44.840000\n",
      "4        executor    141.030000\n",
      "5        executor    117.900000\n",
      "6         company    206.670000\n",
      "7        merchant  48636.870000\n",
      "8       merchants  29874.070000\n",
      "9       shoemaker   1237.070000\n",
      "10     shopkeeper     33.330000\n",
      "\n",
      "\n",
      "After Removing Duplicates and Summing\n",
      "-------------------------------------\n",
      "\n",
      "\n",
      "      occupation      6p_total\n",
      "0  administrator     22.500000\n",
      "1   adminstrator      0.000000\n",
      "2        company    206.670000\n",
      "3            esq     17.665733\n",
      "4       executor    303.770000\n",
      "5       merchant  48636.870000\n",
      "6      merchants  29874.070000\n",
      "7      shoemaker   1237.070000\n",
      "8     shopkeeper     33.330000\n",
      "\n",
      "\n",
      "Removed: adminstrator --> administrator\n",
      "Removed: merchants --> merchant\n",
      "\n",
      "\n",
      "After Using Fuzzy String Matching\n",
      "---------------------------------\n",
      "\n",
      "\n",
      "      occupation      6p_total\n",
      "0  administrator     22.500000\n",
      "1        company    206.670000\n",
      "2            esq     17.665733\n",
      "3       executor    303.770000\n",
      "4       merchant  78510.940000\n",
      "5      shoemaker   1237.070000\n",
      "6     shopkeeper     33.330000\n",
      "\n",
      "\n"
     ]
    }
   ],
   "source": [
    "OccsTotalsMD = MergeOccupations(OccsTotalsMD, ExceptionsMD)"
   ]
  },
  {
   "cell_type": "code",
   "execution_count": 1601,
   "id": "29c3885d",
   "metadata": {
    "pycharm": {
     "name": "#%%\n"
    }
   },
   "outputs": [],
   "source": [
    "TurnToExcel(OccsTotalsMD, State)"
   ]
  },
  {
   "cell_type": "markdown",
   "id": "085f8303",
   "metadata": {
    "pycharm": {
     "name": "#%% md\n"
    }
   },
   "source": [
    "# North Carolina"
   ]
  },
  {
   "cell_type": "code",
   "execution_count": 1602,
   "id": "2aadaaef",
   "metadata": {
    "scrolled": true,
    "pycharm": {
     "name": "#%%\n"
    }
   },
   "outputs": [
    {
     "name": "stdout",
     "output_type": "stream",
     "text": [
      "    6p_Dollar  6p_Cents  6p_def_Dollar  6p_def_Cents  3p_Dollar  3p_Cents  \\\n",
      "0        85.0      25.0           42.0          62.0       41.0      82.0   \n",
      "1      2008.0      37.0         1004.0          18.0     1324.0      76.0   \n",
      "2        48.0      50.0           24.0          25.0        NaN       NaN   \n",
      "3       176.0       NaN           88.0           NaN      150.0      67.0   \n",
      "4     12283.0      44.0         6141.0          71.0    10781.0      94.0   \n",
      "5        41.0      26.0           20.0          64.0       15.0      83.0   \n",
      "6       206.0       8.0          103.0           5.0       50.0      69.0   \n",
      "7       228.0      12.0          114.0           6.0      157.0      80.0   \n",
      "8       252.0      32.0          126.0          16.0        NaN       NaN   \n",
      "9      4780.0      84.0         2390.0          41.0     4998.0      96.0   \n",
      "10        0.0       0.0          892.0          66.0     1339.0       NaN   \n",
      "11       62.0      51.0           31.0          26.0        NaN       NaN   \n",
      "\n",
      "              town state                   occupation          county  \\\n",
      "0     Wayne County    NC                     Merchant    Wayne County   \n",
      "1          Newbern    NC            Doctors of Physic   Craven County   \n",
      "2         Halifax     NC                    Merchants  Halifax County   \n",
      "3          Edenton    NC                    Merchants   Chowan County   \n",
      "4   North Carolina    NC                    Treasurer             NaN   \n",
      "5     Hillsborough    NC                     Merchant   Orange County   \n",
      "6          Newbern    NC                     Merchant   Craven County   \n",
      "7          Newbern    NC                     Merchant   Craven County   \n",
      "8          Newbern    NC                     Merchant   Craven County   \n",
      "9              NaN    NC  The State of North Carolina             NaN   \n",
      "10  North Carolina    NC      Asse of John B Ashe Exe             NaN   \n",
      "11  North Carolina    NC                       Farmer             NaN   \n",
      "\n",
      "   name_type  6p_total  \n",
      "0     county     85.25  \n",
      "1       town   2008.37  \n",
      "2       town     48.50  \n",
      "3       town       NaN  \n",
      "4      state  12283.44  \n",
      "5       town     41.26  \n",
      "6       town    206.08  \n",
      "7       town    228.12  \n",
      "8       town    252.32  \n",
      "9      state   4780.84  \n",
      "10     state      0.00  \n",
      "11     state     62.51  \n"
     ]
    }
   ],
   "source": [
    "State = 'NC'\n",
    "AllOccsNC = AllOccs[AllOccs['state'] == State] #Separate rows by state\n",
    "AllOccsNC = AllOccsNC.dropna(subset=['occupation']).reset_index(drop=True) #Drop any rows w/o an occupation listed. \n",
    "print(AllOccsNC)"
   ]
  },
  {
   "cell_type": "code",
   "execution_count": 1603,
   "id": "d17c5041",
   "metadata": {
    "pycharm": {
     "name": "#%%\n"
    }
   },
   "outputs": [
    {
     "name": "stdout",
     "output_type": "stream",
     "text": [
      "                    occupation  6p_total\n",
      "0      Asse of John B Ashe Exe      0.00\n",
      "1            Doctors of Physic   2008.37\n",
      "2                       Farmer     62.51\n",
      "3                     Merchant    813.03\n",
      "4                    Merchants     48.50\n",
      "5  The State of North Carolina   4780.84\n",
      "6                    Treasurer  12283.44\n"
     ]
    }
   ],
   "source": [
    "OccsTotalsNC = AllOccsNC.groupby('occupation')['6p_total'].apply(sum).reset_index() #Combine duplicate occupations.\n",
    "print(OccsTotalsNC.to_string())"
   ]
  },
  {
   "cell_type": "code",
   "execution_count": 1604,
   "id": "82b87b9b",
   "metadata": {
    "pycharm": {
     "name": "#%%\n"
    }
   },
   "outputs": [
    {
     "name": "stdout",
     "output_type": "stream",
     "text": [
      "                 occupation  6p_total\n",
      "0      asse john b ashe exe      0.00\n",
      "1            doctors physic   2008.37\n",
      "2                    farmer     62.51\n",
      "3                  merchant    813.03\n",
      "4                 merchants     48.50\n",
      "5  the state north carolina   4780.84\n",
      "6                 treasurer  12283.44\n"
     ]
    }
   ],
   "source": [
    "OccsTotalsNC = RemoveStopwords(OccsTotalsNC) \n",
    "print(OccsTotalsNC.to_string())"
   ]
  },
  {
   "cell_type": "code",
   "execution_count": 1605,
   "id": "a000f84d",
   "metadata": {
    "pycharm": {
     "name": "#%%\n"
    }
   },
   "outputs": [
    {
     "name": "stdout",
     "output_type": "stream",
     "text": [
      "Occupation Before --> Occupation After\n",
      "--------------------------------------\n",
      "\n",
      "\n",
      "asse john b ashe exe --> asse john b\n",
      "doctors physic --> doctors physic\n",
      "farmer --> farmer\n",
      "merchant --> merchant\n",
      "merchants --> merchants\n",
      "the state north carolina --> the state\n",
      "treasurer --> treasurer\n"
     ]
    }
   ],
   "source": [
    "FindRemoveConst(OccsTotalsNC['occupation'].tolist())"
   ]
  },
  {
   "cell_type": "code",
   "execution_count": 1606,
   "id": "1ce48e7b",
   "metadata": {
    "pycharm": {
     "name": "#%%\n"
    }
   },
   "outputs": [],
   "source": [
    "Remove = 0"
   ]
  },
  {
   "cell_type": "code",
   "execution_count": 1607,
   "id": "09daca6e",
   "metadata": {
    "pycharm": {
     "name": "#%%\n"
    }
   },
   "outputs": [
    {
     "name": "stdout",
     "output_type": "stream",
     "text": [
      "Occupations --> Potential Cleaned Occupations\n",
      "---------------------------------------------\n",
      "\n",
      "\n",
      "asse john b ashe exe --> asse\n",
      "doctors physic --> doctors\n",
      "farmer --> farmer\n",
      "merchant --> merchant\n",
      "merchants --> merchants\n",
      "the state north carolina --> carolina\n",
      "treasurer --> treasurer\n"
     ]
    }
   ],
   "source": [
    "PrintFutureOccupations(OccsTotalsNC['occupation'].tolist())"
   ]
  },
  {
   "cell_type": "code",
   "execution_count": 1608,
   "id": "3ec8bb6f",
   "metadata": {
    "pycharm": {
     "name": "#%%\n"
    }
   },
   "outputs": [],
   "source": [
    "ExceptionsNC = {'the state north carolina' : 'north carolina'}"
   ]
  },
  {
   "cell_type": "code",
   "execution_count": 1609,
   "id": "0e6d9351",
   "metadata": {
    "pycharm": {
     "name": "#%%\n"
    }
   },
   "outputs": [
    {
     "name": "stdout",
     "output_type": "stream",
     "text": [
      "After Cleaning\n",
      "--------------\n",
      "\n",
      "\n",
      "       occupation  6p_total\n",
      "0            asse      0.00\n",
      "1         doctors   2008.37\n",
      "2          farmer     62.51\n",
      "3        merchant    813.03\n",
      "4       merchants     48.50\n",
      "5  north carolina   4780.84\n",
      "6       treasurer  12283.44\n",
      "\n",
      "\n",
      "After Removing Duplicates and Summing\n",
      "-------------------------------------\n",
      "\n",
      "\n",
      "       occupation  6p_total\n",
      "0            asse      0.00\n",
      "1         doctors   2008.37\n",
      "2          farmer     62.51\n",
      "3        merchant    813.03\n",
      "4       merchants     48.50\n",
      "5  north carolina   4780.84\n",
      "6       treasurer  12283.44\n",
      "\n",
      "\n",
      "Removed: merchants --> merchant\n",
      "\n",
      "\n",
      "After Using Fuzzy String Matching\n",
      "---------------------------------\n",
      "\n",
      "\n",
      "       occupation  6p_total\n",
      "0            asse      0.00\n",
      "1         doctors   2008.37\n",
      "2          farmer     62.51\n",
      "3        merchant    861.53\n",
      "4  north carolina   4780.84\n",
      "5       treasurer  12283.44\n",
      "\n",
      "\n"
     ]
    }
   ],
   "source": [
    "OccsTotalsNC = MergeOccupations(OccsTotalsNC, ExceptionsNC)"
   ]
  },
  {
   "cell_type": "code",
   "execution_count": 1610,
   "id": "df729e8d",
   "metadata": {
    "pycharm": {
     "name": "#%%\n"
    }
   },
   "outputs": [],
   "source": [
    "TurnToExcel(OccsTotalsNC, State)"
   ]
  },
  {
   "cell_type": "markdown",
   "id": "8d508c76",
   "metadata": {
    "pycharm": {
     "name": "#%% md\n"
    }
   },
   "source": [
    "# New Hampshire"
   ]
  },
  {
   "cell_type": "code",
   "execution_count": 1611,
   "id": "f1f7956a",
   "metadata": {
    "scrolled": true,
    "pycharm": {
     "name": "#%%\n"
    }
   },
   "outputs": [
    {
     "name": "stdout",
     "output_type": "stream",
     "text": [
      "     6p_Dollar  6p_Cents  6p_def_Dollar  6p_def_Cents  3p_Dollar  3p_Cents  \\\n",
      "0        200.0       NaN          100.0           NaN       54.0       NaN   \n",
      "1        778.0       4.0          389.0           2.0      288.0       NaN   \n",
      "2       1490.0      73.0          745.0          37.0      436.0      77.0   \n",
      "3       2100.0      48.0         1050.0          23.0      928.0      46.0   \n",
      "4        149.0      62.0           74.0          81.0        NaN       NaN   \n",
      "..         ...       ...            ...           ...        ...       ...   \n",
      "161       81.0      69.0           40.0          84.0      741.0      54.0   \n",
      "162      187.0       2.0           93.0          51.0      146.0      70.0   \n",
      "163       12.0      73.0            6.0          37.0        0.0       0.0   \n",
      "164        9.0      16.0            4.0          58.0       10.0      16.0   \n",
      "165       40.0      67.0           20.0          33.0       25.0      96.0   \n",
      "\n",
      "                town state occupation             county name_type  6p_total  \n",
      "0         Portsmouth    NH      Widow  Rockingham County      town       NaN  \n",
      "1    North Hampshire    NH     Farmer                NaN     other    778.04  \n",
      "2         Portsmouth    NH  Physician  Rockingham County      town   1490.73  \n",
      "3             Exeter    NH      Widow  Rockingham County      town   2100.48  \n",
      "4         Rockingham    NH  Treasurer  Rockingham County    county    149.62  \n",
      "..               ...   ...        ...                ...       ...       ...  \n",
      "161           Exeter    NH   Merchant  Rockingham County      town     81.69  \n",
      "162       Portsmouth    NH  Physician  Rockingham County      town    187.02  \n",
      "163       Portsmouth    NH    Esquire  Rockingham County      town     12.73  \n",
      "164       Portsmouth    NH     Trader  Rockingham County      town      9.16  \n",
      "165       Alexandria    NH   Merchant     Grafton County      town     40.67  \n",
      "\n",
      "[166 rows x 12 columns]\n"
     ]
    }
   ],
   "source": [
    "State = 'NH'\n",
    "AllOccsNH = AllOccs[AllOccs['state'] == State] #Separate rows by state\n",
    "AllOccsNH = AllOccsNH.dropna(subset=['occupation']).reset_index(drop=True) #Drop any rows w/o an occupation listed. \n",
    "print(AllOccsNH)"
   ]
  },
  {
   "cell_type": "code",
   "execution_count": 1612,
   "id": "e32bb06e",
   "metadata": {
    "pycharm": {
     "name": "#%%\n"
    }
   },
   "outputs": [
    {
     "name": "stdout",
     "output_type": "stream",
     "text": [
      "    occupation  6p_total\n",
      "0        Baker   2159.04\n",
      "1   Blacksmith     54.88\n",
      "2        Clerk    715.60\n",
      "3   Cordwainer    742.05\n",
      "4      Esquire  61539.89\n",
      "5       Farmer    778.04\n",
      "6    Gentleman   3603.06\n",
      "7    Goldsmith    871.32\n",
      "8       Joiner    106.61\n",
      "9     Marniner    785.62\n",
      "10    Merchant  29715.41\n",
      "11     Painter     48.61\n",
      "12   Physician   7111.43\n",
      "13    Spinster     89.13\n",
      "14      Trader   2807.27\n",
      "15   Treasurer    149.62\n",
      "16       Widow   8790.45\n",
      "17      Yeoman   3397.94\n"
     ]
    }
   ],
   "source": [
    "OccsTotalsNH = AllOccsNH.groupby('occupation')['6p_total'].apply(sum).reset_index() #Combine duplicate occupations.\n",
    "print(OccsTotalsNH.to_string())"
   ]
  },
  {
   "cell_type": "code",
   "execution_count": 1613,
   "id": "928ea4f4",
   "metadata": {
    "pycharm": {
     "name": "#%%\n"
    }
   },
   "outputs": [
    {
     "name": "stdout",
     "output_type": "stream",
     "text": [
      "    occupation  6p_total\n",
      "0        baker   2159.04\n",
      "1   blacksmith     54.88\n",
      "2        clerk    715.60\n",
      "3   cordwainer    742.05\n",
      "4      esquire  61539.89\n",
      "5       farmer    778.04\n",
      "6    gentleman   3603.06\n",
      "7    goldsmith    871.32\n",
      "8       joiner    106.61\n",
      "9     marniner    785.62\n",
      "10    merchant  29715.41\n",
      "11     painter     48.61\n",
      "12   physician   7111.43\n",
      "13    spinster     89.13\n",
      "14      trader   2807.27\n",
      "15   treasurer    149.62\n",
      "16       widow   8790.45\n",
      "17      yeoman   3397.94\n"
     ]
    }
   ],
   "source": [
    "OccsTotalsNH = RemoveStopwords(OccsTotalsNH) \n",
    "print(OccsTotalsNH.to_string())"
   ]
  },
  {
   "cell_type": "code",
   "execution_count": 1614,
   "id": "83dd8ae7",
   "metadata": {
    "scrolled": true,
    "pycharm": {
     "name": "#%%\n"
    }
   },
   "outputs": [
    {
     "name": "stdout",
     "output_type": "stream",
     "text": [
      "Occupation Before --> Occupation After\n",
      "--------------------------------------\n",
      "\n",
      "\n",
      "baker --> baker\n",
      "blacksmith --> blacksmith\n",
      "clerk --> clerk\n",
      "cordwainer --> cordwainer\n",
      "esquire --> esquire\n",
      "farmer --> farmer\n",
      "gentleman --> gentleman\n",
      "goldsmith --> goldsmith\n",
      "joiner --> joiner\n",
      "marniner --> marniner\n",
      "merchant --> merchant\n",
      "painter --> painter\n",
      "physician --> physician\n",
      "spinster --> spinster\n",
      "trader --> trader\n",
      "treasurer --> treasurer\n",
      "widow --> widow\n",
      "yeoman --> yeoman\n"
     ]
    }
   ],
   "source": [
    "FindRemoveConst(OccsTotalsNH['occupation'].tolist())"
   ]
  },
  {
   "cell_type": "code",
   "execution_count": 1615,
   "id": "f7d9fdcd",
   "metadata": {
    "scrolled": true,
    "pycharm": {
     "name": "#%%\n"
    }
   },
   "outputs": [
    {
     "name": "stdout",
     "output_type": "stream",
     "text": [
      "Occupations --> Potential Cleaned Occupations\n",
      "---------------------------------------------\n",
      "\n",
      "\n",
      "baker --> baker\n",
      "blacksmith --> blacksmith\n",
      "clerk --> clerk\n",
      "cordwainer --> cordwainer\n",
      "esquire --> esquire\n",
      "farmer --> farmer\n",
      "gentleman --> gentleman\n",
      "goldsmith --> goldsmith\n",
      "joiner --> joiner\n",
      "marniner --> marniner\n",
      "merchant --> merchant\n",
      "painter --> painter\n",
      "physician --> physician\n",
      "spinster --> spinster\n",
      "trader --> trader\n",
      "treasurer --> treasurer\n",
      "widow --> widow\n",
      "yeoman --> yeoman\n"
     ]
    }
   ],
   "source": [
    "PrintFutureOccupations(OccsTotalsNH['occupation'].tolist())"
   ]
  },
  {
   "cell_type": "code",
   "execution_count": 1616,
   "id": "732686ac",
   "metadata": {
    "pycharm": {
     "name": "#%%\n"
    }
   },
   "outputs": [],
   "source": [
    "ExceptionsNH = {}"
   ]
  },
  {
   "cell_type": "code",
   "execution_count": 1617,
   "id": "8d8621d6",
   "metadata": {
    "pycharm": {
     "name": "#%%\n"
    }
   },
   "outputs": [
    {
     "name": "stdout",
     "output_type": "stream",
     "text": [
      "After Cleaning\n",
      "--------------\n",
      "\n",
      "\n",
      "    occupation  6p_total\n",
      "0        baker   2159.04\n",
      "1   blacksmith     54.88\n",
      "2        clerk    715.60\n",
      "3   cordwainer    742.05\n",
      "4      esquire  61539.89\n",
      "5       farmer    778.04\n",
      "6    gentleman   3603.06\n",
      "7    goldsmith    871.32\n",
      "8       joiner    106.61\n",
      "9     marniner    785.62\n",
      "10    merchant  29715.41\n",
      "11     painter     48.61\n",
      "12   physician   7111.43\n",
      "13    spinster     89.13\n",
      "14      trader   2807.27\n",
      "15   treasurer    149.62\n",
      "16       widow   8790.45\n",
      "17      yeoman   3397.94\n",
      "\n",
      "\n",
      "After Removing Duplicates and Summing\n",
      "-------------------------------------\n",
      "\n",
      "\n",
      "    occupation  6p_total\n",
      "0        baker   2159.04\n",
      "1   blacksmith     54.88\n",
      "2        clerk    715.60\n",
      "3   cordwainer    742.05\n",
      "4      esquire  61539.89\n",
      "5       farmer    778.04\n",
      "6    gentleman   3603.06\n",
      "7    goldsmith    871.32\n",
      "8       joiner    106.61\n",
      "9     marniner    785.62\n",
      "10    merchant  29715.41\n",
      "11     painter     48.61\n",
      "12   physician   7111.43\n",
      "13    spinster     89.13\n",
      "14      trader   2807.27\n",
      "15   treasurer    149.62\n",
      "16       widow   8790.45\n",
      "17      yeoman   3397.94\n",
      "\n",
      "\n",
      "\n",
      "\n",
      "After Using Fuzzy String Matching\n",
      "---------------------------------\n",
      "\n",
      "\n",
      "    occupation  6p_total\n",
      "0        baker   2159.04\n",
      "1   blacksmith     54.88\n",
      "2        clerk    715.60\n",
      "3   cordwainer    742.05\n",
      "4      esquire  61539.89\n",
      "5       farmer    778.04\n",
      "6    gentleman   3603.06\n",
      "7    goldsmith    871.32\n",
      "8       joiner    106.61\n",
      "9     marniner    785.62\n",
      "10    merchant  29715.41\n",
      "11     painter     48.61\n",
      "12   physician   7111.43\n",
      "13    spinster     89.13\n",
      "14      trader   2807.27\n",
      "15   treasurer    149.62\n",
      "16       widow   8790.45\n",
      "17      yeoman   3397.94\n",
      "\n",
      "\n"
     ]
    }
   ],
   "source": [
    "OccsTotalsNH = MergeOccupations(OccsTotalsNH, ExceptionsNH)"
   ]
  },
  {
   "cell_type": "code",
   "execution_count": 1618,
   "id": "a1220d8c",
   "metadata": {
    "pycharm": {
     "name": "#%%\n"
    }
   },
   "outputs": [],
   "source": [
    "TurnToExcel(OccsTotalsNH, State)"
   ]
  },
  {
   "cell_type": "markdown",
   "id": "5c8cfa44",
   "metadata": {
    "pycharm": {
     "name": "#%% md\n"
    }
   },
   "source": [
    "# New Jersey"
   ]
  },
  {
   "cell_type": "code",
   "execution_count": 1619,
   "id": "37b4b59e",
   "metadata": {
    "scrolled": true,
    "pycharm": {
     "name": "#%%\n"
    }
   },
   "outputs": [
    {
     "name": "stdout",
     "output_type": "stream",
     "text": [
      "   6p_Dollar  6p_Cents  6p_def_Dollar  6p_def_Cents  3p_Dollar  3p_Cents  \\\n",
      "0     1324.0      81.0          662.0          41.0      675.0      52.0   \n",
      "1     1325.0      68.0          662.0          85.0      714.0      50.0   \n",
      "2      384.0      34.0          192.0          65.0      156.0      34.0   \n",
      "3     5017.0       5.0         2508.0          52.0     2053.0      54.0   \n",
      "4     1046.0      10.0          523.0           5.0      297.0      74.0   \n",
      "5      235.0       1.0          117.0          51.0      139.0      10.0   \n",
      "6        3.0      34.0            1.0          66.0        2.0      90.0   \n",
      "7      184.0       NaN           92.0           NaN      437.0       6.0   \n",
      "8       16.0      67.0            8.0          33.0        8.0      57.0   \n",
      "\n",
      "                         town state  \\\n",
      "0                  New Jersey    NJ   \n",
      "1                  New Jersey    NJ   \n",
      "2                  New Jersey    NJ   \n",
      "3                  New Jersey    NJ   \n",
      "4                  New Jersey    NJ   \n",
      "5  Monmouth County New Jersey    NJ   \n",
      "6                    Cape May    NJ   \n",
      "7                  New Jersey    NJ   \n",
      "8  Somerset County New Jersey    NJ   \n",
      "\n",
      "                                          occupation           county  \\\n",
      "0               Executor of Michael De Mott deceased              NaN   \n",
      "1                                    Attorney at law              NaN   \n",
      "2                                          Physician              NaN   \n",
      "3                                          Gentleman              NaN   \n",
      "4                                          Gentleman              NaN   \n",
      "5                                           Merchant  Monmouth County   \n",
      "6                                             Farmer  Cape May County   \n",
      "7                                            Esquire              NaN   \n",
      "8  In trust for Jacobus Van Eis of Somerset Count...  Somerset County   \n",
      "\n",
      "  name_type  6p_total  \n",
      "0     state   1324.81  \n",
      "1     state   1325.68  \n",
      "2     state    384.34  \n",
      "3     state   5017.05  \n",
      "4     state   1046.10  \n",
      "5    county    235.01  \n",
      "6      town      3.34  \n",
      "7     state       NaN  \n",
      "8    county     16.67  \n"
     ]
    }
   ],
   "source": [
    "State = 'NJ'\n",
    "AllOccsNJ = AllOccs[AllOccs['state'] == State] #Separate rows by state\n",
    "AllOccsNJ = AllOccsNJ.dropna(subset=['occupation']).reset_index(drop=True) #Drop any rows w/o an occupation listed. \n",
    "print(AllOccsNJ)"
   ]
  },
  {
   "cell_type": "code",
   "execution_count": 1620,
   "id": "182df817",
   "metadata": {
    "pycharm": {
     "name": "#%%\n"
    }
   },
   "outputs": [
    {
     "name": "stdout",
     "output_type": "stream",
     "text": [
      "                                                   occupation  6p_total\n",
      "0                                             Attorney at law   1325.68\n",
      "1                                                     Esquire      0.00\n",
      "2                        Executor of Michael De Mott deceased   1324.81\n",
      "3                                                      Farmer      3.34\n",
      "4                                                   Gentleman   6063.15\n",
      "5  In trust for Jacobus Van Eis of Somerset County New Jersey     16.67\n",
      "6                                                    Merchant    235.01\n",
      "7                                                   Physician    384.34\n"
     ]
    }
   ],
   "source": [
    "OccsTotalsNJ = AllOccsNJ.groupby('occupation')['6p_total'].apply(sum).reset_index() #Combine duplicate occupations.\n",
    "print(OccsTotalsNJ.to_string())"
   ]
  },
  {
   "cell_type": "code",
   "execution_count": 1621,
   "id": "e5f1ef6d",
   "metadata": {
    "pycharm": {
     "name": "#%%\n"
    }
   },
   "outputs": [
    {
     "name": "stdout",
     "output_type": "stream",
     "text": [
      "                                            occupation  6p_total\n",
      "0                                         attorney law   1325.68\n",
      "1                                              esquire      0.00\n",
      "2                    executor michael de mott deceased   1324.81\n",
      "3                                               farmer      3.34\n",
      "4                                            gentleman   6063.15\n",
      "5  in trust jacobus van eis somerset county new jersey     16.67\n",
      "6                                             merchant    235.01\n",
      "7                                            physician    384.34\n"
     ]
    }
   ],
   "source": [
    "OccsTotalsNJ = RemoveStopwords(OccsTotalsNJ) \n",
    "print(OccsTotalsNJ.to_string())"
   ]
  },
  {
   "cell_type": "code",
   "execution_count": 1622,
   "id": "09fdaec5",
   "metadata": {
    "pycharm": {
     "name": "#%%\n"
    }
   },
   "outputs": [
    {
     "name": "stdout",
     "output_type": "stream",
     "text": [
      "Occupation Before --> Occupation After\n",
      "--------------------------------------\n",
      "\n",
      "\n",
      "attorney law --> attorney law\n",
      "esquire --> esquire\n",
      "executor michael de mott deceased --> executor michael de mott deceased\n",
      "farmer --> farmer\n",
      "gentleman --> gentleman\n",
      "in trust jacobus van eis somerset county new jersey --> in trust jacobus van eis somerset county new jersey\n",
      "merchant --> merchant\n",
      "physician --> physician\n"
     ]
    }
   ],
   "source": [
    "FindRemoveConst(OccsTotalsNJ['occupation'].tolist())"
   ]
  },
  {
   "cell_type": "code",
   "execution_count": 1623,
   "id": "2c7aec05",
   "metadata": {
    "pycharm": {
     "name": "#%%\n"
    }
   },
   "outputs": [],
   "source": [
    "Remove = 2"
   ]
  },
  {
   "cell_type": "code",
   "execution_count": 1624,
   "id": "772d7e56",
   "metadata": {
    "pycharm": {
     "name": "#%%\n"
    }
   },
   "outputs": [
    {
     "name": "stdout",
     "output_type": "stream",
     "text": [
      "Occupations --> Potential Cleaned Occupations\n",
      "---------------------------------------------\n",
      "\n",
      "\n",
      "attorney law --> attorney\n",
      "esquire --> esquire\n",
      "executor michael de --> executor\n",
      "farmer --> farmer\n",
      "gentleman --> gentleman\n",
      "in trust jacobus van eis somerset county --> county\n",
      "merchant --> merchant\n",
      "physician --> physician\n"
     ]
    }
   ],
   "source": [
    "PrintFutureOccupations(OccsTotalsNJ['occupation'].tolist())"
   ]
  },
  {
   "cell_type": "code",
   "execution_count": 1625,
   "id": "cd29d884",
   "metadata": {
    "pycharm": {
     "name": "#%%\n"
    }
   },
   "outputs": [],
   "source": [
    "ExceptionsNJ = {'in trust jacobus van eis somerset county' : 'trust'}"
   ]
  },
  {
   "cell_type": "code",
   "execution_count": 1626,
   "id": "93cc2763",
   "metadata": {
    "pycharm": {
     "name": "#%%\n"
    }
   },
   "outputs": [
    {
     "name": "stdout",
     "output_type": "stream",
     "text": [
      "After Cleaning\n",
      "--------------\n",
      "\n",
      "\n",
      "  occupation  6p_total\n",
      "0   attorney   1325.68\n",
      "1    esquire      0.00\n",
      "2   executor   1324.81\n",
      "3     farmer      3.34\n",
      "4  gentleman   6063.15\n",
      "5      trust     16.67\n",
      "6   merchant    235.01\n",
      "7  physician    384.34\n",
      "\n",
      "\n",
      "After Removing Duplicates and Summing\n",
      "-------------------------------------\n",
      "\n",
      "\n",
      "  occupation  6p_total\n",
      "0   attorney   1325.68\n",
      "1    esquire      0.00\n",
      "2   executor   1324.81\n",
      "3     farmer      3.34\n",
      "4  gentleman   6063.15\n",
      "5   merchant    235.01\n",
      "6  physician    384.34\n",
      "7      trust     16.67\n",
      "\n",
      "\n",
      "\n",
      "\n",
      "After Using Fuzzy String Matching\n",
      "---------------------------------\n",
      "\n",
      "\n",
      "  occupation  6p_total\n",
      "0   attorney   1325.68\n",
      "1    esquire      0.00\n",
      "2   executor   1324.81\n",
      "3     farmer      3.34\n",
      "4  gentleman   6063.15\n",
      "5   merchant    235.01\n",
      "6  physician    384.34\n",
      "7      trust     16.67\n",
      "\n",
      "\n"
     ]
    }
   ],
   "source": [
    "OccsTotalsNJ = MergeOccupations(OccsTotalsNJ, ExceptionsNJ)"
   ]
  },
  {
   "cell_type": "code",
   "execution_count": 1627,
   "id": "5be57fdc",
   "metadata": {
    "pycharm": {
     "name": "#%%\n"
    }
   },
   "outputs": [],
   "source": [
    "TurnToExcel(OccsTotalsNJ, State)"
   ]
  },
  {
   "cell_type": "markdown",
   "id": "a0767df6",
   "metadata": {
    "pycharm": {
     "name": "#%% md\n"
    }
   },
   "source": [
    "# New York"
   ]
  },
  {
   "cell_type": "code",
   "execution_count": 1628,
   "id": "0dffcde7",
   "metadata": {
    "scrolled": true,
    "pycharm": {
     "name": "#%%\n"
    }
   },
   "outputs": [
    {
     "name": "stdout",
     "output_type": "stream",
     "text": [
      "    6p_Dollar  6p_Cents  6p_def_Dollar  6p_def_Cents  3p_Dollar  3p_Cents  \\\n",
      "0       131.0   15.0000           65.0       57.0000      146.0     69.00   \n",
      "1       118.0   45.0000           59.0       23.0000      124.0     94.00   \n",
      "2        23.0   69.0000           11.0       84.0000       24.0     99.00   \n",
      "3       261.0   31.0000          130.0       65.0000      340.0     53.00   \n",
      "4       933.0   33.0000          466.0       67.0000      781.0     67.00   \n",
      "5       555.0   86.0000          277.0       93.0000      637.0     27.00   \n",
      "6       230.0   90.0000          115.0       45.0000      179.0     91.00   \n",
      "7       377.0   49.0000          188.0       75.0000      385.0     98.00   \n",
      "8       286.0   43.0000          143.0       22.0000      248.0     68.00   \n",
      "9         NaN    1.0000            NaN           NaN        NaN       NaN   \n",
      "10        NaN       NaN            NaN           NaN     1601.0     94.00   \n",
      "11        1.0   46.7633            1.0       23.3833        1.0     63.34   \n",
      "12       20.0   34.5500           16.0       17.2700       15.0     37.71   \n",
      "13     1776.0   12.0000          888.0        6.0000     1553.0     33.00   \n",
      "14      685.0   93.0000          342.0       97.0000      203.0     67.00   \n",
      "15      334.0   70.0000          167.0       35.0000      340.0     68.00   \n",
      "16      609.0   42.0000          304.0       71.0000      432.0       NaN   \n",
      "17     1867.0   88.0000          933.0       93.0000      517.0     20.00   \n",
      "18      690.0   96.0000          345.0       48.0000      665.0     28.00   \n",
      "19      222.0    5.0000          111.0        3.0000      351.0     21.00   \n",
      "20       88.0   60.0000           44.0       30.0000       62.0     43.00   \n",
      "21      138.0   58.0000           69.0       29.0000       60.0     12.00   \n",
      "22      174.0   62.0000           87.0       31.0000        NaN       NaN   \n",
      "23      581.0   48.0000          290.0       74.0000      545.0     12.00   \n",
      "24      255.0   94.0000          127.0       97.0000      369.0     52.00   \n",
      "25       55.0   71.0000           27.0       86.0000       31.0     25.00   \n",
      "26      407.0   50.0000          203.0       75.0000      381.0      1.00   \n",
      "27       29.0   93.0000           14.0       96.0000        NaN       NaN   \n",
      "28      361.0   11.0000          180.0       55.0000      315.0     27.00   \n",
      "29      120.0   25.0000           60.0       12.0000       97.0     70.00   \n",
      "\n",
      "                 town state    occupation           county name_type  \\\n",
      "0   State of New York    NY  Schoolmaster              NaN     state   \n",
      "1   State of New York    NY        Farmer              NaN     state   \n",
      "2   State of New York    NY      Merchant              NaN     state   \n",
      "3    City of New York    NY      Merchant  New York County      town   \n",
      "4   State of New York    NY     Physician              NaN     state   \n",
      "5            New York    NY        Farmer              NaN     state   \n",
      "6    City of New York    NY      Merchant  New York County      town   \n",
      "7   State of New York    NY       Mariner              NaN     state   \n",
      "8            New York    NY      Merchant              NaN     state   \n",
      "9    City of New York    NY      Merchant  New York County      town   \n",
      "10   City of New York    NY      Merchant  New York County      town   \n",
      "11           New York    NY     Merchants              NaN     state   \n",
      "12           New York    NY      Merchant              NaN     state   \n",
      "13           New York    NY        Broker              NaN     state   \n",
      "14           New York    NY      Merchant              NaN     state   \n",
      "15           New York    NY      Merchant              NaN     state   \n",
      "16           New York    NY      Merchant              NaN     state   \n",
      "17           New York    NY     Merchants              NaN     state   \n",
      "18           New York    NY      Merchant              NaN     state   \n",
      "19           New York    NY      Merchant              NaN     state   \n",
      "20           New York    NY      Merchant              NaN     state   \n",
      "21           New York    NY      Merchant              NaN     state   \n",
      "22           New York    NY      Merchant              NaN     state   \n",
      "23           New York    NY     Merchants              NaN     state   \n",
      "24           New York    NY      Merchant              NaN     state   \n",
      "25           New York    NY      Merchant              NaN     state   \n",
      "26           New York    NY      Merchant              NaN     state   \n",
      "27           New York    NY      Merchant              NaN     state   \n",
      "28           New York    NY      Merchant              NaN     state   \n",
      "29           New York    NY      Merchant              NaN     state   \n",
      "\n",
      "       6p_total  \n",
      "0    131.150000  \n",
      "1    118.450000  \n",
      "2     23.690000  \n",
      "3    261.310000  \n",
      "4    933.330000  \n",
      "5    555.860000  \n",
      "6    230.900000  \n",
      "7    377.490000  \n",
      "8    286.430000  \n",
      "9           NaN  \n",
      "10          NaN  \n",
      "11     1.467633  \n",
      "12    20.345500  \n",
      "13  1776.120000  \n",
      "14   685.930000  \n",
      "15   334.700000  \n",
      "16   609.420000  \n",
      "17  1867.880000  \n",
      "18   690.960000  \n",
      "19   222.050000  \n",
      "20    88.600000  \n",
      "21   138.580000  \n",
      "22   174.620000  \n",
      "23   581.480000  \n",
      "24   255.940000  \n",
      "25    55.710000  \n",
      "26   407.500000  \n",
      "27    29.930000  \n",
      "28   361.110000  \n",
      "29   120.250000  \n"
     ]
    }
   ],
   "source": [
    "State = 'NY'\n",
    "AllOccsNY = AllOccs[AllOccs['state'] == State] #Separate rows by state\n",
    "AllOccsNY = AllOccsNY.dropna(subset=['occupation']).reset_index(drop=True) #Drop any rows w/o an occupation listed. \n",
    "print(AllOccsNY)"
   ]
  },
  {
   "cell_type": "code",
   "execution_count": 1629,
   "id": "55a2908c",
   "metadata": {
    "pycharm": {
     "name": "#%%\n"
    }
   },
   "outputs": [
    {
     "name": "stdout",
     "output_type": "stream",
     "text": [
      "     occupation     6p_total\n",
      "0        Broker  1776.120000\n",
      "1        Farmer   674.310000\n",
      "2       Mariner   377.490000\n",
      "3      Merchant  4997.975500\n",
      "4     Merchants  2450.827633\n",
      "5     Physician   933.330000\n",
      "6  Schoolmaster   131.150000\n"
     ]
    }
   ],
   "source": [
    "OccsTotalsNY = AllOccsNY.groupby('occupation')['6p_total'].apply(sum).reset_index() #Combine duplicate occupations.\n",
    "print(OccsTotalsNY.to_string())"
   ]
  },
  {
   "cell_type": "code",
   "execution_count": 1630,
   "id": "cfd1bccc",
   "metadata": {
    "pycharm": {
     "name": "#%%\n"
    }
   },
   "outputs": [
    {
     "name": "stdout",
     "output_type": "stream",
     "text": [
      "     occupation     6p_total\n",
      "0        broker  1776.120000\n",
      "1        farmer   674.310000\n",
      "2       mariner   377.490000\n",
      "3      merchant  4997.975500\n",
      "4     merchants  2450.827633\n",
      "5     physician   933.330000\n",
      "6  schoolmaster   131.150000\n"
     ]
    }
   ],
   "source": [
    "OccsTotalsNY = RemoveStopwords(OccsTotalsNY) \n",
    "print(OccsTotalsNY.to_string())"
   ]
  },
  {
   "cell_type": "code",
   "execution_count": 1631,
   "id": "d3506939",
   "metadata": {
    "pycharm": {
     "name": "#%%\n"
    }
   },
   "outputs": [
    {
     "name": "stdout",
     "output_type": "stream",
     "text": [
      "Occupations --> Potential Cleaned Occupations\n",
      "---------------------------------------------\n",
      "\n",
      "\n",
      "broker --> broker\n",
      "farmer --> farmer\n",
      "mariner --> mariner\n",
      "merchant --> merchant\n",
      "merchants --> merchants\n",
      "physician --> physician\n",
      "schoolmaster --> schoolmaster\n"
     ]
    }
   ],
   "source": [
    "PrintFutureOccupations(OccsTotalsNY['occupation'].tolist())"
   ]
  },
  {
   "cell_type": "code",
   "execution_count": 1632,
   "id": "e00d688f",
   "metadata": {
    "pycharm": {
     "name": "#%%\n"
    }
   },
   "outputs": [],
   "source": [
    "ExceptionsNY = {}"
   ]
  },
  {
   "cell_type": "code",
   "execution_count": 1633,
   "id": "eeee4da1",
   "metadata": {
    "pycharm": {
     "name": "#%%\n"
    }
   },
   "outputs": [
    {
     "name": "stdout",
     "output_type": "stream",
     "text": [
      "After Cleaning\n",
      "--------------\n",
      "\n",
      "\n",
      "     occupation     6p_total\n",
      "0        broker  1776.120000\n",
      "1        farmer   674.310000\n",
      "2       mariner   377.490000\n",
      "3      merchant  4997.975500\n",
      "4     merchants  2450.827633\n",
      "5     physician   933.330000\n",
      "6  schoolmaster   131.150000\n",
      "\n",
      "\n",
      "After Removing Duplicates and Summing\n",
      "-------------------------------------\n",
      "\n",
      "\n",
      "     occupation     6p_total\n",
      "0        broker  1776.120000\n",
      "1        farmer   674.310000\n",
      "2       mariner   377.490000\n",
      "3      merchant  4997.975500\n",
      "4     merchants  2450.827633\n",
      "5     physician   933.330000\n",
      "6  schoolmaster   131.150000\n",
      "\n",
      "\n",
      "Removed: merchants --> merchant\n",
      "\n",
      "\n",
      "After Using Fuzzy String Matching\n",
      "---------------------------------\n",
      "\n",
      "\n",
      "     occupation     6p_total\n",
      "0        broker  1776.120000\n",
      "1        farmer   674.310000\n",
      "2       mariner   377.490000\n",
      "3      merchant  7448.803133\n",
      "4     physician   933.330000\n",
      "5  schoolmaster   131.150000\n",
      "\n",
      "\n"
     ]
    }
   ],
   "source": [
    "OccsTotalsNY = MergeOccupations(OccsTotalsNY, ExceptionsNY)"
   ]
  },
  {
   "cell_type": "code",
   "execution_count": 1634,
   "id": "46f13b88",
   "metadata": {
    "pycharm": {
     "name": "#%%\n"
    }
   },
   "outputs": [],
   "source": [
    "TurnToExcel(OccsTotalsNY, State)"
   ]
  },
  {
   "cell_type": "markdown",
   "id": "4b68d171",
   "metadata": {
    "pycharm": {
     "name": "#%% md\n"
    }
   },
   "source": [
    "# Pennsylvania"
   ]
  },
  {
   "cell_type": "code",
   "execution_count": 1635,
   "id": "21b316c6",
   "metadata": {
    "scrolled": true,
    "pycharm": {
     "name": "#%%\n"
    }
   },
   "outputs": [
    {
     "name": "stdout",
     "output_type": "stream",
     "text": [
      "     6p_Dollar  6p_Cents  6p_def_Dollar  6p_def_Cents  3p_Dollar  3p_Cents  \\\n",
      "0          1.0    102.14            1.0         51.07        1.0    117.34   \n",
      "1       3212.0     38.00         1606.0         19.00     1400.0     66.00   \n",
      "2       4529.0     96.00         2264.0         98.00     3312.0     47.00   \n",
      "3        607.0      8.00          303.0         54.00      146.0     51.00   \n",
      "4       2050.0     74.00         1025.0         37.00      745.0     57.00   \n",
      "..         ...       ...            ...           ...        ...       ...   \n",
      "410     9544.0     97.00         4772.0         48.00     8590.0     46.00   \n",
      "411      880.0     75.00          440.0         38.00      753.0     91.00   \n",
      "412       20.0     25.00           10.0         13.00        NaN       NaN   \n",
      "413       43.0     60.00           21.0         80.00        NaN       NaN   \n",
      "414      150.0       NaN           75.0           NaN      138.0     90.00   \n",
      "\n",
      "                         town state occupation               county name_type  \\\n",
      "0                Philadelphia    PA    Mariner  Philadelphia County      town   \n",
      "1                Philadelphia    PA   Merchant  Philadelphia County      town   \n",
      "2                Philadelphia    PA   Merchant  Philadelphia County      town   \n",
      "3                Philadelphia    PA   Merchant  Philadelphia County      town   \n",
      "4       Carlisle Pennsylvania    PA   Merchant    Cumberland County      town   \n",
      "..                        ...   ...        ...                  ...       ...   \n",
      "410              Philadelphia    PA    Esquire  Philadelphia County      town   \n",
      "411              Philadelphia    PA    Esquire  Philadelphia County      town   \n",
      "412  York County Pennsylvania    PA    Esquire          York County    county   \n",
      "413                 York Town    PA     Taylor          York County      town   \n",
      "414              Philadelphia    PA   Merchant  Philadelphia County      town   \n",
      "\n",
      "      6p_total  \n",
      "0       2.0214  \n",
      "1    3212.3800  \n",
      "2    4529.9600  \n",
      "3     607.0800  \n",
      "4    2050.7400  \n",
      "..         ...  \n",
      "410  9544.9700  \n",
      "411   880.7500  \n",
      "412    20.2500  \n",
      "413    43.6000  \n",
      "414        NaN  \n",
      "\n",
      "[415 rows x 12 columns]\n"
     ]
    }
   ],
   "source": [
    "State = 'PA'\n",
    "AllOccsPA = AllOccs[AllOccs['state'] == State] #Separate rows by state\n",
    "AllOccsPA = AllOccsPA.dropna(subset=['occupation']).reset_index(drop=True) #Drop any rows w/o an occupation listed. \n",
    "print(AllOccsPA)"
   ]
  },
  {
   "cell_type": "code",
   "execution_count": 1636,
   "id": "35f22e8f",
   "metadata": {
    "pycharm": {
     "name": "#%%\n"
    }
   },
   "outputs": [
    {
     "name": "stdout",
     "output_type": "stream",
     "text": [
      "                                                         occupation     6p_total\n",
      "0                                                        AH.Vat Law      58.0500\n",
      "1        Adm of Alexander McCaraher late of Chester County Deceased     799.5100\n",
      "2                            Administer of the estate of Job Vernon    1865.4400\n",
      "3                                  Administor to the Est of J James      27.5300\n",
      "4                                                   Attorney at Law    1223.6200\n",
      "5                                                       Black Smith     692.2500\n",
      "6                                                       Book Binder     783.0700\n",
      "7                                                            Broker   64008.8400\n",
      "8                                                             Clerk    1855.5800\n",
      "9                                                                Co    2898.8600\n",
      "10                                                      Conveyancer     108.4000\n",
      "11                                                      Cordwainder     281.2500\n",
      "12                                                         Druggist    4922.4300\n",
      "13                                                          Esquier   20672.0700\n",
      "14                                                          Esquire   20770.1700\n",
      "15                                     Estate John Benezet Deceased       0.0000\n",
      "16                                                        Estate of    1979.6000\n",
      "17                                           Ex Philadelphia County    1802.9600\n",
      "18                                           Ex of William Honeyman     668.9600\n",
      "19                          Ex to the Estate of John Baird Bucks Co     115.9400\n",
      "20                              Executers of David Grierlate Y Town    5658.3600\n",
      "21                     Executor to the Estate Abraham Hull deceased      47.9100\n",
      "22                      Executor to the Estate Mathias Londenberger     493.8300\n",
      "23      Executor to the Estate of Doctor Benjamin Franklin deceased       0.0000\n",
      "24                                                           Farmer    1685.8100\n",
      "25                                                          Furrier    3107.1800\n",
      "26                                                        Gentleman    7540.6600\n",
      "27                                                        Goldsmith     142.2200\n",
      "28                                           Guardian to Adam Guier    1605.8000\n",
      "29                                        Guardian to Maria Benezet    2267.5000\n",
      "30                                    Guardian to William Chevalier     666.6600\n",
      "31                                                           Hatter    2291.7600\n",
      "32                                                       Inn Keeper    1668.6800\n",
      "33                                                    Junior Broker   10691.1200\n",
      "34                                                              Law    3942.1100\n",
      "35                                                           Lawyer    3472.9000\n",
      "36                                                         Marchant    1133.2500\n",
      "37                                                          Mariner    3906.5714\n",
      "38                                                         Merchant  552065.7400\n",
      "39  Merchant Executer to the Estate of John Schweig Hauser deceased    5333.3300\n",
      "40                                                        Merchants   54042.2900\n",
      "41                                                     Pennsylvania     856.5600\n",
      "42                                                        Physician    1769.0100\n",
      "43                                                      Post Master    7083.5300\n",
      "44                                                          Printer    7423.7300\n",
      "45                             Printer in Trust for Jennet Thompson     294.0100\n",
      "46                                          Property of Mathematics     461.1100\n",
      "47                                                         Reverend     224.1200\n",
      "48                                                          Sheriff      56.2100\n",
      "49                                                      Ship Wright    1241.7600\n",
      "50                                                      Shop Keeper      41.4700\n",
      "51                                                       Shopkeeper     547.4800\n",
      "52                                                      Silversmith    1917.6500\n",
      "53                                                         Spinster     528.3300\n",
      "54                                                           Tanner    1192.2500\n",
      "55                                                           Taylor    2137.3900\n",
      "56                       Treasurer of the first Presbyterian Church     714.8100\n",
      "57                                             Trust By David Cloyd     618.1400\n",
      "58                                                            Widow    5576.5300\n",
      "59                                                           Yeoman    1136.0600\n",
      "60                         for Christopher Mary and Charity Pyrleus     846.2300\n",
      "61                           in trust for the Estate of Robert Dill    1436.5000\n"
     ]
    }
   ],
   "source": [
    "OccsTotalsPA = AllOccsPA.groupby('occupation')['6p_total'].apply(sum).reset_index() #Combine duplicate occupations.\n",
    "print(OccsTotalsPA.to_string())"
   ]
  },
  {
   "cell_type": "code",
   "execution_count": 1637,
   "id": "97053a2b",
   "metadata": {
    "pycharm": {
     "name": "#%%\n"
    }
   },
   "outputs": [
    {
     "name": "stdout",
     "output_type": "stream",
     "text": [
      "                                               occupation     6p_total\n",
      "0                                              ah.vat law      58.0500\n",
      "1    adm alexander mccaraher late chester county deceased     799.5100\n",
      "2                            administer estate job vernon    1865.4400\n",
      "3                                  administor est j james      27.5300\n",
      "4                                            attorney law    1223.6200\n",
      "5                                             black smith     692.2500\n",
      "6                                             book binder     783.0700\n",
      "7                                                  broker   64008.8400\n",
      "8                                                   clerk    1855.5800\n",
      "9                                                      co    2898.8600\n",
      "10                                            conveyancer     108.4000\n",
      "11                                            cordwainder     281.2500\n",
      "12                                               druggist    4922.4300\n",
      "13                                                esquier   20672.0700\n",
      "14                                                esquire   20770.1700\n",
      "15                           estate john benezet deceased       0.0000\n",
      "16                                                 estate    1979.6000\n",
      "17                                 ex philadelphia county    1802.9600\n",
      "18                                    ex william honeyman     668.9600\n",
      "19                          ex estate john baird bucks co     115.9400\n",
      "20                       executers david grierlate y town    5658.3600\n",
      "21                  executor estate abraham hull deceased      47.9100\n",
      "22                   executor estate mathias londenberger     493.8300\n",
      "23      executor estate doctor benjamin franklin deceased       0.0000\n",
      "24                                                 farmer    1685.8100\n",
      "25                                                furrier    3107.1800\n",
      "26                                              gentleman    7540.6600\n",
      "27                                              goldsmith     142.2200\n",
      "28                                    guardian adam guier    1605.8000\n",
      "29                                 guardian maria benezet    2267.5000\n",
      "30                             guardian william chevalier     666.6600\n",
      "31                                                 hatter    2291.7600\n",
      "32                                             inn keeper    1668.6800\n",
      "33                                          junior broker   10691.1200\n",
      "34                                                    law    3942.1100\n",
      "35                                                 lawyer    3472.9000\n",
      "36                                               marchant    1133.2500\n",
      "37                                                mariner    3906.5714\n",
      "38                                               merchant  552065.7400\n",
      "39  merchant executer estate john schweig hauser deceased    5333.3300\n",
      "40                                              merchants   54042.2900\n",
      "41                                           pennsylvania     856.5600\n",
      "42                                              physician    1769.0100\n",
      "43                                            post master    7083.5300\n",
      "44                                                printer    7423.7300\n",
      "45                          printer trust jennet thompson     294.0100\n",
      "46                                   property mathematics     461.1100\n",
      "47                                               reverend     224.1200\n",
      "48                                                sheriff      56.2100\n",
      "49                                            ship wright    1241.7600\n",
      "50                                            shop keeper      41.4700\n",
      "51                                             shopkeeper     547.4800\n",
      "52                                            silversmith    1917.6500\n",
      "53                                               spinster     528.3300\n",
      "54                                                 tanner    1192.2500\n",
      "55                                                 taylor    2137.3900\n",
      "56                    treasurer first presbyterian church     714.8100\n",
      "57                                   trust by david cloyd     618.1400\n",
      "58                                                  widow    5576.5300\n",
      "59                                                 yeoman    1136.0600\n",
      "60                       christopher mary charity pyrleus     846.2300\n",
      "61                               trust estate robert dill    1436.5000\n"
     ]
    }
   ],
   "source": [
    "OccsTotalsPA = RemoveStopwords(OccsTotalsPA) \n",
    "print(OccsTotalsPA.to_string())"
   ]
  },
  {
   "cell_type": "code",
   "execution_count": 1638,
   "id": "68e27f87",
   "metadata": {
    "pycharm": {
     "name": "#%%\n"
    }
   },
   "outputs": [
    {
     "name": "stdout",
     "output_type": "stream",
     "text": [
      "Occupation Before --> Occupation After\n",
      "--------------------------------------\n",
      "\n",
      "\n",
      "ah.vat law --> ah.vat law\n",
      "adm alexander mccaraher late chester county deceased --> adm alexander mccaraher late chester\n",
      "administer estate job vernon --> administer estate\n",
      "administor est j james --> administor est\n",
      "attorney law --> attorney law\n",
      "black smith --> black smith\n",
      "book binder --> book binder\n",
      "broker --> broker\n",
      "clerk --> clerk\n",
      "co --> co\n",
      "conveyancer --> conveyancer\n",
      "cordwainder --> cordwainder\n",
      "druggist --> druggist\n",
      "esquier --> esquier\n",
      "esquire --> esquire\n",
      "estate john benezet deceased --> estate john\n",
      "estate --> estate\n",
      "ex philadelphia county --> ex\n",
      "ex william honeyman --> ex\n",
      "ex estate john baird bucks co --> ex estate john baird\n",
      "executers david grierlate y town --> executers david grierlate\n",
      "executor estate abraham hull deceased --> executor estate abraham\n",
      "executor estate mathias londenberger --> executor estate\n",
      "executor estate doctor benjamin franklin deceased --> executor estate doctor benjamin\n",
      "farmer --> farmer\n",
      "furrier --> furrier\n",
      "gentleman --> gentleman\n",
      "goldsmith --> goldsmith\n",
      "guardian adam guier --> guardian\n",
      "guardian maria benezet --> guardian\n",
      "guardian william chevalier --> guardian\n",
      "hatter --> hatter\n",
      "inn keeper --> inn keeper\n",
      "junior broker --> junior broker\n",
      "law --> law\n",
      "lawyer --> lawyer\n",
      "marchant --> marchant\n",
      "mariner --> mariner\n",
      "merchant --> merchant\n",
      "merchant executer estate john schweig hauser deceased --> merchant executer estate john schweig\n",
      "merchants --> merchants\n",
      "pennsylvania --> pennsylvania\n",
      "physician --> physician\n",
      "post master --> post master\n",
      "printer --> printer\n",
      "printer trust jennet thompson --> printer trust\n",
      "property mathematics --> property mathematics\n",
      "reverend --> reverend\n",
      "sheriff --> sheriff\n",
      "ship wright --> ship wright\n",
      "shop keeper --> shop keeper\n",
      "shopkeeper --> shopkeeper\n",
      "silversmith --> silversmith\n",
      "spinster --> spinster\n",
      "tanner --> tanner\n",
      "taylor --> taylor\n",
      "treasurer first presbyterian church --> treasurer first\n",
      "trust by david cloyd --> trust by\n",
      "widow --> widow\n",
      "yeoman --> yeoman\n",
      "christopher mary charity pyrleus --> christopher mary\n",
      "trust estate robert dill --> trust estate\n"
     ]
    }
   ],
   "source": [
    "FindRemoveConst(OccsTotalsPA['occupation'].tolist())"
   ]
  },
  {
   "cell_type": "code",
   "execution_count": 1639,
   "id": "7fa72484",
   "metadata": {
    "scrolled": false,
    "pycharm": {
     "name": "#%%\n"
    }
   },
   "outputs": [
    {
     "name": "stdout",
     "output_type": "stream",
     "text": [
      "Occupations --> Potential Cleaned Occupations\n",
      "---------------------------------------------\n",
      "\n",
      "\n",
      "ah.vat law --> ah.vat\n",
      "adm alexander mccaraher late chester --> adm\n",
      "administer estate --> administer\n",
      "administor est --> administor\n",
      "attorney law --> attorney\n",
      "black smith --> black\n",
      "book binder --> book\n",
      "broker --> broker\n",
      "clerk --> clerk\n",
      "co --> co\n",
      "conveyancer --> conveyancer\n",
      "cordwainder --> cordwainder\n",
      "druggist --> druggist\n",
      "esquier --> esquier\n",
      "esquire --> esquire\n",
      "estate john --> estate\n",
      "estate --> estate\n",
      "ex --> ex\n",
      "ex --> ex\n",
      "ex estate john baird --> baird\n",
      "executers david grierlate --> executers\n",
      "executor estate abraham --> executor\n",
      "executor estate --> executor\n",
      "executor estate doctor benjamin --> executor\n",
      "farmer --> farmer\n",
      "furrier --> furrier\n",
      "gentleman --> gentleman\n",
      "goldsmith --> goldsmith\n",
      "guardian --> guardian\n",
      "guardian --> guardian\n",
      "guardian --> guardian\n",
      "hatter --> hatter\n",
      "inn keeper --> inn\n",
      "junior broker --> junior\n",
      "law --> law\n",
      "lawyer --> lawyer\n",
      "marchant --> marchant\n",
      "mariner --> mariner\n",
      "merchant --> merchant\n",
      "merchant executer estate john schweig --> merchant\n",
      "merchants --> merchants\n",
      "pennsylvania --> pennsylvania\n",
      "physician --> physician\n",
      "post master --> post\n",
      "printer --> printer\n",
      "printer trust --> printer\n",
      "property mathematics --> property\n",
      "reverend --> reverend\n",
      "sheriff --> sheriff\n",
      "ship wright --> ship\n",
      "shop keeper --> shop\n",
      "shopkeeper --> shopkeeper\n",
      "silversmith --> silversmith\n",
      "spinster --> spinster\n",
      "tanner --> tanner\n",
      "taylor --> taylor\n",
      "treasurer first --> treasurer\n",
      "trust by --> trust\n",
      "widow --> widow\n",
      "yeoman --> yeoman\n",
      "christopher mary --> christopher\n",
      "trust estate --> trust\n"
     ]
    }
   ],
   "source": [
    "PrintFutureOccupations(OccsTotalsPA['occupation'].tolist())"
   ]
  },
  {
   "cell_type": "code",
   "execution_count": 1640,
   "id": "d323238d",
   "metadata": {
    "pycharm": {
     "name": "#%%\n"
    }
   },
   "outputs": [],
   "source": [
    "ExceptionsPA = {'ah.vat law' : 'attorney', 'black smith' : 'blacksmith', 'book binder' : 'book binder', 'ex estate john baird' : 'executors', 'ex' : 'executors',\n",
    "               'inn keeper' : 'inn keeper', 'junior broker' : 'broker', 'post master' : 'post master', 'ship wright' : 'ship wright', 'shop keeper' : 'shopkeeper', \n",
    "               'christopher mary' : 'individual', 'law' : 'attorney', 'lawyer' : 'attorney', 'adm alexander mccaraher late chester' : 'administer'}"
   ]
  },
  {
   "cell_type": "code",
   "execution_count": 1641,
   "id": "26b1bc87",
   "metadata": {
    "scrolled": false,
    "pycharm": {
     "name": "#%%\n"
    }
   },
   "outputs": [
    {
     "name": "stdout",
     "output_type": "stream",
     "text": [
      "After Cleaning\n",
      "--------------\n",
      "\n",
      "\n",
      "      occupation     6p_total\n",
      "0       attorney      58.0500\n",
      "1     administer     799.5100\n",
      "2     administer    1865.4400\n",
      "3     administor      27.5300\n",
      "4       attorney    1223.6200\n",
      "5     blacksmith     692.2500\n",
      "6    book binder     783.0700\n",
      "7         broker   64008.8400\n",
      "8          clerk    1855.5800\n",
      "9             co    2898.8600\n",
      "10   conveyancer     108.4000\n",
      "11   cordwainder     281.2500\n",
      "12      druggist    4922.4300\n",
      "13       esquier   20672.0700\n",
      "14       esquire   20770.1700\n",
      "15        estate       0.0000\n",
      "16        estate    1979.6000\n",
      "17     executors    1802.9600\n",
      "18     executors     668.9600\n",
      "19     executors     115.9400\n",
      "20     executers    5658.3600\n",
      "21      executor      47.9100\n",
      "22      executor     493.8300\n",
      "23      executor       0.0000\n",
      "24        farmer    1685.8100\n",
      "25       furrier    3107.1800\n",
      "26     gentleman    7540.6600\n",
      "27     goldsmith     142.2200\n",
      "28      guardian    1605.8000\n",
      "29      guardian    2267.5000\n",
      "30      guardian     666.6600\n",
      "31        hatter    2291.7600\n",
      "32    inn keeper    1668.6800\n",
      "33        broker   10691.1200\n",
      "34      attorney    3942.1100\n",
      "35      attorney    3472.9000\n",
      "36      marchant    1133.2500\n",
      "37       mariner    3906.5714\n",
      "38      merchant  552065.7400\n",
      "39      merchant    5333.3300\n",
      "40     merchants   54042.2900\n",
      "41  pennsylvania     856.5600\n",
      "42     physician    1769.0100\n",
      "43   post master    7083.5300\n",
      "44       printer    7423.7300\n",
      "45       printer     294.0100\n",
      "46      property     461.1100\n",
      "47      reverend     224.1200\n",
      "48       sheriff      56.2100\n",
      "49   ship wright    1241.7600\n",
      "50    shopkeeper      41.4700\n",
      "51    shopkeeper     547.4800\n",
      "52   silversmith    1917.6500\n",
      "53      spinster     528.3300\n",
      "54        tanner    1192.2500\n",
      "55        taylor    2137.3900\n",
      "56     treasurer     714.8100\n",
      "57         trust     618.1400\n",
      "58         widow    5576.5300\n",
      "59        yeoman    1136.0600\n",
      "60    individual     846.2300\n",
      "61         trust    1436.5000\n",
      "\n",
      "\n",
      "After Removing Duplicates and Summing\n",
      "-------------------------------------\n",
      "\n",
      "\n",
      "      occupation     6p_total\n",
      "0     administer    2664.9500\n",
      "1     administor      27.5300\n",
      "2       attorney    8696.6800\n",
      "3     blacksmith     692.2500\n",
      "4    book binder     783.0700\n",
      "5         broker   74699.9600\n",
      "6          clerk    1855.5800\n",
      "7             co    2898.8600\n",
      "8    conveyancer     108.4000\n",
      "9    cordwainder     281.2500\n",
      "10      druggist    4922.4300\n",
      "11       esquier   20672.0700\n",
      "12       esquire   20770.1700\n",
      "13        estate    1979.6000\n",
      "14     executers    5658.3600\n",
      "15      executor     541.7400\n",
      "16     executors    2587.8600\n",
      "17        farmer    1685.8100\n",
      "18       furrier    3107.1800\n",
      "19     gentleman    7540.6600\n",
      "20     goldsmith     142.2200\n",
      "21      guardian    4539.9600\n",
      "22        hatter    2291.7600\n",
      "23    individual     846.2300\n",
      "24    inn keeper    1668.6800\n",
      "25      marchant    1133.2500\n",
      "26       mariner    3906.5714\n",
      "27      merchant  557399.0700\n",
      "28     merchants   54042.2900\n",
      "29  pennsylvania     856.5600\n",
      "30     physician    1769.0100\n",
      "31   post master    7083.5300\n",
      "32       printer    7717.7400\n",
      "33      property     461.1100\n",
      "34      reverend     224.1200\n",
      "35       sheriff      56.2100\n",
      "36   ship wright    1241.7600\n",
      "37    shopkeeper     588.9500\n",
      "38   silversmith    1917.6500\n",
      "39      spinster     528.3300\n",
      "40        tanner    1192.2500\n",
      "41        taylor    2137.3900\n",
      "42     treasurer     714.8100\n",
      "43         trust    2054.6400\n",
      "44         widow    5576.5300\n",
      "45        yeoman    1136.0600\n",
      "\n",
      "\n",
      "Removed: administor --> administer\n",
      "Removed: esquire --> esquier\n",
      "Removed: executor --> executers\n",
      "Removed: executors --> executers\n",
      "Removed: merchant --> marchant\n",
      "Removed: merchants --> marchant\n",
      "\n",
      "\n",
      "After Using Fuzzy String Matching\n",
      "---------------------------------\n",
      "\n",
      "\n",
      "      occupation     6p_total\n",
      "0     administer    2692.4800\n",
      "1       attorney    8696.6800\n",
      "2     blacksmith     692.2500\n",
      "3    book binder     783.0700\n",
      "4         broker   74699.9600\n",
      "5          clerk    1855.5800\n",
      "6             co    2898.8600\n",
      "7    conveyancer     108.4000\n",
      "8    cordwainder     281.2500\n",
      "9       druggist    4922.4300\n",
      "10       esquier   41442.2400\n",
      "11        estate    1979.6000\n",
      "12     executers    8787.9600\n",
      "13        farmer    1685.8100\n",
      "14       furrier    3107.1800\n",
      "15     gentleman    7540.6600\n",
      "16     goldsmith     142.2200\n",
      "17      guardian    4539.9600\n",
      "18        hatter    2291.7600\n",
      "19    individual     846.2300\n",
      "20    inn keeper    1668.6800\n",
      "21      marchant  612574.6100\n",
      "22       mariner    3906.5714\n",
      "23  pennsylvania     856.5600\n",
      "24     physician    1769.0100\n",
      "25   post master    7083.5300\n",
      "26       printer    7717.7400\n",
      "27      property     461.1100\n",
      "28      reverend     224.1200\n",
      "29       sheriff      56.2100\n",
      "30   ship wright    1241.7600\n",
      "31    shopkeeper     588.9500\n",
      "32   silversmith    1917.6500\n",
      "33      spinster     528.3300\n",
      "34        tanner    1192.2500\n",
      "35        taylor    2137.3900\n",
      "36     treasurer     714.8100\n",
      "37         trust    2054.6400\n",
      "38         widow    5576.5300\n",
      "39        yeoman    1136.0600\n",
      "\n",
      "\n"
     ]
    }
   ],
   "source": [
    "OccsTotalsPA = MergeOccupations(OccsTotalsPA, ExceptionsPA)"
   ]
  },
  {
   "cell_type": "code",
   "execution_count": 1642,
   "id": "ba583411",
   "metadata": {
    "pycharm": {
     "name": "#%%\n"
    }
   },
   "outputs": [],
   "source": [
    "TurnToExcel(OccsTotalsPA, State)"
   ]
  },
  {
   "cell_type": "markdown",
   "id": "ee94923a",
   "metadata": {
    "pycharm": {
     "name": "#%% md\n"
    }
   },
   "source": [
    "# Rhode Island"
   ]
  },
  {
   "cell_type": "code",
   "execution_count": 1643,
   "id": "9babd2ef",
   "metadata": {
    "pycharm": {
     "name": "#%%\n"
    }
   },
   "outputs": [
    {
     "name": "stdout",
     "output_type": "stream",
     "text": [
      "     6p_Dollar  6p_Cents  6p_def_Dollar  6p_def_Cents  3p_Dollar  3p_Cents  \\\n",
      "0        154.0      20.0           77.0          10.0      192.0       NaN   \n",
      "1        194.0      54.0           97.0          27.0      222.0       1.0   \n",
      "2        359.0      50.0          179.0          76.0      254.0      21.0   \n",
      "3          7.0      16.0            3.0          58.0       55.0      82.0   \n",
      "4         35.0       2.0           17.0          51.0       38.0      94.0   \n",
      "..         ...       ...            ...           ...        ...       ...   \n",
      "443      164.0      96.0          165.0          27.0      100.0      22.0   \n",
      "444       59.0      90.0           29.0          95.0       70.0       8.0   \n",
      "445       28.0      44.0           14.0          22.0       29.0      70.0   \n",
      "446      142.0      44.0           71.0          22.0      132.0      43.0   \n",
      "447       33.0      33.0           17.0          39.0       31.0      94.0   \n",
      "\n",
      "             town state occupation             county name_type  6p_total  \n",
      "0    Rhode Island    RI     Farmer                NaN     state    154.20  \n",
      "1      Providence    RI   Merchant  Providence County      town    194.54  \n",
      "2      Providence    RI   Merchant  Providence County      town    359.50  \n",
      "3      Providence    RI   Merchant  Providence County      town      7.16  \n",
      "4      Providence    RI    Mariner  Providence County      town     35.02  \n",
      "..            ...   ...        ...                ...       ...       ...  \n",
      "443    Providence    RI   Merchant  Providence County      town    164.96  \n",
      "444       Johnson    RI    Esquire  Providence County      town     59.90  \n",
      "445      Cranston    RI     Yeoman  Providence County      town     28.44  \n",
      "446    Providence    RI   Merchant  Providence County      town    142.44  \n",
      "447  Rhode Island    RI   Merchant                NaN     state     33.33  \n",
      "\n",
      "[448 rows x 12 columns]\n"
     ]
    }
   ],
   "source": [
    "State = 'RI'\n",
    "AllOccsRI = AllOccs[AllOccs['state'] == State] #Separate rows by state\n",
    "AllOccsRI = AllOccsRI.dropna(subset=['occupation']).reset_index(drop=True) #Drop any rows w/o an occupation listed. \n",
    "print(AllOccsRI)"
   ]
  },
  {
   "cell_type": "code",
   "execution_count": 1644,
   "id": "0b8cd528",
   "metadata": {
    "pycharm": {
     "name": "#%%\n"
    }
   },
   "outputs": [
    {
     "name": "stdout",
     "output_type": "stream",
     "text": [
      "                                                                          occupation   6p_total\n",
      "0                      Administratrix to the Estate of Joshua Brown Esquire Deceased       0.00\n",
      "1                                                                        Auctioneers     460.77\n",
      "2                                                                              Baker     206.37\n",
      "3                                                                         Blacksmith     540.68\n",
      "4                                                                         Blockmaker       4.43\n",
      "5                                                                             Broker     171.50\n",
      "6                                                                            Butcher     235.70\n",
      "7                                                                          Carpenter       0.00\n",
      "8                                                                       Chaise Maker      47.57\n",
      "9                                                                             Cooper    1596.15\n",
      "10                                                                        Cordwainer     417.48\n",
      "11                                                                            Deacon      16.35\n",
      "12                                                                         Distiller     466.25\n",
      "13                                                                            Doctor     445.45\n",
      "14                                                                           Esquier      13.08\n",
      "15                                                                           Esquire   68388.42\n",
      "16                                        Extors to the Late Jn Jenckes Esq Deceased     124.50\n",
      "17                                    Extors to the Late Nicholas Brown Esq Deceased       0.00\n",
      "18                                                                            Farmer    1487.53\n",
      "19  General Treasurer of the state of Rhode Island and his suceessors in said office  199740.67\n",
      "20                                                                         Gentleman    2396.70\n",
      "21                                                                           Glazier     982.35\n",
      "22                                                                         Goldsmith       0.00\n",
      "23                                                                            Hatter     828.66\n",
      "24                                                                       Housewright     266.67\n",
      "25                                                                         Innholder    1430.29\n",
      "26                                                                          Labourer      67.16\n",
      "27                                                                           Mariner    4857.32\n",
      "28                                                                             Mason    1152.50\n",
      "29                                                                          Merchant   99957.63\n",
      "30                                                                         Merchants       4.29\n",
      "31                                                                         Physician    2676.24\n",
      "32                                                                          Reverend    2054.38\n",
      "33                                                                        Shipwright      89.72\n",
      "34                                                                         Shoemaker     114.88\n",
      "35                                                                          Spinster     721.33\n",
      "36                                                                            Taylor    1297.73\n",
      "37                                                                            Trader     436.34\n",
      "38                                                                Traders In Company      43.79\n",
      "39                                                             Treasurer Town Foster     131.11\n",
      "40                                                             Treasurer of Scituate     181.80\n",
      "41           Treasurer of St Johns Ledge No 1 of Tree and accepted Masons Providence     616.67\n",
      "42                             Treasurer of the Baptist Benevolent Society in Warren     120.83\n",
      "43                  Treasurer of the Congregational Benevolent Society in Providence     152.46\n",
      "44               Treasurer of the Society of Cincinnati in the State of Rhode Island    1432.30\n",
      "45                                 Treasurer of the State of Rhode Island Of Newport    2990.01\n",
      "46                         Treasurer of the State of Rhode Island Of Newport Esquire   16830.22\n",
      "47                         Treasurer to the Charitable Baptist Society in Providence     329.16\n",
      "48                                       Tresurer of the Catholic Society at Bristol      48.72\n",
      "49                                                                             Widow    6182.06\n",
      "50                                                                            Yeoman   13137.70\n",
      "51                                          in behalf of the Proprietors of Tiverton      58.64\n",
      "52                                               treasurer of the Town of Providence      73.71\n"
     ]
    }
   ],
   "source": [
    "OccsTotalsRI = AllOccsRI.groupby('occupation')['6p_total'].apply(sum).reset_index() #Combine duplicate occupations.\n",
    "print(OccsTotalsRI.to_string())"
   ]
  },
  {
   "cell_type": "code",
   "execution_count": 1645,
   "id": "e204b240",
   "metadata": {
    "pycharm": {
     "name": "#%%\n"
    }
   },
   "outputs": [
    {
     "name": "stdout",
     "output_type": "stream",
     "text": [
      "                                                       occupation   6p_total\n",
      "0             administratrix estate joshua brown esquire deceased       0.00\n",
      "1                                                     auctioneers     460.77\n",
      "2                                                           baker     206.37\n",
      "3                                                      blacksmith     540.68\n",
      "4                                                      blockmaker       4.43\n",
      "5                                                          broker     171.50\n",
      "6                                                         butcher     235.70\n",
      "7                                                       carpenter       0.00\n",
      "8                                                    chaise maker      47.57\n",
      "9                                                          cooper    1596.15\n",
      "10                                                     cordwainer     417.48\n",
      "11                                                         deacon      16.35\n",
      "12                                                      distiller     466.25\n",
      "13                                                         doctor     445.45\n",
      "14                                                        esquier      13.08\n",
      "15                                                        esquire   68388.42\n",
      "16                            extors late jn jenckes esq deceased     124.50\n",
      "17                        extors late nicholas brown esq deceased       0.00\n",
      "18                                                         farmer    1487.53\n",
      "19    general treasurer state rhode island suceessors said office  199740.67\n",
      "20                                                      gentleman    2396.70\n",
      "21                                                        glazier     982.35\n",
      "22                                                      goldsmith       0.00\n",
      "23                                                         hatter     828.66\n",
      "24                                                    housewright     266.67\n",
      "25                                                      innholder    1430.29\n",
      "26                                                       labourer      67.16\n",
      "27                                                        mariner    4857.32\n",
      "28                                                          mason    1152.50\n",
      "29                                                       merchant   99957.63\n",
      "30                                                      merchants       4.29\n",
      "31                                                      physician    2676.24\n",
      "32                                                       reverend    2054.38\n",
      "33                                                     shipwright      89.72\n",
      "34                                                      shoemaker     114.88\n",
      "35                                                       spinster     721.33\n",
      "36                                                         taylor    1297.73\n",
      "37                                                         trader     436.34\n",
      "38                                             traders in company      43.79\n",
      "39                                          treasurer town foster     131.11\n",
      "40                                             treasurer scituate     181.80\n",
      "41  treasurer st johns ledge no 1 tree accepted masons providence     616.67\n",
      "42                    treasurer baptist benevolent society warren     120.83\n",
      "43         treasurer congregational benevolent society providence     152.46\n",
      "44                treasurer society cincinnati state rhode island    1432.30\n",
      "45                        treasurer state rhode island of newport    2990.01\n",
      "46                treasurer state rhode island of newport esquire   16830.22\n",
      "47                treasurer charitable baptist society providence     329.16\n",
      "48                              tresurer catholic society bristol      48.72\n",
      "49                                                          widow    6182.06\n",
      "50                                                         yeoman   13137.70\n",
      "51                                    behalf proprietors tiverton      58.64\n",
      "52                                      treasurer town providence      73.71\n"
     ]
    }
   ],
   "source": [
    "OccsTotalsRI = RemoveStopwords(OccsTotalsRI) \n",
    "print(OccsTotalsRI.to_string())"
   ]
  },
  {
   "cell_type": "code",
   "execution_count": 1646,
   "id": "d9abc649",
   "metadata": {
    "pycharm": {
     "name": "#%%\n"
    }
   },
   "outputs": [
    {
     "name": "stdout",
     "output_type": "stream",
     "text": [
      "Occupation Before --> Occupation After\n",
      "--------------------------------------\n",
      "\n",
      "\n",
      "administratrix estate joshua brown esquire deceased --> administratrix estate joshua brown\n",
      "auctioneers --> auctioneers\n",
      "baker --> baker\n",
      "blacksmith --> blacksmith\n",
      "blockmaker --> blockmaker\n",
      "broker --> broker\n",
      "butcher --> butcher\n",
      "carpenter --> carpenter\n",
      "chaise maker --> chaise maker\n",
      "cooper --> cooper\n",
      "cordwainer --> cordwainer\n",
      "deacon --> deacon\n",
      "distiller --> distiller\n",
      "doctor --> doctor\n",
      "esquier --> esquier\n",
      "esquire --> esquire\n",
      "extors late jn jenckes esq deceased --> extors late jn jenckes\n",
      "extors late nicholas brown esq deceased --> extors late nicholas brown\n",
      "farmer --> farmer\n",
      "general treasurer state rhode island suceessors said office --> general treasurer state rhode island suceessors\n",
      "gentleman --> gentleman\n",
      "glazier --> glazier\n",
      "goldsmith --> goldsmith\n",
      "hatter --> hatter\n",
      "housewright --> housewright\n",
      "innholder --> innholder\n",
      "labourer --> labourer\n",
      "mariner --> mariner\n",
      "mason --> mason\n",
      "merchant --> merchant\n",
      "merchants --> merchants\n",
      "physician --> physician\n",
      "reverend --> reverend\n",
      "shipwright --> shipwright\n",
      "shoemaker --> shoemaker\n",
      "spinster --> spinster\n",
      "taylor --> taylor\n",
      "trader --> trader\n",
      "traders in company --> traders\n",
      "treasurer town foster --> treasurer\n",
      "treasurer scituate --> treasurer scituate\n",
      "treasurer st johns ledge no 1 tree accepted masons providence --> treasurer st johns ledge no 1 tree accepted\n",
      "treasurer baptist benevolent society warren --> treasurer baptist benevolent\n",
      "treasurer congregational benevolent society providence --> treasurer congregational benevolent\n",
      "treasurer society cincinnati state rhode island --> treasurer society cincinnati state\n",
      "treasurer state rhode island of newport --> treasurer state rhode island\n",
      "treasurer state rhode island of newport esquire --> treasurer state rhode island of\n",
      "treasurer charitable baptist society providence --> treasurer charitable baptist\n",
      "tresurer catholic society bristol --> tresurer catholic\n",
      "widow --> widow\n",
      "yeoman --> yeoman\n",
      "behalf proprietors tiverton --> behalf\n",
      "treasurer town providence --> treasurer\n"
     ]
    }
   ],
   "source": [
    "FindRemoveConst(OccsTotalsRI['occupation'].tolist())"
   ]
  },
  {
   "cell_type": "code",
   "execution_count": 1647,
   "id": "95935b74",
   "metadata": {
    "pycharm": {
     "name": "#%%\n"
    }
   },
   "outputs": [],
   "source": [
    "Remove = 1"
   ]
  },
  {
   "cell_type": "code",
   "execution_count": 1648,
   "id": "f4f1dd51",
   "metadata": {
    "pycharm": {
     "name": "#%%\n"
    }
   },
   "outputs": [
    {
     "name": "stdout",
     "output_type": "stream",
     "text": [
      "Occupations --> Potential Cleaned Occupations\n",
      "---------------------------------------------\n",
      "\n",
      "\n",
      "administratrix estate joshua brown esquire --> administratrix\n",
      "auctioneers --> auctioneers\n",
      "baker --> baker\n",
      "blacksmith --> blacksmith\n",
      "blockmaker --> blockmaker\n",
      "broker --> broker\n",
      "butcher --> butcher\n",
      "carpenter --> carpenter\n",
      "chaise maker --> chaise\n",
      "cooper --> cooper\n",
      "cordwainer --> cordwainer\n",
      "deacon --> deacon\n",
      "distiller --> distiller\n",
      "doctor --> doctor\n",
      "esquier --> esquier\n",
      "esquire --> esquire\n",
      "extors late jn jenckes esq --> extors\n",
      "extors late nicholas brown esq --> extors\n",
      "farmer --> farmer\n",
      "general treasurer state rhode island suceessors said --> general\n",
      "gentleman --> gentleman\n",
      "glazier --> glazier\n",
      "goldsmith --> goldsmith\n",
      "hatter --> hatter\n",
      "housewright --> housewright\n",
      "innholder --> innholder\n",
      "labourer --> labourer\n",
      "mariner --> mariner\n",
      "mason --> mason\n",
      "merchant --> merchant\n",
      "merchants --> merchants\n",
      "physician --> physician\n",
      "reverend --> reverend\n",
      "shipwright --> shipwright\n",
      "shoemaker --> shoemaker\n",
      "spinster --> spinster\n",
      "taylor --> taylor\n",
      "trader --> trader\n",
      "traders in --> traders\n",
      "treasurer town --> treasurer\n",
      "treasurer scituate --> treasurer\n",
      "treasurer st johns ledge no 1 tree accepted masons --> treasurer\n",
      "treasurer baptist benevolent society --> treasurer\n",
      "treasurer congregational benevolent society --> treasurer\n",
      "treasurer society cincinnati state rhode --> treasurer\n",
      "treasurer state rhode island of --> treasurer\n",
      "treasurer state rhode island of newport --> treasurer\n",
      "treasurer charitable baptist society --> treasurer\n",
      "tresurer catholic society --> tresurer\n",
      "widow --> widow\n",
      "yeoman --> yeoman\n",
      "behalf proprietors --> behalf\n",
      "treasurer town --> treasurer\n"
     ]
    }
   ],
   "source": [
    "PrintFutureOccupations(OccsTotalsRI['occupation'].tolist())"
   ]
  },
  {
   "cell_type": "code",
   "execution_count": 1649,
   "id": "c37a9104",
   "metadata": {
    "pycharm": {
     "name": "#%%\n"
    }
   },
   "outputs": [],
   "source": [
    "ExceptionsRI = {'general treasurer state rhode island suceessors said' : 'treasurer', 'behalf proprietors' : 'proprietors', \n",
    "                'chaise maker' : 'chaise maker'}"
   ]
  },
  {
   "cell_type": "code",
   "execution_count": 1650,
   "id": "94e4648a",
   "metadata": {
    "scrolled": false,
    "pycharm": {
     "name": "#%%\n"
    }
   },
   "outputs": [
    {
     "name": "stdout",
     "output_type": "stream",
     "text": [
      "After Cleaning\n",
      "--------------\n",
      "\n",
      "\n",
      "        occupation   6p_total\n",
      "0   administratrix       0.00\n",
      "1      auctioneers     460.77\n",
      "2            baker     206.37\n",
      "3       blacksmith     540.68\n",
      "4       blockmaker       4.43\n",
      "5           broker     171.50\n",
      "6          butcher     235.70\n",
      "7        carpenter       0.00\n",
      "8     chaise maker      47.57\n",
      "9           cooper    1596.15\n",
      "10      cordwainer     417.48\n",
      "11          deacon      16.35\n",
      "12       distiller     466.25\n",
      "13          doctor     445.45\n",
      "14         esquier      13.08\n",
      "15         esquire   68388.42\n",
      "16          extors     124.50\n",
      "17          extors       0.00\n",
      "18          farmer    1487.53\n",
      "19       treasurer  199740.67\n",
      "20       gentleman    2396.70\n",
      "21         glazier     982.35\n",
      "22       goldsmith       0.00\n",
      "23          hatter     828.66\n",
      "24     housewright     266.67\n",
      "25       innholder    1430.29\n",
      "26        labourer      67.16\n",
      "27         mariner    4857.32\n",
      "28           mason    1152.50\n",
      "29        merchant   99957.63\n",
      "30       merchants       4.29\n",
      "31       physician    2676.24\n",
      "32        reverend    2054.38\n",
      "33      shipwright      89.72\n",
      "34       shoemaker     114.88\n",
      "35        spinster     721.33\n",
      "36          taylor    1297.73\n",
      "37          trader     436.34\n",
      "38         traders      43.79\n",
      "39       treasurer     131.11\n",
      "40       treasurer     181.80\n",
      "41       treasurer     616.67\n",
      "42       treasurer     120.83\n",
      "43       treasurer     152.46\n",
      "44       treasurer    1432.30\n",
      "45       treasurer    2990.01\n",
      "46       treasurer   16830.22\n",
      "47       treasurer     329.16\n",
      "48        tresurer      48.72\n",
      "49           widow    6182.06\n",
      "50          yeoman   13137.70\n",
      "51     proprietors      58.64\n",
      "52       treasurer      73.71\n",
      "\n",
      "\n",
      "After Removing Duplicates and Summing\n",
      "-------------------------------------\n",
      "\n",
      "\n",
      "        occupation   6p_total\n",
      "0   administratrix       0.00\n",
      "1      auctioneers     460.77\n",
      "2            baker     206.37\n",
      "3       blacksmith     540.68\n",
      "4       blockmaker       4.43\n",
      "5           broker     171.50\n",
      "6          butcher     235.70\n",
      "7        carpenter       0.00\n",
      "8     chaise maker      47.57\n",
      "9           cooper    1596.15\n",
      "10      cordwainer     417.48\n",
      "11          deacon      16.35\n",
      "12       distiller     466.25\n",
      "13          doctor     445.45\n",
      "14         esquier      13.08\n",
      "15         esquire   68388.42\n",
      "16          extors     124.50\n",
      "17          farmer    1487.53\n",
      "18       gentleman    2396.70\n",
      "19         glazier     982.35\n",
      "20       goldsmith       0.00\n",
      "21          hatter     828.66\n",
      "22     housewright     266.67\n",
      "23       innholder    1430.29\n",
      "24        labourer      67.16\n",
      "25         mariner    4857.32\n",
      "26           mason    1152.50\n",
      "27        merchant   99957.63\n",
      "28       merchants       4.29\n",
      "29       physician    2676.24\n",
      "30     proprietors      58.64\n",
      "31        reverend    2054.38\n",
      "32      shipwright      89.72\n",
      "33       shoemaker     114.88\n",
      "34        spinster     721.33\n",
      "35          taylor    1297.73\n",
      "36          trader     436.34\n",
      "37         traders      43.79\n",
      "38       treasurer  222598.94\n",
      "39        tresurer      48.72\n",
      "40           widow    6182.06\n",
      "41          yeoman   13137.70\n",
      "\n",
      "\n",
      "Removed: esquire --> esquier\n",
      "Removed: merchants --> merchant\n",
      "Removed: traders --> trader\n",
      "Removed: tresurer --> treasurer\n",
      "\n",
      "\n",
      "After Using Fuzzy String Matching\n",
      "---------------------------------\n",
      "\n",
      "\n",
      "        occupation   6p_total\n",
      "0   administratrix       0.00\n",
      "1      auctioneers     460.77\n",
      "2            baker     206.37\n",
      "3       blacksmith     540.68\n",
      "4       blockmaker       4.43\n",
      "5           broker     171.50\n",
      "6          butcher     235.70\n",
      "7        carpenter       0.00\n",
      "8     chaise maker      47.57\n",
      "9           cooper    1596.15\n",
      "10      cordwainer     417.48\n",
      "11          deacon      16.35\n",
      "12       distiller     466.25\n",
      "13          doctor     445.45\n",
      "14         esquier   68401.50\n",
      "15          extors     124.50\n",
      "16          farmer    1487.53\n",
      "17       gentleman    2396.70\n",
      "18         glazier     982.35\n",
      "19       goldsmith       0.00\n",
      "20          hatter     828.66\n",
      "21     housewright     266.67\n",
      "22       innholder    1430.29\n",
      "23        labourer      67.16\n",
      "24         mariner    4857.32\n",
      "25           mason    1152.50\n",
      "26        merchant   99961.92\n",
      "27       physician    2676.24\n",
      "28     proprietors      58.64\n",
      "29        reverend    2054.38\n",
      "30      shipwright      89.72\n",
      "31       shoemaker     114.88\n",
      "32        spinster     721.33\n",
      "33          taylor    1297.73\n",
      "34          trader     480.13\n",
      "35       treasurer  222647.66\n",
      "36           widow    6182.06\n",
      "37          yeoman   13137.70\n",
      "\n",
      "\n"
     ]
    }
   ],
   "source": [
    "OccsTotalsRI = MergeOccupations(OccsTotalsRI, ExceptionsRI)"
   ]
  },
  {
   "cell_type": "code",
   "execution_count": 1651,
   "id": "180c2381",
   "metadata": {
    "pycharm": {
     "name": "#%%\n"
    }
   },
   "outputs": [],
   "source": [
    "TurnToExcel(OccsTotalsRI, State)"
   ]
  },
  {
   "cell_type": "markdown",
   "id": "1bc7964f",
   "metadata": {
    "pycharm": {
     "name": "#%% md\n"
    }
   },
   "source": [
    "# South Carolina"
   ]
  },
  {
   "cell_type": "code",
   "execution_count": 1652,
   "id": "12391c58",
   "metadata": {
    "pycharm": {
     "name": "#%%\n"
    }
   },
   "outputs": [
    {
     "name": "stdout",
     "output_type": "stream",
     "text": [
      "     6p_Dollar   6p_Cents  6p_def_Dollar  6p_def_Cents  3p_Dollar  3p_Cents  \\\n",
      "0          1.0   824.4133            1.0      412.2033        1.0    941.54   \n",
      "1          1.0  3987.9033            1.0     1993.9533        1.0   3625.67   \n",
      "2         17.0   150.0000           13.0       75.0000       14.0    129.10   \n",
      "3         17.0  1067.9200           13.0      533.9600       14.0   1165.92   \n",
      "4         17.0   195.0200           13.0       97.5100       14.0    212.82   \n",
      "..         ...        ...            ...           ...        ...       ...   \n",
      "286        NaN        NaN            NaN           NaN      651.0     53.00   \n",
      "287        NaN        NaN            NaN           NaN      140.0     77.00   \n",
      "288        NaN        NaN            NaN           NaN      167.0     77.00   \n",
      "289        NaN        NaN            NaN           NaN     3600.0       NaN   \n",
      "290      180.0    47.0000           90.0       24.0000      207.0     93.00   \n",
      "\n",
      "               town state       occupation             county name_type  \\\n",
      "0    South Carolina    SC              Esq                NaN     state   \n",
      "1    South Carolina    SC              Esq                NaN     state   \n",
      "2        Charleston    SC         Merchant  Charleston County      town   \n",
      "3        Charleston    SC         Merchant  Charleston County      town   \n",
      "4          Carolina    SC         Excuetor                NaN     other   \n",
      "..              ...   ...              ...                ...       ...   \n",
      "286      Charleston    SC         Merchant  Charleston County      town   \n",
      "287      Charleston    SC         Merchant  Charleston County      town   \n",
      "288      Charleston    SC  Attorney at Law  Charleston County      town   \n",
      "289      Charleston    SC         Merchant  Charleston County      town   \n",
      "290  South Carolina    SC         Marriner                NaN     state   \n",
      "\n",
      "       6p_total  \n",
      "0      9.244133  \n",
      "1     40.879033  \n",
      "2     18.500000  \n",
      "3     27.679200  \n",
      "4     18.950200  \n",
      "..          ...  \n",
      "286         NaN  \n",
      "287         NaN  \n",
      "288         NaN  \n",
      "289         NaN  \n",
      "290  180.470000  \n",
      "\n",
      "[291 rows x 12 columns]\n"
     ]
    }
   ],
   "source": [
    "State = 'SC'\n",
    "AllOccsSC = AllOccs[AllOccs['state'] == State] #Separate rows by state\n",
    "AllOccsSC = AllOccsSC.dropna(subset=['occupation']).reset_index(drop=True) #Drop any rows w/o an occupation listed. \n",
    "print(AllOccsSC)"
   ]
  },
  {
   "cell_type": "code",
   "execution_count": 1653,
   "id": "060524d2",
   "metadata": {
    "pycharm": {
     "name": "#%%\n"
    }
   },
   "outputs": [
    {
     "name": "stdout",
     "output_type": "stream",
     "text": [
      "                                      occupation      6p_total\n",
      "0            Administrator to John Harleston Jun     33.330000\n",
      "1                 Administrator to Joseph Warley   1671.440000\n",
      "2                       Assignee of James Simons    345.020000\n",
      "3                                Attorney at Law   3690.940000\n",
      "4                                      Autioneer     10.650000\n",
      "5                                   Blacks smith   1423.480000\n",
      "6                                     Blockmaker   5264.230000\n",
      "7                                     Bricklayer     37.350000\n",
      "8                                         Broker   2334.890000\n",
      "9                                  Cabinet Maker     74.460000\n",
      "10                                     Carpenter    449.020000\n",
      "11                          Charleston Merchants     26.670000\n",
      "12                           Clerk of the Senate   1425.820000\n",
      "13                     Comtroller of the Customs     53.740000\n",
      "14                                           Esq     50.123166\n",
      "15                                      Excuetor     18.950200\n",
      "16                       Executor Philip Hawkins    239.100000\n",
      "17                   Executor of Benjamin Tucker    834.860000\n",
      "18                      Executor of Jacob Smiser     69.020000\n",
      "19                       Executor of James Peart     12.110000\n",
      "20                    Executor of Samuel Bonneau     23.720000\n",
      "21                   Executor of Sarah Lampriere     68.260000\n",
      "22                     Executor of William Gibbs     66.660000\n",
      "23                    Executor of William Parker    685.770000\n",
      "24                     Executor to Richard Mason   1024.910000\n",
      "25                   Executrix of William Savage     76.700000\n",
      "26                                        Factor   2961.480000\n",
      "27                                     Gentleman    474.430000\n",
      "28                                  Hair Dresser      0.000000\n",
      "29                                       Mariner    183.534700\n",
      "30                                      Marriner    180.470000\n",
      "31                                      Merchant  71013.904200\n",
      "32       Merchant as Executor to Benjamin Garden    234.960000\n",
      "33                                     Merchants    163.312700\n",
      "34                   One of Judges of the Courts   2257.180000\n",
      "35                                     Penniston    914.240000\n",
      "36                                     Physician   7971.000000\n",
      "37                                       Planter  12438.706667\n",
      "38               Planter as Executor Ely Kershaw    883.330000\n",
      "39                                       Printer    132.720000\n",
      "40                                       Sheriff   2133.326667\n",
      "41                                    Shipwright    153.540000\n",
      "42                                    Shopkeeper    190.660000\n",
      "43                                South Carolina      0.000000\n",
      "44                                      Spinster    364.590000\n",
      "45                                        Tanner    377.490000\n",
      "46  Trustee for the Cincinnati of South Carolina   2439.020000\n",
      "47                                 Vendue Master    112.540000\n",
      "48                                         Widow   4910.700000\n",
      "49         as Guardian to Mary Deborah L. Gowdey     17.150000\n",
      "50   as treasurer of the State of south carolina    262.140000\n"
     ]
    }
   ],
   "source": [
    "OccsTotalsSC = AllOccsSC.groupby('occupation')['6p_total'].apply(sum).reset_index() #Combine duplicate occupations.\n",
    "print(OccsTotalsSC.to_string())"
   ]
  },
  {
   "cell_type": "code",
   "execution_count": 1654,
   "id": "e5ca1a03",
   "metadata": {
    "pycharm": {
     "name": "#%%\n"
    }
   },
   "outputs": [
    {
     "name": "stdout",
     "output_type": "stream",
     "text": [
      "                           occupation      6p_total\n",
      "0    administrator john harleston jun     33.330000\n",
      "1         administrator joseph warley   1671.440000\n",
      "2               assignee james simons    345.020000\n",
      "3                        attorney law   3690.940000\n",
      "4                           autioneer     10.650000\n",
      "5                        blacks smith   1423.480000\n",
      "6                          blockmaker   5264.230000\n",
      "7                          bricklayer     37.350000\n",
      "8                              broker   2334.890000\n",
      "9                       cabinet maker     74.460000\n",
      "10                          carpenter    449.020000\n",
      "11               charleston merchants     26.670000\n",
      "12                       clerk senate   1425.820000\n",
      "13                 comtroller customs     53.740000\n",
      "14                                esq     50.123166\n",
      "15                           excuetor     18.950200\n",
      "16            executor philip hawkins    239.100000\n",
      "17           executor benjamin tucker    834.860000\n",
      "18              executor jacob smiser     69.020000\n",
      "19               executor james peart     12.110000\n",
      "20            executor samuel bonneau     23.720000\n",
      "21           executor sarah lampriere     68.260000\n",
      "22             executor william gibbs     66.660000\n",
      "23            executor william parker    685.770000\n",
      "24             executor richard mason   1024.910000\n",
      "25           executrix william savage     76.700000\n",
      "26                             factor   2961.480000\n",
      "27                          gentleman    474.430000\n",
      "28                       hair dresser      0.000000\n",
      "29                            mariner    183.534700\n",
      "30                           marriner    180.470000\n",
      "31                           merchant  71013.904200\n",
      "32  merchant executor benjamin garden    234.960000\n",
      "33                          merchants    163.312700\n",
      "34                  one judges courts   2257.180000\n",
      "35                          penniston    914.240000\n",
      "36                          physician   7971.000000\n",
      "37                            planter  12438.706667\n",
      "38       planter executor ely kershaw    883.330000\n",
      "39                            printer    132.720000\n",
      "40                            sheriff   2133.326667\n",
      "41                         shipwright    153.540000\n",
      "42                         shopkeeper    190.660000\n",
      "43                     south carolina      0.000000\n",
      "44                           spinster    364.590000\n",
      "45                             tanner    377.490000\n",
      "46  trustee cincinnati south carolina   2439.020000\n",
      "47                      vendue master    112.540000\n",
      "48                              widow   4910.700000\n",
      "49    guardian mary deborah l. gowdey     17.150000\n",
      "50     treasurer state south carolina    262.140000\n"
     ]
    }
   ],
   "source": [
    "OccsTotalsSC = RemoveStopwords(OccsTotalsSC) \n",
    "print(OccsTotalsSC.to_string())"
   ]
  },
  {
   "cell_type": "code",
   "execution_count": 1655,
   "id": "c4a6e0d7",
   "metadata": {
    "pycharm": {
     "name": "#%%\n"
    }
   },
   "outputs": [
    {
     "name": "stdout",
     "output_type": "stream",
     "text": [
      "Occupation Before --> Occupation After\n",
      "--------------------------------------\n",
      "\n",
      "\n",
      "administrator john harleston jun --> administrator john harleston\n",
      "administrator joseph warley --> administrator joseph\n",
      "assignee james simons --> assignee james\n",
      "attorney law --> attorney law\n",
      "autioneer --> autioneer\n",
      "blacks smith --> blacks smith\n",
      "blockmaker --> blockmaker\n",
      "bricklayer --> bricklayer\n",
      "broker --> broker\n",
      "cabinet maker --> cabinet maker\n",
      "carpenter --> carpenter\n",
      "charleston merchants --> charleston merchants\n",
      "clerk senate --> clerk senate\n",
      "comtroller customs --> comtroller customs\n",
      "esq --> esq\n",
      "excuetor --> excuetor\n",
      "executor philip hawkins --> executor philip\n",
      "executor benjamin tucker --> executor benjamin\n",
      "executor jacob smiser --> executor jacob\n",
      "executor james peart --> executor james\n",
      "executor samuel bonneau --> executor samuel\n",
      "executor sarah lampriere --> executor sarah\n",
      "executor william gibbs --> executor william\n",
      "executor william parker --> executor william\n",
      "executor richard mason --> executor richard\n",
      "executrix william savage --> executrix william\n",
      "factor --> factor\n",
      "gentleman --> gentleman\n",
      "hair dresser --> hair dresser\n",
      "mariner --> mariner\n",
      "marriner --> marriner\n",
      "merchant --> merchant\n",
      "merchant executor benjamin garden --> merchant executor benjamin\n",
      "merchants --> merchants\n",
      "one judges courts --> one judges\n",
      "penniston --> penniston\n",
      "physician --> physician\n",
      "planter --> planter\n",
      "planter executor ely kershaw --> planter executor ely\n",
      "printer --> printer\n",
      "sheriff --> sheriff\n",
      "shipwright --> shipwright\n",
      "shopkeeper --> shopkeeper\n",
      "south carolina --> south carolina\n",
      "spinster --> spinster\n",
      "tanner --> tanner\n",
      "trustee cincinnati south carolina --> trustee cincinnati south\n",
      "vendue master --> vendue master\n",
      "widow --> widow\n",
      "guardian mary deborah l. gowdey --> guardian mary deborah l.\n",
      "treasurer state south carolina --> treasurer state south\n"
     ]
    }
   ],
   "source": [
    "FindRemoveConst(OccsTotalsSC['occupation'].tolist())"
   ]
  },
  {
   "cell_type": "code",
   "execution_count": 1656,
   "id": "4a98219b",
   "metadata": {
    "pycharm": {
     "name": "#%%\n"
    }
   },
   "outputs": [],
   "source": [
    "Remove = 1"
   ]
  },
  {
   "cell_type": "code",
   "execution_count": 1657,
   "id": "7a263e72",
   "metadata": {
    "pycharm": {
     "name": "#%%\n"
    }
   },
   "outputs": [
    {
     "name": "stdout",
     "output_type": "stream",
     "text": [
      "Occupations --> Potential Cleaned Occupations\n",
      "---------------------------------------------\n",
      "\n",
      "\n",
      "administrator john harleston --> administrator\n",
      "administrator joseph --> administrator\n",
      "assignee james --> assignee\n",
      "attorney law --> attorney\n",
      "autioneer --> autioneer\n",
      "blacks smith --> blacks\n",
      "blockmaker --> blockmaker\n",
      "bricklayer --> bricklayer\n",
      "broker --> broker\n",
      "cabinet maker --> cabinet\n",
      "carpenter --> carpenter\n",
      "charleston merchants --> charleston\n",
      "clerk senate --> clerk\n",
      "comtroller customs --> comtroller\n",
      "esq --> esq\n",
      "excuetor --> excuetor\n",
      "executor philip --> executor\n",
      "executor benjamin --> executor\n",
      "executor jacob --> executor\n",
      "executor james --> executor\n",
      "executor samuel --> executor\n",
      "executor sarah --> executor\n",
      "executor william --> executor\n",
      "executor william --> executor\n",
      "executor richard --> executor\n",
      "executrix william --> executrix\n",
      "factor --> factor\n",
      "gentleman --> gentleman\n",
      "hair dresser --> hair\n",
      "mariner --> mariner\n",
      "marriner --> marriner\n",
      "merchant --> merchant\n",
      "merchant executor benjamin --> merchant\n",
      "merchants --> merchants\n",
      "one judges --> judges\n",
      "penniston --> penniston\n",
      "physician --> physician\n",
      "planter --> planter\n",
      "planter executor ely --> planter\n",
      "printer --> printer\n",
      "sheriff --> sheriff\n",
      "shipwright --> shipwright\n",
      "shopkeeper --> shopkeeper\n",
      "south carolina --> south\n",
      "spinster --> spinster\n",
      "tanner --> tanner\n",
      "trustee cincinnati south --> trustee\n",
      "vendue master --> vendue\n",
      "widow --> widow\n",
      "guardian mary deborah l. --> guardian\n",
      "treasurer state south --> treasurer\n"
     ]
    }
   ],
   "source": [
    "PrintFutureOccupations(OccsTotalsSC['occupation'].tolist())"
   ]
  },
  {
   "cell_type": "code",
   "execution_count": 1658,
   "id": "43437323",
   "metadata": {
    "pycharm": {
     "name": "#%%\n"
    }
   },
   "outputs": [],
   "source": [
    "ExceptionsSC = {'executrix william' : 'executor', 'blacks smith' : 'blacksmith', 'cabinet maker' : 'cabinet maker', 'charleston merchants' : 'merchants', \n",
    "               'hair dresser' : 'hair dresser', 'south carolina' : 'south carolina', 'vendue master' : 'auctioneer'}"
   ]
  },
  {
   "cell_type": "code",
   "execution_count": 1659,
   "id": "ace789ea",
   "metadata": {
    "scrolled": false,
    "pycharm": {
     "name": "#%%\n"
    }
   },
   "outputs": [
    {
     "name": "stdout",
     "output_type": "stream",
     "text": [
      "After Cleaning\n",
      "--------------\n",
      "\n",
      "\n",
      "        occupation      6p_total\n",
      "0    administrator     33.330000\n",
      "1    administrator   1671.440000\n",
      "2         assignee    345.020000\n",
      "3         attorney   3690.940000\n",
      "4        autioneer     10.650000\n",
      "5       blacksmith   1423.480000\n",
      "6       blockmaker   5264.230000\n",
      "7       bricklayer     37.350000\n",
      "8           broker   2334.890000\n",
      "9    cabinet maker     74.460000\n",
      "10       carpenter    449.020000\n",
      "11       merchants     26.670000\n",
      "12           clerk   1425.820000\n",
      "13      comtroller     53.740000\n",
      "14             esq     50.123166\n",
      "15        excuetor     18.950200\n",
      "16        executor    239.100000\n",
      "17        executor    834.860000\n",
      "18        executor     69.020000\n",
      "19        executor     12.110000\n",
      "20        executor     23.720000\n",
      "21        executor     68.260000\n",
      "22        executor     66.660000\n",
      "23        executor    685.770000\n",
      "24        executor   1024.910000\n",
      "25        executor     76.700000\n",
      "26          factor   2961.480000\n",
      "27       gentleman    474.430000\n",
      "28    hair dresser      0.000000\n",
      "29         mariner    183.534700\n",
      "30        marriner    180.470000\n",
      "31        merchant  71013.904200\n",
      "32        merchant    234.960000\n",
      "33       merchants    163.312700\n",
      "34          judges   2257.180000\n",
      "35       penniston    914.240000\n",
      "36       physician   7971.000000\n",
      "37         planter  12438.706667\n",
      "38         planter    883.330000\n",
      "39         printer    132.720000\n",
      "40         sheriff   2133.326667\n",
      "41      shipwright    153.540000\n",
      "42      shopkeeper    190.660000\n",
      "43  south carolina      0.000000\n",
      "44        spinster    364.590000\n",
      "45          tanner    377.490000\n",
      "46         trustee   2439.020000\n",
      "47      auctioneer    112.540000\n",
      "48           widow   4910.700000\n",
      "49        guardian     17.150000\n",
      "50       treasurer    262.140000\n",
      "\n",
      "\n",
      "After Removing Duplicates and Summing\n",
      "-------------------------------------\n",
      "\n",
      "\n",
      "        occupation      6p_total\n",
      "0    administrator   1704.770000\n",
      "1         assignee    345.020000\n",
      "2         attorney   3690.940000\n",
      "3       auctioneer    112.540000\n",
      "4        autioneer     10.650000\n",
      "5       blacksmith   1423.480000\n",
      "6       blockmaker   5264.230000\n",
      "7       bricklayer     37.350000\n",
      "8           broker   2334.890000\n",
      "9    cabinet maker     74.460000\n",
      "10       carpenter    449.020000\n",
      "11           clerk   1425.820000\n",
      "12      comtroller     53.740000\n",
      "13             esq     50.123166\n",
      "14        excuetor     18.950200\n",
      "15        executor   3101.110000\n",
      "16          factor   2961.480000\n",
      "17       gentleman    474.430000\n",
      "18        guardian     17.150000\n",
      "19    hair dresser      0.000000\n",
      "20          judges   2257.180000\n",
      "21         mariner    183.534700\n",
      "22        marriner    180.470000\n",
      "23        merchant  71248.864200\n",
      "24       merchants    189.982700\n",
      "25       penniston    914.240000\n",
      "26       physician   7971.000000\n",
      "27         planter  13322.036667\n",
      "28         printer    132.720000\n",
      "29         sheriff   2133.326667\n",
      "30      shipwright    153.540000\n",
      "31      shopkeeper    190.660000\n",
      "32  south carolina      0.000000\n",
      "33        spinster    364.590000\n",
      "34          tanner    377.490000\n",
      "35       treasurer    262.140000\n",
      "36         trustee   2439.020000\n",
      "37           widow   4910.700000\n",
      "\n",
      "\n",
      "Removed: autioneer --> auctioneer\n",
      "Removed: executor --> excuetor\n",
      "Removed: marriner --> mariner\n",
      "Removed: merchants --> merchant\n",
      "\n",
      "\n",
      "After Using Fuzzy String Matching\n",
      "---------------------------------\n",
      "\n",
      "\n",
      "        occupation      6p_total\n",
      "0    administrator   1704.770000\n",
      "1         assignee    345.020000\n",
      "2         attorney   3690.940000\n",
      "3       auctioneer    123.190000\n",
      "4       blacksmith   1423.480000\n",
      "5       blockmaker   5264.230000\n",
      "6       bricklayer     37.350000\n",
      "7           broker   2334.890000\n",
      "8    cabinet maker     74.460000\n",
      "9        carpenter    449.020000\n",
      "10           clerk   1425.820000\n",
      "11      comtroller     53.740000\n",
      "12             esq     50.123166\n",
      "13        excuetor   3120.060200\n",
      "14          factor   2961.480000\n",
      "15       gentleman    474.430000\n",
      "16        guardian     17.150000\n",
      "17    hair dresser      0.000000\n",
      "18          judges   2257.180000\n",
      "19         mariner    364.004700\n",
      "20        merchant  71438.846900\n",
      "21       penniston    914.240000\n",
      "22       physician   7971.000000\n",
      "23         planter  13322.036667\n",
      "24         printer    132.720000\n",
      "25         sheriff   2133.326667\n",
      "26      shipwright    153.540000\n",
      "27      shopkeeper    190.660000\n",
      "28  south carolina      0.000000\n",
      "29        spinster    364.590000\n",
      "30          tanner    377.490000\n",
      "31       treasurer    262.140000\n",
      "32         trustee   2439.020000\n",
      "33           widow   4910.700000\n",
      "\n",
      "\n"
     ]
    }
   ],
   "source": [
    "OccsTotalsSC = MergeOccupations(OccsTotalsSC, ExceptionsSC)"
   ]
  },
  {
   "cell_type": "code",
   "execution_count": 1660,
   "id": "ece1d867",
   "metadata": {
    "pycharm": {
     "name": "#%%\n"
    }
   },
   "outputs": [],
   "source": [
    "TurnToExcel(OccsTotalsSC, State)"
   ]
  },
  {
   "cell_type": "markdown",
   "id": "1928853b",
   "metadata": {
    "pycharm": {
     "name": "#%% md\n"
    }
   },
   "source": [
    "# Virginia"
   ]
  },
  {
   "cell_type": "code",
   "execution_count": 1661,
   "id": "ee201ede",
   "metadata": {
    "pycharm": {
     "name": "#%%\n"
    }
   },
   "outputs": [
    {
     "name": "stdout",
     "output_type": "stream",
     "text": [
      "   6p_Dollar  6p_Cents  6p_def_Dollar  6p_def_Cents  3p_Dollar  3p_Cents  \\\n",
      "0       17.0  351.6233           13.0      175.8133       14.0    384.09   \n",
      "1       78.0   33.0000           39.0       17.0000       42.0     30.00   \n",
      "2       66.0   66.0000           33.0       33.0000       63.0     24.00   \n",
      "3        3.0   82.0000            1.0       92.0000        3.0     74.00   \n",
      "4       46.0    2.0000           23.0        1.0000       44.0     89.00   \n",
      "\n",
      "                        town state occupation             county name_type  \\\n",
      "0        Portsmouth Virginia    VA  Merchants  Rockingham County      town   \n",
      "1   Accomack County Virginia    VA  Gentleman    Accomack County    county   \n",
      "2  Virginia and Philadelphia    VA   Merchant                NaN     state   \n",
      "3  Virginia and Philadelphia    VA   Merchant                NaN     state   \n",
      "4              Williamsburgh    VA     Weaver  Greenbrier County      town   \n",
      "\n",
      "    6p_total  \n",
      "0  20.516233  \n",
      "1  78.330000  \n",
      "2  66.660000  \n",
      "3   3.820000  \n",
      "4  46.020000  \n"
     ]
    }
   ],
   "source": [
    "State = 'VA'\n",
    "AllOccsVA = AllOccs[AllOccs['state'] == State] #Separate rows by state\n",
    "AllOccsVA = AllOccsVA.dropna(subset=['occupation']).reset_index(drop=True) #Drop any rows w/o an occupation listed. \n",
    "print(AllOccsVA)"
   ]
  },
  {
   "cell_type": "code",
   "execution_count": 1662,
   "id": "d92945a4",
   "metadata": {
    "pycharm": {
     "name": "#%%\n"
    }
   },
   "outputs": [
    {
     "name": "stdout",
     "output_type": "stream",
     "text": [
      "  occupation   6p_total\n",
      "0  Gentleman  78.330000\n",
      "1   Merchant  70.480000\n",
      "2  Merchants  20.516233\n",
      "3     Weaver  46.020000\n"
     ]
    }
   ],
   "source": [
    "OccsTotalsVA = AllOccsVA.groupby('occupation')['6p_total'].apply(sum).reset_index() #Combine duplicate occupations.\n",
    "print(OccsTotalsVA.to_string())"
   ]
  },
  {
   "cell_type": "code",
   "execution_count": 1663,
   "id": "c6dee713",
   "metadata": {
    "pycharm": {
     "name": "#%%\n"
    }
   },
   "outputs": [
    {
     "name": "stdout",
     "output_type": "stream",
     "text": [
      "  occupation   6p_total\n",
      "0  gentleman  78.330000\n",
      "1   merchant  70.480000\n",
      "2  merchants  20.516233\n",
      "3     weaver  46.020000\n"
     ]
    }
   ],
   "source": [
    "OccsTotalsVA = RemoveStopwords(OccsTotalsVA) \n",
    "print(OccsTotalsVA.to_string())"
   ]
  },
  {
   "cell_type": "code",
   "execution_count": 1664,
   "id": "bb2bc595",
   "metadata": {
    "pycharm": {
     "name": "#%%\n"
    }
   },
   "outputs": [
    {
     "name": "stdout",
     "output_type": "stream",
     "text": [
      "Occupation Before --> Occupation After\n",
      "--------------------------------------\n",
      "\n",
      "\n",
      "gentleman --> gentleman\n",
      "merchant --> merchant\n",
      "merchants --> merchants\n",
      "weaver --> weaver\n"
     ]
    }
   ],
   "source": [
    "FindRemoveConst(OccsTotalsVA['occupation'].tolist())"
   ]
  },
  {
   "cell_type": "code",
   "execution_count": 1665,
   "id": "b1c0ea0f",
   "metadata": {
    "pycharm": {
     "name": "#%%\n"
    }
   },
   "outputs": [
    {
     "name": "stdout",
     "output_type": "stream",
     "text": [
      "Occupations --> Potential Cleaned Occupations\n",
      "---------------------------------------------\n",
      "\n",
      "\n",
      "gentleman --> gentleman\n",
      "merchant --> merchant\n",
      "merchants --> merchants\n",
      "weaver --> weaver\n"
     ]
    }
   ],
   "source": [
    "PrintFutureOccupations(OccsTotalsVA['occupation'].tolist())"
   ]
  },
  {
   "cell_type": "code",
   "execution_count": 1666,
   "id": "c265a150",
   "metadata": {
    "pycharm": {
     "name": "#%%\n"
    }
   },
   "outputs": [],
   "source": [
    "ExceptionsVA = {}"
   ]
  },
  {
   "cell_type": "code",
   "execution_count": 1667,
   "id": "88948b0f",
   "metadata": {
    "scrolled": false,
    "pycharm": {
     "name": "#%%\n"
    }
   },
   "outputs": [
    {
     "name": "stdout",
     "output_type": "stream",
     "text": [
      "After Cleaning\n",
      "--------------\n",
      "\n",
      "\n",
      "  occupation   6p_total\n",
      "0  gentleman  78.330000\n",
      "1   merchant  70.480000\n",
      "2  merchants  20.516233\n",
      "3     weaver  46.020000\n",
      "\n",
      "\n",
      "After Removing Duplicates and Summing\n",
      "-------------------------------------\n",
      "\n",
      "\n",
      "  occupation   6p_total\n",
      "0  gentleman  78.330000\n",
      "1   merchant  70.480000\n",
      "2  merchants  20.516233\n",
      "3     weaver  46.020000\n",
      "\n",
      "\n",
      "Removed: merchants --> merchant\n",
      "\n",
      "\n",
      "After Using Fuzzy String Matching\n",
      "---------------------------------\n",
      "\n",
      "\n",
      "  occupation   6p_total\n",
      "0  gentleman  78.330000\n",
      "1   merchant  90.996233\n",
      "2     weaver  46.020000\n",
      "\n",
      "\n"
     ]
    }
   ],
   "source": [
    "OccsTotalsVA = MergeOccupations(OccsTotalsVA, ExceptionsVA)"
   ]
  },
  {
   "cell_type": "code",
   "execution_count": 1668,
   "id": "3bcce130",
   "metadata": {
    "pycharm": {
     "name": "#%%\n"
    }
   },
   "outputs": [],
   "source": [
    "TurnToExcel(OccsTotalsVA, State)"
   ]
  },
  {
   "cell_type": "markdown",
   "id": "ed091659",
   "metadata": {
    "pycharm": {
     "name": "#%% md\n"
    }
   },
   "source": [
    "# All States"
   ]
  },
  {
   "cell_type": "code",
   "execution_count": 1669,
   "id": "df586664",
   "metadata": {
    "scrolled": false,
    "pycharm": {
     "name": "#%%\n"
    }
   },
   "outputs": [
    {
     "name": "stdout",
     "output_type": "stream",
     "text": [
      "           occupation       6p_total\n",
      "0       adminastrator    4081.060000\n",
      "1          apothecary       7.720000\n",
      "2            attorney   11114.600000\n",
      "3          blacksmith     724.710000\n",
      "4              broker     208.550000\n",
      "5           carpenter     175.340000\n",
      "6             cashier      85.300000\n",
      "7            clothier      53.330000\n",
      "8           committee     863.410000\n",
      "9              cooper     124.760000\n",
      "10             doctor     647.090000\n",
      "11            esquire   13020.090000\n",
      "12           executor    4558.250000\n",
      "13             farmer   36715.820000\n",
      "14          gentleman   16624.320000\n",
      "15          goldsmith       6.820000\n",
      "16           guardian    1245.620000\n",
      "17             hatter     242.990000\n",
      "18         inn keeper     201.530000\n",
      "19             joiner      53.330000\n",
      "20    leather dresser     666.670000\n",
      "21            mariner    3831.050000\n",
      "22           merchant   63765.000000\n",
      "23             miller      18.990000\n",
      "24            molster     211.380000\n",
      "25          physician    1303.460000\n",
      "26         post rider     676.910000\n",
      "27            printer     204.780000\n",
      "28        proprietors     276.900000\n",
      "29             sadler    3524.740000\n",
      "30   school committee    1071.650000\n",
      "31      school master    2213.750000\n",
      "32          sherriffs     512.450000\n",
      "33         shipwright     533.330000\n",
      "34          shoemaker    1345.460000\n",
      "35            soldier      78.480000\n",
      "36           spinster    1731.580000\n",
      "37             tanner     713.060000\n",
      "38             taylor     209.810000\n",
      "39             trader    9454.130000\n",
      "40          treasurer   15387.150000\n",
      "41              widow    6488.110000\n",
      "42               wife      63.640000\n",
      "43             yeoman      64.540000\n",
      "44                esq     102.089033\n",
      "45          gentleman    4586.660000\n",
      "46           merchant   10577.739829\n",
      "47      administrator      22.500000\n",
      "48            company     206.670000\n",
      "49                esq      17.665733\n",
      "50           executor     303.770000\n",
      "51           merchant   78510.940000\n",
      "52          shoemaker    1237.070000\n",
      "53         shopkeeper      33.330000\n",
      "54               asse       0.000000\n",
      "55            doctors    2008.370000\n",
      "56             farmer      62.510000\n",
      "57           merchant     861.530000\n",
      "58     north carolina    4780.840000\n",
      "59          treasurer   12283.440000\n",
      "60              baker    2159.040000\n",
      "61         blacksmith      54.880000\n",
      "62              clerk     715.600000\n",
      "63         cordwainer     742.050000\n",
      "64            esquire   61539.890000\n",
      "65             farmer     778.040000\n",
      "66          gentleman    3603.060000\n",
      "67          goldsmith     871.320000\n",
      "68             joiner     106.610000\n",
      "69           marniner     785.620000\n",
      "70           merchant   29715.410000\n",
      "71            painter      48.610000\n",
      "72          physician    7111.430000\n",
      "73           spinster      89.130000\n",
      "74             trader    2807.270000\n",
      "75          treasurer     149.620000\n",
      "76              widow    8790.450000\n",
      "77             yeoman    3397.940000\n",
      "78           attorney    1325.680000\n",
      "79            esquire       0.000000\n",
      "80           executor    1324.810000\n",
      "81             farmer       3.340000\n",
      "82          gentleman    6063.150000\n",
      "83           merchant     235.010000\n",
      "84          physician     384.340000\n",
      "85              trust      16.670000\n",
      "86             broker    1776.120000\n",
      "87             farmer     674.310000\n",
      "88            mariner     377.490000\n",
      "89           merchant    7448.803133\n",
      "90          physician     933.330000\n",
      "91       schoolmaster     131.150000\n",
      "92         administer    2692.480000\n",
      "93           attorney    8696.680000\n",
      "94         blacksmith     692.250000\n",
      "95        book binder     783.070000\n",
      "96             broker   74699.960000\n",
      "97              clerk    1855.580000\n",
      "98                 co    2898.860000\n",
      "99        conveyancer     108.400000\n",
      "100       cordwainder     281.250000\n",
      "101          druggist    4922.430000\n",
      "102           esquier   41442.240000\n",
      "103            estate    1979.600000\n",
      "104         executers    8787.960000\n",
      "105            farmer    1685.810000\n",
      "106           furrier    3107.180000\n",
      "107         gentleman    7540.660000\n",
      "108         goldsmith     142.220000\n",
      "109          guardian    4539.960000\n",
      "110            hatter    2291.760000\n",
      "111        individual     846.230000\n",
      "112        inn keeper    1668.680000\n",
      "113          marchant  612574.610000\n",
      "114           mariner    3906.571400\n",
      "115      pennsylvania     856.560000\n",
      "116         physician    1769.010000\n",
      "117       post master    7083.530000\n",
      "118           printer    7717.740000\n",
      "119          property     461.110000\n",
      "120          reverend     224.120000\n",
      "121           sheriff      56.210000\n",
      "122       ship wright    1241.760000\n",
      "123        shopkeeper     588.950000\n",
      "124       silversmith    1917.650000\n",
      "125          spinster     528.330000\n",
      "126            tanner    1192.250000\n",
      "127            taylor    2137.390000\n",
      "128         treasurer     714.810000\n",
      "129             trust    2054.640000\n",
      "130             widow    5576.530000\n",
      "131            yeoman    1136.060000\n",
      "132    administratrix       0.000000\n",
      "133       auctioneers     460.770000\n",
      "134             baker     206.370000\n",
      "135        blacksmith     540.680000\n",
      "136        blockmaker       4.430000\n",
      "137            broker     171.500000\n",
      "138           butcher     235.700000\n",
      "139         carpenter       0.000000\n",
      "140      chaise maker      47.570000\n",
      "141            cooper    1596.150000\n",
      "142        cordwainer     417.480000\n",
      "143            deacon      16.350000\n",
      "144         distiller     466.250000\n",
      "145            doctor     445.450000\n",
      "146           esquier   68401.500000\n",
      "147            extors     124.500000\n",
      "148            farmer    1487.530000\n",
      "149         gentleman    2396.700000\n",
      "150           glazier     982.350000\n",
      "151         goldsmith       0.000000\n",
      "152            hatter     828.660000\n",
      "153       housewright     266.670000\n",
      "154         innholder    1430.290000\n",
      "155          labourer      67.160000\n",
      "156           mariner    4857.320000\n",
      "157             mason    1152.500000\n",
      "158          merchant   99961.920000\n",
      "159         physician    2676.240000\n",
      "160       proprietors      58.640000\n",
      "161          reverend    2054.380000\n",
      "162        shipwright      89.720000\n",
      "163         shoemaker     114.880000\n",
      "164          spinster     721.330000\n",
      "165            taylor    1297.730000\n",
      "166            trader     480.130000\n",
      "167         treasurer  222647.660000\n",
      "168             widow    6182.060000\n",
      "169            yeoman   13137.700000\n",
      "170     administrator    1704.770000\n",
      "171          assignee     345.020000\n",
      "172          attorney    3690.940000\n",
      "173        auctioneer     123.190000\n",
      "174        blacksmith    1423.480000\n",
      "175        blockmaker    5264.230000\n",
      "176        bricklayer      37.350000\n",
      "177            broker    2334.890000\n",
      "178     cabinet maker      74.460000\n",
      "179         carpenter     449.020000\n",
      "180             clerk    1425.820000\n",
      "181        comtroller      53.740000\n",
      "182               esq      50.123166\n",
      "183          excuetor    3120.060200\n",
      "184            factor    2961.480000\n",
      "185         gentleman     474.430000\n",
      "186          guardian      17.150000\n",
      "187      hair dresser       0.000000\n",
      "188            judges    2257.180000\n",
      "189           mariner     364.004700\n",
      "190          merchant   71438.846900\n",
      "191         penniston     914.240000\n",
      "192         physician    7971.000000\n",
      "193           planter   13322.036667\n",
      "194           printer     132.720000\n",
      "195           sheriff    2133.326667\n",
      "196        shipwright     153.540000\n",
      "197        shopkeeper     190.660000\n",
      "198    south carolina       0.000000\n",
      "199          spinster     364.590000\n",
      "200            tanner     377.490000\n",
      "201         treasurer     262.140000\n",
      "202           trustee    2439.020000\n",
      "203             widow    4910.700000\n",
      "204         gentleman      78.330000\n",
      "205          merchant      90.996233\n",
      "206            weaver      46.020000\n"
     ]
    }
   ],
   "source": [
    "#Append each states occupation + totals dataframes to the end of each other. \n",
    "OccsTotalsAll = pd.concat([OccsTotalsCT, OccsTotalsGA, OccsTotalsMD, OccsTotalsNC, OccsTotalsNH, OccsTotalsNJ,\n",
    "                          OccsTotalsNY, OccsTotalsPA, OccsTotalsRI, OccsTotalsSC, OccsTotalsVA]).reset_index(drop=True)\n",
    "print(OccsTotalsAll.to_string())"
   ]
  },
  {
   "cell_type": "code",
   "execution_count": 1670,
   "id": "965dda18",
   "metadata": {
    "scrolled": false,
    "pycharm": {
     "name": "#%%\n"
    }
   },
   "outputs": [
    {
     "name": "stdout",
     "output_type": "stream",
     "text": [
      "           occupation       6p_total\n",
      "0       adminastrator    4081.060000\n",
      "1          administer    2692.480000\n",
      "2       administrator    1727.270000\n",
      "3      administratrix       0.000000\n",
      "4          apothecary       7.720000\n",
      "5                asse       0.000000\n",
      "6            assignee     345.020000\n",
      "7            attorney   24827.900000\n",
      "8          auctioneer     123.190000\n",
      "9         auctioneers     460.770000\n",
      "10              baker    2365.410000\n",
      "11         blacksmith    3436.000000\n",
      "12         blockmaker    5268.660000\n",
      "13        book binder     783.070000\n",
      "14         bricklayer      37.350000\n",
      "15             broker   79191.020000\n",
      "16            butcher     235.700000\n",
      "17      cabinet maker      74.460000\n",
      "18          carpenter     624.360000\n",
      "19            cashier      85.300000\n",
      "20       chaise maker      47.570000\n",
      "21              clerk    3997.000000\n",
      "22           clothier      53.330000\n",
      "23                 co    2898.860000\n",
      "24          committee     863.410000\n",
      "25            company     206.670000\n",
      "26         comtroller      53.740000\n",
      "27        conveyancer     108.400000\n",
      "28             cooper    1720.910000\n",
      "29        cordwainder     281.250000\n",
      "30         cordwainer    1159.530000\n",
      "31             deacon      16.350000\n",
      "32          distiller     466.250000\n",
      "33             doctor    1092.540000\n",
      "34            doctors    2008.370000\n",
      "35           druggist    4922.430000\n",
      "36                esq     169.877932\n",
      "37            esquier  109843.740000\n",
      "38            esquire   74559.980000\n",
      "39             estate    1979.600000\n",
      "40           excuetor    3120.060200\n",
      "41          executers    8787.960000\n",
      "42           executor    6186.830000\n",
      "43             extors     124.500000\n",
      "44             factor    2961.480000\n",
      "45             farmer   41407.360000\n",
      "46            furrier    3107.180000\n",
      "47          gentleman   41367.310000\n",
      "48            glazier     982.350000\n",
      "49          goldsmith    1020.360000\n",
      "50           guardian    5802.730000\n",
      "51       hair dresser       0.000000\n",
      "52             hatter    3363.410000\n",
      "53        housewright     266.670000\n",
      "54         individual     846.230000\n",
      "55         inn keeper    1870.210000\n",
      "56          innholder    1430.290000\n",
      "57             joiner     159.940000\n",
      "58             judges    2257.180000\n",
      "59           labourer      67.160000\n",
      "60    leather dresser     666.670000\n",
      "61           marchant  612574.610000\n",
      "62            mariner   13336.436100\n",
      "63           marniner     785.620000\n",
      "64              mason    1152.500000\n",
      "65           merchant  362606.196095\n",
      "66             miller      18.990000\n",
      "67            molster     211.380000\n",
      "68     north carolina    4780.840000\n",
      "69            painter      48.610000\n",
      "70          penniston     914.240000\n",
      "71       pennsylvania     856.560000\n",
      "72          physician   22148.810000\n",
      "73            planter   13322.036667\n",
      "74        post master    7083.530000\n",
      "75         post rider     676.910000\n",
      "76            printer    8055.240000\n",
      "77           property     461.110000\n",
      "78        proprietors     335.540000\n",
      "79           reverend    2278.500000\n",
      "80             sadler    3524.740000\n",
      "81   school committee    1071.650000\n",
      "82      school master    2213.750000\n",
      "83       schoolmaster     131.150000\n",
      "84            sheriff    2189.536667\n",
      "85          sherriffs     512.450000\n",
      "86        ship wright    1241.760000\n",
      "87         shipwright     776.590000\n",
      "88          shoemaker    2697.410000\n",
      "89         shopkeeper     812.940000\n",
      "90        silversmith    1917.650000\n",
      "91            soldier      78.480000\n",
      "92     south carolina       0.000000\n",
      "93           spinster    3434.960000\n",
      "94             tanner    2282.800000\n",
      "95             taylor    3644.930000\n",
      "96             trader   12741.530000\n",
      "97          treasurer  251444.820000\n",
      "98              trust    2071.310000\n",
      "99            trustee    2439.020000\n",
      "100            weaver      46.020000\n",
      "101             widow   31947.850000\n",
      "102              wife      63.640000\n",
      "103            yeoman   17736.240000\n"
     ]
    }
   ],
   "source": [
    "OccsTotalsAll = OccsTotalsAll.groupby('occupation')['6p_total'].apply(sum).reset_index() #Combine duplicate occupations.\n",
    "print(OccsTotalsAll.to_string())"
   ]
  },
  {
   "cell_type": "code",
   "execution_count": 1671,
   "id": "364b505a",
   "metadata": {
    "scrolled": false,
    "pycharm": {
     "name": "#%%\n"
    }
   },
   "outputs": [
    {
     "name": "stdout",
     "output_type": "stream",
     "text": [
      "Occupations --> Potential Cleaned Occupations\n",
      "---------------------------------------------\n",
      "\n",
      "\n",
      "adminastrator --> adminastrator\n",
      "administer --> administer\n",
      "administrator --> administrator\n",
      "administratrix --> administratrix\n",
      "apothecary --> apothecary\n",
      "asse --> asse\n",
      "assignee --> assignee\n",
      "attorney --> attorney\n",
      "auctioneer --> auctioneer\n",
      "auctioneers --> auctioneers\n",
      "baker --> baker\n",
      "blacksmith --> blacksmith\n",
      "blockmaker --> blockmaker\n",
      "book binder --> book\n",
      "bricklayer --> bricklayer\n",
      "broker --> broker\n",
      "butcher --> butcher\n",
      "cabinet maker --> cabinet\n",
      "carpenter --> carpenter\n",
      "cashier --> cashier\n",
      "chaise maker --> chaise\n",
      "clerk --> clerk\n",
      "clothier --> clothier\n",
      "co --> co\n",
      "committee --> committee\n",
      "company --> company\n",
      "comtroller --> comtroller\n",
      "conveyancer --> conveyancer\n",
      "cooper --> cooper\n",
      "cordwainder --> cordwainder\n",
      "cordwainer --> cordwainer\n",
      "deacon --> deacon\n",
      "distiller --> distiller\n",
      "doctor --> doctor\n",
      "doctors --> doctors\n",
      "druggist --> druggist\n",
      "esq --> esq\n",
      "esquier --> esquier\n",
      "esquire --> esquire\n",
      "estate --> estate\n",
      "excuetor --> excuetor\n",
      "executers --> executers\n",
      "executor --> executor\n",
      "extors --> extors\n",
      "factor --> factor\n",
      "farmer --> farmer\n",
      "furrier --> furrier\n",
      "gentleman --> gentleman\n",
      "glazier --> glazier\n",
      "goldsmith --> goldsmith\n",
      "guardian --> guardian\n",
      "hair dresser --> hair\n",
      "hatter --> hatter\n",
      "housewright --> housewright\n",
      "individual --> individual\n",
      "inn keeper --> inn\n",
      "innholder --> innholder\n",
      "joiner --> joiner\n",
      "judges --> judges\n",
      "labourer --> labourer\n",
      "leather dresser --> leather\n",
      "marchant --> marchant\n",
      "mariner --> mariner\n",
      "marniner --> marniner\n",
      "mason --> mason\n",
      "merchant --> merchant\n",
      "miller --> miller\n",
      "molster --> molster\n",
      "north carolina --> north\n",
      "painter --> painter\n",
      "penniston --> penniston\n",
      "pennsylvania --> pennsylvania\n",
      "physician --> physician\n",
      "planter --> planter\n",
      "post master --> post\n",
      "post rider --> post\n",
      "printer --> printer\n",
      "property --> property\n",
      "proprietors --> proprietors\n",
      "reverend --> reverend\n",
      "sadler --> sadler\n",
      "school committee --> school\n",
      "school master --> school\n",
      "schoolmaster --> schoolmaster\n",
      "sheriff --> sheriff\n",
      "sherriffs --> sherriffs\n",
      "ship wright --> ship\n",
      "shipwright --> shipwright\n",
      "shoemaker --> shoemaker\n",
      "shopkeeper --> shopkeeper\n",
      "silversmith --> silversmith\n",
      "soldier --> soldier\n",
      "south carolina --> south\n",
      "spinster --> spinster\n",
      "tanner --> tanner\n",
      "taylor --> taylor\n",
      "trader --> trader\n",
      "treasurer --> treasurer\n",
      "trust --> trust\n",
      "trustee --> trustee\n",
      "weaver --> weaver\n",
      "widow --> widow\n",
      "wife --> wife\n",
      "yeoman --> yeoman\n"
     ]
    }
   ],
   "source": [
    "PrintFutureOccupations(OccsTotalsAll['occupation'].tolist())"
   ]
  },
  {
   "cell_type": "code",
   "execution_count": 1672,
   "id": "3c44c61a",
   "metadata": {
    "pycharm": {
     "name": "#%%\n"
    }
   },
   "outputs": [],
   "source": [
    "ExceptionsAll = {'book binder' : 'book binder', 'cabinet maker' : 'cabinet maker', 'chaise maker' : 'chaise maker', 'esq' : 'esquire',\n",
    "                'extors' : 'executors', 'hair dresser' : 'hair dresser', 'inn keeper' : 'inn keeper', 'junior broker' : 'broker',\n",
    "                'leather dresser' : 'leather dresser', 'north carolina' : 'north carolina', 'post master' : 'post master', \n",
    "                'post rider' : 'post rider', 'school committee' : 'school committee', 'school master' : 'schoolmaster', 'ship wright' : 'shipwright',\n",
    "                'south carolina' : 'south carolina', 'administer' : 'adminastrator', 'excuetor' : 'executor'}"
   ]
  },
  {
   "cell_type": "code",
   "execution_count": 1673,
   "id": "6152b9d2",
   "metadata": {
    "pycharm": {
     "name": "#%%\n"
    }
   },
   "outputs": [],
   "source": [
    "NoMerge = ['planter', 'printer']"
   ]
  },
  {
   "cell_type": "code",
   "execution_count": 1674,
   "id": "4204e8c6",
   "metadata": {
    "scrolled": false,
    "pycharm": {
     "name": "#%%\n"
    }
   },
   "outputs": [
    {
     "name": "stdout",
     "output_type": "stream",
     "text": [
      "After Cleaning\n",
      "--------------\n",
      "\n",
      "\n",
      "           occupation       6p_total\n",
      "0       adminastrator    4081.060000\n",
      "1       adminastrator    2692.480000\n",
      "2       administrator    1727.270000\n",
      "3      administratrix       0.000000\n",
      "4          apothecary       7.720000\n",
      "5                asse       0.000000\n",
      "6            assignee     345.020000\n",
      "7            attorney   24827.900000\n",
      "8          auctioneer     123.190000\n",
      "9         auctioneers     460.770000\n",
      "10              baker    2365.410000\n",
      "11         blacksmith    3436.000000\n",
      "12         blockmaker    5268.660000\n",
      "13        book binder     783.070000\n",
      "14         bricklayer      37.350000\n",
      "15             broker   79191.020000\n",
      "16            butcher     235.700000\n",
      "17      cabinet maker      74.460000\n",
      "18          carpenter     624.360000\n",
      "19            cashier      85.300000\n",
      "20       chaise maker      47.570000\n",
      "21              clerk    3997.000000\n",
      "22           clothier      53.330000\n",
      "23                 co    2898.860000\n",
      "24          committee     863.410000\n",
      "25            company     206.670000\n",
      "26         comtroller      53.740000\n",
      "27        conveyancer     108.400000\n",
      "28             cooper    1720.910000\n",
      "29        cordwainder     281.250000\n",
      "30         cordwainer    1159.530000\n",
      "31             deacon      16.350000\n",
      "32          distiller     466.250000\n",
      "33             doctor    1092.540000\n",
      "34            doctors    2008.370000\n",
      "35           druggist    4922.430000\n",
      "36            esquire     169.877932\n",
      "37            esquier  109843.740000\n",
      "38            esquire   74559.980000\n",
      "39             estate    1979.600000\n",
      "40           executor    3120.060200\n",
      "41          executers    8787.960000\n",
      "42           executor    6186.830000\n",
      "43          executors     124.500000\n",
      "44             factor    2961.480000\n",
      "45             farmer   41407.360000\n",
      "46            furrier    3107.180000\n",
      "47          gentleman   41367.310000\n",
      "48            glazier     982.350000\n",
      "49          goldsmith    1020.360000\n",
      "50           guardian    5802.730000\n",
      "51       hair dresser       0.000000\n",
      "52             hatter    3363.410000\n",
      "53        housewright     266.670000\n",
      "54         individual     846.230000\n",
      "55         inn keeper    1870.210000\n",
      "56          innholder    1430.290000\n",
      "57             joiner     159.940000\n",
      "58             judges    2257.180000\n",
      "59           labourer      67.160000\n",
      "60    leather dresser     666.670000\n",
      "61           marchant  612574.610000\n",
      "62            mariner   13336.436100\n",
      "63           marniner     785.620000\n",
      "64              mason    1152.500000\n",
      "65           merchant  362606.196095\n",
      "66             miller      18.990000\n",
      "67            molster     211.380000\n",
      "68     north carolina    4780.840000\n",
      "69            painter      48.610000\n",
      "70          penniston     914.240000\n",
      "71       pennsylvania     856.560000\n",
      "72          physician   22148.810000\n",
      "73            planter   13322.036667\n",
      "74        post master    7083.530000\n",
      "75         post rider     676.910000\n",
      "76            printer    8055.240000\n",
      "77           property     461.110000\n",
      "78        proprietors     335.540000\n",
      "79           reverend    2278.500000\n",
      "80             sadler    3524.740000\n",
      "81   school committee    1071.650000\n",
      "82       schoolmaster    2213.750000\n",
      "83       schoolmaster     131.150000\n",
      "84            sheriff    2189.536667\n",
      "85          sherriffs     512.450000\n",
      "86         shipwright    1241.760000\n",
      "87         shipwright     776.590000\n",
      "88          shoemaker    2697.410000\n",
      "89         shopkeeper     812.940000\n",
      "90        silversmith    1917.650000\n",
      "91            soldier      78.480000\n",
      "92     south carolina       0.000000\n",
      "93           spinster    3434.960000\n",
      "94             tanner    2282.800000\n",
      "95             taylor    3644.930000\n",
      "96             trader   12741.530000\n",
      "97          treasurer  251444.820000\n",
      "98              trust    2071.310000\n",
      "99            trustee    2439.020000\n",
      "100            weaver      46.020000\n",
      "101             widow   31947.850000\n",
      "102              wife      63.640000\n",
      "103            yeoman   17736.240000\n",
      "\n",
      "\n",
      "After Removing Duplicates and Summing\n",
      "-------------------------------------\n",
      "\n",
      "\n",
      "          occupation       6p_total\n",
      "0      adminastrator    6773.540000\n",
      "1      administrator    1727.270000\n",
      "2     administratrix       0.000000\n",
      "3         apothecary       7.720000\n",
      "4               asse       0.000000\n",
      "5           assignee     345.020000\n",
      "6           attorney   24827.900000\n",
      "7         auctioneer     123.190000\n",
      "8        auctioneers     460.770000\n",
      "9              baker    2365.410000\n",
      "10        blacksmith    3436.000000\n",
      "11        blockmaker    5268.660000\n",
      "12       book binder     783.070000\n",
      "13        bricklayer      37.350000\n",
      "14            broker   79191.020000\n",
      "15           butcher     235.700000\n",
      "16     cabinet maker      74.460000\n",
      "17         carpenter     624.360000\n",
      "18           cashier      85.300000\n",
      "19      chaise maker      47.570000\n",
      "20             clerk    3997.000000\n",
      "21          clothier      53.330000\n",
      "22                co    2898.860000\n",
      "23         committee     863.410000\n",
      "24           company     206.670000\n",
      "25        comtroller      53.740000\n",
      "26       conveyancer     108.400000\n",
      "27            cooper    1720.910000\n",
      "28       cordwainder     281.250000\n",
      "29        cordwainer    1159.530000\n",
      "30            deacon      16.350000\n",
      "31         distiller     466.250000\n",
      "32            doctor    1092.540000\n",
      "33           doctors    2008.370000\n",
      "34          druggist    4922.430000\n",
      "35           esquier  109843.740000\n",
      "36           esquire   74729.857932\n",
      "37            estate    1979.600000\n",
      "38         executers    8787.960000\n",
      "39          executor    9306.890200\n",
      "40         executors     124.500000\n",
      "41            factor    2961.480000\n",
      "42            farmer   41407.360000\n",
      "43           furrier    3107.180000\n",
      "44         gentleman   41367.310000\n",
      "45           glazier     982.350000\n",
      "46         goldsmith    1020.360000\n",
      "47          guardian    5802.730000\n",
      "48      hair dresser       0.000000\n",
      "49            hatter    3363.410000\n",
      "50       housewright     266.670000\n",
      "51        individual     846.230000\n",
      "52        inn keeper    1870.210000\n",
      "53         innholder    1430.290000\n",
      "54            joiner     159.940000\n",
      "55            judges    2257.180000\n",
      "56          labourer      67.160000\n",
      "57   leather dresser     666.670000\n",
      "58          marchant  612574.610000\n",
      "59           mariner   13336.436100\n",
      "60          marniner     785.620000\n",
      "61             mason    1152.500000\n",
      "62          merchant  362606.196095\n",
      "63            miller      18.990000\n",
      "64           molster     211.380000\n",
      "65    north carolina    4780.840000\n",
      "66           painter      48.610000\n",
      "67         penniston     914.240000\n",
      "68      pennsylvania     856.560000\n",
      "69         physician   22148.810000\n",
      "70           planter   13322.036667\n",
      "71       post master    7083.530000\n",
      "72        post rider     676.910000\n",
      "73           printer    8055.240000\n",
      "74          property     461.110000\n",
      "75       proprietors     335.540000\n",
      "76          reverend    2278.500000\n",
      "77            sadler    3524.740000\n",
      "78  school committee    1071.650000\n",
      "79      schoolmaster    2344.900000\n",
      "80           sheriff    2189.536667\n",
      "81         sherriffs     512.450000\n",
      "82        shipwright    2018.350000\n",
      "83         shoemaker    2697.410000\n",
      "84        shopkeeper     812.940000\n",
      "85       silversmith    1917.650000\n",
      "86           soldier      78.480000\n",
      "87    south carolina       0.000000\n",
      "88          spinster    3434.960000\n",
      "89            tanner    2282.800000\n",
      "90            taylor    3644.930000\n",
      "91            trader   12741.530000\n",
      "92         treasurer  251444.820000\n",
      "93             trust    2071.310000\n",
      "94           trustee    2439.020000\n",
      "95            weaver      46.020000\n",
      "96             widow   31947.850000\n",
      "97              wife      63.640000\n",
      "98            yeoman   17736.240000\n",
      "\n",
      "\n",
      "Removed: administrator --> adminastrator\n",
      "Removed: administratrix --> adminastrator\n",
      "Removed: auctioneers --> auctioneer\n",
      "Removed: cordwainer --> cordwainder\n",
      "Removed: doctors --> doctor\n",
      "Removed: esquire --> esquier\n",
      "Removed: executor --> executers\n",
      "Removed: executors --> executers\n",
      "Removed: merchant --> marchant\n",
      "Removed: marniner --> mariner\n",
      "Removed: south carolina --> north carolina\n",
      "Removed: sherriffs --> sheriff\n",
      "Removed: trustee --> trust\n",
      "\n",
      "\n",
      "After Using Fuzzy String Matching\n",
      "---------------------------------\n",
      "\n",
      "\n",
      "          occupation       6p_total\n",
      "0      adminastrator    8500.810000\n",
      "1         apothecary       7.720000\n",
      "2               asse       0.000000\n",
      "3           assignee     345.020000\n",
      "4           attorney   24827.900000\n",
      "5         auctioneer     583.960000\n",
      "6              baker    2365.410000\n",
      "7         blacksmith    3436.000000\n",
      "8         blockmaker    5268.660000\n",
      "9        book binder     783.070000\n",
      "10        bricklayer      37.350000\n",
      "11            broker   79191.020000\n",
      "12           butcher     235.700000\n",
      "13     cabinet maker      74.460000\n",
      "14         carpenter     624.360000\n",
      "15           cashier      85.300000\n",
      "16      chaise maker      47.570000\n",
      "17             clerk    3997.000000\n",
      "18          clothier      53.330000\n",
      "19                co    2898.860000\n",
      "20         committee     863.410000\n",
      "21           company     206.670000\n",
      "22        comtroller      53.740000\n",
      "23       conveyancer     108.400000\n",
      "24            cooper    1720.910000\n",
      "25       cordwainder    1440.780000\n",
      "26            deacon      16.350000\n",
      "27         distiller     466.250000\n",
      "28            doctor    3100.910000\n",
      "29          druggist    4922.430000\n",
      "30           esquier  184573.597932\n",
      "31            estate    1979.600000\n",
      "32         executers   18219.350200\n",
      "33            factor    2961.480000\n",
      "34            farmer   41407.360000\n",
      "35           furrier    3107.180000\n",
      "36         gentleman   41367.310000\n",
      "37           glazier     982.350000\n",
      "38         goldsmith    1020.360000\n",
      "39          guardian    5802.730000\n",
      "40      hair dresser       0.000000\n",
      "41            hatter    3363.410000\n",
      "42       housewright     266.670000\n",
      "43        individual     846.230000\n",
      "44        inn keeper    1870.210000\n",
      "45         innholder    1430.290000\n",
      "46            joiner     159.940000\n",
      "47            judges    2257.180000\n",
      "48          labourer      67.160000\n",
      "49   leather dresser     666.670000\n",
      "50          marchant  975180.806095\n",
      "51           mariner   14122.056100\n",
      "52             mason    1152.500000\n",
      "53            miller      18.990000\n",
      "54           molster     211.380000\n",
      "55    north carolina    4780.840000\n",
      "56           painter      48.610000\n",
      "57         penniston     914.240000\n",
      "58      pennsylvania     856.560000\n",
      "59         physician   22148.810000\n",
      "60           planter   13322.036667\n",
      "61       post master    7083.530000\n",
      "62        post rider     676.910000\n",
      "63           printer    8055.240000\n",
      "64          property     461.110000\n",
      "65       proprietors     335.540000\n",
      "66          reverend    2278.500000\n",
      "67            sadler    3524.740000\n",
      "68  school committee    1071.650000\n",
      "69      schoolmaster    2344.900000\n",
      "70           sheriff    2701.986667\n",
      "71        shipwright    2018.350000\n",
      "72         shoemaker    2697.410000\n",
      "73        shopkeeper     812.940000\n",
      "74       silversmith    1917.650000\n",
      "75           soldier      78.480000\n",
      "76          spinster    3434.960000\n",
      "77            tanner    2282.800000\n",
      "78            taylor    3644.930000\n",
      "79            trader   12741.530000\n",
      "80         treasurer  251444.820000\n",
      "81             trust    4510.330000\n",
      "82            weaver      46.020000\n",
      "83             widow   31947.850000\n",
      "84              wife      63.640000\n",
      "85            yeoman   17736.240000\n",
      "\n",
      "\n"
     ]
    }
   ],
   "source": [
    "OccsTotalsAll = MergeOccupations(OccsTotalsAll, ExceptionsAll)"
   ]
  },
  {
   "cell_type": "code",
   "execution_count": 1675,
   "id": "f34d0f23",
   "metadata": {
    "pycharm": {
     "name": "#%%\n"
    }
   },
   "outputs": [
    {
     "name": "stdout",
     "output_type": "stream",
     "text": [
      "          occupation       6p_total\n",
      "0      adminastrator    8500.810000\n",
      "1         apothecary       7.720000\n",
      "2           assignee     345.020000\n",
      "3           attorney   24827.900000\n",
      "4         auctioneer     583.960000\n",
      "5              baker    2365.410000\n",
      "6         blacksmith    3436.000000\n",
      "7         blockmaker    5268.660000\n",
      "8        book binder     783.070000\n",
      "9         bricklayer      37.350000\n",
      "10            broker   79191.020000\n",
      "11           butcher     235.700000\n",
      "12     cabinet maker      74.460000\n",
      "13         carpenter     624.360000\n",
      "14           cashier      85.300000\n",
      "15      chaise maker      47.570000\n",
      "16             clerk    3997.000000\n",
      "17          clothier      53.330000\n",
      "18                co    2898.860000\n",
      "19         committee     863.410000\n",
      "20           company     206.670000\n",
      "21        comtroller      53.740000\n",
      "22       conveyancer     108.400000\n",
      "23            cooper    1720.910000\n",
      "24       cordwainder    1440.780000\n",
      "25            deacon      16.350000\n",
      "26         distiller     466.250000\n",
      "27            doctor    3100.910000\n",
      "28          druggist    4922.430000\n",
      "29           esquier  184573.597932\n",
      "30            estate    1979.600000\n",
      "31         executers   18219.350200\n",
      "32            factor    2961.480000\n",
      "33            farmer   41407.360000\n",
      "34           furrier    3107.180000\n",
      "35         gentleman   41367.310000\n",
      "36           glazier     982.350000\n",
      "37         goldsmith    1020.360000\n",
      "38          guardian    5802.730000\n",
      "39            hatter    3363.410000\n",
      "40       housewright     266.670000\n",
      "41        individual     846.230000\n",
      "42        inn keeper    1870.210000\n",
      "43         innholder    1430.290000\n",
      "44            joiner     159.940000\n",
      "45            judges    2257.180000\n",
      "46          labourer      67.160000\n",
      "47   leather dresser     666.670000\n",
      "48          marchant  975180.806095\n",
      "49           mariner   14122.056100\n",
      "50             mason    1152.500000\n",
      "51            miller      18.990000\n",
      "52           molster     211.380000\n",
      "53    north carolina    4780.840000\n",
      "54           painter      48.610000\n",
      "55         penniston     914.240000\n",
      "56      pennsylvania     856.560000\n",
      "57         physician   22148.810000\n",
      "58           planter   13322.036667\n",
      "59       post master    7083.530000\n",
      "60        post rider     676.910000\n",
      "61           printer    8055.240000\n",
      "62          property     461.110000\n",
      "63       proprietors     335.540000\n",
      "64          reverend    2278.500000\n",
      "65            sadler    3524.740000\n",
      "66  school committee    1071.650000\n",
      "67      schoolmaster    2344.900000\n",
      "68           sheriff    2701.986667\n",
      "69        shipwright    2018.350000\n",
      "70         shoemaker    2697.410000\n",
      "71        shopkeeper     812.940000\n",
      "72       silversmith    1917.650000\n",
      "73           soldier      78.480000\n",
      "74          spinster    3434.960000\n",
      "75            tanner    2282.800000\n",
      "76            taylor    3644.930000\n",
      "77            trader   12741.530000\n",
      "78         treasurer  251444.820000\n",
      "79             trust    4510.330000\n",
      "80            weaver      46.020000\n",
      "81             widow   31947.850000\n",
      "82              wife      63.640000\n",
      "83            yeoman   17736.240000\n"
     ]
    }
   ],
   "source": [
    "#Remove any occupatins will a total of '0'\n",
    "OccsTotalsAll = OccsTotalsAll[OccsTotalsAll['6p_total'] != 0].reset_index(drop=True)\n",
    "print(OccsTotalsAll.to_string())"
   ]
  },
  {
   "cell_type": "code",
   "execution_count": 1676,
   "id": "e4f70239",
   "metadata": {
    "pycharm": {
     "name": "#%%\n"
    }
   },
   "outputs": [],
   "source": [
    "TurnToExcel(OccsTotalsAll, 'AllStates')"
   ]
  }
 ],
 "metadata": {
  "kernelspec": {
   "display_name": "Python 3 (ipykernel)",
   "language": "python",
   "name": "python3"
  },
  "language_info": {
   "codemirror_mode": {
    "name": "ipython",
    "version": 3
   },
   "file_extension": ".py",
   "mimetype": "text/x-python",
   "name": "python",
   "nbconvert_exporter": "python",
   "pygments_lexer": "ipython3",
   "version": "3.7.9"
  }
 },
 "nbformat": 4,
 "nbformat_minor": 5
}