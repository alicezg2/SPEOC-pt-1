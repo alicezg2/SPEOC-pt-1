{
 "cells": [
  {
   "cell_type": "markdown",
   "source": [
    "# Outline\n",
    "1. Import continental and assumed debt for each state\n",
    "2. Map towns to county names using mapping file + fuzzy string matching\n",
    "3. Use county shape files to create maps"
   ],
   "metadata": {
    "collapsed": false,
    "pycharm": {
     "name": "#%% md\n"
    }
   }
  },
  {
   "cell_type": "markdown",
   "source": [
    "## Documentation Notes\n",
    "1. All non-exact matches will be printed out when doing merges (exact matches are not printed)"
   ],
   "metadata": {
    "collapsed": false,
    "pycharm": {
     "name": "#%% md\n"
    }
   }
  },
  {
   "cell_type": "markdown",
   "source": [
    "## Cleaning Questions\n",
    "1. What do we do about an entry that has entries for some debt types, but not for others? Do we want to drop those entries, impute the values, or set NA values to 0?\n",
    "2. What do we do about entries that have a state, but no town (ie: State of Connecticut)? What about no state?"
   ],
   "metadata": {
    "collapsed": false,
    "pycharm": {
     "name": "#%% md\n"
    }
   }
  },
  {
   "cell_type": "code",
   "execution_count": 155,
   "outputs": [],
   "source": [
    "import numpy as np\n",
    "import pandas as pd\n",
    "from rapidfuzz import process"
   ],
   "metadata": {
    "collapsed": false,
    "pycharm": {
     "name": "#%%\n"
    }
   }
  },
  {
   "cell_type": "code",
   "execution_count": 100,
   "outputs": [],
   "source": [
    "def combineCols(df):\n",
    "    for col in ['town', 'state', 'occupation']:\n",
    "        # \" \".join(x.split()) removes all excess whitespace\n",
    "        # creates set with all unique instances of column\n",
    "        df[col] = [set([\" \".join(x.split()) for x in [t1, t2, t3] if not pd.isnull(x)]) for t1, t2, t3 in zip(df[col+'1'],\n",
    "                                                                                                                 df[col+'2'],\n",
    "                                                                                                                 df[col+'3'])]\n",
    "        if not any(df[col].apply(lambda x: len(x) > 1).tolist()):\n",
    "            # change set to string\n",
    "            print(\"reformatting {}\".format(col))\n",
    "            df[col] = df[col].apply(lambda x: x.pop() if x != set() else np.nan)\n",
    "        else:\n",
    "            print(\"{} column has multiple unique entries\".format(col))\n",
    "            print(\"see table for new entries\")\n",
    "            # keep the value that has the most characters, otherwise change set to string\n",
    "            old = df[df[col].apply(lambda x: len(x) > 1)][col]\n",
    "            df[col] = df[col].apply(lambda x: x.pop() if len(x) == 1 else np.nan if x == set() else max(list(x), key=len))\n",
    "            # new dataframe to keep track of changes\n",
    "            change_df = pd.DataFrame([old, df.loc[old.index][col]]).T\n",
    "            change_df.columns = ['old', 'new']\n",
    "            print(change_df)\n",
    "\n",
    "    # add functions to combine asset totals, handle missing debt values\n",
    "\n",
    "    return df[['6p_Dollar', '6p_Cents', '6p_def_Dollar', '6p_def_Cents','3p_Dollar', '3p_Cents',\n",
    "               'town', 'state', 'occupation']]"
   ],
   "metadata": {
    "collapsed": false,
    "pycharm": {
     "name": "#%%\n"
    }
   }
  },
  {
   "cell_type": "code",
   "execution_count": 92,
   "outputs": [
    {
     "data": {
      "text/plain": "\"ind1, ind2, ind3 = CT_CD[['6p_Dollar', '6p_Cents']].dropna(thresh = 1).index,\\n                   CT_CD[['6p_def_Dollar', '6p_def_Cents']].dropna(thresh = 1).index,\\n                   CT_CD[['3p_Dollar', '3p_Cents']].dropna(thresh = 1).index\\nind = set(ind1).intersection(ind2).intersection(ind3)\""
     },
     "execution_count": 92,
     "metadata": {},
     "output_type": "execute_result"
    }
   ],
   "source": [
    "\"\"\"ind1, ind2, ind3 = CT_CD[['6p_Dollar', '6p_Cents']].dropna(thresh = 1).index,\n",
    "                   CT_CD[['6p_def_Dollar', '6p_def_Cents']].dropna(thresh = 1).index,\n",
    "                   CT_CD[['3p_Dollar', '3p_Cents']].dropna(thresh = 1).index\n",
    "ind = set(ind1).intersection(ind2).intersection(ind3)\"\"\""
   ],
   "metadata": {
    "collapsed": false,
    "pycharm": {
     "name": "#%%\n"
    }
   }
  },
  {
   "cell_type": "markdown",
   "source": [
    "## Import Data - INCOMPLETE\n",
    "1. Import CD and ASD for each state, combine the multiple town/state/occupation columns (if they exist) into one\n",
    "2. Concatenate all the separate datasets into two (one CD and one ASD)"
   ],
   "metadata": {
    "collapsed": false,
    "pycharm": {
     "name": "#%% md\n"
    }
   }
  },
  {
   "cell_type": "code",
   "execution_count": 254,
   "outputs": [],
   "source": [
    "CD_all = pd.DataFrame(columns = ['6p_Dollar', '6p_Cents', '6p_def_Dollar', '6p_def_Cents','3p_Dollar', '3p_Cents',\n",
    "                                  'town', 'state', 'occupation'])\n",
    "ASD_all = pd.DataFrame(columns = ['6p_Dollar', '6p_Cents', '6p_def_Dollar', '6p_def_Cents','3p_Dollar', '3p_Cents',\n",
    "                                  'town', 'state', 'occupation'])"
   ],
   "metadata": {
    "collapsed": false,
    "pycharm": {
     "name": "#%%\n"
    }
   }
  },
  {
   "cell_type": "code",
   "execution_count": 240,
   "outputs": [
    {
     "name": "stdout",
     "output_type": "stream",
     "text": [
      "town column has multiple unique entries\n",
      "see table for new entries\n",
      "                   old      new\n",
      "526  {Milford, Miford}  Milford\n",
      "799  {Nowich, Norwich}  Norwich\n",
      "reformatting state\n",
      "reformatting occupation\n"
     ]
    }
   ],
   "source": [
    "# importing desired columns and rename\n",
    "CT_CD_raw = pd.read_excel(\"../../Data/Post1790/CT/CT_post1790_CD_ledger.xlsx\",\n",
    "                      header = 13, usecols = 'H, I, J, K, L, N, O, X, Y, Z, AA, AB, AD, AE, AN, AO, AP, AQ, AR, AT, AU')\n",
    "CT_CD_raw.columns = ['First Name', 'Last Name', 'town1', 'state1', 'occupation1', '6p_Dollar', '6p_Cents',\n",
    "                     'First Name.1', 'Last Name.1', 'town2', 'state2', 'occupation2', '6p_def_Dollar', '6p_def_Cents',\n",
    "                     'First Name.2', 'Last Name.2', 'town3', 'state3', 'occupation3', '3p_Dollar', '3p_Cents', ]\n",
    "# unify occupation, town and state columns\n",
    "CT_CD = combineCols(CT_CD_raw)\n",
    "CD_all = pd.concat([CD_all, CT_CD])"
   ],
   "metadata": {
    "collapsed": false,
    "pycharm": {
     "name": "#%%\n"
    }
   }
  },
  {
   "cell_type": "code",
   "execution_count": 256,
   "outputs": [
    {
     "data": {
      "text/plain": "array(['Hartford County', 'Tolland County', nan, 'New London County',\n       'New Haven County', 'Litchfield County', 'Fairfield County',\n       'Windham County', 'Middlesex County'], dtype=object)"
     },
     "execution_count": 256,
     "metadata": {},
     "output_type": "execute_result"
    }
   ],
   "source": [
    "CT_CD['county'].unique()"
   ],
   "metadata": {
    "collapsed": false,
    "pycharm": {
     "name": "#%%\n"
    }
   }
  },
  {
   "cell_type": "code",
   "execution_count": 241,
   "outputs": [
    {
     "name": "stdout",
     "output_type": "stream",
     "text": [
      "town column has multiple unique entries\n",
      "see table for new entries\n",
      "                    old      new\n",
      "125  {Norwall, Norwalk}  Norwall\n",
      "reformatting state\n",
      "occupation column has multiple unique entries\n",
      "see table for new entries\n",
      "                                                   old  \\\n",
      "811  {1st Society in Lyme, Treasuer 1st Society in ...   \n",
      "\n",
      "                              new  \n",
      "811  Treasuer 1st Society in Lyme  \n"
     ]
    }
   ],
   "source": [
    "# importing desired columns and rename\n",
    "CT_ASD_raw = pd.read_excel(\"../../Data/Post1790/CT/CT_post1790_ASD_ledger.xlsx\",\n",
    "                       header = 13, usecols = 'H, I, J, K, L, N, O, X, Y, Z, AA, AB, AD, AE, AN, AO, AP, AQ, AR, AT, AU')\n",
    "CT_ASD_raw.columns = ['First Name', 'Last Name', 'town1', 'state1', 'occupation1', '6p_Dollar', '6p_Cents',\n",
    "                     'First Name.1', 'Last Name.1', 'town2', 'state2', 'occupation2', '6p_def_Dollar', '6p_def_Cents',\n",
    "                     'First Name.2', 'Last Name.2', 'town3', 'state3', 'occupation3', '3p_Dollar', '3p_Cents', ]\n",
    "# unify occupation, town and state columns\n",
    "CT_ASD = combineCols(CT_ASD_raw)\n",
    "ASD_all = pd.concat([ASD_all, CT_ASD])"
   ],
   "metadata": {
    "collapsed": false,
    "pycharm": {
     "name": "#%%\n"
    }
   }
  },
  {
   "cell_type": "markdown",
   "source": [
    "## Mapping Town/City to Counties - INCOMPLETE\n",
    "1. Connecticut: Referencing <a href = \"https://ctstatelibrary.org/cttowns/counties\">https://ctstatelibrary.org/cttowns/counties</a> I found that Huntington is now called Shelton and Chatham is now called East Hampton. The other two cases below are not mappable because those are not valid town names."
   ],
   "metadata": {
    "collapsed": false,
    "pycharm": {
     "name": "#%% md\n"
    }
   }
  },
  {
   "cell_type": "code",
   "execution_count": 242,
   "outputs": [],
   "source": [
    "# fuzzy string matching function\n",
    "def fuzzyTownMatch(towns, crosswalk, initial = True):\n",
    "    # which column contains list of unmatched names\n",
    "    if initial:\n",
    "        unmatched_towns = towns[towns['county'].apply(lambda x: pd.isnull(x))]['town']\n",
    "    else:\n",
    "        unmatched_towns = towns[towns['county'].apply(lambda x: pd.isnull(x))]['town2']\n",
    "\n",
    "    for town in unmatched_towns:\n",
    "        # extract best match\n",
    "        match_tuple = process.extractOne(town, crosswalk['primary_city'])\n",
    "        score = match_tuple[1]\n",
    "        match = match_tuple[0]\n",
    "        # if match above threshold, change + print match so we can hand check\n",
    "        if score >= 85:\n",
    "            county = primary_dict[match]\n",
    "            if initial:\n",
    "                print(\"{} -> {} in {}\".format(town, match, county))\n",
    "            else:\n",
    "                original_town = towns[towns['town2'] == town]['town'].tolist()[0]\n",
    "                print(\"{} (new name: {}) -> {} in {}\".format(original_town, town, match, county))\n",
    "            town_index = towns[towns['town'] == town].index\n",
    "            towns.loc[town_index, 'county'] = county\n",
    "        else:\n",
    "            print(\"Cannot find a match for the town {}\".format(town))\n",
    "    return towns"
   ],
   "metadata": {
    "collapsed": false,
    "pycharm": {
     "name": "#%%\n"
    }
   }
  },
  {
   "cell_type": "code",
   "execution_count": null,
   "outputs": [],
   "source": [
    "city_county_cw = pd.read_excel(\"../../Data/zip_code_database.xls\")[['primary_city', 'acceptable_cities',\n",
    "                                                                    'unacceptable_cities', 'county', 'state']]\n",
    "# list_of_states is not functional rn\n",
    "list_of_states = CD_all['state'].unique().tolist()\n",
    "print(list_of_states)\n",
    "assert(len(list_of_states) == 13)"
   ],
   "metadata": {
    "collapsed": false,
    "pycharm": {
     "name": "#%%\n"
    }
   }
  },
  {
   "cell_type": "code",
   "execution_count": 250,
   "outputs": [
    {
     "ename": "NameError",
     "evalue": "name 'list_of_states' is not defined",
     "output_type": "error",
     "traceback": [
      "\u001B[0;31m---------------------------------------------------------------------------\u001B[0m",
      "\u001B[0;31mNameError\u001B[0m                                 Traceback (most recent call last)",
      "\u001B[0;32m/var/folders/5s/dvrxt95949x1pm_sjxm85lj00000gn/T/ipykernel_60823/891000274.py\u001B[0m in \u001B[0;36m<module>\u001B[0;34m\u001B[0m\n\u001B[1;32m      1\u001B[0m city_county_cw = pd.read_excel(\"../../Data/zip_code_database.xls\")[['primary_city', 'acceptable_cities',\n\u001B[1;32m      2\u001B[0m                                                                     'unacceptable_cities', 'county', 'state']]\n\u001B[0;32m----> 3\u001B[0;31m \u001B[0;32mfor\u001B[0m \u001B[0mstate\u001B[0m \u001B[0;32min\u001B[0m \u001B[0mlist_of_states\u001B[0m\u001B[0;34m:\u001B[0m\u001B[0;34m\u001B[0m\u001B[0;34m\u001B[0m\u001B[0m\n\u001B[0m\u001B[1;32m      4\u001B[0m     \u001B[0;31m# create list of towns for each state\u001B[0m\u001B[0;34m\u001B[0m\u001B[0;34m\u001B[0m\u001B[0;34m\u001B[0m\u001B[0m\n\u001B[1;32m      5\u001B[0m     \u001B[0mtowns\u001B[0m \u001B[0;34m=\u001B[0m \u001B[0mCT_CD\u001B[0m\u001B[0;34m[\u001B[0m\u001B[0mCT_CD\u001B[0m\u001B[0;34m[\u001B[0m\u001B[0;34m'state'\u001B[0m\u001B[0;34m]\u001B[0m \u001B[0;34m==\u001B[0m \u001B[0mstate\u001B[0m\u001B[0;34m]\u001B[0m\u001B[0;34m[\u001B[0m\u001B[0;34m[\u001B[0m\u001B[0;34m'town'\u001B[0m\u001B[0;34m]\u001B[0m\u001B[0;34m]\u001B[0m\u001B[0;34m.\u001B[0m\u001B[0mdrop_duplicates\u001B[0m\u001B[0;34m(\u001B[0m\u001B[0;34m)\u001B[0m\u001B[0;34m\u001B[0m\u001B[0;34m\u001B[0m\u001B[0m\n",
      "\u001B[0;31mNameError\u001B[0m: name 'list_of_states' is not defined"
     ]
    }
   ],
   "source": [
    "final_cw = pd.DataFrame(columns = ['town', 'county', 'state'])\n",
    "for state in list_of_states:\n",
    "    # create list of towns for each state\n",
    "    towns = CT_CD[CT_CD['state'] == state][['town']].drop_duplicates()\n",
    "    towns = towns[towns['town'].apply(lambda x: not pd.isnull(x))]\n",
    "    # state crosswalk\n",
    "    state_cw = city_county_cw[city_county_cw['state'] == state]\n",
    "\n",
    "    # try initial merge, add counties\n",
    "    primary_dict = dict(zip(state_cw['primary_city'],state_cw['county']))\n",
    "    towns['county'] = towns['town'].apply(lambda x: primary_dict.get(x, np.nan))\n",
    "\n",
    "    # try fuzzy string match merge\n",
    "    towns = fuzzyTownMatch(towns, state_cw)\n",
    "\n",
    "    if state == 'CT':\n",
    "        # modify towns that changed names - see note at very top\n",
    "        towns['town2'] = towns['town'].apply(lambda x: x.replace('Huntington', 'Shelton').replace('Chatham', 'East Hampton'))\n",
    "        towns[towns['county'].apply(lambda x: pd.isnull(x))]\n",
    "\n",
    "    towns = fuzzyTownMatch(towns, state_cw, False)\n",
    "    towns = towns[towns['county'].apply(lambda x: not pd.isnull(x))]\n",
    "    towns['state'] = state\n",
    "    final_cw = pd.concat([final_cw, towns.drop('town2', axis = 1)])"
   ],
   "metadata": {
    "collapsed": false,
    "pycharm": {
     "name": "#%%\n"
    }
   }
  },
  {
   "cell_type": "code",
   "execution_count": 266,
   "outputs": [
    {
     "name": "stderr",
     "output_type": "stream",
     "text": [
      "/var/folders/5s/dvrxt95949x1pm_sjxm85lj00000gn/T/ipykernel_60823/2948204887.py:1: SettingWithCopyWarning: \n",
      "A value is trying to be set on a copy of a slice from a DataFrame.\n",
      "Try using .loc[row_indexer,col_indexer] = value instead\n",
      "\n",
      "See the caveats in the documentation: https://pandas.pydata.org/pandas-docs/stable/user_guide/indexing.html#returning-a-view-versus-a-copy\n",
      "  CT_CD['debt_total'] = CT_CD['6p_Dollar'].fillna(0) + CT_CD['6p_Cents'].fillna(0)\n"
     ]
    }
   ],
   "source": [
    "CT_CD['debt_total'] = CT_CD['6p_Dollar'].fillna(0) + CT_CD['6p_Cents'].fillna(0)\n",
    "CT_CD.groupby('county')['debt_total'].sum().to_csv('../../Data/CT_debt_temp.csv')"
   ],
   "metadata": {
    "collapsed": false,
    "pycharm": {
     "name": "#%%\n"
    }
   }
  }
 ],
 "metadata": {
  "kernelspec": {
   "display_name": "Python 3",
   "language": "python",
   "name": "python3"
  },
  "language_info": {
   "codemirror_mode": {
    "name": "ipython",
    "version": 2
   },
   "file_extension": ".py",
   "mimetype": "text/x-python",
   "name": "python",
   "nbconvert_exporter": "python",
   "pygments_lexer": "ipython2",
   "version": "2.7.6"
  }
 },
 "nbformat": 4,
 "nbformat_minor": 0
}