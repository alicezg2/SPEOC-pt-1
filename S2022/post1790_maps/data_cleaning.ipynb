{
 "cells": [
  {
   "cell_type": "markdown",
   "source": [
    "# Outline\n",
    "1. Import continental and assumed debt for each state\n",
    "2. Map towns to county names using mapping file + fuzzy string matching\n",
    "3. Use county shape files to create maps"
   ],
   "metadata": {
    "collapsed": false,
    "pycharm": {
     "name": "#%% md\n"
    }
   }
  },
  {
   "cell_type": "markdown",
   "source": [
    "## Documentation Notes\n",
    "1. All non-exact matches will be printed out when doing merges (exact matches are not printed)"
   ],
   "metadata": {
    "collapsed": false,
    "pycharm": {
     "name": "#%% md\n"
    }
   }
  },
  {
   "cell_type": "markdown",
   "source": [
    "## Cleaning Questions\n",
    "1. What do we do about an entry that has entries for some debt types, but not for others? Do we want to drop those entries, impute the values, or set NA values to 0?\n",
    "2. What do we do about entries that have a state, but no town (ie: State of Connecticut)? What about no state?"
   ],
   "metadata": {
    "collapsed": false,
    "pycharm": {
     "name": "#%% md\n"
    }
   }
  },
  {
   "cell_type": "code",
   "execution_count": 1,
   "outputs": [],
   "source": [
    "import numpy as np\n",
    "import pandas as pd\n",
    "from rapidfuzz import process"
   ],
   "metadata": {
    "collapsed": false,
    "pycharm": {
     "name": "#%%\n"
    }
   }
  },
  {
   "cell_type": "code",
   "execution_count": 2,
   "outputs": [],
   "source": [
    "def combineCols(df, num = 3):\n",
    "    change_df_agg = pd.DataFrame(columns = ['old', 'new', 'type'])\n",
    "    for col in ['town', 'state', 'occupation']:\n",
    "        # \" \".join(x.split()) removes all excess whitespace\n",
    "        # creates set with all unique instances of column\n",
    "        if num == 3:\n",
    "            df[col] = [set([\" \".join(x.split()) for x in [t1, t2, t3] if not pd.isnull(x)]) for t1, t2, t3 in zip(df[col+'1'],\n",
    "                                                                                                                  df[col+'2'],\n",
    "                                                                                                                  df[col+'3'])]\n",
    "        else:\n",
    "            df[col] = [set([\" \".join(x.split()) for x in [t1, t2] if not pd.isnull(x)]) for t1, t2 in zip(df[col+'1'],\n",
    "                                                                                                          df[col+'2'])]\n",
    "        if not any(df[col].apply(lambda x: len(x) > 1).tolist()):\n",
    "            # change set to string\n",
    "            print(\"reformatting {}\".format(col))\n",
    "            df[col] = df[col].apply(lambda x: x.pop() if x != set() else np.nan)\n",
    "        else:\n",
    "            print(\"{} column has multiple unique entries\".format(col))\n",
    "            print(\"see table at end for new entries\")\n",
    "            # keep the value that has the most characters, otherwise change set to string\n",
    "            old = df[df[col].apply(lambda x: len(x) > 1)][col]\n",
    "            df[col] = df[col].apply(lambda x: x.pop() if len(x) == 1 else np.nan if x == set() else max(list(x), key=len))\n",
    "            # new dataframe to keep track of changes\n",
    "            # create copy of change_df that removes all duplicates by turning old column, which is\n",
    "            # of type set to type string\n",
    "            change_df = pd.DataFrame([old, df.loc[old.index][col]]).T\n",
    "            change_df.columns = ['old', 'new']\n",
    "            change_df['type'] = col\n",
    "            change_df_str = change_df.copy()\n",
    "            change_df_str['old'] = change_df_str['old'].astype(str)\n",
    "            change_df_str = change_df_str.drop_duplicates()\n",
    "            # add filtered database of changes to aggregate dataset\n",
    "            change_df_agg = pd.concat([change_df_agg, change_df.loc[change_df_str.index]])\n",
    "\n",
    "    # add functions to combine asset totals, handle missing debt values\n",
    "\n",
    "    return df[['6p_Dollar', '6p_Cents', '6p_def_Dollar', '6p_def_Cents','3p_Dollar', '3p_Cents',\n",
    "               'town', 'state', 'occupation']], change_df_agg"
   ],
   "metadata": {
    "collapsed": false,
    "pycharm": {
     "name": "#%%\n"
    }
   }
  },
  {
   "cell_type": "code",
   "execution_count": 3,
   "outputs": [
    {
     "data": {
      "text/plain": "\"ind1, ind2, ind3 = CT_CD[['6p_Dollar', '6p_Cents']].dropna(thresh = 1).index,\\n                   CT_CD[['6p_def_Dollar', '6p_def_Cents']].dropna(thresh = 1).index,\\n                   CT_CD[['3p_Dollar', '3p_Cents']].dropna(thresh = 1).index\\nind = set(ind1).intersection(ind2).intersection(ind3)\""
     },
     "execution_count": 3,
     "metadata": {},
     "output_type": "execute_result"
    }
   ],
   "source": [
    "\"\"\"ind1, ind2, ind3 = CT_CD[['6p_Dollar', '6p_Cents']].dropna(thresh = 1).index,\n",
    "                   CT_CD[['6p_def_Dollar', '6p_def_Cents']].dropna(thresh = 1).index,\n",
    "                   CT_CD[['3p_Dollar', '3p_Cents']].dropna(thresh = 1).index\n",
    "ind = set(ind1).intersection(ind2).intersection(ind3)\"\"\""
   ],
   "metadata": {
    "collapsed": false,
    "pycharm": {
     "name": "#%%\n"
    }
   }
  },
  {
   "cell_type": "markdown",
   "source": [
    "## Import Data\n",
    "1. Import CD and ASD for each state, combine the multiple town/state/occupation columns (if they exist) into one\n",
    "2. Concatenate all the separate datasets into two (one CD and one ASD)"
   ],
   "metadata": {
    "collapsed": false,
    "pycharm": {
     "name": "#%% md\n"
    }
   }
  },
  {
   "cell_type": "markdown",
   "source": [
    "### Connecticut"
   ],
   "metadata": {
    "collapsed": false,
    "pycharm": {
     "name": "#%% md\n"
    }
   },
   "execution_count": 1
  },
  {
   "cell_type": "code",
   "execution_count": 4,
   "outputs": [],
   "source": [
    "CD_all = pd.DataFrame(columns = ['6p_Dollar', '6p_Cents', '6p_def_Dollar', '6p_def_Cents','3p_Dollar', '3p_Cents',\n",
    "                                  'town', 'state', 'occupation'])\n",
    "ASD_all = pd.DataFrame(columns = ['6p_Dollar', '6p_Cents', '6p_def_Dollar', '6p_def_Cents','3p_Dollar', '3p_Cents',\n",
    "                                  'town', 'state', 'occupation'])"
   ],
   "metadata": {
    "collapsed": false,
    "pycharm": {
     "name": "#%%\n"
    }
   }
  },
  {
   "cell_type": "code",
   "execution_count": 5,
   "outputs": [
    {
     "name": "stdout",
     "output_type": "stream",
     "text": [
      "town column has multiple unique entries\n",
      "see table at end for new entries\n",
      "reformatting state\n",
      "reformatting occupation\n"
     ]
    },
    {
     "data": {
      "text/plain": "                   old      new  type\n526  {Miford, Milford}  Milford  town\n799  {Nowich, Norwich}  Norwich  town",
      "text/html": "<div>\n<style scoped>\n    .dataframe tbody tr th:only-of-type {\n        vertical-align: middle;\n    }\n\n    .dataframe tbody tr th {\n        vertical-align: top;\n    }\n\n    .dataframe thead th {\n        text-align: right;\n    }\n</style>\n<table border=\"1\" class=\"dataframe\">\n  <thead>\n    <tr style=\"text-align: right;\">\n      <th></th>\n      <th>old</th>\n      <th>new</th>\n      <th>type</th>\n    </tr>\n  </thead>\n  <tbody>\n    <tr>\n      <th>526</th>\n      <td>{Miford, Milford}</td>\n      <td>Milford</td>\n      <td>town</td>\n    </tr>\n    <tr>\n      <th>799</th>\n      <td>{Nowich, Norwich}</td>\n      <td>Norwich</td>\n      <td>town</td>\n    </tr>\n  </tbody>\n</table>\n</div>"
     },
     "execution_count": 5,
     "metadata": {},
     "output_type": "execute_result"
    }
   ],
   "source": [
    "# importing desired columns and rename\n",
    "CT_CD_raw = pd.read_excel(\"../../Data/Post1790/CT/CT_post1790_CD_ledger.xlsx\",\n",
    "                      header = 13, usecols = 'H, I, J, K, L, N, O, X, Y, Z, AA, AB, AD, AE, AN, AO, AP, AQ, AR, AT, AU')\n",
    "CT_CD_raw.columns = ['First Name', 'Last Name', 'town1', 'state1', 'occupation1', '6p_Dollar', '6p_Cents',\n",
    "                     'First Name.1', 'Last Name.1', 'town2', 'state2', 'occupation2', '6p_def_Dollar', '6p_def_Cents',\n",
    "                     'First Name.2', 'Last Name.2', 'town3', 'state3', 'occupation3', '3p_Dollar', '3p_Cents', ]\n",
    "# unify occupation, town and state columns\n",
    "CT_CD, change_df = combineCols(CT_CD_raw)\n",
    "CD_all = pd.concat([CD_all, CT_CD])\n",
    "change_df"
   ],
   "metadata": {
    "collapsed": false,
    "pycharm": {
     "name": "#%%\n"
    }
   }
  },
  {
   "cell_type": "code",
   "execution_count": 6,
   "outputs": [
    {
     "name": "stdout",
     "output_type": "stream",
     "text": [
      "town column has multiple unique entries\n",
      "see table at end for new entries\n",
      "reformatting state\n",
      "occupation column has multiple unique entries\n",
      "see table at end for new entries\n"
     ]
    },
    {
     "data": {
      "text/plain": "                                                   old  \\\n125                                 {Norwalk, Norwall}   \n811  {Treasuer 1st Society in Lyme, 1st Society in ...   \n\n                              new        type  \n125                       Norwalk        town  \n811  Treasuer 1st Society in Lyme  occupation  ",
      "text/html": "<div>\n<style scoped>\n    .dataframe tbody tr th:only-of-type {\n        vertical-align: middle;\n    }\n\n    .dataframe tbody tr th {\n        vertical-align: top;\n    }\n\n    .dataframe thead th {\n        text-align: right;\n    }\n</style>\n<table border=\"1\" class=\"dataframe\">\n  <thead>\n    <tr style=\"text-align: right;\">\n      <th></th>\n      <th>old</th>\n      <th>new</th>\n      <th>type</th>\n    </tr>\n  </thead>\n  <tbody>\n    <tr>\n      <th>125</th>\n      <td>{Norwalk, Norwall}</td>\n      <td>Norwalk</td>\n      <td>town</td>\n    </tr>\n    <tr>\n      <th>811</th>\n      <td>{Treasuer 1st Society in Lyme, 1st Society in ...</td>\n      <td>Treasuer 1st Society in Lyme</td>\n      <td>occupation</td>\n    </tr>\n  </tbody>\n</table>\n</div>"
     },
     "execution_count": 6,
     "metadata": {},
     "output_type": "execute_result"
    }
   ],
   "source": [
    "# importing desired columns and rename\n",
    "CT_ASD_raw = pd.read_excel(\"../../Data/Post1790/CT/CT_post1790_ASD_ledger.xlsx\",\n",
    "                       header = 13, usecols = 'H, I, J, K, L, N, O, X, Y, Z, AA, AB, AD, AE, AN, AO, AP, AQ, AR, AT, AU')\n",
    "CT_ASD_raw.columns = ['First Name', 'Last Name', 'town1', 'state1', 'occupation1', '6p_Dollar', '6p_Cents',\n",
    "                     'First Name.1', 'Last Name.1', 'town2', 'state2', 'occupation2', '6p_def_Dollar', '6p_def_Cents',\n",
    "                     'First Name.2', 'Last Name.2', 'town3', 'state3', 'occupation3', '3p_Dollar', '3p_Cents', ]\n",
    "# unify occupation, town and state columns\n",
    "CT_ASD, change_df = combineCols(CT_ASD_raw)\n",
    "ASD_all = pd.concat([ASD_all, CT_ASD])\n",
    "change_df"
   ],
   "metadata": {
    "collapsed": false,
    "pycharm": {
     "name": "#%%\n"
    }
   }
  },
  {
   "cell_type": "markdown",
   "source": [
    "### Georgia\n",
    "No need to do additional cleaning because there's only one state/city/occupation column"
   ],
   "metadata": {
    "collapsed": false,
    "pycharm": {
     "name": "#%% md\n"
    }
   }
  },
  {
   "cell_type": "code",
   "execution_count": 7,
   "outputs": [],
   "source": [
    "# importing desired columns and rename\n",
    "# prepare loan dataset\n",
    "GA_CD_raw = pd.read_excel(\"../../Data/Post1790/GA/T694_GA_Loan_Office_CD.xlsx\",\n",
    "                      header = 10, usecols = 'Q, R, S, T, U, Z, AA, AB, AC, AD, AE')\n",
    "GA_CD_raw.columns = ['First Name', 'Last Name', 'town', 'state', 'occupation', '6p_Dollar', '6p_Cents',\n",
    "                 '6p_def_Dollar', '6p_def_Cents', '3p_Dollar', '3p_Cents']\n",
    "GA_CD = GA_CD_raw[['6p_Dollar', '6p_Cents', '6p_def_Dollar', '6p_def_Cents','3p_Dollar', '3p_Cents',\n",
    "                   'town', 'state', 'occupation']]\n",
    "CD_all = pd.concat([CD_all, GA_CD])"
   ],
   "metadata": {
    "collapsed": false,
    "pycharm": {
     "name": "#%%\n"
    }
   }
  },
  {
   "cell_type": "markdown",
   "source": [
    "### Maryland"
   ],
   "metadata": {
    "collapsed": false,
    "pycharm": {
     "name": "#%% md\n"
    }
   }
  },
  {
   "cell_type": "code",
   "execution_count": 8,
   "outputs": [
    {
     "name": "stdout",
     "output_type": "stream",
     "text": [
      "reformatting town\n",
      "reformatting state\n",
      "reformatting occupation\n"
     ]
    },
    {
     "data": {
      "text/plain": "Empty DataFrame\nColumns: [old, new, type]\nIndex: []",
      "text/html": "<div>\n<style scoped>\n    .dataframe tbody tr th:only-of-type {\n        vertical-align: middle;\n    }\n\n    .dataframe tbody tr th {\n        vertical-align: top;\n    }\n\n    .dataframe thead th {\n        text-align: right;\n    }\n</style>\n<table border=\"1\" class=\"dataframe\">\n  <thead>\n    <tr style=\"text-align: right;\">\n      <th></th>\n      <th>old</th>\n      <th>new</th>\n      <th>type</th>\n    </tr>\n  </thead>\n  <tbody>\n  </tbody>\n</table>\n</div>"
     },
     "execution_count": 8,
     "metadata": {},
     "output_type": "execute_result"
    }
   ],
   "source": [
    "#prepare loan dataset\n",
    "MD_CD_raw = pd.read_excel(\"../../Data/Post1790/MD/MD_post1790_CD.xlsx\",\n",
    "                      header = 11, usecols = 'G, H, I, J, K, L, M, U, V, W, X, Y, Z, AA, AI, AJ, AK, AL, AM, AN, AO')\n",
    "MD_CD_raw.columns = ['First Name', 'Last Name', 'town1', 'state1', 'occupation1', '6p_Dollar', '6p_Cents',\n",
    "                 'First Name.1', 'Last Name.1', 'town2', 'state2', 'occupation2', '6p_def_Dollar', '6p_def_Cents',\n",
    "                 'First Name.2', 'Last Name.2', 'town3', 'state3', 'occupation3', '3p_Dollar', '3p_Cents', ]\n",
    "# unify occupation, town and state columns\n",
    "MD_CD , change_df = combineCols(MD_CD_raw)\n",
    "CD_all = pd.concat([CD_all, MD_CD])\n",
    "change_df"
   ],
   "metadata": {
    "collapsed": false,
    "pycharm": {
     "name": "#%%\n"
    }
   }
  },
  {
   "cell_type": "code",
   "execution_count": 9,
   "outputs": [
    {
     "name": "stdout",
     "output_type": "stream",
     "text": [
      "reformatting town\n",
      "reformatting state\n",
      "reformatting occupation\n"
     ]
    },
    {
     "data": {
      "text/plain": "Empty DataFrame\nColumns: [old, new, type]\nIndex: []",
      "text/html": "<div>\n<style scoped>\n    .dataframe tbody tr th:only-of-type {\n        vertical-align: middle;\n    }\n\n    .dataframe tbody tr th {\n        vertical-align: top;\n    }\n\n    .dataframe thead th {\n        text-align: right;\n    }\n</style>\n<table border=\"1\" class=\"dataframe\">\n  <thead>\n    <tr style=\"text-align: right;\">\n      <th></th>\n      <th>old</th>\n      <th>new</th>\n      <th>type</th>\n    </tr>\n  </thead>\n  <tbody>\n  </tbody>\n</table>\n</div>"
     },
     "execution_count": 9,
     "metadata": {},
     "output_type": "execute_result"
    }
   ],
   "source": [
    "#prepare loan dataset\n",
    "MD_ASD_raw = pd.read_excel(\"../../Data/Post1790/MD/MD_post1790_ASD.xlsx\",\n",
    "                      header = 11, usecols = 'G, H, I, J, K, L, M, U, V, W, X, Y, Z, AA, AI, AJ, AK, AL, AM, AN, AO')\n",
    "MD_ASD_raw.columns = ['First Name', 'Last Name', 'town1', 'state1', 'occupation1', '6p_Dollar', '6p_Cents',\n",
    "                 'First Name.1', 'Last Name.1', 'town2', 'state2', 'occupation2', '6p_def_Dollar', '6p_def_Cents',\n",
    "                 'First Name.2', 'Last Name.2', 'town3', 'state3', 'occupation3', '3p_Dollar', '3p_Cents', ]\n",
    "# unify occupation, town and state columns\n",
    "MD_ASD , change_df = combineCols(MD_ASD_raw)\n",
    "ASD_all = pd.concat([ASD_all, MD_ASD])\n",
    "change_df"
   ],
   "metadata": {
    "collapsed": false,
    "pycharm": {
     "name": "#%%\n"
    }
   }
  },
  {
   "cell_type": "markdown",
   "source": [
    "### North Carolina"
   ],
   "metadata": {
    "collapsed": false,
    "pycharm": {
     "name": "#%% md\n"
    }
   }
  },
  {
   "cell_type": "code",
   "execution_count": 10,
   "outputs": [],
   "source": [
    "NC_CD_raw = pd.read_excel(\"../../Data/Post1790/NC/T695_R4_NC_CD.xlsx\",\n",
    "                      header = 11, usecols = 'J, K, L, M, N, W, X, Z, AA, AC, AD ')\n",
    "NC_CD_raw.columns = ['First Name', 'Last Name', 'town', 'state', 'occupation', '6p_Dollar', '6p_Cents',\n",
    "                 '6p_def_Dollar', '6p_def_Cents', '3p_Dollar', '3p_Cents']\n",
    "NC_CD = NC_CD_raw[['6p_Dollar', '6p_Cents', '6p_def_Dollar', '6p_def_Cents','3p_Dollar', '3p_Cents',\n",
    "                   'town', 'state', 'occupation']]\n",
    "CD_all = pd.concat([CD_all, NC_CD])"
   ],
   "metadata": {
    "collapsed": false,
    "pycharm": {
     "name": "#%%\n"
    }
   }
  },
  {
   "cell_type": "code",
   "execution_count": 11,
   "outputs": [],
   "source": [
    "NC_ASD_raw = pd.read_excel(\"../../Data/Post1790/NC/T695_R3_NC_ASD.xlsx\", header = 10, usecols = 'H, I, J, K, L, P, Q, R, S, T, U')\n",
    "NC_ASD_raw.columns = ['First Name', 'Last Name', 'town', 'state', 'occupation',  '6p_Dollar', '6p_Cents',\n",
    "                      '6p_def_Dollar', '6p_def_Cents', '3p_Dollar', '3p_Cents']\n",
    "NC_ASD = NC_ASD_raw[['6p_Dollar', '6p_Cents', '6p_def_Dollar', '6p_def_Cents','3p_Dollar', '3p_Cents',\n",
    "                         'town', 'state', 'occupation']]\n",
    "ASD_all = pd.concat([ASD_all, NC_ASD])"
   ],
   "metadata": {
    "collapsed": false,
    "pycharm": {
     "name": "#%%\n"
    }
   }
  },
  {
   "cell_type": "markdown",
   "source": [
    "### New Hampshire"
   ],
   "metadata": {
    "collapsed": false,
    "pycharm": {
     "name": "#%% md\n"
    }
   }
  },
  {
   "cell_type": "code",
   "execution_count": 12,
   "outputs": [],
   "source": [
    "#prepare loan dataset\n",
    "NH_CD_raw = pd.read_excel(\"../../Data/Post1790/NH/T652_R6_New_Hampshire_CD.xlsx\",\n",
    "                      header = 10, usecols = 'I, J, K, L, M, N, O, P, Q, R, S')\n",
    "NH_CD_raw.columns = ['First Name', 'Last Name', 'town', 'state', 'occupation', '6p_Dollar', '6p_Cents',\n",
    "                     '6p_def_Dollar', '6p_def_Cents', '3p_Dollar', '3p_Cents']\n",
    "NH_CD = NH_CD_raw[['6p_Dollar', '6p_Cents', '6p_def_Dollar', '6p_def_Cents','3p_Dollar', '3p_Cents',\n",
    "                   'town', 'state', 'occupation']]\n",
    "CD_all = pd.concat([CD_all, NH_CD])"
   ],
   "metadata": {
    "collapsed": false,
    "pycharm": {
     "name": "#%%\n"
    }
   }
  },
  {
   "cell_type": "code",
   "execution_count": 13,
   "outputs": [
    {
     "name": "stdout",
     "output_type": "stream",
     "text": [
      "reformatting town\n",
      "reformatting state\n",
      "reformatting occupation\n"
     ]
    },
    {
     "data": {
      "text/plain": "Empty DataFrame\nColumns: [old, new, type]\nIndex: []",
      "text/html": "<div>\n<style scoped>\n    .dataframe tbody tr th:only-of-type {\n        vertical-align: middle;\n    }\n\n    .dataframe tbody tr th {\n        vertical-align: top;\n    }\n\n    .dataframe thead th {\n        text-align: right;\n    }\n</style>\n<table border=\"1\" class=\"dataframe\">\n  <thead>\n    <tr style=\"text-align: right;\">\n      <th></th>\n      <th>old</th>\n      <th>new</th>\n      <th>type</th>\n    </tr>\n  </thead>\n  <tbody>\n  </tbody>\n</table>\n</div>"
     },
     "execution_count": 13,
     "metadata": {},
     "output_type": "execute_result"
    }
   ],
   "source": [
    "NH_ASD_raw = pd.read_excel(\"../../Data/Post1790/NH/T652_New_Hampshire_ASD.xlsx\", header = 12,\n",
    "                       usecols = 'G, H, I, J, K, M, N, V, W, X, Y, Z, AA, AB, AK, AL, AM, AN')\n",
    "NH_ASD_raw.columns = ['First Name', 'Last Name', 'town1', 'state1', 'occupation1', '6p_Dollar', '6p_Cents',\n",
    "                      'First Name.1', 'Last Name.1', 'town2', 'state2', 'occupation2', '6p_def_Dollar', '6p_def_Cents',\n",
    "                      'First Name.2', 'Last Name.2', '3p_Dollar', '3p_Cents']\n",
    "# unify occupation, town and state columns\n",
    "NH_ASD, change_df = combineCols(NH_ASD_raw, 2)\n",
    "ASD_all = pd.concat([ASD_all, NH_ASD])\n",
    "change_df"
   ],
   "metadata": {
    "collapsed": false,
    "pycharm": {
     "name": "#%%\n"
    }
   }
  },
  {
   "cell_type": "markdown",
   "source": [
    "### New York\n",
    "Doesn't have town/occupation/state"
   ],
   "metadata": {
    "collapsed": false,
    "pycharm": {
     "name": "#%% md\n"
    }
   }
  },
  {
   "cell_type": "code",
   "execution_count": 14,
   "outputs": [
    {
     "data": {
      "text/plain": "'#prepare loan dataset\\nNY_CD_raw = pd.read_excel(\"../../Data/Post1790/NY/NY_1790_CD.xlsx\",\\n                      header = 11, usecols = \\'H, I, M, N, X, Y, AC, AD, AM, AN, AR, AS\\')\\nNY_CD_raw.columns = [\\'First Name\\', \\'Last Name\\', \\'6p_Dollar\\', \\'6p_Cents\\',\\n                 \\'First Name.1\\', \\'Last Name.1\\', \\'6p_def_Dollar\\', \\'6p_def_Cents\\',\\n                 \\'First Name.2\\', \\'Last Name.2\\', \\'3p_Dollar\\', \\'3p_Cents\\']\\nNY_CD_raw[\\'state\\'] = np.nan\\nNY_CD_raw[\\'town\\'] = np.nan\\nNY_CD_raw[\\'occupation\\'] = np.nan\\nNY_CD = NY_CD_raw[[\\'6p_Dollar\\', \\'6p_Cents\\', \\'6p_def_Dollar\\', \\'6p_def_Cents\\',\\'3p_Dollar\\', \\'3p_Cents\\',\\n                   \\'town\\', \\'state\\', \\'occupation\\']]\\nCD_all = pd.concat([CD_all, NY_CD])\\n'"
     },
     "execution_count": 14,
     "metadata": {},
     "output_type": "execute_result"
    }
   ],
   "source": [
    "\"\"\"#prepare loan dataset\n",
    "NY_CD_raw = pd.read_excel(\"../../Data/Post1790/NY/NY_1790_CD.xlsx\",\n",
    "                      header = 11, usecols = 'H, I, M, N, X, Y, AC, AD, AM, AN, AR, AS')\n",
    "NY_CD_raw.columns = ['First Name', 'Last Name', '6p_Dollar', '6p_Cents',\n",
    "                 'First Name.1', 'Last Name.1', '6p_def_Dollar', '6p_def_Cents',\n",
    "                 'First Name.2', 'Last Name.2', '3p_Dollar', '3p_Cents']\n",
    "NY_CD_raw['state'] = np.nan\n",
    "NY_CD_raw['town'] = np.nan\n",
    "NY_CD_raw['occupation'] = np.nan\n",
    "NY_CD = NY_CD_raw[['6p_Dollar', '6p_Cents', '6p_def_Dollar', '6p_def_Cents','3p_Dollar', '3p_Cents',\n",
    "                   'town', 'state', 'occupation']]\n",
    "CD_all = pd.concat([CD_all, NY_CD])\n",
    "\"\"\""
   ],
   "metadata": {
    "collapsed": false,
    "pycharm": {
     "name": "#%%\n"
    }
   }
  },
  {
   "cell_type": "code",
   "execution_count": 15,
   "outputs": [
    {
     "data": {
      "text/plain": "'#prepare loan dataset\\nNY_ASD_raw = pd.read_excel(\"../../Data/Post1790/NY/NY_1790_CD.xlsx\",\\n                          header = 11, usecols = \\'H, I, M, N, X, Y, AC, AD, AM, AN, AR, AS\\')\\nNY_ASD_raw.columns = [\\'First Name\\', \\'Last Name\\', \\'6p_Dollar\\', \\'6p_Cents\\',\\n                     \\'First Name.1\\', \\'Last Name.1\\', \\'6p_def_Dollar\\', \\'6p_def_Cents\\',\\n                     \\'First Name.2\\', \\'Last Name.2\\', \\'3p_Dollar\\', \\'3p_Cents\\']\\nNY_ASD_raw[\\'state\\'] = np.nan\\nNY_ASD_raw[\\'town\\'] = np.nan\\nNY_ASD_raw[\\'occupation\\'] = np.nan\\nNY_ASD = NY_ASD_raw[[\\'6p_Dollar\\', \\'6p_Cents\\', \\'6p_def_Dollar\\', \\'6p_def_Cents\\',\\'3p_Dollar\\', \\'3p_Cents\\',\\n                   \\'town\\', \\'state\\', \\'occupation\\']]\\nASD_all = pd.concat([ASD_all, NY_ASD])\\n'"
     },
     "execution_count": 15,
     "metadata": {},
     "output_type": "execute_result"
    }
   ],
   "source": [
    "\"\"\"#prepare loan dataset\n",
    "NY_ASD_raw = pd.read_excel(\"../../Data/Post1790/NY/NY_1790_CD.xlsx\",\n",
    "                          header = 11, usecols = 'H, I, M, N, X, Y, AC, AD, AM, AN, AR, AS')\n",
    "NY_ASD_raw.columns = ['First Name', 'Last Name', '6p_Dollar', '6p_Cents',\n",
    "                     'First Name.1', 'Last Name.1', '6p_def_Dollar', '6p_def_Cents',\n",
    "                     'First Name.2', 'Last Name.2', '3p_Dollar', '3p_Cents']\n",
    "NY_ASD_raw['state'] = np.nan\n",
    "NY_ASD_raw['town'] = np.nan\n",
    "NY_ASD_raw['occupation'] = np.nan\n",
    "NY_ASD = NY_ASD_raw[['6p_Dollar', '6p_Cents', '6p_def_Dollar', '6p_def_Cents','3p_Dollar', '3p_Cents',\n",
    "                   'town', 'state', 'occupation']]\n",
    "ASD_all = pd.concat([ASD_all, NY_ASD])\n",
    "\"\"\""
   ],
   "metadata": {
    "collapsed": false,
    "pycharm": {
     "name": "#%%\n"
    }
   }
  },
  {
   "cell_type": "markdown",
   "source": [
    "### Pennsylvania"
   ],
   "metadata": {
    "collapsed": false,
    "pycharm": {
     "name": "#%% md\n"
    }
   }
  },
  {
   "cell_type": "code",
   "execution_count": 16,
   "outputs": [
    {
     "name": "stdout",
     "output_type": "stream",
     "text": [
      "town column has multiple unique entries\n",
      "see table at end for new entries\n",
      "reformatting state\n",
      "occupation column has multiple unique entries\n",
      "see table at end for new entries\n"
     ]
    },
    {
     "data": {
      "text/plain": "                                                    old  \\\n14                    {Carlisle Pennsylvania, Carlisle}   \n39                           {Connecticut, Conecticutt}   \n40            {New Castle Delaware, Newcastle Delaware}   \n113                 {Philadelphia County, Philadelphia}   \n131              {State of Delawere, State of Delaware}   \n...                                                 ...   \n1143                                {Merchant, Esquire}   \n1181                          {Shopkeeper, Shop Keeper}   \n1200  {in trust for the Estate of Robert Dill, Trust...   \n1224  {Administrator to the Estate of William Barrel...   \n1259  {In trust for Jacobus Van Eis of Somerset Coun...   \n\n                                                    new        type  \n14                                Carlisle Pennsylvania        town  \n39                                          Connecticut        town  \n40                                  New Castle Delaware        town  \n113                                 Philadelphia County        town  \n131                                   State of Delawere        town  \n...                                                 ...         ...  \n1143                                           Merchant  occupation  \n1181                                        Shop Keeper  occupation  \n1200             in trust for the Estate of Robert Dill  occupation  \n1224  Administrator to the Estate of William Barrell...  occupation  \n1259  In trust for Jacobus Van Eis of Somerset Count...  occupation  \n\n[114 rows x 3 columns]",
      "text/html": "<div>\n<style scoped>\n    .dataframe tbody tr th:only-of-type {\n        vertical-align: middle;\n    }\n\n    .dataframe tbody tr th {\n        vertical-align: top;\n    }\n\n    .dataframe thead th {\n        text-align: right;\n    }\n</style>\n<table border=\"1\" class=\"dataframe\">\n  <thead>\n    <tr style=\"text-align: right;\">\n      <th></th>\n      <th>old</th>\n      <th>new</th>\n      <th>type</th>\n    </tr>\n  </thead>\n  <tbody>\n    <tr>\n      <th>14</th>\n      <td>{Carlisle Pennsylvania, Carlisle}</td>\n      <td>Carlisle Pennsylvania</td>\n      <td>town</td>\n    </tr>\n    <tr>\n      <th>39</th>\n      <td>{Connecticut, Conecticutt}</td>\n      <td>Connecticut</td>\n      <td>town</td>\n    </tr>\n    <tr>\n      <th>40</th>\n      <td>{New Castle Delaware, Newcastle Delaware}</td>\n      <td>New Castle Delaware</td>\n      <td>town</td>\n    </tr>\n    <tr>\n      <th>113</th>\n      <td>{Philadelphia County, Philadelphia}</td>\n      <td>Philadelphia County</td>\n      <td>town</td>\n    </tr>\n    <tr>\n      <th>131</th>\n      <td>{State of Delawere, State of Delaware}</td>\n      <td>State of Delawere</td>\n      <td>town</td>\n    </tr>\n    <tr>\n      <th>...</th>\n      <td>...</td>\n      <td>...</td>\n      <td>...</td>\n    </tr>\n    <tr>\n      <th>1143</th>\n      <td>{Merchant, Esquire}</td>\n      <td>Merchant</td>\n      <td>occupation</td>\n    </tr>\n    <tr>\n      <th>1181</th>\n      <td>{Shopkeeper, Shop Keeper}</td>\n      <td>Shop Keeper</td>\n      <td>occupation</td>\n    </tr>\n    <tr>\n      <th>1200</th>\n      <td>{in trust for the Estate of Robert Dill, Trust...</td>\n      <td>in trust for the Estate of Robert Dill</td>\n      <td>occupation</td>\n    </tr>\n    <tr>\n      <th>1224</th>\n      <td>{Administrator to the Estate of William Barrel...</td>\n      <td>Administrator to the Estate of William Barrell...</td>\n      <td>occupation</td>\n    </tr>\n    <tr>\n      <th>1259</th>\n      <td>{In trust for Jacobus Van Eis of Somerset Coun...</td>\n      <td>In trust for Jacobus Van Eis of Somerset Count...</td>\n      <td>occupation</td>\n    </tr>\n  </tbody>\n</table>\n<p>114 rows × 3 columns</p>\n</div>"
     },
     "execution_count": 16,
     "metadata": {},
     "output_type": "execute_result"
    }
   ],
   "source": [
    "#prepare loan dataset\n",
    "PA_CD_raw = pd.read_excel(\"../../Data/Post1790/PA/PA_post1790_CD.xlsx\",\n",
    "                      header = 11, usecols = 'G, H, I, J, K, L, M, U, V, W, X, Y, Z, AA, AJ, AK, AL, AM, AN, AO, AP')\n",
    "PA_CD_raw.columns = ['First Name', 'Last Name', 'town1', 'state1', 'occupation1', '6p_Dollar', '6p_Cents',\n",
    "                 'First Name.1', 'Last Name.1', 'town2', 'state2', 'occupation2', '6p_def_Dollar', '6p_def_Cents',\n",
    "                 'First Name.2', 'Last Name.2', 'town3', 'state3', 'occupation3', '3p_Dollar', '3p_Cents', ]\n",
    "# unify occupation, town and state columns\n",
    "PA_CD, change_df = combineCols(PA_CD_raw)\n",
    "CD_all = pd.concat([CD_all, PA_CD])\n",
    "change_df"
   ],
   "metadata": {
    "collapsed": false,
    "pycharm": {
     "name": "#%%\n"
    }
   }
  },
  {
   "cell_type": "markdown",
   "source": [
    "### Rhode Island"
   ],
   "metadata": {
    "collapsed": false,
    "pycharm": {
     "name": "#%% md\n"
    }
   }
  },
  {
   "cell_type": "code",
   "execution_count": 17,
   "outputs": [
    {
     "name": "stdout",
     "output_type": "stream",
     "text": [
      "town column has multiple unique entries\n",
      "see table at end for new entries\n",
      "reformatting state\n",
      "reformatting occupation\n"
     ]
    },
    {
     "data": {
      "text/plain": "                                   old              new  type\n26             {Gloucester, Glocester}       Gloucester  town\n371          {Charlestown, Chalestown}      Charlestown  town\n435  {North Kingston, North Kingstone}  North Kingstone  town\n462  {North Kingston, North Kingstown}  North Kingstown  town\n499           {Smithfeild, Smithfield}       Smithfeild  town",
      "text/html": "<div>\n<style scoped>\n    .dataframe tbody tr th:only-of-type {\n        vertical-align: middle;\n    }\n\n    .dataframe tbody tr th {\n        vertical-align: top;\n    }\n\n    .dataframe thead th {\n        text-align: right;\n    }\n</style>\n<table border=\"1\" class=\"dataframe\">\n  <thead>\n    <tr style=\"text-align: right;\">\n      <th></th>\n      <th>old</th>\n      <th>new</th>\n      <th>type</th>\n    </tr>\n  </thead>\n  <tbody>\n    <tr>\n      <th>26</th>\n      <td>{Gloucester, Glocester}</td>\n      <td>Gloucester</td>\n      <td>town</td>\n    </tr>\n    <tr>\n      <th>371</th>\n      <td>{Charlestown, Chalestown}</td>\n      <td>Charlestown</td>\n      <td>town</td>\n    </tr>\n    <tr>\n      <th>435</th>\n      <td>{North Kingston, North Kingstone}</td>\n      <td>North Kingstone</td>\n      <td>town</td>\n    </tr>\n    <tr>\n      <th>462</th>\n      <td>{North Kingston, North Kingstown}</td>\n      <td>North Kingstown</td>\n      <td>town</td>\n    </tr>\n    <tr>\n      <th>499</th>\n      <td>{Smithfeild, Smithfield}</td>\n      <td>Smithfeild</td>\n      <td>town</td>\n    </tr>\n  </tbody>\n</table>\n</div>"
     },
     "execution_count": 17,
     "metadata": {},
     "output_type": "execute_result"
    }
   ],
   "source": [
    "#prepare loan dataset\n",
    "RI_CD_raw = pd.read_excel(\"../../Data/Post1790/RI/T653_Rhode_Island_CD.xlsx\",\n",
    "                      header = 11, usecols = 'G, H, I, J, K, L, M, U, V, W, X, Y, Z, AA, AI, AJ, AK, AL, AM, AN, AO')\n",
    "RI_CD_raw.columns = ['First Name', 'Last Name', 'town1', 'state1', 'occupation1', '6p_Dollar', '6p_Cents',\n",
    "                     'First Name.1', 'Last Name.1', 'town2', 'state2', 'occupation2', '6p_def_Dollar', '6p_def_Cents',\n",
    "                     'First Name.2', 'Last Name.2', 'town3', 'state3', 'occupation3', '3p_Dollar', '3p_Cents', ]\n",
    "RI_CD, change_df = combineCols(RI_CD_raw)\n",
    "CD_all = pd.concat([CD_all, RI_CD])\n",
    "change_df"
   ],
   "metadata": {
    "collapsed": false,
    "pycharm": {
     "name": "#%%\n"
    }
   }
  },
  {
   "cell_type": "code",
   "execution_count": 18,
   "outputs": [
    {
     "name": "stdout",
     "output_type": "stream",
     "text": [
      "reformatting town\n",
      "reformatting state\n",
      "reformatting occupation\n"
     ]
    },
    {
     "data": {
      "text/plain": "Empty DataFrame\nColumns: [old, new, type]\nIndex: []",
      "text/html": "<div>\n<style scoped>\n    .dataframe tbody tr th:only-of-type {\n        vertical-align: middle;\n    }\n\n    .dataframe tbody tr th {\n        vertical-align: top;\n    }\n\n    .dataframe thead th {\n        text-align: right;\n    }\n</style>\n<table border=\"1\" class=\"dataframe\">\n  <thead>\n    <tr style=\"text-align: right;\">\n      <th></th>\n      <th>old</th>\n      <th>new</th>\n      <th>type</th>\n    </tr>\n  </thead>\n  <tbody>\n  </tbody>\n</table>\n</div>"
     },
     "execution_count": 18,
     "metadata": {},
     "output_type": "execute_result"
    }
   ],
   "source": [
    "#prepare loan dataset\n",
    "RI_ASD_raw = pd.read_excel(\"../../Data/Post1790/RI/T653_Rhode_Island_ASD.xlsx\",\n",
    "                          header = 11, usecols = 'H, I, J, K, L, N, O, X, Y, Z, AA, AB, AD, AE, AN, AO, AP, AQ, AR, AT, AU')\n",
    "RI_ASD_raw.columns = ['First Name', 'Last Name', 'town1', 'state1', 'occupation1', '6p_Dollar', '6p_Cents',\n",
    "                     'First Name.1', 'Last Name.1', 'town2', 'state2', 'occupation2', '6p_def_Dollar', '6p_def_Cents',\n",
    "                     'First Name.2', 'Last Name.2', 'town3', 'state3', 'occupation3', '3p_Dollar', '3p_Cents', ]\n",
    "RI_ASD, change_df = combineCols(RI_ASD_raw)\n",
    "ASD_all = pd.concat([CD_all, RI_ASD])\n",
    "change_df"
   ],
   "metadata": {
    "collapsed": false,
    "pycharm": {
     "name": "#%%\n"
    }
   }
  },
  {
   "cell_type": "markdown",
   "source": [
    "### South Carolina"
   ],
   "metadata": {
    "collapsed": false,
    "pycharm": {
     "name": "#%% md\n"
    }
   }
  },
  {
   "cell_type": "code",
   "execution_count": 19,
   "outputs": [
    {
     "name": "stdout",
     "output_type": "stream",
     "text": [
      "town column has multiple unique entries\n",
      "see table at end for new entries\n",
      "reformatting state\n",
      "occupation column has multiple unique entries\n",
      "see table at end for new entries\n"
     ]
    },
    {
     "data": {
      "text/plain": "                                                   old  \\\n50                            {Camden Planter, Camden}   \n94                                   {Pee Dee, Peedee}   \n270                            {Long Cane, Long Cames}   \n292                           {Charleston, Charlestom}   \n45   {as Executor to Henry Coram, as Executor to Jo...   \n50   {Planter as Executor Ely Kershaw, as Executor ...   \n182          {Executor Philip Hawkins, Philip Hawkins}   \n256  {as Guardian to Mary Deborah L. Gowdey, Guardi...   \n305                  {Merchants, Charleston Merchants}   \n383              {Physician, Assignee of James Simons}   \n\n                                       new        type  \n50                          Camden Planter        town  \n94                                 Pee Dee        town  \n270                             Long Cames        town  \n292                             Charleston        town  \n45           as Executor to John Couturier  occupation  \n50         Planter as Executor Ely Kershaw  occupation  \n182                Executor Philip Hawkins  occupation  \n256  as Guardian to Mary Deborah L. Gowdey  occupation  \n305                   Charleston Merchants  occupation  \n383               Assignee of James Simons  occupation  ",
      "text/html": "<div>\n<style scoped>\n    .dataframe tbody tr th:only-of-type {\n        vertical-align: middle;\n    }\n\n    .dataframe tbody tr th {\n        vertical-align: top;\n    }\n\n    .dataframe thead th {\n        text-align: right;\n    }\n</style>\n<table border=\"1\" class=\"dataframe\">\n  <thead>\n    <tr style=\"text-align: right;\">\n      <th></th>\n      <th>old</th>\n      <th>new</th>\n      <th>type</th>\n    </tr>\n  </thead>\n  <tbody>\n    <tr>\n      <th>50</th>\n      <td>{Camden Planter, Camden}</td>\n      <td>Camden Planter</td>\n      <td>town</td>\n    </tr>\n    <tr>\n      <th>94</th>\n      <td>{Pee Dee, Peedee}</td>\n      <td>Pee Dee</td>\n      <td>town</td>\n    </tr>\n    <tr>\n      <th>270</th>\n      <td>{Long Cane, Long Cames}</td>\n      <td>Long Cames</td>\n      <td>town</td>\n    </tr>\n    <tr>\n      <th>292</th>\n      <td>{Charleston, Charlestom}</td>\n      <td>Charleston</td>\n      <td>town</td>\n    </tr>\n    <tr>\n      <th>45</th>\n      <td>{as Executor to Henry Coram, as Executor to Jo...</td>\n      <td>as Executor to John Couturier</td>\n      <td>occupation</td>\n    </tr>\n    <tr>\n      <th>50</th>\n      <td>{Planter as Executor Ely Kershaw, as Executor ...</td>\n      <td>Planter as Executor Ely Kershaw</td>\n      <td>occupation</td>\n    </tr>\n    <tr>\n      <th>182</th>\n      <td>{Executor Philip Hawkins, Philip Hawkins}</td>\n      <td>Executor Philip Hawkins</td>\n      <td>occupation</td>\n    </tr>\n    <tr>\n      <th>256</th>\n      <td>{as Guardian to Mary Deborah L. Gowdey, Guardi...</td>\n      <td>as Guardian to Mary Deborah L. Gowdey</td>\n      <td>occupation</td>\n    </tr>\n    <tr>\n      <th>305</th>\n      <td>{Merchants, Charleston Merchants}</td>\n      <td>Charleston Merchants</td>\n      <td>occupation</td>\n    </tr>\n    <tr>\n      <th>383</th>\n      <td>{Physician, Assignee of James Simons}</td>\n      <td>Assignee of James Simons</td>\n      <td>occupation</td>\n    </tr>\n  </tbody>\n</table>\n</div>"
     },
     "execution_count": 19,
     "metadata": {},
     "output_type": "execute_result"
    }
   ],
   "source": [
    "#prepare loan dataset\n",
    "SC_CD_raw = pd.read_excel(\"../../Data/Post1790/SC/Post_1790_South_Carolina_CD.xlsx\",\n",
    "                      header = 11, usecols = 'D, E, F, G, H, M, N, S, T, U, V, W, AB, AC, AH, AI, AJ, AK, AL, AQ, AR')\n",
    "SC_CD_raw.columns = ['First Name', 'Last Name', 'town1', 'state1', 'occupation1', '6p_Dollar', '6p_Cents',\n",
    "                 'First Name.1', 'Last Name.1', 'town2', 'state2', 'occupation2', '6p_def_Dollar', '6p_def_Cents',\n",
    "                 'First Name.2', 'Last Name.2', 'town3', 'state3', 'occupation3', '3p_Dollar', '3p_Cents', ]\n",
    "SC_CD, change_df = combineCols(SC_CD_raw)\n",
    "CD_all = pd.concat([CD_all, SC_CD])\n",
    "change_df"
   ],
   "metadata": {
    "collapsed": false,
    "pycharm": {
     "name": "#%%\n"
    }
   }
  },
  {
   "cell_type": "code",
   "execution_count": 20,
   "outputs": [],
   "source": [
    "#prepare loan dataset\n",
    "SC_ASD_raw = pd.read_excel(\"../../Data/Post1790/SC/Post_1790_South_Carolina_ASD_transfers_removed.xlsx\", header = 11,\n",
    "                       usecols = 'D, E, F, G, H, M, N, O')\n",
    "SC_ASD_raw.columns = ['First Name', 'Last Name', 'town', 'state', 'occupation', '6p_Dollar', '6p_def_Dollar','3p_Dollar']\n",
    "for col in ['6p_', '6p_def_', '3p_']:\n",
    "    SC_ASD_raw[col+'Cents'] = SC_ASD_raw[col+'Dollar'] - np.round(SC_ASD_raw[col+'Dollar'], 0)\n",
    "    SC_ASD_raw[col+'Dollar'] = np.round(SC_ASD_raw['6p_Dollar'], 0)\n",
    "SC_ASD = SC_ASD_raw[['6p_Dollar', '6p_Cents', '6p_def_Dollar', '6p_def_Cents', '3p_Dollar', '3p_Cents',\n",
    "                     'town', 'state', 'occupation']]\n",
    "ASD_all = pd.concat([ASD_all, SC_ASD])"
   ],
   "metadata": {
    "collapsed": false,
    "pycharm": {
     "name": "#%%\n"
    }
   }
  },
  {
   "cell_type": "markdown",
   "source": [
    "### Virginia"
   ],
   "metadata": {
    "collapsed": false,
    "pycharm": {
     "name": "#%% md\n"
    }
   }
  },
  {
   "cell_type": "code",
   "execution_count": 21,
   "outputs": [
    {
     "data": {
      "text/plain": "'\\n#prepare loan dataset\\nVA_CD_raw = pd.read_excel(\"../../Data/Post1790/VA/VA_CD.xlsx\",\\n                      header = 11, usecols = \\'H, I, K, L, U, V, X, Y, AH, AI, AK, AL\\')\\nVA_CD_raw.columns = [\\'First Name\\', \\'Last Name\\', \\'6p_Dollar\\', \\'6p_Cents\\',\\n                 \\'First Name.1\\', \\'Last Name.1\\', \\'6p_def_Dollar\\', \\'6p_def_Cents\\',\\n                 \\'First Name.2\\', \\'Last Name.2\\', \\'3p_Dollar\\', \\'3p_Cents\\']\\nVA_CD_raw[\\'state\\'] = np.nan\\nVA_CD_raw[\\'town\\'] = np.nan\\nVA_CD_raw[\\'occupation\\'] = np.nan\\nVA_CD = VA_CD_raw[[\\'6p_Dollar\\', \\'6p_Cents\\', \\'6p_def_Dollar\\', \\'6p_def_Cents\\', \\'3p_Dollar\\', \\'3p_Cents\\',\\n                   \\'town\\', \\'state\\', \\'occupation\\']]\\nCD_all = pd.concat([CD_all, VA_CD])\\n'"
     },
     "execution_count": 21,
     "metadata": {},
     "output_type": "execute_result"
    }
   ],
   "source": [
    "\"\"\"\n",
    "#prepare loan dataset\n",
    "VA_CD_raw = pd.read_excel(\"../../Data/Post1790/VA/VA_CD.xlsx\",\n",
    "                      header = 11, usecols = 'H, I, K, L, U, V, X, Y, AH, AI, AK, AL')\n",
    "VA_CD_raw.columns = ['First Name', 'Last Name', '6p_Dollar', '6p_Cents',\n",
    "                 'First Name.1', 'Last Name.1', '6p_def_Dollar', '6p_def_Cents',\n",
    "                 'First Name.2', 'Last Name.2', '3p_Dollar', '3p_Cents']\n",
    "VA_CD_raw['state'] = np.nan\n",
    "VA_CD_raw['town'] = np.nan\n",
    "VA_CD_raw['occupation'] = np.nan\n",
    "VA_CD = VA_CD_raw[['6p_Dollar', '6p_Cents', '6p_def_Dollar', '6p_def_Cents', '3p_Dollar', '3p_Cents',\n",
    "                   'town', 'state', 'occupation']]\n",
    "CD_all = pd.concat([CD_all, VA_CD])\n",
    "\"\"\""
   ],
   "metadata": {
    "collapsed": false,
    "pycharm": {
     "name": "#%%\n"
    }
   }
  },
  {
   "cell_type": "code",
   "execution_count": 22,
   "outputs": [
    {
     "name": "stdout",
     "output_type": "stream",
     "text": [
      "town column has multiple unique entries\n",
      "see table at end for new entries\n",
      "reformatting state\n",
      "occupation column has multiple unique entries\n",
      "see table at end for new entries\n"
     ]
    },
    {
     "data": {
      "text/plain": "                                                   old  \\\n0            {Town of Petersburg, The Town Petersburg}   \n1                         {City of Richmond, Richmond}   \n2                {Dinwiddie County, Dinwiddie Country}   \n3    {Town of Petersburg, The Town Petersburg, Town...   \n4                     {Halifax County, Halifox County}   \n..                                                 ...   \n743        {In trust & co I Ball, In trust for J Ball}   \n777  {In trust for George Morrison London, Trust fo...   \n831  {In trust for J Robinson, In trust for Jn Robi...   \n875  {Executors James Minor, Executors of James Min...   \n905  {Adm of McKennie Summer, Administrator of McKe...   \n\n                                     new        type  \n0                    The Town Petersburg        town  \n1                       City of Richmond        town  \n2                      Dinwiddie Country        town  \n3                    The Town Petersburg        town  \n4                         Halifax County        town  \n..                                   ...         ...  \n743                 In trust & co I Ball  occupation  \n777  In trust for George Morrison London  occupation  \n831          In trust for Jn Robinson RB  occupation  \n875           Exec James Minor Louisa Co  occupation  \n905     Administrator of McKennie Sumner  occupation  \n\n[383 rows x 3 columns]",
      "text/html": "<div>\n<style scoped>\n    .dataframe tbody tr th:only-of-type {\n        vertical-align: middle;\n    }\n\n    .dataframe tbody tr th {\n        vertical-align: top;\n    }\n\n    .dataframe thead th {\n        text-align: right;\n    }\n</style>\n<table border=\"1\" class=\"dataframe\">\n  <thead>\n    <tr style=\"text-align: right;\">\n      <th></th>\n      <th>old</th>\n      <th>new</th>\n      <th>type</th>\n    </tr>\n  </thead>\n  <tbody>\n    <tr>\n      <th>0</th>\n      <td>{Town of Petersburg, The Town Petersburg}</td>\n      <td>The Town Petersburg</td>\n      <td>town</td>\n    </tr>\n    <tr>\n      <th>1</th>\n      <td>{City of Richmond, Richmond}</td>\n      <td>City of Richmond</td>\n      <td>town</td>\n    </tr>\n    <tr>\n      <th>2</th>\n      <td>{Dinwiddie County, Dinwiddie Country}</td>\n      <td>Dinwiddie Country</td>\n      <td>town</td>\n    </tr>\n    <tr>\n      <th>3</th>\n      <td>{Town of Petersburg, The Town Petersburg, Town...</td>\n      <td>The Town Petersburg</td>\n      <td>town</td>\n    </tr>\n    <tr>\n      <th>4</th>\n      <td>{Halifax County, Halifox County}</td>\n      <td>Halifax County</td>\n      <td>town</td>\n    </tr>\n    <tr>\n      <th>...</th>\n      <td>...</td>\n      <td>...</td>\n      <td>...</td>\n    </tr>\n    <tr>\n      <th>743</th>\n      <td>{In trust &amp; co I Ball, In trust for J Ball}</td>\n      <td>In trust &amp; co I Ball</td>\n      <td>occupation</td>\n    </tr>\n    <tr>\n      <th>777</th>\n      <td>{In trust for George Morrison London, Trust fo...</td>\n      <td>In trust for George Morrison London</td>\n      <td>occupation</td>\n    </tr>\n    <tr>\n      <th>831</th>\n      <td>{In trust for J Robinson, In trust for Jn Robi...</td>\n      <td>In trust for Jn Robinson RB</td>\n      <td>occupation</td>\n    </tr>\n    <tr>\n      <th>875</th>\n      <td>{Executors James Minor, Executors of James Min...</td>\n      <td>Exec James Minor Louisa Co</td>\n      <td>occupation</td>\n    </tr>\n    <tr>\n      <th>905</th>\n      <td>{Adm of McKennie Summer, Administrator of McKe...</td>\n      <td>Administrator of McKennie Sumner</td>\n      <td>occupation</td>\n    </tr>\n  </tbody>\n</table>\n<p>383 rows × 3 columns</p>\n</div>"
     },
     "execution_count": 22,
     "metadata": {},
     "output_type": "execute_result"
    }
   ],
   "source": [
    "#prepare loan dataset\n",
    "VA_ASD_raw = pd.read_excel(\"../../Data/Post1790/VA/VA_ASD.xlsx\", header = 11,\n",
    "                       usecols = 'D, E, F, G, N, O, U, V, W, X, AE, AF, AL, AM, AN, AO, AW, AX')\n",
    "VA_ASD_raw.columns = ['First Name', 'Last Name', 'town1', 'occupation1', '6p_Dollar', '6p_Cents',\n",
    "                  'First Name.1', 'Last Name.1', 'town2', 'occupation2', '6p_def_Dollar', '6p_def_Cents',\n",
    "                  'First Name.2', 'Last Name.2', 'town3', 'occupation3', '3p_Dollar', '3p_Cents']\n",
    "VA_ASD_raw['state1'] = np.nan\n",
    "VA_ASD_raw['state2'] = np.nan\n",
    "VA_ASD_raw['state3'] = np.nan\n",
    "VA_ASD, change_df = combineCols(VA_ASD_raw)\n",
    "ASD_all = pd.concat([ASD_all, VA_ASD])\n",
    "change_df"
   ],
   "metadata": {
    "collapsed": false,
    "pycharm": {
     "name": "#%%\n"
    }
   }
  },
  {
   "cell_type": "code",
   "execution_count": 269,
   "outputs": [
    {
     "data": {
      "text/plain": "      6p_Dollar 6p_Cents 6p_def_Dollar 6p_def_Cents   3p_Dollar 3p_Cents  \\\n0        1064.0     75.0         532.0         37.0       508.0     51.0   \n1         449.0     96.0         224.0         97.0       232.0     10.0   \n2         154.0     20.0          77.0         10.0       192.0      NaN   \n3         196.0     75.0          98.0         37.0       172.0     24.0   \n4          53.0     58.0          26.0         79.0        67.0      6.0   \n..          ...      ...           ...          ...         ...      ...   \n903         NaN      NaN           NaN          NaN        28.0     29.0   \n904         NaN      NaN           NaN          NaN      2030.0     35.0   \n905       954.0     43.0         477.0         21.0       715.0     82.0   \n906         NaN      NaN           NaN          NaN         NaN      NaN   \n907  1342267.46      NaN     675291.39          NaN  1026386.26      NaN   \n\n               town state                        occupation  \n0          Hartford    CT                          Merchant  \n1            Bolton    CT                            Farmer  \n2      Rhode Island    RI                            Farmer  \n3          Hartford    CT                          Merchant  \n4          Hartford    CT                          Merchant  \n..              ...   ...                               ...  \n903        Richmond   NaN                               NaN  \n904        New York   NaN                               NaN  \n905  North Carolina   NaN  Administrator of McKennie Sumner  \n906             NaN   NaN                               NaN  \n907             NaN   NaN                               NaN  \n\n[5722 rows x 9 columns]",
      "text/html": "<div>\n<style scoped>\n    .dataframe tbody tr th:only-of-type {\n        vertical-align: middle;\n    }\n\n    .dataframe tbody tr th {\n        vertical-align: top;\n    }\n\n    .dataframe thead th {\n        text-align: right;\n    }\n</style>\n<table border=\"1\" class=\"dataframe\">\n  <thead>\n    <tr style=\"text-align: right;\">\n      <th></th>\n      <th>6p_Dollar</th>\n      <th>6p_Cents</th>\n      <th>6p_def_Dollar</th>\n      <th>6p_def_Cents</th>\n      <th>3p_Dollar</th>\n      <th>3p_Cents</th>\n      <th>town</th>\n      <th>state</th>\n      <th>occupation</th>\n    </tr>\n  </thead>\n  <tbody>\n    <tr>\n      <th>0</th>\n      <td>1064.0</td>\n      <td>75.0</td>\n      <td>532.0</td>\n      <td>37.0</td>\n      <td>508.0</td>\n      <td>51.0</td>\n      <td>Hartford</td>\n      <td>CT</td>\n      <td>Merchant</td>\n    </tr>\n    <tr>\n      <th>1</th>\n      <td>449.0</td>\n      <td>96.0</td>\n      <td>224.0</td>\n      <td>97.0</td>\n      <td>232.0</td>\n      <td>10.0</td>\n      <td>Bolton</td>\n      <td>CT</td>\n      <td>Farmer</td>\n    </tr>\n    <tr>\n      <th>2</th>\n      <td>154.0</td>\n      <td>20.0</td>\n      <td>77.0</td>\n      <td>10.0</td>\n      <td>192.0</td>\n      <td>NaN</td>\n      <td>Rhode Island</td>\n      <td>RI</td>\n      <td>Farmer</td>\n    </tr>\n    <tr>\n      <th>3</th>\n      <td>196.0</td>\n      <td>75.0</td>\n      <td>98.0</td>\n      <td>37.0</td>\n      <td>172.0</td>\n      <td>24.0</td>\n      <td>Hartford</td>\n      <td>CT</td>\n      <td>Merchant</td>\n    </tr>\n    <tr>\n      <th>4</th>\n      <td>53.0</td>\n      <td>58.0</td>\n      <td>26.0</td>\n      <td>79.0</td>\n      <td>67.0</td>\n      <td>6.0</td>\n      <td>Hartford</td>\n      <td>CT</td>\n      <td>Merchant</td>\n    </tr>\n    <tr>\n      <th>...</th>\n      <td>...</td>\n      <td>...</td>\n      <td>...</td>\n      <td>...</td>\n      <td>...</td>\n      <td>...</td>\n      <td>...</td>\n      <td>...</td>\n      <td>...</td>\n    </tr>\n    <tr>\n      <th>903</th>\n      <td>NaN</td>\n      <td>NaN</td>\n      <td>NaN</td>\n      <td>NaN</td>\n      <td>28.0</td>\n      <td>29.0</td>\n      <td>Richmond</td>\n      <td>NaN</td>\n      <td>NaN</td>\n    </tr>\n    <tr>\n      <th>904</th>\n      <td>NaN</td>\n      <td>NaN</td>\n      <td>NaN</td>\n      <td>NaN</td>\n      <td>2030.0</td>\n      <td>35.0</td>\n      <td>New York</td>\n      <td>NaN</td>\n      <td>NaN</td>\n    </tr>\n    <tr>\n      <th>905</th>\n      <td>954.0</td>\n      <td>43.0</td>\n      <td>477.0</td>\n      <td>21.0</td>\n      <td>715.0</td>\n      <td>82.0</td>\n      <td>North Carolina</td>\n      <td>NaN</td>\n      <td>Administrator of McKennie Sumner</td>\n    </tr>\n    <tr>\n      <th>906</th>\n      <td>NaN</td>\n      <td>NaN</td>\n      <td>NaN</td>\n      <td>NaN</td>\n      <td>NaN</td>\n      <td>NaN</td>\n      <td>NaN</td>\n      <td>NaN</td>\n      <td>NaN</td>\n    </tr>\n    <tr>\n      <th>907</th>\n      <td>1342267.46</td>\n      <td>NaN</td>\n      <td>675291.39</td>\n      <td>NaN</td>\n      <td>1026386.26</td>\n      <td>NaN</td>\n      <td>NaN</td>\n      <td>NaN</td>\n      <td>NaN</td>\n    </tr>\n  </tbody>\n</table>\n<p>5722 rows × 9 columns</p>\n</div>"
     },
     "execution_count": 269,
     "metadata": {},
     "output_type": "execute_result"
    }
   ],
   "source": [
    "ASD_all"
   ],
   "metadata": {
    "collapsed": false,
    "pycharm": {
     "name": "#%%\n"
    }
   }
  },
  {
   "cell_type": "markdown",
   "source": [
    "## Mapping Town/City to Counties - INCOMPLETE\n",
    "1. Connecticut: Referencing <a href = \"https://ctstatelibrary.org/cttowns/counties\">https://ctstatelibrary.org/cttowns/counties</a> I found that Huntington is now called Shelton and Chatham is now called East Hampton. The other two cases below are not mappable because those are not valid town names.\n",
    "2. Georgia: Investigate more, very few counties"
   ],
   "metadata": {
    "collapsed": false,
    "pycharm": {
     "name": "#%% md\n"
    }
   }
  },
  {
   "cell_type": "code",
   "execution_count": 259,
   "outputs": [],
   "source": [
    "# fuzzy string matching function\n",
    "def fuzzyMatch(unmatched_towns, towns, crosswalk, primary_dict, dict_matchcol = 'primary_city', initial = True, score_threshold = 85):\n",
    "    if initial:\n",
    "        print(\"\\nFuzzy City name - county matches\\n\")\n",
    "    else:\n",
    "        print(\"\\nFuzzy City name - county matches with string changes\\n\")\n",
    "\n",
    "    for town in unmatched_towns:\n",
    "        # extract best match\n",
    "        match_tuple = process.extractOne(town, crosswalk[dict_matchcol])\n",
    "        score = match_tuple[1]\n",
    "        match = match_tuple[0]\n",
    "        # if match above threshold, change + print match so we can hand check\n",
    "        if score >= score_threshold:\n",
    "\n",
    "            if dict_matchcol == 'primary_city':\n",
    "                county = primary_dict[match]\n",
    "            if dict_matchcol == 'county':\n",
    "                county = match\n",
    "            # add match, print out match\n",
    "            if initial:\n",
    "                print(\"{} -> {} in {}\".format(town, match, county))\n",
    "                town_index = towns[towns['town'] == town].index\n",
    "                towns.loc[town_index, 'county'] = county\n",
    "            else:\n",
    "                original_town = towns[towns['town2'] == town]['town'].tolist()\n",
    "                print(\"{} (new name: {}) -> {} in {}\".format(original_town, town, match, county))\n",
    "                town_index = towns[towns['town'].apply(lambda x: x in original_town)].index\n",
    "                towns.loc[town_index, 'county'] = [county] * len(town_index)\n",
    "    return towns"
   ],
   "metadata": {
    "collapsed": false,
    "pycharm": {
     "name": "#%%\n"
    }
   }
  },
  {
   "cell_type": "code",
   "execution_count": 254,
   "outputs": [],
   "source": [
    "def directTownMatch(state_cw, towns, col = 'primary_city', towncol = 'town'):\n",
    "    print(\"Direct City name - county matches\\n\")\n",
    "    # match towns directly based off crosswalk\n",
    "    primary_dict = dict(zip(state_cw[col],state_cw['county']))\n",
    "    if col == 'primary_city':\n",
    "        towns['county'] = towns[towncol].apply(lambda x: primary_dict.get(x, np.nan))\n",
    "    if col == 'acceptable_cities':\n",
    "        for ind in towns.index:\n",
    "            town = towns.loc[ind, 'town']\n",
    "            county = state_cw[state_cw[col].apply(lambda x: town in x if not pd.isnull(x) else False)]['county'].tolist()\n",
    "            if len(county)>0:\n",
    "                towns.loc[ind, 'county'] = county[0]\n",
    "    t = towns[towns['county'].apply(lambda x: not pd.isnull(x))]\n",
    "    if towncol == 'town':\n",
    "        for tn, cty in zip(t['town'], t['county']):\n",
    "            print(\"{} was matched to {} directly using the crosswalk\".format(tn, cty))\n",
    "    if towncol == 'town2':\n",
    "        for tn, tn_og, cty in zip(t['town2'], t['town'], t['county']):\n",
    "            print(\"{} (original: {}) was matched to {} directly using the crosswalk\".format(tn, tn_og, cty))\n",
    "    return primary_dict, towns"
   ],
   "metadata": {
    "collapsed": false,
    "pycharm": {
     "name": "#%%\n"
    }
   }
  },
  {
   "cell_type": "code",
   "execution_count": 255,
   "outputs": [],
   "source": [
    "def directCountyMatch(state_cw, towns, towncol = 'town'):\n",
    "    print(\"\\nSome city names are actually county names\")\n",
    "    if towncol == 'town':\n",
    "        print(\"Direct City (county) name - county matches\\n\")\n",
    "    if towncol == 'town2':\n",
    "        print(\"Direct City (county) name with string changes - county matches\\n\")\n",
    "    # some own names are actually counties\n",
    "    # match towns based off whether town name is actually county name in crosswalk\n",
    "    counties = state_cw['county'].unique()\n",
    "    nanindex = towns[towns['county'].apply(lambda x: pd.isnull(x))].index\n",
    "    towns.loc[nanindex, 'county'] = towns.loc[nanindex, towncol].apply(lambda x: x if x in counties.tolist() else np.nan)\n",
    "    towns2 = towns.loc[nanindex]\n",
    "    nanindex2 = towns2[towns2['county'].apply(lambda x: not pd.isnull(x))].index\n",
    "    for t, c in zip(towns2.loc[nanindex2, towncol], towns2.loc[nanindex2, 'county']):\n",
    "        print(\"{} was matched to {} using the crosswalk\".format(t, c))\n",
    "    return towns"
   ],
   "metadata": {
    "collapsed": false,
    "pycharm": {
     "name": "#%%\n"
    }
   }
  },
  {
   "cell_type": "code",
   "execution_count": 105,
   "outputs": [],
   "source": [
    "city_county_cw = pd.read_excel('../../Data/zip_code_database.xls')[['primary_city', 'acceptable_cities',\n",
    "                                                                    'unacceptable_cities', 'county', 'state']]"
   ],
   "metadata": {
    "collapsed": false,
    "pycharm": {
     "name": "#%%\n"
    }
   }
  },
  {
   "cell_type": "code",
   "execution_count": 268,
   "outputs": [
    {
     "name": "stdout",
     "output_type": "stream",
     "text": [
      "\n",
      "CT MATCHING \n",
      "\n",
      "Direct City name - county matches\n",
      "\n",
      "Hartford was matched to Hartford County directly using the crosswalk\n",
      "Bolton was matched to Tolland County directly using the crosswalk\n",
      "Wethersfield was matched to Hartford County directly using the crosswalk\n",
      "New Haven was matched to New Haven County directly using the crosswalk\n",
      "Farmington was matched to Hartford County directly using the crosswalk\n",
      "New London was matched to New London County directly using the crosswalk\n",
      "Cornwall was matched to Litchfield County directly using the crosswalk\n",
      "Stamford was matched to Fairfield County directly using the crosswalk\n",
      "East Hartford was matched to Hartford County directly using the crosswalk\n",
      "Bristol was matched to Hartford County directly using the crosswalk\n",
      "Lebanon was matched to New London County directly using the crosswalk\n",
      "Windsor was matched to Hartford County directly using the crosswalk\n",
      "Suffield was matched to Hartford County directly using the crosswalk\n",
      "Berlin was matched to Hartford County directly using the crosswalk\n",
      "Glastonbury was matched to Hartford County directly using the crosswalk\n",
      "Stafford was matched to Tolland County directly using the crosswalk\n",
      "Hebron was matched to Tolland County directly using the crosswalk\n",
      "Middletown was matched to Middlesex County directly using the crosswalk\n",
      "East Windsor was matched to Hartford County directly using the crosswalk\n",
      "Norwich was matched to New London County directly using the crosswalk\n",
      "Preston was matched to New London County directly using the crosswalk\n",
      "Sharon was matched to Litchfield County directly using the crosswalk\n",
      "Somers was matched to Tolland County directly using the crosswalk\n",
      "Goshen was matched to Litchfield County directly using the crosswalk\n",
      "Torrington was matched to Litchfield County directly using the crosswalk\n",
      "Watertown was matched to Litchfield County directly using the crosswalk\n",
      "Stonington was matched to New London County directly using the crosswalk\n",
      "Colchester was matched to New London County directly using the crosswalk\n",
      "Fairfield was matched to Fairfield County directly using the crosswalk\n",
      "Guilford was matched to New Haven County directly using the crosswalk\n",
      "Enfield was matched to Hartford County directly using the crosswalk\n",
      "Plainfield was matched to Windham County directly using the crosswalk\n",
      "Coventry was matched to Tolland County directly using the crosswalk\n",
      "Groton was matched to New London County directly using the crosswalk\n",
      "Bozrah was matched to New London County directly using the crosswalk\n",
      "Derby was matched to New Haven County directly using the crosswalk\n",
      "Woodstock was matched to Windham County directly using the crosswalk\n",
      "Windham was matched to Windham County directly using the crosswalk\n",
      "Stratford was matched to Fairfield County directly using the crosswalk\n",
      "Brooklyn was matched to Windham County directly using the crosswalk\n",
      "Haddam was matched to Middlesex County directly using the crosswalk\n",
      "Tolland was matched to Tolland County directly using the crosswalk\n",
      "Danbury was matched to Fairfield County directly using the crosswalk\n",
      "Newington was matched to Hartford County directly using the crosswalk\n",
      "Litchfield was matched to Litchfield County directly using the crosswalk\n",
      "Milford was matched to New Haven County directly using the crosswalk\n",
      "Pomfret was matched to Windham County directly using the crosswalk\n",
      "Killingworth was matched to Middlesex County directly using the crosswalk\n",
      "Granby was matched to Hartford County directly using the crosswalk\n",
      "Roxbury was matched to Litchfield County directly using the crosswalk\n",
      "New Hartford was matched to Litchfield County directly using the crosswalk\n",
      "East Haddam was matched to Middlesex County directly using the crosswalk\n",
      "Greenwich was matched to Fairfield County directly using the crosswalk\n",
      "New Milford was matched to Litchfield County directly using the crosswalk\n",
      "Canaan was matched to Litchfield County directly using the crosswalk\n",
      "Montville was matched to New London County directly using the crosswalk\n",
      "Norwalk was matched to Fairfield County directly using the crosswalk\n",
      "Canterbury was matched to Windham County directly using the crosswalk\n",
      "Branford was matched to New Haven County directly using the crosswalk\n",
      "Ashford was matched to Windham County directly using the crosswalk\n",
      "Willington was matched to Tolland County directly using the crosswalk\n",
      "Southbury was matched to New Haven County directly using the crosswalk\n",
      "North Haven was matched to New Haven County directly using the crosswalk\n",
      "Woodbury was matched to Litchfield County directly using the crosswalk\n",
      "Thompson was matched to Windham County directly using the crosswalk\n",
      "Hampton was matched to Windham County directly using the crosswalk\n",
      "Cheshire was matched to New Haven County directly using the crosswalk\n",
      "Voluntown was matched to New London County directly using the crosswalk\n",
      "Salisbury was matched to Litchfield County directly using the crosswalk\n",
      "Weston was matched to Fairfield County directly using the crosswalk\n",
      "Wallingford was matched to New Haven County directly using the crosswalk\n",
      "East Haven was matched to New Haven County directly using the crosswalk\n",
      "Ellington was matched to Tolland County directly using the crosswalk\n",
      "Durham was matched to Middlesex County directly using the crosswalk\n",
      "Waterbury was matched to New Haven County directly using the crosswalk\n",
      "Norfolk was matched to Litchfield County directly using the crosswalk\n",
      "Ridgefield was matched to Fairfield County directly using the crosswalk\n",
      "\n",
      "Fuzzy City name - county matches\n",
      "\n",
      "Lyme -> East Lyme in New London County\n",
      "Southhampton -> Hampton in Windham County\n",
      "Saybrook -> Old Saybrook in Middlesex County\n",
      "Mansfield -> Mansfield Center in Tolland County\n",
      "Northampton -> Hampton in Windham County\n",
      "Reading -> Redding in Fairfield County\n",
      "Symsbury -> Simsbury in Hartford County\n",
      "London -> New London in New London County\n",
      "Franklin -> North Franklin in New London County\n",
      "Cornwell -> Cornwall in Litchfield County\n",
      "Brooklyne -> Brooklyn in Windham County\n",
      "Stonnington -> Stonington in New London County\n",
      "Volentown -> Voluntown in New London County\n",
      "\n",
      "Fuzzy City name - county matches with string changes\n",
      "\n",
      "['Chatham'] (new name: East Hampton) -> East Hampton in Middlesex County\n",
      "['Huntington'] (new name: Shelton) -> Shelton in Fairfield County\n",
      "\n",
      "Final Unmatched Names\n",
      "\n",
      "Vermont was unable to be matched\n",
      "Connecticut was unable to be matched\n",
      "Connecticutt was unable to be matched\n",
      "\n",
      "GA MATCHING \n",
      "\n",
      "Direct City name - county matches\n",
      "\n",
      "Savannah was matched to Chatham County directly using the crosswalk\n",
      "Augusta was matched to Richmond County directly using the crosswalk\n",
      "\n",
      "Some city names are actually county names\n",
      "Direct City (county) name - county matches\n",
      "\n",
      "Effingham County was matched to Effingham County using the crosswalk\n",
      "Columbia County was matched to Columbia County using the crosswalk\n",
      "\n",
      "Final Unmatched Names\n",
      "\n",
      "State of Georgia was unable to be matched\n",
      "Georgia was unable to be matched\n",
      "\n",
      "MD MATCHING \n",
      "\n",
      "Direct City name - county matches\n",
      "\n",
      "Baltimore was matched to Baltimore City directly using the crosswalk\n",
      "Annapolis was matched to Anne Arundel County directly using the crosswalk\n",
      "Bladensburg was matched to Prince George's County directly using the crosswalk\n",
      "Cambridge was matched to Dorchester County directly using the crosswalk\n",
      "Frederick was matched to Frederick County directly using the crosswalk\n",
      "\n",
      "Some city names are actually county names\n",
      "Direct City (county) name - county matches\n",
      "\n",
      "Harford County was matched to Harford County using the crosswalk\n",
      "Baltimore County was matched to Baltimore County using the crosswalk\n",
      "Anne Arundel County was matched to Anne Arundel County using the crosswalk\n",
      "Frederick County was matched to Frederick County using the crosswalk\n",
      "Somerset County was matched to Somerset County using the crosswalk\n",
      "Caroline County was matched to Caroline County using the crosswalk\n",
      "Washington County was matched to Washington County using the crosswalk\n",
      "Kent County was matched to Kent County using the crosswalk\n",
      "Charles County was matched to Charles County using the crosswalk\n",
      "Montgomery County was matched to Montgomery County using the crosswalk\n",
      "Talbot County was matched to Talbot County using the crosswalk\n",
      "Calvert County was matched to Calvert County using the crosswalk\n",
      "Cecil County was matched to Cecil County using the crosswalk\n",
      "Dorchester County was matched to Dorchester County using the crosswalk\n",
      "Worcester County was matched to Worcester County using the crosswalk\n",
      "Allegany County was matched to Allegany County using the crosswalk\n",
      "\n",
      "Some city names are actually county names\n",
      "Direct City (county) name with string changes - county matches\n",
      "\n",
      "Frederick County was matched to Frederick County using the crosswalk\n",
      "Montgomery County was matched to Montgomery County using the crosswalk\n",
      "Somerset County was matched to Somerset County using the crosswalk\n",
      "\n",
      "Fuzzy City name - county matches with string changes\n",
      "\n",
      "['Prince Georges County'] (new name: Prince Georges County) -> Prince George's County in Prince George's County\n",
      "['St Marys County'] (new name: St Marys County) -> St Mary's County in St Mary's County\n",
      "['Calver County'] (new name: Calver County) -> Calvert County in Calvert County\n",
      "['Queen Annes County'] (new name: Queen Annes County) -> Queen Anne's County in Queen Anne's County\n",
      "['Talbot'] (new name: Talbot) -> Talbot County in Talbot County\n",
      "['Fredrick Co Maryland'] (new name: Fredrick County) -> Frederick County in Frederick County\n",
      "\n",
      "Fuzzy City name - county matches with string changes\n",
      "\n",
      "['George Town'] (new name: George Town) -> Georgetown in Cecil County\n",
      "['Frederick Town'] (new name: Frederick Town) -> Frederick in Frederick County\n",
      "['Baltimore Town'] (new name: Baltimore Town) -> Baltimore in Baltimore City\n",
      "['Georges Town'] (new name: Georges Town) -> Georgetown in Cecil County\n",
      "['George town'] (new name: George town) -> Georgetown in Cecil County\n",
      "\n",
      "Final Unmatched Names\n",
      "\n",
      "Maryland was unable to be matched\n",
      "Doden Maryland was unable to be matched\n",
      "Isaac was unable to be matched\n",
      "\n",
      "NC MATCHING \n",
      "\n",
      "Direct City name - county matches\n",
      "\n",
      "Edenton was matched to Chowan County directly using the crosswalk\n",
      "Fayetteville was matched to Cumberland County directly using the crosswalk\n",
      "Wilmington was matched to New Hanover County directly using the crosswalk\n",
      "Salisbury was matched to Rowan County directly using the crosswalk\n",
      "Halifax was matched to Halifax County directly using the crosswalk\n",
      "Washington was matched to Beaufort County directly using the crosswalk\n",
      "Hillsborough was matched to Orange County directly using the crosswalk\n",
      "\n",
      "Some city names are actually county names\n",
      "Direct City (county) name - county matches\n",
      "\n",
      "Wayne County was matched to Wayne County using the crosswalk\n",
      "Rowan County was matched to Rowan County using the crosswalk\n",
      "Warren County was matched to Warren County using the crosswalk\n",
      "Perquimans County was matched to Perquimans County using the crosswalk\n",
      "Mecklenburg County was matched to Mecklenburg County using the crosswalk\n",
      "Edgecombe County was matched to Edgecombe County using the crosswalk\n",
      "Pitt County was matched to Pitt County using the crosswalk\n",
      "Currituck County was matched to Currituck County using the crosswalk\n",
      "Rockingham County was matched to Rockingham County using the crosswalk\n",
      "\n",
      "Fuzzy City name - county matches with string changes\n",
      "\n",
      "['Newbern'] (new name: Newbern) -> New Bern in Craven County\n",
      "['Tarborugh'] (new name: Tarboro) -> Tarboro in Edgecombe County\n",
      "['Murfrees Borough'] (new name: Murfrees Borough) -> Murfreesboro in Hertford County\n",
      "['Halifax', 'Halifax '] (new name: Halifax) -> Halifax in Halifax County\n",
      "\n",
      "Final Unmatched Names\n",
      "\n",
      "North Carolina was unable to be matched\n",
      "\n",
      "NH MATCHING \n",
      "\n",
      "Direct City name - county matches\n",
      "\n",
      "Portsmouth was matched to Rockingham County directly using the crosswalk\n",
      "Exeter was matched to Rockingham County directly using the crosswalk\n",
      "Deerfield was matched to Rockingham County directly using the crosswalk\n",
      "Greenland was matched to Rockingham County directly using the crosswalk\n",
      "Hampton was matched to Rockingham County directly using the crosswalk\n",
      "North Hampton was matched to Rockingham County directly using the crosswalk\n",
      "Newbury was matched to Merrimack County directly using the crosswalk\n",
      "Candia was matched to Rockingham County directly using the crosswalk\n",
      "Salem was matched to Rockingham County directly using the crosswalk\n",
      "Canterbury was matched to Merrimack County directly using the crosswalk\n",
      "New Castle was matched to Rockingham County directly using the crosswalk\n",
      "Pelham was matched to Hillsborough County directly using the crosswalk\n",
      "Concord was matched to Merrimack County directly using the crosswalk\n",
      "Barrington was matched to Strafford County directly using the crosswalk\n",
      "Tamworth was matched to Carroll County directly using the crosswalk\n",
      "Amherst was matched to Hillsborough County directly using the crosswalk\n",
      "Acworth was matched to Sullivan County directly using the crosswalk\n",
      "Somersworth was matched to Strafford County directly using the crosswalk\n",
      "Nottingham was matched to Rockingham County directly using the crosswalk\n",
      "Charlestown was matched to Sullivan County directly using the crosswalk\n",
      "Salisbury was matched to Merrimack County directly using the crosswalk\n",
      "Durham was matched to Strafford County directly using the crosswalk\n",
      "Hollis was matched to Hillsborough County directly using the crosswalk\n",
      "Dover was matched to Strafford County directly using the crosswalk\n",
      "Keene was matched to Cheshire County directly using the crosswalk\n",
      "Rye was matched to Rockingham County directly using the crosswalk\n",
      "\n",
      "Fuzzy City name - county matches with string changes\n",
      "\n",
      "['Charleston State of New Hampshire'] (new name: Charleston) -> Charlestown in Sullivan County\n",
      "['Portsmouth', 'Portsmouth New Hampshire'] (new name: Portsmouth) -> Portsmouth in Rockingham County\n",
      "['Merrimac'] (new name: Merrimac) -> Merrimack in Hillsborough County\n",
      "['Kingstown'] (new name: Kingstown) -> Kingston in Rockingham County\n",
      "['Marbury'] (new name: Marbury) -> Madbury in Strafford County\n",
      "['London'] (new name: London) -> Londonderry in Rockingham County\n",
      "['Sandwich'] (new name: Sandwich) -> Center Sandwich in Carroll County\n",
      "['Gilmantown'] (new name: Gilmantown) -> Gilmanton in Belknap County\n",
      "['Newtown'] (new name: Newtown) -> Newton in Rockingham County\n",
      "['South Hampton'] (new name: South Hampton) -> Hampton in Rockingham County\n",
      "['Wakefield'] (new name: Wakefield) -> East Wakefield in Carroll County\n",
      "['Londonberry'] (new name: Londonberry) -> Londonderry in Rockingham County\n",
      "['Newport in New Hampshire'] (new name: Newport in) -> Newport in Sullivan County\n",
      "Direct City name - county matches\n",
      "\n",
      "Kensington was matched to Rockingham County directly using the crosswalk\n",
      "Pembroke was matched to Merrimack County directly using the crosswalk\n",
      "Hopkinton was matched to Merrimack County directly using the crosswalk\n",
      "Alexandria was matched to Grafton County directly using the crosswalk\n",
      "\n",
      "Some city names are actually county names\n",
      "Direct City (county) name with string changes - county matches\n",
      "\n",
      "Rockingham County was matched to Rockingham County using the crosswalk\n",
      "\n",
      "Final Unmatched Names\n",
      "\n",
      "North Hampshire was unable to be matched\n",
      "State of New Hampshire was unable to be matched\n",
      "Glouster was unable to be matched\n",
      "York was unable to be matched\n",
      "Wells was unable to be matched\n",
      "\n",
      "NJ MATCHING \n",
      "\n",
      "Direct City name - county matches\n",
      "\n",
      "Cape May was matched to Cape May County directly using the crosswalk\n",
      "\n",
      "Fuzzy City name - county matches with string changes\n",
      "\n",
      "['Brunswick New Jersey'] (new name: Brunswick) -> New Brunswick in Middlesex County\n",
      "['Cape May New Jersey', 'Cape May'] (new name: Cape May) -> Cape May in Cape May County\n",
      "['Trenton New Jersey'] (new name: Trenton) -> Trenton in Mercer County\n",
      "['New Brunswick New Jersey'] (new name: New Brunswick) -> New Brunswick in Middlesex County\n",
      "['Mount Holley New Jersey'] (new name: Mount Holley) -> Mount Holly in Burlington County\n",
      "['Middlesex New Jersey'] (new name: Middlesex) -> Middlesex in Middlesex County\n",
      "['Princeton New Jersey'] (new name: Princeton) -> Princeton in Mercer County\n",
      "['Burlington New Jersey'] (new name: Burlington) -> Burlington in Burlington County\n",
      "['Newton Township New Jersey'] (new name: Newton Township) -> Newton in Sussex County\n",
      "['Somerset County New Jersey'] (new name: Somerset County) -> Somerset in Somerset County\n",
      "\n",
      "Some city names are actually county names\n",
      "Direct City (county) name with string changes - county matches\n",
      "\n",
      "Monmouth County was matched to Monmouth County using the crosswalk\n",
      "\n",
      "Final Unmatched Names\n",
      "\n",
      "New Jersey was unable to be matched\n",
      "Huntington New Jersey was unable to be matched\n",
      "\n",
      "PA MATCHING \n",
      "\n",
      "Direct City name - county matches\n",
      "\n",
      "Philadelphia was matched to Philadelphia County directly using the crosswalk\n",
      "Lancaster was matched to Lancaster County directly using the crosswalk\n",
      "Reading was matched to Berks County directly using the crosswalk\n",
      "Bethlehem was matched to Northampton County directly using the crosswalk\n",
      "Montgomery was matched to Lycoming County directly using the crosswalk\n",
      "Chester was matched to Delaware County directly using the crosswalk\n",
      "Pittsburgh was matched to Allegheny County directly using the crosswalk\n",
      "\n",
      "Some city names are actually county names\n",
      "Direct City (county) name - county matches\n",
      "\n",
      "Philadelphia County was matched to Philadelphia County using the crosswalk\n",
      "Franklin County was matched to Franklin County using the crosswalk\n",
      "Chester County was matched to Chester County using the crosswalk\n",
      "Bucks County was matched to Bucks County using the crosswalk\n",
      "Montgomery County was matched to Montgomery County using the crosswalk\n",
      "Berks County was matched to Berks County using the crosswalk\n",
      "Dauphin County was matched to Dauphin County using the crosswalk\n",
      "Allegheny County was matched to Allegheny County using the crosswalk\n",
      "Westmoreland County was matched to Westmoreland County using the crosswalk\n",
      "Lancaster County was matched to Lancaster County using the crosswalk\n",
      "Northumberland County was matched to Northumberland County using the crosswalk\n",
      "Northampton County was matched to Northampton County using the crosswalk\n",
      "York County was matched to York County using the crosswalk\n",
      "Delaware County was matched to Delaware County using the crosswalk\n",
      "Bedford County was matched to Bedford County using the crosswalk\n",
      "\n",
      "Some city names are actually county names\n",
      "Direct City (county) name with string changes - county matches\n",
      "\n",
      "Bucks County was matched to Bucks County using the crosswalk\n",
      "Delaware County was matched to Delaware County using the crosswalk\n",
      "Chester County was matched to Chester County using the crosswalk\n",
      "Dauphin County was matched to Dauphin County using the crosswalk\n",
      "Allegheny County was matched to Allegheny County using the crosswalk\n",
      "Chester County was matched to Chester County using the crosswalk\n",
      "Berks County was matched to Berks County using the crosswalk\n",
      "Montgomery County was matched to Montgomery County using the crosswalk\n",
      "Franklin County was matched to Franklin County using the crosswalk\n",
      "Lancaster County was matched to Lancaster County using the crosswalk\n",
      "Fayette County was matched to Fayette County using the crosswalk\n",
      "Delaware County was matched to Delaware County using the crosswalk\n",
      "Northampton County was matched to Northampton County using the crosswalk\n",
      "York County was matched to York County using the crosswalk\n",
      "Westmoreland County was matched to Westmoreland County using the crosswalk\n",
      "Franklin County was matched to Franklin County using the crosswalk\n",
      "Northumberland County was matched to Northumberland County using the crosswalk\n",
      "\n",
      "Fuzzy City name - county matches with string changes\n",
      "\n",
      "['Carlisle Pennsylvania'] (new name: Carlisle) -> Carlisle in Cumberland County\n",
      "['Germantown'] (new name: Germantown) -> New Germantown in Perry County\n",
      "['Westmoreland'] (new name: Westmoreland) -> Westmoreland City in Westmoreland County\n",
      "['Philadelphia', 'Blockley'] (new name: Philadelphia) -> Philadelphia in Philadelphia County\n",
      "['Cumberland'] (new name: Cumberland) -> New Cumberland in Cumberland County\n",
      "['Reading', 'Reading Pennsylvania'] (new name: Reading) -> Reading in Berks County\n",
      "['Reading Berks County'] (new name: Reading Berks County) -> Reading in Berks County\n",
      "['County of Philadelphia'] (new name: County of Philadelphia) -> Philadelphia in Philadelphia County\n",
      "['York Town Pennsylvania', 'York Town'] (new name: York Town) -> York in York County\n",
      "['Lancaster', 'Lancaster Pennsylvania'] (new name: Lancaster) -> Lancaster in Lancaster County\n",
      "['The N Lib of Philadelphia'] (new name: The N Lib of Philadelphia) -> Philadelphia in Philadelphia County\n",
      "['Charleston South Carolina'] (new name: Charleston South Carolina) -> South Heights in Beaver County\n",
      "['Pittsburgh Pennsylvania', 'Pittsburgh'] (new name: Pittsburgh) -> Pittsburgh in Allegheny County\n",
      "['Chester County Pennsylvaina'] (new name: Chester County Pennsylvaina) -> Penn in Westmoreland County\n",
      "['Chambersburgh Pennsylvania'] (new name: Chambersburgh) -> Chambersburg in Franklin County\n",
      "['Frankford Philadelphia County'] (new name: Frankford Philadelphia County) -> Philadelphia in Philadelphia County\n",
      "['Kensington'] (new name: Kensington) -> New Kensington in Westmoreland County\n",
      "['Burlington New Jersey'] (new name: Burlington New Jersey) -> Burlington in Bradford County\n",
      "['Chester and County'] (new name: Chester and County) -> Chester in Delaware County\n",
      "['Dauphin and Company'] (new name: Dauphin and Company) -> Dauphin in Dauphin County\n",
      "['Hatter Philadelphia'] (new name: Hatter Philadelphia) -> Philadelphia in Philadelphia County\n",
      "['Sunbury Pennsylvania'] (new name: Sunbury) -> Sunbury in Northumberland County\n",
      "['Church on Philadelphia'] (new name: Church on Philadelphia) -> Philadelphia in Philadelphia County\n",
      "['Philadelphila'] (new name: Philadelphila) -> Philadelphia in Philadelphia County\n",
      "['Northumberland County Virginia'] (new name: Northumberland County Virginia) -> Northumberland in Northumberland County\n",
      "['Paxton Tot Dauphin County'] (new name: Paxton Tot Dauphin County) -> Dauphin in Dauphin County\n",
      "['York Town Pennsylvania', 'York Town'] (new name: York Town) -> York in York County\n",
      "\n",
      "Final Unmatched Names\n",
      "\n",
      "Pennsylvania was unable to be matched\n",
      "W Callisters Town was unable to be matched\n",
      "Tulpehocken was unable to be matched\n",
      "Armstrong was unable to be matched\n",
      "Northumb Country was unable to be matched\n",
      "Northan Liberties was unable to be matched\n",
      "Borden Town was unable to be matched\n",
      "St Eustalia was unable to be matched\n",
      "Passyunk was unable to be matched\n",
      "Northern Liberties was unable to be matched\n",
      "Northum County Pennsylvania was unable to be matched\n",
      "Dauphincoy Pennsylvania was unable to be matched\n",
      "Cumb County Pennsylvania was unable to be matched\n",
      "German Town was unable to be matched\n",
      "The Northern Libert was unable to be matched\n",
      "Southwark was unable to be matched\n"
     ]
    }
   ],
   "source": [
    "final_cw = pd.DataFrame(columns = ['town', 'county', 'state'])\n",
    "list_of_states = ['CT', 'GA', 'MD', 'NC', 'NH', 'NJ',\n",
    "                  #'NY',\n",
    "                  'PA']\n",
    "for state in list_of_states:\n",
    "    print(\"\\n{} MATCHING \\n\".format(state))\n",
    "    # create list of towns for each state\n",
    "    towns = CD_all[CD_all['state'] == state][['town']].drop_duplicates()\n",
    "    towns = towns[towns['town'].apply(lambda x: not pd.isnull(x))]\n",
    "    # state crosswalk\n",
    "    state_cw = city_county_cw[city_county_cw['state'] == state]\n",
    "\n",
    "    # try initial direct town match\n",
    "    primary_dict, towns = directTownMatch(state_cw, towns)\n",
    "    if state == 'CT':\n",
    "        # try fuzzy string match merge  - match town column with crosswalk town column\n",
    "        unmatched_towns1 = towns[towns['county'].apply(lambda x: pd.isnull(x))]['town']\n",
    "        towns = fuzzyMatch(unmatched_towns1, towns, state_cw, primary_dict)\n",
    "\n",
    "        # modify towns that changed names - see note at very top\n",
    "        # then retry fuzzy string match with new town names\n",
    "        towns['town2'] = towns['town'].apply(lambda x: x.replace('Huntington', 'Shelton').replace('Chatham', 'East Hampton'))\n",
    "        unmatched_towns2 = towns[towns['county'].apply(lambda x: pd.isnull(x))]['town2']\n",
    "        towns = fuzzyMatch(unmatched_towns2, towns, state_cw, primary_dict, dict_matchcol ='primary_city', initial = False)\n",
    "        towns.drop('town2', axis = 1, inplace = True)\n",
    "\n",
    "    if state == 'GA':\n",
    "        # some town names are actually county names, try direct town-county match\n",
    "        towns = directCountyMatch(state_cw, towns)\n",
    "\n",
    "    if state == 'MD':\n",
    "        # some town names are actually county names, try direct town-county match\n",
    "        towns = directCountyMatch(state_cw, towns)\n",
    "\n",
    "        # some town names are actually county names, try direct town-county match - but with renamed strings\n",
    "        towns['town2'] = towns['town'].apply(lambda x: x.replace('Maryland', '').replace('Co ', 'County').strip())\n",
    "        towns = directCountyMatch(state_cw, towns, towncol = 'town2')\n",
    "\n",
    "        # try fuzzy string match with county names (compare county names to crosswalk county names)\n",
    "        towns['town2'] = towns['town'].apply(lambda x: x.replace('Maryland', '').replace('Co ', 'County').strip())\n",
    "        unmatched_towns2 = towns[towns['county'].apply(lambda x: pd.isnull(x))]['town2']\n",
    "        towns = fuzzyMatch(unmatched_towns2, towns, state_cw, primary_dict, dict_matchcol = 'county', initial = False, score_threshold = 86)\n",
    "\n",
    "        # try fuzzy string match with town names + string modifications (compare town names to crosswalk town names)\n",
    "        unmatched_towns2 = towns[towns['county'].apply(lambda x: pd.isnull(x))]['town2']\n",
    "        towns = fuzzyMatch(unmatched_towns2, towns, state_cw, primary_dict, initial = False)\n",
    "\n",
    "        # correct a matching\n",
    "        towns['county'] = towns['county'].apply(lambda x: x.replace('City', 'County') if not pd.isnull(x) else x)\n",
    "\n",
    "    if state == 'NC':\n",
    "        # some town names are actually county names, try direct town-county match\n",
    "        towns = directCountyMatch(state_cw, towns)\n",
    "\n",
    "        # try fuzzy string match merge - match town column with crosswalk town column\n",
    "        towns['town2'] = towns['town'].apply(lambda x: x.replace('North Carolina', '').replace('Tarborugh', 'Tarboro').strip())\n",
    "        unmatched_towns2 = towns[towns['county'].apply(lambda x: pd.isnull(x))]['town2']\n",
    "        towns = fuzzyMatch(unmatched_towns2, towns, state_cw, primary_dict, initial = False)\n",
    "\n",
    "        # manually fixing bug - already matched name won't drop\n",
    "        towns.loc[towns[towns['town'] == 'Halifax'].index, 'county'] = 'Halifax County'\n",
    "    if state == 'NH':\n",
    "        # try fuzzy string match merge - match town column with crosswalk town column\n",
    "        towns['town2'] = towns['town'].apply(lambda x: x.replace('State', '').replace('New Hampshire', '').replace('of ','').strip())\n",
    "        towns['town2'] = towns['town2'].apply(lambda x: x.replace('Rockingham', 'Rockingham County').strip())\n",
    "\n",
    "        unmatched_towns2 = towns[towns['county'].apply(lambda x: pd.isnull(x))]['town2']\n",
    "        towns = fuzzyMatch(unmatched_towns2, towns, state_cw, primary_dict, initial = False)\n",
    "\n",
    "        null_ind = towns[towns['county'].apply(lambda x: pd.isnull(x))].index\n",
    "        pdict, tn = directTownMatch(state_cw, towns.loc[null_ind], 'acceptable_cities')\n",
    "        towns.loc[null_ind] = tn\n",
    "\n",
    "        # some town names are actually county names, try direct town-county match\n",
    "        towns = directCountyMatch(state_cw, towns, 'town2')\n",
    "\n",
    "        # manual fixes\n",
    "        towns.loc[towns[towns['town'] == 'Brintwood'].index, 'county'] = 'Rockingham County'\n",
    "        towns.loc[towns[towns['town'] == 'Portsmouth New Hampshire'].index, 'county'] = 'Portsmouth County'\n",
    "    if state == 'NJ':\n",
    "        # try fuzzy string match merge - match town column with crosswalk town column\n",
    "        towns['town2'] = towns['town'].apply(lambda x: x.replace('New Jersey', '').strip())\n",
    "        unmatched_towns2 = towns[towns['county'].apply(lambda x: pd.isnull(x))]['town2']\n",
    "        towns = fuzzyMatch(unmatched_towns2, towns, state_cw, primary_dict, initial = False)\n",
    "\n",
    "        # some town names are actually county names, try direct town-county match\n",
    "        towns = directCountyMatch(state_cw, towns, 'town2')\n",
    "    if state == 'PA':\n",
    "        towns = directCountyMatch(state_cw, towns)\n",
    "\n",
    "        towns['town2'] = towns['town'].apply(lambda x: x.replace('Co ', 'County').replace('Delaware', 'Delaware County').strip())\n",
    "        towns['town2'] = towns['town2'].apply(lambda x: x.replace('Pennsylvania', '').replace('County County','County').strip())\n",
    "\n",
    "        # Blockley is now defunct\n",
    "        towns['town2'] = towns['town2'].apply(lambda x: x.replace('Blockley', 'Philadelphia').strip())\n",
    "        unmatched_towns2 = towns[towns['county'].apply(lambda x: pd.isnull(x))]['town2']\n",
    "        towns = directCountyMatch(state_cw, towns, 'town2')\n",
    "\n",
    "        unmatched_towns2 = towns[towns['county'].apply(lambda x: pd.isnull(x))]['town2']\n",
    "        towns = fuzzyMatch(unmatched_towns2, towns, state_cw, primary_dict, initial = False)\n",
    "\n",
    "    # print out all unmatched names\n",
    "    print(\"\\nFinal Unmatched Names\\n\")\n",
    "    t = towns[towns['county'].apply(lambda x: pd.isnull(x))]\n",
    "    for tn in t['town']:\n",
    "        print(\"{} was unable to be matched\".format(tn))\n",
    "\n",
    "#Charleston South Carolina (new name: Charleston South Carolina) -> South Heights in Beaver County\n",
    "#Delaware County Pennsylvania (new name: Delaware) -> Delaware Water Gap in Monroe County\n",
    "#Burlington New Jersey\n",
    "#Northumberland County Virginia\n",
    "#Chester Co\n",
    "    #towns = towns[towns['county'].apply(lambda x: not pd.isnull(x))]\n",
    "    #towns['state'] = state\n",
    "    #final_cw = pd.concat([final_cw, towns])"
   ],
   "metadata": {
    "collapsed": false,
    "pycharm": {
     "name": "#%%\n"
    }
   }
  },
  {
   "cell_type": "code",
   "execution_count": 267,
   "outputs": [
    {
     "data": {
      "text/plain": "Empty DataFrame\nColumns: [primary_city, acceptable_cities, unacceptable_cities, county, state]\nIndex: []",
      "text/html": "<div>\n<style scoped>\n    .dataframe tbody tr th:only-of-type {\n        vertical-align: middle;\n    }\n\n    .dataframe tbody tr th {\n        vertical-align: top;\n    }\n\n    .dataframe thead th {\n        text-align: right;\n    }\n</style>\n<table border=\"1\" class=\"dataframe\">\n  <thead>\n    <tr style=\"text-align: right;\">\n      <th></th>\n      <th>primary_city</th>\n      <th>acceptable_cities</th>\n      <th>unacceptable_cities</th>\n      <th>county</th>\n      <th>state</th>\n    </tr>\n  </thead>\n  <tbody>\n  </tbody>\n</table>\n</div>"
     },
     "execution_count": 267,
     "metadata": {},
     "output_type": "execute_result"
    }
   ],
   "source": [
    "Tulpehocken berks county\n"
   ],
   "metadata": {
    "collapsed": false,
    "pycharm": {
     "name": "#%%\n"
    }
   }
  },
  {
   "cell_type": "code",
   "execution_count": 261,
   "outputs": [
    {
     "data": {
      "text/plain": "                            town county                town2\n149                 Pennsylvania    NaN                     \n101                     Blockley    NaN             Blockley\n108            W Callisters Town    NaN    W Callisters Town\n177                  Tulpehocken    NaN          Tulpehocken\n215                    Armstrong    NaN            Armstrong\n293             Northumb Country    NaN     Northumb Country\n343            Northan Liberties    NaN    Northan Liberties\n501                  Borden Town    NaN          Borden Town\n539                  St Eustalia    NaN          St Eustalia\n583                     Passyunk    NaN             Passyunk\n603           Northern Liberties    NaN   Northern Liberties\n610  Northum County Pennsylvania    NaN       Northum County\n644      Dauphincoy Pennsylvania    NaN           Dauphincoy\n654     Cumb County Pennsylvania    NaN          Cumb County\n806                  German Town    NaN          German Town\n853          The Northern Libert    NaN  The Northern Libert\n958                    Southwark    NaN            Southwark",
      "text/html": "<div>\n<style scoped>\n    .dataframe tbody tr th:only-of-type {\n        vertical-align: middle;\n    }\n\n    .dataframe tbody tr th {\n        vertical-align: top;\n    }\n\n    .dataframe thead th {\n        text-align: right;\n    }\n</style>\n<table border=\"1\" class=\"dataframe\">\n  <thead>\n    <tr style=\"text-align: right;\">\n      <th></th>\n      <th>town</th>\n      <th>county</th>\n      <th>town2</th>\n    </tr>\n  </thead>\n  <tbody>\n    <tr>\n      <th>149</th>\n      <td>Pennsylvania</td>\n      <td>NaN</td>\n      <td></td>\n    </tr>\n    <tr>\n      <th>101</th>\n      <td>Blockley</td>\n      <td>NaN</td>\n      <td>Blockley</td>\n    </tr>\n    <tr>\n      <th>108</th>\n      <td>W Callisters Town</td>\n      <td>NaN</td>\n      <td>W Callisters Town</td>\n    </tr>\n    <tr>\n      <th>177</th>\n      <td>Tulpehocken</td>\n      <td>NaN</td>\n      <td>Tulpehocken</td>\n    </tr>\n    <tr>\n      <th>215</th>\n      <td>Armstrong</td>\n      <td>NaN</td>\n      <td>Armstrong</td>\n    </tr>\n    <tr>\n      <th>293</th>\n      <td>Northumb Country</td>\n      <td>NaN</td>\n      <td>Northumb Country</td>\n    </tr>\n    <tr>\n      <th>343</th>\n      <td>Northan Liberties</td>\n      <td>NaN</td>\n      <td>Northan Liberties</td>\n    </tr>\n    <tr>\n      <th>501</th>\n      <td>Borden Town</td>\n      <td>NaN</td>\n      <td>Borden Town</td>\n    </tr>\n    <tr>\n      <th>539</th>\n      <td>St Eustalia</td>\n      <td>NaN</td>\n      <td>St Eustalia</td>\n    </tr>\n    <tr>\n      <th>583</th>\n      <td>Passyunk</td>\n      <td>NaN</td>\n      <td>Passyunk</td>\n    </tr>\n    <tr>\n      <th>603</th>\n      <td>Northern Liberties</td>\n      <td>NaN</td>\n      <td>Northern Liberties</td>\n    </tr>\n    <tr>\n      <th>610</th>\n      <td>Northum County Pennsylvania</td>\n      <td>NaN</td>\n      <td>Northum County</td>\n    </tr>\n    <tr>\n      <th>644</th>\n      <td>Dauphincoy Pennsylvania</td>\n      <td>NaN</td>\n      <td>Dauphincoy</td>\n    </tr>\n    <tr>\n      <th>654</th>\n      <td>Cumb County Pennsylvania</td>\n      <td>NaN</td>\n      <td>Cumb County</td>\n    </tr>\n    <tr>\n      <th>806</th>\n      <td>German Town</td>\n      <td>NaN</td>\n      <td>German Town</td>\n    </tr>\n    <tr>\n      <th>853</th>\n      <td>The Northern Libert</td>\n      <td>NaN</td>\n      <td>The Northern Libert</td>\n    </tr>\n    <tr>\n      <th>958</th>\n      <td>Southwark</td>\n      <td>NaN</td>\n      <td>Southwark</td>\n    </tr>\n  </tbody>\n</table>\n</div>"
     },
     "execution_count": 261,
     "metadata": {},
     "output_type": "execute_result"
    }
   ],
   "source": [
    "towns[towns['county'].isnull()]"
   ],
   "metadata": {
    "collapsed": false,
    "pycharm": {
     "name": "#%%\n"
    }
   }
  }
 ],
 "metadata": {
  "kernelspec": {
   "display_name": "Python 3",
   "language": "python",
   "name": "python3"
  },
  "language_info": {
   "codemirror_mode": {
    "name": "ipython",
    "version": 2
   },
   "file_extension": ".py",
   "mimetype": "text/x-python",
   "name": "python",
   "nbconvert_exporter": "python",
   "pygments_lexer": "ipython2",
   "version": "2.7.6"
  }
 },
 "nbformat": 4,
 "nbformat_minor": 0
}